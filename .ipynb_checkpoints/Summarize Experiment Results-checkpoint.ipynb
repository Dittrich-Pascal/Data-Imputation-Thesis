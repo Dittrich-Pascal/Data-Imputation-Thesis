{
 "cells": [
  {
   "cell_type": "markdown",
   "id": "proud-approach",
   "metadata": {},
   "source": [
    "# Summarize Experiment Results\n",
    "\n",
    "This notebook collects the information from the single results files from the experiments\n",
    "\n"
   ]
  },
  {
   "cell_type": "code",
   "execution_count": 2,
   "id": "recent-revolution",
   "metadata": {},
   "outputs": [
    {
     "ename": "ModuleNotFoundError",
     "evalue": "No module named 'data_imputation_paper'",
     "output_type": "error",
     "traceback": [
      "\u001b[0;31m---------------------------------------------------------------------------\u001b[0m",
      "\u001b[0;31mModuleNotFoundError\u001b[0m                       Traceback (most recent call last)",
      "\u001b[0;32m/tmp/ipykernel_1044182/1834238518.py\u001b[0m in \u001b[0;36m<module>\u001b[0;34m\u001b[0m\n\u001b[1;32m     11\u001b[0m \u001b[0;34m\u001b[0m\u001b[0m\n\u001b[1;32m     12\u001b[0m \u001b[0;32mfrom\u001b[0m \u001b[0mpathlib\u001b[0m \u001b[0;32mimport\u001b[0m \u001b[0mPath\u001b[0m\u001b[0;34m\u001b[0m\u001b[0;34m\u001b[0m\u001b[0m\n\u001b[0;32m---> 13\u001b[0;31m \u001b[0;32mfrom\u001b[0m \u001b[0mdata_imputation_paper\u001b[0m\u001b[0;34m.\u001b[0m\u001b[0mexperiment\u001b[0m \u001b[0;32mimport\u001b[0m \u001b[0mread_experiment\u001b[0m\u001b[0;34m,\u001b[0m \u001b[0mread_csv_files\u001b[0m\u001b[0;34m\u001b[0m\u001b[0;34m\u001b[0m\u001b[0m\n\u001b[0m\u001b[1;32m     14\u001b[0m \u001b[0;32mfrom\u001b[0m \u001b[0mdata_imputation_paper\u001b[0m\u001b[0;34m.\u001b[0m\u001b[0mplotting\u001b[0m \u001b[0;32mimport\u001b[0m \u001b[0mplot_metric_vs_missing_fraction\u001b[0m\u001b[0;34m,\u001b[0m \u001b[0mplot_rank_vs_fraction_by_type\u001b[0m\u001b[0;34m,\u001b[0m \u001b[0mdraw_cat_box_plot\u001b[0m\u001b[0;34m\u001b[0m\u001b[0;34m\u001b[0m\u001b[0m\n\u001b[1;32m     15\u001b[0m \u001b[0;34m\u001b[0m\u001b[0m\n",
      "\u001b[0;31mModuleNotFoundError\u001b[0m: No module named 'data_imputation_paper'"
     ]
    }
   ],
   "source": [
    "import numpy as np\n",
    "import matplotlib as mpl\n",
    "import matplotlib.pyplot as plt\n",
    "import os\n",
    "import pandas as pd\n",
    "import re\n",
    "import seaborn as sns\n",
    "#import sys\n",
    "#sys.path.append('../')\n",
    "\n",
    "\n",
    "from pathlib import Path\n",
    "from src.data_imputation_paper.experiment import read_experiment, read_csv_files\n",
    "from src.data_imputation_paper.plotting import plot_metric_vs_missing_fraction, plot_rank_vs_fraction_by_type, draw_cat_box_plot\n",
    "\n",
    "%matplotlib inline\n",
    "\n",
    "%load_ext autoreload\n",
    "%autoreload 2"
   ]
  },
  {
   "cell_type": "markdown",
   "id": "silver-terrorism",
   "metadata": {},
   "source": [
    "## Settings"
   ]
  },
  {
   "cell_type": "code",
   "execution_count": 12,
   "id": "associate-fourth",
   "metadata": {},
   "outputs": [],
   "source": [
    "sns.set(style=\"whitegrid\")\n",
    "sns.set_context('paper', font_scale=1.5)\n",
    "mpl.rcParams['lines.linewidth'] = '2'"
   ]
  },
  {
   "cell_type": "code",
   "execution_count": 13,
   "id": "atlantic-leadership",
   "metadata": {},
   "outputs": [],
   "source": [
    "EXPERIMENT = \"corrupted_binary_experiment\"\n",
    "# Binary Classification\n",
    "# Multiclass Classification\n",
    "# Regression\n",
    "# binary_experiment\n",
    "\n",
    "EXPERIMENT_PATH = Path(f\"../results/{EXPERIMENT}/\")\n",
    "#EXPERIMENT_PATH = Path(\"../Code/results/{EXPERIMENT}/\")\n",
    "\n",
    "IMPUTE_RESULT_TYPE = \"impute_performance_mean\"\n",
    "FIGURES_PATH = Path(\"../paper/figures/\")\n",
    "\n",
    "CLF_METRIC = \"Categorical Columns\"\n",
    "REG_METRIC = \"Numerical Columns\"\n",
    "\n",
    "#CONFIDENCE_INTERVAL = 90"
   ]
  },
  {
   "cell_type": "markdown",
   "id": "hydraulic-avenue",
   "metadata": {},
   "source": [
    "## Import the data"
   ]
  },
  {
   "cell_type": "code",
   "execution_count": 14,
   "id": "beginning-aquarium",
   "metadata": {
    "scrolled": false
   },
   "outputs": [
    {
     "name": "stdout",
     "output_type": "stream",
     "text": [
      "CPU times: total: 1min 5s\n",
      "Wall time: 1min 59s\n"
     ]
    },
    {
     "data": {
      "text/html": [
       "<div>\n",
       "<style scoped>\n",
       "    .dataframe tbody tr th:only-of-type {\n",
       "        vertical-align: middle;\n",
       "    }\n",
       "\n",
       "    .dataframe tbody tr th {\n",
       "        vertical-align: top;\n",
       "    }\n",
       "\n",
       "    .dataframe thead th {\n",
       "        text-align: right;\n",
       "    }\n",
       "</style>\n",
       "<table border=\"1\" class=\"dataframe\">\n",
       "  <thead>\n",
       "    <tr style=\"text-align: right;\">\n",
       "      <th></th>\n",
       "      <th>experiment</th>\n",
       "      <th>imputer</th>\n",
       "      <th>task</th>\n",
       "      <th>missing_type</th>\n",
       "      <th>missing_fraction</th>\n",
       "      <th>strategy</th>\n",
       "      <th>column</th>\n",
       "      <th>result_type</th>\n",
       "      <th>metric</th>\n",
       "      <th>train</th>\n",
       "      <th>test</th>\n",
       "      <th>baseline</th>\n",
       "      <th>corrupted</th>\n",
       "      <th>imputed</th>\n",
       "    </tr>\n",
       "  </thead>\n",
       "  <tbody>\n",
       "    <tr>\n",
       "      <th>0</th>\n",
       "      <td>binary_experiment</td>\n",
       "      <td>ForestImputer</td>\n",
       "      <td>1046</td>\n",
       "      <td>MAR</td>\n",
       "      <td>0.01</td>\n",
       "      <td>single_all</td>\n",
       "      <td>end</td>\n",
       "      <td>impute_performance_std</td>\n",
       "      <td>MAE</td>\n",
       "      <td>2.409735e+04</td>\n",
       "      <td>2.768801e+05</td>\n",
       "      <td>NaN</td>\n",
       "      <td>NaN</td>\n",
       "      <td>NaN</td>\n",
       "    </tr>\n",
       "    <tr>\n",
       "      <th>1</th>\n",
       "      <td>binary_experiment</td>\n",
       "      <td>ForestImputer</td>\n",
       "      <td>1046</td>\n",
       "      <td>MAR</td>\n",
       "      <td>0.01</td>\n",
       "      <td>single_all</td>\n",
       "      <td>end</td>\n",
       "      <td>impute_performance_std</td>\n",
       "      <td>MSE</td>\n",
       "      <td>7.554731e+09</td>\n",
       "      <td>2.926401e+11</td>\n",
       "      <td>NaN</td>\n",
       "      <td>NaN</td>\n",
       "      <td>NaN</td>\n",
       "    </tr>\n",
       "    <tr>\n",
       "      <th>2</th>\n",
       "      <td>binary_experiment</td>\n",
       "      <td>ForestImputer</td>\n",
       "      <td>1046</td>\n",
       "      <td>MAR</td>\n",
       "      <td>0.01</td>\n",
       "      <td>single_all</td>\n",
       "      <td>end</td>\n",
       "      <td>impute_performance_std</td>\n",
       "      <td>RMSE</td>\n",
       "      <td>2.353026e+04</td>\n",
       "      <td>3.230515e+05</td>\n",
       "      <td>NaN</td>\n",
       "      <td>NaN</td>\n",
       "      <td>NaN</td>\n",
       "    </tr>\n",
       "    <tr>\n",
       "      <th>3</th>\n",
       "      <td>binary_experiment</td>\n",
       "      <td>ForestImputer</td>\n",
       "      <td>1046</td>\n",
       "      <td>MAR</td>\n",
       "      <td>0.01</td>\n",
       "      <td>single_single</td>\n",
       "      <td>end</td>\n",
       "      <td>impute_performance_std</td>\n",
       "      <td>MAE</td>\n",
       "      <td>4.085017e+04</td>\n",
       "      <td>8.965221e+04</td>\n",
       "      <td>NaN</td>\n",
       "      <td>NaN</td>\n",
       "      <td>NaN</td>\n",
       "    </tr>\n",
       "    <tr>\n",
       "      <th>4</th>\n",
       "      <td>binary_experiment</td>\n",
       "      <td>ForestImputer</td>\n",
       "      <td>1046</td>\n",
       "      <td>MAR</td>\n",
       "      <td>0.01</td>\n",
       "      <td>single_single</td>\n",
       "      <td>end</td>\n",
       "      <td>impute_performance_std</td>\n",
       "      <td>MSE</td>\n",
       "      <td>1.265874e+10</td>\n",
       "      <td>6.092565e+10</td>\n",
       "      <td>NaN</td>\n",
       "      <td>NaN</td>\n",
       "      <td>NaN</td>\n",
       "    </tr>\n",
       "  </tbody>\n",
       "</table>\n",
       "</div>"
      ],
      "text/plain": [
       "          experiment        imputer  task missing_type  missing_fraction  \\\n",
       "0  binary_experiment  ForestImputer  1046          MAR              0.01   \n",
       "1  binary_experiment  ForestImputer  1046          MAR              0.01   \n",
       "2  binary_experiment  ForestImputer  1046          MAR              0.01   \n",
       "3  binary_experiment  ForestImputer  1046          MAR              0.01   \n",
       "4  binary_experiment  ForestImputer  1046          MAR              0.01   \n",
       "\n",
       "        strategy column             result_type metric         train  \\\n",
       "0     single_all    end  impute_performance_std    MAE  2.409735e+04   \n",
       "1     single_all    end  impute_performance_std    MSE  7.554731e+09   \n",
       "2     single_all    end  impute_performance_std   RMSE  2.353026e+04   \n",
       "3  single_single    end  impute_performance_std    MAE  4.085017e+04   \n",
       "4  single_single    end  impute_performance_std    MSE  1.265874e+10   \n",
       "\n",
       "           test  baseline  corrupted  imputed  \n",
       "0  2.768801e+05       NaN        NaN      NaN  \n",
       "1  2.926401e+11       NaN        NaN      NaN  \n",
       "2  3.230515e+05       NaN        NaN      NaN  \n",
       "3  8.965221e+04       NaN        NaN      NaN  \n",
       "4  6.092565e+10       NaN        NaN      NaN  "
      ]
     },
     "execution_count": 14,
     "metadata": {},
     "output_type": "execute_result"
    }
   ],
   "source": [
    "%%time\n",
    "\n",
    "results = read_csv_files(read_experiment(EXPERIMENT_PATH), read_details=False)\n",
    "results.head()"
   ]
  },
  {
   "cell_type": "code",
   "execution_count": 15,
   "id": "9737280f",
   "metadata": {
    "scrolled": false
   },
   "outputs": [],
   "source": [
    "results.to_csv('binary_classification.csv', index=False)\n",
    "\n",
    "# binary_classification.csv  /  binary_classification_corrupted.csv\n",
    "# multiclass_classification.csv  /  multiclass_classification_corrupted.csv\n",
    "# regression.csv  /  regression_corrupted.csv"
   ]
  },
  {
   "cell_type": "code",
   "execution_count": null,
   "id": "collectible-syndication",
   "metadata": {},
   "outputs": [],
   "source": []
  },
  {
   "cell_type": "code",
   "execution_count": null,
   "id": "divided-guinea",
   "metadata": {},
   "outputs": [],
   "source": []
  },
  {
   "cell_type": "code",
   "execution_count": null,
   "id": "passive-highlight",
   "metadata": {},
   "outputs": [],
   "source": []
  }
 ],
 "metadata": {
  "kernelspec": {
   "display_name": "Python 3 (ipykernel)",
   "language": "python",
   "name": "python3"
  },
  "language_info": {
   "codemirror_mode": {
    "name": "ipython",
    "version": 3
   },
   "file_extension": ".py",
   "mimetype": "text/x-python",
   "name": "python",
   "nbconvert_exporter": "python",
   "pygments_lexer": "ipython3",
   "version": "3.9.13"
  }
 },
 "nbformat": 4,
 "nbformat_minor": 5
}
