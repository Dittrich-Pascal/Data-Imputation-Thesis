{
 "cells": [
  {
   "cell_type": "markdown",
   "id": "accessory-identity",
   "metadata": {},
   "source": [
    "# Visualize Results: Downstream Performance - Multiclass Classification Fully Observed Experiments\n",
    "\n",
    "This notebook should answer the questions: *Does imputation lead to better downstream performances?*\n",
    "\n",
    "Data needs to be preprocessed with other notebook, her we only import two csv files with raw data regarding the results of the experiment and information about the used datasets!\n",
    "\n",
    "## Notebook Structure \n",
    "\n",
    "* Application Scenario 2 - Downstream Performance  \n",
    "   * Categorical  Columns (Classification)\n",
    "   * Numerical Columns (Regression)\n",
    "   * Heterogenous Columns (Classification and Regression Combined)"
   ]
  },
  {
   "cell_type": "code",
   "execution_count": 139,
   "id": "broad-cliff",
   "metadata": {},
   "outputs": [
    {
     "name": "stdout",
     "output_type": "stream",
     "text": [
      "The autoreload extension is already loaded. To reload it, use:\n",
      "  %reload_ext autoreload\n"
     ]
    }
   ],
   "source": [
    "import numpy as np\n",
    "import matplotlib as mpl\n",
    "import matplotlib.pyplot as plt\n",
    "import os\n",
    "import pandas as pd\n",
    "import re\n",
    "import seaborn as sns\n",
    "\n",
    "from pathlib import Path\n",
    "\n",
    "import plotly as py\n",
    "import plotly.express as px\n",
    "import plotly.graph_objects as go\n",
    "import xarray as xr\n",
    "\n",
    "\n",
    "%matplotlib inline\n",
    "\n",
    "%load_ext autoreload\n",
    "%autoreload 2"
   ]
  },
  {
   "cell_type": "markdown",
   "id": "intermediate-province",
   "metadata": {},
   "source": [
    "## Settings"
   ]
  },
  {
   "cell_type": "code",
   "execution_count": 140,
   "id": "31ecf520",
   "metadata": {},
   "outputs": [],
   "source": [
    "sns.set(style=\"whitegrid\")\n",
    "sns.set_context('paper', font_scale=1.5)\n",
    "mpl.rcParams['lines.linewidth'] = '2'"
   ]
  },
  {
   "cell_type": "code",
   "execution_count": 141,
   "id": "unlimited-petersburg",
   "metadata": {},
   "outputs": [],
   "source": [
    "EXPERIMENT = \"binary_experiment\"\n",
    "\n",
    "#EXPERIMENT_PATH = Path(f\"../results/{EXPERIMENT}/\")\n",
    "\n",
    "CLF_METRIC = \"Classification Tasks\"\n",
    "REG_METRIC = \"Regression Tasks\"\n",
    "\n",
    "DOWNSTREAM_RESULT_TYPE = \"downstream_performance_mean\"\n",
    "IMPUTE_RESULT_TYPE = \"impute_performance_mean\"\n",
    "\n",
    "FIGURES_PATH = Path(f\"../paper/figures/\")"
   ]
  },
  {
   "cell_type": "markdown",
   "id": "intensive-introduction",
   "metadata": {},
   "source": [
    "## Data Preparation"
   ]
  },
  {
   "cell_type": "code",
   "execution_count": 142,
   "id": "012aca62",
   "metadata": {},
   "outputs": [],
   "source": [
    "#read results.csv file here!\n",
    "\n",
    "# Pick whether you want to analyze the \"Regression\" Experiment oder the \"Regression Corrupted\" Experiment\n",
    "\n",
    "#results = pd.read_csv('regression_corrupted.csv')\n",
    "results = pd.read_csv('multiclass_classification.csv')\n",
    "# Preresults.head()"
   ]
  },
  {
   "cell_type": "code",
   "execution_count": 143,
   "id": "severe-retreat",
   "metadata": {},
   "outputs": [
    {
     "name": "stderr",
     "output_type": "stream",
     "text": [
      "C:\\Users\\dittr\\AppData\\Local\\Temp\\ipykernel_21424\\3401284833.py:7: SettingWithCopyWarning:\n",
      "\n",
      "\n",
      "A value is trying to be set on a copy of a slice from a DataFrame\n",
      "\n",
      "See the caveats in the documentation: https://pandas.pydata.org/pandas-docs/stable/user_guide/indexing.html#returning-a-view-versus-a-copy\n",
      "\n"
     ]
    },
    {
     "data": {
      "text/plain": [
       "(93, 11)"
      ]
     },
     "execution_count": 143,
     "metadata": {},
     "output_type": "execute_result"
    }
   ],
   "source": [
    "# Filtering the relevant data for downstream analysis\n",
    "\n",
    "na_impute_results = results[\n",
    "    (results[\"result_type\"] == IMPUTE_RESULT_TYPE) & \n",
    "    (results[\"metric\"].isin([\"F1_macro\", \"RMSE\"]))\n",
    "]\n",
    "na_impute_results.drop([\"baseline\", \"corrupted\", \"imputed\"], axis=1, inplace=True)\n",
    "na_impute_results = na_impute_results[na_impute_results.isna().any(axis=1)]\n",
    "na_impute_results.shape"
   ]
  },
  {
   "cell_type": "code",
   "execution_count": 144,
   "id": "static-treatment",
   "metadata": {},
   "outputs": [],
   "source": [
    "# check if strategy type is correct!\n",
    "STRATEGY_TYPE = \"single_single\"\n",
    "\n",
    "downstream_results = results[\n",
    "    (results[\"result_type\"] == DOWNSTREAM_RESULT_TYPE) & \n",
    "    (results[\"metric\"].isin([\"F1_macro\", \"RMSE\"]) &\n",
    "    (results[\"strategy\"] == STRATEGY_TYPE))\n",
    "]\n",
    "\n",
    "# remove experiments where imputation failed\n",
    "downstream_results = downstream_results.merge(\n",
    "    na_impute_results,\n",
    "    how = \"left\",\n",
    "    validate = \"one_to_one\",\n",
    "    indicator = True,\n",
    "    suffixes=(\"\", \"_imp\"),\n",
    "    on = [\"experiment\", \"imputer\", \"task\", \"missing_type\", \"missing_fraction\", \"strategy\", \"column\"]\n",
    ")\n",
    "downstream_results = downstream_results[downstream_results[\"_merge\"]==\"left_only\"]\n",
    "\n",
    "assert len(results[\"strategy\"].unique()) == 2\n",
    "downstream_results.drop([\"experiment\", \"strategy\", \"result_type_imp\", \"metric_imp\", \"train\", \"test\", \"train_imp\", \"test_imp\", \"_merge\"], axis=1, inplace=True)\n",
    "\n",
    "downstream_results = downstream_results.rename(\n",
    "    {\n",
    "        \"imputer\": \"Imputation_Method\",\n",
    "        \"task\": \"Task\",\n",
    "        \"missing_type\": \"Missing Type\",\n",
    "        \"missing_fraction\": \"Missing Fraction\",\n",
    "        \"column\": \"Column\",\n",
    "        \"baseline\": \"Baseline\",\n",
    "        \"imputed\": \"Imputed\",\n",
    "        \"corrupted\": \"Corrupted\"\n",
    "    },\n",
    "    axis = 1\n",
    ")"
   ]
  },
  {
   "cell_type": "code",
   "execution_count": 145,
   "id": "suitable-leonard",
   "metadata": {},
   "outputs": [
    {
     "data": {
      "text/html": [
       "<div>\n",
       "<style scoped>\n",
       "    .dataframe tbody tr th:only-of-type {\n",
       "        vertical-align: middle;\n",
       "    }\n",
       "\n",
       "    .dataframe tbody tr th {\n",
       "        vertical-align: top;\n",
       "    }\n",
       "\n",
       "    .dataframe thead th {\n",
       "        text-align: right;\n",
       "    }\n",
       "</style>\n",
       "<table border=\"1\" class=\"dataframe\">\n",
       "  <thead>\n",
       "    <tr style=\"text-align: right;\">\n",
       "      <th></th>\n",
       "      <th>Imputation_Method</th>\n",
       "      <th>Task</th>\n",
       "      <th>Missing Type</th>\n",
       "      <th>Missing Fraction</th>\n",
       "      <th>Column</th>\n",
       "      <th>result_type</th>\n",
       "      <th>metric</th>\n",
       "      <th>Baseline</th>\n",
       "      <th>Corrupted</th>\n",
       "      <th>Imputed</th>\n",
       "    </tr>\n",
       "  </thead>\n",
       "  <tbody>\n",
       "    <tr>\n",
       "      <th>0</th>\n",
       "      <td>Discriminative DL</td>\n",
       "      <td>1459</td>\n",
       "      <td>MAR</td>\n",
       "      <td>0.01</td>\n",
       "      <td>V7</td>\n",
       "      <td>downstream_performance_mean</td>\n",
       "      <td>Classification Tasks</td>\n",
       "      <td>0.316824</td>\n",
       "      <td>0.314698</td>\n",
       "      <td>0.317027</td>\n",
       "    </tr>\n",
       "    <tr>\n",
       "      <th>1</th>\n",
       "      <td>Discriminative DL</td>\n",
       "      <td>1459</td>\n",
       "      <td>MAR</td>\n",
       "      <td>0.10</td>\n",
       "      <td>V7</td>\n",
       "      <td>downstream_performance_mean</td>\n",
       "      <td>Classification Tasks</td>\n",
       "      <td>0.316824</td>\n",
       "      <td>0.283957</td>\n",
       "      <td>0.313391</td>\n",
       "    </tr>\n",
       "    <tr>\n",
       "      <th>2</th>\n",
       "      <td>Discriminative DL</td>\n",
       "      <td>1459</td>\n",
       "      <td>MAR</td>\n",
       "      <td>0.30</td>\n",
       "      <td>V7</td>\n",
       "      <td>downstream_performance_mean</td>\n",
       "      <td>Classification Tasks</td>\n",
       "      <td>0.316824</td>\n",
       "      <td>0.235809</td>\n",
       "      <td>0.307565</td>\n",
       "    </tr>\n",
       "    <tr>\n",
       "      <th>3</th>\n",
       "      <td>Discriminative DL</td>\n",
       "      <td>1459</td>\n",
       "      <td>MAR</td>\n",
       "      <td>0.50</td>\n",
       "      <td>V7</td>\n",
       "      <td>downstream_performance_mean</td>\n",
       "      <td>Classification Tasks</td>\n",
       "      <td>0.316824</td>\n",
       "      <td>0.195967</td>\n",
       "      <td>0.322023</td>\n",
       "    </tr>\n",
       "    <tr>\n",
       "      <th>4</th>\n",
       "      <td>Discriminative DL</td>\n",
       "      <td>1459</td>\n",
       "      <td>MCAR</td>\n",
       "      <td>0.01</td>\n",
       "      <td>V7</td>\n",
       "      <td>downstream_performance_mean</td>\n",
       "      <td>Classification Tasks</td>\n",
       "      <td>0.316824</td>\n",
       "      <td>0.313686</td>\n",
       "      <td>0.317737</td>\n",
       "    </tr>\n",
       "    <tr>\n",
       "      <th>...</th>\n",
       "      <td>...</td>\n",
       "      <td>...</td>\n",
       "      <td>...</td>\n",
       "      <td>...</td>\n",
       "      <td>...</td>\n",
       "      <td>...</td>\n",
       "      <td>...</td>\n",
       "      <td>...</td>\n",
       "      <td>...</td>\n",
       "      <td>...</td>\n",
       "    </tr>\n",
       "    <tr>\n",
       "      <th>1218</th>\n",
       "      <td>VAE</td>\n",
       "      <td>6</td>\n",
       "      <td>MCAR</td>\n",
       "      <td>0.50</td>\n",
       "      <td>x-box</td>\n",
       "      <td>downstream_performance_mean</td>\n",
       "      <td>Classification Tasks</td>\n",
       "      <td>0.722137</td>\n",
       "      <td>0.671203</td>\n",
       "      <td>0.713386</td>\n",
       "    </tr>\n",
       "    <tr>\n",
       "      <th>1219</th>\n",
       "      <td>VAE</td>\n",
       "      <td>6</td>\n",
       "      <td>MNAR</td>\n",
       "      <td>0.01</td>\n",
       "      <td>x-box</td>\n",
       "      <td>downstream_performance_mean</td>\n",
       "      <td>Classification Tasks</td>\n",
       "      <td>0.722137</td>\n",
       "      <td>0.721082</td>\n",
       "      <td>0.721990</td>\n",
       "    </tr>\n",
       "    <tr>\n",
       "      <th>1220</th>\n",
       "      <td>VAE</td>\n",
       "      <td>6</td>\n",
       "      <td>MNAR</td>\n",
       "      <td>0.10</td>\n",
       "      <td>x-box</td>\n",
       "      <td>downstream_performance_mean</td>\n",
       "      <td>Classification Tasks</td>\n",
       "      <td>0.722137</td>\n",
       "      <td>0.707826</td>\n",
       "      <td>0.721241</td>\n",
       "    </tr>\n",
       "    <tr>\n",
       "      <th>1221</th>\n",
       "      <td>VAE</td>\n",
       "      <td>6</td>\n",
       "      <td>MNAR</td>\n",
       "      <td>0.30</td>\n",
       "      <td>x-box</td>\n",
       "      <td>downstream_performance_mean</td>\n",
       "      <td>Classification Tasks</td>\n",
       "      <td>0.722137</td>\n",
       "      <td>0.692779</td>\n",
       "      <td>0.718277</td>\n",
       "    </tr>\n",
       "    <tr>\n",
       "      <th>1222</th>\n",
       "      <td>VAE</td>\n",
       "      <td>6</td>\n",
       "      <td>MNAR</td>\n",
       "      <td>0.50</td>\n",
       "      <td>x-box</td>\n",
       "      <td>downstream_performance_mean</td>\n",
       "      <td>Classification Tasks</td>\n",
       "      <td>0.722137</td>\n",
       "      <td>0.668760</td>\n",
       "      <td>0.720856</td>\n",
       "    </tr>\n",
       "  </tbody>\n",
       "</table>\n",
       "<p>1178 rows × 10 columns</p>\n",
       "</div>"
      ],
      "text/plain": [
       "      Imputation_Method  Task Missing Type  Missing Fraction Column  \\\n",
       "0     Discriminative DL  1459          MAR              0.01     V7   \n",
       "1     Discriminative DL  1459          MAR              0.10     V7   \n",
       "2     Discriminative DL  1459          MAR              0.30     V7   \n",
       "3     Discriminative DL  1459          MAR              0.50     V7   \n",
       "4     Discriminative DL  1459         MCAR              0.01     V7   \n",
       "...                 ...   ...          ...               ...    ...   \n",
       "1218                VAE     6         MCAR              0.50  x-box   \n",
       "1219                VAE     6         MNAR              0.01  x-box   \n",
       "1220                VAE     6         MNAR              0.10  x-box   \n",
       "1221                VAE     6         MNAR              0.30  x-box   \n",
       "1222                VAE     6         MNAR              0.50  x-box   \n",
       "\n",
       "                      result_type                metric  Baseline  Corrupted  \\\n",
       "0     downstream_performance_mean  Classification Tasks  0.316824   0.314698   \n",
       "1     downstream_performance_mean  Classification Tasks  0.316824   0.283957   \n",
       "2     downstream_performance_mean  Classification Tasks  0.316824   0.235809   \n",
       "3     downstream_performance_mean  Classification Tasks  0.316824   0.195967   \n",
       "4     downstream_performance_mean  Classification Tasks  0.316824   0.313686   \n",
       "...                           ...                   ...       ...        ...   \n",
       "1218  downstream_performance_mean  Classification Tasks  0.722137   0.671203   \n",
       "1219  downstream_performance_mean  Classification Tasks  0.722137   0.721082   \n",
       "1220  downstream_performance_mean  Classification Tasks  0.722137   0.707826   \n",
       "1221  downstream_performance_mean  Classification Tasks  0.722137   0.692779   \n",
       "1222  downstream_performance_mean  Classification Tasks  0.722137   0.668760   \n",
       "\n",
       "       Imputed  \n",
       "0     0.317027  \n",
       "1     0.313391  \n",
       "2     0.307565  \n",
       "3     0.322023  \n",
       "4     0.317737  \n",
       "...        ...  \n",
       "1218  0.713386  \n",
       "1219  0.721990  \n",
       "1220  0.721241  \n",
       "1221  0.718277  \n",
       "1222  0.720856  \n",
       "\n",
       "[1178 rows x 10 columns]"
      ]
     },
     "execution_count": 145,
     "metadata": {},
     "output_type": "execute_result"
    }
   ],
   "source": [
    "rename_imputer_dict = {\n",
    "    \"ModeImputer\": \"Mean/Mode\",\n",
    "    \"KNNImputer\": \"KNN\",\n",
    "    \"ForestImputer\": \"Random Forest\",\n",
    "    \"AutoKerasImputer\": \"Discriminative DL\",\n",
    "    \"VAEImputer\": \"VAE\",\n",
    "    \"GAINImputer\": \"GAIN\"    \n",
    "}\n",
    "\n",
    "rename_metric_dict = {\n",
    "    \"F1_macro\": CLF_METRIC,\n",
    "    \"RMSE\": REG_METRIC\n",
    "}\n",
    "\n",
    "downstream_results = downstream_results.replace(rename_imputer_dict)\n",
    "downstream_results = downstream_results.replace(rename_metric_dict)\n",
    "\n",
    "downstream_results"
   ]
  },
  {
   "cell_type": "markdown",
   "id": "satisfactory-acoustic",
   "metadata": {},
   "source": [
    "### Robustness: check which imputers yielded `NaN`values"
   ]
  },
  {
   "cell_type": "code",
   "execution_count": 146,
   "id": "choice-williams",
   "metadata": {},
   "outputs": [],
   "source": [
    "for col in downstream_results.columns:\n",
    "    na_sum = downstream_results[col].isna().sum()\n",
    "    if na_sum > 0:\n",
    "        print(\"-----\" * 10)        \n",
    "        print(col, na_sum)\n",
    "        print(\"-----\" * 10)        \n",
    "        na_idx = downstream_results[col].isna()\n",
    "        print(downstream_results.loc[na_idx, \"Imputation Method\"].value_counts(dropna=False))\n",
    "        print(\"\\n\")"
   ]
  },
  {
   "cell_type": "markdown",
   "id": "common-terry",
   "metadata": {},
   "source": [
    "## Compute Downstream Performance relative to Baseline"
   ]
  },
  {
   "cell_type": "code",
   "execution_count": 147,
   "id": "permanent-gravity",
   "metadata": {},
   "outputs": [],
   "source": [
    "clf_row_idx = downstream_results[\"metric\"] == CLF_METRIC\n",
    "reg_row_idx = downstream_results[\"metric\"] == REG_METRIC"
   ]
  },
  {
   "cell_type": "code",
   "execution_count": 148,
   "id": "quick-punishment",
   "metadata": {},
   "outputs": [
    {
     "data": {
      "text/html": [
       "<div>\n",
       "<style scoped>\n",
       "    .dataframe tbody tr th:only-of-type {\n",
       "        vertical-align: middle;\n",
       "    }\n",
       "\n",
       "    .dataframe tbody tr th {\n",
       "        vertical-align: top;\n",
       "    }\n",
       "\n",
       "    .dataframe thead th {\n",
       "        text-align: right;\n",
       "    }\n",
       "</style>\n",
       "<table border=\"1\" class=\"dataframe\">\n",
       "  <thead>\n",
       "    <tr style=\"text-align: right;\">\n",
       "      <th></th>\n",
       "      <th>Imputation_Method</th>\n",
       "      <th>Task</th>\n",
       "      <th>Missing Type</th>\n",
       "      <th>Missing Fraction</th>\n",
       "      <th>Column</th>\n",
       "      <th>result_type</th>\n",
       "      <th>metric</th>\n",
       "      <th>Baseline</th>\n",
       "      <th>Corrupted</th>\n",
       "      <th>Imputed</th>\n",
       "      <th>Improvement</th>\n",
       "    </tr>\n",
       "  </thead>\n",
       "  <tbody>\n",
       "    <tr>\n",
       "      <th>0</th>\n",
       "      <td>Discriminative DL</td>\n",
       "      <td>1459</td>\n",
       "      <td>MAR</td>\n",
       "      <td>0.01</td>\n",
       "      <td>V7</td>\n",
       "      <td>downstream_performance_mean</td>\n",
       "      <td>Classification Tasks</td>\n",
       "      <td>0.316824</td>\n",
       "      <td>0.314698</td>\n",
       "      <td>0.317027</td>\n",
       "      <td>0.007353</td>\n",
       "    </tr>\n",
       "    <tr>\n",
       "      <th>1</th>\n",
       "      <td>Discriminative DL</td>\n",
       "      <td>1459</td>\n",
       "      <td>MAR</td>\n",
       "      <td>0.10</td>\n",
       "      <td>V7</td>\n",
       "      <td>downstream_performance_mean</td>\n",
       "      <td>Classification Tasks</td>\n",
       "      <td>0.316824</td>\n",
       "      <td>0.283957</td>\n",
       "      <td>0.313391</td>\n",
       "      <td>0.092903</td>\n",
       "    </tr>\n",
       "    <tr>\n",
       "      <th>2</th>\n",
       "      <td>Discriminative DL</td>\n",
       "      <td>1459</td>\n",
       "      <td>MAR</td>\n",
       "      <td>0.30</td>\n",
       "      <td>V7</td>\n",
       "      <td>downstream_performance_mean</td>\n",
       "      <td>Classification Tasks</td>\n",
       "      <td>0.316824</td>\n",
       "      <td>0.235809</td>\n",
       "      <td>0.307565</td>\n",
       "      <td>0.226487</td>\n",
       "    </tr>\n",
       "    <tr>\n",
       "      <th>3</th>\n",
       "      <td>Discriminative DL</td>\n",
       "      <td>1459</td>\n",
       "      <td>MAR</td>\n",
       "      <td>0.50</td>\n",
       "      <td>V7</td>\n",
       "      <td>downstream_performance_mean</td>\n",
       "      <td>Classification Tasks</td>\n",
       "      <td>0.316824</td>\n",
       "      <td>0.195967</td>\n",
       "      <td>0.322023</td>\n",
       "      <td>0.397874</td>\n",
       "    </tr>\n",
       "    <tr>\n",
       "      <th>4</th>\n",
       "      <td>Discriminative DL</td>\n",
       "      <td>1459</td>\n",
       "      <td>MCAR</td>\n",
       "      <td>0.01</td>\n",
       "      <td>V7</td>\n",
       "      <td>downstream_performance_mean</td>\n",
       "      <td>Classification Tasks</td>\n",
       "      <td>0.316824</td>\n",
       "      <td>0.313686</td>\n",
       "      <td>0.317737</td>\n",
       "      <td>0.012786</td>\n",
       "    </tr>\n",
       "  </tbody>\n",
       "</table>\n",
       "</div>"
      ],
      "text/plain": [
       "   Imputation_Method  Task Missing Type  Missing Fraction Column  \\\n",
       "0  Discriminative DL  1459          MAR              0.01     V7   \n",
       "1  Discriminative DL  1459          MAR              0.10     V7   \n",
       "2  Discriminative DL  1459          MAR              0.30     V7   \n",
       "3  Discriminative DL  1459          MAR              0.50     V7   \n",
       "4  Discriminative DL  1459         MCAR              0.01     V7   \n",
       "\n",
       "                   result_type                metric  Baseline  Corrupted  \\\n",
       "0  downstream_performance_mean  Classification Tasks  0.316824   0.314698   \n",
       "1  downstream_performance_mean  Classification Tasks  0.316824   0.283957   \n",
       "2  downstream_performance_mean  Classification Tasks  0.316824   0.235809   \n",
       "3  downstream_performance_mean  Classification Tasks  0.316824   0.195967   \n",
       "4  downstream_performance_mean  Classification Tasks  0.316824   0.313686   \n",
       "\n",
       "    Imputed  Improvement  \n",
       "0  0.317027     0.007353  \n",
       "1  0.313391     0.092903  \n",
       "2  0.307565     0.226487  \n",
       "3  0.322023     0.397874  \n",
       "4  0.317737     0.012786  "
      ]
     },
     "execution_count": 148,
     "metadata": {},
     "output_type": "execute_result"
    }
   ],
   "source": [
    "downstream_results[\"Improvement\"]   = (downstream_results[\"Imputed\"] - downstream_results[\"Corrupted\"]  ) / downstream_results[\"Baseline\"]\n",
    "downstream_results.loc[reg_row_idx, \"Improvement\"]   = downstream_results.loc[reg_row_idx, \"Improvement\"]   * -1\n",
    "\n",
    "#mar001.drop([\"Missing Type\", \"Missing Fraction\", \"Column\", \"result_type\", \"metric\", \"Baseline\", \"Imputed\", \"Corrupted\", \"Unnamed: 0\"], axis=1, inplace=True)\n",
    "\n",
    "#print(downstream_results)\n",
    "#downstream_results.to_csv('downstream_results.csv')\n",
    "downstream_results.head()"
   ]
  },
  {
   "cell_type": "markdown",
   "id": "348b244b",
   "metadata": {},
   "source": [
    "## Adding Dataset Info, Sorting and Ranking"
   ]
  },
  {
   "cell_type": "code",
   "execution_count": 149,
   "id": "de457480",
   "metadata": {},
   "outputs": [
    {
     "data": {
      "text/html": [
       "<div>\n",
       "<style scoped>\n",
       "    .dataframe tbody tr th:only-of-type {\n",
       "        vertical-align: middle;\n",
       "    }\n",
       "\n",
       "    .dataframe tbody tr th {\n",
       "        vertical-align: top;\n",
       "    }\n",
       "\n",
       "    .dataframe thead th {\n",
       "        text-align: right;\n",
       "    }\n",
       "</style>\n",
       "<table border=\"1\" class=\"dataframe\">\n",
       "  <thead>\n",
       "    <tr style=\"text-align: right;\">\n",
       "      <th></th>\n",
       "      <th>Imputation_Method</th>\n",
       "      <th>Task</th>\n",
       "      <th>Missing Type</th>\n",
       "      <th>Missing Fraction</th>\n",
       "      <th>Column</th>\n",
       "      <th>result_type</th>\n",
       "      <th>metric</th>\n",
       "      <th>Baseline</th>\n",
       "      <th>Corrupted</th>\n",
       "      <th>Imputed</th>\n",
       "      <th>Improvement</th>\n",
       "    </tr>\n",
       "  </thead>\n",
       "  <tbody>\n",
       "    <tr>\n",
       "      <th>1211</th>\n",
       "      <td>VAE</td>\n",
       "      <td>6</td>\n",
       "      <td>MAR</td>\n",
       "      <td>0.01</td>\n",
       "      <td>x-box</td>\n",
       "      <td>downstream_performance_mean</td>\n",
       "      <td>Classification Tasks</td>\n",
       "      <td>0.722137</td>\n",
       "      <td>0.721942</td>\n",
       "      <td>0.721804</td>\n",
       "      <td>-0.000192</td>\n",
       "    </tr>\n",
       "    <tr>\n",
       "      <th>191</th>\n",
       "      <td>Discriminative DL</td>\n",
       "      <td>6</td>\n",
       "      <td>MAR</td>\n",
       "      <td>0.01</td>\n",
       "      <td>x-box</td>\n",
       "      <td>downstream_performance_mean</td>\n",
       "      <td>Classification Tasks</td>\n",
       "      <td>0.722137</td>\n",
       "      <td>0.721631</td>\n",
       "      <td>0.722056</td>\n",
       "      <td>0.000588</td>\n",
       "    </tr>\n",
       "    <tr>\n",
       "      <th>395</th>\n",
       "      <td>Random Forest</td>\n",
       "      <td>6</td>\n",
       "      <td>MAR</td>\n",
       "      <td>0.01</td>\n",
       "      <td>x-box</td>\n",
       "      <td>downstream_performance_mean</td>\n",
       "      <td>Classification Tasks</td>\n",
       "      <td>0.722137</td>\n",
       "      <td>0.721506</td>\n",
       "      <td>0.722144</td>\n",
       "      <td>0.000884</td>\n",
       "    </tr>\n",
       "    <tr>\n",
       "      <th>1007</th>\n",
       "      <td>Mean/Mode</td>\n",
       "      <td>6</td>\n",
       "      <td>MAR</td>\n",
       "      <td>0.01</td>\n",
       "      <td>x-box</td>\n",
       "      <td>downstream_performance_mean</td>\n",
       "      <td>Classification Tasks</td>\n",
       "      <td>0.722137</td>\n",
       "      <td>0.720902</td>\n",
       "      <td>0.721964</td>\n",
       "      <td>0.001471</td>\n",
       "    </tr>\n",
       "    <tr>\n",
       "      <th>803</th>\n",
       "      <td>KNN</td>\n",
       "      <td>6</td>\n",
       "      <td>MAR</td>\n",
       "      <td>0.01</td>\n",
       "      <td>x-box</td>\n",
       "      <td>downstream_performance_mean</td>\n",
       "      <td>Classification Tasks</td>\n",
       "      <td>0.722137</td>\n",
       "      <td>0.720294</td>\n",
       "      <td>0.722247</td>\n",
       "      <td>0.002704</td>\n",
       "    </tr>\n",
       "  </tbody>\n",
       "</table>\n",
       "</div>"
      ],
      "text/plain": [
       "      Imputation_Method  Task Missing Type  Missing Fraction Column  \\\n",
       "1211                VAE     6          MAR              0.01  x-box   \n",
       "191   Discriminative DL     6          MAR              0.01  x-box   \n",
       "395       Random Forest     6          MAR              0.01  x-box   \n",
       "1007          Mean/Mode     6          MAR              0.01  x-box   \n",
       "803                 KNN     6          MAR              0.01  x-box   \n",
       "\n",
       "                      result_type                metric  Baseline  Corrupted  \\\n",
       "1211  downstream_performance_mean  Classification Tasks  0.722137   0.721942   \n",
       "191   downstream_performance_mean  Classification Tasks  0.722137   0.721631   \n",
       "395   downstream_performance_mean  Classification Tasks  0.722137   0.721506   \n",
       "1007  downstream_performance_mean  Classification Tasks  0.722137   0.720902   \n",
       "803   downstream_performance_mean  Classification Tasks  0.722137   0.720294   \n",
       "\n",
       "       Imputed  Improvement  \n",
       "1211  0.721804    -0.000192  \n",
       "191   0.722056     0.000588  \n",
       "395   0.722144     0.000884  \n",
       "1007  0.721964     0.001471  \n",
       "803   0.722247     0.002704  "
      ]
     },
     "execution_count": 149,
     "metadata": {},
     "output_type": "execute_result"
    }
   ],
   "source": [
    "# Sortierung der Daten\n",
    "\n",
    "#downstream_results_full_sort = pd.read_csv('downstream_results.csv')\n",
    "downstream_results_full_sort = downstream_results\n",
    "\n",
    "#df = sns.load_dataset('impute_results_full')\n",
    "#downstream_results_full_sort = downstream_results_full_sort.replace('$k$-NN','KNN')\n",
    "#impute_results_full_sort.head()\n",
    "\n",
    "#impute_results_full_sort = impute_results_full_sort.sort_values(['Task'], ascending=[True])\n",
    "downstream_results_full_sort = downstream_results_full_sort.sort_values(['Task', 'Missing Type', 'Missing Fraction', 'Improvement'], ascending=[True, True, True, True])\n",
    "#print(downstream_results_full_sort)\n",
    "downstream_results_full_sort.head()\n",
    "\n",
    "\n",
    "#downstream_results_full_sort.to_csv('downstream_results_full_sort.csv')"
   ]
  },
  {
   "cell_type": "code",
   "execution_count": 150,
   "id": "72092088",
   "metadata": {},
   "outputs": [
    {
     "data": {
      "text/html": [
       "<div>\n",
       "<style scoped>\n",
       "    .dataframe tbody tr th:only-of-type {\n",
       "        vertical-align: middle;\n",
       "    }\n",
       "\n",
       "    .dataframe tbody tr th {\n",
       "        vertical-align: top;\n",
       "    }\n",
       "\n",
       "    .dataframe thead th {\n",
       "        text-align: right;\n",
       "    }\n",
       "</style>\n",
       "<table border=\"1\" class=\"dataframe\">\n",
       "  <thead>\n",
       "    <tr style=\"text-align: right;\">\n",
       "      <th></th>\n",
       "      <th>Imputation_Method</th>\n",
       "      <th>Task</th>\n",
       "      <th>Missing Type</th>\n",
       "      <th>Missing Fraction</th>\n",
       "      <th>Column</th>\n",
       "      <th>result_type</th>\n",
       "      <th>metric</th>\n",
       "      <th>Baseline</th>\n",
       "      <th>Corrupted</th>\n",
       "      <th>Imputed</th>\n",
       "      <th>Improvement</th>\n",
       "      <th>Unnamed: 0</th>\n",
       "      <th>name</th>\n",
       "      <th>MajorityClassSize</th>\n",
       "      <th>MinorityClassSize</th>\n",
       "      <th>NumberOfFeatures</th>\n",
       "      <th>NumberOfInstances</th>\n",
       "      <th>NumberOfNumericFeatures</th>\n",
       "      <th>NumberOfCategoricalFeatures</th>\n",
       "      <th>NumberOfClasses</th>\n",
       "    </tr>\n",
       "  </thead>\n",
       "  <tbody>\n",
       "    <tr>\n",
       "      <th>0</th>\n",
       "      <td>VAE</td>\n",
       "      <td>6</td>\n",
       "      <td>MAR</td>\n",
       "      <td>0.01</td>\n",
       "      <td>x-box</td>\n",
       "      <td>downstream_performance_mean</td>\n",
       "      <td>Classification Tasks</td>\n",
       "      <td>0.722137</td>\n",
       "      <td>0.721942</td>\n",
       "      <td>0.721804</td>\n",
       "      <td>-0.000192</td>\n",
       "      <td>59</td>\n",
       "      <td>letter</td>\n",
       "      <td>813.0</td>\n",
       "      <td>734.0</td>\n",
       "      <td>17.0</td>\n",
       "      <td>20000.0</td>\n",
       "      <td>16.0</td>\n",
       "      <td>1.0</td>\n",
       "      <td>26.0</td>\n",
       "    </tr>\n",
       "    <tr>\n",
       "      <th>1</th>\n",
       "      <td>Discriminative DL</td>\n",
       "      <td>6</td>\n",
       "      <td>MAR</td>\n",
       "      <td>0.01</td>\n",
       "      <td>x-box</td>\n",
       "      <td>downstream_performance_mean</td>\n",
       "      <td>Classification Tasks</td>\n",
       "      <td>0.722137</td>\n",
       "      <td>0.721631</td>\n",
       "      <td>0.722056</td>\n",
       "      <td>0.000588</td>\n",
       "      <td>59</td>\n",
       "      <td>letter</td>\n",
       "      <td>813.0</td>\n",
       "      <td>734.0</td>\n",
       "      <td>17.0</td>\n",
       "      <td>20000.0</td>\n",
       "      <td>16.0</td>\n",
       "      <td>1.0</td>\n",
       "      <td>26.0</td>\n",
       "    </tr>\n",
       "    <tr>\n",
       "      <th>2</th>\n",
       "      <td>Random Forest</td>\n",
       "      <td>6</td>\n",
       "      <td>MAR</td>\n",
       "      <td>0.01</td>\n",
       "      <td>x-box</td>\n",
       "      <td>downstream_performance_mean</td>\n",
       "      <td>Classification Tasks</td>\n",
       "      <td>0.722137</td>\n",
       "      <td>0.721506</td>\n",
       "      <td>0.722144</td>\n",
       "      <td>0.000884</td>\n",
       "      <td>59</td>\n",
       "      <td>letter</td>\n",
       "      <td>813.0</td>\n",
       "      <td>734.0</td>\n",
       "      <td>17.0</td>\n",
       "      <td>20000.0</td>\n",
       "      <td>16.0</td>\n",
       "      <td>1.0</td>\n",
       "      <td>26.0</td>\n",
       "    </tr>\n",
       "    <tr>\n",
       "      <th>3</th>\n",
       "      <td>Mean/Mode</td>\n",
       "      <td>6</td>\n",
       "      <td>MAR</td>\n",
       "      <td>0.01</td>\n",
       "      <td>x-box</td>\n",
       "      <td>downstream_performance_mean</td>\n",
       "      <td>Classification Tasks</td>\n",
       "      <td>0.722137</td>\n",
       "      <td>0.720902</td>\n",
       "      <td>0.721964</td>\n",
       "      <td>0.001471</td>\n",
       "      <td>59</td>\n",
       "      <td>letter</td>\n",
       "      <td>813.0</td>\n",
       "      <td>734.0</td>\n",
       "      <td>17.0</td>\n",
       "      <td>20000.0</td>\n",
       "      <td>16.0</td>\n",
       "      <td>1.0</td>\n",
       "      <td>26.0</td>\n",
       "    </tr>\n",
       "    <tr>\n",
       "      <th>4</th>\n",
       "      <td>KNN</td>\n",
       "      <td>6</td>\n",
       "      <td>MAR</td>\n",
       "      <td>0.01</td>\n",
       "      <td>x-box</td>\n",
       "      <td>downstream_performance_mean</td>\n",
       "      <td>Classification Tasks</td>\n",
       "      <td>0.722137</td>\n",
       "      <td>0.720294</td>\n",
       "      <td>0.722247</td>\n",
       "      <td>0.002704</td>\n",
       "      <td>59</td>\n",
       "      <td>letter</td>\n",
       "      <td>813.0</td>\n",
       "      <td>734.0</td>\n",
       "      <td>17.0</td>\n",
       "      <td>20000.0</td>\n",
       "      <td>16.0</td>\n",
       "      <td>1.0</td>\n",
       "      <td>26.0</td>\n",
       "    </tr>\n",
       "  </tbody>\n",
       "</table>\n",
       "</div>"
      ],
      "text/plain": [
       "   Imputation_Method  Task Missing Type  Missing Fraction Column  \\\n",
       "0                VAE     6          MAR              0.01  x-box   \n",
       "1  Discriminative DL     6          MAR              0.01  x-box   \n",
       "2      Random Forest     6          MAR              0.01  x-box   \n",
       "3          Mean/Mode     6          MAR              0.01  x-box   \n",
       "4                KNN     6          MAR              0.01  x-box   \n",
       "\n",
       "                   result_type                metric  Baseline  Corrupted  \\\n",
       "0  downstream_performance_mean  Classification Tasks  0.722137   0.721942   \n",
       "1  downstream_performance_mean  Classification Tasks  0.722137   0.721631   \n",
       "2  downstream_performance_mean  Classification Tasks  0.722137   0.721506   \n",
       "3  downstream_performance_mean  Classification Tasks  0.722137   0.720902   \n",
       "4  downstream_performance_mean  Classification Tasks  0.722137   0.720294   \n",
       "\n",
       "    Imputed  Improvement  Unnamed: 0    name  MajorityClassSize  \\\n",
       "0  0.721804    -0.000192          59  letter              813.0   \n",
       "1  0.722056     0.000588          59  letter              813.0   \n",
       "2  0.722144     0.000884          59  letter              813.0   \n",
       "3  0.721964     0.001471          59  letter              813.0   \n",
       "4  0.722247     0.002704          59  letter              813.0   \n",
       "\n",
       "   MinorityClassSize  NumberOfFeatures  NumberOfInstances  \\\n",
       "0              734.0              17.0            20000.0   \n",
       "1              734.0              17.0            20000.0   \n",
       "2              734.0              17.0            20000.0   \n",
       "3              734.0              17.0            20000.0   \n",
       "4              734.0              17.0            20000.0   \n",
       "\n",
       "   NumberOfNumericFeatures  NumberOfCategoricalFeatures  NumberOfClasses  \n",
       "0                     16.0                          1.0             26.0  \n",
       "1                     16.0                          1.0             26.0  \n",
       "2                     16.0                          1.0             26.0  \n",
       "3                     16.0                          1.0             26.0  \n",
       "4                     16.0                          1.0             26.0  "
      ]
     },
     "execution_count": 150,
     "metadata": {},
     "output_type": "execute_result"
    }
   ],
   "source": [
    "# add dataset information from other csv file\n",
    "\n",
    "dataset_info = pd.read_csv('datasets_information_overview.csv')\n",
    "dataset_info = dataset_info.rename(columns={\"did\": \"Task\"})\n",
    "\n",
    "\n",
    "downstream_results_full_sort = pd.merge(downstream_results_full_sort, dataset_info, on='Task')\n",
    "#downstream_results_full_sort.to_csv('downstream_results_full_sort_testtesttest.csv')\n",
    "downstream_results_full_sort.head()"
   ]
  },
  {
   "cell_type": "code",
   "execution_count": 151,
   "id": "d555e125",
   "metadata": {
    "scrolled": true
   },
   "outputs": [
    {
     "data": {
      "text/html": [
       "<div>\n",
       "<style scoped>\n",
       "    .dataframe tbody tr th:only-of-type {\n",
       "        vertical-align: middle;\n",
       "    }\n",
       "\n",
       "    .dataframe tbody tr th {\n",
       "        vertical-align: top;\n",
       "    }\n",
       "\n",
       "    .dataframe thead th {\n",
       "        text-align: right;\n",
       "    }\n",
       "</style>\n",
       "<table border=\"1\" class=\"dataframe\">\n",
       "  <thead>\n",
       "    <tr style=\"text-align: right;\">\n",
       "      <th></th>\n",
       "      <th>Imputation_Method</th>\n",
       "      <th>Task</th>\n",
       "      <th>Missing Type</th>\n",
       "      <th>Missing Fraction</th>\n",
       "      <th>Column</th>\n",
       "      <th>result_type</th>\n",
       "      <th>metric</th>\n",
       "      <th>Baseline</th>\n",
       "      <th>Corrupted</th>\n",
       "      <th>Imputed</th>\n",
       "      <th>...</th>\n",
       "      <th>Unnamed: 0</th>\n",
       "      <th>name</th>\n",
       "      <th>MajorityClassSize</th>\n",
       "      <th>MinorityClassSize</th>\n",
       "      <th>NumberOfFeatures</th>\n",
       "      <th>NumberOfInstances</th>\n",
       "      <th>NumberOfNumericFeatures</th>\n",
       "      <th>NumberOfCategoricalFeatures</th>\n",
       "      <th>NumberOfClasses</th>\n",
       "      <th>Downstream Performance Rank</th>\n",
       "    </tr>\n",
       "  </thead>\n",
       "  <tbody>\n",
       "    <tr>\n",
       "      <th>0</th>\n",
       "      <td>VAE</td>\n",
       "      <td>6</td>\n",
       "      <td>MAR</td>\n",
       "      <td>0.01</td>\n",
       "      <td>x-box</td>\n",
       "      <td>downstream_performance_mean</td>\n",
       "      <td>Classification Tasks</td>\n",
       "      <td>0.722137</td>\n",
       "      <td>0.721942</td>\n",
       "      <td>0.721804</td>\n",
       "      <td>...</td>\n",
       "      <td>59</td>\n",
       "      <td>letter</td>\n",
       "      <td>813.0</td>\n",
       "      <td>734.0</td>\n",
       "      <td>17.0</td>\n",
       "      <td>20000.0</td>\n",
       "      <td>16.0</td>\n",
       "      <td>1.0</td>\n",
       "      <td>26.0</td>\n",
       "      <td>5.0</td>\n",
       "    </tr>\n",
       "    <tr>\n",
       "      <th>1</th>\n",
       "      <td>Discriminative DL</td>\n",
       "      <td>6</td>\n",
       "      <td>MAR</td>\n",
       "      <td>0.01</td>\n",
       "      <td>x-box</td>\n",
       "      <td>downstream_performance_mean</td>\n",
       "      <td>Classification Tasks</td>\n",
       "      <td>0.722137</td>\n",
       "      <td>0.721631</td>\n",
       "      <td>0.722056</td>\n",
       "      <td>...</td>\n",
       "      <td>59</td>\n",
       "      <td>letter</td>\n",
       "      <td>813.0</td>\n",
       "      <td>734.0</td>\n",
       "      <td>17.0</td>\n",
       "      <td>20000.0</td>\n",
       "      <td>16.0</td>\n",
       "      <td>1.0</td>\n",
       "      <td>26.0</td>\n",
       "      <td>4.0</td>\n",
       "    </tr>\n",
       "    <tr>\n",
       "      <th>2</th>\n",
       "      <td>Random Forest</td>\n",
       "      <td>6</td>\n",
       "      <td>MAR</td>\n",
       "      <td>0.01</td>\n",
       "      <td>x-box</td>\n",
       "      <td>downstream_performance_mean</td>\n",
       "      <td>Classification Tasks</td>\n",
       "      <td>0.722137</td>\n",
       "      <td>0.721506</td>\n",
       "      <td>0.722144</td>\n",
       "      <td>...</td>\n",
       "      <td>59</td>\n",
       "      <td>letter</td>\n",
       "      <td>813.0</td>\n",
       "      <td>734.0</td>\n",
       "      <td>17.0</td>\n",
       "      <td>20000.0</td>\n",
       "      <td>16.0</td>\n",
       "      <td>1.0</td>\n",
       "      <td>26.0</td>\n",
       "      <td>3.0</td>\n",
       "    </tr>\n",
       "    <tr>\n",
       "      <th>3</th>\n",
       "      <td>Mean/Mode</td>\n",
       "      <td>6</td>\n",
       "      <td>MAR</td>\n",
       "      <td>0.01</td>\n",
       "      <td>x-box</td>\n",
       "      <td>downstream_performance_mean</td>\n",
       "      <td>Classification Tasks</td>\n",
       "      <td>0.722137</td>\n",
       "      <td>0.720902</td>\n",
       "      <td>0.721964</td>\n",
       "      <td>...</td>\n",
       "      <td>59</td>\n",
       "      <td>letter</td>\n",
       "      <td>813.0</td>\n",
       "      <td>734.0</td>\n",
       "      <td>17.0</td>\n",
       "      <td>20000.0</td>\n",
       "      <td>16.0</td>\n",
       "      <td>1.0</td>\n",
       "      <td>26.0</td>\n",
       "      <td>2.0</td>\n",
       "    </tr>\n",
       "    <tr>\n",
       "      <th>4</th>\n",
       "      <td>KNN</td>\n",
       "      <td>6</td>\n",
       "      <td>MAR</td>\n",
       "      <td>0.01</td>\n",
       "      <td>x-box</td>\n",
       "      <td>downstream_performance_mean</td>\n",
       "      <td>Classification Tasks</td>\n",
       "      <td>0.722137</td>\n",
       "      <td>0.720294</td>\n",
       "      <td>0.722247</td>\n",
       "      <td>...</td>\n",
       "      <td>59</td>\n",
       "      <td>letter</td>\n",
       "      <td>813.0</td>\n",
       "      <td>734.0</td>\n",
       "      <td>17.0</td>\n",
       "      <td>20000.0</td>\n",
       "      <td>16.0</td>\n",
       "      <td>1.0</td>\n",
       "      <td>26.0</td>\n",
       "      <td>1.0</td>\n",
       "    </tr>\n",
       "  </tbody>\n",
       "</table>\n",
       "<p>5 rows × 21 columns</p>\n",
       "</div>"
      ],
      "text/plain": [
       "   Imputation_Method  Task Missing Type  Missing Fraction Column  \\\n",
       "0                VAE     6          MAR              0.01  x-box   \n",
       "1  Discriminative DL     6          MAR              0.01  x-box   \n",
       "2      Random Forest     6          MAR              0.01  x-box   \n",
       "3          Mean/Mode     6          MAR              0.01  x-box   \n",
       "4                KNN     6          MAR              0.01  x-box   \n",
       "\n",
       "                   result_type                metric  Baseline  Corrupted  \\\n",
       "0  downstream_performance_mean  Classification Tasks  0.722137   0.721942   \n",
       "1  downstream_performance_mean  Classification Tasks  0.722137   0.721631   \n",
       "2  downstream_performance_mean  Classification Tasks  0.722137   0.721506   \n",
       "3  downstream_performance_mean  Classification Tasks  0.722137   0.720902   \n",
       "4  downstream_performance_mean  Classification Tasks  0.722137   0.720294   \n",
       "\n",
       "    Imputed  ...  Unnamed: 0    name MajorityClassSize  MinorityClassSize  \\\n",
       "0  0.721804  ...          59  letter             813.0              734.0   \n",
       "1  0.722056  ...          59  letter             813.0              734.0   \n",
       "2  0.722144  ...          59  letter             813.0              734.0   \n",
       "3  0.721964  ...          59  letter             813.0              734.0   \n",
       "4  0.722247  ...          59  letter             813.0              734.0   \n",
       "\n",
       "   NumberOfFeatures  NumberOfInstances  NumberOfNumericFeatures  \\\n",
       "0              17.0            20000.0                     16.0   \n",
       "1              17.0            20000.0                     16.0   \n",
       "2              17.0            20000.0                     16.0   \n",
       "3              17.0            20000.0                     16.0   \n",
       "4              17.0            20000.0                     16.0   \n",
       "\n",
       "   NumberOfCategoricalFeatures  NumberOfClasses  Downstream Performance Rank  \n",
       "0                          1.0             26.0                          5.0  \n",
       "1                          1.0             26.0                          4.0  \n",
       "2                          1.0             26.0                          3.0  \n",
       "3                          1.0             26.0                          2.0  \n",
       "4                          1.0             26.0                          1.0  \n",
       "\n",
       "[5 rows x 21 columns]"
      ]
     },
     "execution_count": 151,
     "metadata": {},
     "output_type": "execute_result"
    }
   ],
   "source": [
    "# Ranking of downstream performance per data constellation\n",
    "\n",
    "EXPERIMENTAL_CONDITIONS = [\"Task\", \"Missing Type\", \"Missing Fraction\", \"Column\", \"result_type\"]\n",
    "\n",
    "downstream_results_rank = downstream_results_full_sort\n",
    "\n",
    "#clf_row_idx = impute_results[\"metric\"] == CLF_METRIC\n",
    "#reg_row_idx = impute_results[\"metric\"] == REG_METRIC\n",
    "\n",
    "downstream_results_rank[\"Downstream Performance Rank\"] = downstream_results_rank.groupby(EXPERIMENTAL_CONDITIONS).rank(ascending=False, na_option=\"bottom\", method=\"min\")[\"Improvement\"]\n",
    "downstream_results_rank.to_csv('downstream_results_complete_overview.csv')\n",
    "downstream_results_rank.head()\n"
   ]
  },
  {
   "cell_type": "code",
   "execution_count": 152,
   "id": "68b21865",
   "metadata": {
    "scrolled": true
   },
   "outputs": [
    {
     "data": {
      "text/html": [
       "<div>\n",
       "<style scoped>\n",
       "    .dataframe tbody tr th:only-of-type {\n",
       "        vertical-align: middle;\n",
       "    }\n",
       "\n",
       "    .dataframe tbody tr th {\n",
       "        vertical-align: top;\n",
       "    }\n",
       "\n",
       "    .dataframe thead th {\n",
       "        text-align: right;\n",
       "    }\n",
       "</style>\n",
       "<table border=\"1\" class=\"dataframe\">\n",
       "  <thead>\n",
       "    <tr style=\"text-align: right;\">\n",
       "      <th></th>\n",
       "      <th>Imputation_Method</th>\n",
       "      <th>Task</th>\n",
       "      <th>Missing Type</th>\n",
       "      <th>Missing Fraction</th>\n",
       "      <th>Column</th>\n",
       "      <th>result_type</th>\n",
       "      <th>metric</th>\n",
       "      <th>Baseline</th>\n",
       "      <th>Corrupted</th>\n",
       "      <th>Imputed</th>\n",
       "      <th>...</th>\n",
       "      <th>name</th>\n",
       "      <th>MajorityClassSize</th>\n",
       "      <th>MinorityClassSize</th>\n",
       "      <th>NumberOfFeatures</th>\n",
       "      <th>NumberOfInstances</th>\n",
       "      <th>NumberOfNumericFeatures</th>\n",
       "      <th>NumberOfCategoricalFeatures</th>\n",
       "      <th>NumberOfClasses</th>\n",
       "      <th>Downstream Performance Rank</th>\n",
       "      <th>Data_Constellation</th>\n",
       "    </tr>\n",
       "  </thead>\n",
       "  <tbody>\n",
       "    <tr>\n",
       "      <th>0</th>\n",
       "      <td>VAE</td>\n",
       "      <td>6</td>\n",
       "      <td>MAR</td>\n",
       "      <td>0.01</td>\n",
       "      <td>x-box</td>\n",
       "      <td>downstream_performance_mean</td>\n",
       "      <td>Classification Tasks</td>\n",
       "      <td>0.722137</td>\n",
       "      <td>0.721942</td>\n",
       "      <td>0.721804</td>\n",
       "      <td>...</td>\n",
       "      <td>letter</td>\n",
       "      <td>813.0</td>\n",
       "      <td>734.0</td>\n",
       "      <td>17.0</td>\n",
       "      <td>20000.0</td>\n",
       "      <td>16.0</td>\n",
       "      <td>1.0</td>\n",
       "      <td>26.0</td>\n",
       "      <td>5.0</td>\n",
       "      <td>MAR - 0.01</td>\n",
       "    </tr>\n",
       "    <tr>\n",
       "      <th>1</th>\n",
       "      <td>Discriminative DL</td>\n",
       "      <td>6</td>\n",
       "      <td>MAR</td>\n",
       "      <td>0.01</td>\n",
       "      <td>x-box</td>\n",
       "      <td>downstream_performance_mean</td>\n",
       "      <td>Classification Tasks</td>\n",
       "      <td>0.722137</td>\n",
       "      <td>0.721631</td>\n",
       "      <td>0.722056</td>\n",
       "      <td>...</td>\n",
       "      <td>letter</td>\n",
       "      <td>813.0</td>\n",
       "      <td>734.0</td>\n",
       "      <td>17.0</td>\n",
       "      <td>20000.0</td>\n",
       "      <td>16.0</td>\n",
       "      <td>1.0</td>\n",
       "      <td>26.0</td>\n",
       "      <td>4.0</td>\n",
       "      <td>MAR - 0.01</td>\n",
       "    </tr>\n",
       "    <tr>\n",
       "      <th>2</th>\n",
       "      <td>Random Forest</td>\n",
       "      <td>6</td>\n",
       "      <td>MAR</td>\n",
       "      <td>0.01</td>\n",
       "      <td>x-box</td>\n",
       "      <td>downstream_performance_mean</td>\n",
       "      <td>Classification Tasks</td>\n",
       "      <td>0.722137</td>\n",
       "      <td>0.721506</td>\n",
       "      <td>0.722144</td>\n",
       "      <td>...</td>\n",
       "      <td>letter</td>\n",
       "      <td>813.0</td>\n",
       "      <td>734.0</td>\n",
       "      <td>17.0</td>\n",
       "      <td>20000.0</td>\n",
       "      <td>16.0</td>\n",
       "      <td>1.0</td>\n",
       "      <td>26.0</td>\n",
       "      <td>3.0</td>\n",
       "      <td>MAR - 0.01</td>\n",
       "    </tr>\n",
       "    <tr>\n",
       "      <th>3</th>\n",
       "      <td>Mean/Mode</td>\n",
       "      <td>6</td>\n",
       "      <td>MAR</td>\n",
       "      <td>0.01</td>\n",
       "      <td>x-box</td>\n",
       "      <td>downstream_performance_mean</td>\n",
       "      <td>Classification Tasks</td>\n",
       "      <td>0.722137</td>\n",
       "      <td>0.720902</td>\n",
       "      <td>0.721964</td>\n",
       "      <td>...</td>\n",
       "      <td>letter</td>\n",
       "      <td>813.0</td>\n",
       "      <td>734.0</td>\n",
       "      <td>17.0</td>\n",
       "      <td>20000.0</td>\n",
       "      <td>16.0</td>\n",
       "      <td>1.0</td>\n",
       "      <td>26.0</td>\n",
       "      <td>2.0</td>\n",
       "      <td>MAR - 0.01</td>\n",
       "    </tr>\n",
       "    <tr>\n",
       "      <th>4</th>\n",
       "      <td>KNN</td>\n",
       "      <td>6</td>\n",
       "      <td>MAR</td>\n",
       "      <td>0.01</td>\n",
       "      <td>x-box</td>\n",
       "      <td>downstream_performance_mean</td>\n",
       "      <td>Classification Tasks</td>\n",
       "      <td>0.722137</td>\n",
       "      <td>0.720294</td>\n",
       "      <td>0.722247</td>\n",
       "      <td>...</td>\n",
       "      <td>letter</td>\n",
       "      <td>813.0</td>\n",
       "      <td>734.0</td>\n",
       "      <td>17.0</td>\n",
       "      <td>20000.0</td>\n",
       "      <td>16.0</td>\n",
       "      <td>1.0</td>\n",
       "      <td>26.0</td>\n",
       "      <td>1.0</td>\n",
       "      <td>MAR - 0.01</td>\n",
       "    </tr>\n",
       "  </tbody>\n",
       "</table>\n",
       "<p>5 rows × 22 columns</p>\n",
       "</div>"
      ],
      "text/plain": [
       "   Imputation_Method  Task Missing Type Missing Fraction Column  \\\n",
       "0                VAE     6          MAR             0.01  x-box   \n",
       "1  Discriminative DL     6          MAR             0.01  x-box   \n",
       "2      Random Forest     6          MAR             0.01  x-box   \n",
       "3          Mean/Mode     6          MAR             0.01  x-box   \n",
       "4                KNN     6          MAR             0.01  x-box   \n",
       "\n",
       "                   result_type                metric  Baseline  Corrupted  \\\n",
       "0  downstream_performance_mean  Classification Tasks  0.722137   0.721942   \n",
       "1  downstream_performance_mean  Classification Tasks  0.722137   0.721631   \n",
       "2  downstream_performance_mean  Classification Tasks  0.722137   0.721506   \n",
       "3  downstream_performance_mean  Classification Tasks  0.722137   0.720902   \n",
       "4  downstream_performance_mean  Classification Tasks  0.722137   0.720294   \n",
       "\n",
       "    Imputed  ...    name  MajorityClassSize MinorityClassSize  \\\n",
       "0  0.721804  ...  letter              813.0             734.0   \n",
       "1  0.722056  ...  letter              813.0             734.0   \n",
       "2  0.722144  ...  letter              813.0             734.0   \n",
       "3  0.721964  ...  letter              813.0             734.0   \n",
       "4  0.722247  ...  letter              813.0             734.0   \n",
       "\n",
       "   NumberOfFeatures  NumberOfInstances  NumberOfNumericFeatures  \\\n",
       "0              17.0            20000.0                     16.0   \n",
       "1              17.0            20000.0                     16.0   \n",
       "2              17.0            20000.0                     16.0   \n",
       "3              17.0            20000.0                     16.0   \n",
       "4              17.0            20000.0                     16.0   \n",
       "\n",
       "   NumberOfCategoricalFeatures  NumberOfClasses  Downstream Performance Rank  \\\n",
       "0                          1.0             26.0                          5.0   \n",
       "1                          1.0             26.0                          4.0   \n",
       "2                          1.0             26.0                          3.0   \n",
       "3                          1.0             26.0                          2.0   \n",
       "4                          1.0             26.0                          1.0   \n",
       "\n",
       "   Data_Constellation  \n",
       "0          MAR - 0.01  \n",
       "1          MAR - 0.01  \n",
       "2          MAR - 0.01  \n",
       "3          MAR - 0.01  \n",
       "4          MAR - 0.01  \n",
       "\n",
       "[5 rows x 22 columns]"
      ]
     },
     "execution_count": 152,
     "metadata": {},
     "output_type": "execute_result"
    }
   ],
   "source": [
    "# Merge the two columns \"Missing Type\" and \"Missing Fraction\"\n",
    "\n",
    "downstream_results_rank['Missing Type'] = downstream_results_rank['Missing Type'].astype(str)\n",
    "downstream_results_rank['Missing Fraction'] = downstream_results_rank['Missing Fraction'].astype(str)\n",
    "datatype_new = downstream_results_rank.dtypes\n",
    "#print(datatype_new)\n",
    "\n",
    "downstream_results_rank['Data_Constellation'] = downstream_results_rank['Missing Type'] + ' - ' + downstream_results_rank['Missing Fraction']\n",
    "downstream_results_rank.to_csv('downstream_results_rank_temp.csv')\n",
    "downstream_results_rank.head()\n"
   ]
  },
  {
   "cell_type": "markdown",
   "id": "7e6321d8",
   "metadata": {},
   "source": [
    "## Analyzing Performance based on Rank and Improvement per Data Constellation"
   ]
  },
  {
   "cell_type": "markdown",
   "id": "4c5b89ea",
   "metadata": {},
   "source": [
    "Hier die Rechnung -> Bestes Ergebnis pro \"Experimental condition\" - Beste Methode im Durchschnitt \n",
    "\n",
    "ToDo´s für restliche Auswertung (Mathematische Part)\n",
    "- Beste Imp-Methode je Datensatz ermitteln (-> via Ranking am besten, je Konstellation (Bsp. MAR 0.01)\n",
    "- durchschnittliche Platzierung jeder Imp-Methode ermitteln (Ranking -> dann je Konstellation (Bsp. MAR 0.01)\n",
    "- Beste Imp je Datensatz mit durchschnittlich bester Imp vergleichen (Liste mit beste Imp & Liste mit Durchschn. Imp -> VGL)\n",
    "(jede Konstellation genau einmal in jeder Liste)\n"
   ]
  },
  {
   "cell_type": "code",
   "execution_count": 153,
   "id": "4393619a",
   "metadata": {
    "scrolled": false
   },
   "outputs": [
    {
     "name": "stdout",
     "output_type": "stream",
     "text": [
      "12 Data Constellations\n",
      "_____________________\n",
      "1.0    245\n",
      "2.0    206\n",
      "5.0    193\n",
      "4.0    193\n",
      "3.0    189\n",
      "6.0    152\n",
      "Name: Downstream Performance Rank, dtype: int64\n",
      "_____________________\n",
      "_____________________\n",
      "Discriminative DL    58\n",
      "VAE                  50\n",
      "KNN                  45\n",
      "Mean/Mode            43\n",
      "Random Forest        31\n",
      "GAIN                 18\n",
      "Name: Imputation_Method, dtype: int64\n",
      "_____________________\n",
      "204 Amount of results available\n",
      "1.0    31\n",
      "2.0    35\n",
      "3.0    46\n",
      "4.0    22\n",
      "5.0    45\n",
      "6.0    25\n",
      "Name: Downstream Performance Rank, dtype: int64\n",
      "Average Rank for Random Forest is 3.4411764705882355\n",
      "Average Improvement to baseline is 0.027681932282311274\n",
      "_____________________\n",
      "204 Amount of results available\n",
      "1.0    45\n",
      "2.0    38\n",
      "3.0    44\n",
      "4.0    31\n",
      "5.0    31\n",
      "6.0    15\n",
      "Name: Downstream Performance Rank, dtype: int64\n",
      "Average Rank for KNN is 3.049019607843137\n",
      "Average Improvement to baseline is 0.03084613290442985\n",
      "_____________________\n",
      "204 Amount of results available\n",
      "1.0    43\n",
      "2.0    40\n",
      "3.0    20\n",
      "4.0    47\n",
      "5.0    37\n",
      "6.0    17\n",
      "Name: Downstream Performance Rank, dtype: int64\n",
      "Average Rank for Mean/Mode is 3.2254901960784315\n",
      "Average Improvement to baseline is 0.027202580981500975\n",
      "_____________________\n",
      "204 Amount of results available\n",
      "1.0    50\n",
      "2.0    31\n",
      "3.0    29\n",
      "4.0    42\n",
      "5.0    41\n",
      "6.0    11\n",
      "Name: Downstream Performance Rank, dtype: int64\n",
      "Average Rank for VAE is 3.127450980392157\n",
      "Average Improvement to baseline is 0.03254387589791066\n",
      "_____________________\n",
      "159 Amount of results available\n",
      "1.0    18\n",
      "2.0    14\n",
      "3.0    18\n",
      "4.0    24\n",
      "5.0    18\n",
      "6.0    67\n",
      "Name: Downstream Performance Rank, dtype: int64\n",
      "Average Rank for GAIN is 4.327044025157233\n",
      "Average Improvement to baseline is 0.018834735475418127\n",
      "_____________________\n",
      "203 Amount of results available\n",
      "1.0    58\n",
      "2.0    48\n",
      "3.0    32\n",
      "4.0    27\n",
      "5.0    21\n",
      "6.0    17\n",
      "Name: Downstream Performance Rank, dtype: int64\n",
      "Average Rank for Discriminative DL is 2.7832512315270934\n",
      "Average Improvement to baseline is 0.03715260107334579\n",
      "_____________________\n"
     ]
    }
   ],
   "source": [
    "data = downstream_results_rank\n",
    "\n",
    "# Count amount of different Data constellations in column \"Data_Constellation\"\n",
    "dc_unique = data.Data_Constellation.unique().size\n",
    "print(dc_unique, \"Data Constellations\")\n",
    "print(\"_____________________\")\n",
    "# Count amount of 1.0 Ranking result in column \"Downstream Performance Rank\" (Numbers must match)\n",
    "rank_count = data['Downstream Performance Rank'].value_counts()\n",
    "print(rank_count)\n",
    "print(\"_____________________\")\n",
    "# Filter for 1.0 Ranking -> Overview -> save as csv\n",
    "rank_1 = data.loc[data['Downstream Performance Rank'] == 1.0]\n",
    "rank_1.to_csv('rank_1.csv')\n",
    "\n",
    "print(\"_____________________\")\n",
    "# Count how often each Imputation Method is present -> most \"wins\"\n",
    "rank_wins = rank_1['Imputation_Method'].value_counts()\n",
    "print(rank_wins)\n",
    "print(\"_____________________\")\n",
    "# Take initial overview and filter for each imputation method and calculate average rank\n",
    "methods = ['Random Forest', 'KNN', 'Mean/Mode', 'VAE', 'GAIN', 'Discriminative DL']\n",
    "for i in methods:\n",
    "    df_average_rank = data.loc[data['Imputation_Method'] == i]\n",
    "    len_ar = len(df_average_rank)\n",
    "    print(len_ar, \"Amount of results available\")\n",
    "    rank_pos = df_average_rank['Downstream Performance Rank'].value_counts().sort_index(ascending=True)\n",
    "    print(rank_pos)\n",
    "    average_rank = df_average_rank[\"Downstream Performance Rank\"].mean()\n",
    "    print(\"Average Rank for\", i, \"is\", average_rank)\n",
    "    average_improvement = df_average_rank[\"Improvement\"].mean()\n",
    "    print(\"Average Improvement to baseline is\", average_improvement)\n",
    "    print(\"_____________________\")\n",
    "\n"
   ]
  },
  {
   "cell_type": "code",
   "execution_count": 154,
   "id": "b6f32ae2",
   "metadata": {},
   "outputs": [
    {
     "data": {
      "text/html": [
       "<div>\n",
       "<style scoped>\n",
       "    .dataframe tbody tr th:only-of-type {\n",
       "        vertical-align: middle;\n",
       "    }\n",
       "\n",
       "    .dataframe tbody tr th {\n",
       "        vertical-align: top;\n",
       "    }\n",
       "\n",
       "    .dataframe thead th {\n",
       "        text-align: right;\n",
       "    }\n",
       "</style>\n",
       "<table border=\"1\" class=\"dataframe\">\n",
       "  <thead>\n",
       "    <tr style=\"text-align: right;\">\n",
       "      <th></th>\n",
       "      <th>Imputation_Method</th>\n",
       "      <th>Task</th>\n",
       "      <th>Missing Type</th>\n",
       "      <th>Missing Fraction</th>\n",
       "      <th>Column</th>\n",
       "      <th>result_type</th>\n",
       "      <th>metric</th>\n",
       "      <th>Baseline</th>\n",
       "      <th>Corrupted</th>\n",
       "      <th>Imputed</th>\n",
       "      <th>...</th>\n",
       "      <th>name</th>\n",
       "      <th>MajorityClassSize</th>\n",
       "      <th>MinorityClassSize</th>\n",
       "      <th>NumberOfFeatures</th>\n",
       "      <th>NumberOfInstances</th>\n",
       "      <th>NumberOfNumericFeatures</th>\n",
       "      <th>NumberOfCategoricalFeatures</th>\n",
       "      <th>NumberOfClasses</th>\n",
       "      <th>Downstream Performance Rank</th>\n",
       "      <th>Data_Constellation</th>\n",
       "    </tr>\n",
       "  </thead>\n",
       "  <tbody>\n",
       "    <tr>\n",
       "      <th>4</th>\n",
       "      <td>KNN</td>\n",
       "      <td>6</td>\n",
       "      <td>MAR</td>\n",
       "      <td>0.01</td>\n",
       "      <td>x-box</td>\n",
       "      <td>downstream_performance_mean</td>\n",
       "      <td>Classification Tasks</td>\n",
       "      <td>0.722137</td>\n",
       "      <td>0.720294</td>\n",
       "      <td>0.722247</td>\n",
       "      <td>...</td>\n",
       "      <td>letter</td>\n",
       "      <td>813.0</td>\n",
       "      <td>734.0</td>\n",
       "      <td>17.0</td>\n",
       "      <td>20000.0</td>\n",
       "      <td>16.0</td>\n",
       "      <td>1.0</td>\n",
       "      <td>26.0</td>\n",
       "      <td>1.0</td>\n",
       "      <td>MAR - 0.01</td>\n",
       "    </tr>\n",
       "    <tr>\n",
       "      <th>9</th>\n",
       "      <td>Discriminative DL</td>\n",
       "      <td>6</td>\n",
       "      <td>MAR</td>\n",
       "      <td>0.1</td>\n",
       "      <td>x-box</td>\n",
       "      <td>downstream_performance_mean</td>\n",
       "      <td>Classification Tasks</td>\n",
       "      <td>0.722137</td>\n",
       "      <td>0.709453</td>\n",
       "      <td>0.722138</td>\n",
       "      <td>...</td>\n",
       "      <td>letter</td>\n",
       "      <td>813.0</td>\n",
       "      <td>734.0</td>\n",
       "      <td>17.0</td>\n",
       "      <td>20000.0</td>\n",
       "      <td>16.0</td>\n",
       "      <td>1.0</td>\n",
       "      <td>26.0</td>\n",
       "      <td>1.0</td>\n",
       "      <td>MAR - 0.1</td>\n",
       "    </tr>\n",
       "    <tr>\n",
       "      <th>14</th>\n",
       "      <td>KNN</td>\n",
       "      <td>6</td>\n",
       "      <td>MAR</td>\n",
       "      <td>0.3</td>\n",
       "      <td>x-box</td>\n",
       "      <td>downstream_performance_mean</td>\n",
       "      <td>Classification Tasks</td>\n",
       "      <td>0.722137</td>\n",
       "      <td>0.687250</td>\n",
       "      <td>0.723030</td>\n",
       "      <td>...</td>\n",
       "      <td>letter</td>\n",
       "      <td>813.0</td>\n",
       "      <td>734.0</td>\n",
       "      <td>17.0</td>\n",
       "      <td>20000.0</td>\n",
       "      <td>16.0</td>\n",
       "      <td>1.0</td>\n",
       "      <td>26.0</td>\n",
       "      <td>1.0</td>\n",
       "      <td>MAR - 0.3</td>\n",
       "    </tr>\n",
       "    <tr>\n",
       "      <th>19</th>\n",
       "      <td>KNN</td>\n",
       "      <td>6</td>\n",
       "      <td>MAR</td>\n",
       "      <td>0.5</td>\n",
       "      <td>x-box</td>\n",
       "      <td>downstream_performance_mean</td>\n",
       "      <td>Classification Tasks</td>\n",
       "      <td>0.722137</td>\n",
       "      <td>0.661620</td>\n",
       "      <td>0.724723</td>\n",
       "      <td>...</td>\n",
       "      <td>letter</td>\n",
       "      <td>813.0</td>\n",
       "      <td>734.0</td>\n",
       "      <td>17.0</td>\n",
       "      <td>20000.0</td>\n",
       "      <td>16.0</td>\n",
       "      <td>1.0</td>\n",
       "      <td>26.0</td>\n",
       "      <td>1.0</td>\n",
       "      <td>MAR - 0.5</td>\n",
       "    </tr>\n",
       "    <tr>\n",
       "      <th>24</th>\n",
       "      <td>Random Forest</td>\n",
       "      <td>6</td>\n",
       "      <td>MCAR</td>\n",
       "      <td>0.01</td>\n",
       "      <td>x-box</td>\n",
       "      <td>downstream_performance_mean</td>\n",
       "      <td>Classification Tasks</td>\n",
       "      <td>0.722137</td>\n",
       "      <td>0.720962</td>\n",
       "      <td>0.722385</td>\n",
       "      <td>...</td>\n",
       "      <td>letter</td>\n",
       "      <td>813.0</td>\n",
       "      <td>734.0</td>\n",
       "      <td>17.0</td>\n",
       "      <td>20000.0</td>\n",
       "      <td>16.0</td>\n",
       "      <td>1.0</td>\n",
       "      <td>26.0</td>\n",
       "      <td>1.0</td>\n",
       "      <td>MCAR - 0.01</td>\n",
       "    </tr>\n",
       "  </tbody>\n",
       "</table>\n",
       "<p>5 rows × 22 columns</p>\n",
       "</div>"
      ],
      "text/plain": [
       "    Imputation_Method  Task Missing Type Missing Fraction Column  \\\n",
       "4                 KNN     6          MAR             0.01  x-box   \n",
       "9   Discriminative DL     6          MAR              0.1  x-box   \n",
       "14                KNN     6          MAR              0.3  x-box   \n",
       "19                KNN     6          MAR              0.5  x-box   \n",
       "24      Random Forest     6         MCAR             0.01  x-box   \n",
       "\n",
       "                    result_type                metric  Baseline  Corrupted  \\\n",
       "4   downstream_performance_mean  Classification Tasks  0.722137   0.720294   \n",
       "9   downstream_performance_mean  Classification Tasks  0.722137   0.709453   \n",
       "14  downstream_performance_mean  Classification Tasks  0.722137   0.687250   \n",
       "19  downstream_performance_mean  Classification Tasks  0.722137   0.661620   \n",
       "24  downstream_performance_mean  Classification Tasks  0.722137   0.720962   \n",
       "\n",
       "     Imputed  ...    name  MajorityClassSize MinorityClassSize  \\\n",
       "4   0.722247  ...  letter              813.0             734.0   \n",
       "9   0.722138  ...  letter              813.0             734.0   \n",
       "14  0.723030  ...  letter              813.0             734.0   \n",
       "19  0.724723  ...  letter              813.0             734.0   \n",
       "24  0.722385  ...  letter              813.0             734.0   \n",
       "\n",
       "    NumberOfFeatures  NumberOfInstances  NumberOfNumericFeatures  \\\n",
       "4               17.0            20000.0                     16.0   \n",
       "9               17.0            20000.0                     16.0   \n",
       "14              17.0            20000.0                     16.0   \n",
       "19              17.0            20000.0                     16.0   \n",
       "24              17.0            20000.0                     16.0   \n",
       "\n",
       "    NumberOfCategoricalFeatures  NumberOfClasses  Downstream Performance Rank  \\\n",
       "4                           1.0             26.0                          1.0   \n",
       "9                           1.0             26.0                          1.0   \n",
       "14                          1.0             26.0                          1.0   \n",
       "19                          1.0             26.0                          1.0   \n",
       "24                          1.0             26.0                          1.0   \n",
       "\n",
       "    Data_Constellation  \n",
       "4           MAR - 0.01  \n",
       "9            MAR - 0.1  \n",
       "14           MAR - 0.3  \n",
       "19           MAR - 0.5  \n",
       "24         MCAR - 0.01  \n",
       "\n",
       "[5 rows x 22 columns]"
      ]
     },
     "execution_count": 154,
     "metadata": {},
     "output_type": "execute_result"
    }
   ],
   "source": [
    "rank_1.head()"
   ]
  },
  {
   "cell_type": "raw",
   "id": "30b1e94d",
   "metadata": {},
   "source": []
  },
  {
   "cell_type": "code",
   "execution_count": 155,
   "id": "b8e295fc",
   "metadata": {
    "scrolled": true
   },
   "outputs": [
    {
     "name": "stderr",
     "output_type": "stream",
     "text": [
      "C:\\Users\\dittr\\AppData\\Local\\Temp\\ipykernel_21424\\675066912.py:7: SettingWithCopyWarning:\n",
      "\n",
      "\n",
      "A value is trying to be set on a copy of a slice from a DataFrame.\n",
      "Try using .loc[row_indexer,col_indexer] = value instead\n",
      "\n",
      "See the caveats in the documentation: https://pandas.pydata.org/pandas-docs/stable/user_guide/indexing.html#returning-a-view-versus-a-copy\n",
      "\n",
      "C:\\Users\\dittr\\AppData\\Local\\Temp\\ipykernel_21424\\675066912.py:8: SettingWithCopyWarning:\n",
      "\n",
      "\n",
      "A value is trying to be set on a copy of a slice from a DataFrame.\n",
      "Try using .loc[row_indexer,col_indexer] = value instead\n",
      "\n",
      "See the caveats in the documentation: https://pandas.pydata.org/pandas-docs/stable/user_guide/indexing.html#returning-a-view-versus-a-copy\n",
      "\n",
      "C:\\Users\\dittr\\AppData\\Local\\Temp\\ipykernel_21424\\675066912.py:17: SettingWithCopyWarning:\n",
      "\n",
      "\n",
      "A value is trying to be set on a copy of a slice from a DataFrame.\n",
      "Try using .loc[row_indexer,col_indexer] = value instead\n",
      "\n",
      "See the caveats in the documentation: https://pandas.pydata.org/pandas-docs/stable/user_guide/indexing.html#returning-a-view-versus-a-copy\n",
      "\n",
      "C:\\Users\\dittr\\AppData\\Local\\Temp\\ipykernel_21424\\675066912.py:18: SettingWithCopyWarning:\n",
      "\n",
      "\n",
      "A value is trying to be set on a copy of a slice from a DataFrame.\n",
      "Try using .loc[row_indexer,col_indexer] = value instead\n",
      "\n",
      "See the caveats in the documentation: https://pandas.pydata.org/pandas-docs/stable/user_guide/indexing.html#returning-a-view-versus-a-copy\n",
      "\n"
     ]
    },
    {
     "data": {
      "text/html": [
       "<div>\n",
       "<style scoped>\n",
       "    .dataframe tbody tr th:only-of-type {\n",
       "        vertical-align: middle;\n",
       "    }\n",
       "\n",
       "    .dataframe tbody tr th {\n",
       "        vertical-align: top;\n",
       "    }\n",
       "\n",
       "    .dataframe thead th {\n",
       "        text-align: right;\n",
       "    }\n",
       "</style>\n",
       "<table border=\"1\" class=\"dataframe\">\n",
       "  <thead>\n",
       "    <tr style=\"text-align: right;\">\n",
       "      <th></th>\n",
       "      <th>Imputation_Method_average</th>\n",
       "      <th>Improvement_average</th>\n",
       "      <th>Data_Constellation</th>\n",
       "      <th>Downstream Performance Rank Average</th>\n",
       "      <th>Imputation_Method_best</th>\n",
       "      <th>Improvement_best</th>\n",
       "      <th>Downstream Performance Rank Best</th>\n",
       "    </tr>\n",
       "  </thead>\n",
       "  <tbody>\n",
       "    <tr>\n",
       "      <th>0</th>\n",
       "      <td>Discriminative DL</td>\n",
       "      <td>0.000588</td>\n",
       "      <td>MAR - 0.01 - 6</td>\n",
       "      <td>4.0</td>\n",
       "      <td>KNN</td>\n",
       "      <td>0.002704</td>\n",
       "      <td>1.0</td>\n",
       "    </tr>\n",
       "    <tr>\n",
       "      <th>1</th>\n",
       "      <td>Discriminative DL</td>\n",
       "      <td>0.017566</td>\n",
       "      <td>MAR - 0.1 - 6</td>\n",
       "      <td>1.0</td>\n",
       "      <td>Discriminative DL</td>\n",
       "      <td>0.017566</td>\n",
       "      <td>1.0</td>\n",
       "    </tr>\n",
       "    <tr>\n",
       "      <th>2</th>\n",
       "      <td>Discriminative DL</td>\n",
       "      <td>0.037695</td>\n",
       "      <td>MAR - 0.3 - 6</td>\n",
       "      <td>5.0</td>\n",
       "      <td>KNN</td>\n",
       "      <td>0.049547</td>\n",
       "      <td>1.0</td>\n",
       "    </tr>\n",
       "    <tr>\n",
       "      <th>3</th>\n",
       "      <td>Discriminative DL</td>\n",
       "      <td>0.084636</td>\n",
       "      <td>MAR - 0.5 - 6</td>\n",
       "      <td>2.0</td>\n",
       "      <td>KNN</td>\n",
       "      <td>0.087385</td>\n",
       "      <td>1.0</td>\n",
       "    </tr>\n",
       "    <tr>\n",
       "      <th>4</th>\n",
       "      <td>Discriminative DL</td>\n",
       "      <td>0.001326</td>\n",
       "      <td>MCAR - 0.01 - 6</td>\n",
       "      <td>4.0</td>\n",
       "      <td>Random Forest</td>\n",
       "      <td>0.001971</td>\n",
       "      <td>1.0</td>\n",
       "    </tr>\n",
       "  </tbody>\n",
       "</table>\n",
       "</div>"
      ],
      "text/plain": [
       "  Imputation_Method_average  Improvement_average Data_Constellation  \\\n",
       "0         Discriminative DL             0.000588     MAR - 0.01 - 6   \n",
       "1         Discriminative DL             0.017566      MAR - 0.1 - 6   \n",
       "2         Discriminative DL             0.037695      MAR - 0.3 - 6   \n",
       "3         Discriminative DL             0.084636      MAR - 0.5 - 6   \n",
       "4         Discriminative DL             0.001326    MCAR - 0.01 - 6   \n",
       "\n",
       "   Downstream Performance Rank Average Imputation_Method_best  \\\n",
       "0                                  4.0                    KNN   \n",
       "1                                  1.0      Discriminative DL   \n",
       "2                                  5.0                    KNN   \n",
       "3                                  2.0                    KNN   \n",
       "4                                  4.0          Random Forest   \n",
       "\n",
       "   Improvement_best  Downstream Performance Rank Best  \n",
       "0          0.002704                               1.0  \n",
       "1          0.017566                               1.0  \n",
       "2          0.049547                               1.0  \n",
       "3          0.087385                               1.0  \n",
       "4          0.001971                               1.0  "
      ]
     },
     "execution_count": 155,
     "metadata": {},
     "output_type": "execute_result"
    }
   ],
   "source": [
    "# Take initial overview and filter best average imputation method and take filtered dataframe from 1.0 Ranking\n",
    "# Where Data_Constellation identical -> Ranking 1.0 [Improvement] - Best_Imp_Method [Improvement]\n",
    "# Write Difference in seperat column - > Calculate Average improvement\n",
    "\n",
    "# Adjust the following depending on the previous results\n",
    "av_best = data.loc[data['Imputation_Method'] == 'Discriminative DL']\n",
    "av_best['Task'] = av_best['Task'].astype(str)\n",
    "av_best['Data_Constellation'] = av_best['Data_Constellation'] + ' - ' + av_best['Task']\n",
    "\n",
    "av_best = av_best[['Imputation_Method', 'Improvement', 'Data_Constellation', 'Downstream Performance Rank']]\n",
    "av_best = av_best.rename(columns={'Imputation_Method':'Imputation_Method_average', \n",
    "                               'Improvement':'Improvement_average',\n",
    "                                 'Downstream Performance Rank':'Downstream Performance Rank Average'})\n",
    "\n",
    "#av_best.head()\n",
    "\n",
    "rank_1['Task'] = rank_1['Task'].astype(str)\n",
    "rank_1['Data_Constellation'] = rank_1['Data_Constellation'] + ' - ' + rank_1['Task']\n",
    "rank_1 = rank_1[['Imputation_Method', 'Improvement', 'Data_Constellation', 'Downstream Performance Rank']]\n",
    "rank_1 = rank_1.rename(columns={'Imputation_Method':'Imputation_Method_best', \n",
    "                               'Improvement':'Improvement_best',\n",
    "                               'Downstream Performance Rank':'Downstream Performance Rank Best'})\n",
    "\n",
    "performance_difference = pd.merge(av_best, rank_1, on='Data_Constellation')\n",
    "performance_difference.head()"
   ]
  },
  {
   "cell_type": "code",
   "execution_count": 156,
   "id": "dd83619b",
   "metadata": {},
   "outputs": [
    {
     "name": "stdout",
     "output_type": "stream",
     "text": [
      "Average Difference 0.011516673331212545\n"
     ]
    }
   ],
   "source": [
    "performance_difference['Improvement_best'] = performance_difference['Improvement_best'] + 1\n",
    "performance_difference['Improvement_average'] = performance_difference['Improvement_average'] + 1\n",
    "\n",
    "performance_difference['Performance Difference Best to Average'] = performance_difference['Improvement_best'] - performance_difference['Improvement_average']\n",
    "Average_Difference = performance_difference['Performance Difference Best to Average'].mean()\n",
    "print(\"Average Difference\", Average_Difference)\n"
   ]
  },
  {
   "cell_type": "code",
   "execution_count": 157,
   "id": "2f8eb1f6",
   "metadata": {},
   "outputs": [],
   "source": [
    "\n",
    "performance_difference.to_csv('performance_difference.csv')"
   ]
  },
  {
   "cell_type": "markdown",
   "id": "ba30e8b0",
   "metadata": {},
   "source": [
    "## Analysis and Ranking based on F1 Score"
   ]
  },
  {
   "cell_type": "code",
   "execution_count": 158,
   "id": "f6db33d4",
   "metadata": {},
   "outputs": [
    {
     "name": "stderr",
     "output_type": "stream",
     "text": [
      "C:\\Users\\dittr\\AppData\\Local\\Temp\\ipykernel_21424\\4166178819.py:35: SettingWithCopyWarning:\n",
      "\n",
      "\n",
      "A value is trying to be set on a copy of a slice from a DataFrame.\n",
      "Try using .loc[row_indexer,col_indexer] = value instead\n",
      "\n",
      "See the caveats in the documentation: https://pandas.pydata.org/pandas-docs/stable/user_guide/indexing.html#returning-a-view-versus-a-copy\n",
      "\n",
      "C:\\Users\\dittr\\AppData\\Local\\Temp\\ipykernel_21424\\4166178819.py:36: FutureWarning:\n",
      "\n",
      "The frame.append method is deprecated and will be removed from pandas in a future version. Use pandas.concat instead.\n",
      "\n",
      "C:\\Users\\dittr\\AppData\\Local\\Temp\\ipykernel_21424\\4166178819.py:35: SettingWithCopyWarning:\n",
      "\n",
      "\n",
      "A value is trying to be set on a copy of a slice from a DataFrame.\n",
      "Try using .loc[row_indexer,col_indexer] = value instead\n",
      "\n",
      "See the caveats in the documentation: https://pandas.pydata.org/pandas-docs/stable/user_guide/indexing.html#returning-a-view-versus-a-copy\n",
      "\n",
      "C:\\Users\\dittr\\AppData\\Local\\Temp\\ipykernel_21424\\4166178819.py:36: FutureWarning:\n",
      "\n",
      "The frame.append method is deprecated and will be removed from pandas in a future version. Use pandas.concat instead.\n",
      "\n",
      "C:\\Users\\dittr\\AppData\\Local\\Temp\\ipykernel_21424\\4166178819.py:35: SettingWithCopyWarning:\n",
      "\n",
      "\n",
      "A value is trying to be set on a copy of a slice from a DataFrame.\n",
      "Try using .loc[row_indexer,col_indexer] = value instead\n",
      "\n",
      "See the caveats in the documentation: https://pandas.pydata.org/pandas-docs/stable/user_guide/indexing.html#returning-a-view-versus-a-copy\n",
      "\n",
      "C:\\Users\\dittr\\AppData\\Local\\Temp\\ipykernel_21424\\4166178819.py:36: FutureWarning:\n",
      "\n",
      "The frame.append method is deprecated and will be removed from pandas in a future version. Use pandas.concat instead.\n",
      "\n",
      "C:\\Users\\dittr\\AppData\\Local\\Temp\\ipykernel_21424\\4166178819.py:35: SettingWithCopyWarning:\n",
      "\n",
      "\n",
      "A value is trying to be set on a copy of a slice from a DataFrame.\n",
      "Try using .loc[row_indexer,col_indexer] = value instead\n",
      "\n",
      "See the caveats in the documentation: https://pandas.pydata.org/pandas-docs/stable/user_guide/indexing.html#returning-a-view-versus-a-copy\n",
      "\n",
      "C:\\Users\\dittr\\AppData\\Local\\Temp\\ipykernel_21424\\4166178819.py:36: FutureWarning:\n",
      "\n",
      "The frame.append method is deprecated and will be removed from pandas in a future version. Use pandas.concat instead.\n",
      "\n",
      "C:\\Users\\dittr\\AppData\\Local\\Temp\\ipykernel_21424\\4166178819.py:35: SettingWithCopyWarning:\n",
      "\n",
      "\n",
      "A value is trying to be set on a copy of a slice from a DataFrame.\n",
      "Try using .loc[row_indexer,col_indexer] = value instead\n",
      "\n",
      "See the caveats in the documentation: https://pandas.pydata.org/pandas-docs/stable/user_guide/indexing.html#returning-a-view-versus-a-copy\n",
      "\n",
      "C:\\Users\\dittr\\AppData\\Local\\Temp\\ipykernel_21424\\4166178819.py:36: FutureWarning:\n",
      "\n",
      "The frame.append method is deprecated and will be removed from pandas in a future version. Use pandas.concat instead.\n",
      "\n",
      "C:\\Users\\dittr\\AppData\\Local\\Temp\\ipykernel_21424\\4166178819.py:35: SettingWithCopyWarning:\n",
      "\n",
      "\n",
      "A value is trying to be set on a copy of a slice from a DataFrame.\n",
      "Try using .loc[row_indexer,col_indexer] = value instead\n",
      "\n",
      "See the caveats in the documentation: https://pandas.pydata.org/pandas-docs/stable/user_guide/indexing.html#returning-a-view-versus-a-copy\n",
      "\n",
      "C:\\Users\\dittr\\AppData\\Local\\Temp\\ipykernel_21424\\4166178819.py:36: FutureWarning:\n",
      "\n",
      "The frame.append method is deprecated and will be removed from pandas in a future version. Use pandas.concat instead.\n",
      "\n",
      "C:\\Users\\dittr\\AppData\\Local\\Temp\\ipykernel_21424\\4166178819.py:35: SettingWithCopyWarning:\n",
      "\n",
      "\n",
      "A value is trying to be set on a copy of a slice from a DataFrame.\n",
      "Try using .loc[row_indexer,col_indexer] = value instead\n",
      "\n",
      "See the caveats in the documentation: https://pandas.pydata.org/pandas-docs/stable/user_guide/indexing.html#returning-a-view-versus-a-copy\n",
      "\n",
      "C:\\Users\\dittr\\AppData\\Local\\Temp\\ipykernel_21424\\4166178819.py:36: FutureWarning:\n",
      "\n",
      "The frame.append method is deprecated and will be removed from pandas in a future version. Use pandas.concat instead.\n",
      "\n",
      "C:\\Users\\dittr\\AppData\\Local\\Temp\\ipykernel_21424\\4166178819.py:35: SettingWithCopyWarning:\n",
      "\n",
      "\n",
      "A value is trying to be set on a copy of a slice from a DataFrame.\n",
      "Try using .loc[row_indexer,col_indexer] = value instead\n",
      "\n",
      "See the caveats in the documentation: https://pandas.pydata.org/pandas-docs/stable/user_guide/indexing.html#returning-a-view-versus-a-copy\n",
      "\n",
      "C:\\Users\\dittr\\AppData\\Local\\Temp\\ipykernel_21424\\4166178819.py:36: FutureWarning:\n",
      "\n",
      "The frame.append method is deprecated and will be removed from pandas in a future version. Use pandas.concat instead.\n",
      "\n",
      "C:\\Users\\dittr\\AppData\\Local\\Temp\\ipykernel_21424\\4166178819.py:35: SettingWithCopyWarning:\n",
      "\n",
      "\n",
      "A value is trying to be set on a copy of a slice from a DataFrame.\n",
      "Try using .loc[row_indexer,col_indexer] = value instead\n",
      "\n",
      "See the caveats in the documentation: https://pandas.pydata.org/pandas-docs/stable/user_guide/indexing.html#returning-a-view-versus-a-copy\n",
      "\n",
      "C:\\Users\\dittr\\AppData\\Local\\Temp\\ipykernel_21424\\4166178819.py:36: FutureWarning:\n",
      "\n",
      "The frame.append method is deprecated and will be removed from pandas in a future version. Use pandas.concat instead.\n",
      "\n",
      "C:\\Users\\dittr\\AppData\\Local\\Temp\\ipykernel_21424\\4166178819.py:35: SettingWithCopyWarning:\n",
      "\n",
      "\n",
      "A value is trying to be set on a copy of a slice from a DataFrame.\n",
      "Try using .loc[row_indexer,col_indexer] = value instead\n",
      "\n",
      "See the caveats in the documentation: https://pandas.pydata.org/pandas-docs/stable/user_guide/indexing.html#returning-a-view-versus-a-copy\n",
      "\n",
      "C:\\Users\\dittr\\AppData\\Local\\Temp\\ipykernel_21424\\4166178819.py:36: FutureWarning:\n",
      "\n",
      "The frame.append method is deprecated and will be removed from pandas in a future version. Use pandas.concat instead.\n",
      "\n",
      "C:\\Users\\dittr\\AppData\\Local\\Temp\\ipykernel_21424\\4166178819.py:35: SettingWithCopyWarning:\n",
      "\n",
      "\n",
      "A value is trying to be set on a copy of a slice from a DataFrame.\n",
      "Try using .loc[row_indexer,col_indexer] = value instead\n",
      "\n",
      "See the caveats in the documentation: https://pandas.pydata.org/pandas-docs/stable/user_guide/indexing.html#returning-a-view-versus-a-copy\n",
      "\n",
      "C:\\Users\\dittr\\AppData\\Local\\Temp\\ipykernel_21424\\4166178819.py:36: FutureWarning:\n",
      "\n",
      "The frame.append method is deprecated and will be removed from pandas in a future version. Use pandas.concat instead.\n",
      "\n",
      "C:\\Users\\dittr\\AppData\\Local\\Temp\\ipykernel_21424\\4166178819.py:35: SettingWithCopyWarning:\n",
      "\n",
      "\n",
      "A value is trying to be set on a copy of a slice from a DataFrame.\n",
      "Try using .loc[row_indexer,col_indexer] = value instead\n",
      "\n",
      "See the caveats in the documentation: https://pandas.pydata.org/pandas-docs/stable/user_guide/indexing.html#returning-a-view-versus-a-copy\n",
      "\n",
      "C:\\Users\\dittr\\AppData\\Local\\Temp\\ipykernel_21424\\4166178819.py:36: FutureWarning:\n",
      "\n",
      "The frame.append method is deprecated and will be removed from pandas in a future version. Use pandas.concat instead.\n",
      "\n",
      "C:\\Users\\dittr\\AppData\\Local\\Temp\\ipykernel_21424\\4166178819.py:35: SettingWithCopyWarning:\n",
      "\n",
      "\n",
      "A value is trying to be set on a copy of a slice from a DataFrame.\n",
      "Try using .loc[row_indexer,col_indexer] = value instead\n",
      "\n",
      "See the caveats in the documentation: https://pandas.pydata.org/pandas-docs/stable/user_guide/indexing.html#returning-a-view-versus-a-copy\n",
      "\n",
      "C:\\Users\\dittr\\AppData\\Local\\Temp\\ipykernel_21424\\4166178819.py:36: FutureWarning:\n",
      "\n",
      "The frame.append method is deprecated and will be removed from pandas in a future version. Use pandas.concat instead.\n",
      "\n",
      "C:\\Users\\dittr\\AppData\\Local\\Temp\\ipykernel_21424\\4166178819.py:35: SettingWithCopyWarning:\n",
      "\n",
      "\n",
      "A value is trying to be set on a copy of a slice from a DataFrame.\n",
      "Try using .loc[row_indexer,col_indexer] = value instead\n",
      "\n",
      "See the caveats in the documentation: https://pandas.pydata.org/pandas-docs/stable/user_guide/indexing.html#returning-a-view-versus-a-copy\n",
      "\n",
      "C:\\Users\\dittr\\AppData\\Local\\Temp\\ipykernel_21424\\4166178819.py:36: FutureWarning:\n",
      "\n",
      "The frame.append method is deprecated and will be removed from pandas in a future version. Use pandas.concat instead.\n",
      "\n",
      "C:\\Users\\dittr\\AppData\\Local\\Temp\\ipykernel_21424\\4166178819.py:35: SettingWithCopyWarning:\n",
      "\n",
      "\n",
      "A value is trying to be set on a copy of a slice from a DataFrame.\n",
      "Try using .loc[row_indexer,col_indexer] = value instead\n",
      "\n",
      "See the caveats in the documentation: https://pandas.pydata.org/pandas-docs/stable/user_guide/indexing.html#returning-a-view-versus-a-copy\n",
      "\n",
      "C:\\Users\\dittr\\AppData\\Local\\Temp\\ipykernel_21424\\4166178819.py:36: FutureWarning:\n",
      "\n",
      "The frame.append method is deprecated and will be removed from pandas in a future version. Use pandas.concat instead.\n",
      "\n",
      "C:\\Users\\dittr\\AppData\\Local\\Temp\\ipykernel_21424\\4166178819.py:35: SettingWithCopyWarning:\n",
      "\n",
      "\n",
      "A value is trying to be set on a copy of a slice from a DataFrame.\n",
      "Try using .loc[row_indexer,col_indexer] = value instead\n",
      "\n",
      "See the caveats in the documentation: https://pandas.pydata.org/pandas-docs/stable/user_guide/indexing.html#returning-a-view-versus-a-copy\n",
      "\n",
      "C:\\Users\\dittr\\AppData\\Local\\Temp\\ipykernel_21424\\4166178819.py:36: FutureWarning:\n",
      "\n",
      "The frame.append method is deprecated and will be removed from pandas in a future version. Use pandas.concat instead.\n",
      "\n",
      "C:\\Users\\dittr\\AppData\\Local\\Temp\\ipykernel_21424\\4166178819.py:35: SettingWithCopyWarning:\n",
      "\n",
      "\n",
      "A value is trying to be set on a copy of a slice from a DataFrame.\n",
      "Try using .loc[row_indexer,col_indexer] = value instead\n",
      "\n",
      "See the caveats in the documentation: https://pandas.pydata.org/pandas-docs/stable/user_guide/indexing.html#returning-a-view-versus-a-copy\n",
      "\n",
      "C:\\Users\\dittr\\AppData\\Local\\Temp\\ipykernel_21424\\4166178819.py:36: FutureWarning:\n",
      "\n",
      "The frame.append method is deprecated and will be removed from pandas in a future version. Use pandas.concat instead.\n",
      "\n",
      "C:\\Users\\dittr\\AppData\\Local\\Temp\\ipykernel_21424\\4166178819.py:35: SettingWithCopyWarning:\n",
      "\n",
      "\n",
      "A value is trying to be set on a copy of a slice from a DataFrame.\n",
      "Try using .loc[row_indexer,col_indexer] = value instead\n",
      "\n",
      "See the caveats in the documentation: https://pandas.pydata.org/pandas-docs/stable/user_guide/indexing.html#returning-a-view-versus-a-copy\n",
      "\n",
      "C:\\Users\\dittr\\AppData\\Local\\Temp\\ipykernel_21424\\4166178819.py:36: FutureWarning:\n",
      "\n",
      "The frame.append method is deprecated and will be removed from pandas in a future version. Use pandas.concat instead.\n",
      "\n",
      "C:\\Users\\dittr\\AppData\\Local\\Temp\\ipykernel_21424\\4166178819.py:35: SettingWithCopyWarning:\n",
      "\n",
      "\n",
      "A value is trying to be set on a copy of a slice from a DataFrame.\n",
      "Try using .loc[row_indexer,col_indexer] = value instead\n",
      "\n",
      "See the caveats in the documentation: https://pandas.pydata.org/pandas-docs/stable/user_guide/indexing.html#returning-a-view-versus-a-copy\n",
      "\n",
      "C:\\Users\\dittr\\AppData\\Local\\Temp\\ipykernel_21424\\4166178819.py:36: FutureWarning:\n",
      "\n",
      "The frame.append method is deprecated and will be removed from pandas in a future version. Use pandas.concat instead.\n",
      "\n",
      "C:\\Users\\dittr\\AppData\\Local\\Temp\\ipykernel_21424\\4166178819.py:35: SettingWithCopyWarning:\n",
      "\n",
      "\n",
      "A value is trying to be set on a copy of a slice from a DataFrame.\n",
      "Try using .loc[row_indexer,col_indexer] = value instead\n",
      "\n",
      "See the caveats in the documentation: https://pandas.pydata.org/pandas-docs/stable/user_guide/indexing.html#returning-a-view-versus-a-copy\n",
      "\n",
      "C:\\Users\\dittr\\AppData\\Local\\Temp\\ipykernel_21424\\4166178819.py:36: FutureWarning:\n",
      "\n",
      "The frame.append method is deprecated and will be removed from pandas in a future version. Use pandas.concat instead.\n",
      "\n",
      "C:\\Users\\dittr\\AppData\\Local\\Temp\\ipykernel_21424\\4166178819.py:35: SettingWithCopyWarning:\n",
      "\n",
      "\n",
      "A value is trying to be set on a copy of a slice from a DataFrame.\n",
      "Try using .loc[row_indexer,col_indexer] = value instead\n",
      "\n",
      "See the caveats in the documentation: https://pandas.pydata.org/pandas-docs/stable/user_guide/indexing.html#returning-a-view-versus-a-copy\n",
      "\n",
      "C:\\Users\\dittr\\AppData\\Local\\Temp\\ipykernel_21424\\4166178819.py:36: FutureWarning:\n",
      "\n",
      "The frame.append method is deprecated and will be removed from pandas in a future version. Use pandas.concat instead.\n",
      "\n",
      "C:\\Users\\dittr\\AppData\\Local\\Temp\\ipykernel_21424\\4166178819.py:35: SettingWithCopyWarning:\n",
      "\n",
      "\n",
      "A value is trying to be set on a copy of a slice from a DataFrame.\n",
      "Try using .loc[row_indexer,col_indexer] = value instead\n",
      "\n",
      "See the caveats in the documentation: https://pandas.pydata.org/pandas-docs/stable/user_guide/indexing.html#returning-a-view-versus-a-copy\n",
      "\n",
      "C:\\Users\\dittr\\AppData\\Local\\Temp\\ipykernel_21424\\4166178819.py:36: FutureWarning:\n",
      "\n",
      "The frame.append method is deprecated and will be removed from pandas in a future version. Use pandas.concat instead.\n",
      "\n",
      "C:\\Users\\dittr\\AppData\\Local\\Temp\\ipykernel_21424\\4166178819.py:35: SettingWithCopyWarning:\n",
      "\n",
      "\n",
      "A value is trying to be set on a copy of a slice from a DataFrame.\n",
      "Try using .loc[row_indexer,col_indexer] = value instead\n",
      "\n",
      "See the caveats in the documentation: https://pandas.pydata.org/pandas-docs/stable/user_guide/indexing.html#returning-a-view-versus-a-copy\n",
      "\n",
      "C:\\Users\\dittr\\AppData\\Local\\Temp\\ipykernel_21424\\4166178819.py:36: FutureWarning:\n",
      "\n",
      "The frame.append method is deprecated and will be removed from pandas in a future version. Use pandas.concat instead.\n",
      "\n",
      "C:\\Users\\dittr\\AppData\\Local\\Temp\\ipykernel_21424\\4166178819.py:35: SettingWithCopyWarning:\n",
      "\n",
      "\n",
      "A value is trying to be set on a copy of a slice from a DataFrame.\n",
      "Try using .loc[row_indexer,col_indexer] = value instead\n",
      "\n",
      "See the caveats in the documentation: https://pandas.pydata.org/pandas-docs/stable/user_guide/indexing.html#returning-a-view-versus-a-copy\n",
      "\n",
      "C:\\Users\\dittr\\AppData\\Local\\Temp\\ipykernel_21424\\4166178819.py:36: FutureWarning:\n",
      "\n",
      "The frame.append method is deprecated and will be removed from pandas in a future version. Use pandas.concat instead.\n",
      "\n",
      "C:\\Users\\dittr\\AppData\\Local\\Temp\\ipykernel_21424\\4166178819.py:35: SettingWithCopyWarning:\n",
      "\n",
      "\n",
      "A value is trying to be set on a copy of a slice from a DataFrame.\n",
      "Try using .loc[row_indexer,col_indexer] = value instead\n",
      "\n",
      "See the caveats in the documentation: https://pandas.pydata.org/pandas-docs/stable/user_guide/indexing.html#returning-a-view-versus-a-copy\n",
      "\n",
      "C:\\Users\\dittr\\AppData\\Local\\Temp\\ipykernel_21424\\4166178819.py:36: FutureWarning:\n",
      "\n",
      "The frame.append method is deprecated and will be removed from pandas in a future version. Use pandas.concat instead.\n",
      "\n",
      "C:\\Users\\dittr\\AppData\\Local\\Temp\\ipykernel_21424\\4166178819.py:35: SettingWithCopyWarning:\n",
      "\n",
      "\n",
      "A value is trying to be set on a copy of a slice from a DataFrame.\n",
      "Try using .loc[row_indexer,col_indexer] = value instead\n",
      "\n",
      "See the caveats in the documentation: https://pandas.pydata.org/pandas-docs/stable/user_guide/indexing.html#returning-a-view-versus-a-copy\n",
      "\n",
      "C:\\Users\\dittr\\AppData\\Local\\Temp\\ipykernel_21424\\4166178819.py:36: FutureWarning:\n",
      "\n",
      "The frame.append method is deprecated and will be removed from pandas in a future version. Use pandas.concat instead.\n",
      "\n",
      "C:\\Users\\dittr\\AppData\\Local\\Temp\\ipykernel_21424\\4166178819.py:35: SettingWithCopyWarning:\n",
      "\n",
      "\n",
      "A value is trying to be set on a copy of a slice from a DataFrame.\n",
      "Try using .loc[row_indexer,col_indexer] = value instead\n",
      "\n",
      "See the caveats in the documentation: https://pandas.pydata.org/pandas-docs/stable/user_guide/indexing.html#returning-a-view-versus-a-copy\n",
      "\n",
      "C:\\Users\\dittr\\AppData\\Local\\Temp\\ipykernel_21424\\4166178819.py:36: FutureWarning:\n",
      "\n",
      "The frame.append method is deprecated and will be removed from pandas in a future version. Use pandas.concat instead.\n",
      "\n",
      "C:\\Users\\dittr\\AppData\\Local\\Temp\\ipykernel_21424\\4166178819.py:35: SettingWithCopyWarning:\n",
      "\n",
      "\n",
      "A value is trying to be set on a copy of a slice from a DataFrame.\n",
      "Try using .loc[row_indexer,col_indexer] = value instead\n",
      "\n",
      "See the caveats in the documentation: https://pandas.pydata.org/pandas-docs/stable/user_guide/indexing.html#returning-a-view-versus-a-copy\n",
      "\n",
      "C:\\Users\\dittr\\AppData\\Local\\Temp\\ipykernel_21424\\4166178819.py:36: FutureWarning:\n",
      "\n",
      "The frame.append method is deprecated and will be removed from pandas in a future version. Use pandas.concat instead.\n",
      "\n",
      "C:\\Users\\dittr\\AppData\\Local\\Temp\\ipykernel_21424\\4166178819.py:35: SettingWithCopyWarning:\n",
      "\n",
      "\n",
      "A value is trying to be set on a copy of a slice from a DataFrame.\n",
      "Try using .loc[row_indexer,col_indexer] = value instead\n",
      "\n",
      "See the caveats in the documentation: https://pandas.pydata.org/pandas-docs/stable/user_guide/indexing.html#returning-a-view-versus-a-copy\n",
      "\n",
      "C:\\Users\\dittr\\AppData\\Local\\Temp\\ipykernel_21424\\4166178819.py:36: FutureWarning:\n",
      "\n",
      "The frame.append method is deprecated and will be removed from pandas in a future version. Use pandas.concat instead.\n",
      "\n",
      "C:\\Users\\dittr\\AppData\\Local\\Temp\\ipykernel_21424\\4166178819.py:35: SettingWithCopyWarning:\n",
      "\n",
      "\n",
      "A value is trying to be set on a copy of a slice from a DataFrame.\n",
      "Try using .loc[row_indexer,col_indexer] = value instead\n",
      "\n",
      "See the caveats in the documentation: https://pandas.pydata.org/pandas-docs/stable/user_guide/indexing.html#returning-a-view-versus-a-copy\n",
      "\n",
      "C:\\Users\\dittr\\AppData\\Local\\Temp\\ipykernel_21424\\4166178819.py:36: FutureWarning:\n",
      "\n",
      "The frame.append method is deprecated and will be removed from pandas in a future version. Use pandas.concat instead.\n",
      "\n",
      "C:\\Users\\dittr\\AppData\\Local\\Temp\\ipykernel_21424\\4166178819.py:35: SettingWithCopyWarning:\n",
      "\n",
      "\n",
      "A value is trying to be set on a copy of a slice from a DataFrame.\n",
      "Try using .loc[row_indexer,col_indexer] = value instead\n",
      "\n",
      "See the caveats in the documentation: https://pandas.pydata.org/pandas-docs/stable/user_guide/indexing.html#returning-a-view-versus-a-copy\n",
      "\n",
      "C:\\Users\\dittr\\AppData\\Local\\Temp\\ipykernel_21424\\4166178819.py:36: FutureWarning:\n",
      "\n",
      "The frame.append method is deprecated and will be removed from pandas in a future version. Use pandas.concat instead.\n",
      "\n",
      "C:\\Users\\dittr\\AppData\\Local\\Temp\\ipykernel_21424\\4166178819.py:35: SettingWithCopyWarning:\n",
      "\n",
      "\n",
      "A value is trying to be set on a copy of a slice from a DataFrame.\n",
      "Try using .loc[row_indexer,col_indexer] = value instead\n",
      "\n",
      "See the caveats in the documentation: https://pandas.pydata.org/pandas-docs/stable/user_guide/indexing.html#returning-a-view-versus-a-copy\n",
      "\n",
      "C:\\Users\\dittr\\AppData\\Local\\Temp\\ipykernel_21424\\4166178819.py:36: FutureWarning:\n",
      "\n",
      "The frame.append method is deprecated and will be removed from pandas in a future version. Use pandas.concat instead.\n",
      "\n",
      "C:\\Users\\dittr\\AppData\\Local\\Temp\\ipykernel_21424\\4166178819.py:35: SettingWithCopyWarning:\n",
      "\n",
      "\n",
      "A value is trying to be set on a copy of a slice from a DataFrame.\n",
      "Try using .loc[row_indexer,col_indexer] = value instead\n",
      "\n",
      "See the caveats in the documentation: https://pandas.pydata.org/pandas-docs/stable/user_guide/indexing.html#returning-a-view-versus-a-copy\n",
      "\n",
      "C:\\Users\\dittr\\AppData\\Local\\Temp\\ipykernel_21424\\4166178819.py:36: FutureWarning:\n",
      "\n",
      "The frame.append method is deprecated and will be removed from pandas in a future version. Use pandas.concat instead.\n",
      "\n",
      "C:\\Users\\dittr\\AppData\\Local\\Temp\\ipykernel_21424\\4166178819.py:35: SettingWithCopyWarning:\n",
      "\n",
      "\n",
      "A value is trying to be set on a copy of a slice from a DataFrame.\n",
      "Try using .loc[row_indexer,col_indexer] = value instead\n",
      "\n",
      "See the caveats in the documentation: https://pandas.pydata.org/pandas-docs/stable/user_guide/indexing.html#returning-a-view-versus-a-copy\n",
      "\n",
      "C:\\Users\\dittr\\AppData\\Local\\Temp\\ipykernel_21424\\4166178819.py:36: FutureWarning:\n",
      "\n",
      "The frame.append method is deprecated and will be removed from pandas in a future version. Use pandas.concat instead.\n",
      "\n",
      "C:\\Users\\dittr\\AppData\\Local\\Temp\\ipykernel_21424\\4166178819.py:35: SettingWithCopyWarning:\n",
      "\n",
      "\n",
      "A value is trying to be set on a copy of a slice from a DataFrame.\n",
      "Try using .loc[row_indexer,col_indexer] = value instead\n",
      "\n",
      "See the caveats in the documentation: https://pandas.pydata.org/pandas-docs/stable/user_guide/indexing.html#returning-a-view-versus-a-copy\n",
      "\n",
      "C:\\Users\\dittr\\AppData\\Local\\Temp\\ipykernel_21424\\4166178819.py:36: FutureWarning:\n",
      "\n",
      "The frame.append method is deprecated and will be removed from pandas in a future version. Use pandas.concat instead.\n",
      "\n",
      "C:\\Users\\dittr\\AppData\\Local\\Temp\\ipykernel_21424\\4166178819.py:35: SettingWithCopyWarning:\n",
      "\n",
      "\n",
      "A value is trying to be set on a copy of a slice from a DataFrame.\n",
      "Try using .loc[row_indexer,col_indexer] = value instead\n",
      "\n",
      "See the caveats in the documentation: https://pandas.pydata.org/pandas-docs/stable/user_guide/indexing.html#returning-a-view-versus-a-copy\n",
      "\n",
      "C:\\Users\\dittr\\AppData\\Local\\Temp\\ipykernel_21424\\4166178819.py:36: FutureWarning:\n",
      "\n",
      "The frame.append method is deprecated and will be removed from pandas in a future version. Use pandas.concat instead.\n",
      "\n",
      "C:\\Users\\dittr\\AppData\\Local\\Temp\\ipykernel_21424\\4166178819.py:35: SettingWithCopyWarning:\n",
      "\n",
      "\n",
      "A value is trying to be set on a copy of a slice from a DataFrame.\n",
      "Try using .loc[row_indexer,col_indexer] = value instead\n",
      "\n",
      "See the caveats in the documentation: https://pandas.pydata.org/pandas-docs/stable/user_guide/indexing.html#returning-a-view-versus-a-copy\n",
      "\n",
      "C:\\Users\\dittr\\AppData\\Local\\Temp\\ipykernel_21424\\4166178819.py:36: FutureWarning:\n",
      "\n",
      "The frame.append method is deprecated and will be removed from pandas in a future version. Use pandas.concat instead.\n",
      "\n",
      "C:\\Users\\dittr\\AppData\\Local\\Temp\\ipykernel_21424\\4166178819.py:35: SettingWithCopyWarning:\n",
      "\n",
      "\n",
      "A value is trying to be set on a copy of a slice from a DataFrame.\n",
      "Try using .loc[row_indexer,col_indexer] = value instead\n",
      "\n",
      "See the caveats in the documentation: https://pandas.pydata.org/pandas-docs/stable/user_guide/indexing.html#returning-a-view-versus-a-copy\n",
      "\n",
      "C:\\Users\\dittr\\AppData\\Local\\Temp\\ipykernel_21424\\4166178819.py:36: FutureWarning:\n",
      "\n",
      "The frame.append method is deprecated and will be removed from pandas in a future version. Use pandas.concat instead.\n",
      "\n",
      "C:\\Users\\dittr\\AppData\\Local\\Temp\\ipykernel_21424\\4166178819.py:35: SettingWithCopyWarning:\n",
      "\n",
      "\n",
      "A value is trying to be set on a copy of a slice from a DataFrame.\n",
      "Try using .loc[row_indexer,col_indexer] = value instead\n",
      "\n",
      "See the caveats in the documentation: https://pandas.pydata.org/pandas-docs/stable/user_guide/indexing.html#returning-a-view-versus-a-copy\n",
      "\n",
      "C:\\Users\\dittr\\AppData\\Local\\Temp\\ipykernel_21424\\4166178819.py:36: FutureWarning:\n",
      "\n",
      "The frame.append method is deprecated and will be removed from pandas in a future version. Use pandas.concat instead.\n",
      "\n",
      "C:\\Users\\dittr\\AppData\\Local\\Temp\\ipykernel_21424\\4166178819.py:35: SettingWithCopyWarning:\n",
      "\n",
      "\n",
      "A value is trying to be set on a copy of a slice from a DataFrame.\n",
      "Try using .loc[row_indexer,col_indexer] = value instead\n",
      "\n",
      "See the caveats in the documentation: https://pandas.pydata.org/pandas-docs/stable/user_guide/indexing.html#returning-a-view-versus-a-copy\n",
      "\n",
      "C:\\Users\\dittr\\AppData\\Local\\Temp\\ipykernel_21424\\4166178819.py:36: FutureWarning:\n",
      "\n",
      "The frame.append method is deprecated and will be removed from pandas in a future version. Use pandas.concat instead.\n",
      "\n",
      "C:\\Users\\dittr\\AppData\\Local\\Temp\\ipykernel_21424\\4166178819.py:35: SettingWithCopyWarning:\n",
      "\n",
      "\n",
      "A value is trying to be set on a copy of a slice from a DataFrame.\n",
      "Try using .loc[row_indexer,col_indexer] = value instead\n",
      "\n",
      "See the caveats in the documentation: https://pandas.pydata.org/pandas-docs/stable/user_guide/indexing.html#returning-a-view-versus-a-copy\n",
      "\n",
      "C:\\Users\\dittr\\AppData\\Local\\Temp\\ipykernel_21424\\4166178819.py:36: FutureWarning:\n",
      "\n",
      "The frame.append method is deprecated and will be removed from pandas in a future version. Use pandas.concat instead.\n",
      "\n",
      "C:\\Users\\dittr\\AppData\\Local\\Temp\\ipykernel_21424\\4166178819.py:35: SettingWithCopyWarning:\n",
      "\n",
      "\n",
      "A value is trying to be set on a copy of a slice from a DataFrame.\n",
      "Try using .loc[row_indexer,col_indexer] = value instead\n",
      "\n",
      "See the caveats in the documentation: https://pandas.pydata.org/pandas-docs/stable/user_guide/indexing.html#returning-a-view-versus-a-copy\n",
      "\n",
      "C:\\Users\\dittr\\AppData\\Local\\Temp\\ipykernel_21424\\4166178819.py:36: FutureWarning:\n",
      "\n",
      "The frame.append method is deprecated and will be removed from pandas in a future version. Use pandas.concat instead.\n",
      "\n",
      "C:\\Users\\dittr\\AppData\\Local\\Temp\\ipykernel_21424\\4166178819.py:35: SettingWithCopyWarning:\n",
      "\n",
      "\n",
      "A value is trying to be set on a copy of a slice from a DataFrame.\n",
      "Try using .loc[row_indexer,col_indexer] = value instead\n",
      "\n",
      "See the caveats in the documentation: https://pandas.pydata.org/pandas-docs/stable/user_guide/indexing.html#returning-a-view-versus-a-copy\n",
      "\n",
      "C:\\Users\\dittr\\AppData\\Local\\Temp\\ipykernel_21424\\4166178819.py:36: FutureWarning:\n",
      "\n",
      "The frame.append method is deprecated and will be removed from pandas in a future version. Use pandas.concat instead.\n",
      "\n",
      "C:\\Users\\dittr\\AppData\\Local\\Temp\\ipykernel_21424\\4166178819.py:35: SettingWithCopyWarning:\n",
      "\n",
      "\n",
      "A value is trying to be set on a copy of a slice from a DataFrame.\n",
      "Try using .loc[row_indexer,col_indexer] = value instead\n",
      "\n",
      "See the caveats in the documentation: https://pandas.pydata.org/pandas-docs/stable/user_guide/indexing.html#returning-a-view-versus-a-copy\n",
      "\n",
      "C:\\Users\\dittr\\AppData\\Local\\Temp\\ipykernel_21424\\4166178819.py:36: FutureWarning:\n",
      "\n",
      "The frame.append method is deprecated and will be removed from pandas in a future version. Use pandas.concat instead.\n",
      "\n",
      "C:\\Users\\dittr\\AppData\\Local\\Temp\\ipykernel_21424\\4166178819.py:35: SettingWithCopyWarning:\n",
      "\n",
      "\n",
      "A value is trying to be set on a copy of a slice from a DataFrame.\n",
      "Try using .loc[row_indexer,col_indexer] = value instead\n",
      "\n",
      "See the caveats in the documentation: https://pandas.pydata.org/pandas-docs/stable/user_guide/indexing.html#returning-a-view-versus-a-copy\n",
      "\n",
      "C:\\Users\\dittr\\AppData\\Local\\Temp\\ipykernel_21424\\4166178819.py:36: FutureWarning:\n",
      "\n",
      "The frame.append method is deprecated and will be removed from pandas in a future version. Use pandas.concat instead.\n",
      "\n",
      "C:\\Users\\dittr\\AppData\\Local\\Temp\\ipykernel_21424\\4166178819.py:35: SettingWithCopyWarning:\n",
      "\n",
      "\n",
      "A value is trying to be set on a copy of a slice from a DataFrame.\n",
      "Try using .loc[row_indexer,col_indexer] = value instead\n",
      "\n",
      "See the caveats in the documentation: https://pandas.pydata.org/pandas-docs/stable/user_guide/indexing.html#returning-a-view-versus-a-copy\n",
      "\n",
      "C:\\Users\\dittr\\AppData\\Local\\Temp\\ipykernel_21424\\4166178819.py:36: FutureWarning:\n",
      "\n",
      "The frame.append method is deprecated and will be removed from pandas in a future version. Use pandas.concat instead.\n",
      "\n",
      "C:\\Users\\dittr\\AppData\\Local\\Temp\\ipykernel_21424\\4166178819.py:35: SettingWithCopyWarning:\n",
      "\n",
      "\n",
      "A value is trying to be set on a copy of a slice from a DataFrame.\n",
      "Try using .loc[row_indexer,col_indexer] = value instead\n",
      "\n",
      "See the caveats in the documentation: https://pandas.pydata.org/pandas-docs/stable/user_guide/indexing.html#returning-a-view-versus-a-copy\n",
      "\n",
      "C:\\Users\\dittr\\AppData\\Local\\Temp\\ipykernel_21424\\4166178819.py:36: FutureWarning:\n",
      "\n",
      "The frame.append method is deprecated and will be removed from pandas in a future version. Use pandas.concat instead.\n",
      "\n",
      "C:\\Users\\dittr\\AppData\\Local\\Temp\\ipykernel_21424\\4166178819.py:35: SettingWithCopyWarning:\n",
      "\n",
      "\n",
      "A value is trying to be set on a copy of a slice from a DataFrame.\n",
      "Try using .loc[row_indexer,col_indexer] = value instead\n",
      "\n",
      "See the caveats in the documentation: https://pandas.pydata.org/pandas-docs/stable/user_guide/indexing.html#returning-a-view-versus-a-copy\n",
      "\n",
      "C:\\Users\\dittr\\AppData\\Local\\Temp\\ipykernel_21424\\4166178819.py:36: FutureWarning:\n",
      "\n",
      "The frame.append method is deprecated and will be removed from pandas in a future version. Use pandas.concat instead.\n",
      "\n",
      "C:\\Users\\dittr\\AppData\\Local\\Temp\\ipykernel_21424\\4166178819.py:35: SettingWithCopyWarning:\n",
      "\n",
      "\n",
      "A value is trying to be set on a copy of a slice from a DataFrame.\n",
      "Try using .loc[row_indexer,col_indexer] = value instead\n",
      "\n",
      "See the caveats in the documentation: https://pandas.pydata.org/pandas-docs/stable/user_guide/indexing.html#returning-a-view-versus-a-copy\n",
      "\n",
      "C:\\Users\\dittr\\AppData\\Local\\Temp\\ipykernel_21424\\4166178819.py:36: FutureWarning:\n",
      "\n",
      "The frame.append method is deprecated and will be removed from pandas in a future version. Use pandas.concat instead.\n",
      "\n",
      "C:\\Users\\dittr\\AppData\\Local\\Temp\\ipykernel_21424\\4166178819.py:35: SettingWithCopyWarning:\n",
      "\n",
      "\n",
      "A value is trying to be set on a copy of a slice from a DataFrame.\n",
      "Try using .loc[row_indexer,col_indexer] = value instead\n",
      "\n",
      "See the caveats in the documentation: https://pandas.pydata.org/pandas-docs/stable/user_guide/indexing.html#returning-a-view-versus-a-copy\n",
      "\n",
      "C:\\Users\\dittr\\AppData\\Local\\Temp\\ipykernel_21424\\4166178819.py:36: FutureWarning:\n",
      "\n",
      "The frame.append method is deprecated and will be removed from pandas in a future version. Use pandas.concat instead.\n",
      "\n",
      "C:\\Users\\dittr\\AppData\\Local\\Temp\\ipykernel_21424\\4166178819.py:35: SettingWithCopyWarning:\n",
      "\n",
      "\n",
      "A value is trying to be set on a copy of a slice from a DataFrame.\n",
      "Try using .loc[row_indexer,col_indexer] = value instead\n",
      "\n",
      "See the caveats in the documentation: https://pandas.pydata.org/pandas-docs/stable/user_guide/indexing.html#returning-a-view-versus-a-copy\n",
      "\n",
      "C:\\Users\\dittr\\AppData\\Local\\Temp\\ipykernel_21424\\4166178819.py:36: FutureWarning:\n",
      "\n",
      "The frame.append method is deprecated and will be removed from pandas in a future version. Use pandas.concat instead.\n",
      "\n",
      "C:\\Users\\dittr\\AppData\\Local\\Temp\\ipykernel_21424\\4166178819.py:35: SettingWithCopyWarning:\n",
      "\n",
      "\n",
      "A value is trying to be set on a copy of a slice from a DataFrame.\n",
      "Try using .loc[row_indexer,col_indexer] = value instead\n",
      "\n",
      "See the caveats in the documentation: https://pandas.pydata.org/pandas-docs/stable/user_guide/indexing.html#returning-a-view-versus-a-copy\n",
      "\n",
      "C:\\Users\\dittr\\AppData\\Local\\Temp\\ipykernel_21424\\4166178819.py:36: FutureWarning:\n",
      "\n",
      "The frame.append method is deprecated and will be removed from pandas in a future version. Use pandas.concat instead.\n",
      "\n",
      "C:\\Users\\dittr\\AppData\\Local\\Temp\\ipykernel_21424\\4166178819.py:35: SettingWithCopyWarning:\n",
      "\n",
      "\n",
      "A value is trying to be set on a copy of a slice from a DataFrame.\n",
      "Try using .loc[row_indexer,col_indexer] = value instead\n",
      "\n",
      "See the caveats in the documentation: https://pandas.pydata.org/pandas-docs/stable/user_guide/indexing.html#returning-a-view-versus-a-copy\n",
      "\n",
      "C:\\Users\\dittr\\AppData\\Local\\Temp\\ipykernel_21424\\4166178819.py:36: FutureWarning:\n",
      "\n",
      "The frame.append method is deprecated and will be removed from pandas in a future version. Use pandas.concat instead.\n",
      "\n",
      "C:\\Users\\dittr\\AppData\\Local\\Temp\\ipykernel_21424\\4166178819.py:35: SettingWithCopyWarning:\n",
      "\n",
      "\n",
      "A value is trying to be set on a copy of a slice from a DataFrame.\n",
      "Try using .loc[row_indexer,col_indexer] = value instead\n",
      "\n",
      "See the caveats in the documentation: https://pandas.pydata.org/pandas-docs/stable/user_guide/indexing.html#returning-a-view-versus-a-copy\n",
      "\n",
      "C:\\Users\\dittr\\AppData\\Local\\Temp\\ipykernel_21424\\4166178819.py:36: FutureWarning:\n",
      "\n",
      "The frame.append method is deprecated and will be removed from pandas in a future version. Use pandas.concat instead.\n",
      "\n",
      "C:\\Users\\dittr\\AppData\\Local\\Temp\\ipykernel_21424\\4166178819.py:35: SettingWithCopyWarning:\n",
      "\n",
      "\n",
      "A value is trying to be set on a copy of a slice from a DataFrame.\n",
      "Try using .loc[row_indexer,col_indexer] = value instead\n",
      "\n",
      "See the caveats in the documentation: https://pandas.pydata.org/pandas-docs/stable/user_guide/indexing.html#returning-a-view-versus-a-copy\n",
      "\n",
      "C:\\Users\\dittr\\AppData\\Local\\Temp\\ipykernel_21424\\4166178819.py:36: FutureWarning:\n",
      "\n",
      "The frame.append method is deprecated and will be removed from pandas in a future version. Use pandas.concat instead.\n",
      "\n",
      "C:\\Users\\dittr\\AppData\\Local\\Temp\\ipykernel_21424\\4166178819.py:35: SettingWithCopyWarning:\n",
      "\n",
      "\n",
      "A value is trying to be set on a copy of a slice from a DataFrame.\n",
      "Try using .loc[row_indexer,col_indexer] = value instead\n",
      "\n",
      "See the caveats in the documentation: https://pandas.pydata.org/pandas-docs/stable/user_guide/indexing.html#returning-a-view-versus-a-copy\n",
      "\n",
      "C:\\Users\\dittr\\AppData\\Local\\Temp\\ipykernel_21424\\4166178819.py:36: FutureWarning:\n",
      "\n",
      "The frame.append method is deprecated and will be removed from pandas in a future version. Use pandas.concat instead.\n",
      "\n",
      "C:\\Users\\dittr\\AppData\\Local\\Temp\\ipykernel_21424\\4166178819.py:35: SettingWithCopyWarning:\n",
      "\n",
      "\n",
      "A value is trying to be set on a copy of a slice from a DataFrame.\n",
      "Try using .loc[row_indexer,col_indexer] = value instead\n",
      "\n",
      "See the caveats in the documentation: https://pandas.pydata.org/pandas-docs/stable/user_guide/indexing.html#returning-a-view-versus-a-copy\n",
      "\n",
      "C:\\Users\\dittr\\AppData\\Local\\Temp\\ipykernel_21424\\4166178819.py:36: FutureWarning:\n",
      "\n",
      "The frame.append method is deprecated and will be removed from pandas in a future version. Use pandas.concat instead.\n",
      "\n",
      "C:\\Users\\dittr\\AppData\\Local\\Temp\\ipykernel_21424\\4166178819.py:35: SettingWithCopyWarning:\n",
      "\n",
      "\n",
      "A value is trying to be set on a copy of a slice from a DataFrame.\n",
      "Try using .loc[row_indexer,col_indexer] = value instead\n",
      "\n",
      "See the caveats in the documentation: https://pandas.pydata.org/pandas-docs/stable/user_guide/indexing.html#returning-a-view-versus-a-copy\n",
      "\n",
      "C:\\Users\\dittr\\AppData\\Local\\Temp\\ipykernel_21424\\4166178819.py:36: FutureWarning:\n",
      "\n",
      "The frame.append method is deprecated and will be removed from pandas in a future version. Use pandas.concat instead.\n",
      "\n",
      "C:\\Users\\dittr\\AppData\\Local\\Temp\\ipykernel_21424\\4166178819.py:35: SettingWithCopyWarning:\n",
      "\n",
      "\n",
      "A value is trying to be set on a copy of a slice from a DataFrame.\n",
      "Try using .loc[row_indexer,col_indexer] = value instead\n",
      "\n",
      "See the caveats in the documentation: https://pandas.pydata.org/pandas-docs/stable/user_guide/indexing.html#returning-a-view-versus-a-copy\n",
      "\n",
      "C:\\Users\\dittr\\AppData\\Local\\Temp\\ipykernel_21424\\4166178819.py:36: FutureWarning:\n",
      "\n",
      "The frame.append method is deprecated and will be removed from pandas in a future version. Use pandas.concat instead.\n",
      "\n",
      "C:\\Users\\dittr\\AppData\\Local\\Temp\\ipykernel_21424\\4166178819.py:35: SettingWithCopyWarning:\n",
      "\n",
      "\n",
      "A value is trying to be set on a copy of a slice from a DataFrame.\n",
      "Try using .loc[row_indexer,col_indexer] = value instead\n",
      "\n",
      "See the caveats in the documentation: https://pandas.pydata.org/pandas-docs/stable/user_guide/indexing.html#returning-a-view-versus-a-copy\n",
      "\n",
      "C:\\Users\\dittr\\AppData\\Local\\Temp\\ipykernel_21424\\4166178819.py:36: FutureWarning:\n",
      "\n",
      "The frame.append method is deprecated and will be removed from pandas in a future version. Use pandas.concat instead.\n",
      "\n",
      "C:\\Users\\dittr\\AppData\\Local\\Temp\\ipykernel_21424\\4166178819.py:35: SettingWithCopyWarning:\n",
      "\n",
      "\n",
      "A value is trying to be set on a copy of a slice from a DataFrame.\n",
      "Try using .loc[row_indexer,col_indexer] = value instead\n",
      "\n",
      "See the caveats in the documentation: https://pandas.pydata.org/pandas-docs/stable/user_guide/indexing.html#returning-a-view-versus-a-copy\n",
      "\n",
      "C:\\Users\\dittr\\AppData\\Local\\Temp\\ipykernel_21424\\4166178819.py:36: FutureWarning:\n",
      "\n",
      "The frame.append method is deprecated and will be removed from pandas in a future version. Use pandas.concat instead.\n",
      "\n",
      "C:\\Users\\dittr\\AppData\\Local\\Temp\\ipykernel_21424\\4166178819.py:35: SettingWithCopyWarning:\n",
      "\n",
      "\n",
      "A value is trying to be set on a copy of a slice from a DataFrame.\n",
      "Try using .loc[row_indexer,col_indexer] = value instead\n",
      "\n",
      "See the caveats in the documentation: https://pandas.pydata.org/pandas-docs/stable/user_guide/indexing.html#returning-a-view-versus-a-copy\n",
      "\n",
      "C:\\Users\\dittr\\AppData\\Local\\Temp\\ipykernel_21424\\4166178819.py:36: FutureWarning:\n",
      "\n",
      "The frame.append method is deprecated and will be removed from pandas in a future version. Use pandas.concat instead.\n",
      "\n",
      "C:\\Users\\dittr\\AppData\\Local\\Temp\\ipykernel_21424\\4166178819.py:35: SettingWithCopyWarning:\n",
      "\n",
      "\n",
      "A value is trying to be set on a copy of a slice from a DataFrame.\n",
      "Try using .loc[row_indexer,col_indexer] = value instead\n",
      "\n",
      "See the caveats in the documentation: https://pandas.pydata.org/pandas-docs/stable/user_guide/indexing.html#returning-a-view-versus-a-copy\n",
      "\n",
      "C:\\Users\\dittr\\AppData\\Local\\Temp\\ipykernel_21424\\4166178819.py:36: FutureWarning:\n",
      "\n",
      "The frame.append method is deprecated and will be removed from pandas in a future version. Use pandas.concat instead.\n",
      "\n",
      "C:\\Users\\dittr\\AppData\\Local\\Temp\\ipykernel_21424\\4166178819.py:35: SettingWithCopyWarning:\n",
      "\n",
      "\n",
      "A value is trying to be set on a copy of a slice from a DataFrame.\n",
      "Try using .loc[row_indexer,col_indexer] = value instead\n",
      "\n",
      "See the caveats in the documentation: https://pandas.pydata.org/pandas-docs/stable/user_guide/indexing.html#returning-a-view-versus-a-copy\n",
      "\n",
      "C:\\Users\\dittr\\AppData\\Local\\Temp\\ipykernel_21424\\4166178819.py:36: FutureWarning:\n",
      "\n",
      "The frame.append method is deprecated and will be removed from pandas in a future version. Use pandas.concat instead.\n",
      "\n",
      "C:\\Users\\dittr\\AppData\\Local\\Temp\\ipykernel_21424\\4166178819.py:35: SettingWithCopyWarning:\n",
      "\n",
      "\n",
      "A value is trying to be set on a copy of a slice from a DataFrame.\n",
      "Try using .loc[row_indexer,col_indexer] = value instead\n",
      "\n",
      "See the caveats in the documentation: https://pandas.pydata.org/pandas-docs/stable/user_guide/indexing.html#returning-a-view-versus-a-copy\n",
      "\n",
      "C:\\Users\\dittr\\AppData\\Local\\Temp\\ipykernel_21424\\4166178819.py:36: FutureWarning:\n",
      "\n",
      "The frame.append method is deprecated and will be removed from pandas in a future version. Use pandas.concat instead.\n",
      "\n",
      "C:\\Users\\dittr\\AppData\\Local\\Temp\\ipykernel_21424\\4166178819.py:35: SettingWithCopyWarning:\n",
      "\n",
      "\n",
      "A value is trying to be set on a copy of a slice from a DataFrame.\n",
      "Try using .loc[row_indexer,col_indexer] = value instead\n",
      "\n",
      "See the caveats in the documentation: https://pandas.pydata.org/pandas-docs/stable/user_guide/indexing.html#returning-a-view-versus-a-copy\n",
      "\n",
      "C:\\Users\\dittr\\AppData\\Local\\Temp\\ipykernel_21424\\4166178819.py:36: FutureWarning:\n",
      "\n",
      "The frame.append method is deprecated and will be removed from pandas in a future version. Use pandas.concat instead.\n",
      "\n",
      "C:\\Users\\dittr\\AppData\\Local\\Temp\\ipykernel_21424\\4166178819.py:35: SettingWithCopyWarning:\n",
      "\n",
      "\n",
      "A value is trying to be set on a copy of a slice from a DataFrame.\n",
      "Try using .loc[row_indexer,col_indexer] = value instead\n",
      "\n",
      "See the caveats in the documentation: https://pandas.pydata.org/pandas-docs/stable/user_guide/indexing.html#returning-a-view-versus-a-copy\n",
      "\n",
      "C:\\Users\\dittr\\AppData\\Local\\Temp\\ipykernel_21424\\4166178819.py:36: FutureWarning:\n",
      "\n",
      "The frame.append method is deprecated and will be removed from pandas in a future version. Use pandas.concat instead.\n",
      "\n",
      "C:\\Users\\dittr\\AppData\\Local\\Temp\\ipykernel_21424\\4166178819.py:35: SettingWithCopyWarning:\n",
      "\n",
      "\n",
      "A value is trying to be set on a copy of a slice from a DataFrame.\n",
      "Try using .loc[row_indexer,col_indexer] = value instead\n",
      "\n",
      "See the caveats in the documentation: https://pandas.pydata.org/pandas-docs/stable/user_guide/indexing.html#returning-a-view-versus-a-copy\n",
      "\n",
      "C:\\Users\\dittr\\AppData\\Local\\Temp\\ipykernel_21424\\4166178819.py:36: FutureWarning:\n",
      "\n",
      "The frame.append method is deprecated and will be removed from pandas in a future version. Use pandas.concat instead.\n",
      "\n",
      "C:\\Users\\dittr\\AppData\\Local\\Temp\\ipykernel_21424\\4166178819.py:35: SettingWithCopyWarning:\n",
      "\n",
      "\n",
      "A value is trying to be set on a copy of a slice from a DataFrame.\n",
      "Try using .loc[row_indexer,col_indexer] = value instead\n",
      "\n",
      "See the caveats in the documentation: https://pandas.pydata.org/pandas-docs/stable/user_guide/indexing.html#returning-a-view-versus-a-copy\n",
      "\n",
      "C:\\Users\\dittr\\AppData\\Local\\Temp\\ipykernel_21424\\4166178819.py:36: FutureWarning:\n",
      "\n",
      "The frame.append method is deprecated and will be removed from pandas in a future version. Use pandas.concat instead.\n",
      "\n",
      "C:\\Users\\dittr\\AppData\\Local\\Temp\\ipykernel_21424\\4166178819.py:35: SettingWithCopyWarning:\n",
      "\n",
      "\n",
      "A value is trying to be set on a copy of a slice from a DataFrame.\n",
      "Try using .loc[row_indexer,col_indexer] = value instead\n",
      "\n",
      "See the caveats in the documentation: https://pandas.pydata.org/pandas-docs/stable/user_guide/indexing.html#returning-a-view-versus-a-copy\n",
      "\n",
      "C:\\Users\\dittr\\AppData\\Local\\Temp\\ipykernel_21424\\4166178819.py:36: FutureWarning:\n",
      "\n",
      "The frame.append method is deprecated and will be removed from pandas in a future version. Use pandas.concat instead.\n",
      "\n",
      "C:\\Users\\dittr\\AppData\\Local\\Temp\\ipykernel_21424\\4166178819.py:35: SettingWithCopyWarning:\n",
      "\n",
      "\n",
      "A value is trying to be set on a copy of a slice from a DataFrame.\n",
      "Try using .loc[row_indexer,col_indexer] = value instead\n",
      "\n",
      "See the caveats in the documentation: https://pandas.pydata.org/pandas-docs/stable/user_guide/indexing.html#returning-a-view-versus-a-copy\n",
      "\n",
      "C:\\Users\\dittr\\AppData\\Local\\Temp\\ipykernel_21424\\4166178819.py:36: FutureWarning:\n",
      "\n",
      "The frame.append method is deprecated and will be removed from pandas in a future version. Use pandas.concat instead.\n",
      "\n",
      "C:\\Users\\dittr\\AppData\\Local\\Temp\\ipykernel_21424\\4166178819.py:35: SettingWithCopyWarning:\n",
      "\n",
      "\n",
      "A value is trying to be set on a copy of a slice from a DataFrame.\n",
      "Try using .loc[row_indexer,col_indexer] = value instead\n",
      "\n",
      "See the caveats in the documentation: https://pandas.pydata.org/pandas-docs/stable/user_guide/indexing.html#returning-a-view-versus-a-copy\n",
      "\n",
      "C:\\Users\\dittr\\AppData\\Local\\Temp\\ipykernel_21424\\4166178819.py:36: FutureWarning:\n",
      "\n",
      "The frame.append method is deprecated and will be removed from pandas in a future version. Use pandas.concat instead.\n",
      "\n",
      "C:\\Users\\dittr\\AppData\\Local\\Temp\\ipykernel_21424\\4166178819.py:35: SettingWithCopyWarning:\n",
      "\n",
      "\n",
      "A value is trying to be set on a copy of a slice from a DataFrame.\n",
      "Try using .loc[row_indexer,col_indexer] = value instead\n",
      "\n",
      "See the caveats in the documentation: https://pandas.pydata.org/pandas-docs/stable/user_guide/indexing.html#returning-a-view-versus-a-copy\n",
      "\n",
      "C:\\Users\\dittr\\AppData\\Local\\Temp\\ipykernel_21424\\4166178819.py:36: FutureWarning:\n",
      "\n",
      "The frame.append method is deprecated and will be removed from pandas in a future version. Use pandas.concat instead.\n",
      "\n",
      "C:\\Users\\dittr\\AppData\\Local\\Temp\\ipykernel_21424\\4166178819.py:35: SettingWithCopyWarning:\n",
      "\n",
      "\n",
      "A value is trying to be set on a copy of a slice from a DataFrame.\n",
      "Try using .loc[row_indexer,col_indexer] = value instead\n",
      "\n",
      "See the caveats in the documentation: https://pandas.pydata.org/pandas-docs/stable/user_guide/indexing.html#returning-a-view-versus-a-copy\n",
      "\n",
      "C:\\Users\\dittr\\AppData\\Local\\Temp\\ipykernel_21424\\4166178819.py:36: FutureWarning:\n",
      "\n",
      "The frame.append method is deprecated and will be removed from pandas in a future version. Use pandas.concat instead.\n",
      "\n",
      "C:\\Users\\dittr\\AppData\\Local\\Temp\\ipykernel_21424\\4166178819.py:35: SettingWithCopyWarning:\n",
      "\n",
      "\n",
      "A value is trying to be set on a copy of a slice from a DataFrame.\n",
      "Try using .loc[row_indexer,col_indexer] = value instead\n",
      "\n",
      "See the caveats in the documentation: https://pandas.pydata.org/pandas-docs/stable/user_guide/indexing.html#returning-a-view-versus-a-copy\n",
      "\n",
      "C:\\Users\\dittr\\AppData\\Local\\Temp\\ipykernel_21424\\4166178819.py:36: FutureWarning:\n",
      "\n",
      "The frame.append method is deprecated and will be removed from pandas in a future version. Use pandas.concat instead.\n",
      "\n",
      "C:\\Users\\dittr\\AppData\\Local\\Temp\\ipykernel_21424\\4166178819.py:35: SettingWithCopyWarning:\n",
      "\n",
      "\n",
      "A value is trying to be set on a copy of a slice from a DataFrame.\n",
      "Try using .loc[row_indexer,col_indexer] = value instead\n",
      "\n",
      "See the caveats in the documentation: https://pandas.pydata.org/pandas-docs/stable/user_guide/indexing.html#returning-a-view-versus-a-copy\n",
      "\n",
      "C:\\Users\\dittr\\AppData\\Local\\Temp\\ipykernel_21424\\4166178819.py:36: FutureWarning:\n",
      "\n",
      "The frame.append method is deprecated and will be removed from pandas in a future version. Use pandas.concat instead.\n",
      "\n",
      "C:\\Users\\dittr\\AppData\\Local\\Temp\\ipykernel_21424\\4166178819.py:35: SettingWithCopyWarning:\n",
      "\n",
      "\n",
      "A value is trying to be set on a copy of a slice from a DataFrame.\n",
      "Try using .loc[row_indexer,col_indexer] = value instead\n",
      "\n",
      "See the caveats in the documentation: https://pandas.pydata.org/pandas-docs/stable/user_guide/indexing.html#returning-a-view-versus-a-copy\n",
      "\n",
      "C:\\Users\\dittr\\AppData\\Local\\Temp\\ipykernel_21424\\4166178819.py:36: FutureWarning:\n",
      "\n",
      "The frame.append method is deprecated and will be removed from pandas in a future version. Use pandas.concat instead.\n",
      "\n"
     ]
    },
    {
     "name": "stdout",
     "output_type": "stream",
     "text": [
      "empty\n"
     ]
    },
    {
     "name": "stderr",
     "output_type": "stream",
     "text": [
      "C:\\Users\\dittr\\AppData\\Local\\Temp\\ipykernel_21424\\4166178819.py:35: SettingWithCopyWarning:\n",
      "\n",
      "\n",
      "A value is trying to be set on a copy of a slice from a DataFrame.\n",
      "Try using .loc[row_indexer,col_indexer] = value instead\n",
      "\n",
      "See the caveats in the documentation: https://pandas.pydata.org/pandas-docs/stable/user_guide/indexing.html#returning-a-view-versus-a-copy\n",
      "\n",
      "C:\\Users\\dittr\\AppData\\Local\\Temp\\ipykernel_21424\\4166178819.py:36: FutureWarning:\n",
      "\n",
      "The frame.append method is deprecated and will be removed from pandas in a future version. Use pandas.concat instead.\n",
      "\n",
      "C:\\Users\\dittr\\AppData\\Local\\Temp\\ipykernel_21424\\4166178819.py:35: SettingWithCopyWarning:\n",
      "\n",
      "\n",
      "A value is trying to be set on a copy of a slice from a DataFrame.\n",
      "Try using .loc[row_indexer,col_indexer] = value instead\n",
      "\n",
      "See the caveats in the documentation: https://pandas.pydata.org/pandas-docs/stable/user_guide/indexing.html#returning-a-view-versus-a-copy\n",
      "\n",
      "C:\\Users\\dittr\\AppData\\Local\\Temp\\ipykernel_21424\\4166178819.py:36: FutureWarning:\n",
      "\n",
      "The frame.append method is deprecated and will be removed from pandas in a future version. Use pandas.concat instead.\n",
      "\n",
      "C:\\Users\\dittr\\AppData\\Local\\Temp\\ipykernel_21424\\4166178819.py:35: SettingWithCopyWarning:\n",
      "\n",
      "\n",
      "A value is trying to be set on a copy of a slice from a DataFrame.\n",
      "Try using .loc[row_indexer,col_indexer] = value instead\n",
      "\n",
      "See the caveats in the documentation: https://pandas.pydata.org/pandas-docs/stable/user_guide/indexing.html#returning-a-view-versus-a-copy\n",
      "\n",
      "C:\\Users\\dittr\\AppData\\Local\\Temp\\ipykernel_21424\\4166178819.py:36: FutureWarning:\n",
      "\n",
      "The frame.append method is deprecated and will be removed from pandas in a future version. Use pandas.concat instead.\n",
      "\n",
      "C:\\Users\\dittr\\AppData\\Local\\Temp\\ipykernel_21424\\4166178819.py:35: SettingWithCopyWarning:\n",
      "\n",
      "\n",
      "A value is trying to be set on a copy of a slice from a DataFrame.\n",
      "Try using .loc[row_indexer,col_indexer] = value instead\n",
      "\n",
      "See the caveats in the documentation: https://pandas.pydata.org/pandas-docs/stable/user_guide/indexing.html#returning-a-view-versus-a-copy\n",
      "\n",
      "C:\\Users\\dittr\\AppData\\Local\\Temp\\ipykernel_21424\\4166178819.py:36: FutureWarning:\n",
      "\n",
      "The frame.append method is deprecated and will be removed from pandas in a future version. Use pandas.concat instead.\n",
      "\n",
      "C:\\Users\\dittr\\AppData\\Local\\Temp\\ipykernel_21424\\4166178819.py:35: SettingWithCopyWarning:\n",
      "\n",
      "\n",
      "A value is trying to be set on a copy of a slice from a DataFrame.\n",
      "Try using .loc[row_indexer,col_indexer] = value instead\n",
      "\n",
      "See the caveats in the documentation: https://pandas.pydata.org/pandas-docs/stable/user_guide/indexing.html#returning-a-view-versus-a-copy\n",
      "\n",
      "C:\\Users\\dittr\\AppData\\Local\\Temp\\ipykernel_21424\\4166178819.py:36: FutureWarning:\n",
      "\n",
      "The frame.append method is deprecated and will be removed from pandas in a future version. Use pandas.concat instead.\n",
      "\n",
      "C:\\Users\\dittr\\AppData\\Local\\Temp\\ipykernel_21424\\4166178819.py:35: SettingWithCopyWarning:\n",
      "\n",
      "\n",
      "A value is trying to be set on a copy of a slice from a DataFrame.\n",
      "Try using .loc[row_indexer,col_indexer] = value instead\n",
      "\n",
      "See the caveats in the documentation: https://pandas.pydata.org/pandas-docs/stable/user_guide/indexing.html#returning-a-view-versus-a-copy\n",
      "\n",
      "C:\\Users\\dittr\\AppData\\Local\\Temp\\ipykernel_21424\\4166178819.py:36: FutureWarning:\n",
      "\n",
      "The frame.append method is deprecated and will be removed from pandas in a future version. Use pandas.concat instead.\n",
      "\n",
      "C:\\Users\\dittr\\AppData\\Local\\Temp\\ipykernel_21424\\4166178819.py:35: SettingWithCopyWarning:\n",
      "\n",
      "\n",
      "A value is trying to be set on a copy of a slice from a DataFrame.\n",
      "Try using .loc[row_indexer,col_indexer] = value instead\n",
      "\n",
      "See the caveats in the documentation: https://pandas.pydata.org/pandas-docs/stable/user_guide/indexing.html#returning-a-view-versus-a-copy\n",
      "\n",
      "C:\\Users\\dittr\\AppData\\Local\\Temp\\ipykernel_21424\\4166178819.py:36: FutureWarning:\n",
      "\n",
      "The frame.append method is deprecated and will be removed from pandas in a future version. Use pandas.concat instead.\n",
      "\n",
      "C:\\Users\\dittr\\AppData\\Local\\Temp\\ipykernel_21424\\4166178819.py:35: SettingWithCopyWarning:\n",
      "\n",
      "\n",
      "A value is trying to be set on a copy of a slice from a DataFrame.\n",
      "Try using .loc[row_indexer,col_indexer] = value instead\n",
      "\n",
      "See the caveats in the documentation: https://pandas.pydata.org/pandas-docs/stable/user_guide/indexing.html#returning-a-view-versus-a-copy\n",
      "\n",
      "C:\\Users\\dittr\\AppData\\Local\\Temp\\ipykernel_21424\\4166178819.py:36: FutureWarning:\n",
      "\n",
      "The frame.append method is deprecated and will be removed from pandas in a future version. Use pandas.concat instead.\n",
      "\n",
      "C:\\Users\\dittr\\AppData\\Local\\Temp\\ipykernel_21424\\4166178819.py:35: SettingWithCopyWarning:\n",
      "\n",
      "\n",
      "A value is trying to be set on a copy of a slice from a DataFrame.\n",
      "Try using .loc[row_indexer,col_indexer] = value instead\n",
      "\n",
      "See the caveats in the documentation: https://pandas.pydata.org/pandas-docs/stable/user_guide/indexing.html#returning-a-view-versus-a-copy\n",
      "\n",
      "C:\\Users\\dittr\\AppData\\Local\\Temp\\ipykernel_21424\\4166178819.py:36: FutureWarning:\n",
      "\n",
      "The frame.append method is deprecated and will be removed from pandas in a future version. Use pandas.concat instead.\n",
      "\n",
      "C:\\Users\\dittr\\AppData\\Local\\Temp\\ipykernel_21424\\4166178819.py:35: SettingWithCopyWarning:\n",
      "\n",
      "\n",
      "A value is trying to be set on a copy of a slice from a DataFrame.\n",
      "Try using .loc[row_indexer,col_indexer] = value instead\n",
      "\n",
      "See the caveats in the documentation: https://pandas.pydata.org/pandas-docs/stable/user_guide/indexing.html#returning-a-view-versus-a-copy\n",
      "\n",
      "C:\\Users\\dittr\\AppData\\Local\\Temp\\ipykernel_21424\\4166178819.py:36: FutureWarning:\n",
      "\n",
      "The frame.append method is deprecated and will be removed from pandas in a future version. Use pandas.concat instead.\n",
      "\n",
      "C:\\Users\\dittr\\AppData\\Local\\Temp\\ipykernel_21424\\4166178819.py:35: SettingWithCopyWarning:\n",
      "\n",
      "\n",
      "A value is trying to be set on a copy of a slice from a DataFrame.\n",
      "Try using .loc[row_indexer,col_indexer] = value instead\n",
      "\n",
      "See the caveats in the documentation: https://pandas.pydata.org/pandas-docs/stable/user_guide/indexing.html#returning-a-view-versus-a-copy\n",
      "\n",
      "C:\\Users\\dittr\\AppData\\Local\\Temp\\ipykernel_21424\\4166178819.py:36: FutureWarning:\n",
      "\n",
      "The frame.append method is deprecated and will be removed from pandas in a future version. Use pandas.concat instead.\n",
      "\n",
      "C:\\Users\\dittr\\AppData\\Local\\Temp\\ipykernel_21424\\4166178819.py:35: SettingWithCopyWarning:\n",
      "\n",
      "\n",
      "A value is trying to be set on a copy of a slice from a DataFrame.\n",
      "Try using .loc[row_indexer,col_indexer] = value instead\n",
      "\n",
      "See the caveats in the documentation: https://pandas.pydata.org/pandas-docs/stable/user_guide/indexing.html#returning-a-view-versus-a-copy\n",
      "\n",
      "C:\\Users\\dittr\\AppData\\Local\\Temp\\ipykernel_21424\\4166178819.py:36: FutureWarning:\n",
      "\n",
      "The frame.append method is deprecated and will be removed from pandas in a future version. Use pandas.concat instead.\n",
      "\n",
      "C:\\Users\\dittr\\AppData\\Local\\Temp\\ipykernel_21424\\4166178819.py:35: SettingWithCopyWarning:\n",
      "\n",
      "\n",
      "A value is trying to be set on a copy of a slice from a DataFrame.\n",
      "Try using .loc[row_indexer,col_indexer] = value instead\n",
      "\n",
      "See the caveats in the documentation: https://pandas.pydata.org/pandas-docs/stable/user_guide/indexing.html#returning-a-view-versus-a-copy\n",
      "\n",
      "C:\\Users\\dittr\\AppData\\Local\\Temp\\ipykernel_21424\\4166178819.py:36: FutureWarning:\n",
      "\n",
      "The frame.append method is deprecated and will be removed from pandas in a future version. Use pandas.concat instead.\n",
      "\n",
      "C:\\Users\\dittr\\AppData\\Local\\Temp\\ipykernel_21424\\4166178819.py:35: SettingWithCopyWarning:\n",
      "\n",
      "\n",
      "A value is trying to be set on a copy of a slice from a DataFrame.\n",
      "Try using .loc[row_indexer,col_indexer] = value instead\n",
      "\n",
      "See the caveats in the documentation: https://pandas.pydata.org/pandas-docs/stable/user_guide/indexing.html#returning-a-view-versus-a-copy\n",
      "\n",
      "C:\\Users\\dittr\\AppData\\Local\\Temp\\ipykernel_21424\\4166178819.py:36: FutureWarning:\n",
      "\n",
      "The frame.append method is deprecated and will be removed from pandas in a future version. Use pandas.concat instead.\n",
      "\n",
      "C:\\Users\\dittr\\AppData\\Local\\Temp\\ipykernel_21424\\4166178819.py:35: SettingWithCopyWarning:\n",
      "\n",
      "\n",
      "A value is trying to be set on a copy of a slice from a DataFrame.\n",
      "Try using .loc[row_indexer,col_indexer] = value instead\n",
      "\n",
      "See the caveats in the documentation: https://pandas.pydata.org/pandas-docs/stable/user_guide/indexing.html#returning-a-view-versus-a-copy\n",
      "\n",
      "C:\\Users\\dittr\\AppData\\Local\\Temp\\ipykernel_21424\\4166178819.py:36: FutureWarning:\n",
      "\n",
      "The frame.append method is deprecated and will be removed from pandas in a future version. Use pandas.concat instead.\n",
      "\n",
      "C:\\Users\\dittr\\AppData\\Local\\Temp\\ipykernel_21424\\4166178819.py:35: SettingWithCopyWarning:\n",
      "\n",
      "\n",
      "A value is trying to be set on a copy of a slice from a DataFrame.\n",
      "Try using .loc[row_indexer,col_indexer] = value instead\n",
      "\n",
      "See the caveats in the documentation: https://pandas.pydata.org/pandas-docs/stable/user_guide/indexing.html#returning-a-view-versus-a-copy\n",
      "\n",
      "C:\\Users\\dittr\\AppData\\Local\\Temp\\ipykernel_21424\\4166178819.py:36: FutureWarning:\n",
      "\n",
      "The frame.append method is deprecated and will be removed from pandas in a future version. Use pandas.concat instead.\n",
      "\n",
      "C:\\Users\\dittr\\AppData\\Local\\Temp\\ipykernel_21424\\4166178819.py:35: SettingWithCopyWarning:\n",
      "\n",
      "\n",
      "A value is trying to be set on a copy of a slice from a DataFrame.\n",
      "Try using .loc[row_indexer,col_indexer] = value instead\n",
      "\n",
      "See the caveats in the documentation: https://pandas.pydata.org/pandas-docs/stable/user_guide/indexing.html#returning-a-view-versus-a-copy\n",
      "\n",
      "C:\\Users\\dittr\\AppData\\Local\\Temp\\ipykernel_21424\\4166178819.py:36: FutureWarning:\n",
      "\n",
      "The frame.append method is deprecated and will be removed from pandas in a future version. Use pandas.concat instead.\n",
      "\n",
      "C:\\Users\\dittr\\AppData\\Local\\Temp\\ipykernel_21424\\4166178819.py:35: SettingWithCopyWarning:\n",
      "\n",
      "\n",
      "A value is trying to be set on a copy of a slice from a DataFrame.\n",
      "Try using .loc[row_indexer,col_indexer] = value instead\n",
      "\n",
      "See the caveats in the documentation: https://pandas.pydata.org/pandas-docs/stable/user_guide/indexing.html#returning-a-view-versus-a-copy\n",
      "\n",
      "C:\\Users\\dittr\\AppData\\Local\\Temp\\ipykernel_21424\\4166178819.py:36: FutureWarning:\n",
      "\n",
      "The frame.append method is deprecated and will be removed from pandas in a future version. Use pandas.concat instead.\n",
      "\n",
      "C:\\Users\\dittr\\AppData\\Local\\Temp\\ipykernel_21424\\4166178819.py:35: SettingWithCopyWarning:\n",
      "\n",
      "\n",
      "A value is trying to be set on a copy of a slice from a DataFrame.\n",
      "Try using .loc[row_indexer,col_indexer] = value instead\n",
      "\n",
      "See the caveats in the documentation: https://pandas.pydata.org/pandas-docs/stable/user_guide/indexing.html#returning-a-view-versus-a-copy\n",
      "\n",
      "C:\\Users\\dittr\\AppData\\Local\\Temp\\ipykernel_21424\\4166178819.py:36: FutureWarning:\n",
      "\n",
      "The frame.append method is deprecated and will be removed from pandas in a future version. Use pandas.concat instead.\n",
      "\n",
      "C:\\Users\\dittr\\AppData\\Local\\Temp\\ipykernel_21424\\4166178819.py:35: SettingWithCopyWarning:\n",
      "\n",
      "\n",
      "A value is trying to be set on a copy of a slice from a DataFrame.\n",
      "Try using .loc[row_indexer,col_indexer] = value instead\n",
      "\n",
      "See the caveats in the documentation: https://pandas.pydata.org/pandas-docs/stable/user_guide/indexing.html#returning-a-view-versus-a-copy\n",
      "\n",
      "C:\\Users\\dittr\\AppData\\Local\\Temp\\ipykernel_21424\\4166178819.py:36: FutureWarning:\n",
      "\n",
      "The frame.append method is deprecated and will be removed from pandas in a future version. Use pandas.concat instead.\n",
      "\n",
      "C:\\Users\\dittr\\AppData\\Local\\Temp\\ipykernel_21424\\4166178819.py:35: SettingWithCopyWarning:\n",
      "\n",
      "\n",
      "A value is trying to be set on a copy of a slice from a DataFrame.\n",
      "Try using .loc[row_indexer,col_indexer] = value instead\n",
      "\n",
      "See the caveats in the documentation: https://pandas.pydata.org/pandas-docs/stable/user_guide/indexing.html#returning-a-view-versus-a-copy\n",
      "\n",
      "C:\\Users\\dittr\\AppData\\Local\\Temp\\ipykernel_21424\\4166178819.py:36: FutureWarning:\n",
      "\n",
      "The frame.append method is deprecated and will be removed from pandas in a future version. Use pandas.concat instead.\n",
      "\n",
      "C:\\Users\\dittr\\AppData\\Local\\Temp\\ipykernel_21424\\4166178819.py:35: SettingWithCopyWarning:\n",
      "\n",
      "\n",
      "A value is trying to be set on a copy of a slice from a DataFrame.\n",
      "Try using .loc[row_indexer,col_indexer] = value instead\n",
      "\n",
      "See the caveats in the documentation: https://pandas.pydata.org/pandas-docs/stable/user_guide/indexing.html#returning-a-view-versus-a-copy\n",
      "\n",
      "C:\\Users\\dittr\\AppData\\Local\\Temp\\ipykernel_21424\\4166178819.py:36: FutureWarning:\n",
      "\n",
      "The frame.append method is deprecated and will be removed from pandas in a future version. Use pandas.concat instead.\n",
      "\n",
      "C:\\Users\\dittr\\AppData\\Local\\Temp\\ipykernel_21424\\4166178819.py:35: SettingWithCopyWarning:\n",
      "\n",
      "\n",
      "A value is trying to be set on a copy of a slice from a DataFrame.\n",
      "Try using .loc[row_indexer,col_indexer] = value instead\n",
      "\n",
      "See the caveats in the documentation: https://pandas.pydata.org/pandas-docs/stable/user_guide/indexing.html#returning-a-view-versus-a-copy\n",
      "\n",
      "C:\\Users\\dittr\\AppData\\Local\\Temp\\ipykernel_21424\\4166178819.py:36: FutureWarning:\n",
      "\n",
      "The frame.append method is deprecated and will be removed from pandas in a future version. Use pandas.concat instead.\n",
      "\n",
      "C:\\Users\\dittr\\AppData\\Local\\Temp\\ipykernel_21424\\4166178819.py:35: SettingWithCopyWarning:\n",
      "\n",
      "\n",
      "A value is trying to be set on a copy of a slice from a DataFrame.\n",
      "Try using .loc[row_indexer,col_indexer] = value instead\n",
      "\n",
      "See the caveats in the documentation: https://pandas.pydata.org/pandas-docs/stable/user_guide/indexing.html#returning-a-view-versus-a-copy\n",
      "\n",
      "C:\\Users\\dittr\\AppData\\Local\\Temp\\ipykernel_21424\\4166178819.py:36: FutureWarning:\n",
      "\n",
      "The frame.append method is deprecated and will be removed from pandas in a future version. Use pandas.concat instead.\n",
      "\n",
      "C:\\Users\\dittr\\AppData\\Local\\Temp\\ipykernel_21424\\4166178819.py:35: SettingWithCopyWarning:\n",
      "\n",
      "\n",
      "A value is trying to be set on a copy of a slice from a DataFrame.\n",
      "Try using .loc[row_indexer,col_indexer] = value instead\n",
      "\n",
      "See the caveats in the documentation: https://pandas.pydata.org/pandas-docs/stable/user_guide/indexing.html#returning-a-view-versus-a-copy\n",
      "\n",
      "C:\\Users\\dittr\\AppData\\Local\\Temp\\ipykernel_21424\\4166178819.py:36: FutureWarning:\n",
      "\n",
      "The frame.append method is deprecated and will be removed from pandas in a future version. Use pandas.concat instead.\n",
      "\n",
      "C:\\Users\\dittr\\AppData\\Local\\Temp\\ipykernel_21424\\4166178819.py:35: SettingWithCopyWarning:\n",
      "\n",
      "\n",
      "A value is trying to be set on a copy of a slice from a DataFrame.\n",
      "Try using .loc[row_indexer,col_indexer] = value instead\n",
      "\n",
      "See the caveats in the documentation: https://pandas.pydata.org/pandas-docs/stable/user_guide/indexing.html#returning-a-view-versus-a-copy\n",
      "\n",
      "C:\\Users\\dittr\\AppData\\Local\\Temp\\ipykernel_21424\\4166178819.py:36: FutureWarning:\n",
      "\n",
      "The frame.append method is deprecated and will be removed from pandas in a future version. Use pandas.concat instead.\n",
      "\n",
      "C:\\Users\\dittr\\AppData\\Local\\Temp\\ipykernel_21424\\4166178819.py:35: SettingWithCopyWarning:\n",
      "\n",
      "\n",
      "A value is trying to be set on a copy of a slice from a DataFrame.\n",
      "Try using .loc[row_indexer,col_indexer] = value instead\n",
      "\n",
      "See the caveats in the documentation: https://pandas.pydata.org/pandas-docs/stable/user_guide/indexing.html#returning-a-view-versus-a-copy\n",
      "\n",
      "C:\\Users\\dittr\\AppData\\Local\\Temp\\ipykernel_21424\\4166178819.py:36: FutureWarning:\n",
      "\n",
      "The frame.append method is deprecated and will be removed from pandas in a future version. Use pandas.concat instead.\n",
      "\n",
      "C:\\Users\\dittr\\AppData\\Local\\Temp\\ipykernel_21424\\4166178819.py:35: SettingWithCopyWarning:\n",
      "\n",
      "\n",
      "A value is trying to be set on a copy of a slice from a DataFrame.\n",
      "Try using .loc[row_indexer,col_indexer] = value instead\n",
      "\n",
      "See the caveats in the documentation: https://pandas.pydata.org/pandas-docs/stable/user_guide/indexing.html#returning-a-view-versus-a-copy\n",
      "\n",
      "C:\\Users\\dittr\\AppData\\Local\\Temp\\ipykernel_21424\\4166178819.py:36: FutureWarning:\n",
      "\n",
      "The frame.append method is deprecated and will be removed from pandas in a future version. Use pandas.concat instead.\n",
      "\n",
      "C:\\Users\\dittr\\AppData\\Local\\Temp\\ipykernel_21424\\4166178819.py:35: SettingWithCopyWarning:\n",
      "\n",
      "\n",
      "A value is trying to be set on a copy of a slice from a DataFrame.\n",
      "Try using .loc[row_indexer,col_indexer] = value instead\n",
      "\n",
      "See the caveats in the documentation: https://pandas.pydata.org/pandas-docs/stable/user_guide/indexing.html#returning-a-view-versus-a-copy\n",
      "\n",
      "C:\\Users\\dittr\\AppData\\Local\\Temp\\ipykernel_21424\\4166178819.py:36: FutureWarning:\n",
      "\n",
      "The frame.append method is deprecated and will be removed from pandas in a future version. Use pandas.concat instead.\n",
      "\n",
      "C:\\Users\\dittr\\AppData\\Local\\Temp\\ipykernel_21424\\4166178819.py:35: SettingWithCopyWarning:\n",
      "\n",
      "\n",
      "A value is trying to be set on a copy of a slice from a DataFrame.\n",
      "Try using .loc[row_indexer,col_indexer] = value instead\n",
      "\n",
      "See the caveats in the documentation: https://pandas.pydata.org/pandas-docs/stable/user_guide/indexing.html#returning-a-view-versus-a-copy\n",
      "\n",
      "C:\\Users\\dittr\\AppData\\Local\\Temp\\ipykernel_21424\\4166178819.py:36: FutureWarning:\n",
      "\n",
      "The frame.append method is deprecated and will be removed from pandas in a future version. Use pandas.concat instead.\n",
      "\n",
      "C:\\Users\\dittr\\AppData\\Local\\Temp\\ipykernel_21424\\4166178819.py:35: SettingWithCopyWarning:\n",
      "\n",
      "\n",
      "A value is trying to be set on a copy of a slice from a DataFrame.\n",
      "Try using .loc[row_indexer,col_indexer] = value instead\n",
      "\n",
      "See the caveats in the documentation: https://pandas.pydata.org/pandas-docs/stable/user_guide/indexing.html#returning-a-view-versus-a-copy\n",
      "\n",
      "C:\\Users\\dittr\\AppData\\Local\\Temp\\ipykernel_21424\\4166178819.py:36: FutureWarning:\n",
      "\n",
      "The frame.append method is deprecated and will be removed from pandas in a future version. Use pandas.concat instead.\n",
      "\n",
      "C:\\Users\\dittr\\AppData\\Local\\Temp\\ipykernel_21424\\4166178819.py:35: SettingWithCopyWarning:\n",
      "\n",
      "\n",
      "A value is trying to be set on a copy of a slice from a DataFrame.\n",
      "Try using .loc[row_indexer,col_indexer] = value instead\n",
      "\n",
      "See the caveats in the documentation: https://pandas.pydata.org/pandas-docs/stable/user_guide/indexing.html#returning-a-view-versus-a-copy\n",
      "\n",
      "C:\\Users\\dittr\\AppData\\Local\\Temp\\ipykernel_21424\\4166178819.py:36: FutureWarning:\n",
      "\n",
      "The frame.append method is deprecated and will be removed from pandas in a future version. Use pandas.concat instead.\n",
      "\n",
      "C:\\Users\\dittr\\AppData\\Local\\Temp\\ipykernel_21424\\4166178819.py:35: SettingWithCopyWarning:\n",
      "\n",
      "\n",
      "A value is trying to be set on a copy of a slice from a DataFrame.\n",
      "Try using .loc[row_indexer,col_indexer] = value instead\n",
      "\n",
      "See the caveats in the documentation: https://pandas.pydata.org/pandas-docs/stable/user_guide/indexing.html#returning-a-view-versus-a-copy\n",
      "\n",
      "C:\\Users\\dittr\\AppData\\Local\\Temp\\ipykernel_21424\\4166178819.py:36: FutureWarning:\n",
      "\n",
      "The frame.append method is deprecated and will be removed from pandas in a future version. Use pandas.concat instead.\n",
      "\n",
      "C:\\Users\\dittr\\AppData\\Local\\Temp\\ipykernel_21424\\4166178819.py:35: SettingWithCopyWarning:\n",
      "\n",
      "\n",
      "A value is trying to be set on a copy of a slice from a DataFrame.\n",
      "Try using .loc[row_indexer,col_indexer] = value instead\n",
      "\n",
      "See the caveats in the documentation: https://pandas.pydata.org/pandas-docs/stable/user_guide/indexing.html#returning-a-view-versus-a-copy\n",
      "\n",
      "C:\\Users\\dittr\\AppData\\Local\\Temp\\ipykernel_21424\\4166178819.py:36: FutureWarning:\n",
      "\n",
      "The frame.append method is deprecated and will be removed from pandas in a future version. Use pandas.concat instead.\n",
      "\n",
      "C:\\Users\\dittr\\AppData\\Local\\Temp\\ipykernel_21424\\4166178819.py:35: SettingWithCopyWarning:\n",
      "\n",
      "\n",
      "A value is trying to be set on a copy of a slice from a DataFrame.\n",
      "Try using .loc[row_indexer,col_indexer] = value instead\n",
      "\n",
      "See the caveats in the documentation: https://pandas.pydata.org/pandas-docs/stable/user_guide/indexing.html#returning-a-view-versus-a-copy\n",
      "\n",
      "C:\\Users\\dittr\\AppData\\Local\\Temp\\ipykernel_21424\\4166178819.py:36: FutureWarning:\n",
      "\n",
      "The frame.append method is deprecated and will be removed from pandas in a future version. Use pandas.concat instead.\n",
      "\n",
      "C:\\Users\\dittr\\AppData\\Local\\Temp\\ipykernel_21424\\4166178819.py:35: SettingWithCopyWarning:\n",
      "\n",
      "\n",
      "A value is trying to be set on a copy of a slice from a DataFrame.\n",
      "Try using .loc[row_indexer,col_indexer] = value instead\n",
      "\n",
      "See the caveats in the documentation: https://pandas.pydata.org/pandas-docs/stable/user_guide/indexing.html#returning-a-view-versus-a-copy\n",
      "\n",
      "C:\\Users\\dittr\\AppData\\Local\\Temp\\ipykernel_21424\\4166178819.py:36: FutureWarning:\n",
      "\n",
      "The frame.append method is deprecated and will be removed from pandas in a future version. Use pandas.concat instead.\n",
      "\n",
      "C:\\Users\\dittr\\AppData\\Local\\Temp\\ipykernel_21424\\4166178819.py:35: SettingWithCopyWarning:\n",
      "\n",
      "\n",
      "A value is trying to be set on a copy of a slice from a DataFrame.\n",
      "Try using .loc[row_indexer,col_indexer] = value instead\n",
      "\n",
      "See the caveats in the documentation: https://pandas.pydata.org/pandas-docs/stable/user_guide/indexing.html#returning-a-view-versus-a-copy\n",
      "\n",
      "C:\\Users\\dittr\\AppData\\Local\\Temp\\ipykernel_21424\\4166178819.py:36: FutureWarning:\n",
      "\n",
      "The frame.append method is deprecated and will be removed from pandas in a future version. Use pandas.concat instead.\n",
      "\n",
      "C:\\Users\\dittr\\AppData\\Local\\Temp\\ipykernel_21424\\4166178819.py:35: SettingWithCopyWarning:\n",
      "\n",
      "\n",
      "A value is trying to be set on a copy of a slice from a DataFrame.\n",
      "Try using .loc[row_indexer,col_indexer] = value instead\n",
      "\n",
      "See the caveats in the documentation: https://pandas.pydata.org/pandas-docs/stable/user_guide/indexing.html#returning-a-view-versus-a-copy\n",
      "\n",
      "C:\\Users\\dittr\\AppData\\Local\\Temp\\ipykernel_21424\\4166178819.py:36: FutureWarning:\n",
      "\n",
      "The frame.append method is deprecated and will be removed from pandas in a future version. Use pandas.concat instead.\n",
      "\n",
      "C:\\Users\\dittr\\AppData\\Local\\Temp\\ipykernel_21424\\4166178819.py:35: SettingWithCopyWarning:\n",
      "\n",
      "\n",
      "A value is trying to be set on a copy of a slice from a DataFrame.\n",
      "Try using .loc[row_indexer,col_indexer] = value instead\n",
      "\n",
      "See the caveats in the documentation: https://pandas.pydata.org/pandas-docs/stable/user_guide/indexing.html#returning-a-view-versus-a-copy\n",
      "\n",
      "C:\\Users\\dittr\\AppData\\Local\\Temp\\ipykernel_21424\\4166178819.py:36: FutureWarning:\n",
      "\n",
      "The frame.append method is deprecated and will be removed from pandas in a future version. Use pandas.concat instead.\n",
      "\n",
      "C:\\Users\\dittr\\AppData\\Local\\Temp\\ipykernel_21424\\4166178819.py:35: SettingWithCopyWarning:\n",
      "\n",
      "\n",
      "A value is trying to be set on a copy of a slice from a DataFrame.\n",
      "Try using .loc[row_indexer,col_indexer] = value instead\n",
      "\n",
      "See the caveats in the documentation: https://pandas.pydata.org/pandas-docs/stable/user_guide/indexing.html#returning-a-view-versus-a-copy\n",
      "\n",
      "C:\\Users\\dittr\\AppData\\Local\\Temp\\ipykernel_21424\\4166178819.py:36: FutureWarning:\n",
      "\n",
      "The frame.append method is deprecated and will be removed from pandas in a future version. Use pandas.concat instead.\n",
      "\n",
      "C:\\Users\\dittr\\AppData\\Local\\Temp\\ipykernel_21424\\4166178819.py:35: SettingWithCopyWarning:\n",
      "\n",
      "\n",
      "A value is trying to be set on a copy of a slice from a DataFrame.\n",
      "Try using .loc[row_indexer,col_indexer] = value instead\n",
      "\n",
      "See the caveats in the documentation: https://pandas.pydata.org/pandas-docs/stable/user_guide/indexing.html#returning-a-view-versus-a-copy\n",
      "\n",
      "C:\\Users\\dittr\\AppData\\Local\\Temp\\ipykernel_21424\\4166178819.py:36: FutureWarning:\n",
      "\n",
      "The frame.append method is deprecated and will be removed from pandas in a future version. Use pandas.concat instead.\n",
      "\n",
      "C:\\Users\\dittr\\AppData\\Local\\Temp\\ipykernel_21424\\4166178819.py:35: SettingWithCopyWarning:\n",
      "\n",
      "\n",
      "A value is trying to be set on a copy of a slice from a DataFrame.\n",
      "Try using .loc[row_indexer,col_indexer] = value instead\n",
      "\n",
      "See the caveats in the documentation: https://pandas.pydata.org/pandas-docs/stable/user_guide/indexing.html#returning-a-view-versus-a-copy\n",
      "\n",
      "C:\\Users\\dittr\\AppData\\Local\\Temp\\ipykernel_21424\\4166178819.py:36: FutureWarning:\n",
      "\n",
      "The frame.append method is deprecated and will be removed from pandas in a future version. Use pandas.concat instead.\n",
      "\n",
      "C:\\Users\\dittr\\AppData\\Local\\Temp\\ipykernel_21424\\4166178819.py:35: SettingWithCopyWarning:\n",
      "\n",
      "\n",
      "A value is trying to be set on a copy of a slice from a DataFrame.\n",
      "Try using .loc[row_indexer,col_indexer] = value instead\n",
      "\n",
      "See the caveats in the documentation: https://pandas.pydata.org/pandas-docs/stable/user_guide/indexing.html#returning-a-view-versus-a-copy\n",
      "\n",
      "C:\\Users\\dittr\\AppData\\Local\\Temp\\ipykernel_21424\\4166178819.py:36: FutureWarning:\n",
      "\n",
      "The frame.append method is deprecated and will be removed from pandas in a future version. Use pandas.concat instead.\n",
      "\n",
      "C:\\Users\\dittr\\AppData\\Local\\Temp\\ipykernel_21424\\4166178819.py:35: SettingWithCopyWarning:\n",
      "\n",
      "\n",
      "A value is trying to be set on a copy of a slice from a DataFrame.\n",
      "Try using .loc[row_indexer,col_indexer] = value instead\n",
      "\n",
      "See the caveats in the documentation: https://pandas.pydata.org/pandas-docs/stable/user_guide/indexing.html#returning-a-view-versus-a-copy\n",
      "\n",
      "C:\\Users\\dittr\\AppData\\Local\\Temp\\ipykernel_21424\\4166178819.py:36: FutureWarning:\n",
      "\n",
      "The frame.append method is deprecated and will be removed from pandas in a future version. Use pandas.concat instead.\n",
      "\n",
      "C:\\Users\\dittr\\AppData\\Local\\Temp\\ipykernel_21424\\4166178819.py:35: SettingWithCopyWarning:\n",
      "\n",
      "\n",
      "A value is trying to be set on a copy of a slice from a DataFrame.\n",
      "Try using .loc[row_indexer,col_indexer] = value instead\n",
      "\n",
      "See the caveats in the documentation: https://pandas.pydata.org/pandas-docs/stable/user_guide/indexing.html#returning-a-view-versus-a-copy\n",
      "\n",
      "C:\\Users\\dittr\\AppData\\Local\\Temp\\ipykernel_21424\\4166178819.py:36: FutureWarning:\n",
      "\n",
      "The frame.append method is deprecated and will be removed from pandas in a future version. Use pandas.concat instead.\n",
      "\n",
      "C:\\Users\\dittr\\AppData\\Local\\Temp\\ipykernel_21424\\4166178819.py:35: SettingWithCopyWarning:\n",
      "\n",
      "\n",
      "A value is trying to be set on a copy of a slice from a DataFrame.\n",
      "Try using .loc[row_indexer,col_indexer] = value instead\n",
      "\n",
      "See the caveats in the documentation: https://pandas.pydata.org/pandas-docs/stable/user_guide/indexing.html#returning-a-view-versus-a-copy\n",
      "\n",
      "C:\\Users\\dittr\\AppData\\Local\\Temp\\ipykernel_21424\\4166178819.py:36: FutureWarning:\n",
      "\n",
      "The frame.append method is deprecated and will be removed from pandas in a future version. Use pandas.concat instead.\n",
      "\n",
      "C:\\Users\\dittr\\AppData\\Local\\Temp\\ipykernel_21424\\4166178819.py:35: SettingWithCopyWarning:\n",
      "\n",
      "\n",
      "A value is trying to be set on a copy of a slice from a DataFrame.\n",
      "Try using .loc[row_indexer,col_indexer] = value instead\n",
      "\n",
      "See the caveats in the documentation: https://pandas.pydata.org/pandas-docs/stable/user_guide/indexing.html#returning-a-view-versus-a-copy\n",
      "\n",
      "C:\\Users\\dittr\\AppData\\Local\\Temp\\ipykernel_21424\\4166178819.py:36: FutureWarning:\n",
      "\n",
      "The frame.append method is deprecated and will be removed from pandas in a future version. Use pandas.concat instead.\n",
      "\n",
      "C:\\Users\\dittr\\AppData\\Local\\Temp\\ipykernel_21424\\4166178819.py:35: SettingWithCopyWarning:\n",
      "\n",
      "\n",
      "A value is trying to be set on a copy of a slice from a DataFrame.\n",
      "Try using .loc[row_indexer,col_indexer] = value instead\n",
      "\n",
      "See the caveats in the documentation: https://pandas.pydata.org/pandas-docs/stable/user_guide/indexing.html#returning-a-view-versus-a-copy\n",
      "\n",
      "C:\\Users\\dittr\\AppData\\Local\\Temp\\ipykernel_21424\\4166178819.py:36: FutureWarning:\n",
      "\n",
      "The frame.append method is deprecated and will be removed from pandas in a future version. Use pandas.concat instead.\n",
      "\n",
      "C:\\Users\\dittr\\AppData\\Local\\Temp\\ipykernel_21424\\4166178819.py:35: SettingWithCopyWarning:\n",
      "\n",
      "\n",
      "A value is trying to be set on a copy of a slice from a DataFrame.\n",
      "Try using .loc[row_indexer,col_indexer] = value instead\n",
      "\n",
      "See the caveats in the documentation: https://pandas.pydata.org/pandas-docs/stable/user_guide/indexing.html#returning-a-view-versus-a-copy\n",
      "\n",
      "C:\\Users\\dittr\\AppData\\Local\\Temp\\ipykernel_21424\\4166178819.py:36: FutureWarning:\n",
      "\n",
      "The frame.append method is deprecated and will be removed from pandas in a future version. Use pandas.concat instead.\n",
      "\n",
      "C:\\Users\\dittr\\AppData\\Local\\Temp\\ipykernel_21424\\4166178819.py:35: SettingWithCopyWarning:\n",
      "\n",
      "\n",
      "A value is trying to be set on a copy of a slice from a DataFrame.\n",
      "Try using .loc[row_indexer,col_indexer] = value instead\n",
      "\n",
      "See the caveats in the documentation: https://pandas.pydata.org/pandas-docs/stable/user_guide/indexing.html#returning-a-view-versus-a-copy\n",
      "\n",
      "C:\\Users\\dittr\\AppData\\Local\\Temp\\ipykernel_21424\\4166178819.py:36: FutureWarning:\n",
      "\n",
      "The frame.append method is deprecated and will be removed from pandas in a future version. Use pandas.concat instead.\n",
      "\n",
      "C:\\Users\\dittr\\AppData\\Local\\Temp\\ipykernel_21424\\4166178819.py:35: SettingWithCopyWarning:\n",
      "\n",
      "\n",
      "A value is trying to be set on a copy of a slice from a DataFrame.\n",
      "Try using .loc[row_indexer,col_indexer] = value instead\n",
      "\n",
      "See the caveats in the documentation: https://pandas.pydata.org/pandas-docs/stable/user_guide/indexing.html#returning-a-view-versus-a-copy\n",
      "\n",
      "C:\\Users\\dittr\\AppData\\Local\\Temp\\ipykernel_21424\\4166178819.py:36: FutureWarning:\n",
      "\n",
      "The frame.append method is deprecated and will be removed from pandas in a future version. Use pandas.concat instead.\n",
      "\n"
     ]
    },
    {
     "name": "stderr",
     "output_type": "stream",
     "text": [
      "C:\\Users\\dittr\\AppData\\Local\\Temp\\ipykernel_21424\\4166178819.py:35: SettingWithCopyWarning:\n",
      "\n",
      "\n",
      "A value is trying to be set on a copy of a slice from a DataFrame.\n",
      "Try using .loc[row_indexer,col_indexer] = value instead\n",
      "\n",
      "See the caveats in the documentation: https://pandas.pydata.org/pandas-docs/stable/user_guide/indexing.html#returning-a-view-versus-a-copy\n",
      "\n",
      "C:\\Users\\dittr\\AppData\\Local\\Temp\\ipykernel_21424\\4166178819.py:36: FutureWarning:\n",
      "\n",
      "The frame.append method is deprecated and will be removed from pandas in a future version. Use pandas.concat instead.\n",
      "\n",
      "C:\\Users\\dittr\\AppData\\Local\\Temp\\ipykernel_21424\\4166178819.py:35: SettingWithCopyWarning:\n",
      "\n",
      "\n",
      "A value is trying to be set on a copy of a slice from a DataFrame.\n",
      "Try using .loc[row_indexer,col_indexer] = value instead\n",
      "\n",
      "See the caveats in the documentation: https://pandas.pydata.org/pandas-docs/stable/user_guide/indexing.html#returning-a-view-versus-a-copy\n",
      "\n",
      "C:\\Users\\dittr\\AppData\\Local\\Temp\\ipykernel_21424\\4166178819.py:36: FutureWarning:\n",
      "\n",
      "The frame.append method is deprecated and will be removed from pandas in a future version. Use pandas.concat instead.\n",
      "\n",
      "C:\\Users\\dittr\\AppData\\Local\\Temp\\ipykernel_21424\\4166178819.py:35: SettingWithCopyWarning:\n",
      "\n",
      "\n",
      "A value is trying to be set on a copy of a slice from a DataFrame.\n",
      "Try using .loc[row_indexer,col_indexer] = value instead\n",
      "\n",
      "See the caveats in the documentation: https://pandas.pydata.org/pandas-docs/stable/user_guide/indexing.html#returning-a-view-versus-a-copy\n",
      "\n",
      "C:\\Users\\dittr\\AppData\\Local\\Temp\\ipykernel_21424\\4166178819.py:36: FutureWarning:\n",
      "\n",
      "The frame.append method is deprecated and will be removed from pandas in a future version. Use pandas.concat instead.\n",
      "\n",
      "C:\\Users\\dittr\\AppData\\Local\\Temp\\ipykernel_21424\\4166178819.py:35: SettingWithCopyWarning:\n",
      "\n",
      "\n",
      "A value is trying to be set on a copy of a slice from a DataFrame.\n",
      "Try using .loc[row_indexer,col_indexer] = value instead\n",
      "\n",
      "See the caveats in the documentation: https://pandas.pydata.org/pandas-docs/stable/user_guide/indexing.html#returning-a-view-versus-a-copy\n",
      "\n",
      "C:\\Users\\dittr\\AppData\\Local\\Temp\\ipykernel_21424\\4166178819.py:36: FutureWarning:\n",
      "\n",
      "The frame.append method is deprecated and will be removed from pandas in a future version. Use pandas.concat instead.\n",
      "\n",
      "C:\\Users\\dittr\\AppData\\Local\\Temp\\ipykernel_21424\\4166178819.py:35: SettingWithCopyWarning:\n",
      "\n",
      "\n",
      "A value is trying to be set on a copy of a slice from a DataFrame.\n",
      "Try using .loc[row_indexer,col_indexer] = value instead\n",
      "\n",
      "See the caveats in the documentation: https://pandas.pydata.org/pandas-docs/stable/user_guide/indexing.html#returning-a-view-versus-a-copy\n",
      "\n",
      "C:\\Users\\dittr\\AppData\\Local\\Temp\\ipykernel_21424\\4166178819.py:36: FutureWarning:\n",
      "\n",
      "The frame.append method is deprecated and will be removed from pandas in a future version. Use pandas.concat instead.\n",
      "\n",
      "C:\\Users\\dittr\\AppData\\Local\\Temp\\ipykernel_21424\\4166178819.py:35: SettingWithCopyWarning:\n",
      "\n",
      "\n",
      "A value is trying to be set on a copy of a slice from a DataFrame.\n",
      "Try using .loc[row_indexer,col_indexer] = value instead\n",
      "\n",
      "See the caveats in the documentation: https://pandas.pydata.org/pandas-docs/stable/user_guide/indexing.html#returning-a-view-versus-a-copy\n",
      "\n",
      "C:\\Users\\dittr\\AppData\\Local\\Temp\\ipykernel_21424\\4166178819.py:36: FutureWarning:\n",
      "\n",
      "The frame.append method is deprecated and will be removed from pandas in a future version. Use pandas.concat instead.\n",
      "\n",
      "C:\\Users\\dittr\\AppData\\Local\\Temp\\ipykernel_21424\\4166178819.py:35: SettingWithCopyWarning:\n",
      "\n",
      "\n",
      "A value is trying to be set on a copy of a slice from a DataFrame.\n",
      "Try using .loc[row_indexer,col_indexer] = value instead\n",
      "\n",
      "See the caveats in the documentation: https://pandas.pydata.org/pandas-docs/stable/user_guide/indexing.html#returning-a-view-versus-a-copy\n",
      "\n",
      "C:\\Users\\dittr\\AppData\\Local\\Temp\\ipykernel_21424\\4166178819.py:36: FutureWarning:\n",
      "\n",
      "The frame.append method is deprecated and will be removed from pandas in a future version. Use pandas.concat instead.\n",
      "\n",
      "C:\\Users\\dittr\\AppData\\Local\\Temp\\ipykernel_21424\\4166178819.py:35: SettingWithCopyWarning:\n",
      "\n",
      "\n",
      "A value is trying to be set on a copy of a slice from a DataFrame.\n",
      "Try using .loc[row_indexer,col_indexer] = value instead\n",
      "\n",
      "See the caveats in the documentation: https://pandas.pydata.org/pandas-docs/stable/user_guide/indexing.html#returning-a-view-versus-a-copy\n",
      "\n",
      "C:\\Users\\dittr\\AppData\\Local\\Temp\\ipykernel_21424\\4166178819.py:36: FutureWarning:\n",
      "\n",
      "The frame.append method is deprecated and will be removed from pandas in a future version. Use pandas.concat instead.\n",
      "\n",
      "C:\\Users\\dittr\\AppData\\Local\\Temp\\ipykernel_21424\\4166178819.py:35: SettingWithCopyWarning:\n",
      "\n",
      "\n",
      "A value is trying to be set on a copy of a slice from a DataFrame.\n",
      "Try using .loc[row_indexer,col_indexer] = value instead\n",
      "\n",
      "See the caveats in the documentation: https://pandas.pydata.org/pandas-docs/stable/user_guide/indexing.html#returning-a-view-versus-a-copy\n",
      "\n",
      "C:\\Users\\dittr\\AppData\\Local\\Temp\\ipykernel_21424\\4166178819.py:36: FutureWarning:\n",
      "\n",
      "The frame.append method is deprecated and will be removed from pandas in a future version. Use pandas.concat instead.\n",
      "\n",
      "C:\\Users\\dittr\\AppData\\Local\\Temp\\ipykernel_21424\\4166178819.py:35: SettingWithCopyWarning:\n",
      "\n",
      "\n",
      "A value is trying to be set on a copy of a slice from a DataFrame.\n",
      "Try using .loc[row_indexer,col_indexer] = value instead\n",
      "\n",
      "See the caveats in the documentation: https://pandas.pydata.org/pandas-docs/stable/user_guide/indexing.html#returning-a-view-versus-a-copy\n",
      "\n",
      "C:\\Users\\dittr\\AppData\\Local\\Temp\\ipykernel_21424\\4166178819.py:36: FutureWarning:\n",
      "\n",
      "The frame.append method is deprecated and will be removed from pandas in a future version. Use pandas.concat instead.\n",
      "\n",
      "C:\\Users\\dittr\\AppData\\Local\\Temp\\ipykernel_21424\\4166178819.py:35: SettingWithCopyWarning:\n",
      "\n",
      "\n",
      "A value is trying to be set on a copy of a slice from a DataFrame.\n",
      "Try using .loc[row_indexer,col_indexer] = value instead\n",
      "\n",
      "See the caveats in the documentation: https://pandas.pydata.org/pandas-docs/stable/user_guide/indexing.html#returning-a-view-versus-a-copy\n",
      "\n",
      "C:\\Users\\dittr\\AppData\\Local\\Temp\\ipykernel_21424\\4166178819.py:36: FutureWarning:\n",
      "\n",
      "The frame.append method is deprecated and will be removed from pandas in a future version. Use pandas.concat instead.\n",
      "\n",
      "C:\\Users\\dittr\\AppData\\Local\\Temp\\ipykernel_21424\\4166178819.py:35: SettingWithCopyWarning:\n",
      "\n",
      "\n",
      "A value is trying to be set on a copy of a slice from a DataFrame.\n",
      "Try using .loc[row_indexer,col_indexer] = value instead\n",
      "\n",
      "See the caveats in the documentation: https://pandas.pydata.org/pandas-docs/stable/user_guide/indexing.html#returning-a-view-versus-a-copy\n",
      "\n",
      "C:\\Users\\dittr\\AppData\\Local\\Temp\\ipykernel_21424\\4166178819.py:36: FutureWarning:\n",
      "\n",
      "The frame.append method is deprecated and will be removed from pandas in a future version. Use pandas.concat instead.\n",
      "\n",
      "C:\\Users\\dittr\\AppData\\Local\\Temp\\ipykernel_21424\\4166178819.py:35: SettingWithCopyWarning:\n",
      "\n",
      "\n",
      "A value is trying to be set on a copy of a slice from a DataFrame.\n",
      "Try using .loc[row_indexer,col_indexer] = value instead\n",
      "\n",
      "See the caveats in the documentation: https://pandas.pydata.org/pandas-docs/stable/user_guide/indexing.html#returning-a-view-versus-a-copy\n",
      "\n",
      "C:\\Users\\dittr\\AppData\\Local\\Temp\\ipykernel_21424\\4166178819.py:36: FutureWarning:\n",
      "\n",
      "The frame.append method is deprecated and will be removed from pandas in a future version. Use pandas.concat instead.\n",
      "\n",
      "C:\\Users\\dittr\\AppData\\Local\\Temp\\ipykernel_21424\\4166178819.py:35: SettingWithCopyWarning:\n",
      "\n",
      "\n",
      "A value is trying to be set on a copy of a slice from a DataFrame.\n",
      "Try using .loc[row_indexer,col_indexer] = value instead\n",
      "\n",
      "See the caveats in the documentation: https://pandas.pydata.org/pandas-docs/stable/user_guide/indexing.html#returning-a-view-versus-a-copy\n",
      "\n",
      "C:\\Users\\dittr\\AppData\\Local\\Temp\\ipykernel_21424\\4166178819.py:36: FutureWarning:\n",
      "\n",
      "The frame.append method is deprecated and will be removed from pandas in a future version. Use pandas.concat instead.\n",
      "\n",
      "C:\\Users\\dittr\\AppData\\Local\\Temp\\ipykernel_21424\\4166178819.py:35: SettingWithCopyWarning:\n",
      "\n",
      "\n",
      "A value is trying to be set on a copy of a slice from a DataFrame.\n",
      "Try using .loc[row_indexer,col_indexer] = value instead\n",
      "\n",
      "See the caveats in the documentation: https://pandas.pydata.org/pandas-docs/stable/user_guide/indexing.html#returning-a-view-versus-a-copy\n",
      "\n",
      "C:\\Users\\dittr\\AppData\\Local\\Temp\\ipykernel_21424\\4166178819.py:36: FutureWarning:\n",
      "\n",
      "The frame.append method is deprecated and will be removed from pandas in a future version. Use pandas.concat instead.\n",
      "\n",
      "C:\\Users\\dittr\\AppData\\Local\\Temp\\ipykernel_21424\\4166178819.py:35: SettingWithCopyWarning:\n",
      "\n",
      "\n",
      "A value is trying to be set on a copy of a slice from a DataFrame.\n",
      "Try using .loc[row_indexer,col_indexer] = value instead\n",
      "\n",
      "See the caveats in the documentation: https://pandas.pydata.org/pandas-docs/stable/user_guide/indexing.html#returning-a-view-versus-a-copy\n",
      "\n",
      "C:\\Users\\dittr\\AppData\\Local\\Temp\\ipykernel_21424\\4166178819.py:36: FutureWarning:\n",
      "\n",
      "The frame.append method is deprecated and will be removed from pandas in a future version. Use pandas.concat instead.\n",
      "\n",
      "C:\\Users\\dittr\\AppData\\Local\\Temp\\ipykernel_21424\\4166178819.py:35: SettingWithCopyWarning:\n",
      "\n",
      "\n",
      "A value is trying to be set on a copy of a slice from a DataFrame.\n",
      "Try using .loc[row_indexer,col_indexer] = value instead\n",
      "\n",
      "See the caveats in the documentation: https://pandas.pydata.org/pandas-docs/stable/user_guide/indexing.html#returning-a-view-versus-a-copy\n",
      "\n",
      "C:\\Users\\dittr\\AppData\\Local\\Temp\\ipykernel_21424\\4166178819.py:36: FutureWarning:\n",
      "\n",
      "The frame.append method is deprecated and will be removed from pandas in a future version. Use pandas.concat instead.\n",
      "\n",
      "C:\\Users\\dittr\\AppData\\Local\\Temp\\ipykernel_21424\\4166178819.py:35: SettingWithCopyWarning:\n",
      "\n",
      "\n",
      "A value is trying to be set on a copy of a slice from a DataFrame.\n",
      "Try using .loc[row_indexer,col_indexer] = value instead\n",
      "\n",
      "See the caveats in the documentation: https://pandas.pydata.org/pandas-docs/stable/user_guide/indexing.html#returning-a-view-versus-a-copy\n",
      "\n",
      "C:\\Users\\dittr\\AppData\\Local\\Temp\\ipykernel_21424\\4166178819.py:36: FutureWarning:\n",
      "\n",
      "The frame.append method is deprecated and will be removed from pandas in a future version. Use pandas.concat instead.\n",
      "\n",
      "C:\\Users\\dittr\\AppData\\Local\\Temp\\ipykernel_21424\\4166178819.py:35: SettingWithCopyWarning:\n",
      "\n",
      "\n",
      "A value is trying to be set on a copy of a slice from a DataFrame.\n",
      "Try using .loc[row_indexer,col_indexer] = value instead\n",
      "\n",
      "See the caveats in the documentation: https://pandas.pydata.org/pandas-docs/stable/user_guide/indexing.html#returning-a-view-versus-a-copy\n",
      "\n",
      "C:\\Users\\dittr\\AppData\\Local\\Temp\\ipykernel_21424\\4166178819.py:36: FutureWarning:\n",
      "\n",
      "The frame.append method is deprecated and will be removed from pandas in a future version. Use pandas.concat instead.\n",
      "\n",
      "C:\\Users\\dittr\\AppData\\Local\\Temp\\ipykernel_21424\\4166178819.py:35: SettingWithCopyWarning:\n",
      "\n",
      "\n",
      "A value is trying to be set on a copy of a slice from a DataFrame.\n",
      "Try using .loc[row_indexer,col_indexer] = value instead\n",
      "\n",
      "See the caveats in the documentation: https://pandas.pydata.org/pandas-docs/stable/user_guide/indexing.html#returning-a-view-versus-a-copy\n",
      "\n",
      "C:\\Users\\dittr\\AppData\\Local\\Temp\\ipykernel_21424\\4166178819.py:36: FutureWarning:\n",
      "\n",
      "The frame.append method is deprecated and will be removed from pandas in a future version. Use pandas.concat instead.\n",
      "\n",
      "C:\\Users\\dittr\\AppData\\Local\\Temp\\ipykernel_21424\\4166178819.py:35: SettingWithCopyWarning:\n",
      "\n",
      "\n",
      "A value is trying to be set on a copy of a slice from a DataFrame.\n",
      "Try using .loc[row_indexer,col_indexer] = value instead\n",
      "\n",
      "See the caveats in the documentation: https://pandas.pydata.org/pandas-docs/stable/user_guide/indexing.html#returning-a-view-versus-a-copy\n",
      "\n",
      "C:\\Users\\dittr\\AppData\\Local\\Temp\\ipykernel_21424\\4166178819.py:36: FutureWarning:\n",
      "\n",
      "The frame.append method is deprecated and will be removed from pandas in a future version. Use pandas.concat instead.\n",
      "\n",
      "C:\\Users\\dittr\\AppData\\Local\\Temp\\ipykernel_21424\\4166178819.py:35: SettingWithCopyWarning:\n",
      "\n",
      "\n",
      "A value is trying to be set on a copy of a slice from a DataFrame.\n",
      "Try using .loc[row_indexer,col_indexer] = value instead\n",
      "\n",
      "See the caveats in the documentation: https://pandas.pydata.org/pandas-docs/stable/user_guide/indexing.html#returning-a-view-versus-a-copy\n",
      "\n",
      "C:\\Users\\dittr\\AppData\\Local\\Temp\\ipykernel_21424\\4166178819.py:36: FutureWarning:\n",
      "\n",
      "The frame.append method is deprecated and will be removed from pandas in a future version. Use pandas.concat instead.\n",
      "\n",
      "C:\\Users\\dittr\\AppData\\Local\\Temp\\ipykernel_21424\\4166178819.py:35: SettingWithCopyWarning:\n",
      "\n",
      "\n",
      "A value is trying to be set on a copy of a slice from a DataFrame.\n",
      "Try using .loc[row_indexer,col_indexer] = value instead\n",
      "\n",
      "See the caveats in the documentation: https://pandas.pydata.org/pandas-docs/stable/user_guide/indexing.html#returning-a-view-versus-a-copy\n",
      "\n",
      "C:\\Users\\dittr\\AppData\\Local\\Temp\\ipykernel_21424\\4166178819.py:36: FutureWarning:\n",
      "\n",
      "The frame.append method is deprecated and will be removed from pandas in a future version. Use pandas.concat instead.\n",
      "\n",
      "C:\\Users\\dittr\\AppData\\Local\\Temp\\ipykernel_21424\\4166178819.py:35: SettingWithCopyWarning:\n",
      "\n",
      "\n",
      "A value is trying to be set on a copy of a slice from a DataFrame.\n",
      "Try using .loc[row_indexer,col_indexer] = value instead\n",
      "\n",
      "See the caveats in the documentation: https://pandas.pydata.org/pandas-docs/stable/user_guide/indexing.html#returning-a-view-versus-a-copy\n",
      "\n",
      "C:\\Users\\dittr\\AppData\\Local\\Temp\\ipykernel_21424\\4166178819.py:36: FutureWarning:\n",
      "\n",
      "The frame.append method is deprecated and will be removed from pandas in a future version. Use pandas.concat instead.\n",
      "\n",
      "C:\\Users\\dittr\\AppData\\Local\\Temp\\ipykernel_21424\\4166178819.py:35: SettingWithCopyWarning:\n",
      "\n",
      "\n",
      "A value is trying to be set on a copy of a slice from a DataFrame.\n",
      "Try using .loc[row_indexer,col_indexer] = value instead\n",
      "\n",
      "See the caveats in the documentation: https://pandas.pydata.org/pandas-docs/stable/user_guide/indexing.html#returning-a-view-versus-a-copy\n",
      "\n",
      "C:\\Users\\dittr\\AppData\\Local\\Temp\\ipykernel_21424\\4166178819.py:36: FutureWarning:\n",
      "\n",
      "The frame.append method is deprecated and will be removed from pandas in a future version. Use pandas.concat instead.\n",
      "\n",
      "C:\\Users\\dittr\\AppData\\Local\\Temp\\ipykernel_21424\\4166178819.py:35: SettingWithCopyWarning:\n",
      "\n",
      "\n",
      "A value is trying to be set on a copy of a slice from a DataFrame.\n",
      "Try using .loc[row_indexer,col_indexer] = value instead\n",
      "\n",
      "See the caveats in the documentation: https://pandas.pydata.org/pandas-docs/stable/user_guide/indexing.html#returning-a-view-versus-a-copy\n",
      "\n",
      "C:\\Users\\dittr\\AppData\\Local\\Temp\\ipykernel_21424\\4166178819.py:36: FutureWarning:\n",
      "\n",
      "The frame.append method is deprecated and will be removed from pandas in a future version. Use pandas.concat instead.\n",
      "\n",
      "C:\\Users\\dittr\\AppData\\Local\\Temp\\ipykernel_21424\\4166178819.py:35: SettingWithCopyWarning:\n",
      "\n",
      "\n",
      "A value is trying to be set on a copy of a slice from a DataFrame.\n",
      "Try using .loc[row_indexer,col_indexer] = value instead\n",
      "\n",
      "See the caveats in the documentation: https://pandas.pydata.org/pandas-docs/stable/user_guide/indexing.html#returning-a-view-versus-a-copy\n",
      "\n",
      "C:\\Users\\dittr\\AppData\\Local\\Temp\\ipykernel_21424\\4166178819.py:36: FutureWarning:\n",
      "\n",
      "The frame.append method is deprecated and will be removed from pandas in a future version. Use pandas.concat instead.\n",
      "\n",
      "C:\\Users\\dittr\\AppData\\Local\\Temp\\ipykernel_21424\\4166178819.py:35: SettingWithCopyWarning:\n",
      "\n",
      "\n",
      "A value is trying to be set on a copy of a slice from a DataFrame.\n",
      "Try using .loc[row_indexer,col_indexer] = value instead\n",
      "\n",
      "See the caveats in the documentation: https://pandas.pydata.org/pandas-docs/stable/user_guide/indexing.html#returning-a-view-versus-a-copy\n",
      "\n",
      "C:\\Users\\dittr\\AppData\\Local\\Temp\\ipykernel_21424\\4166178819.py:36: FutureWarning:\n",
      "\n",
      "The frame.append method is deprecated and will be removed from pandas in a future version. Use pandas.concat instead.\n",
      "\n",
      "C:\\Users\\dittr\\AppData\\Local\\Temp\\ipykernel_21424\\4166178819.py:35: SettingWithCopyWarning:\n",
      "\n",
      "\n",
      "A value is trying to be set on a copy of a slice from a DataFrame.\n",
      "Try using .loc[row_indexer,col_indexer] = value instead\n",
      "\n",
      "See the caveats in the documentation: https://pandas.pydata.org/pandas-docs/stable/user_guide/indexing.html#returning-a-view-versus-a-copy\n",
      "\n",
      "C:\\Users\\dittr\\AppData\\Local\\Temp\\ipykernel_21424\\4166178819.py:36: FutureWarning:\n",
      "\n",
      "The frame.append method is deprecated and will be removed from pandas in a future version. Use pandas.concat instead.\n",
      "\n",
      "C:\\Users\\dittr\\AppData\\Local\\Temp\\ipykernel_21424\\4166178819.py:35: SettingWithCopyWarning:\n",
      "\n",
      "\n",
      "A value is trying to be set on a copy of a slice from a DataFrame.\n",
      "Try using .loc[row_indexer,col_indexer] = value instead\n",
      "\n",
      "See the caveats in the documentation: https://pandas.pydata.org/pandas-docs/stable/user_guide/indexing.html#returning-a-view-versus-a-copy\n",
      "\n",
      "C:\\Users\\dittr\\AppData\\Local\\Temp\\ipykernel_21424\\4166178819.py:36: FutureWarning:\n",
      "\n",
      "The frame.append method is deprecated and will be removed from pandas in a future version. Use pandas.concat instead.\n",
      "\n",
      "C:\\Users\\dittr\\AppData\\Local\\Temp\\ipykernel_21424\\4166178819.py:35: SettingWithCopyWarning:\n",
      "\n",
      "\n",
      "A value is trying to be set on a copy of a slice from a DataFrame.\n",
      "Try using .loc[row_indexer,col_indexer] = value instead\n",
      "\n",
      "See the caveats in the documentation: https://pandas.pydata.org/pandas-docs/stable/user_guide/indexing.html#returning-a-view-versus-a-copy\n",
      "\n",
      "C:\\Users\\dittr\\AppData\\Local\\Temp\\ipykernel_21424\\4166178819.py:36: FutureWarning:\n",
      "\n",
      "The frame.append method is deprecated and will be removed from pandas in a future version. Use pandas.concat instead.\n",
      "\n",
      "C:\\Users\\dittr\\AppData\\Local\\Temp\\ipykernel_21424\\4166178819.py:35: SettingWithCopyWarning:\n",
      "\n",
      "\n",
      "A value is trying to be set on a copy of a slice from a DataFrame.\n",
      "Try using .loc[row_indexer,col_indexer] = value instead\n",
      "\n",
      "See the caveats in the documentation: https://pandas.pydata.org/pandas-docs/stable/user_guide/indexing.html#returning-a-view-versus-a-copy\n",
      "\n",
      "C:\\Users\\dittr\\AppData\\Local\\Temp\\ipykernel_21424\\4166178819.py:36: FutureWarning:\n",
      "\n",
      "The frame.append method is deprecated and will be removed from pandas in a future version. Use pandas.concat instead.\n",
      "\n",
      "C:\\Users\\dittr\\AppData\\Local\\Temp\\ipykernel_21424\\4166178819.py:35: SettingWithCopyWarning:\n",
      "\n",
      "\n",
      "A value is trying to be set on a copy of a slice from a DataFrame.\n",
      "Try using .loc[row_indexer,col_indexer] = value instead\n",
      "\n",
      "See the caveats in the documentation: https://pandas.pydata.org/pandas-docs/stable/user_guide/indexing.html#returning-a-view-versus-a-copy\n",
      "\n",
      "C:\\Users\\dittr\\AppData\\Local\\Temp\\ipykernel_21424\\4166178819.py:36: FutureWarning:\n",
      "\n",
      "The frame.append method is deprecated and will be removed from pandas in a future version. Use pandas.concat instead.\n",
      "\n",
      "C:\\Users\\dittr\\AppData\\Local\\Temp\\ipykernel_21424\\4166178819.py:35: SettingWithCopyWarning:\n",
      "\n",
      "\n",
      "A value is trying to be set on a copy of a slice from a DataFrame.\n",
      "Try using .loc[row_indexer,col_indexer] = value instead\n",
      "\n",
      "See the caveats in the documentation: https://pandas.pydata.org/pandas-docs/stable/user_guide/indexing.html#returning-a-view-versus-a-copy\n",
      "\n",
      "C:\\Users\\dittr\\AppData\\Local\\Temp\\ipykernel_21424\\4166178819.py:36: FutureWarning:\n",
      "\n",
      "The frame.append method is deprecated and will be removed from pandas in a future version. Use pandas.concat instead.\n",
      "\n",
      "C:\\Users\\dittr\\AppData\\Local\\Temp\\ipykernel_21424\\4166178819.py:35: SettingWithCopyWarning:\n",
      "\n",
      "\n",
      "A value is trying to be set on a copy of a slice from a DataFrame.\n",
      "Try using .loc[row_indexer,col_indexer] = value instead\n",
      "\n",
      "See the caveats in the documentation: https://pandas.pydata.org/pandas-docs/stable/user_guide/indexing.html#returning-a-view-versus-a-copy\n",
      "\n",
      "C:\\Users\\dittr\\AppData\\Local\\Temp\\ipykernel_21424\\4166178819.py:36: FutureWarning:\n",
      "\n",
      "The frame.append method is deprecated and will be removed from pandas in a future version. Use pandas.concat instead.\n",
      "\n",
      "C:\\Users\\dittr\\AppData\\Local\\Temp\\ipykernel_21424\\4166178819.py:35: SettingWithCopyWarning:\n",
      "\n",
      "\n",
      "A value is trying to be set on a copy of a slice from a DataFrame.\n",
      "Try using .loc[row_indexer,col_indexer] = value instead\n",
      "\n",
      "See the caveats in the documentation: https://pandas.pydata.org/pandas-docs/stable/user_guide/indexing.html#returning-a-view-versus-a-copy\n",
      "\n",
      "C:\\Users\\dittr\\AppData\\Local\\Temp\\ipykernel_21424\\4166178819.py:36: FutureWarning:\n",
      "\n",
      "The frame.append method is deprecated and will be removed from pandas in a future version. Use pandas.concat instead.\n",
      "\n",
      "C:\\Users\\dittr\\AppData\\Local\\Temp\\ipykernel_21424\\4166178819.py:35: SettingWithCopyWarning:\n",
      "\n",
      "\n",
      "A value is trying to be set on a copy of a slice from a DataFrame.\n",
      "Try using .loc[row_indexer,col_indexer] = value instead\n",
      "\n",
      "See the caveats in the documentation: https://pandas.pydata.org/pandas-docs/stable/user_guide/indexing.html#returning-a-view-versus-a-copy\n",
      "\n",
      "C:\\Users\\dittr\\AppData\\Local\\Temp\\ipykernel_21424\\4166178819.py:36: FutureWarning:\n",
      "\n",
      "The frame.append method is deprecated and will be removed from pandas in a future version. Use pandas.concat instead.\n",
      "\n",
      "C:\\Users\\dittr\\AppData\\Local\\Temp\\ipykernel_21424\\4166178819.py:35: SettingWithCopyWarning:\n",
      "\n",
      "\n",
      "A value is trying to be set on a copy of a slice from a DataFrame.\n",
      "Try using .loc[row_indexer,col_indexer] = value instead\n",
      "\n",
      "See the caveats in the documentation: https://pandas.pydata.org/pandas-docs/stable/user_guide/indexing.html#returning-a-view-versus-a-copy\n",
      "\n",
      "C:\\Users\\dittr\\AppData\\Local\\Temp\\ipykernel_21424\\4166178819.py:36: FutureWarning:\n",
      "\n",
      "The frame.append method is deprecated and will be removed from pandas in a future version. Use pandas.concat instead.\n",
      "\n",
      "C:\\Users\\dittr\\AppData\\Local\\Temp\\ipykernel_21424\\4166178819.py:35: SettingWithCopyWarning:\n",
      "\n",
      "\n",
      "A value is trying to be set on a copy of a slice from a DataFrame.\n",
      "Try using .loc[row_indexer,col_indexer] = value instead\n",
      "\n",
      "See the caveats in the documentation: https://pandas.pydata.org/pandas-docs/stable/user_guide/indexing.html#returning-a-view-versus-a-copy\n",
      "\n",
      "C:\\Users\\dittr\\AppData\\Local\\Temp\\ipykernel_21424\\4166178819.py:36: FutureWarning:\n",
      "\n",
      "The frame.append method is deprecated and will be removed from pandas in a future version. Use pandas.concat instead.\n",
      "\n",
      "C:\\Users\\dittr\\AppData\\Local\\Temp\\ipykernel_21424\\4166178819.py:35: SettingWithCopyWarning:\n",
      "\n",
      "\n",
      "A value is trying to be set on a copy of a slice from a DataFrame.\n",
      "Try using .loc[row_indexer,col_indexer] = value instead\n",
      "\n",
      "See the caveats in the documentation: https://pandas.pydata.org/pandas-docs/stable/user_guide/indexing.html#returning-a-view-versus-a-copy\n",
      "\n",
      "C:\\Users\\dittr\\AppData\\Local\\Temp\\ipykernel_21424\\4166178819.py:36: FutureWarning:\n",
      "\n",
      "The frame.append method is deprecated and will be removed from pandas in a future version. Use pandas.concat instead.\n",
      "\n",
      "C:\\Users\\dittr\\AppData\\Local\\Temp\\ipykernel_21424\\4166178819.py:35: SettingWithCopyWarning:\n",
      "\n",
      "\n",
      "A value is trying to be set on a copy of a slice from a DataFrame.\n",
      "Try using .loc[row_indexer,col_indexer] = value instead\n",
      "\n",
      "See the caveats in the documentation: https://pandas.pydata.org/pandas-docs/stable/user_guide/indexing.html#returning-a-view-versus-a-copy\n",
      "\n",
      "C:\\Users\\dittr\\AppData\\Local\\Temp\\ipykernel_21424\\4166178819.py:36: FutureWarning:\n",
      "\n",
      "The frame.append method is deprecated and will be removed from pandas in a future version. Use pandas.concat instead.\n",
      "\n",
      "C:\\Users\\dittr\\AppData\\Local\\Temp\\ipykernel_21424\\4166178819.py:35: SettingWithCopyWarning:\n",
      "\n",
      "\n",
      "A value is trying to be set on a copy of a slice from a DataFrame.\n",
      "Try using .loc[row_indexer,col_indexer] = value instead\n",
      "\n",
      "See the caveats in the documentation: https://pandas.pydata.org/pandas-docs/stable/user_guide/indexing.html#returning-a-view-versus-a-copy\n",
      "\n",
      "C:\\Users\\dittr\\AppData\\Local\\Temp\\ipykernel_21424\\4166178819.py:36: FutureWarning:\n",
      "\n",
      "The frame.append method is deprecated and will be removed from pandas in a future version. Use pandas.concat instead.\n",
      "\n",
      "C:\\Users\\dittr\\AppData\\Local\\Temp\\ipykernel_21424\\4166178819.py:35: SettingWithCopyWarning:\n",
      "\n",
      "\n",
      "A value is trying to be set on a copy of a slice from a DataFrame.\n",
      "Try using .loc[row_indexer,col_indexer] = value instead\n",
      "\n",
      "See the caveats in the documentation: https://pandas.pydata.org/pandas-docs/stable/user_guide/indexing.html#returning-a-view-versus-a-copy\n",
      "\n",
      "C:\\Users\\dittr\\AppData\\Local\\Temp\\ipykernel_21424\\4166178819.py:36: FutureWarning:\n",
      "\n",
      "The frame.append method is deprecated and will be removed from pandas in a future version. Use pandas.concat instead.\n",
      "\n",
      "C:\\Users\\dittr\\AppData\\Local\\Temp\\ipykernel_21424\\4166178819.py:35: SettingWithCopyWarning:\n",
      "\n",
      "\n",
      "A value is trying to be set on a copy of a slice from a DataFrame.\n",
      "Try using .loc[row_indexer,col_indexer] = value instead\n",
      "\n",
      "See the caveats in the documentation: https://pandas.pydata.org/pandas-docs/stable/user_guide/indexing.html#returning-a-view-versus-a-copy\n",
      "\n",
      "C:\\Users\\dittr\\AppData\\Local\\Temp\\ipykernel_21424\\4166178819.py:36: FutureWarning:\n",
      "\n",
      "The frame.append method is deprecated and will be removed from pandas in a future version. Use pandas.concat instead.\n",
      "\n",
      "C:\\Users\\dittr\\AppData\\Local\\Temp\\ipykernel_21424\\4166178819.py:35: SettingWithCopyWarning:\n",
      "\n",
      "\n",
      "A value is trying to be set on a copy of a slice from a DataFrame.\n",
      "Try using .loc[row_indexer,col_indexer] = value instead\n",
      "\n",
      "See the caveats in the documentation: https://pandas.pydata.org/pandas-docs/stable/user_guide/indexing.html#returning-a-view-versus-a-copy\n",
      "\n",
      "C:\\Users\\dittr\\AppData\\Local\\Temp\\ipykernel_21424\\4166178819.py:36: FutureWarning:\n",
      "\n",
      "The frame.append method is deprecated and will be removed from pandas in a future version. Use pandas.concat instead.\n",
      "\n",
      "C:\\Users\\dittr\\AppData\\Local\\Temp\\ipykernel_21424\\4166178819.py:35: SettingWithCopyWarning:\n",
      "\n",
      "\n",
      "A value is trying to be set on a copy of a slice from a DataFrame.\n",
      "Try using .loc[row_indexer,col_indexer] = value instead\n",
      "\n",
      "See the caveats in the documentation: https://pandas.pydata.org/pandas-docs/stable/user_guide/indexing.html#returning-a-view-versus-a-copy\n",
      "\n",
      "C:\\Users\\dittr\\AppData\\Local\\Temp\\ipykernel_21424\\4166178819.py:36: FutureWarning:\n",
      "\n",
      "The frame.append method is deprecated and will be removed from pandas in a future version. Use pandas.concat instead.\n",
      "\n",
      "C:\\Users\\dittr\\AppData\\Local\\Temp\\ipykernel_21424\\4166178819.py:35: SettingWithCopyWarning:\n",
      "\n",
      "\n",
      "A value is trying to be set on a copy of a slice from a DataFrame.\n",
      "Try using .loc[row_indexer,col_indexer] = value instead\n",
      "\n",
      "See the caveats in the documentation: https://pandas.pydata.org/pandas-docs/stable/user_guide/indexing.html#returning-a-view-versus-a-copy\n",
      "\n",
      "C:\\Users\\dittr\\AppData\\Local\\Temp\\ipykernel_21424\\4166178819.py:36: FutureWarning:\n",
      "\n",
      "The frame.append method is deprecated and will be removed from pandas in a future version. Use pandas.concat instead.\n",
      "\n",
      "C:\\Users\\dittr\\AppData\\Local\\Temp\\ipykernel_21424\\4166178819.py:35: SettingWithCopyWarning:\n",
      "\n",
      "\n",
      "A value is trying to be set on a copy of a slice from a DataFrame.\n",
      "Try using .loc[row_indexer,col_indexer] = value instead\n",
      "\n",
      "See the caveats in the documentation: https://pandas.pydata.org/pandas-docs/stable/user_guide/indexing.html#returning-a-view-versus-a-copy\n",
      "\n",
      "C:\\Users\\dittr\\AppData\\Local\\Temp\\ipykernel_21424\\4166178819.py:36: FutureWarning:\n",
      "\n",
      "The frame.append method is deprecated and will be removed from pandas in a future version. Use pandas.concat instead.\n",
      "\n",
      "C:\\Users\\dittr\\AppData\\Local\\Temp\\ipykernel_21424\\4166178819.py:35: SettingWithCopyWarning:\n",
      "\n",
      "\n",
      "A value is trying to be set on a copy of a slice from a DataFrame.\n",
      "Try using .loc[row_indexer,col_indexer] = value instead\n",
      "\n",
      "See the caveats in the documentation: https://pandas.pydata.org/pandas-docs/stable/user_guide/indexing.html#returning-a-view-versus-a-copy\n",
      "\n",
      "C:\\Users\\dittr\\AppData\\Local\\Temp\\ipykernel_21424\\4166178819.py:36: FutureWarning:\n",
      "\n",
      "The frame.append method is deprecated and will be removed from pandas in a future version. Use pandas.concat instead.\n",
      "\n",
      "C:\\Users\\dittr\\AppData\\Local\\Temp\\ipykernel_21424\\4166178819.py:35: SettingWithCopyWarning:\n",
      "\n",
      "\n",
      "A value is trying to be set on a copy of a slice from a DataFrame.\n",
      "Try using .loc[row_indexer,col_indexer] = value instead\n",
      "\n",
      "See the caveats in the documentation: https://pandas.pydata.org/pandas-docs/stable/user_guide/indexing.html#returning-a-view-versus-a-copy\n",
      "\n",
      "C:\\Users\\dittr\\AppData\\Local\\Temp\\ipykernel_21424\\4166178819.py:36: FutureWarning:\n",
      "\n",
      "The frame.append method is deprecated and will be removed from pandas in a future version. Use pandas.concat instead.\n",
      "\n",
      "C:\\Users\\dittr\\AppData\\Local\\Temp\\ipykernel_21424\\4166178819.py:35: SettingWithCopyWarning:\n",
      "\n",
      "\n",
      "A value is trying to be set on a copy of a slice from a DataFrame.\n",
      "Try using .loc[row_indexer,col_indexer] = value instead\n",
      "\n",
      "See the caveats in the documentation: https://pandas.pydata.org/pandas-docs/stable/user_guide/indexing.html#returning-a-view-versus-a-copy\n",
      "\n",
      "C:\\Users\\dittr\\AppData\\Local\\Temp\\ipykernel_21424\\4166178819.py:36: FutureWarning:\n",
      "\n",
      "The frame.append method is deprecated and will be removed from pandas in a future version. Use pandas.concat instead.\n",
      "\n",
      "C:\\Users\\dittr\\AppData\\Local\\Temp\\ipykernel_21424\\4166178819.py:35: SettingWithCopyWarning:\n",
      "\n",
      "\n",
      "A value is trying to be set on a copy of a slice from a DataFrame.\n",
      "Try using .loc[row_indexer,col_indexer] = value instead\n",
      "\n",
      "See the caveats in the documentation: https://pandas.pydata.org/pandas-docs/stable/user_guide/indexing.html#returning-a-view-versus-a-copy\n",
      "\n",
      "C:\\Users\\dittr\\AppData\\Local\\Temp\\ipykernel_21424\\4166178819.py:36: FutureWarning:\n",
      "\n",
      "The frame.append method is deprecated and will be removed from pandas in a future version. Use pandas.concat instead.\n",
      "\n",
      "C:\\Users\\dittr\\AppData\\Local\\Temp\\ipykernel_21424\\4166178819.py:35: SettingWithCopyWarning:\n",
      "\n",
      "\n",
      "A value is trying to be set on a copy of a slice from a DataFrame.\n",
      "Try using .loc[row_indexer,col_indexer] = value instead\n",
      "\n",
      "See the caveats in the documentation: https://pandas.pydata.org/pandas-docs/stable/user_guide/indexing.html#returning-a-view-versus-a-copy\n",
      "\n",
      "C:\\Users\\dittr\\AppData\\Local\\Temp\\ipykernel_21424\\4166178819.py:36: FutureWarning:\n",
      "\n",
      "The frame.append method is deprecated and will be removed from pandas in a future version. Use pandas.concat instead.\n",
      "\n",
      "C:\\Users\\dittr\\AppData\\Local\\Temp\\ipykernel_21424\\4166178819.py:35: SettingWithCopyWarning:\n",
      "\n",
      "\n",
      "A value is trying to be set on a copy of a slice from a DataFrame.\n",
      "Try using .loc[row_indexer,col_indexer] = value instead\n",
      "\n",
      "See the caveats in the documentation: https://pandas.pydata.org/pandas-docs/stable/user_guide/indexing.html#returning-a-view-versus-a-copy\n",
      "\n",
      "C:\\Users\\dittr\\AppData\\Local\\Temp\\ipykernel_21424\\4166178819.py:36: FutureWarning:\n",
      "\n",
      "The frame.append method is deprecated and will be removed from pandas in a future version. Use pandas.concat instead.\n",
      "\n",
      "C:\\Users\\dittr\\AppData\\Local\\Temp\\ipykernel_21424\\4166178819.py:35: SettingWithCopyWarning:\n",
      "\n",
      "\n",
      "A value is trying to be set on a copy of a slice from a DataFrame.\n",
      "Try using .loc[row_indexer,col_indexer] = value instead\n",
      "\n",
      "See the caveats in the documentation: https://pandas.pydata.org/pandas-docs/stable/user_guide/indexing.html#returning-a-view-versus-a-copy\n",
      "\n",
      "C:\\Users\\dittr\\AppData\\Local\\Temp\\ipykernel_21424\\4166178819.py:36: FutureWarning:\n",
      "\n",
      "The frame.append method is deprecated and will be removed from pandas in a future version. Use pandas.concat instead.\n",
      "\n",
      "C:\\Users\\dittr\\AppData\\Local\\Temp\\ipykernel_21424\\4166178819.py:35: SettingWithCopyWarning:\n",
      "\n",
      "\n",
      "A value is trying to be set on a copy of a slice from a DataFrame.\n",
      "Try using .loc[row_indexer,col_indexer] = value instead\n",
      "\n",
      "See the caveats in the documentation: https://pandas.pydata.org/pandas-docs/stable/user_guide/indexing.html#returning-a-view-versus-a-copy\n",
      "\n",
      "C:\\Users\\dittr\\AppData\\Local\\Temp\\ipykernel_21424\\4166178819.py:36: FutureWarning:\n",
      "\n",
      "The frame.append method is deprecated and will be removed from pandas in a future version. Use pandas.concat instead.\n",
      "\n",
      "C:\\Users\\dittr\\AppData\\Local\\Temp\\ipykernel_21424\\4166178819.py:35: SettingWithCopyWarning:\n",
      "\n",
      "\n",
      "A value is trying to be set on a copy of a slice from a DataFrame.\n",
      "Try using .loc[row_indexer,col_indexer] = value instead\n",
      "\n",
      "See the caveats in the documentation: https://pandas.pydata.org/pandas-docs/stable/user_guide/indexing.html#returning-a-view-versus-a-copy\n",
      "\n",
      "C:\\Users\\dittr\\AppData\\Local\\Temp\\ipykernel_21424\\4166178819.py:36: FutureWarning:\n",
      "\n",
      "The frame.append method is deprecated and will be removed from pandas in a future version. Use pandas.concat instead.\n",
      "\n"
     ]
    },
    {
     "name": "stderr",
     "output_type": "stream",
     "text": [
      "C:\\Users\\dittr\\AppData\\Local\\Temp\\ipykernel_21424\\4166178819.py:35: SettingWithCopyWarning:\n",
      "\n",
      "\n",
      "A value is trying to be set on a copy of a slice from a DataFrame.\n",
      "Try using .loc[row_indexer,col_indexer] = value instead\n",
      "\n",
      "See the caveats in the documentation: https://pandas.pydata.org/pandas-docs/stable/user_guide/indexing.html#returning-a-view-versus-a-copy\n",
      "\n",
      "C:\\Users\\dittr\\AppData\\Local\\Temp\\ipykernel_21424\\4166178819.py:36: FutureWarning:\n",
      "\n",
      "The frame.append method is deprecated and will be removed from pandas in a future version. Use pandas.concat instead.\n",
      "\n",
      "C:\\Users\\dittr\\AppData\\Local\\Temp\\ipykernel_21424\\4166178819.py:35: SettingWithCopyWarning:\n",
      "\n",
      "\n",
      "A value is trying to be set on a copy of a slice from a DataFrame.\n",
      "Try using .loc[row_indexer,col_indexer] = value instead\n",
      "\n",
      "See the caveats in the documentation: https://pandas.pydata.org/pandas-docs/stable/user_guide/indexing.html#returning-a-view-versus-a-copy\n",
      "\n",
      "C:\\Users\\dittr\\AppData\\Local\\Temp\\ipykernel_21424\\4166178819.py:36: FutureWarning:\n",
      "\n",
      "The frame.append method is deprecated and will be removed from pandas in a future version. Use pandas.concat instead.\n",
      "\n",
      "C:\\Users\\dittr\\AppData\\Local\\Temp\\ipykernel_21424\\4166178819.py:35: SettingWithCopyWarning:\n",
      "\n",
      "\n",
      "A value is trying to be set on a copy of a slice from a DataFrame.\n",
      "Try using .loc[row_indexer,col_indexer] = value instead\n",
      "\n",
      "See the caveats in the documentation: https://pandas.pydata.org/pandas-docs/stable/user_guide/indexing.html#returning-a-view-versus-a-copy\n",
      "\n",
      "C:\\Users\\dittr\\AppData\\Local\\Temp\\ipykernel_21424\\4166178819.py:36: FutureWarning:\n",
      "\n",
      "The frame.append method is deprecated and will be removed from pandas in a future version. Use pandas.concat instead.\n",
      "\n",
      "C:\\Users\\dittr\\AppData\\Local\\Temp\\ipykernel_21424\\4166178819.py:35: SettingWithCopyWarning:\n",
      "\n",
      "\n",
      "A value is trying to be set on a copy of a slice from a DataFrame.\n",
      "Try using .loc[row_indexer,col_indexer] = value instead\n",
      "\n",
      "See the caveats in the documentation: https://pandas.pydata.org/pandas-docs/stable/user_guide/indexing.html#returning-a-view-versus-a-copy\n",
      "\n",
      "C:\\Users\\dittr\\AppData\\Local\\Temp\\ipykernel_21424\\4166178819.py:36: FutureWarning:\n",
      "\n",
      "The frame.append method is deprecated and will be removed from pandas in a future version. Use pandas.concat instead.\n",
      "\n",
      "C:\\Users\\dittr\\AppData\\Local\\Temp\\ipykernel_21424\\4166178819.py:35: SettingWithCopyWarning:\n",
      "\n",
      "\n",
      "A value is trying to be set on a copy of a slice from a DataFrame.\n",
      "Try using .loc[row_indexer,col_indexer] = value instead\n",
      "\n",
      "See the caveats in the documentation: https://pandas.pydata.org/pandas-docs/stable/user_guide/indexing.html#returning-a-view-versus-a-copy\n",
      "\n",
      "C:\\Users\\dittr\\AppData\\Local\\Temp\\ipykernel_21424\\4166178819.py:36: FutureWarning:\n",
      "\n",
      "The frame.append method is deprecated and will be removed from pandas in a future version. Use pandas.concat instead.\n",
      "\n",
      "C:\\Users\\dittr\\AppData\\Local\\Temp\\ipykernel_21424\\4166178819.py:35: SettingWithCopyWarning:\n",
      "\n",
      "\n",
      "A value is trying to be set on a copy of a slice from a DataFrame.\n",
      "Try using .loc[row_indexer,col_indexer] = value instead\n",
      "\n",
      "See the caveats in the documentation: https://pandas.pydata.org/pandas-docs/stable/user_guide/indexing.html#returning-a-view-versus-a-copy\n",
      "\n",
      "C:\\Users\\dittr\\AppData\\Local\\Temp\\ipykernel_21424\\4166178819.py:36: FutureWarning:\n",
      "\n",
      "The frame.append method is deprecated and will be removed from pandas in a future version. Use pandas.concat instead.\n",
      "\n",
      "C:\\Users\\dittr\\AppData\\Local\\Temp\\ipykernel_21424\\4166178819.py:35: SettingWithCopyWarning:\n",
      "\n",
      "\n",
      "A value is trying to be set on a copy of a slice from a DataFrame.\n",
      "Try using .loc[row_indexer,col_indexer] = value instead\n",
      "\n",
      "See the caveats in the documentation: https://pandas.pydata.org/pandas-docs/stable/user_guide/indexing.html#returning-a-view-versus-a-copy\n",
      "\n",
      "C:\\Users\\dittr\\AppData\\Local\\Temp\\ipykernel_21424\\4166178819.py:36: FutureWarning:\n",
      "\n",
      "The frame.append method is deprecated and will be removed from pandas in a future version. Use pandas.concat instead.\n",
      "\n",
      "C:\\Users\\dittr\\AppData\\Local\\Temp\\ipykernel_21424\\4166178819.py:35: SettingWithCopyWarning:\n",
      "\n",
      "\n",
      "A value is trying to be set on a copy of a slice from a DataFrame.\n",
      "Try using .loc[row_indexer,col_indexer] = value instead\n",
      "\n",
      "See the caveats in the documentation: https://pandas.pydata.org/pandas-docs/stable/user_guide/indexing.html#returning-a-view-versus-a-copy\n",
      "\n",
      "C:\\Users\\dittr\\AppData\\Local\\Temp\\ipykernel_21424\\4166178819.py:36: FutureWarning:\n",
      "\n",
      "The frame.append method is deprecated and will be removed from pandas in a future version. Use pandas.concat instead.\n",
      "\n",
      "C:\\Users\\dittr\\AppData\\Local\\Temp\\ipykernel_21424\\4166178819.py:35: SettingWithCopyWarning:\n",
      "\n",
      "\n",
      "A value is trying to be set on a copy of a slice from a DataFrame.\n",
      "Try using .loc[row_indexer,col_indexer] = value instead\n",
      "\n",
      "See the caveats in the documentation: https://pandas.pydata.org/pandas-docs/stable/user_guide/indexing.html#returning-a-view-versus-a-copy\n",
      "\n",
      "C:\\Users\\dittr\\AppData\\Local\\Temp\\ipykernel_21424\\4166178819.py:36: FutureWarning:\n",
      "\n",
      "The frame.append method is deprecated and will be removed from pandas in a future version. Use pandas.concat instead.\n",
      "\n",
      "C:\\Users\\dittr\\AppData\\Local\\Temp\\ipykernel_21424\\4166178819.py:35: SettingWithCopyWarning:\n",
      "\n",
      "\n",
      "A value is trying to be set on a copy of a slice from a DataFrame.\n",
      "Try using .loc[row_indexer,col_indexer] = value instead\n",
      "\n",
      "See the caveats in the documentation: https://pandas.pydata.org/pandas-docs/stable/user_guide/indexing.html#returning-a-view-versus-a-copy\n",
      "\n",
      "C:\\Users\\dittr\\AppData\\Local\\Temp\\ipykernel_21424\\4166178819.py:36: FutureWarning:\n",
      "\n",
      "The frame.append method is deprecated and will be removed from pandas in a future version. Use pandas.concat instead.\n",
      "\n",
      "C:\\Users\\dittr\\AppData\\Local\\Temp\\ipykernel_21424\\4166178819.py:35: SettingWithCopyWarning:\n",
      "\n",
      "\n",
      "A value is trying to be set on a copy of a slice from a DataFrame.\n",
      "Try using .loc[row_indexer,col_indexer] = value instead\n",
      "\n",
      "See the caveats in the documentation: https://pandas.pydata.org/pandas-docs/stable/user_guide/indexing.html#returning-a-view-versus-a-copy\n",
      "\n",
      "C:\\Users\\dittr\\AppData\\Local\\Temp\\ipykernel_21424\\4166178819.py:36: FutureWarning:\n",
      "\n",
      "The frame.append method is deprecated and will be removed from pandas in a future version. Use pandas.concat instead.\n",
      "\n",
      "C:\\Users\\dittr\\AppData\\Local\\Temp\\ipykernel_21424\\4166178819.py:35: SettingWithCopyWarning:\n",
      "\n",
      "\n",
      "A value is trying to be set on a copy of a slice from a DataFrame.\n",
      "Try using .loc[row_indexer,col_indexer] = value instead\n",
      "\n",
      "See the caveats in the documentation: https://pandas.pydata.org/pandas-docs/stable/user_guide/indexing.html#returning-a-view-versus-a-copy\n",
      "\n",
      "C:\\Users\\dittr\\AppData\\Local\\Temp\\ipykernel_21424\\4166178819.py:36: FutureWarning:\n",
      "\n",
      "The frame.append method is deprecated and will be removed from pandas in a future version. Use pandas.concat instead.\n",
      "\n",
      "C:\\Users\\dittr\\AppData\\Local\\Temp\\ipykernel_21424\\4166178819.py:35: SettingWithCopyWarning:\n",
      "\n",
      "\n",
      "A value is trying to be set on a copy of a slice from a DataFrame.\n",
      "Try using .loc[row_indexer,col_indexer] = value instead\n",
      "\n",
      "See the caveats in the documentation: https://pandas.pydata.org/pandas-docs/stable/user_guide/indexing.html#returning-a-view-versus-a-copy\n",
      "\n",
      "C:\\Users\\dittr\\AppData\\Local\\Temp\\ipykernel_21424\\4166178819.py:36: FutureWarning:\n",
      "\n",
      "The frame.append method is deprecated and will be removed from pandas in a future version. Use pandas.concat instead.\n",
      "\n",
      "C:\\Users\\dittr\\AppData\\Local\\Temp\\ipykernel_21424\\4166178819.py:35: SettingWithCopyWarning:\n",
      "\n",
      "\n",
      "A value is trying to be set on a copy of a slice from a DataFrame.\n",
      "Try using .loc[row_indexer,col_indexer] = value instead\n",
      "\n",
      "See the caveats in the documentation: https://pandas.pydata.org/pandas-docs/stable/user_guide/indexing.html#returning-a-view-versus-a-copy\n",
      "\n",
      "C:\\Users\\dittr\\AppData\\Local\\Temp\\ipykernel_21424\\4166178819.py:36: FutureWarning:\n",
      "\n",
      "The frame.append method is deprecated and will be removed from pandas in a future version. Use pandas.concat instead.\n",
      "\n",
      "C:\\Users\\dittr\\AppData\\Local\\Temp\\ipykernel_21424\\4166178819.py:35: SettingWithCopyWarning:\n",
      "\n",
      "\n",
      "A value is trying to be set on a copy of a slice from a DataFrame.\n",
      "Try using .loc[row_indexer,col_indexer] = value instead\n",
      "\n",
      "See the caveats in the documentation: https://pandas.pydata.org/pandas-docs/stable/user_guide/indexing.html#returning-a-view-versus-a-copy\n",
      "\n",
      "C:\\Users\\dittr\\AppData\\Local\\Temp\\ipykernel_21424\\4166178819.py:36: FutureWarning:\n",
      "\n",
      "The frame.append method is deprecated and will be removed from pandas in a future version. Use pandas.concat instead.\n",
      "\n",
      "C:\\Users\\dittr\\AppData\\Local\\Temp\\ipykernel_21424\\4166178819.py:35: SettingWithCopyWarning:\n",
      "\n",
      "\n",
      "A value is trying to be set on a copy of a slice from a DataFrame.\n",
      "Try using .loc[row_indexer,col_indexer] = value instead\n",
      "\n",
      "See the caveats in the documentation: https://pandas.pydata.org/pandas-docs/stable/user_guide/indexing.html#returning-a-view-versus-a-copy\n",
      "\n",
      "C:\\Users\\dittr\\AppData\\Local\\Temp\\ipykernel_21424\\4166178819.py:36: FutureWarning:\n",
      "\n",
      "The frame.append method is deprecated and will be removed from pandas in a future version. Use pandas.concat instead.\n",
      "\n",
      "C:\\Users\\dittr\\AppData\\Local\\Temp\\ipykernel_21424\\4166178819.py:35: SettingWithCopyWarning:\n",
      "\n",
      "\n",
      "A value is trying to be set on a copy of a slice from a DataFrame.\n",
      "Try using .loc[row_indexer,col_indexer] = value instead\n",
      "\n",
      "See the caveats in the documentation: https://pandas.pydata.org/pandas-docs/stable/user_guide/indexing.html#returning-a-view-versus-a-copy\n",
      "\n",
      "C:\\Users\\dittr\\AppData\\Local\\Temp\\ipykernel_21424\\4166178819.py:36: FutureWarning:\n",
      "\n",
      "The frame.append method is deprecated and will be removed from pandas in a future version. Use pandas.concat instead.\n",
      "\n",
      "C:\\Users\\dittr\\AppData\\Local\\Temp\\ipykernel_21424\\4166178819.py:35: SettingWithCopyWarning:\n",
      "\n",
      "\n",
      "A value is trying to be set on a copy of a slice from a DataFrame.\n",
      "Try using .loc[row_indexer,col_indexer] = value instead\n",
      "\n",
      "See the caveats in the documentation: https://pandas.pydata.org/pandas-docs/stable/user_guide/indexing.html#returning-a-view-versus-a-copy\n",
      "\n",
      "C:\\Users\\dittr\\AppData\\Local\\Temp\\ipykernel_21424\\4166178819.py:36: FutureWarning:\n",
      "\n",
      "The frame.append method is deprecated and will be removed from pandas in a future version. Use pandas.concat instead.\n",
      "\n"
     ]
    },
    {
     "data": {
      "text/html": [
       "<div>\n",
       "<style scoped>\n",
       "    .dataframe tbody tr th:only-of-type {\n",
       "        vertical-align: middle;\n",
       "    }\n",
       "\n",
       "    .dataframe tbody tr th {\n",
       "        vertical-align: top;\n",
       "    }\n",
       "\n",
       "    .dataframe thead th {\n",
       "        text-align: right;\n",
       "    }\n",
       "</style>\n",
       "<table border=\"1\" class=\"dataframe\">\n",
       "  <thead>\n",
       "    <tr style=\"text-align: right;\">\n",
       "      <th></th>\n",
       "      <th>Imputation_Method</th>\n",
       "      <th>Task</th>\n",
       "      <th>Missing Type</th>\n",
       "      <th>Missing Fraction</th>\n",
       "      <th>Column</th>\n",
       "      <th>result_type</th>\n",
       "      <th>metric</th>\n",
       "      <th>Baseline</th>\n",
       "      <th>Corrupted</th>\n",
       "      <th>Imputed</th>\n",
       "      <th>...</th>\n",
       "      <th>MinorityClassSize</th>\n",
       "      <th>NumberOfFeatures</th>\n",
       "      <th>NumberOfInstances</th>\n",
       "      <th>NumberOfNumericFeatures</th>\n",
       "      <th>NumberOfCategoricalFeatures</th>\n",
       "      <th>NumberOfClasses</th>\n",
       "      <th>Downstream Performance Rank</th>\n",
       "      <th>Data_Constellation</th>\n",
       "      <th>Data_Constellation_full</th>\n",
       "      <th>Performance Difference to Best to Average in Percent</th>\n",
       "    </tr>\n",
       "  </thead>\n",
       "  <tbody>\n",
       "    <tr>\n",
       "      <th>1</th>\n",
       "      <td>Discriminative DL</td>\n",
       "      <td>6</td>\n",
       "      <td>MAR</td>\n",
       "      <td>0.01</td>\n",
       "      <td>x-box</td>\n",
       "      <td>downstream_performance_mean</td>\n",
       "      <td>Classification Tasks</td>\n",
       "      <td>0.722137</td>\n",
       "      <td>0.721631</td>\n",
       "      <td>0.722056</td>\n",
       "      <td>...</td>\n",
       "      <td>734.0</td>\n",
       "      <td>17.0</td>\n",
       "      <td>20000.0</td>\n",
       "      <td>16.0</td>\n",
       "      <td>1.0</td>\n",
       "      <td>26.0</td>\n",
       "      <td>4.0</td>\n",
       "      <td>MAR - 0.01</td>\n",
       "      <td>MAR - 0.01 - 6</td>\n",
       "      <td>0.000265</td>\n",
       "    </tr>\n",
       "    <tr>\n",
       "      <th>9</th>\n",
       "      <td>Discriminative DL</td>\n",
       "      <td>6</td>\n",
       "      <td>MAR</td>\n",
       "      <td>0.1</td>\n",
       "      <td>x-box</td>\n",
       "      <td>downstream_performance_mean</td>\n",
       "      <td>Classification Tasks</td>\n",
       "      <td>0.722137</td>\n",
       "      <td>0.709453</td>\n",
       "      <td>0.722138</td>\n",
       "      <td>...</td>\n",
       "      <td>734.0</td>\n",
       "      <td>17.0</td>\n",
       "      <td>20000.0</td>\n",
       "      <td>16.0</td>\n",
       "      <td>1.0</td>\n",
       "      <td>26.0</td>\n",
       "      <td>1.0</td>\n",
       "      <td>MAR - 0.1</td>\n",
       "      <td>MAR - 0.1 - 6</td>\n",
       "      <td>0.000000</td>\n",
       "    </tr>\n",
       "    <tr>\n",
       "      <th>10</th>\n",
       "      <td>Discriminative DL</td>\n",
       "      <td>6</td>\n",
       "      <td>MAR</td>\n",
       "      <td>0.3</td>\n",
       "      <td>x-box</td>\n",
       "      <td>downstream_performance_mean</td>\n",
       "      <td>Classification Tasks</td>\n",
       "      <td>0.722137</td>\n",
       "      <td>0.694927</td>\n",
       "      <td>0.722148</td>\n",
       "      <td>...</td>\n",
       "      <td>734.0</td>\n",
       "      <td>17.0</td>\n",
       "      <td>20000.0</td>\n",
       "      <td>16.0</td>\n",
       "      <td>1.0</td>\n",
       "      <td>26.0</td>\n",
       "      <td>5.0</td>\n",
       "      <td>MAR - 0.3</td>\n",
       "      <td>MAR - 0.3 - 6</td>\n",
       "      <td>0.001221</td>\n",
       "    </tr>\n",
       "    <tr>\n",
       "      <th>18</th>\n",
       "      <td>Discriminative DL</td>\n",
       "      <td>6</td>\n",
       "      <td>MAR</td>\n",
       "      <td>0.5</td>\n",
       "      <td>x-box</td>\n",
       "      <td>downstream_performance_mean</td>\n",
       "      <td>Classification Tasks</td>\n",
       "      <td>0.722137</td>\n",
       "      <td>0.660129</td>\n",
       "      <td>0.721248</td>\n",
       "      <td>...</td>\n",
       "      <td>734.0</td>\n",
       "      <td>17.0</td>\n",
       "      <td>20000.0</td>\n",
       "      <td>16.0</td>\n",
       "      <td>1.0</td>\n",
       "      <td>26.0</td>\n",
       "      <td>2.0</td>\n",
       "      <td>MAR - 0.5</td>\n",
       "      <td>MAR - 0.5 - 6</td>\n",
       "      <td>0.004819</td>\n",
       "    </tr>\n",
       "    <tr>\n",
       "      <th>21</th>\n",
       "      <td>Discriminative DL</td>\n",
       "      <td>6</td>\n",
       "      <td>MCAR</td>\n",
       "      <td>0.01</td>\n",
       "      <td>x-box</td>\n",
       "      <td>downstream_performance_mean</td>\n",
       "      <td>Classification Tasks</td>\n",
       "      <td>0.722137</td>\n",
       "      <td>0.721357</td>\n",
       "      <td>0.722314</td>\n",
       "      <td>...</td>\n",
       "      <td>734.0</td>\n",
       "      <td>17.0</td>\n",
       "      <td>20000.0</td>\n",
       "      <td>16.0</td>\n",
       "      <td>1.0</td>\n",
       "      <td>26.0</td>\n",
       "      <td>4.0</td>\n",
       "      <td>MCAR - 0.01</td>\n",
       "      <td>MCAR - 0.01 - 6</td>\n",
       "      <td>0.000099</td>\n",
       "    </tr>\n",
       "    <tr>\n",
       "      <th>...</th>\n",
       "      <td>...</td>\n",
       "      <td>...</td>\n",
       "      <td>...</td>\n",
       "      <td>...</td>\n",
       "      <td>...</td>\n",
       "      <td>...</td>\n",
       "      <td>...</td>\n",
       "      <td>...</td>\n",
       "      <td>...</td>\n",
       "      <td>...</td>\n",
       "      <td>...</td>\n",
       "      <td>...</td>\n",
       "      <td>...</td>\n",
       "      <td>...</td>\n",
       "      <td>...</td>\n",
       "      <td>...</td>\n",
       "      <td>...</td>\n",
       "      <td>...</td>\n",
       "      <td>...</td>\n",
       "      <td>...</td>\n",
       "      <td>...</td>\n",
       "    </tr>\n",
       "    <tr>\n",
       "      <th>1157</th>\n",
       "      <td>Discriminative DL</td>\n",
       "      <td>41671</td>\n",
       "      <td>MCAR</td>\n",
       "      <td>0.5</td>\n",
       "      <td>a9</td>\n",
       "      <td>downstream_performance_mean</td>\n",
       "      <td>Classification Tasks</td>\n",
       "      <td>0.241342</td>\n",
       "      <td>0.251922</td>\n",
       "      <td>0.241354</td>\n",
       "      <td>...</td>\n",
       "      <td>743.0</td>\n",
       "      <td>21.0</td>\n",
       "      <td>20000.0</td>\n",
       "      <td>20.0</td>\n",
       "      <td>1.0</td>\n",
       "      <td>5.0</td>\n",
       "      <td>1.0</td>\n",
       "      <td>MCAR - 0.5</td>\n",
       "      <td>MCAR - 0.5 - 41671</td>\n",
       "      <td>0.000000</td>\n",
       "    </tr>\n",
       "    <tr>\n",
       "      <th>1161</th>\n",
       "      <td>Discriminative DL</td>\n",
       "      <td>41671</td>\n",
       "      <td>MNAR</td>\n",
       "      <td>0.01</td>\n",
       "      <td>a9</td>\n",
       "      <td>downstream_performance_mean</td>\n",
       "      <td>Classification Tasks</td>\n",
       "      <td>0.241342</td>\n",
       "      <td>0.241122</td>\n",
       "      <td>0.241342</td>\n",
       "      <td>...</td>\n",
       "      <td>743.0</td>\n",
       "      <td>21.0</td>\n",
       "      <td>20000.0</td>\n",
       "      <td>20.0</td>\n",
       "      <td>1.0</td>\n",
       "      <td>5.0</td>\n",
       "      <td>2.0</td>\n",
       "      <td>MNAR - 0.01</td>\n",
       "      <td>MNAR - 0.01 - 41671</td>\n",
       "      <td>-0.085789</td>\n",
       "    </tr>\n",
       "    <tr>\n",
       "      <th>1167</th>\n",
       "      <td>Discriminative DL</td>\n",
       "      <td>41671</td>\n",
       "      <td>MNAR</td>\n",
       "      <td>0.1</td>\n",
       "      <td>a9</td>\n",
       "      <td>downstream_performance_mean</td>\n",
       "      <td>Classification Tasks</td>\n",
       "      <td>0.241342</td>\n",
       "      <td>0.244979</td>\n",
       "      <td>0.241013</td>\n",
       "      <td>...</td>\n",
       "      <td>743.0</td>\n",
       "      <td>21.0</td>\n",
       "      <td>20000.0</td>\n",
       "      <td>20.0</td>\n",
       "      <td>1.0</td>\n",
       "      <td>5.0</td>\n",
       "      <td>1.0</td>\n",
       "      <td>MNAR - 0.1</td>\n",
       "      <td>MNAR - 0.1 - 41671</td>\n",
       "      <td>0.000000</td>\n",
       "    </tr>\n",
       "    <tr>\n",
       "      <th>1172</th>\n",
       "      <td>Discriminative DL</td>\n",
       "      <td>41671</td>\n",
       "      <td>MNAR</td>\n",
       "      <td>0.3</td>\n",
       "      <td>a9</td>\n",
       "      <td>downstream_performance_mean</td>\n",
       "      <td>Classification Tasks</td>\n",
       "      <td>0.241342</td>\n",
       "      <td>0.251333</td>\n",
       "      <td>0.241342</td>\n",
       "      <td>...</td>\n",
       "      <td>743.0</td>\n",
       "      <td>21.0</td>\n",
       "      <td>20000.0</td>\n",
       "      <td>20.0</td>\n",
       "      <td>1.0</td>\n",
       "      <td>5.0</td>\n",
       "      <td>1.0</td>\n",
       "      <td>MNAR - 0.3</td>\n",
       "      <td>MNAR - 0.3 - 41671</td>\n",
       "      <td>0.000000</td>\n",
       "    </tr>\n",
       "    <tr>\n",
       "      <th>1177</th>\n",
       "      <td>Discriminative DL</td>\n",
       "      <td>41671</td>\n",
       "      <td>MNAR</td>\n",
       "      <td>0.5</td>\n",
       "      <td>a9</td>\n",
       "      <td>downstream_performance_mean</td>\n",
       "      <td>Classification Tasks</td>\n",
       "      <td>0.241342</td>\n",
       "      <td>0.255906</td>\n",
       "      <td>0.241344</td>\n",
       "      <td>...</td>\n",
       "      <td>743.0</td>\n",
       "      <td>21.0</td>\n",
       "      <td>20000.0</td>\n",
       "      <td>20.0</td>\n",
       "      <td>1.0</td>\n",
       "      <td>5.0</td>\n",
       "      <td>1.0</td>\n",
       "      <td>MNAR - 0.5</td>\n",
       "      <td>MNAR - 0.5 - 41671</td>\n",
       "      <td>0.000000</td>\n",
       "    </tr>\n",
       "  </tbody>\n",
       "</table>\n",
       "<p>203 rows × 24 columns</p>\n",
       "</div>"
      ],
      "text/plain": [
       "      Imputation_Method   Task Missing Type Missing Fraction Column  \\\n",
       "1     Discriminative DL      6          MAR             0.01  x-box   \n",
       "9     Discriminative DL      6          MAR              0.1  x-box   \n",
       "10    Discriminative DL      6          MAR              0.3  x-box   \n",
       "18    Discriminative DL      6          MAR              0.5  x-box   \n",
       "21    Discriminative DL      6         MCAR             0.01  x-box   \n",
       "...                 ...    ...          ...              ...    ...   \n",
       "1157  Discriminative DL  41671         MCAR              0.5     a9   \n",
       "1161  Discriminative DL  41671         MNAR             0.01     a9   \n",
       "1167  Discriminative DL  41671         MNAR              0.1     a9   \n",
       "1172  Discriminative DL  41671         MNAR              0.3     a9   \n",
       "1177  Discriminative DL  41671         MNAR              0.5     a9   \n",
       "\n",
       "                      result_type                metric  Baseline  Corrupted  \\\n",
       "1     downstream_performance_mean  Classification Tasks  0.722137   0.721631   \n",
       "9     downstream_performance_mean  Classification Tasks  0.722137   0.709453   \n",
       "10    downstream_performance_mean  Classification Tasks  0.722137   0.694927   \n",
       "18    downstream_performance_mean  Classification Tasks  0.722137   0.660129   \n",
       "21    downstream_performance_mean  Classification Tasks  0.722137   0.721357   \n",
       "...                           ...                   ...       ...        ...   \n",
       "1157  downstream_performance_mean  Classification Tasks  0.241342   0.251922   \n",
       "1161  downstream_performance_mean  Classification Tasks  0.241342   0.241122   \n",
       "1167  downstream_performance_mean  Classification Tasks  0.241342   0.244979   \n",
       "1172  downstream_performance_mean  Classification Tasks  0.241342   0.251333   \n",
       "1177  downstream_performance_mean  Classification Tasks  0.241342   0.255906   \n",
       "\n",
       "       Imputed  ...  MinorityClassSize  NumberOfFeatures NumberOfInstances  \\\n",
       "1     0.722056  ...              734.0              17.0           20000.0   \n",
       "9     0.722138  ...              734.0              17.0           20000.0   \n",
       "10    0.722148  ...              734.0              17.0           20000.0   \n",
       "18    0.721248  ...              734.0              17.0           20000.0   \n",
       "21    0.722314  ...              734.0              17.0           20000.0   \n",
       "...        ...  ...                ...               ...               ...   \n",
       "1157  0.241354  ...              743.0              21.0           20000.0   \n",
       "1161  0.241342  ...              743.0              21.0           20000.0   \n",
       "1167  0.241013  ...              743.0              21.0           20000.0   \n",
       "1172  0.241342  ...              743.0              21.0           20000.0   \n",
       "1177  0.241344  ...              743.0              21.0           20000.0   \n",
       "\n",
       "      NumberOfNumericFeatures  NumberOfCategoricalFeatures  NumberOfClasses  \\\n",
       "1                        16.0                          1.0             26.0   \n",
       "9                        16.0                          1.0             26.0   \n",
       "10                       16.0                          1.0             26.0   \n",
       "18                       16.0                          1.0             26.0   \n",
       "21                       16.0                          1.0             26.0   \n",
       "...                       ...                          ...              ...   \n",
       "1157                     20.0                          1.0              5.0   \n",
       "1161                     20.0                          1.0              5.0   \n",
       "1167                     20.0                          1.0              5.0   \n",
       "1172                     20.0                          1.0              5.0   \n",
       "1177                     20.0                          1.0              5.0   \n",
       "\n",
       "      Downstream Performance Rank  Data_Constellation  \\\n",
       "1                             4.0          MAR - 0.01   \n",
       "9                             1.0           MAR - 0.1   \n",
       "10                            5.0           MAR - 0.3   \n",
       "18                            2.0           MAR - 0.5   \n",
       "21                            4.0         MCAR - 0.01   \n",
       "...                           ...                 ...   \n",
       "1157                          1.0          MCAR - 0.5   \n",
       "1161                          2.0         MNAR - 0.01   \n",
       "1167                          1.0          MNAR - 0.1   \n",
       "1172                          1.0          MNAR - 0.3   \n",
       "1177                          1.0          MNAR - 0.5   \n",
       "\n",
       "      Data_Constellation_full  \\\n",
       "1              MAR - 0.01 - 6   \n",
       "9               MAR - 0.1 - 6   \n",
       "10              MAR - 0.3 - 6   \n",
       "18              MAR - 0.5 - 6   \n",
       "21            MCAR - 0.01 - 6   \n",
       "...                       ...   \n",
       "1157       MCAR - 0.5 - 41671   \n",
       "1161      MNAR - 0.01 - 41671   \n",
       "1167       MNAR - 0.1 - 41671   \n",
       "1172       MNAR - 0.3 - 41671   \n",
       "1177       MNAR - 0.5 - 41671   \n",
       "\n",
       "      Performance Difference to Best to Average in Percent  \n",
       "1                                              0.000265     \n",
       "9                                              0.000000     \n",
       "10                                             0.001221     \n",
       "18                                             0.004819     \n",
       "21                                             0.000099     \n",
       "...                                                 ...     \n",
       "1157                                           0.000000     \n",
       "1161                                          -0.085789     \n",
       "1167                                           0.000000     \n",
       "1172                                           0.000000     \n",
       "1177                                           0.000000     \n",
       "\n",
       "[203 rows x 24 columns]"
      ]
     },
     "execution_count": 158,
     "metadata": {},
     "output_type": "execute_result"
    }
   ],
   "source": [
    "# Relative Difference in Percent -> Best Method to Average Best Method\n",
    "\n",
    "AVERAGE_BEST_IMPUTATION_METHOD = \"Discriminative DL\"\n",
    "\n",
    "data = downstream_results_rank\n",
    "data['Task'] = data['Task'].astype(str)\n",
    "data['Data_Constellation_full'] = data['Data_Constellation'] + ' - ' + data['Task']\n",
    "\n",
    "# TODO: drop unnecessary columns here\n",
    "dc_unique = data.Data_Constellation_full.unique()\n",
    "#print(dc_unique)\n",
    "\n",
    "#data_constellations = ['MAR - 0.01', 'MAR - 0.1', 'MAR - 0.3', 'MCAR - 0.5', 'MCAR - 0.01', 'MCAR - 0.1', 'MCAR - 0.3', 'MCAR - 0.5', 'MNAR - 0.01', 'MNAR - 0.1', 'MNAR - 0.3', 'MNAR - 0.5']\n",
    "data_constellations = dc_unique.tolist()\n",
    "methods = ['Random Forest', 'KNN', 'Mean/Mode', 'VAE', 'GAIN', 'Discriminative DL']\n",
    "#print(data_constellations)\n",
    "#print(type(methods))\n",
    "average_best_complete = pd.DataFrame()\n",
    "\n",
    "\n",
    "for i in data_constellations:\n",
    "    data_constel = data.loc[data['Data_Constellation_full'] == i]\n",
    "    best_score = data_constel.loc[data_constel['Downstream Performance Rank'] == 1.0]\n",
    "    average_best = data_constel.loc[data_constel['Imputation_Method'] == AVERAGE_BEST_IMPUTATION_METHOD]\n",
    "    if(average_best.empty == True):\n",
    "        print('empty')\n",
    "    else:\n",
    "        best_score_int = best_score.iloc[0]['Imputed']\n",
    "    #print(best_score_int)\n",
    "        average_best_int = average_best.iloc[0]['Imputed']\n",
    "    #print(average_best_int)\n",
    "        calc_result = ((best_score_int - average_best_int)/average_best_int)\n",
    "#    print(calc_result)\n",
    "#    print(i)\n",
    "        average_best['Performance Difference to Best to Average in Percent'] = calc_result\n",
    "        average_best_complete = average_best_complete.append(average_best)\n",
    "\n",
    "average_best_complete"
   ]
  },
  {
   "cell_type": "code",
   "execution_count": 159,
   "id": "823f9ebe",
   "metadata": {},
   "outputs": [
    {
     "name": "stdout",
     "output_type": "stream",
     "text": [
      "0.010088907885811365 average difference in Percent\n"
     ]
    }
   ],
   "source": [
    "average_difference = average_best_complete['Performance Difference to Best to Average in Percent'].mean()\n",
    "print(average_difference, \"average difference in Percent\")"
   ]
  },
  {
   "cell_type": "code",
   "execution_count": 160,
   "id": "2a1a3b26",
   "metadata": {},
   "outputs": [
    {
     "name": "stderr",
     "output_type": "stream",
     "text": [
      "C:\\Users\\dittr\\AppData\\Local\\Temp\\ipykernel_21424\\2539710273.py:35: SettingWithCopyWarning:\n",
      "\n",
      "\n",
      "A value is trying to be set on a copy of a slice from a DataFrame.\n",
      "Try using .loc[row_indexer,col_indexer] = value instead\n",
      "\n",
      "See the caveats in the documentation: https://pandas.pydata.org/pandas-docs/stable/user_guide/indexing.html#returning-a-view-versus-a-copy\n",
      "\n",
      "C:\\Users\\dittr\\AppData\\Local\\Temp\\ipykernel_21424\\2539710273.py:36: FutureWarning:\n",
      "\n",
      "The frame.append method is deprecated and will be removed from pandas in a future version. Use pandas.concat instead.\n",
      "\n",
      "C:\\Users\\dittr\\AppData\\Local\\Temp\\ipykernel_21424\\2539710273.py:35: SettingWithCopyWarning:\n",
      "\n",
      "\n",
      "A value is trying to be set on a copy of a slice from a DataFrame.\n",
      "Try using .loc[row_indexer,col_indexer] = value instead\n",
      "\n",
      "See the caveats in the documentation: https://pandas.pydata.org/pandas-docs/stable/user_guide/indexing.html#returning-a-view-versus-a-copy\n",
      "\n",
      "C:\\Users\\dittr\\AppData\\Local\\Temp\\ipykernel_21424\\2539710273.py:36: FutureWarning:\n",
      "\n",
      "The frame.append method is deprecated and will be removed from pandas in a future version. Use pandas.concat instead.\n",
      "\n",
      "C:\\Users\\dittr\\AppData\\Local\\Temp\\ipykernel_21424\\2539710273.py:35: SettingWithCopyWarning:\n",
      "\n",
      "\n",
      "A value is trying to be set on a copy of a slice from a DataFrame.\n",
      "Try using .loc[row_indexer,col_indexer] = value instead\n",
      "\n",
      "See the caveats in the documentation: https://pandas.pydata.org/pandas-docs/stable/user_guide/indexing.html#returning-a-view-versus-a-copy\n",
      "\n",
      "C:\\Users\\dittr\\AppData\\Local\\Temp\\ipykernel_21424\\2539710273.py:36: FutureWarning:\n",
      "\n",
      "The frame.append method is deprecated and will be removed from pandas in a future version. Use pandas.concat instead.\n",
      "\n",
      "C:\\Users\\dittr\\AppData\\Local\\Temp\\ipykernel_21424\\2539710273.py:35: SettingWithCopyWarning:\n",
      "\n",
      "\n",
      "A value is trying to be set on a copy of a slice from a DataFrame.\n",
      "Try using .loc[row_indexer,col_indexer] = value instead\n",
      "\n",
      "See the caveats in the documentation: https://pandas.pydata.org/pandas-docs/stable/user_guide/indexing.html#returning-a-view-versus-a-copy\n",
      "\n",
      "C:\\Users\\dittr\\AppData\\Local\\Temp\\ipykernel_21424\\2539710273.py:36: FutureWarning:\n",
      "\n",
      "The frame.append method is deprecated and will be removed from pandas in a future version. Use pandas.concat instead.\n",
      "\n",
      "C:\\Users\\dittr\\AppData\\Local\\Temp\\ipykernel_21424\\2539710273.py:35: SettingWithCopyWarning:\n",
      "\n",
      "\n",
      "A value is trying to be set on a copy of a slice from a DataFrame.\n",
      "Try using .loc[row_indexer,col_indexer] = value instead\n",
      "\n",
      "See the caveats in the documentation: https://pandas.pydata.org/pandas-docs/stable/user_guide/indexing.html#returning-a-view-versus-a-copy\n",
      "\n",
      "C:\\Users\\dittr\\AppData\\Local\\Temp\\ipykernel_21424\\2539710273.py:36: FutureWarning:\n",
      "\n",
      "The frame.append method is deprecated and will be removed from pandas in a future version. Use pandas.concat instead.\n",
      "\n",
      "C:\\Users\\dittr\\AppData\\Local\\Temp\\ipykernel_21424\\2539710273.py:35: SettingWithCopyWarning:\n",
      "\n",
      "\n",
      "A value is trying to be set on a copy of a slice from a DataFrame.\n",
      "Try using .loc[row_indexer,col_indexer] = value instead\n",
      "\n",
      "See the caveats in the documentation: https://pandas.pydata.org/pandas-docs/stable/user_guide/indexing.html#returning-a-view-versus-a-copy\n",
      "\n",
      "C:\\Users\\dittr\\AppData\\Local\\Temp\\ipykernel_21424\\2539710273.py:36: FutureWarning:\n",
      "\n",
      "The frame.append method is deprecated and will be removed from pandas in a future version. Use pandas.concat instead.\n",
      "\n",
      "C:\\Users\\dittr\\AppData\\Local\\Temp\\ipykernel_21424\\2539710273.py:35: SettingWithCopyWarning:\n",
      "\n",
      "\n",
      "A value is trying to be set on a copy of a slice from a DataFrame.\n",
      "Try using .loc[row_indexer,col_indexer] = value instead\n",
      "\n",
      "See the caveats in the documentation: https://pandas.pydata.org/pandas-docs/stable/user_guide/indexing.html#returning-a-view-versus-a-copy\n",
      "\n",
      "C:\\Users\\dittr\\AppData\\Local\\Temp\\ipykernel_21424\\2539710273.py:36: FutureWarning:\n",
      "\n",
      "The frame.append method is deprecated and will be removed from pandas in a future version. Use pandas.concat instead.\n",
      "\n",
      "C:\\Users\\dittr\\AppData\\Local\\Temp\\ipykernel_21424\\2539710273.py:35: SettingWithCopyWarning:\n",
      "\n",
      "\n",
      "A value is trying to be set on a copy of a slice from a DataFrame.\n",
      "Try using .loc[row_indexer,col_indexer] = value instead\n",
      "\n",
      "See the caveats in the documentation: https://pandas.pydata.org/pandas-docs/stable/user_guide/indexing.html#returning-a-view-versus-a-copy\n",
      "\n",
      "C:\\Users\\dittr\\AppData\\Local\\Temp\\ipykernel_21424\\2539710273.py:36: FutureWarning:\n",
      "\n",
      "The frame.append method is deprecated and will be removed from pandas in a future version. Use pandas.concat instead.\n",
      "\n",
      "C:\\Users\\dittr\\AppData\\Local\\Temp\\ipykernel_21424\\2539710273.py:35: SettingWithCopyWarning:\n",
      "\n",
      "\n",
      "A value is trying to be set on a copy of a slice from a DataFrame.\n",
      "Try using .loc[row_indexer,col_indexer] = value instead\n",
      "\n",
      "See the caveats in the documentation: https://pandas.pydata.org/pandas-docs/stable/user_guide/indexing.html#returning-a-view-versus-a-copy\n",
      "\n",
      "C:\\Users\\dittr\\AppData\\Local\\Temp\\ipykernel_21424\\2539710273.py:36: FutureWarning:\n",
      "\n",
      "The frame.append method is deprecated and will be removed from pandas in a future version. Use pandas.concat instead.\n",
      "\n",
      "C:\\Users\\dittr\\AppData\\Local\\Temp\\ipykernel_21424\\2539710273.py:35: SettingWithCopyWarning:\n",
      "\n",
      "\n",
      "A value is trying to be set on a copy of a slice from a DataFrame.\n",
      "Try using .loc[row_indexer,col_indexer] = value instead\n",
      "\n",
      "See the caveats in the documentation: https://pandas.pydata.org/pandas-docs/stable/user_guide/indexing.html#returning-a-view-versus-a-copy\n",
      "\n",
      "C:\\Users\\dittr\\AppData\\Local\\Temp\\ipykernel_21424\\2539710273.py:36: FutureWarning:\n",
      "\n",
      "The frame.append method is deprecated and will be removed from pandas in a future version. Use pandas.concat instead.\n",
      "\n",
      "C:\\Users\\dittr\\AppData\\Local\\Temp\\ipykernel_21424\\2539710273.py:35: SettingWithCopyWarning:\n",
      "\n",
      "\n",
      "A value is trying to be set on a copy of a slice from a DataFrame.\n",
      "Try using .loc[row_indexer,col_indexer] = value instead\n",
      "\n",
      "See the caveats in the documentation: https://pandas.pydata.org/pandas-docs/stable/user_guide/indexing.html#returning-a-view-versus-a-copy\n",
      "\n",
      "C:\\Users\\dittr\\AppData\\Local\\Temp\\ipykernel_21424\\2539710273.py:36: FutureWarning:\n",
      "\n",
      "The frame.append method is deprecated and will be removed from pandas in a future version. Use pandas.concat instead.\n",
      "\n",
      "C:\\Users\\dittr\\AppData\\Local\\Temp\\ipykernel_21424\\2539710273.py:35: SettingWithCopyWarning:\n",
      "\n",
      "\n",
      "A value is trying to be set on a copy of a slice from a DataFrame.\n",
      "Try using .loc[row_indexer,col_indexer] = value instead\n",
      "\n",
      "See the caveats in the documentation: https://pandas.pydata.org/pandas-docs/stable/user_guide/indexing.html#returning-a-view-versus-a-copy\n",
      "\n",
      "C:\\Users\\dittr\\AppData\\Local\\Temp\\ipykernel_21424\\2539710273.py:36: FutureWarning:\n",
      "\n",
      "The frame.append method is deprecated and will be removed from pandas in a future version. Use pandas.concat instead.\n",
      "\n",
      "C:\\Users\\dittr\\AppData\\Local\\Temp\\ipykernel_21424\\2539710273.py:35: SettingWithCopyWarning:\n",
      "\n",
      "\n",
      "A value is trying to be set on a copy of a slice from a DataFrame.\n",
      "Try using .loc[row_indexer,col_indexer] = value instead\n",
      "\n",
      "See the caveats in the documentation: https://pandas.pydata.org/pandas-docs/stable/user_guide/indexing.html#returning-a-view-versus-a-copy\n",
      "\n",
      "C:\\Users\\dittr\\AppData\\Local\\Temp\\ipykernel_21424\\2539710273.py:36: FutureWarning:\n",
      "\n",
      "The frame.append method is deprecated and will be removed from pandas in a future version. Use pandas.concat instead.\n",
      "\n",
      "C:\\Users\\dittr\\AppData\\Local\\Temp\\ipykernel_21424\\2539710273.py:35: SettingWithCopyWarning:\n",
      "\n",
      "\n",
      "A value is trying to be set on a copy of a slice from a DataFrame.\n",
      "Try using .loc[row_indexer,col_indexer] = value instead\n",
      "\n",
      "See the caveats in the documentation: https://pandas.pydata.org/pandas-docs/stable/user_guide/indexing.html#returning-a-view-versus-a-copy\n",
      "\n",
      "C:\\Users\\dittr\\AppData\\Local\\Temp\\ipykernel_21424\\2539710273.py:36: FutureWarning:\n",
      "\n",
      "The frame.append method is deprecated and will be removed from pandas in a future version. Use pandas.concat instead.\n",
      "\n",
      "C:\\Users\\dittr\\AppData\\Local\\Temp\\ipykernel_21424\\2539710273.py:35: SettingWithCopyWarning:\n",
      "\n",
      "\n",
      "A value is trying to be set on a copy of a slice from a DataFrame.\n",
      "Try using .loc[row_indexer,col_indexer] = value instead\n",
      "\n",
      "See the caveats in the documentation: https://pandas.pydata.org/pandas-docs/stable/user_guide/indexing.html#returning-a-view-versus-a-copy\n",
      "\n",
      "C:\\Users\\dittr\\AppData\\Local\\Temp\\ipykernel_21424\\2539710273.py:36: FutureWarning:\n",
      "\n",
      "The frame.append method is deprecated and will be removed from pandas in a future version. Use pandas.concat instead.\n",
      "\n",
      "C:\\Users\\dittr\\AppData\\Local\\Temp\\ipykernel_21424\\2539710273.py:35: SettingWithCopyWarning:\n",
      "\n",
      "\n",
      "A value is trying to be set on a copy of a slice from a DataFrame.\n",
      "Try using .loc[row_indexer,col_indexer] = value instead\n",
      "\n",
      "See the caveats in the documentation: https://pandas.pydata.org/pandas-docs/stable/user_guide/indexing.html#returning-a-view-versus-a-copy\n",
      "\n",
      "C:\\Users\\dittr\\AppData\\Local\\Temp\\ipykernel_21424\\2539710273.py:36: FutureWarning:\n",
      "\n",
      "The frame.append method is deprecated and will be removed from pandas in a future version. Use pandas.concat instead.\n",
      "\n",
      "C:\\Users\\dittr\\AppData\\Local\\Temp\\ipykernel_21424\\2539710273.py:35: SettingWithCopyWarning:\n",
      "\n",
      "\n",
      "A value is trying to be set on a copy of a slice from a DataFrame.\n",
      "Try using .loc[row_indexer,col_indexer] = value instead\n",
      "\n",
      "See the caveats in the documentation: https://pandas.pydata.org/pandas-docs/stable/user_guide/indexing.html#returning-a-view-versus-a-copy\n",
      "\n",
      "C:\\Users\\dittr\\AppData\\Local\\Temp\\ipykernel_21424\\2539710273.py:36: FutureWarning:\n",
      "\n",
      "The frame.append method is deprecated and will be removed from pandas in a future version. Use pandas.concat instead.\n",
      "\n",
      "C:\\Users\\dittr\\AppData\\Local\\Temp\\ipykernel_21424\\2539710273.py:35: SettingWithCopyWarning:\n",
      "\n",
      "\n",
      "A value is trying to be set on a copy of a slice from a DataFrame.\n",
      "Try using .loc[row_indexer,col_indexer] = value instead\n",
      "\n",
      "See the caveats in the documentation: https://pandas.pydata.org/pandas-docs/stable/user_guide/indexing.html#returning-a-view-versus-a-copy\n",
      "\n",
      "C:\\Users\\dittr\\AppData\\Local\\Temp\\ipykernel_21424\\2539710273.py:36: FutureWarning:\n",
      "\n",
      "The frame.append method is deprecated and will be removed from pandas in a future version. Use pandas.concat instead.\n",
      "\n",
      "C:\\Users\\dittr\\AppData\\Local\\Temp\\ipykernel_21424\\2539710273.py:35: SettingWithCopyWarning:\n",
      "\n",
      "\n",
      "A value is trying to be set on a copy of a slice from a DataFrame.\n",
      "Try using .loc[row_indexer,col_indexer] = value instead\n",
      "\n",
      "See the caveats in the documentation: https://pandas.pydata.org/pandas-docs/stable/user_guide/indexing.html#returning-a-view-versus-a-copy\n",
      "\n",
      "C:\\Users\\dittr\\AppData\\Local\\Temp\\ipykernel_21424\\2539710273.py:36: FutureWarning:\n",
      "\n",
      "The frame.append method is deprecated and will be removed from pandas in a future version. Use pandas.concat instead.\n",
      "\n",
      "C:\\Users\\dittr\\AppData\\Local\\Temp\\ipykernel_21424\\2539710273.py:35: SettingWithCopyWarning:\n",
      "\n",
      "\n",
      "A value is trying to be set on a copy of a slice from a DataFrame.\n",
      "Try using .loc[row_indexer,col_indexer] = value instead\n",
      "\n",
      "See the caveats in the documentation: https://pandas.pydata.org/pandas-docs/stable/user_guide/indexing.html#returning-a-view-versus-a-copy\n",
      "\n",
      "C:\\Users\\dittr\\AppData\\Local\\Temp\\ipykernel_21424\\2539710273.py:36: FutureWarning:\n",
      "\n",
      "The frame.append method is deprecated and will be removed from pandas in a future version. Use pandas.concat instead.\n",
      "\n",
      "C:\\Users\\dittr\\AppData\\Local\\Temp\\ipykernel_21424\\2539710273.py:35: SettingWithCopyWarning:\n",
      "\n",
      "\n",
      "A value is trying to be set on a copy of a slice from a DataFrame.\n",
      "Try using .loc[row_indexer,col_indexer] = value instead\n",
      "\n",
      "See the caveats in the documentation: https://pandas.pydata.org/pandas-docs/stable/user_guide/indexing.html#returning-a-view-versus-a-copy\n",
      "\n",
      "C:\\Users\\dittr\\AppData\\Local\\Temp\\ipykernel_21424\\2539710273.py:36: FutureWarning:\n",
      "\n",
      "The frame.append method is deprecated and will be removed from pandas in a future version. Use pandas.concat instead.\n",
      "\n",
      "C:\\Users\\dittr\\AppData\\Local\\Temp\\ipykernel_21424\\2539710273.py:35: SettingWithCopyWarning:\n",
      "\n",
      "\n",
      "A value is trying to be set on a copy of a slice from a DataFrame.\n",
      "Try using .loc[row_indexer,col_indexer] = value instead\n",
      "\n",
      "See the caveats in the documentation: https://pandas.pydata.org/pandas-docs/stable/user_guide/indexing.html#returning-a-view-versus-a-copy\n",
      "\n",
      "C:\\Users\\dittr\\AppData\\Local\\Temp\\ipykernel_21424\\2539710273.py:36: FutureWarning:\n",
      "\n",
      "The frame.append method is deprecated and will be removed from pandas in a future version. Use pandas.concat instead.\n",
      "\n",
      "C:\\Users\\dittr\\AppData\\Local\\Temp\\ipykernel_21424\\2539710273.py:35: SettingWithCopyWarning:\n",
      "\n",
      "\n",
      "A value is trying to be set on a copy of a slice from a DataFrame.\n",
      "Try using .loc[row_indexer,col_indexer] = value instead\n",
      "\n",
      "See the caveats in the documentation: https://pandas.pydata.org/pandas-docs/stable/user_guide/indexing.html#returning-a-view-versus-a-copy\n",
      "\n",
      "C:\\Users\\dittr\\AppData\\Local\\Temp\\ipykernel_21424\\2539710273.py:36: FutureWarning:\n",
      "\n",
      "The frame.append method is deprecated and will be removed from pandas in a future version. Use pandas.concat instead.\n",
      "\n",
      "C:\\Users\\dittr\\AppData\\Local\\Temp\\ipykernel_21424\\2539710273.py:35: SettingWithCopyWarning:\n",
      "\n",
      "\n",
      "A value is trying to be set on a copy of a slice from a DataFrame.\n",
      "Try using .loc[row_indexer,col_indexer] = value instead\n",
      "\n",
      "See the caveats in the documentation: https://pandas.pydata.org/pandas-docs/stable/user_guide/indexing.html#returning-a-view-versus-a-copy\n",
      "\n",
      "C:\\Users\\dittr\\AppData\\Local\\Temp\\ipykernel_21424\\2539710273.py:36: FutureWarning:\n",
      "\n",
      "The frame.append method is deprecated and will be removed from pandas in a future version. Use pandas.concat instead.\n",
      "\n",
      "C:\\Users\\dittr\\AppData\\Local\\Temp\\ipykernel_21424\\2539710273.py:35: SettingWithCopyWarning:\n",
      "\n",
      "\n",
      "A value is trying to be set on a copy of a slice from a DataFrame.\n",
      "Try using .loc[row_indexer,col_indexer] = value instead\n",
      "\n",
      "See the caveats in the documentation: https://pandas.pydata.org/pandas-docs/stable/user_guide/indexing.html#returning-a-view-versus-a-copy\n",
      "\n",
      "C:\\Users\\dittr\\AppData\\Local\\Temp\\ipykernel_21424\\2539710273.py:36: FutureWarning:\n",
      "\n",
      "The frame.append method is deprecated and will be removed from pandas in a future version. Use pandas.concat instead.\n",
      "\n",
      "C:\\Users\\dittr\\AppData\\Local\\Temp\\ipykernel_21424\\2539710273.py:35: SettingWithCopyWarning:\n",
      "\n",
      "\n",
      "A value is trying to be set on a copy of a slice from a DataFrame.\n",
      "Try using .loc[row_indexer,col_indexer] = value instead\n",
      "\n",
      "See the caveats in the documentation: https://pandas.pydata.org/pandas-docs/stable/user_guide/indexing.html#returning-a-view-versus-a-copy\n",
      "\n",
      "C:\\Users\\dittr\\AppData\\Local\\Temp\\ipykernel_21424\\2539710273.py:36: FutureWarning:\n",
      "\n",
      "The frame.append method is deprecated and will be removed from pandas in a future version. Use pandas.concat instead.\n",
      "\n",
      "C:\\Users\\dittr\\AppData\\Local\\Temp\\ipykernel_21424\\2539710273.py:35: SettingWithCopyWarning:\n",
      "\n",
      "\n",
      "A value is trying to be set on a copy of a slice from a DataFrame.\n",
      "Try using .loc[row_indexer,col_indexer] = value instead\n",
      "\n",
      "See the caveats in the documentation: https://pandas.pydata.org/pandas-docs/stable/user_guide/indexing.html#returning-a-view-versus-a-copy\n",
      "\n",
      "C:\\Users\\dittr\\AppData\\Local\\Temp\\ipykernel_21424\\2539710273.py:36: FutureWarning:\n",
      "\n",
      "The frame.append method is deprecated and will be removed from pandas in a future version. Use pandas.concat instead.\n",
      "\n",
      "C:\\Users\\dittr\\AppData\\Local\\Temp\\ipykernel_21424\\2539710273.py:35: SettingWithCopyWarning:\n",
      "\n",
      "\n",
      "A value is trying to be set on a copy of a slice from a DataFrame.\n",
      "Try using .loc[row_indexer,col_indexer] = value instead\n",
      "\n",
      "See the caveats in the documentation: https://pandas.pydata.org/pandas-docs/stable/user_guide/indexing.html#returning-a-view-versus-a-copy\n",
      "\n",
      "C:\\Users\\dittr\\AppData\\Local\\Temp\\ipykernel_21424\\2539710273.py:36: FutureWarning:\n",
      "\n",
      "The frame.append method is deprecated and will be removed from pandas in a future version. Use pandas.concat instead.\n",
      "\n",
      "C:\\Users\\dittr\\AppData\\Local\\Temp\\ipykernel_21424\\2539710273.py:35: SettingWithCopyWarning:\n",
      "\n",
      "\n",
      "A value is trying to be set on a copy of a slice from a DataFrame.\n",
      "Try using .loc[row_indexer,col_indexer] = value instead\n",
      "\n",
      "See the caveats in the documentation: https://pandas.pydata.org/pandas-docs/stable/user_guide/indexing.html#returning-a-view-versus-a-copy\n",
      "\n",
      "C:\\Users\\dittr\\AppData\\Local\\Temp\\ipykernel_21424\\2539710273.py:36: FutureWarning:\n",
      "\n",
      "The frame.append method is deprecated and will be removed from pandas in a future version. Use pandas.concat instead.\n",
      "\n",
      "C:\\Users\\dittr\\AppData\\Local\\Temp\\ipykernel_21424\\2539710273.py:35: SettingWithCopyWarning:\n",
      "\n",
      "\n",
      "A value is trying to be set on a copy of a slice from a DataFrame.\n",
      "Try using .loc[row_indexer,col_indexer] = value instead\n",
      "\n",
      "See the caveats in the documentation: https://pandas.pydata.org/pandas-docs/stable/user_guide/indexing.html#returning-a-view-versus-a-copy\n",
      "\n",
      "C:\\Users\\dittr\\AppData\\Local\\Temp\\ipykernel_21424\\2539710273.py:36: FutureWarning:\n",
      "\n",
      "The frame.append method is deprecated and will be removed from pandas in a future version. Use pandas.concat instead.\n",
      "\n",
      "C:\\Users\\dittr\\AppData\\Local\\Temp\\ipykernel_21424\\2539710273.py:35: SettingWithCopyWarning:\n",
      "\n",
      "\n",
      "A value is trying to be set on a copy of a slice from a DataFrame.\n",
      "Try using .loc[row_indexer,col_indexer] = value instead\n",
      "\n",
      "See the caveats in the documentation: https://pandas.pydata.org/pandas-docs/stable/user_guide/indexing.html#returning-a-view-versus-a-copy\n",
      "\n",
      "C:\\Users\\dittr\\AppData\\Local\\Temp\\ipykernel_21424\\2539710273.py:36: FutureWarning:\n",
      "\n",
      "The frame.append method is deprecated and will be removed from pandas in a future version. Use pandas.concat instead.\n",
      "\n",
      "C:\\Users\\dittr\\AppData\\Local\\Temp\\ipykernel_21424\\2539710273.py:35: SettingWithCopyWarning:\n",
      "\n",
      "\n",
      "A value is trying to be set on a copy of a slice from a DataFrame.\n",
      "Try using .loc[row_indexer,col_indexer] = value instead\n",
      "\n",
      "See the caveats in the documentation: https://pandas.pydata.org/pandas-docs/stable/user_guide/indexing.html#returning-a-view-versus-a-copy\n",
      "\n",
      "C:\\Users\\dittr\\AppData\\Local\\Temp\\ipykernel_21424\\2539710273.py:36: FutureWarning:\n",
      "\n",
      "The frame.append method is deprecated and will be removed from pandas in a future version. Use pandas.concat instead.\n",
      "\n",
      "C:\\Users\\dittr\\AppData\\Local\\Temp\\ipykernel_21424\\2539710273.py:35: SettingWithCopyWarning:\n",
      "\n",
      "\n",
      "A value is trying to be set on a copy of a slice from a DataFrame.\n",
      "Try using .loc[row_indexer,col_indexer] = value instead\n",
      "\n",
      "See the caveats in the documentation: https://pandas.pydata.org/pandas-docs/stable/user_guide/indexing.html#returning-a-view-versus-a-copy\n",
      "\n",
      "C:\\Users\\dittr\\AppData\\Local\\Temp\\ipykernel_21424\\2539710273.py:36: FutureWarning:\n",
      "\n",
      "The frame.append method is deprecated and will be removed from pandas in a future version. Use pandas.concat instead.\n",
      "\n",
      "C:\\Users\\dittr\\AppData\\Local\\Temp\\ipykernel_21424\\2539710273.py:35: SettingWithCopyWarning:\n",
      "\n",
      "\n",
      "A value is trying to be set on a copy of a slice from a DataFrame.\n",
      "Try using .loc[row_indexer,col_indexer] = value instead\n",
      "\n",
      "See the caveats in the documentation: https://pandas.pydata.org/pandas-docs/stable/user_guide/indexing.html#returning-a-view-versus-a-copy\n",
      "\n",
      "C:\\Users\\dittr\\AppData\\Local\\Temp\\ipykernel_21424\\2539710273.py:36: FutureWarning:\n",
      "\n",
      "The frame.append method is deprecated and will be removed from pandas in a future version. Use pandas.concat instead.\n",
      "\n",
      "C:\\Users\\dittr\\AppData\\Local\\Temp\\ipykernel_21424\\2539710273.py:35: SettingWithCopyWarning:\n",
      "\n",
      "\n",
      "A value is trying to be set on a copy of a slice from a DataFrame.\n",
      "Try using .loc[row_indexer,col_indexer] = value instead\n",
      "\n",
      "See the caveats in the documentation: https://pandas.pydata.org/pandas-docs/stable/user_guide/indexing.html#returning-a-view-versus-a-copy\n",
      "\n",
      "C:\\Users\\dittr\\AppData\\Local\\Temp\\ipykernel_21424\\2539710273.py:36: FutureWarning:\n",
      "\n",
      "The frame.append method is deprecated and will be removed from pandas in a future version. Use pandas.concat instead.\n",
      "\n",
      "C:\\Users\\dittr\\AppData\\Local\\Temp\\ipykernel_21424\\2539710273.py:35: SettingWithCopyWarning:\n",
      "\n",
      "\n",
      "A value is trying to be set on a copy of a slice from a DataFrame.\n",
      "Try using .loc[row_indexer,col_indexer] = value instead\n",
      "\n",
      "See the caveats in the documentation: https://pandas.pydata.org/pandas-docs/stable/user_guide/indexing.html#returning-a-view-versus-a-copy\n",
      "\n",
      "C:\\Users\\dittr\\AppData\\Local\\Temp\\ipykernel_21424\\2539710273.py:36: FutureWarning:\n",
      "\n",
      "The frame.append method is deprecated and will be removed from pandas in a future version. Use pandas.concat instead.\n",
      "\n",
      "C:\\Users\\dittr\\AppData\\Local\\Temp\\ipykernel_21424\\2539710273.py:35: SettingWithCopyWarning:\n",
      "\n",
      "\n",
      "A value is trying to be set on a copy of a slice from a DataFrame.\n",
      "Try using .loc[row_indexer,col_indexer] = value instead\n",
      "\n",
      "See the caveats in the documentation: https://pandas.pydata.org/pandas-docs/stable/user_guide/indexing.html#returning-a-view-versus-a-copy\n",
      "\n",
      "C:\\Users\\dittr\\AppData\\Local\\Temp\\ipykernel_21424\\2539710273.py:36: FutureWarning:\n",
      "\n",
      "The frame.append method is deprecated and will be removed from pandas in a future version. Use pandas.concat instead.\n",
      "\n",
      "C:\\Users\\dittr\\AppData\\Local\\Temp\\ipykernel_21424\\2539710273.py:35: SettingWithCopyWarning:\n",
      "\n",
      "\n",
      "A value is trying to be set on a copy of a slice from a DataFrame.\n",
      "Try using .loc[row_indexer,col_indexer] = value instead\n",
      "\n",
      "See the caveats in the documentation: https://pandas.pydata.org/pandas-docs/stable/user_guide/indexing.html#returning-a-view-versus-a-copy\n",
      "\n",
      "C:\\Users\\dittr\\AppData\\Local\\Temp\\ipykernel_21424\\2539710273.py:36: FutureWarning:\n",
      "\n",
      "The frame.append method is deprecated and will be removed from pandas in a future version. Use pandas.concat instead.\n",
      "\n",
      "C:\\Users\\dittr\\AppData\\Local\\Temp\\ipykernel_21424\\2539710273.py:35: SettingWithCopyWarning:\n",
      "\n",
      "\n",
      "A value is trying to be set on a copy of a slice from a DataFrame.\n",
      "Try using .loc[row_indexer,col_indexer] = value instead\n",
      "\n",
      "See the caveats in the documentation: https://pandas.pydata.org/pandas-docs/stable/user_guide/indexing.html#returning-a-view-versus-a-copy\n",
      "\n",
      "C:\\Users\\dittr\\AppData\\Local\\Temp\\ipykernel_21424\\2539710273.py:36: FutureWarning:\n",
      "\n",
      "The frame.append method is deprecated and will be removed from pandas in a future version. Use pandas.concat instead.\n",
      "\n",
      "C:\\Users\\dittr\\AppData\\Local\\Temp\\ipykernel_21424\\2539710273.py:35: SettingWithCopyWarning:\n",
      "\n",
      "\n",
      "A value is trying to be set on a copy of a slice from a DataFrame.\n",
      "Try using .loc[row_indexer,col_indexer] = value instead\n",
      "\n",
      "See the caveats in the documentation: https://pandas.pydata.org/pandas-docs/stable/user_guide/indexing.html#returning-a-view-versus-a-copy\n",
      "\n",
      "C:\\Users\\dittr\\AppData\\Local\\Temp\\ipykernel_21424\\2539710273.py:36: FutureWarning:\n",
      "\n",
      "The frame.append method is deprecated and will be removed from pandas in a future version. Use pandas.concat instead.\n",
      "\n",
      "C:\\Users\\dittr\\AppData\\Local\\Temp\\ipykernel_21424\\2539710273.py:35: SettingWithCopyWarning:\n",
      "\n",
      "\n",
      "A value is trying to be set on a copy of a slice from a DataFrame.\n",
      "Try using .loc[row_indexer,col_indexer] = value instead\n",
      "\n",
      "See the caveats in the documentation: https://pandas.pydata.org/pandas-docs/stable/user_guide/indexing.html#returning-a-view-versus-a-copy\n",
      "\n",
      "C:\\Users\\dittr\\AppData\\Local\\Temp\\ipykernel_21424\\2539710273.py:36: FutureWarning:\n",
      "\n",
      "The frame.append method is deprecated and will be removed from pandas in a future version. Use pandas.concat instead.\n",
      "\n",
      "C:\\Users\\dittr\\AppData\\Local\\Temp\\ipykernel_21424\\2539710273.py:35: SettingWithCopyWarning:\n",
      "\n",
      "\n",
      "A value is trying to be set on a copy of a slice from a DataFrame.\n",
      "Try using .loc[row_indexer,col_indexer] = value instead\n",
      "\n",
      "See the caveats in the documentation: https://pandas.pydata.org/pandas-docs/stable/user_guide/indexing.html#returning-a-view-versus-a-copy\n",
      "\n",
      "C:\\Users\\dittr\\AppData\\Local\\Temp\\ipykernel_21424\\2539710273.py:36: FutureWarning:\n",
      "\n",
      "The frame.append method is deprecated and will be removed from pandas in a future version. Use pandas.concat instead.\n",
      "\n",
      "C:\\Users\\dittr\\AppData\\Local\\Temp\\ipykernel_21424\\2539710273.py:35: SettingWithCopyWarning:\n",
      "\n",
      "\n",
      "A value is trying to be set on a copy of a slice from a DataFrame.\n",
      "Try using .loc[row_indexer,col_indexer] = value instead\n",
      "\n",
      "See the caveats in the documentation: https://pandas.pydata.org/pandas-docs/stable/user_guide/indexing.html#returning-a-view-versus-a-copy\n",
      "\n",
      "C:\\Users\\dittr\\AppData\\Local\\Temp\\ipykernel_21424\\2539710273.py:36: FutureWarning:\n",
      "\n",
      "The frame.append method is deprecated and will be removed from pandas in a future version. Use pandas.concat instead.\n",
      "\n",
      "C:\\Users\\dittr\\AppData\\Local\\Temp\\ipykernel_21424\\2539710273.py:35: SettingWithCopyWarning:\n",
      "\n",
      "\n",
      "A value is trying to be set on a copy of a slice from a DataFrame.\n",
      "Try using .loc[row_indexer,col_indexer] = value instead\n",
      "\n",
      "See the caveats in the documentation: https://pandas.pydata.org/pandas-docs/stable/user_guide/indexing.html#returning-a-view-versus-a-copy\n",
      "\n",
      "C:\\Users\\dittr\\AppData\\Local\\Temp\\ipykernel_21424\\2539710273.py:36: FutureWarning:\n",
      "\n",
      "The frame.append method is deprecated and will be removed from pandas in a future version. Use pandas.concat instead.\n",
      "\n",
      "C:\\Users\\dittr\\AppData\\Local\\Temp\\ipykernel_21424\\2539710273.py:35: SettingWithCopyWarning:\n",
      "\n",
      "\n",
      "A value is trying to be set on a copy of a slice from a DataFrame.\n",
      "Try using .loc[row_indexer,col_indexer] = value instead\n",
      "\n",
      "See the caveats in the documentation: https://pandas.pydata.org/pandas-docs/stable/user_guide/indexing.html#returning-a-view-versus-a-copy\n",
      "\n",
      "C:\\Users\\dittr\\AppData\\Local\\Temp\\ipykernel_21424\\2539710273.py:36: FutureWarning:\n",
      "\n",
      "The frame.append method is deprecated and will be removed from pandas in a future version. Use pandas.concat instead.\n",
      "\n",
      "C:\\Users\\dittr\\AppData\\Local\\Temp\\ipykernel_21424\\2539710273.py:35: SettingWithCopyWarning:\n",
      "\n",
      "\n",
      "A value is trying to be set on a copy of a slice from a DataFrame.\n",
      "Try using .loc[row_indexer,col_indexer] = value instead\n",
      "\n",
      "See the caveats in the documentation: https://pandas.pydata.org/pandas-docs/stable/user_guide/indexing.html#returning-a-view-versus-a-copy\n",
      "\n",
      "C:\\Users\\dittr\\AppData\\Local\\Temp\\ipykernel_21424\\2539710273.py:36: FutureWarning:\n",
      "\n",
      "The frame.append method is deprecated and will be removed from pandas in a future version. Use pandas.concat instead.\n",
      "\n",
      "C:\\Users\\dittr\\AppData\\Local\\Temp\\ipykernel_21424\\2539710273.py:35: SettingWithCopyWarning:\n",
      "\n",
      "\n",
      "A value is trying to be set on a copy of a slice from a DataFrame.\n",
      "Try using .loc[row_indexer,col_indexer] = value instead\n",
      "\n",
      "See the caveats in the documentation: https://pandas.pydata.org/pandas-docs/stable/user_guide/indexing.html#returning-a-view-versus-a-copy\n",
      "\n",
      "C:\\Users\\dittr\\AppData\\Local\\Temp\\ipykernel_21424\\2539710273.py:36: FutureWarning:\n",
      "\n",
      "The frame.append method is deprecated and will be removed from pandas in a future version. Use pandas.concat instead.\n",
      "\n",
      "C:\\Users\\dittr\\AppData\\Local\\Temp\\ipykernel_21424\\2539710273.py:35: SettingWithCopyWarning:\n",
      "\n",
      "\n",
      "A value is trying to be set on a copy of a slice from a DataFrame.\n",
      "Try using .loc[row_indexer,col_indexer] = value instead\n",
      "\n",
      "See the caveats in the documentation: https://pandas.pydata.org/pandas-docs/stable/user_guide/indexing.html#returning-a-view-versus-a-copy\n",
      "\n",
      "C:\\Users\\dittr\\AppData\\Local\\Temp\\ipykernel_21424\\2539710273.py:36: FutureWarning:\n",
      "\n",
      "The frame.append method is deprecated and will be removed from pandas in a future version. Use pandas.concat instead.\n",
      "\n",
      "C:\\Users\\dittr\\AppData\\Local\\Temp\\ipykernel_21424\\2539710273.py:35: SettingWithCopyWarning:\n",
      "\n",
      "\n",
      "A value is trying to be set on a copy of a slice from a DataFrame.\n",
      "Try using .loc[row_indexer,col_indexer] = value instead\n",
      "\n",
      "See the caveats in the documentation: https://pandas.pydata.org/pandas-docs/stable/user_guide/indexing.html#returning-a-view-versus-a-copy\n",
      "\n",
      "C:\\Users\\dittr\\AppData\\Local\\Temp\\ipykernel_21424\\2539710273.py:36: FutureWarning:\n",
      "\n",
      "The frame.append method is deprecated and will be removed from pandas in a future version. Use pandas.concat instead.\n",
      "\n",
      "C:\\Users\\dittr\\AppData\\Local\\Temp\\ipykernel_21424\\2539710273.py:35: SettingWithCopyWarning:\n",
      "\n",
      "\n",
      "A value is trying to be set on a copy of a slice from a DataFrame.\n",
      "Try using .loc[row_indexer,col_indexer] = value instead\n",
      "\n",
      "See the caveats in the documentation: https://pandas.pydata.org/pandas-docs/stable/user_guide/indexing.html#returning-a-view-versus-a-copy\n",
      "\n",
      "C:\\Users\\dittr\\AppData\\Local\\Temp\\ipykernel_21424\\2539710273.py:36: FutureWarning:\n",
      "\n",
      "The frame.append method is deprecated and will be removed from pandas in a future version. Use pandas.concat instead.\n",
      "\n",
      "C:\\Users\\dittr\\AppData\\Local\\Temp\\ipykernel_21424\\2539710273.py:35: SettingWithCopyWarning:\n",
      "\n",
      "\n",
      "A value is trying to be set on a copy of a slice from a DataFrame.\n",
      "Try using .loc[row_indexer,col_indexer] = value instead\n",
      "\n",
      "See the caveats in the documentation: https://pandas.pydata.org/pandas-docs/stable/user_guide/indexing.html#returning-a-view-versus-a-copy\n",
      "\n",
      "C:\\Users\\dittr\\AppData\\Local\\Temp\\ipykernel_21424\\2539710273.py:36: FutureWarning:\n",
      "\n",
      "The frame.append method is deprecated and will be removed from pandas in a future version. Use pandas.concat instead.\n",
      "\n",
      "C:\\Users\\dittr\\AppData\\Local\\Temp\\ipykernel_21424\\2539710273.py:35: SettingWithCopyWarning:\n",
      "\n",
      "\n",
      "A value is trying to be set on a copy of a slice from a DataFrame.\n",
      "Try using .loc[row_indexer,col_indexer] = value instead\n",
      "\n",
      "See the caveats in the documentation: https://pandas.pydata.org/pandas-docs/stable/user_guide/indexing.html#returning-a-view-versus-a-copy\n",
      "\n",
      "C:\\Users\\dittr\\AppData\\Local\\Temp\\ipykernel_21424\\2539710273.py:36: FutureWarning:\n",
      "\n",
      "The frame.append method is deprecated and will be removed from pandas in a future version. Use pandas.concat instead.\n",
      "\n",
      "C:\\Users\\dittr\\AppData\\Local\\Temp\\ipykernel_21424\\2539710273.py:35: SettingWithCopyWarning:\n",
      "\n",
      "\n",
      "A value is trying to be set on a copy of a slice from a DataFrame.\n",
      "Try using .loc[row_indexer,col_indexer] = value instead\n",
      "\n",
      "See the caveats in the documentation: https://pandas.pydata.org/pandas-docs/stable/user_guide/indexing.html#returning-a-view-versus-a-copy\n",
      "\n",
      "C:\\Users\\dittr\\AppData\\Local\\Temp\\ipykernel_21424\\2539710273.py:36: FutureWarning:\n",
      "\n",
      "The frame.append method is deprecated and will be removed from pandas in a future version. Use pandas.concat instead.\n",
      "\n",
      "C:\\Users\\dittr\\AppData\\Local\\Temp\\ipykernel_21424\\2539710273.py:35: SettingWithCopyWarning:\n",
      "\n",
      "\n",
      "A value is trying to be set on a copy of a slice from a DataFrame.\n",
      "Try using .loc[row_indexer,col_indexer] = value instead\n",
      "\n",
      "See the caveats in the documentation: https://pandas.pydata.org/pandas-docs/stable/user_guide/indexing.html#returning-a-view-versus-a-copy\n",
      "\n",
      "C:\\Users\\dittr\\AppData\\Local\\Temp\\ipykernel_21424\\2539710273.py:36: FutureWarning:\n",
      "\n",
      "The frame.append method is deprecated and will be removed from pandas in a future version. Use pandas.concat instead.\n",
      "\n",
      "C:\\Users\\dittr\\AppData\\Local\\Temp\\ipykernel_21424\\2539710273.py:35: SettingWithCopyWarning:\n",
      "\n",
      "\n",
      "A value is trying to be set on a copy of a slice from a DataFrame.\n",
      "Try using .loc[row_indexer,col_indexer] = value instead\n",
      "\n",
      "See the caveats in the documentation: https://pandas.pydata.org/pandas-docs/stable/user_guide/indexing.html#returning-a-view-versus-a-copy\n",
      "\n",
      "C:\\Users\\dittr\\AppData\\Local\\Temp\\ipykernel_21424\\2539710273.py:36: FutureWarning:\n",
      "\n",
      "The frame.append method is deprecated and will be removed from pandas in a future version. Use pandas.concat instead.\n",
      "\n",
      "C:\\Users\\dittr\\AppData\\Local\\Temp\\ipykernel_21424\\2539710273.py:35: SettingWithCopyWarning:\n",
      "\n",
      "\n",
      "A value is trying to be set on a copy of a slice from a DataFrame.\n",
      "Try using .loc[row_indexer,col_indexer] = value instead\n",
      "\n",
      "See the caveats in the documentation: https://pandas.pydata.org/pandas-docs/stable/user_guide/indexing.html#returning-a-view-versus-a-copy\n",
      "\n",
      "C:\\Users\\dittr\\AppData\\Local\\Temp\\ipykernel_21424\\2539710273.py:36: FutureWarning:\n",
      "\n",
      "The frame.append method is deprecated and will be removed from pandas in a future version. Use pandas.concat instead.\n",
      "\n",
      "C:\\Users\\dittr\\AppData\\Local\\Temp\\ipykernel_21424\\2539710273.py:35: SettingWithCopyWarning:\n",
      "\n",
      "\n",
      "A value is trying to be set on a copy of a slice from a DataFrame.\n",
      "Try using .loc[row_indexer,col_indexer] = value instead\n",
      "\n",
      "See the caveats in the documentation: https://pandas.pydata.org/pandas-docs/stable/user_guide/indexing.html#returning-a-view-versus-a-copy\n",
      "\n",
      "C:\\Users\\dittr\\AppData\\Local\\Temp\\ipykernel_21424\\2539710273.py:36: FutureWarning:\n",
      "\n",
      "The frame.append method is deprecated and will be removed from pandas in a future version. Use pandas.concat instead.\n",
      "\n"
     ]
    },
    {
     "name": "stdout",
     "output_type": "stream",
     "text": [
      "empty\n"
     ]
    },
    {
     "name": "stderr",
     "output_type": "stream",
     "text": [
      "C:\\Users\\dittr\\AppData\\Local\\Temp\\ipykernel_21424\\2539710273.py:35: SettingWithCopyWarning:\n",
      "\n",
      "\n",
      "A value is trying to be set on a copy of a slice from a DataFrame.\n",
      "Try using .loc[row_indexer,col_indexer] = value instead\n",
      "\n",
      "See the caveats in the documentation: https://pandas.pydata.org/pandas-docs/stable/user_guide/indexing.html#returning-a-view-versus-a-copy\n",
      "\n",
      "C:\\Users\\dittr\\AppData\\Local\\Temp\\ipykernel_21424\\2539710273.py:36: FutureWarning:\n",
      "\n",
      "The frame.append method is deprecated and will be removed from pandas in a future version. Use pandas.concat instead.\n",
      "\n",
      "C:\\Users\\dittr\\AppData\\Local\\Temp\\ipykernel_21424\\2539710273.py:35: SettingWithCopyWarning:\n",
      "\n",
      "\n",
      "A value is trying to be set on a copy of a slice from a DataFrame.\n",
      "Try using .loc[row_indexer,col_indexer] = value instead\n",
      "\n",
      "See the caveats in the documentation: https://pandas.pydata.org/pandas-docs/stable/user_guide/indexing.html#returning-a-view-versus-a-copy\n",
      "\n",
      "C:\\Users\\dittr\\AppData\\Local\\Temp\\ipykernel_21424\\2539710273.py:36: FutureWarning:\n",
      "\n",
      "The frame.append method is deprecated and will be removed from pandas in a future version. Use pandas.concat instead.\n",
      "\n",
      "C:\\Users\\dittr\\AppData\\Local\\Temp\\ipykernel_21424\\2539710273.py:35: SettingWithCopyWarning:\n",
      "\n",
      "\n",
      "A value is trying to be set on a copy of a slice from a DataFrame.\n",
      "Try using .loc[row_indexer,col_indexer] = value instead\n",
      "\n",
      "See the caveats in the documentation: https://pandas.pydata.org/pandas-docs/stable/user_guide/indexing.html#returning-a-view-versus-a-copy\n",
      "\n",
      "C:\\Users\\dittr\\AppData\\Local\\Temp\\ipykernel_21424\\2539710273.py:36: FutureWarning:\n",
      "\n",
      "The frame.append method is deprecated and will be removed from pandas in a future version. Use pandas.concat instead.\n",
      "\n",
      "C:\\Users\\dittr\\AppData\\Local\\Temp\\ipykernel_21424\\2539710273.py:35: SettingWithCopyWarning:\n",
      "\n",
      "\n",
      "A value is trying to be set on a copy of a slice from a DataFrame.\n",
      "Try using .loc[row_indexer,col_indexer] = value instead\n",
      "\n",
      "See the caveats in the documentation: https://pandas.pydata.org/pandas-docs/stable/user_guide/indexing.html#returning-a-view-versus-a-copy\n",
      "\n",
      "C:\\Users\\dittr\\AppData\\Local\\Temp\\ipykernel_21424\\2539710273.py:36: FutureWarning:\n",
      "\n",
      "The frame.append method is deprecated and will be removed from pandas in a future version. Use pandas.concat instead.\n",
      "\n",
      "C:\\Users\\dittr\\AppData\\Local\\Temp\\ipykernel_21424\\2539710273.py:35: SettingWithCopyWarning:\n",
      "\n",
      "\n",
      "A value is trying to be set on a copy of a slice from a DataFrame.\n",
      "Try using .loc[row_indexer,col_indexer] = value instead\n",
      "\n",
      "See the caveats in the documentation: https://pandas.pydata.org/pandas-docs/stable/user_guide/indexing.html#returning-a-view-versus-a-copy\n",
      "\n",
      "C:\\Users\\dittr\\AppData\\Local\\Temp\\ipykernel_21424\\2539710273.py:36: FutureWarning:\n",
      "\n",
      "The frame.append method is deprecated and will be removed from pandas in a future version. Use pandas.concat instead.\n",
      "\n",
      "C:\\Users\\dittr\\AppData\\Local\\Temp\\ipykernel_21424\\2539710273.py:35: SettingWithCopyWarning:\n",
      "\n",
      "\n",
      "A value is trying to be set on a copy of a slice from a DataFrame.\n",
      "Try using .loc[row_indexer,col_indexer] = value instead\n",
      "\n",
      "See the caveats in the documentation: https://pandas.pydata.org/pandas-docs/stable/user_guide/indexing.html#returning-a-view-versus-a-copy\n",
      "\n",
      "C:\\Users\\dittr\\AppData\\Local\\Temp\\ipykernel_21424\\2539710273.py:36: FutureWarning:\n",
      "\n",
      "The frame.append method is deprecated and will be removed from pandas in a future version. Use pandas.concat instead.\n",
      "\n",
      "C:\\Users\\dittr\\AppData\\Local\\Temp\\ipykernel_21424\\2539710273.py:35: SettingWithCopyWarning:\n",
      "\n",
      "\n",
      "A value is trying to be set on a copy of a slice from a DataFrame.\n",
      "Try using .loc[row_indexer,col_indexer] = value instead\n",
      "\n",
      "See the caveats in the documentation: https://pandas.pydata.org/pandas-docs/stable/user_guide/indexing.html#returning-a-view-versus-a-copy\n",
      "\n",
      "C:\\Users\\dittr\\AppData\\Local\\Temp\\ipykernel_21424\\2539710273.py:36: FutureWarning:\n",
      "\n",
      "The frame.append method is deprecated and will be removed from pandas in a future version. Use pandas.concat instead.\n",
      "\n",
      "C:\\Users\\dittr\\AppData\\Local\\Temp\\ipykernel_21424\\2539710273.py:35: SettingWithCopyWarning:\n",
      "\n",
      "\n",
      "A value is trying to be set on a copy of a slice from a DataFrame.\n",
      "Try using .loc[row_indexer,col_indexer] = value instead\n",
      "\n",
      "See the caveats in the documentation: https://pandas.pydata.org/pandas-docs/stable/user_guide/indexing.html#returning-a-view-versus-a-copy\n",
      "\n",
      "C:\\Users\\dittr\\AppData\\Local\\Temp\\ipykernel_21424\\2539710273.py:36: FutureWarning:\n",
      "\n",
      "The frame.append method is deprecated and will be removed from pandas in a future version. Use pandas.concat instead.\n",
      "\n",
      "C:\\Users\\dittr\\AppData\\Local\\Temp\\ipykernel_21424\\2539710273.py:35: SettingWithCopyWarning:\n",
      "\n",
      "\n",
      "A value is trying to be set on a copy of a slice from a DataFrame.\n",
      "Try using .loc[row_indexer,col_indexer] = value instead\n",
      "\n",
      "See the caveats in the documentation: https://pandas.pydata.org/pandas-docs/stable/user_guide/indexing.html#returning-a-view-versus-a-copy\n",
      "\n",
      "C:\\Users\\dittr\\AppData\\Local\\Temp\\ipykernel_21424\\2539710273.py:36: FutureWarning:\n",
      "\n",
      "The frame.append method is deprecated and will be removed from pandas in a future version. Use pandas.concat instead.\n",
      "\n",
      "C:\\Users\\dittr\\AppData\\Local\\Temp\\ipykernel_21424\\2539710273.py:35: SettingWithCopyWarning:\n",
      "\n",
      "\n",
      "A value is trying to be set on a copy of a slice from a DataFrame.\n",
      "Try using .loc[row_indexer,col_indexer] = value instead\n",
      "\n",
      "See the caveats in the documentation: https://pandas.pydata.org/pandas-docs/stable/user_guide/indexing.html#returning-a-view-versus-a-copy\n",
      "\n",
      "C:\\Users\\dittr\\AppData\\Local\\Temp\\ipykernel_21424\\2539710273.py:36: FutureWarning:\n",
      "\n",
      "The frame.append method is deprecated and will be removed from pandas in a future version. Use pandas.concat instead.\n",
      "\n",
      "C:\\Users\\dittr\\AppData\\Local\\Temp\\ipykernel_21424\\2539710273.py:35: SettingWithCopyWarning:\n",
      "\n",
      "\n",
      "A value is trying to be set on a copy of a slice from a DataFrame.\n",
      "Try using .loc[row_indexer,col_indexer] = value instead\n",
      "\n",
      "See the caveats in the documentation: https://pandas.pydata.org/pandas-docs/stable/user_guide/indexing.html#returning-a-view-versus-a-copy\n",
      "\n",
      "C:\\Users\\dittr\\AppData\\Local\\Temp\\ipykernel_21424\\2539710273.py:36: FutureWarning:\n",
      "\n",
      "The frame.append method is deprecated and will be removed from pandas in a future version. Use pandas.concat instead.\n",
      "\n",
      "C:\\Users\\dittr\\AppData\\Local\\Temp\\ipykernel_21424\\2539710273.py:35: SettingWithCopyWarning:\n",
      "\n",
      "\n",
      "A value is trying to be set on a copy of a slice from a DataFrame.\n",
      "Try using .loc[row_indexer,col_indexer] = value instead\n",
      "\n",
      "See the caveats in the documentation: https://pandas.pydata.org/pandas-docs/stable/user_guide/indexing.html#returning-a-view-versus-a-copy\n",
      "\n",
      "C:\\Users\\dittr\\AppData\\Local\\Temp\\ipykernel_21424\\2539710273.py:36: FutureWarning:\n",
      "\n",
      "The frame.append method is deprecated and will be removed from pandas in a future version. Use pandas.concat instead.\n",
      "\n",
      "C:\\Users\\dittr\\AppData\\Local\\Temp\\ipykernel_21424\\2539710273.py:35: SettingWithCopyWarning:\n",
      "\n",
      "\n",
      "A value is trying to be set on a copy of a slice from a DataFrame.\n",
      "Try using .loc[row_indexer,col_indexer] = value instead\n",
      "\n",
      "See the caveats in the documentation: https://pandas.pydata.org/pandas-docs/stable/user_guide/indexing.html#returning-a-view-versus-a-copy\n",
      "\n",
      "C:\\Users\\dittr\\AppData\\Local\\Temp\\ipykernel_21424\\2539710273.py:36: FutureWarning:\n",
      "\n",
      "The frame.append method is deprecated and will be removed from pandas in a future version. Use pandas.concat instead.\n",
      "\n",
      "C:\\Users\\dittr\\AppData\\Local\\Temp\\ipykernel_21424\\2539710273.py:35: SettingWithCopyWarning:\n",
      "\n",
      "\n",
      "A value is trying to be set on a copy of a slice from a DataFrame.\n",
      "Try using .loc[row_indexer,col_indexer] = value instead\n",
      "\n",
      "See the caveats in the documentation: https://pandas.pydata.org/pandas-docs/stable/user_guide/indexing.html#returning-a-view-versus-a-copy\n",
      "\n",
      "C:\\Users\\dittr\\AppData\\Local\\Temp\\ipykernel_21424\\2539710273.py:36: FutureWarning:\n",
      "\n",
      "The frame.append method is deprecated and will be removed from pandas in a future version. Use pandas.concat instead.\n",
      "\n",
      "C:\\Users\\dittr\\AppData\\Local\\Temp\\ipykernel_21424\\2539710273.py:35: SettingWithCopyWarning:\n",
      "\n",
      "\n",
      "A value is trying to be set on a copy of a slice from a DataFrame.\n",
      "Try using .loc[row_indexer,col_indexer] = value instead\n",
      "\n",
      "See the caveats in the documentation: https://pandas.pydata.org/pandas-docs/stable/user_guide/indexing.html#returning-a-view-versus-a-copy\n",
      "\n",
      "C:\\Users\\dittr\\AppData\\Local\\Temp\\ipykernel_21424\\2539710273.py:36: FutureWarning:\n",
      "\n",
      "The frame.append method is deprecated and will be removed from pandas in a future version. Use pandas.concat instead.\n",
      "\n",
      "C:\\Users\\dittr\\AppData\\Local\\Temp\\ipykernel_21424\\2539710273.py:35: SettingWithCopyWarning:\n",
      "\n",
      "\n",
      "A value is trying to be set on a copy of a slice from a DataFrame.\n",
      "Try using .loc[row_indexer,col_indexer] = value instead\n",
      "\n",
      "See the caveats in the documentation: https://pandas.pydata.org/pandas-docs/stable/user_guide/indexing.html#returning-a-view-versus-a-copy\n",
      "\n",
      "C:\\Users\\dittr\\AppData\\Local\\Temp\\ipykernel_21424\\2539710273.py:36: FutureWarning:\n",
      "\n",
      "The frame.append method is deprecated and will be removed from pandas in a future version. Use pandas.concat instead.\n",
      "\n",
      "C:\\Users\\dittr\\AppData\\Local\\Temp\\ipykernel_21424\\2539710273.py:35: SettingWithCopyWarning:\n",
      "\n",
      "\n",
      "A value is trying to be set on a copy of a slice from a DataFrame.\n",
      "Try using .loc[row_indexer,col_indexer] = value instead\n",
      "\n",
      "See the caveats in the documentation: https://pandas.pydata.org/pandas-docs/stable/user_guide/indexing.html#returning-a-view-versus-a-copy\n",
      "\n",
      "C:\\Users\\dittr\\AppData\\Local\\Temp\\ipykernel_21424\\2539710273.py:36: FutureWarning:\n",
      "\n",
      "The frame.append method is deprecated and will be removed from pandas in a future version. Use pandas.concat instead.\n",
      "\n",
      "C:\\Users\\dittr\\AppData\\Local\\Temp\\ipykernel_21424\\2539710273.py:35: SettingWithCopyWarning:\n",
      "\n",
      "\n",
      "A value is trying to be set on a copy of a slice from a DataFrame.\n",
      "Try using .loc[row_indexer,col_indexer] = value instead\n",
      "\n",
      "See the caveats in the documentation: https://pandas.pydata.org/pandas-docs/stable/user_guide/indexing.html#returning-a-view-versus-a-copy\n",
      "\n",
      "C:\\Users\\dittr\\AppData\\Local\\Temp\\ipykernel_21424\\2539710273.py:36: FutureWarning:\n",
      "\n",
      "The frame.append method is deprecated and will be removed from pandas in a future version. Use pandas.concat instead.\n",
      "\n",
      "C:\\Users\\dittr\\AppData\\Local\\Temp\\ipykernel_21424\\2539710273.py:35: SettingWithCopyWarning:\n",
      "\n",
      "\n",
      "A value is trying to be set on a copy of a slice from a DataFrame.\n",
      "Try using .loc[row_indexer,col_indexer] = value instead\n",
      "\n",
      "See the caveats in the documentation: https://pandas.pydata.org/pandas-docs/stable/user_guide/indexing.html#returning-a-view-versus-a-copy\n",
      "\n",
      "C:\\Users\\dittr\\AppData\\Local\\Temp\\ipykernel_21424\\2539710273.py:36: FutureWarning:\n",
      "\n",
      "The frame.append method is deprecated and will be removed from pandas in a future version. Use pandas.concat instead.\n",
      "\n",
      "C:\\Users\\dittr\\AppData\\Local\\Temp\\ipykernel_21424\\2539710273.py:35: SettingWithCopyWarning:\n",
      "\n",
      "\n",
      "A value is trying to be set on a copy of a slice from a DataFrame.\n",
      "Try using .loc[row_indexer,col_indexer] = value instead\n",
      "\n",
      "See the caveats in the documentation: https://pandas.pydata.org/pandas-docs/stable/user_guide/indexing.html#returning-a-view-versus-a-copy\n",
      "\n",
      "C:\\Users\\dittr\\AppData\\Local\\Temp\\ipykernel_21424\\2539710273.py:36: FutureWarning:\n",
      "\n",
      "The frame.append method is deprecated and will be removed from pandas in a future version. Use pandas.concat instead.\n",
      "\n",
      "C:\\Users\\dittr\\AppData\\Local\\Temp\\ipykernel_21424\\2539710273.py:35: SettingWithCopyWarning:\n",
      "\n",
      "\n",
      "A value is trying to be set on a copy of a slice from a DataFrame.\n",
      "Try using .loc[row_indexer,col_indexer] = value instead\n",
      "\n",
      "See the caveats in the documentation: https://pandas.pydata.org/pandas-docs/stable/user_guide/indexing.html#returning-a-view-versus-a-copy\n",
      "\n",
      "C:\\Users\\dittr\\AppData\\Local\\Temp\\ipykernel_21424\\2539710273.py:36: FutureWarning:\n",
      "\n",
      "The frame.append method is deprecated and will be removed from pandas in a future version. Use pandas.concat instead.\n",
      "\n",
      "C:\\Users\\dittr\\AppData\\Local\\Temp\\ipykernel_21424\\2539710273.py:35: SettingWithCopyWarning:\n",
      "\n",
      "\n",
      "A value is trying to be set on a copy of a slice from a DataFrame.\n",
      "Try using .loc[row_indexer,col_indexer] = value instead\n",
      "\n",
      "See the caveats in the documentation: https://pandas.pydata.org/pandas-docs/stable/user_guide/indexing.html#returning-a-view-versus-a-copy\n",
      "\n",
      "C:\\Users\\dittr\\AppData\\Local\\Temp\\ipykernel_21424\\2539710273.py:36: FutureWarning:\n",
      "\n",
      "The frame.append method is deprecated and will be removed from pandas in a future version. Use pandas.concat instead.\n",
      "\n",
      "C:\\Users\\dittr\\AppData\\Local\\Temp\\ipykernel_21424\\2539710273.py:35: SettingWithCopyWarning:\n",
      "\n",
      "\n",
      "A value is trying to be set on a copy of a slice from a DataFrame.\n",
      "Try using .loc[row_indexer,col_indexer] = value instead\n",
      "\n",
      "See the caveats in the documentation: https://pandas.pydata.org/pandas-docs/stable/user_guide/indexing.html#returning-a-view-versus-a-copy\n",
      "\n",
      "C:\\Users\\dittr\\AppData\\Local\\Temp\\ipykernel_21424\\2539710273.py:36: FutureWarning:\n",
      "\n",
      "The frame.append method is deprecated and will be removed from pandas in a future version. Use pandas.concat instead.\n",
      "\n",
      "C:\\Users\\dittr\\AppData\\Local\\Temp\\ipykernel_21424\\2539710273.py:35: SettingWithCopyWarning:\n",
      "\n",
      "\n",
      "A value is trying to be set on a copy of a slice from a DataFrame.\n",
      "Try using .loc[row_indexer,col_indexer] = value instead\n",
      "\n",
      "See the caveats in the documentation: https://pandas.pydata.org/pandas-docs/stable/user_guide/indexing.html#returning-a-view-versus-a-copy\n",
      "\n",
      "C:\\Users\\dittr\\AppData\\Local\\Temp\\ipykernel_21424\\2539710273.py:36: FutureWarning:\n",
      "\n",
      "The frame.append method is deprecated and will be removed from pandas in a future version. Use pandas.concat instead.\n",
      "\n",
      "C:\\Users\\dittr\\AppData\\Local\\Temp\\ipykernel_21424\\2539710273.py:35: SettingWithCopyWarning:\n",
      "\n",
      "\n",
      "A value is trying to be set on a copy of a slice from a DataFrame.\n",
      "Try using .loc[row_indexer,col_indexer] = value instead\n",
      "\n",
      "See the caveats in the documentation: https://pandas.pydata.org/pandas-docs/stable/user_guide/indexing.html#returning-a-view-versus-a-copy\n",
      "\n",
      "C:\\Users\\dittr\\AppData\\Local\\Temp\\ipykernel_21424\\2539710273.py:36: FutureWarning:\n",
      "\n",
      "The frame.append method is deprecated and will be removed from pandas in a future version. Use pandas.concat instead.\n",
      "\n",
      "C:\\Users\\dittr\\AppData\\Local\\Temp\\ipykernel_21424\\2539710273.py:35: SettingWithCopyWarning:\n",
      "\n",
      "\n",
      "A value is trying to be set on a copy of a slice from a DataFrame.\n",
      "Try using .loc[row_indexer,col_indexer] = value instead\n",
      "\n",
      "See the caveats in the documentation: https://pandas.pydata.org/pandas-docs/stable/user_guide/indexing.html#returning-a-view-versus-a-copy\n",
      "\n",
      "C:\\Users\\dittr\\AppData\\Local\\Temp\\ipykernel_21424\\2539710273.py:36: FutureWarning:\n",
      "\n",
      "The frame.append method is deprecated and will be removed from pandas in a future version. Use pandas.concat instead.\n",
      "\n",
      "C:\\Users\\dittr\\AppData\\Local\\Temp\\ipykernel_21424\\2539710273.py:35: SettingWithCopyWarning:\n",
      "\n",
      "\n",
      "A value is trying to be set on a copy of a slice from a DataFrame.\n",
      "Try using .loc[row_indexer,col_indexer] = value instead\n",
      "\n",
      "See the caveats in the documentation: https://pandas.pydata.org/pandas-docs/stable/user_guide/indexing.html#returning-a-view-versus-a-copy\n",
      "\n",
      "C:\\Users\\dittr\\AppData\\Local\\Temp\\ipykernel_21424\\2539710273.py:36: FutureWarning:\n",
      "\n",
      "The frame.append method is deprecated and will be removed from pandas in a future version. Use pandas.concat instead.\n",
      "\n",
      "C:\\Users\\dittr\\AppData\\Local\\Temp\\ipykernel_21424\\2539710273.py:35: SettingWithCopyWarning:\n",
      "\n",
      "\n",
      "A value is trying to be set on a copy of a slice from a DataFrame.\n",
      "Try using .loc[row_indexer,col_indexer] = value instead\n",
      "\n",
      "See the caveats in the documentation: https://pandas.pydata.org/pandas-docs/stable/user_guide/indexing.html#returning-a-view-versus-a-copy\n",
      "\n",
      "C:\\Users\\dittr\\AppData\\Local\\Temp\\ipykernel_21424\\2539710273.py:36: FutureWarning:\n",
      "\n",
      "The frame.append method is deprecated and will be removed from pandas in a future version. Use pandas.concat instead.\n",
      "\n",
      "C:\\Users\\dittr\\AppData\\Local\\Temp\\ipykernel_21424\\2539710273.py:35: SettingWithCopyWarning:\n",
      "\n",
      "\n",
      "A value is trying to be set on a copy of a slice from a DataFrame.\n",
      "Try using .loc[row_indexer,col_indexer] = value instead\n",
      "\n",
      "See the caveats in the documentation: https://pandas.pydata.org/pandas-docs/stable/user_guide/indexing.html#returning-a-view-versus-a-copy\n",
      "\n",
      "C:\\Users\\dittr\\AppData\\Local\\Temp\\ipykernel_21424\\2539710273.py:36: FutureWarning:\n",
      "\n",
      "The frame.append method is deprecated and will be removed from pandas in a future version. Use pandas.concat instead.\n",
      "\n",
      "C:\\Users\\dittr\\AppData\\Local\\Temp\\ipykernel_21424\\2539710273.py:35: SettingWithCopyWarning:\n",
      "\n",
      "\n",
      "A value is trying to be set on a copy of a slice from a DataFrame.\n",
      "Try using .loc[row_indexer,col_indexer] = value instead\n",
      "\n",
      "See the caveats in the documentation: https://pandas.pydata.org/pandas-docs/stable/user_guide/indexing.html#returning-a-view-versus-a-copy\n",
      "\n",
      "C:\\Users\\dittr\\AppData\\Local\\Temp\\ipykernel_21424\\2539710273.py:36: FutureWarning:\n",
      "\n",
      "The frame.append method is deprecated and will be removed from pandas in a future version. Use pandas.concat instead.\n",
      "\n",
      "C:\\Users\\dittr\\AppData\\Local\\Temp\\ipykernel_21424\\2539710273.py:35: SettingWithCopyWarning:\n",
      "\n",
      "\n",
      "A value is trying to be set on a copy of a slice from a DataFrame.\n",
      "Try using .loc[row_indexer,col_indexer] = value instead\n",
      "\n",
      "See the caveats in the documentation: https://pandas.pydata.org/pandas-docs/stable/user_guide/indexing.html#returning-a-view-versus-a-copy\n",
      "\n",
      "C:\\Users\\dittr\\AppData\\Local\\Temp\\ipykernel_21424\\2539710273.py:36: FutureWarning:\n",
      "\n",
      "The frame.append method is deprecated and will be removed from pandas in a future version. Use pandas.concat instead.\n",
      "\n",
      "C:\\Users\\dittr\\AppData\\Local\\Temp\\ipykernel_21424\\2539710273.py:35: SettingWithCopyWarning:\n",
      "\n",
      "\n",
      "A value is trying to be set on a copy of a slice from a DataFrame.\n",
      "Try using .loc[row_indexer,col_indexer] = value instead\n",
      "\n",
      "See the caveats in the documentation: https://pandas.pydata.org/pandas-docs/stable/user_guide/indexing.html#returning-a-view-versus-a-copy\n",
      "\n",
      "C:\\Users\\dittr\\AppData\\Local\\Temp\\ipykernel_21424\\2539710273.py:36: FutureWarning:\n",
      "\n",
      "The frame.append method is deprecated and will be removed from pandas in a future version. Use pandas.concat instead.\n",
      "\n",
      "C:\\Users\\dittr\\AppData\\Local\\Temp\\ipykernel_21424\\2539710273.py:35: SettingWithCopyWarning:\n",
      "\n",
      "\n",
      "A value is trying to be set on a copy of a slice from a DataFrame.\n",
      "Try using .loc[row_indexer,col_indexer] = value instead\n",
      "\n",
      "See the caveats in the documentation: https://pandas.pydata.org/pandas-docs/stable/user_guide/indexing.html#returning-a-view-versus-a-copy\n",
      "\n",
      "C:\\Users\\dittr\\AppData\\Local\\Temp\\ipykernel_21424\\2539710273.py:36: FutureWarning:\n",
      "\n",
      "The frame.append method is deprecated and will be removed from pandas in a future version. Use pandas.concat instead.\n",
      "\n",
      "C:\\Users\\dittr\\AppData\\Local\\Temp\\ipykernel_21424\\2539710273.py:35: SettingWithCopyWarning:\n",
      "\n",
      "\n",
      "A value is trying to be set on a copy of a slice from a DataFrame.\n",
      "Try using .loc[row_indexer,col_indexer] = value instead\n",
      "\n",
      "See the caveats in the documentation: https://pandas.pydata.org/pandas-docs/stable/user_guide/indexing.html#returning-a-view-versus-a-copy\n",
      "\n",
      "C:\\Users\\dittr\\AppData\\Local\\Temp\\ipykernel_21424\\2539710273.py:36: FutureWarning:\n",
      "\n",
      "The frame.append method is deprecated and will be removed from pandas in a future version. Use pandas.concat instead.\n",
      "\n",
      "C:\\Users\\dittr\\AppData\\Local\\Temp\\ipykernel_21424\\2539710273.py:35: SettingWithCopyWarning:\n",
      "\n",
      "\n",
      "A value is trying to be set on a copy of a slice from a DataFrame.\n",
      "Try using .loc[row_indexer,col_indexer] = value instead\n",
      "\n",
      "See the caveats in the documentation: https://pandas.pydata.org/pandas-docs/stable/user_guide/indexing.html#returning-a-view-versus-a-copy\n",
      "\n",
      "C:\\Users\\dittr\\AppData\\Local\\Temp\\ipykernel_21424\\2539710273.py:36: FutureWarning:\n",
      "\n",
      "The frame.append method is deprecated and will be removed from pandas in a future version. Use pandas.concat instead.\n",
      "\n",
      "C:\\Users\\dittr\\AppData\\Local\\Temp\\ipykernel_21424\\2539710273.py:35: SettingWithCopyWarning:\n",
      "\n",
      "\n",
      "A value is trying to be set on a copy of a slice from a DataFrame.\n",
      "Try using .loc[row_indexer,col_indexer] = value instead\n",
      "\n",
      "See the caveats in the documentation: https://pandas.pydata.org/pandas-docs/stable/user_guide/indexing.html#returning-a-view-versus-a-copy\n",
      "\n",
      "C:\\Users\\dittr\\AppData\\Local\\Temp\\ipykernel_21424\\2539710273.py:36: FutureWarning:\n",
      "\n",
      "The frame.append method is deprecated and will be removed from pandas in a future version. Use pandas.concat instead.\n",
      "\n",
      "C:\\Users\\dittr\\AppData\\Local\\Temp\\ipykernel_21424\\2539710273.py:35: SettingWithCopyWarning:\n",
      "\n",
      "\n",
      "A value is trying to be set on a copy of a slice from a DataFrame.\n",
      "Try using .loc[row_indexer,col_indexer] = value instead\n",
      "\n",
      "See the caveats in the documentation: https://pandas.pydata.org/pandas-docs/stable/user_guide/indexing.html#returning-a-view-versus-a-copy\n",
      "\n",
      "C:\\Users\\dittr\\AppData\\Local\\Temp\\ipykernel_21424\\2539710273.py:36: FutureWarning:\n",
      "\n",
      "The frame.append method is deprecated and will be removed from pandas in a future version. Use pandas.concat instead.\n",
      "\n",
      "C:\\Users\\dittr\\AppData\\Local\\Temp\\ipykernel_21424\\2539710273.py:35: SettingWithCopyWarning:\n",
      "\n",
      "\n",
      "A value is trying to be set on a copy of a slice from a DataFrame.\n",
      "Try using .loc[row_indexer,col_indexer] = value instead\n",
      "\n",
      "See the caveats in the documentation: https://pandas.pydata.org/pandas-docs/stable/user_guide/indexing.html#returning-a-view-versus-a-copy\n",
      "\n",
      "C:\\Users\\dittr\\AppData\\Local\\Temp\\ipykernel_21424\\2539710273.py:36: FutureWarning:\n",
      "\n",
      "The frame.append method is deprecated and will be removed from pandas in a future version. Use pandas.concat instead.\n",
      "\n",
      "C:\\Users\\dittr\\AppData\\Local\\Temp\\ipykernel_21424\\2539710273.py:35: SettingWithCopyWarning:\n",
      "\n",
      "\n",
      "A value is trying to be set on a copy of a slice from a DataFrame.\n",
      "Try using .loc[row_indexer,col_indexer] = value instead\n",
      "\n",
      "See the caveats in the documentation: https://pandas.pydata.org/pandas-docs/stable/user_guide/indexing.html#returning-a-view-versus-a-copy\n",
      "\n",
      "C:\\Users\\dittr\\AppData\\Local\\Temp\\ipykernel_21424\\2539710273.py:36: FutureWarning:\n",
      "\n",
      "The frame.append method is deprecated and will be removed from pandas in a future version. Use pandas.concat instead.\n",
      "\n",
      "C:\\Users\\dittr\\AppData\\Local\\Temp\\ipykernel_21424\\2539710273.py:35: SettingWithCopyWarning:\n",
      "\n",
      "\n",
      "A value is trying to be set on a copy of a slice from a DataFrame.\n",
      "Try using .loc[row_indexer,col_indexer] = value instead\n",
      "\n",
      "See the caveats in the documentation: https://pandas.pydata.org/pandas-docs/stable/user_guide/indexing.html#returning-a-view-versus-a-copy\n",
      "\n",
      "C:\\Users\\dittr\\AppData\\Local\\Temp\\ipykernel_21424\\2539710273.py:36: FutureWarning:\n",
      "\n",
      "The frame.append method is deprecated and will be removed from pandas in a future version. Use pandas.concat instead.\n",
      "\n",
      "C:\\Users\\dittr\\AppData\\Local\\Temp\\ipykernel_21424\\2539710273.py:35: SettingWithCopyWarning:\n",
      "\n",
      "\n",
      "A value is trying to be set on a copy of a slice from a DataFrame.\n",
      "Try using .loc[row_indexer,col_indexer] = value instead\n",
      "\n",
      "See the caveats in the documentation: https://pandas.pydata.org/pandas-docs/stable/user_guide/indexing.html#returning-a-view-versus-a-copy\n",
      "\n",
      "C:\\Users\\dittr\\AppData\\Local\\Temp\\ipykernel_21424\\2539710273.py:36: FutureWarning:\n",
      "\n",
      "The frame.append method is deprecated and will be removed from pandas in a future version. Use pandas.concat instead.\n",
      "\n",
      "C:\\Users\\dittr\\AppData\\Local\\Temp\\ipykernel_21424\\2539710273.py:35: SettingWithCopyWarning:\n",
      "\n",
      "\n",
      "A value is trying to be set on a copy of a slice from a DataFrame.\n",
      "Try using .loc[row_indexer,col_indexer] = value instead\n",
      "\n",
      "See the caveats in the documentation: https://pandas.pydata.org/pandas-docs/stable/user_guide/indexing.html#returning-a-view-versus-a-copy\n",
      "\n",
      "C:\\Users\\dittr\\AppData\\Local\\Temp\\ipykernel_21424\\2539710273.py:36: FutureWarning:\n",
      "\n",
      "The frame.append method is deprecated and will be removed from pandas in a future version. Use pandas.concat instead.\n",
      "\n",
      "C:\\Users\\dittr\\AppData\\Local\\Temp\\ipykernel_21424\\2539710273.py:35: SettingWithCopyWarning:\n",
      "\n",
      "\n",
      "A value is trying to be set on a copy of a slice from a DataFrame.\n",
      "Try using .loc[row_indexer,col_indexer] = value instead\n",
      "\n",
      "See the caveats in the documentation: https://pandas.pydata.org/pandas-docs/stable/user_guide/indexing.html#returning-a-view-versus-a-copy\n",
      "\n",
      "C:\\Users\\dittr\\AppData\\Local\\Temp\\ipykernel_21424\\2539710273.py:36: FutureWarning:\n",
      "\n",
      "The frame.append method is deprecated and will be removed from pandas in a future version. Use pandas.concat instead.\n",
      "\n",
      "C:\\Users\\dittr\\AppData\\Local\\Temp\\ipykernel_21424\\2539710273.py:35: SettingWithCopyWarning:\n",
      "\n",
      "\n",
      "A value is trying to be set on a copy of a slice from a DataFrame.\n",
      "Try using .loc[row_indexer,col_indexer] = value instead\n",
      "\n",
      "See the caveats in the documentation: https://pandas.pydata.org/pandas-docs/stable/user_guide/indexing.html#returning-a-view-versus-a-copy\n",
      "\n",
      "C:\\Users\\dittr\\AppData\\Local\\Temp\\ipykernel_21424\\2539710273.py:36: FutureWarning:\n",
      "\n",
      "The frame.append method is deprecated and will be removed from pandas in a future version. Use pandas.concat instead.\n",
      "\n",
      "C:\\Users\\dittr\\AppData\\Local\\Temp\\ipykernel_21424\\2539710273.py:35: SettingWithCopyWarning:\n",
      "\n",
      "\n",
      "A value is trying to be set on a copy of a slice from a DataFrame.\n",
      "Try using .loc[row_indexer,col_indexer] = value instead\n",
      "\n",
      "See the caveats in the documentation: https://pandas.pydata.org/pandas-docs/stable/user_guide/indexing.html#returning-a-view-versus-a-copy\n",
      "\n",
      "C:\\Users\\dittr\\AppData\\Local\\Temp\\ipykernel_21424\\2539710273.py:36: FutureWarning:\n",
      "\n",
      "The frame.append method is deprecated and will be removed from pandas in a future version. Use pandas.concat instead.\n",
      "\n",
      "C:\\Users\\dittr\\AppData\\Local\\Temp\\ipykernel_21424\\2539710273.py:35: SettingWithCopyWarning:\n",
      "\n",
      "\n",
      "A value is trying to be set on a copy of a slice from a DataFrame.\n",
      "Try using .loc[row_indexer,col_indexer] = value instead\n",
      "\n",
      "See the caveats in the documentation: https://pandas.pydata.org/pandas-docs/stable/user_guide/indexing.html#returning-a-view-versus-a-copy\n",
      "\n",
      "C:\\Users\\dittr\\AppData\\Local\\Temp\\ipykernel_21424\\2539710273.py:36: FutureWarning:\n",
      "\n",
      "The frame.append method is deprecated and will be removed from pandas in a future version. Use pandas.concat instead.\n",
      "\n",
      "C:\\Users\\dittr\\AppData\\Local\\Temp\\ipykernel_21424\\2539710273.py:35: SettingWithCopyWarning:\n",
      "\n",
      "\n",
      "A value is trying to be set on a copy of a slice from a DataFrame.\n",
      "Try using .loc[row_indexer,col_indexer] = value instead\n",
      "\n",
      "See the caveats in the documentation: https://pandas.pydata.org/pandas-docs/stable/user_guide/indexing.html#returning-a-view-versus-a-copy\n",
      "\n",
      "C:\\Users\\dittr\\AppData\\Local\\Temp\\ipykernel_21424\\2539710273.py:36: FutureWarning:\n",
      "\n",
      "The frame.append method is deprecated and will be removed from pandas in a future version. Use pandas.concat instead.\n",
      "\n",
      "C:\\Users\\dittr\\AppData\\Local\\Temp\\ipykernel_21424\\2539710273.py:35: SettingWithCopyWarning:\n",
      "\n",
      "\n",
      "A value is trying to be set on a copy of a slice from a DataFrame.\n",
      "Try using .loc[row_indexer,col_indexer] = value instead\n",
      "\n",
      "See the caveats in the documentation: https://pandas.pydata.org/pandas-docs/stable/user_guide/indexing.html#returning-a-view-versus-a-copy\n",
      "\n",
      "C:\\Users\\dittr\\AppData\\Local\\Temp\\ipykernel_21424\\2539710273.py:36: FutureWarning:\n",
      "\n",
      "The frame.append method is deprecated and will be removed from pandas in a future version. Use pandas.concat instead.\n",
      "\n",
      "C:\\Users\\dittr\\AppData\\Local\\Temp\\ipykernel_21424\\2539710273.py:35: SettingWithCopyWarning:\n",
      "\n",
      "\n",
      "A value is trying to be set on a copy of a slice from a DataFrame.\n",
      "Try using .loc[row_indexer,col_indexer] = value instead\n",
      "\n",
      "See the caveats in the documentation: https://pandas.pydata.org/pandas-docs/stable/user_guide/indexing.html#returning-a-view-versus-a-copy\n",
      "\n",
      "C:\\Users\\dittr\\AppData\\Local\\Temp\\ipykernel_21424\\2539710273.py:36: FutureWarning:\n",
      "\n",
      "The frame.append method is deprecated and will be removed from pandas in a future version. Use pandas.concat instead.\n",
      "\n",
      "C:\\Users\\dittr\\AppData\\Local\\Temp\\ipykernel_21424\\2539710273.py:35: SettingWithCopyWarning:\n",
      "\n",
      "\n",
      "A value is trying to be set on a copy of a slice from a DataFrame.\n",
      "Try using .loc[row_indexer,col_indexer] = value instead\n",
      "\n",
      "See the caveats in the documentation: https://pandas.pydata.org/pandas-docs/stable/user_guide/indexing.html#returning-a-view-versus-a-copy\n",
      "\n",
      "C:\\Users\\dittr\\AppData\\Local\\Temp\\ipykernel_21424\\2539710273.py:36: FutureWarning:\n",
      "\n",
      "The frame.append method is deprecated and will be removed from pandas in a future version. Use pandas.concat instead.\n",
      "\n",
      "C:\\Users\\dittr\\AppData\\Local\\Temp\\ipykernel_21424\\2539710273.py:35: SettingWithCopyWarning:\n",
      "\n",
      "\n",
      "A value is trying to be set on a copy of a slice from a DataFrame.\n",
      "Try using .loc[row_indexer,col_indexer] = value instead\n",
      "\n",
      "See the caveats in the documentation: https://pandas.pydata.org/pandas-docs/stable/user_guide/indexing.html#returning-a-view-versus-a-copy\n",
      "\n",
      "C:\\Users\\dittr\\AppData\\Local\\Temp\\ipykernel_21424\\2539710273.py:36: FutureWarning:\n",
      "\n",
      "The frame.append method is deprecated and will be removed from pandas in a future version. Use pandas.concat instead.\n",
      "\n",
      "C:\\Users\\dittr\\AppData\\Local\\Temp\\ipykernel_21424\\2539710273.py:35: SettingWithCopyWarning:\n",
      "\n",
      "\n",
      "A value is trying to be set on a copy of a slice from a DataFrame.\n",
      "Try using .loc[row_indexer,col_indexer] = value instead\n",
      "\n",
      "See the caveats in the documentation: https://pandas.pydata.org/pandas-docs/stable/user_guide/indexing.html#returning-a-view-versus-a-copy\n",
      "\n",
      "C:\\Users\\dittr\\AppData\\Local\\Temp\\ipykernel_21424\\2539710273.py:36: FutureWarning:\n",
      "\n",
      "The frame.append method is deprecated and will be removed from pandas in a future version. Use pandas.concat instead.\n",
      "\n",
      "C:\\Users\\dittr\\AppData\\Local\\Temp\\ipykernel_21424\\2539710273.py:35: SettingWithCopyWarning:\n",
      "\n",
      "\n",
      "A value is trying to be set on a copy of a slice from a DataFrame.\n",
      "Try using .loc[row_indexer,col_indexer] = value instead\n",
      "\n",
      "See the caveats in the documentation: https://pandas.pydata.org/pandas-docs/stable/user_guide/indexing.html#returning-a-view-versus-a-copy\n",
      "\n",
      "C:\\Users\\dittr\\AppData\\Local\\Temp\\ipykernel_21424\\2539710273.py:36: FutureWarning:\n",
      "\n",
      "The frame.append method is deprecated and will be removed from pandas in a future version. Use pandas.concat instead.\n",
      "\n",
      "C:\\Users\\dittr\\AppData\\Local\\Temp\\ipykernel_21424\\2539710273.py:35: SettingWithCopyWarning:\n",
      "\n",
      "\n",
      "A value is trying to be set on a copy of a slice from a DataFrame.\n",
      "Try using .loc[row_indexer,col_indexer] = value instead\n",
      "\n",
      "See the caveats in the documentation: https://pandas.pydata.org/pandas-docs/stable/user_guide/indexing.html#returning-a-view-versus-a-copy\n",
      "\n",
      "C:\\Users\\dittr\\AppData\\Local\\Temp\\ipykernel_21424\\2539710273.py:36: FutureWarning:\n",
      "\n",
      "The frame.append method is deprecated and will be removed from pandas in a future version. Use pandas.concat instead.\n",
      "\n",
      "C:\\Users\\dittr\\AppData\\Local\\Temp\\ipykernel_21424\\2539710273.py:35: SettingWithCopyWarning:\n",
      "\n",
      "\n",
      "A value is trying to be set on a copy of a slice from a DataFrame.\n",
      "Try using .loc[row_indexer,col_indexer] = value instead\n",
      "\n",
      "See the caveats in the documentation: https://pandas.pydata.org/pandas-docs/stable/user_guide/indexing.html#returning-a-view-versus-a-copy\n",
      "\n",
      "C:\\Users\\dittr\\AppData\\Local\\Temp\\ipykernel_21424\\2539710273.py:36: FutureWarning:\n",
      "\n",
      "The frame.append method is deprecated and will be removed from pandas in a future version. Use pandas.concat instead.\n",
      "\n",
      "C:\\Users\\dittr\\AppData\\Local\\Temp\\ipykernel_21424\\2539710273.py:35: SettingWithCopyWarning:\n",
      "\n",
      "\n",
      "A value is trying to be set on a copy of a slice from a DataFrame.\n",
      "Try using .loc[row_indexer,col_indexer] = value instead\n",
      "\n",
      "See the caveats in the documentation: https://pandas.pydata.org/pandas-docs/stable/user_guide/indexing.html#returning-a-view-versus-a-copy\n",
      "\n",
      "C:\\Users\\dittr\\AppData\\Local\\Temp\\ipykernel_21424\\2539710273.py:36: FutureWarning:\n",
      "\n",
      "The frame.append method is deprecated and will be removed from pandas in a future version. Use pandas.concat instead.\n",
      "\n",
      "C:\\Users\\dittr\\AppData\\Local\\Temp\\ipykernel_21424\\2539710273.py:35: SettingWithCopyWarning:\n",
      "\n",
      "\n",
      "A value is trying to be set on a copy of a slice from a DataFrame.\n",
      "Try using .loc[row_indexer,col_indexer] = value instead\n",
      "\n",
      "See the caveats in the documentation: https://pandas.pydata.org/pandas-docs/stable/user_guide/indexing.html#returning-a-view-versus-a-copy\n",
      "\n",
      "C:\\Users\\dittr\\AppData\\Local\\Temp\\ipykernel_21424\\2539710273.py:36: FutureWarning:\n",
      "\n",
      "The frame.append method is deprecated and will be removed from pandas in a future version. Use pandas.concat instead.\n",
      "\n",
      "C:\\Users\\dittr\\AppData\\Local\\Temp\\ipykernel_21424\\2539710273.py:35: SettingWithCopyWarning:\n",
      "\n",
      "\n",
      "A value is trying to be set on a copy of a slice from a DataFrame.\n",
      "Try using .loc[row_indexer,col_indexer] = value instead\n",
      "\n",
      "See the caveats in the documentation: https://pandas.pydata.org/pandas-docs/stable/user_guide/indexing.html#returning-a-view-versus-a-copy\n",
      "\n",
      "C:\\Users\\dittr\\AppData\\Local\\Temp\\ipykernel_21424\\2539710273.py:36: FutureWarning:\n",
      "\n",
      "The frame.append method is deprecated and will be removed from pandas in a future version. Use pandas.concat instead.\n",
      "\n",
      "C:\\Users\\dittr\\AppData\\Local\\Temp\\ipykernel_21424\\2539710273.py:35: SettingWithCopyWarning:\n",
      "\n",
      "\n",
      "A value is trying to be set on a copy of a slice from a DataFrame.\n",
      "Try using .loc[row_indexer,col_indexer] = value instead\n",
      "\n",
      "See the caveats in the documentation: https://pandas.pydata.org/pandas-docs/stable/user_guide/indexing.html#returning-a-view-versus-a-copy\n",
      "\n",
      "C:\\Users\\dittr\\AppData\\Local\\Temp\\ipykernel_21424\\2539710273.py:36: FutureWarning:\n",
      "\n",
      "The frame.append method is deprecated and will be removed from pandas in a future version. Use pandas.concat instead.\n",
      "\n",
      "C:\\Users\\dittr\\AppData\\Local\\Temp\\ipykernel_21424\\2539710273.py:35: SettingWithCopyWarning:\n",
      "\n",
      "\n",
      "A value is trying to be set on a copy of a slice from a DataFrame.\n",
      "Try using .loc[row_indexer,col_indexer] = value instead\n",
      "\n",
      "See the caveats in the documentation: https://pandas.pydata.org/pandas-docs/stable/user_guide/indexing.html#returning-a-view-versus-a-copy\n",
      "\n",
      "C:\\Users\\dittr\\AppData\\Local\\Temp\\ipykernel_21424\\2539710273.py:36: FutureWarning:\n",
      "\n",
      "The frame.append method is deprecated and will be removed from pandas in a future version. Use pandas.concat instead.\n",
      "\n",
      "C:\\Users\\dittr\\AppData\\Local\\Temp\\ipykernel_21424\\2539710273.py:35: SettingWithCopyWarning:\n",
      "\n",
      "\n",
      "A value is trying to be set on a copy of a slice from a DataFrame.\n",
      "Try using .loc[row_indexer,col_indexer] = value instead\n",
      "\n",
      "See the caveats in the documentation: https://pandas.pydata.org/pandas-docs/stable/user_guide/indexing.html#returning-a-view-versus-a-copy\n",
      "\n",
      "C:\\Users\\dittr\\AppData\\Local\\Temp\\ipykernel_21424\\2539710273.py:36: FutureWarning:\n",
      "\n",
      "The frame.append method is deprecated and will be removed from pandas in a future version. Use pandas.concat instead.\n",
      "\n",
      "C:\\Users\\dittr\\AppData\\Local\\Temp\\ipykernel_21424\\2539710273.py:35: SettingWithCopyWarning:\n",
      "\n",
      "\n",
      "A value is trying to be set on a copy of a slice from a DataFrame.\n",
      "Try using .loc[row_indexer,col_indexer] = value instead\n",
      "\n",
      "See the caveats in the documentation: https://pandas.pydata.org/pandas-docs/stable/user_guide/indexing.html#returning-a-view-versus-a-copy\n",
      "\n",
      "C:\\Users\\dittr\\AppData\\Local\\Temp\\ipykernel_21424\\2539710273.py:36: FutureWarning:\n",
      "\n",
      "The frame.append method is deprecated and will be removed from pandas in a future version. Use pandas.concat instead.\n",
      "\n",
      "C:\\Users\\dittr\\AppData\\Local\\Temp\\ipykernel_21424\\2539710273.py:35: SettingWithCopyWarning:\n",
      "\n",
      "\n",
      "A value is trying to be set on a copy of a slice from a DataFrame.\n",
      "Try using .loc[row_indexer,col_indexer] = value instead\n",
      "\n",
      "See the caveats in the documentation: https://pandas.pydata.org/pandas-docs/stable/user_guide/indexing.html#returning-a-view-versus-a-copy\n",
      "\n",
      "C:\\Users\\dittr\\AppData\\Local\\Temp\\ipykernel_21424\\2539710273.py:36: FutureWarning:\n",
      "\n",
      "The frame.append method is deprecated and will be removed from pandas in a future version. Use pandas.concat instead.\n",
      "\n"
     ]
    },
    {
     "name": "stderr",
     "output_type": "stream",
     "text": [
      "C:\\Users\\dittr\\AppData\\Local\\Temp\\ipykernel_21424\\2539710273.py:35: SettingWithCopyWarning:\n",
      "\n",
      "\n",
      "A value is trying to be set on a copy of a slice from a DataFrame.\n",
      "Try using .loc[row_indexer,col_indexer] = value instead\n",
      "\n",
      "See the caveats in the documentation: https://pandas.pydata.org/pandas-docs/stable/user_guide/indexing.html#returning-a-view-versus-a-copy\n",
      "\n",
      "C:\\Users\\dittr\\AppData\\Local\\Temp\\ipykernel_21424\\2539710273.py:36: FutureWarning:\n",
      "\n",
      "The frame.append method is deprecated and will be removed from pandas in a future version. Use pandas.concat instead.\n",
      "\n",
      "C:\\Users\\dittr\\AppData\\Local\\Temp\\ipykernel_21424\\2539710273.py:35: SettingWithCopyWarning:\n",
      "\n",
      "\n",
      "A value is trying to be set on a copy of a slice from a DataFrame.\n",
      "Try using .loc[row_indexer,col_indexer] = value instead\n",
      "\n",
      "See the caveats in the documentation: https://pandas.pydata.org/pandas-docs/stable/user_guide/indexing.html#returning-a-view-versus-a-copy\n",
      "\n",
      "C:\\Users\\dittr\\AppData\\Local\\Temp\\ipykernel_21424\\2539710273.py:36: FutureWarning:\n",
      "\n",
      "The frame.append method is deprecated and will be removed from pandas in a future version. Use pandas.concat instead.\n",
      "\n",
      "C:\\Users\\dittr\\AppData\\Local\\Temp\\ipykernel_21424\\2539710273.py:35: SettingWithCopyWarning:\n",
      "\n",
      "\n",
      "A value is trying to be set on a copy of a slice from a DataFrame.\n",
      "Try using .loc[row_indexer,col_indexer] = value instead\n",
      "\n",
      "See the caveats in the documentation: https://pandas.pydata.org/pandas-docs/stable/user_guide/indexing.html#returning-a-view-versus-a-copy\n",
      "\n",
      "C:\\Users\\dittr\\AppData\\Local\\Temp\\ipykernel_21424\\2539710273.py:36: FutureWarning:\n",
      "\n",
      "The frame.append method is deprecated and will be removed from pandas in a future version. Use pandas.concat instead.\n",
      "\n",
      "C:\\Users\\dittr\\AppData\\Local\\Temp\\ipykernel_21424\\2539710273.py:35: SettingWithCopyWarning:\n",
      "\n",
      "\n",
      "A value is trying to be set on a copy of a slice from a DataFrame.\n",
      "Try using .loc[row_indexer,col_indexer] = value instead\n",
      "\n",
      "See the caveats in the documentation: https://pandas.pydata.org/pandas-docs/stable/user_guide/indexing.html#returning-a-view-versus-a-copy\n",
      "\n",
      "C:\\Users\\dittr\\AppData\\Local\\Temp\\ipykernel_21424\\2539710273.py:36: FutureWarning:\n",
      "\n",
      "The frame.append method is deprecated and will be removed from pandas in a future version. Use pandas.concat instead.\n",
      "\n",
      "C:\\Users\\dittr\\AppData\\Local\\Temp\\ipykernel_21424\\2539710273.py:35: SettingWithCopyWarning:\n",
      "\n",
      "\n",
      "A value is trying to be set on a copy of a slice from a DataFrame.\n",
      "Try using .loc[row_indexer,col_indexer] = value instead\n",
      "\n",
      "See the caveats in the documentation: https://pandas.pydata.org/pandas-docs/stable/user_guide/indexing.html#returning-a-view-versus-a-copy\n",
      "\n",
      "C:\\Users\\dittr\\AppData\\Local\\Temp\\ipykernel_21424\\2539710273.py:36: FutureWarning:\n",
      "\n",
      "The frame.append method is deprecated and will be removed from pandas in a future version. Use pandas.concat instead.\n",
      "\n",
      "C:\\Users\\dittr\\AppData\\Local\\Temp\\ipykernel_21424\\2539710273.py:35: SettingWithCopyWarning:\n",
      "\n",
      "\n",
      "A value is trying to be set on a copy of a slice from a DataFrame.\n",
      "Try using .loc[row_indexer,col_indexer] = value instead\n",
      "\n",
      "See the caveats in the documentation: https://pandas.pydata.org/pandas-docs/stable/user_guide/indexing.html#returning-a-view-versus-a-copy\n",
      "\n",
      "C:\\Users\\dittr\\AppData\\Local\\Temp\\ipykernel_21424\\2539710273.py:36: FutureWarning:\n",
      "\n",
      "The frame.append method is deprecated and will be removed from pandas in a future version. Use pandas.concat instead.\n",
      "\n",
      "C:\\Users\\dittr\\AppData\\Local\\Temp\\ipykernel_21424\\2539710273.py:35: SettingWithCopyWarning:\n",
      "\n",
      "\n",
      "A value is trying to be set on a copy of a slice from a DataFrame.\n",
      "Try using .loc[row_indexer,col_indexer] = value instead\n",
      "\n",
      "See the caveats in the documentation: https://pandas.pydata.org/pandas-docs/stable/user_guide/indexing.html#returning-a-view-versus-a-copy\n",
      "\n",
      "C:\\Users\\dittr\\AppData\\Local\\Temp\\ipykernel_21424\\2539710273.py:36: FutureWarning:\n",
      "\n",
      "The frame.append method is deprecated and will be removed from pandas in a future version. Use pandas.concat instead.\n",
      "\n",
      "C:\\Users\\dittr\\AppData\\Local\\Temp\\ipykernel_21424\\2539710273.py:35: SettingWithCopyWarning:\n",
      "\n",
      "\n",
      "A value is trying to be set on a copy of a slice from a DataFrame.\n",
      "Try using .loc[row_indexer,col_indexer] = value instead\n",
      "\n",
      "See the caveats in the documentation: https://pandas.pydata.org/pandas-docs/stable/user_guide/indexing.html#returning-a-view-versus-a-copy\n",
      "\n",
      "C:\\Users\\dittr\\AppData\\Local\\Temp\\ipykernel_21424\\2539710273.py:36: FutureWarning:\n",
      "\n",
      "The frame.append method is deprecated and will be removed from pandas in a future version. Use pandas.concat instead.\n",
      "\n",
      "C:\\Users\\dittr\\AppData\\Local\\Temp\\ipykernel_21424\\2539710273.py:35: SettingWithCopyWarning:\n",
      "\n",
      "\n",
      "A value is trying to be set on a copy of a slice from a DataFrame.\n",
      "Try using .loc[row_indexer,col_indexer] = value instead\n",
      "\n",
      "See the caveats in the documentation: https://pandas.pydata.org/pandas-docs/stable/user_guide/indexing.html#returning-a-view-versus-a-copy\n",
      "\n",
      "C:\\Users\\dittr\\AppData\\Local\\Temp\\ipykernel_21424\\2539710273.py:36: FutureWarning:\n",
      "\n",
      "The frame.append method is deprecated and will be removed from pandas in a future version. Use pandas.concat instead.\n",
      "\n",
      "C:\\Users\\dittr\\AppData\\Local\\Temp\\ipykernel_21424\\2539710273.py:35: SettingWithCopyWarning:\n",
      "\n",
      "\n",
      "A value is trying to be set on a copy of a slice from a DataFrame.\n",
      "Try using .loc[row_indexer,col_indexer] = value instead\n",
      "\n",
      "See the caveats in the documentation: https://pandas.pydata.org/pandas-docs/stable/user_guide/indexing.html#returning-a-view-versus-a-copy\n",
      "\n",
      "C:\\Users\\dittr\\AppData\\Local\\Temp\\ipykernel_21424\\2539710273.py:36: FutureWarning:\n",
      "\n",
      "The frame.append method is deprecated and will be removed from pandas in a future version. Use pandas.concat instead.\n",
      "\n",
      "C:\\Users\\dittr\\AppData\\Local\\Temp\\ipykernel_21424\\2539710273.py:35: SettingWithCopyWarning:\n",
      "\n",
      "\n",
      "A value is trying to be set on a copy of a slice from a DataFrame.\n",
      "Try using .loc[row_indexer,col_indexer] = value instead\n",
      "\n",
      "See the caveats in the documentation: https://pandas.pydata.org/pandas-docs/stable/user_guide/indexing.html#returning-a-view-versus-a-copy\n",
      "\n",
      "C:\\Users\\dittr\\AppData\\Local\\Temp\\ipykernel_21424\\2539710273.py:36: FutureWarning:\n",
      "\n",
      "The frame.append method is deprecated and will be removed from pandas in a future version. Use pandas.concat instead.\n",
      "\n",
      "C:\\Users\\dittr\\AppData\\Local\\Temp\\ipykernel_21424\\2539710273.py:35: SettingWithCopyWarning:\n",
      "\n",
      "\n",
      "A value is trying to be set on a copy of a slice from a DataFrame.\n",
      "Try using .loc[row_indexer,col_indexer] = value instead\n",
      "\n",
      "See the caveats in the documentation: https://pandas.pydata.org/pandas-docs/stable/user_guide/indexing.html#returning-a-view-versus-a-copy\n",
      "\n",
      "C:\\Users\\dittr\\AppData\\Local\\Temp\\ipykernel_21424\\2539710273.py:36: FutureWarning:\n",
      "\n",
      "The frame.append method is deprecated and will be removed from pandas in a future version. Use pandas.concat instead.\n",
      "\n",
      "C:\\Users\\dittr\\AppData\\Local\\Temp\\ipykernel_21424\\2539710273.py:35: SettingWithCopyWarning:\n",
      "\n",
      "\n",
      "A value is trying to be set on a copy of a slice from a DataFrame.\n",
      "Try using .loc[row_indexer,col_indexer] = value instead\n",
      "\n",
      "See the caveats in the documentation: https://pandas.pydata.org/pandas-docs/stable/user_guide/indexing.html#returning-a-view-versus-a-copy\n",
      "\n",
      "C:\\Users\\dittr\\AppData\\Local\\Temp\\ipykernel_21424\\2539710273.py:36: FutureWarning:\n",
      "\n",
      "The frame.append method is deprecated and will be removed from pandas in a future version. Use pandas.concat instead.\n",
      "\n",
      "C:\\Users\\dittr\\AppData\\Local\\Temp\\ipykernel_21424\\2539710273.py:35: SettingWithCopyWarning:\n",
      "\n",
      "\n",
      "A value is trying to be set on a copy of a slice from a DataFrame.\n",
      "Try using .loc[row_indexer,col_indexer] = value instead\n",
      "\n",
      "See the caveats in the documentation: https://pandas.pydata.org/pandas-docs/stable/user_guide/indexing.html#returning-a-view-versus-a-copy\n",
      "\n",
      "C:\\Users\\dittr\\AppData\\Local\\Temp\\ipykernel_21424\\2539710273.py:36: FutureWarning:\n",
      "\n",
      "The frame.append method is deprecated and will be removed from pandas in a future version. Use pandas.concat instead.\n",
      "\n",
      "C:\\Users\\dittr\\AppData\\Local\\Temp\\ipykernel_21424\\2539710273.py:35: SettingWithCopyWarning:\n",
      "\n",
      "\n",
      "A value is trying to be set on a copy of a slice from a DataFrame.\n",
      "Try using .loc[row_indexer,col_indexer] = value instead\n",
      "\n",
      "See the caveats in the documentation: https://pandas.pydata.org/pandas-docs/stable/user_guide/indexing.html#returning-a-view-versus-a-copy\n",
      "\n",
      "C:\\Users\\dittr\\AppData\\Local\\Temp\\ipykernel_21424\\2539710273.py:36: FutureWarning:\n",
      "\n",
      "The frame.append method is deprecated and will be removed from pandas in a future version. Use pandas.concat instead.\n",
      "\n",
      "C:\\Users\\dittr\\AppData\\Local\\Temp\\ipykernel_21424\\2539710273.py:35: SettingWithCopyWarning:\n",
      "\n",
      "\n",
      "A value is trying to be set on a copy of a slice from a DataFrame.\n",
      "Try using .loc[row_indexer,col_indexer] = value instead\n",
      "\n",
      "See the caveats in the documentation: https://pandas.pydata.org/pandas-docs/stable/user_guide/indexing.html#returning-a-view-versus-a-copy\n",
      "\n",
      "C:\\Users\\dittr\\AppData\\Local\\Temp\\ipykernel_21424\\2539710273.py:36: FutureWarning:\n",
      "\n",
      "The frame.append method is deprecated and will be removed from pandas in a future version. Use pandas.concat instead.\n",
      "\n",
      "C:\\Users\\dittr\\AppData\\Local\\Temp\\ipykernel_21424\\2539710273.py:35: SettingWithCopyWarning:\n",
      "\n",
      "\n",
      "A value is trying to be set on a copy of a slice from a DataFrame.\n",
      "Try using .loc[row_indexer,col_indexer] = value instead\n",
      "\n",
      "See the caveats in the documentation: https://pandas.pydata.org/pandas-docs/stable/user_guide/indexing.html#returning-a-view-versus-a-copy\n",
      "\n",
      "C:\\Users\\dittr\\AppData\\Local\\Temp\\ipykernel_21424\\2539710273.py:36: FutureWarning:\n",
      "\n",
      "The frame.append method is deprecated and will be removed from pandas in a future version. Use pandas.concat instead.\n",
      "\n",
      "C:\\Users\\dittr\\AppData\\Local\\Temp\\ipykernel_21424\\2539710273.py:35: SettingWithCopyWarning:\n",
      "\n",
      "\n",
      "A value is trying to be set on a copy of a slice from a DataFrame.\n",
      "Try using .loc[row_indexer,col_indexer] = value instead\n",
      "\n",
      "See the caveats in the documentation: https://pandas.pydata.org/pandas-docs/stable/user_guide/indexing.html#returning-a-view-versus-a-copy\n",
      "\n",
      "C:\\Users\\dittr\\AppData\\Local\\Temp\\ipykernel_21424\\2539710273.py:36: FutureWarning:\n",
      "\n",
      "The frame.append method is deprecated and will be removed from pandas in a future version. Use pandas.concat instead.\n",
      "\n",
      "C:\\Users\\dittr\\AppData\\Local\\Temp\\ipykernel_21424\\2539710273.py:35: SettingWithCopyWarning:\n",
      "\n",
      "\n",
      "A value is trying to be set on a copy of a slice from a DataFrame.\n",
      "Try using .loc[row_indexer,col_indexer] = value instead\n",
      "\n",
      "See the caveats in the documentation: https://pandas.pydata.org/pandas-docs/stable/user_guide/indexing.html#returning-a-view-versus-a-copy\n",
      "\n",
      "C:\\Users\\dittr\\AppData\\Local\\Temp\\ipykernel_21424\\2539710273.py:36: FutureWarning:\n",
      "\n",
      "The frame.append method is deprecated and will be removed from pandas in a future version. Use pandas.concat instead.\n",
      "\n",
      "C:\\Users\\dittr\\AppData\\Local\\Temp\\ipykernel_21424\\2539710273.py:35: SettingWithCopyWarning:\n",
      "\n",
      "\n",
      "A value is trying to be set on a copy of a slice from a DataFrame.\n",
      "Try using .loc[row_indexer,col_indexer] = value instead\n",
      "\n",
      "See the caveats in the documentation: https://pandas.pydata.org/pandas-docs/stable/user_guide/indexing.html#returning-a-view-versus-a-copy\n",
      "\n",
      "C:\\Users\\dittr\\AppData\\Local\\Temp\\ipykernel_21424\\2539710273.py:36: FutureWarning:\n",
      "\n",
      "The frame.append method is deprecated and will be removed from pandas in a future version. Use pandas.concat instead.\n",
      "\n",
      "C:\\Users\\dittr\\AppData\\Local\\Temp\\ipykernel_21424\\2539710273.py:35: SettingWithCopyWarning:\n",
      "\n",
      "\n",
      "A value is trying to be set on a copy of a slice from a DataFrame.\n",
      "Try using .loc[row_indexer,col_indexer] = value instead\n",
      "\n",
      "See the caveats in the documentation: https://pandas.pydata.org/pandas-docs/stable/user_guide/indexing.html#returning-a-view-versus-a-copy\n",
      "\n",
      "C:\\Users\\dittr\\AppData\\Local\\Temp\\ipykernel_21424\\2539710273.py:36: FutureWarning:\n",
      "\n",
      "The frame.append method is deprecated and will be removed from pandas in a future version. Use pandas.concat instead.\n",
      "\n",
      "C:\\Users\\dittr\\AppData\\Local\\Temp\\ipykernel_21424\\2539710273.py:35: SettingWithCopyWarning:\n",
      "\n",
      "\n",
      "A value is trying to be set on a copy of a slice from a DataFrame.\n",
      "Try using .loc[row_indexer,col_indexer] = value instead\n",
      "\n",
      "See the caveats in the documentation: https://pandas.pydata.org/pandas-docs/stable/user_guide/indexing.html#returning-a-view-versus-a-copy\n",
      "\n",
      "C:\\Users\\dittr\\AppData\\Local\\Temp\\ipykernel_21424\\2539710273.py:36: FutureWarning:\n",
      "\n",
      "The frame.append method is deprecated and will be removed from pandas in a future version. Use pandas.concat instead.\n",
      "\n",
      "C:\\Users\\dittr\\AppData\\Local\\Temp\\ipykernel_21424\\2539710273.py:35: SettingWithCopyWarning:\n",
      "\n",
      "\n",
      "A value is trying to be set on a copy of a slice from a DataFrame.\n",
      "Try using .loc[row_indexer,col_indexer] = value instead\n",
      "\n",
      "See the caveats in the documentation: https://pandas.pydata.org/pandas-docs/stable/user_guide/indexing.html#returning-a-view-versus-a-copy\n",
      "\n",
      "C:\\Users\\dittr\\AppData\\Local\\Temp\\ipykernel_21424\\2539710273.py:36: FutureWarning:\n",
      "\n",
      "The frame.append method is deprecated and will be removed from pandas in a future version. Use pandas.concat instead.\n",
      "\n",
      "C:\\Users\\dittr\\AppData\\Local\\Temp\\ipykernel_21424\\2539710273.py:35: SettingWithCopyWarning:\n",
      "\n",
      "\n",
      "A value is trying to be set on a copy of a slice from a DataFrame.\n",
      "Try using .loc[row_indexer,col_indexer] = value instead\n",
      "\n",
      "See the caveats in the documentation: https://pandas.pydata.org/pandas-docs/stable/user_guide/indexing.html#returning-a-view-versus-a-copy\n",
      "\n",
      "C:\\Users\\dittr\\AppData\\Local\\Temp\\ipykernel_21424\\2539710273.py:36: FutureWarning:\n",
      "\n",
      "The frame.append method is deprecated and will be removed from pandas in a future version. Use pandas.concat instead.\n",
      "\n",
      "C:\\Users\\dittr\\AppData\\Local\\Temp\\ipykernel_21424\\2539710273.py:35: SettingWithCopyWarning:\n",
      "\n",
      "\n",
      "A value is trying to be set on a copy of a slice from a DataFrame.\n",
      "Try using .loc[row_indexer,col_indexer] = value instead\n",
      "\n",
      "See the caveats in the documentation: https://pandas.pydata.org/pandas-docs/stable/user_guide/indexing.html#returning-a-view-versus-a-copy\n",
      "\n",
      "C:\\Users\\dittr\\AppData\\Local\\Temp\\ipykernel_21424\\2539710273.py:36: FutureWarning:\n",
      "\n",
      "The frame.append method is deprecated and will be removed from pandas in a future version. Use pandas.concat instead.\n",
      "\n",
      "C:\\Users\\dittr\\AppData\\Local\\Temp\\ipykernel_21424\\2539710273.py:35: SettingWithCopyWarning:\n",
      "\n",
      "\n",
      "A value is trying to be set on a copy of a slice from a DataFrame.\n",
      "Try using .loc[row_indexer,col_indexer] = value instead\n",
      "\n",
      "See the caveats in the documentation: https://pandas.pydata.org/pandas-docs/stable/user_guide/indexing.html#returning-a-view-versus-a-copy\n",
      "\n",
      "C:\\Users\\dittr\\AppData\\Local\\Temp\\ipykernel_21424\\2539710273.py:36: FutureWarning:\n",
      "\n",
      "The frame.append method is deprecated and will be removed from pandas in a future version. Use pandas.concat instead.\n",
      "\n",
      "C:\\Users\\dittr\\AppData\\Local\\Temp\\ipykernel_21424\\2539710273.py:35: SettingWithCopyWarning:\n",
      "\n",
      "\n",
      "A value is trying to be set on a copy of a slice from a DataFrame.\n",
      "Try using .loc[row_indexer,col_indexer] = value instead\n",
      "\n",
      "See the caveats in the documentation: https://pandas.pydata.org/pandas-docs/stable/user_guide/indexing.html#returning-a-view-versus-a-copy\n",
      "\n",
      "C:\\Users\\dittr\\AppData\\Local\\Temp\\ipykernel_21424\\2539710273.py:36: FutureWarning:\n",
      "\n",
      "The frame.append method is deprecated and will be removed from pandas in a future version. Use pandas.concat instead.\n",
      "\n",
      "C:\\Users\\dittr\\AppData\\Local\\Temp\\ipykernel_21424\\2539710273.py:35: SettingWithCopyWarning:\n",
      "\n",
      "\n",
      "A value is trying to be set on a copy of a slice from a DataFrame.\n",
      "Try using .loc[row_indexer,col_indexer] = value instead\n",
      "\n",
      "See the caveats in the documentation: https://pandas.pydata.org/pandas-docs/stable/user_guide/indexing.html#returning-a-view-versus-a-copy\n",
      "\n",
      "C:\\Users\\dittr\\AppData\\Local\\Temp\\ipykernel_21424\\2539710273.py:36: FutureWarning:\n",
      "\n",
      "The frame.append method is deprecated and will be removed from pandas in a future version. Use pandas.concat instead.\n",
      "\n",
      "C:\\Users\\dittr\\AppData\\Local\\Temp\\ipykernel_21424\\2539710273.py:35: SettingWithCopyWarning:\n",
      "\n",
      "\n",
      "A value is trying to be set on a copy of a slice from a DataFrame.\n",
      "Try using .loc[row_indexer,col_indexer] = value instead\n",
      "\n",
      "See the caveats in the documentation: https://pandas.pydata.org/pandas-docs/stable/user_guide/indexing.html#returning-a-view-versus-a-copy\n",
      "\n",
      "C:\\Users\\dittr\\AppData\\Local\\Temp\\ipykernel_21424\\2539710273.py:36: FutureWarning:\n",
      "\n",
      "The frame.append method is deprecated and will be removed from pandas in a future version. Use pandas.concat instead.\n",
      "\n",
      "C:\\Users\\dittr\\AppData\\Local\\Temp\\ipykernel_21424\\2539710273.py:35: SettingWithCopyWarning:\n",
      "\n",
      "\n",
      "A value is trying to be set on a copy of a slice from a DataFrame.\n",
      "Try using .loc[row_indexer,col_indexer] = value instead\n",
      "\n",
      "See the caveats in the documentation: https://pandas.pydata.org/pandas-docs/stable/user_guide/indexing.html#returning-a-view-versus-a-copy\n",
      "\n",
      "C:\\Users\\dittr\\AppData\\Local\\Temp\\ipykernel_21424\\2539710273.py:36: FutureWarning:\n",
      "\n",
      "The frame.append method is deprecated and will be removed from pandas in a future version. Use pandas.concat instead.\n",
      "\n",
      "C:\\Users\\dittr\\AppData\\Local\\Temp\\ipykernel_21424\\2539710273.py:35: SettingWithCopyWarning:\n",
      "\n",
      "\n",
      "A value is trying to be set on a copy of a slice from a DataFrame.\n",
      "Try using .loc[row_indexer,col_indexer] = value instead\n",
      "\n",
      "See the caveats in the documentation: https://pandas.pydata.org/pandas-docs/stable/user_guide/indexing.html#returning-a-view-versus-a-copy\n",
      "\n",
      "C:\\Users\\dittr\\AppData\\Local\\Temp\\ipykernel_21424\\2539710273.py:36: FutureWarning:\n",
      "\n",
      "The frame.append method is deprecated and will be removed from pandas in a future version. Use pandas.concat instead.\n",
      "\n",
      "C:\\Users\\dittr\\AppData\\Local\\Temp\\ipykernel_21424\\2539710273.py:35: SettingWithCopyWarning:\n",
      "\n",
      "\n",
      "A value is trying to be set on a copy of a slice from a DataFrame.\n",
      "Try using .loc[row_indexer,col_indexer] = value instead\n",
      "\n",
      "See the caveats in the documentation: https://pandas.pydata.org/pandas-docs/stable/user_guide/indexing.html#returning-a-view-versus-a-copy\n",
      "\n",
      "C:\\Users\\dittr\\AppData\\Local\\Temp\\ipykernel_21424\\2539710273.py:36: FutureWarning:\n",
      "\n",
      "The frame.append method is deprecated and will be removed from pandas in a future version. Use pandas.concat instead.\n",
      "\n",
      "C:\\Users\\dittr\\AppData\\Local\\Temp\\ipykernel_21424\\2539710273.py:35: SettingWithCopyWarning:\n",
      "\n",
      "\n",
      "A value is trying to be set on a copy of a slice from a DataFrame.\n",
      "Try using .loc[row_indexer,col_indexer] = value instead\n",
      "\n",
      "See the caveats in the documentation: https://pandas.pydata.org/pandas-docs/stable/user_guide/indexing.html#returning-a-view-versus-a-copy\n",
      "\n",
      "C:\\Users\\dittr\\AppData\\Local\\Temp\\ipykernel_21424\\2539710273.py:36: FutureWarning:\n",
      "\n",
      "The frame.append method is deprecated and will be removed from pandas in a future version. Use pandas.concat instead.\n",
      "\n",
      "C:\\Users\\dittr\\AppData\\Local\\Temp\\ipykernel_21424\\2539710273.py:35: SettingWithCopyWarning:\n",
      "\n",
      "\n",
      "A value is trying to be set on a copy of a slice from a DataFrame.\n",
      "Try using .loc[row_indexer,col_indexer] = value instead\n",
      "\n",
      "See the caveats in the documentation: https://pandas.pydata.org/pandas-docs/stable/user_guide/indexing.html#returning-a-view-versus-a-copy\n",
      "\n",
      "C:\\Users\\dittr\\AppData\\Local\\Temp\\ipykernel_21424\\2539710273.py:36: FutureWarning:\n",
      "\n",
      "The frame.append method is deprecated and will be removed from pandas in a future version. Use pandas.concat instead.\n",
      "\n",
      "C:\\Users\\dittr\\AppData\\Local\\Temp\\ipykernel_21424\\2539710273.py:35: SettingWithCopyWarning:\n",
      "\n",
      "\n",
      "A value is trying to be set on a copy of a slice from a DataFrame.\n",
      "Try using .loc[row_indexer,col_indexer] = value instead\n",
      "\n",
      "See the caveats in the documentation: https://pandas.pydata.org/pandas-docs/stable/user_guide/indexing.html#returning-a-view-versus-a-copy\n",
      "\n",
      "C:\\Users\\dittr\\AppData\\Local\\Temp\\ipykernel_21424\\2539710273.py:36: FutureWarning:\n",
      "\n",
      "The frame.append method is deprecated and will be removed from pandas in a future version. Use pandas.concat instead.\n",
      "\n",
      "C:\\Users\\dittr\\AppData\\Local\\Temp\\ipykernel_21424\\2539710273.py:35: SettingWithCopyWarning:\n",
      "\n",
      "\n",
      "A value is trying to be set on a copy of a slice from a DataFrame.\n",
      "Try using .loc[row_indexer,col_indexer] = value instead\n",
      "\n",
      "See the caveats in the documentation: https://pandas.pydata.org/pandas-docs/stable/user_guide/indexing.html#returning-a-view-versus-a-copy\n",
      "\n",
      "C:\\Users\\dittr\\AppData\\Local\\Temp\\ipykernel_21424\\2539710273.py:36: FutureWarning:\n",
      "\n",
      "The frame.append method is deprecated and will be removed from pandas in a future version. Use pandas.concat instead.\n",
      "\n",
      "C:\\Users\\dittr\\AppData\\Local\\Temp\\ipykernel_21424\\2539710273.py:35: SettingWithCopyWarning:\n",
      "\n",
      "\n",
      "A value is trying to be set on a copy of a slice from a DataFrame.\n",
      "Try using .loc[row_indexer,col_indexer] = value instead\n",
      "\n",
      "See the caveats in the documentation: https://pandas.pydata.org/pandas-docs/stable/user_guide/indexing.html#returning-a-view-versus-a-copy\n",
      "\n",
      "C:\\Users\\dittr\\AppData\\Local\\Temp\\ipykernel_21424\\2539710273.py:36: FutureWarning:\n",
      "\n",
      "The frame.append method is deprecated and will be removed from pandas in a future version. Use pandas.concat instead.\n",
      "\n",
      "C:\\Users\\dittr\\AppData\\Local\\Temp\\ipykernel_21424\\2539710273.py:35: SettingWithCopyWarning:\n",
      "\n",
      "\n",
      "A value is trying to be set on a copy of a slice from a DataFrame.\n",
      "Try using .loc[row_indexer,col_indexer] = value instead\n",
      "\n",
      "See the caveats in the documentation: https://pandas.pydata.org/pandas-docs/stable/user_guide/indexing.html#returning-a-view-versus-a-copy\n",
      "\n",
      "C:\\Users\\dittr\\AppData\\Local\\Temp\\ipykernel_21424\\2539710273.py:36: FutureWarning:\n",
      "\n",
      "The frame.append method is deprecated and will be removed from pandas in a future version. Use pandas.concat instead.\n",
      "\n",
      "C:\\Users\\dittr\\AppData\\Local\\Temp\\ipykernel_21424\\2539710273.py:35: SettingWithCopyWarning:\n",
      "\n",
      "\n",
      "A value is trying to be set on a copy of a slice from a DataFrame.\n",
      "Try using .loc[row_indexer,col_indexer] = value instead\n",
      "\n",
      "See the caveats in the documentation: https://pandas.pydata.org/pandas-docs/stable/user_guide/indexing.html#returning-a-view-versus-a-copy\n",
      "\n",
      "C:\\Users\\dittr\\AppData\\Local\\Temp\\ipykernel_21424\\2539710273.py:36: FutureWarning:\n",
      "\n",
      "The frame.append method is deprecated and will be removed from pandas in a future version. Use pandas.concat instead.\n",
      "\n",
      "C:\\Users\\dittr\\AppData\\Local\\Temp\\ipykernel_21424\\2539710273.py:35: SettingWithCopyWarning:\n",
      "\n",
      "\n",
      "A value is trying to be set on a copy of a slice from a DataFrame.\n",
      "Try using .loc[row_indexer,col_indexer] = value instead\n",
      "\n",
      "See the caveats in the documentation: https://pandas.pydata.org/pandas-docs/stable/user_guide/indexing.html#returning-a-view-versus-a-copy\n",
      "\n",
      "C:\\Users\\dittr\\AppData\\Local\\Temp\\ipykernel_21424\\2539710273.py:36: FutureWarning:\n",
      "\n",
      "The frame.append method is deprecated and will be removed from pandas in a future version. Use pandas.concat instead.\n",
      "\n",
      "C:\\Users\\dittr\\AppData\\Local\\Temp\\ipykernel_21424\\2539710273.py:35: SettingWithCopyWarning:\n",
      "\n",
      "\n",
      "A value is trying to be set on a copy of a slice from a DataFrame.\n",
      "Try using .loc[row_indexer,col_indexer] = value instead\n",
      "\n",
      "See the caveats in the documentation: https://pandas.pydata.org/pandas-docs/stable/user_guide/indexing.html#returning-a-view-versus-a-copy\n",
      "\n",
      "C:\\Users\\dittr\\AppData\\Local\\Temp\\ipykernel_21424\\2539710273.py:36: FutureWarning:\n",
      "\n",
      "The frame.append method is deprecated and will be removed from pandas in a future version. Use pandas.concat instead.\n",
      "\n",
      "C:\\Users\\dittr\\AppData\\Local\\Temp\\ipykernel_21424\\2539710273.py:35: SettingWithCopyWarning:\n",
      "\n",
      "\n",
      "A value is trying to be set on a copy of a slice from a DataFrame.\n",
      "Try using .loc[row_indexer,col_indexer] = value instead\n",
      "\n",
      "See the caveats in the documentation: https://pandas.pydata.org/pandas-docs/stable/user_guide/indexing.html#returning-a-view-versus-a-copy\n",
      "\n",
      "C:\\Users\\dittr\\AppData\\Local\\Temp\\ipykernel_21424\\2539710273.py:36: FutureWarning:\n",
      "\n",
      "The frame.append method is deprecated and will be removed from pandas in a future version. Use pandas.concat instead.\n",
      "\n",
      "C:\\Users\\dittr\\AppData\\Local\\Temp\\ipykernel_21424\\2539710273.py:35: SettingWithCopyWarning:\n",
      "\n",
      "\n",
      "A value is trying to be set on a copy of a slice from a DataFrame.\n",
      "Try using .loc[row_indexer,col_indexer] = value instead\n",
      "\n",
      "See the caveats in the documentation: https://pandas.pydata.org/pandas-docs/stable/user_guide/indexing.html#returning-a-view-versus-a-copy\n",
      "\n",
      "C:\\Users\\dittr\\AppData\\Local\\Temp\\ipykernel_21424\\2539710273.py:36: FutureWarning:\n",
      "\n",
      "The frame.append method is deprecated and will be removed from pandas in a future version. Use pandas.concat instead.\n",
      "\n",
      "C:\\Users\\dittr\\AppData\\Local\\Temp\\ipykernel_21424\\2539710273.py:35: SettingWithCopyWarning:\n",
      "\n",
      "\n",
      "A value is trying to be set on a copy of a slice from a DataFrame.\n",
      "Try using .loc[row_indexer,col_indexer] = value instead\n",
      "\n",
      "See the caveats in the documentation: https://pandas.pydata.org/pandas-docs/stable/user_guide/indexing.html#returning-a-view-versus-a-copy\n",
      "\n",
      "C:\\Users\\dittr\\AppData\\Local\\Temp\\ipykernel_21424\\2539710273.py:36: FutureWarning:\n",
      "\n",
      "The frame.append method is deprecated and will be removed from pandas in a future version. Use pandas.concat instead.\n",
      "\n",
      "C:\\Users\\dittr\\AppData\\Local\\Temp\\ipykernel_21424\\2539710273.py:35: SettingWithCopyWarning:\n",
      "\n",
      "\n",
      "A value is trying to be set on a copy of a slice from a DataFrame.\n",
      "Try using .loc[row_indexer,col_indexer] = value instead\n",
      "\n",
      "See the caveats in the documentation: https://pandas.pydata.org/pandas-docs/stable/user_guide/indexing.html#returning-a-view-versus-a-copy\n",
      "\n",
      "C:\\Users\\dittr\\AppData\\Local\\Temp\\ipykernel_21424\\2539710273.py:36: FutureWarning:\n",
      "\n",
      "The frame.append method is deprecated and will be removed from pandas in a future version. Use pandas.concat instead.\n",
      "\n",
      "C:\\Users\\dittr\\AppData\\Local\\Temp\\ipykernel_21424\\2539710273.py:35: SettingWithCopyWarning:\n",
      "\n",
      "\n",
      "A value is trying to be set on a copy of a slice from a DataFrame.\n",
      "Try using .loc[row_indexer,col_indexer] = value instead\n",
      "\n",
      "See the caveats in the documentation: https://pandas.pydata.org/pandas-docs/stable/user_guide/indexing.html#returning-a-view-versus-a-copy\n",
      "\n",
      "C:\\Users\\dittr\\AppData\\Local\\Temp\\ipykernel_21424\\2539710273.py:36: FutureWarning:\n",
      "\n",
      "The frame.append method is deprecated and will be removed from pandas in a future version. Use pandas.concat instead.\n",
      "\n",
      "C:\\Users\\dittr\\AppData\\Local\\Temp\\ipykernel_21424\\2539710273.py:35: SettingWithCopyWarning:\n",
      "\n",
      "\n",
      "A value is trying to be set on a copy of a slice from a DataFrame.\n",
      "Try using .loc[row_indexer,col_indexer] = value instead\n",
      "\n",
      "See the caveats in the documentation: https://pandas.pydata.org/pandas-docs/stable/user_guide/indexing.html#returning-a-view-versus-a-copy\n",
      "\n",
      "C:\\Users\\dittr\\AppData\\Local\\Temp\\ipykernel_21424\\2539710273.py:36: FutureWarning:\n",
      "\n",
      "The frame.append method is deprecated and will be removed from pandas in a future version. Use pandas.concat instead.\n",
      "\n",
      "C:\\Users\\dittr\\AppData\\Local\\Temp\\ipykernel_21424\\2539710273.py:35: SettingWithCopyWarning:\n",
      "\n",
      "\n",
      "A value is trying to be set on a copy of a slice from a DataFrame.\n",
      "Try using .loc[row_indexer,col_indexer] = value instead\n",
      "\n",
      "See the caveats in the documentation: https://pandas.pydata.org/pandas-docs/stable/user_guide/indexing.html#returning-a-view-versus-a-copy\n",
      "\n",
      "C:\\Users\\dittr\\AppData\\Local\\Temp\\ipykernel_21424\\2539710273.py:36: FutureWarning:\n",
      "\n",
      "The frame.append method is deprecated and will be removed from pandas in a future version. Use pandas.concat instead.\n",
      "\n",
      "C:\\Users\\dittr\\AppData\\Local\\Temp\\ipykernel_21424\\2539710273.py:35: SettingWithCopyWarning:\n",
      "\n",
      "\n",
      "A value is trying to be set on a copy of a slice from a DataFrame.\n",
      "Try using .loc[row_indexer,col_indexer] = value instead\n",
      "\n",
      "See the caveats in the documentation: https://pandas.pydata.org/pandas-docs/stable/user_guide/indexing.html#returning-a-view-versus-a-copy\n",
      "\n",
      "C:\\Users\\dittr\\AppData\\Local\\Temp\\ipykernel_21424\\2539710273.py:36: FutureWarning:\n",
      "\n",
      "The frame.append method is deprecated and will be removed from pandas in a future version. Use pandas.concat instead.\n",
      "\n",
      "C:\\Users\\dittr\\AppData\\Local\\Temp\\ipykernel_21424\\2539710273.py:35: SettingWithCopyWarning:\n",
      "\n",
      "\n",
      "A value is trying to be set on a copy of a slice from a DataFrame.\n",
      "Try using .loc[row_indexer,col_indexer] = value instead\n",
      "\n",
      "See the caveats in the documentation: https://pandas.pydata.org/pandas-docs/stable/user_guide/indexing.html#returning-a-view-versus-a-copy\n",
      "\n",
      "C:\\Users\\dittr\\AppData\\Local\\Temp\\ipykernel_21424\\2539710273.py:36: FutureWarning:\n",
      "\n",
      "The frame.append method is deprecated and will be removed from pandas in a future version. Use pandas.concat instead.\n",
      "\n",
      "C:\\Users\\dittr\\AppData\\Local\\Temp\\ipykernel_21424\\2539710273.py:35: SettingWithCopyWarning:\n",
      "\n",
      "\n",
      "A value is trying to be set on a copy of a slice from a DataFrame.\n",
      "Try using .loc[row_indexer,col_indexer] = value instead\n",
      "\n",
      "See the caveats in the documentation: https://pandas.pydata.org/pandas-docs/stable/user_guide/indexing.html#returning-a-view-versus-a-copy\n",
      "\n",
      "C:\\Users\\dittr\\AppData\\Local\\Temp\\ipykernel_21424\\2539710273.py:36: FutureWarning:\n",
      "\n",
      "The frame.append method is deprecated and will be removed from pandas in a future version. Use pandas.concat instead.\n",
      "\n",
      "C:\\Users\\dittr\\AppData\\Local\\Temp\\ipykernel_21424\\2539710273.py:35: SettingWithCopyWarning:\n",
      "\n",
      "\n",
      "A value is trying to be set on a copy of a slice from a DataFrame.\n",
      "Try using .loc[row_indexer,col_indexer] = value instead\n",
      "\n",
      "See the caveats in the documentation: https://pandas.pydata.org/pandas-docs/stable/user_guide/indexing.html#returning-a-view-versus-a-copy\n",
      "\n",
      "C:\\Users\\dittr\\AppData\\Local\\Temp\\ipykernel_21424\\2539710273.py:36: FutureWarning:\n",
      "\n",
      "The frame.append method is deprecated and will be removed from pandas in a future version. Use pandas.concat instead.\n",
      "\n",
      "C:\\Users\\dittr\\AppData\\Local\\Temp\\ipykernel_21424\\2539710273.py:35: SettingWithCopyWarning:\n",
      "\n",
      "\n",
      "A value is trying to be set on a copy of a slice from a DataFrame.\n",
      "Try using .loc[row_indexer,col_indexer] = value instead\n",
      "\n",
      "See the caveats in the documentation: https://pandas.pydata.org/pandas-docs/stable/user_guide/indexing.html#returning-a-view-versus-a-copy\n",
      "\n",
      "C:\\Users\\dittr\\AppData\\Local\\Temp\\ipykernel_21424\\2539710273.py:36: FutureWarning:\n",
      "\n",
      "The frame.append method is deprecated and will be removed from pandas in a future version. Use pandas.concat instead.\n",
      "\n",
      "C:\\Users\\dittr\\AppData\\Local\\Temp\\ipykernel_21424\\2539710273.py:35: SettingWithCopyWarning:\n",
      "\n",
      "\n",
      "A value is trying to be set on a copy of a slice from a DataFrame.\n",
      "Try using .loc[row_indexer,col_indexer] = value instead\n",
      "\n",
      "See the caveats in the documentation: https://pandas.pydata.org/pandas-docs/stable/user_guide/indexing.html#returning-a-view-versus-a-copy\n",
      "\n",
      "C:\\Users\\dittr\\AppData\\Local\\Temp\\ipykernel_21424\\2539710273.py:36: FutureWarning:\n",
      "\n",
      "The frame.append method is deprecated and will be removed from pandas in a future version. Use pandas.concat instead.\n",
      "\n",
      "C:\\Users\\dittr\\AppData\\Local\\Temp\\ipykernel_21424\\2539710273.py:35: SettingWithCopyWarning:\n",
      "\n",
      "\n",
      "A value is trying to be set on a copy of a slice from a DataFrame.\n",
      "Try using .loc[row_indexer,col_indexer] = value instead\n",
      "\n",
      "See the caveats in the documentation: https://pandas.pydata.org/pandas-docs/stable/user_guide/indexing.html#returning-a-view-versus-a-copy\n",
      "\n",
      "C:\\Users\\dittr\\AppData\\Local\\Temp\\ipykernel_21424\\2539710273.py:36: FutureWarning:\n",
      "\n",
      "The frame.append method is deprecated and will be removed from pandas in a future version. Use pandas.concat instead.\n",
      "\n",
      "C:\\Users\\dittr\\AppData\\Local\\Temp\\ipykernel_21424\\2539710273.py:35: SettingWithCopyWarning:\n",
      "\n",
      "\n",
      "A value is trying to be set on a copy of a slice from a DataFrame.\n",
      "Try using .loc[row_indexer,col_indexer] = value instead\n",
      "\n",
      "See the caveats in the documentation: https://pandas.pydata.org/pandas-docs/stable/user_guide/indexing.html#returning-a-view-versus-a-copy\n",
      "\n",
      "C:\\Users\\dittr\\AppData\\Local\\Temp\\ipykernel_21424\\2539710273.py:36: FutureWarning:\n",
      "\n",
      "The frame.append method is deprecated and will be removed from pandas in a future version. Use pandas.concat instead.\n",
      "\n",
      "C:\\Users\\dittr\\AppData\\Local\\Temp\\ipykernel_21424\\2539710273.py:35: SettingWithCopyWarning:\n",
      "\n",
      "\n",
      "A value is trying to be set on a copy of a slice from a DataFrame.\n",
      "Try using .loc[row_indexer,col_indexer] = value instead\n",
      "\n",
      "See the caveats in the documentation: https://pandas.pydata.org/pandas-docs/stable/user_guide/indexing.html#returning-a-view-versus-a-copy\n",
      "\n",
      "C:\\Users\\dittr\\AppData\\Local\\Temp\\ipykernel_21424\\2539710273.py:36: FutureWarning:\n",
      "\n",
      "The frame.append method is deprecated and will be removed from pandas in a future version. Use pandas.concat instead.\n",
      "\n",
      "C:\\Users\\dittr\\AppData\\Local\\Temp\\ipykernel_21424\\2539710273.py:35: SettingWithCopyWarning:\n",
      "\n",
      "\n",
      "A value is trying to be set on a copy of a slice from a DataFrame.\n",
      "Try using .loc[row_indexer,col_indexer] = value instead\n",
      "\n",
      "See the caveats in the documentation: https://pandas.pydata.org/pandas-docs/stable/user_guide/indexing.html#returning-a-view-versus-a-copy\n",
      "\n",
      "C:\\Users\\dittr\\AppData\\Local\\Temp\\ipykernel_21424\\2539710273.py:36: FutureWarning:\n",
      "\n",
      "The frame.append method is deprecated and will be removed from pandas in a future version. Use pandas.concat instead.\n",
      "\n"
     ]
    },
    {
     "name": "stderr",
     "output_type": "stream",
     "text": [
      "C:\\Users\\dittr\\AppData\\Local\\Temp\\ipykernel_21424\\2539710273.py:35: SettingWithCopyWarning:\n",
      "\n",
      "\n",
      "A value is trying to be set on a copy of a slice from a DataFrame.\n",
      "Try using .loc[row_indexer,col_indexer] = value instead\n",
      "\n",
      "See the caveats in the documentation: https://pandas.pydata.org/pandas-docs/stable/user_guide/indexing.html#returning-a-view-versus-a-copy\n",
      "\n",
      "C:\\Users\\dittr\\AppData\\Local\\Temp\\ipykernel_21424\\2539710273.py:36: FutureWarning:\n",
      "\n",
      "The frame.append method is deprecated and will be removed from pandas in a future version. Use pandas.concat instead.\n",
      "\n",
      "C:\\Users\\dittr\\AppData\\Local\\Temp\\ipykernel_21424\\2539710273.py:35: SettingWithCopyWarning:\n",
      "\n",
      "\n",
      "A value is trying to be set on a copy of a slice from a DataFrame.\n",
      "Try using .loc[row_indexer,col_indexer] = value instead\n",
      "\n",
      "See the caveats in the documentation: https://pandas.pydata.org/pandas-docs/stable/user_guide/indexing.html#returning-a-view-versus-a-copy\n",
      "\n",
      "C:\\Users\\dittr\\AppData\\Local\\Temp\\ipykernel_21424\\2539710273.py:36: FutureWarning:\n",
      "\n",
      "The frame.append method is deprecated and will be removed from pandas in a future version. Use pandas.concat instead.\n",
      "\n",
      "C:\\Users\\dittr\\AppData\\Local\\Temp\\ipykernel_21424\\2539710273.py:35: SettingWithCopyWarning:\n",
      "\n",
      "\n",
      "A value is trying to be set on a copy of a slice from a DataFrame.\n",
      "Try using .loc[row_indexer,col_indexer] = value instead\n",
      "\n",
      "See the caveats in the documentation: https://pandas.pydata.org/pandas-docs/stable/user_guide/indexing.html#returning-a-view-versus-a-copy\n",
      "\n",
      "C:\\Users\\dittr\\AppData\\Local\\Temp\\ipykernel_21424\\2539710273.py:36: FutureWarning:\n",
      "\n",
      "The frame.append method is deprecated and will be removed from pandas in a future version. Use pandas.concat instead.\n",
      "\n",
      "C:\\Users\\dittr\\AppData\\Local\\Temp\\ipykernel_21424\\2539710273.py:35: SettingWithCopyWarning:\n",
      "\n",
      "\n",
      "A value is trying to be set on a copy of a slice from a DataFrame.\n",
      "Try using .loc[row_indexer,col_indexer] = value instead\n",
      "\n",
      "See the caveats in the documentation: https://pandas.pydata.org/pandas-docs/stable/user_guide/indexing.html#returning-a-view-versus-a-copy\n",
      "\n",
      "C:\\Users\\dittr\\AppData\\Local\\Temp\\ipykernel_21424\\2539710273.py:36: FutureWarning:\n",
      "\n",
      "The frame.append method is deprecated and will be removed from pandas in a future version. Use pandas.concat instead.\n",
      "\n",
      "C:\\Users\\dittr\\AppData\\Local\\Temp\\ipykernel_21424\\2539710273.py:35: SettingWithCopyWarning:\n",
      "\n",
      "\n",
      "A value is trying to be set on a copy of a slice from a DataFrame.\n",
      "Try using .loc[row_indexer,col_indexer] = value instead\n",
      "\n",
      "See the caveats in the documentation: https://pandas.pydata.org/pandas-docs/stable/user_guide/indexing.html#returning-a-view-versus-a-copy\n",
      "\n",
      "C:\\Users\\dittr\\AppData\\Local\\Temp\\ipykernel_21424\\2539710273.py:36: FutureWarning:\n",
      "\n",
      "The frame.append method is deprecated and will be removed from pandas in a future version. Use pandas.concat instead.\n",
      "\n",
      "C:\\Users\\dittr\\AppData\\Local\\Temp\\ipykernel_21424\\2539710273.py:35: SettingWithCopyWarning:\n",
      "\n",
      "\n",
      "A value is trying to be set on a copy of a slice from a DataFrame.\n",
      "Try using .loc[row_indexer,col_indexer] = value instead\n",
      "\n",
      "See the caveats in the documentation: https://pandas.pydata.org/pandas-docs/stable/user_guide/indexing.html#returning-a-view-versus-a-copy\n",
      "\n",
      "C:\\Users\\dittr\\AppData\\Local\\Temp\\ipykernel_21424\\2539710273.py:36: FutureWarning:\n",
      "\n",
      "The frame.append method is deprecated and will be removed from pandas in a future version. Use pandas.concat instead.\n",
      "\n",
      "C:\\Users\\dittr\\AppData\\Local\\Temp\\ipykernel_21424\\2539710273.py:35: SettingWithCopyWarning:\n",
      "\n",
      "\n",
      "A value is trying to be set on a copy of a slice from a DataFrame.\n",
      "Try using .loc[row_indexer,col_indexer] = value instead\n",
      "\n",
      "See the caveats in the documentation: https://pandas.pydata.org/pandas-docs/stable/user_guide/indexing.html#returning-a-view-versus-a-copy\n",
      "\n",
      "C:\\Users\\dittr\\AppData\\Local\\Temp\\ipykernel_21424\\2539710273.py:36: FutureWarning:\n",
      "\n",
      "The frame.append method is deprecated and will be removed from pandas in a future version. Use pandas.concat instead.\n",
      "\n",
      "C:\\Users\\dittr\\AppData\\Local\\Temp\\ipykernel_21424\\2539710273.py:35: SettingWithCopyWarning:\n",
      "\n",
      "\n",
      "A value is trying to be set on a copy of a slice from a DataFrame.\n",
      "Try using .loc[row_indexer,col_indexer] = value instead\n",
      "\n",
      "See the caveats in the documentation: https://pandas.pydata.org/pandas-docs/stable/user_guide/indexing.html#returning-a-view-versus-a-copy\n",
      "\n",
      "C:\\Users\\dittr\\AppData\\Local\\Temp\\ipykernel_21424\\2539710273.py:36: FutureWarning:\n",
      "\n",
      "The frame.append method is deprecated and will be removed from pandas in a future version. Use pandas.concat instead.\n",
      "\n",
      "C:\\Users\\dittr\\AppData\\Local\\Temp\\ipykernel_21424\\2539710273.py:35: SettingWithCopyWarning:\n",
      "\n",
      "\n",
      "A value is trying to be set on a copy of a slice from a DataFrame.\n",
      "Try using .loc[row_indexer,col_indexer] = value instead\n",
      "\n",
      "See the caveats in the documentation: https://pandas.pydata.org/pandas-docs/stable/user_guide/indexing.html#returning-a-view-versus-a-copy\n",
      "\n",
      "C:\\Users\\dittr\\AppData\\Local\\Temp\\ipykernel_21424\\2539710273.py:36: FutureWarning:\n",
      "\n",
      "The frame.append method is deprecated and will be removed from pandas in a future version. Use pandas.concat instead.\n",
      "\n",
      "C:\\Users\\dittr\\AppData\\Local\\Temp\\ipykernel_21424\\2539710273.py:35: SettingWithCopyWarning:\n",
      "\n",
      "\n",
      "A value is trying to be set on a copy of a slice from a DataFrame.\n",
      "Try using .loc[row_indexer,col_indexer] = value instead\n",
      "\n",
      "See the caveats in the documentation: https://pandas.pydata.org/pandas-docs/stable/user_guide/indexing.html#returning-a-view-versus-a-copy\n",
      "\n",
      "C:\\Users\\dittr\\AppData\\Local\\Temp\\ipykernel_21424\\2539710273.py:36: FutureWarning:\n",
      "\n",
      "The frame.append method is deprecated and will be removed from pandas in a future version. Use pandas.concat instead.\n",
      "\n",
      "C:\\Users\\dittr\\AppData\\Local\\Temp\\ipykernel_21424\\2539710273.py:35: SettingWithCopyWarning:\n",
      "\n",
      "\n",
      "A value is trying to be set on a copy of a slice from a DataFrame.\n",
      "Try using .loc[row_indexer,col_indexer] = value instead\n",
      "\n",
      "See the caveats in the documentation: https://pandas.pydata.org/pandas-docs/stable/user_guide/indexing.html#returning-a-view-versus-a-copy\n",
      "\n",
      "C:\\Users\\dittr\\AppData\\Local\\Temp\\ipykernel_21424\\2539710273.py:36: FutureWarning:\n",
      "\n",
      "The frame.append method is deprecated and will be removed from pandas in a future version. Use pandas.concat instead.\n",
      "\n",
      "C:\\Users\\dittr\\AppData\\Local\\Temp\\ipykernel_21424\\2539710273.py:35: SettingWithCopyWarning:\n",
      "\n",
      "\n",
      "A value is trying to be set on a copy of a slice from a DataFrame.\n",
      "Try using .loc[row_indexer,col_indexer] = value instead\n",
      "\n",
      "See the caveats in the documentation: https://pandas.pydata.org/pandas-docs/stable/user_guide/indexing.html#returning-a-view-versus-a-copy\n",
      "\n",
      "C:\\Users\\dittr\\AppData\\Local\\Temp\\ipykernel_21424\\2539710273.py:36: FutureWarning:\n",
      "\n",
      "The frame.append method is deprecated and will be removed from pandas in a future version. Use pandas.concat instead.\n",
      "\n",
      "C:\\Users\\dittr\\AppData\\Local\\Temp\\ipykernel_21424\\2539710273.py:35: SettingWithCopyWarning:\n",
      "\n",
      "\n",
      "A value is trying to be set on a copy of a slice from a DataFrame.\n",
      "Try using .loc[row_indexer,col_indexer] = value instead\n",
      "\n",
      "See the caveats in the documentation: https://pandas.pydata.org/pandas-docs/stable/user_guide/indexing.html#returning-a-view-versus-a-copy\n",
      "\n",
      "C:\\Users\\dittr\\AppData\\Local\\Temp\\ipykernel_21424\\2539710273.py:36: FutureWarning:\n",
      "\n",
      "The frame.append method is deprecated and will be removed from pandas in a future version. Use pandas.concat instead.\n",
      "\n",
      "C:\\Users\\dittr\\AppData\\Local\\Temp\\ipykernel_21424\\2539710273.py:35: SettingWithCopyWarning:\n",
      "\n",
      "\n",
      "A value is trying to be set on a copy of a slice from a DataFrame.\n",
      "Try using .loc[row_indexer,col_indexer] = value instead\n",
      "\n",
      "See the caveats in the documentation: https://pandas.pydata.org/pandas-docs/stable/user_guide/indexing.html#returning-a-view-versus-a-copy\n",
      "\n",
      "C:\\Users\\dittr\\AppData\\Local\\Temp\\ipykernel_21424\\2539710273.py:36: FutureWarning:\n",
      "\n",
      "The frame.append method is deprecated and will be removed from pandas in a future version. Use pandas.concat instead.\n",
      "\n",
      "C:\\Users\\dittr\\AppData\\Local\\Temp\\ipykernel_21424\\2539710273.py:35: SettingWithCopyWarning:\n",
      "\n",
      "\n",
      "A value is trying to be set on a copy of a slice from a DataFrame.\n",
      "Try using .loc[row_indexer,col_indexer] = value instead\n",
      "\n",
      "See the caveats in the documentation: https://pandas.pydata.org/pandas-docs/stable/user_guide/indexing.html#returning-a-view-versus-a-copy\n",
      "\n",
      "C:\\Users\\dittr\\AppData\\Local\\Temp\\ipykernel_21424\\2539710273.py:36: FutureWarning:\n",
      "\n",
      "The frame.append method is deprecated and will be removed from pandas in a future version. Use pandas.concat instead.\n",
      "\n",
      "C:\\Users\\dittr\\AppData\\Local\\Temp\\ipykernel_21424\\2539710273.py:35: SettingWithCopyWarning:\n",
      "\n",
      "\n",
      "A value is trying to be set on a copy of a slice from a DataFrame.\n",
      "Try using .loc[row_indexer,col_indexer] = value instead\n",
      "\n",
      "See the caveats in the documentation: https://pandas.pydata.org/pandas-docs/stable/user_guide/indexing.html#returning-a-view-versus-a-copy\n",
      "\n",
      "C:\\Users\\dittr\\AppData\\Local\\Temp\\ipykernel_21424\\2539710273.py:36: FutureWarning:\n",
      "\n",
      "The frame.append method is deprecated and will be removed from pandas in a future version. Use pandas.concat instead.\n",
      "\n",
      "C:\\Users\\dittr\\AppData\\Local\\Temp\\ipykernel_21424\\2539710273.py:35: SettingWithCopyWarning:\n",
      "\n",
      "\n",
      "A value is trying to be set on a copy of a slice from a DataFrame.\n",
      "Try using .loc[row_indexer,col_indexer] = value instead\n",
      "\n",
      "See the caveats in the documentation: https://pandas.pydata.org/pandas-docs/stable/user_guide/indexing.html#returning-a-view-versus-a-copy\n",
      "\n",
      "C:\\Users\\dittr\\AppData\\Local\\Temp\\ipykernel_21424\\2539710273.py:36: FutureWarning:\n",
      "\n",
      "The frame.append method is deprecated and will be removed from pandas in a future version. Use pandas.concat instead.\n",
      "\n",
      "C:\\Users\\dittr\\AppData\\Local\\Temp\\ipykernel_21424\\2539710273.py:35: SettingWithCopyWarning:\n",
      "\n",
      "\n",
      "A value is trying to be set on a copy of a slice from a DataFrame.\n",
      "Try using .loc[row_indexer,col_indexer] = value instead\n",
      "\n",
      "See the caveats in the documentation: https://pandas.pydata.org/pandas-docs/stable/user_guide/indexing.html#returning-a-view-versus-a-copy\n",
      "\n",
      "C:\\Users\\dittr\\AppData\\Local\\Temp\\ipykernel_21424\\2539710273.py:36: FutureWarning:\n",
      "\n",
      "The frame.append method is deprecated and will be removed from pandas in a future version. Use pandas.concat instead.\n",
      "\n",
      "C:\\Users\\dittr\\AppData\\Local\\Temp\\ipykernel_21424\\2539710273.py:35: SettingWithCopyWarning:\n",
      "\n",
      "\n",
      "A value is trying to be set on a copy of a slice from a DataFrame.\n",
      "Try using .loc[row_indexer,col_indexer] = value instead\n",
      "\n",
      "See the caveats in the documentation: https://pandas.pydata.org/pandas-docs/stable/user_guide/indexing.html#returning-a-view-versus-a-copy\n",
      "\n",
      "C:\\Users\\dittr\\AppData\\Local\\Temp\\ipykernel_21424\\2539710273.py:36: FutureWarning:\n",
      "\n",
      "The frame.append method is deprecated and will be removed from pandas in a future version. Use pandas.concat instead.\n",
      "\n",
      "C:\\Users\\dittr\\AppData\\Local\\Temp\\ipykernel_21424\\2539710273.py:35: SettingWithCopyWarning:\n",
      "\n",
      "\n",
      "A value is trying to be set on a copy of a slice from a DataFrame.\n",
      "Try using .loc[row_indexer,col_indexer] = value instead\n",
      "\n",
      "See the caveats in the documentation: https://pandas.pydata.org/pandas-docs/stable/user_guide/indexing.html#returning-a-view-versus-a-copy\n",
      "\n",
      "C:\\Users\\dittr\\AppData\\Local\\Temp\\ipykernel_21424\\2539710273.py:36: FutureWarning:\n",
      "\n",
      "The frame.append method is deprecated and will be removed from pandas in a future version. Use pandas.concat instead.\n",
      "\n",
      "C:\\Users\\dittr\\AppData\\Local\\Temp\\ipykernel_21424\\2539710273.py:35: SettingWithCopyWarning:\n",
      "\n",
      "\n",
      "A value is trying to be set on a copy of a slice from a DataFrame.\n",
      "Try using .loc[row_indexer,col_indexer] = value instead\n",
      "\n",
      "See the caveats in the documentation: https://pandas.pydata.org/pandas-docs/stable/user_guide/indexing.html#returning-a-view-versus-a-copy\n",
      "\n",
      "C:\\Users\\dittr\\AppData\\Local\\Temp\\ipykernel_21424\\2539710273.py:36: FutureWarning:\n",
      "\n",
      "The frame.append method is deprecated and will be removed from pandas in a future version. Use pandas.concat instead.\n",
      "\n",
      "C:\\Users\\dittr\\AppData\\Local\\Temp\\ipykernel_21424\\2539710273.py:35: SettingWithCopyWarning:\n",
      "\n",
      "\n",
      "A value is trying to be set on a copy of a slice from a DataFrame.\n",
      "Try using .loc[row_indexer,col_indexer] = value instead\n",
      "\n",
      "See the caveats in the documentation: https://pandas.pydata.org/pandas-docs/stable/user_guide/indexing.html#returning-a-view-versus-a-copy\n",
      "\n",
      "C:\\Users\\dittr\\AppData\\Local\\Temp\\ipykernel_21424\\2539710273.py:36: FutureWarning:\n",
      "\n",
      "The frame.append method is deprecated and will be removed from pandas in a future version. Use pandas.concat instead.\n",
      "\n",
      "C:\\Users\\dittr\\AppData\\Local\\Temp\\ipykernel_21424\\2539710273.py:35: SettingWithCopyWarning:\n",
      "\n",
      "\n",
      "A value is trying to be set on a copy of a slice from a DataFrame.\n",
      "Try using .loc[row_indexer,col_indexer] = value instead\n",
      "\n",
      "See the caveats in the documentation: https://pandas.pydata.org/pandas-docs/stable/user_guide/indexing.html#returning-a-view-versus-a-copy\n",
      "\n",
      "C:\\Users\\dittr\\AppData\\Local\\Temp\\ipykernel_21424\\2539710273.py:36: FutureWarning:\n",
      "\n",
      "The frame.append method is deprecated and will be removed from pandas in a future version. Use pandas.concat instead.\n",
      "\n",
      "C:\\Users\\dittr\\AppData\\Local\\Temp\\ipykernel_21424\\2539710273.py:35: SettingWithCopyWarning:\n",
      "\n",
      "\n",
      "A value is trying to be set on a copy of a slice from a DataFrame.\n",
      "Try using .loc[row_indexer,col_indexer] = value instead\n",
      "\n",
      "See the caveats in the documentation: https://pandas.pydata.org/pandas-docs/stable/user_guide/indexing.html#returning-a-view-versus-a-copy\n",
      "\n",
      "C:\\Users\\dittr\\AppData\\Local\\Temp\\ipykernel_21424\\2539710273.py:36: FutureWarning:\n",
      "\n",
      "The frame.append method is deprecated and will be removed from pandas in a future version. Use pandas.concat instead.\n",
      "\n",
      "C:\\Users\\dittr\\AppData\\Local\\Temp\\ipykernel_21424\\2539710273.py:35: SettingWithCopyWarning:\n",
      "\n",
      "\n",
      "A value is trying to be set on a copy of a slice from a DataFrame.\n",
      "Try using .loc[row_indexer,col_indexer] = value instead\n",
      "\n",
      "See the caveats in the documentation: https://pandas.pydata.org/pandas-docs/stable/user_guide/indexing.html#returning-a-view-versus-a-copy\n",
      "\n",
      "C:\\Users\\dittr\\AppData\\Local\\Temp\\ipykernel_21424\\2539710273.py:36: FutureWarning:\n",
      "\n",
      "The frame.append method is deprecated and will be removed from pandas in a future version. Use pandas.concat instead.\n",
      "\n"
     ]
    },
    {
     "data": {
      "text/html": [
       "<div>\n",
       "<style scoped>\n",
       "    .dataframe tbody tr th:only-of-type {\n",
       "        vertical-align: middle;\n",
       "    }\n",
       "\n",
       "    .dataframe tbody tr th {\n",
       "        vertical-align: top;\n",
       "    }\n",
       "\n",
       "    .dataframe thead th {\n",
       "        text-align: right;\n",
       "    }\n",
       "</style>\n",
       "<table border=\"1\" class=\"dataframe\">\n",
       "  <thead>\n",
       "    <tr style=\"text-align: right;\">\n",
       "      <th></th>\n",
       "      <th>Imputation_Method</th>\n",
       "      <th>Task</th>\n",
       "      <th>Missing Type</th>\n",
       "      <th>Missing Fraction</th>\n",
       "      <th>Column</th>\n",
       "      <th>result_type</th>\n",
       "      <th>metric</th>\n",
       "      <th>Baseline</th>\n",
       "      <th>Corrupted</th>\n",
       "      <th>Imputed</th>\n",
       "      <th>...</th>\n",
       "      <th>MinorityClassSize</th>\n",
       "      <th>NumberOfFeatures</th>\n",
       "      <th>NumberOfInstances</th>\n",
       "      <th>NumberOfNumericFeatures</th>\n",
       "      <th>NumberOfCategoricalFeatures</th>\n",
       "      <th>NumberOfClasses</th>\n",
       "      <th>Downstream Performance Rank</th>\n",
       "      <th>Data_Constellation</th>\n",
       "      <th>Data_Constellation_full</th>\n",
       "      <th>Performance Difference to Best to Average in absolute</th>\n",
       "    </tr>\n",
       "  </thead>\n",
       "  <tbody>\n",
       "    <tr>\n",
       "      <th>1</th>\n",
       "      <td>Discriminative DL</td>\n",
       "      <td>6</td>\n",
       "      <td>MAR</td>\n",
       "      <td>0.01</td>\n",
       "      <td>x-box</td>\n",
       "      <td>downstream_performance_mean</td>\n",
       "      <td>Classification Tasks</td>\n",
       "      <td>0.722137</td>\n",
       "      <td>0.721631</td>\n",
       "      <td>0.722056</td>\n",
       "      <td>...</td>\n",
       "      <td>734.0</td>\n",
       "      <td>17.0</td>\n",
       "      <td>20000.0</td>\n",
       "      <td>16.0</td>\n",
       "      <td>1.0</td>\n",
       "      <td>26.0</td>\n",
       "      <td>4.0</td>\n",
       "      <td>MAR - 0.01</td>\n",
       "      <td>MAR - 0.01 - 6</td>\n",
       "      <td>0.000191</td>\n",
       "    </tr>\n",
       "    <tr>\n",
       "      <th>9</th>\n",
       "      <td>Discriminative DL</td>\n",
       "      <td>6</td>\n",
       "      <td>MAR</td>\n",
       "      <td>0.1</td>\n",
       "      <td>x-box</td>\n",
       "      <td>downstream_performance_mean</td>\n",
       "      <td>Classification Tasks</td>\n",
       "      <td>0.722137</td>\n",
       "      <td>0.709453</td>\n",
       "      <td>0.722138</td>\n",
       "      <td>...</td>\n",
       "      <td>734.0</td>\n",
       "      <td>17.0</td>\n",
       "      <td>20000.0</td>\n",
       "      <td>16.0</td>\n",
       "      <td>1.0</td>\n",
       "      <td>26.0</td>\n",
       "      <td>1.0</td>\n",
       "      <td>MAR - 0.1</td>\n",
       "      <td>MAR - 0.1 - 6</td>\n",
       "      <td>0.000000</td>\n",
       "    </tr>\n",
       "    <tr>\n",
       "      <th>10</th>\n",
       "      <td>Discriminative DL</td>\n",
       "      <td>6</td>\n",
       "      <td>MAR</td>\n",
       "      <td>0.3</td>\n",
       "      <td>x-box</td>\n",
       "      <td>downstream_performance_mean</td>\n",
       "      <td>Classification Tasks</td>\n",
       "      <td>0.722137</td>\n",
       "      <td>0.694927</td>\n",
       "      <td>0.722148</td>\n",
       "      <td>...</td>\n",
       "      <td>734.0</td>\n",
       "      <td>17.0</td>\n",
       "      <td>20000.0</td>\n",
       "      <td>16.0</td>\n",
       "      <td>1.0</td>\n",
       "      <td>26.0</td>\n",
       "      <td>5.0</td>\n",
       "      <td>MAR - 0.3</td>\n",
       "      <td>MAR - 0.3 - 6</td>\n",
       "      <td>0.000882</td>\n",
       "    </tr>\n",
       "    <tr>\n",
       "      <th>18</th>\n",
       "      <td>Discriminative DL</td>\n",
       "      <td>6</td>\n",
       "      <td>MAR</td>\n",
       "      <td>0.5</td>\n",
       "      <td>x-box</td>\n",
       "      <td>downstream_performance_mean</td>\n",
       "      <td>Classification Tasks</td>\n",
       "      <td>0.722137</td>\n",
       "      <td>0.660129</td>\n",
       "      <td>0.721248</td>\n",
       "      <td>...</td>\n",
       "      <td>734.0</td>\n",
       "      <td>17.0</td>\n",
       "      <td>20000.0</td>\n",
       "      <td>16.0</td>\n",
       "      <td>1.0</td>\n",
       "      <td>26.0</td>\n",
       "      <td>2.0</td>\n",
       "      <td>MAR - 0.5</td>\n",
       "      <td>MAR - 0.5 - 6</td>\n",
       "      <td>0.003476</td>\n",
       "    </tr>\n",
       "    <tr>\n",
       "      <th>21</th>\n",
       "      <td>Discriminative DL</td>\n",
       "      <td>6</td>\n",
       "      <td>MCAR</td>\n",
       "      <td>0.01</td>\n",
       "      <td>x-box</td>\n",
       "      <td>downstream_performance_mean</td>\n",
       "      <td>Classification Tasks</td>\n",
       "      <td>0.722137</td>\n",
       "      <td>0.721357</td>\n",
       "      <td>0.722314</td>\n",
       "      <td>...</td>\n",
       "      <td>734.0</td>\n",
       "      <td>17.0</td>\n",
       "      <td>20000.0</td>\n",
       "      <td>16.0</td>\n",
       "      <td>1.0</td>\n",
       "      <td>26.0</td>\n",
       "      <td>4.0</td>\n",
       "      <td>MCAR - 0.01</td>\n",
       "      <td>MCAR - 0.01 - 6</td>\n",
       "      <td>0.000071</td>\n",
       "    </tr>\n",
       "    <tr>\n",
       "      <th>...</th>\n",
       "      <td>...</td>\n",
       "      <td>...</td>\n",
       "      <td>...</td>\n",
       "      <td>...</td>\n",
       "      <td>...</td>\n",
       "      <td>...</td>\n",
       "      <td>...</td>\n",
       "      <td>...</td>\n",
       "      <td>...</td>\n",
       "      <td>...</td>\n",
       "      <td>...</td>\n",
       "      <td>...</td>\n",
       "      <td>...</td>\n",
       "      <td>...</td>\n",
       "      <td>...</td>\n",
       "      <td>...</td>\n",
       "      <td>...</td>\n",
       "      <td>...</td>\n",
       "      <td>...</td>\n",
       "      <td>...</td>\n",
       "      <td>...</td>\n",
       "    </tr>\n",
       "    <tr>\n",
       "      <th>1157</th>\n",
       "      <td>Discriminative DL</td>\n",
       "      <td>41671</td>\n",
       "      <td>MCAR</td>\n",
       "      <td>0.5</td>\n",
       "      <td>a9</td>\n",
       "      <td>downstream_performance_mean</td>\n",
       "      <td>Classification Tasks</td>\n",
       "      <td>0.241342</td>\n",
       "      <td>0.251922</td>\n",
       "      <td>0.241354</td>\n",
       "      <td>...</td>\n",
       "      <td>743.0</td>\n",
       "      <td>21.0</td>\n",
       "      <td>20000.0</td>\n",
       "      <td>20.0</td>\n",
       "      <td>1.0</td>\n",
       "      <td>5.0</td>\n",
       "      <td>1.0</td>\n",
       "      <td>MCAR - 0.5</td>\n",
       "      <td>MCAR - 0.5 - 41671</td>\n",
       "      <td>0.000000</td>\n",
       "    </tr>\n",
       "    <tr>\n",
       "      <th>1161</th>\n",
       "      <td>Discriminative DL</td>\n",
       "      <td>41671</td>\n",
       "      <td>MNAR</td>\n",
       "      <td>0.01</td>\n",
       "      <td>a9</td>\n",
       "      <td>downstream_performance_mean</td>\n",
       "      <td>Classification Tasks</td>\n",
       "      <td>0.241342</td>\n",
       "      <td>0.241122</td>\n",
       "      <td>0.241342</td>\n",
       "      <td>...</td>\n",
       "      <td>743.0</td>\n",
       "      <td>21.0</td>\n",
       "      <td>20000.0</td>\n",
       "      <td>20.0</td>\n",
       "      <td>1.0</td>\n",
       "      <td>5.0</td>\n",
       "      <td>2.0</td>\n",
       "      <td>MNAR - 0.01</td>\n",
       "      <td>MNAR - 0.01 - 41671</td>\n",
       "      <td>-0.020704</td>\n",
       "    </tr>\n",
       "    <tr>\n",
       "      <th>1167</th>\n",
       "      <td>Discriminative DL</td>\n",
       "      <td>41671</td>\n",
       "      <td>MNAR</td>\n",
       "      <td>0.1</td>\n",
       "      <td>a9</td>\n",
       "      <td>downstream_performance_mean</td>\n",
       "      <td>Classification Tasks</td>\n",
       "      <td>0.241342</td>\n",
       "      <td>0.244979</td>\n",
       "      <td>0.241013</td>\n",
       "      <td>...</td>\n",
       "      <td>743.0</td>\n",
       "      <td>21.0</td>\n",
       "      <td>20000.0</td>\n",
       "      <td>20.0</td>\n",
       "      <td>1.0</td>\n",
       "      <td>5.0</td>\n",
       "      <td>1.0</td>\n",
       "      <td>MNAR - 0.1</td>\n",
       "      <td>MNAR - 0.1 - 41671</td>\n",
       "      <td>0.000000</td>\n",
       "    </tr>\n",
       "    <tr>\n",
       "      <th>1172</th>\n",
       "      <td>Discriminative DL</td>\n",
       "      <td>41671</td>\n",
       "      <td>MNAR</td>\n",
       "      <td>0.3</td>\n",
       "      <td>a9</td>\n",
       "      <td>downstream_performance_mean</td>\n",
       "      <td>Classification Tasks</td>\n",
       "      <td>0.241342</td>\n",
       "      <td>0.251333</td>\n",
       "      <td>0.241342</td>\n",
       "      <td>...</td>\n",
       "      <td>743.0</td>\n",
       "      <td>21.0</td>\n",
       "      <td>20000.0</td>\n",
       "      <td>20.0</td>\n",
       "      <td>1.0</td>\n",
       "      <td>5.0</td>\n",
       "      <td>1.0</td>\n",
       "      <td>MNAR - 0.3</td>\n",
       "      <td>MNAR - 0.3 - 41671</td>\n",
       "      <td>0.000000</td>\n",
       "    </tr>\n",
       "    <tr>\n",
       "      <th>1177</th>\n",
       "      <td>Discriminative DL</td>\n",
       "      <td>41671</td>\n",
       "      <td>MNAR</td>\n",
       "      <td>0.5</td>\n",
       "      <td>a9</td>\n",
       "      <td>downstream_performance_mean</td>\n",
       "      <td>Classification Tasks</td>\n",
       "      <td>0.241342</td>\n",
       "      <td>0.255906</td>\n",
       "      <td>0.241344</td>\n",
       "      <td>...</td>\n",
       "      <td>743.0</td>\n",
       "      <td>21.0</td>\n",
       "      <td>20000.0</td>\n",
       "      <td>20.0</td>\n",
       "      <td>1.0</td>\n",
       "      <td>5.0</td>\n",
       "      <td>1.0</td>\n",
       "      <td>MNAR - 0.5</td>\n",
       "      <td>MNAR - 0.5 - 41671</td>\n",
       "      <td>0.000000</td>\n",
       "    </tr>\n",
       "  </tbody>\n",
       "</table>\n",
       "<p>203 rows × 24 columns</p>\n",
       "</div>"
      ],
      "text/plain": [
       "      Imputation_Method   Task Missing Type Missing Fraction Column  \\\n",
       "1     Discriminative DL      6          MAR             0.01  x-box   \n",
       "9     Discriminative DL      6          MAR              0.1  x-box   \n",
       "10    Discriminative DL      6          MAR              0.3  x-box   \n",
       "18    Discriminative DL      6          MAR              0.5  x-box   \n",
       "21    Discriminative DL      6         MCAR             0.01  x-box   \n",
       "...                 ...    ...          ...              ...    ...   \n",
       "1157  Discriminative DL  41671         MCAR              0.5     a9   \n",
       "1161  Discriminative DL  41671         MNAR             0.01     a9   \n",
       "1167  Discriminative DL  41671         MNAR              0.1     a9   \n",
       "1172  Discriminative DL  41671         MNAR              0.3     a9   \n",
       "1177  Discriminative DL  41671         MNAR              0.5     a9   \n",
       "\n",
       "                      result_type                metric  Baseline  Corrupted  \\\n",
       "1     downstream_performance_mean  Classification Tasks  0.722137   0.721631   \n",
       "9     downstream_performance_mean  Classification Tasks  0.722137   0.709453   \n",
       "10    downstream_performance_mean  Classification Tasks  0.722137   0.694927   \n",
       "18    downstream_performance_mean  Classification Tasks  0.722137   0.660129   \n",
       "21    downstream_performance_mean  Classification Tasks  0.722137   0.721357   \n",
       "...                           ...                   ...       ...        ...   \n",
       "1157  downstream_performance_mean  Classification Tasks  0.241342   0.251922   \n",
       "1161  downstream_performance_mean  Classification Tasks  0.241342   0.241122   \n",
       "1167  downstream_performance_mean  Classification Tasks  0.241342   0.244979   \n",
       "1172  downstream_performance_mean  Classification Tasks  0.241342   0.251333   \n",
       "1177  downstream_performance_mean  Classification Tasks  0.241342   0.255906   \n",
       "\n",
       "       Imputed  ...  MinorityClassSize  NumberOfFeatures NumberOfInstances  \\\n",
       "1     0.722056  ...              734.0              17.0           20000.0   \n",
       "9     0.722138  ...              734.0              17.0           20000.0   \n",
       "10    0.722148  ...              734.0              17.0           20000.0   \n",
       "18    0.721248  ...              734.0              17.0           20000.0   \n",
       "21    0.722314  ...              734.0              17.0           20000.0   \n",
       "...        ...  ...                ...               ...               ...   \n",
       "1157  0.241354  ...              743.0              21.0           20000.0   \n",
       "1161  0.241342  ...              743.0              21.0           20000.0   \n",
       "1167  0.241013  ...              743.0              21.0           20000.0   \n",
       "1172  0.241342  ...              743.0              21.0           20000.0   \n",
       "1177  0.241344  ...              743.0              21.0           20000.0   \n",
       "\n",
       "      NumberOfNumericFeatures  NumberOfCategoricalFeatures  NumberOfClasses  \\\n",
       "1                        16.0                          1.0             26.0   \n",
       "9                        16.0                          1.0             26.0   \n",
       "10                       16.0                          1.0             26.0   \n",
       "18                       16.0                          1.0             26.0   \n",
       "21                       16.0                          1.0             26.0   \n",
       "...                       ...                          ...              ...   \n",
       "1157                     20.0                          1.0              5.0   \n",
       "1161                     20.0                          1.0              5.0   \n",
       "1167                     20.0                          1.0              5.0   \n",
       "1172                     20.0                          1.0              5.0   \n",
       "1177                     20.0                          1.0              5.0   \n",
       "\n",
       "      Downstream Performance Rank  Data_Constellation  \\\n",
       "1                             4.0          MAR - 0.01   \n",
       "9                             1.0           MAR - 0.1   \n",
       "10                            5.0           MAR - 0.3   \n",
       "18                            2.0           MAR - 0.5   \n",
       "21                            4.0         MCAR - 0.01   \n",
       "...                           ...                 ...   \n",
       "1157                          1.0          MCAR - 0.5   \n",
       "1161                          2.0         MNAR - 0.01   \n",
       "1167                          1.0          MNAR - 0.1   \n",
       "1172                          1.0          MNAR - 0.3   \n",
       "1177                          1.0          MNAR - 0.5   \n",
       "\n",
       "      Data_Constellation_full  \\\n",
       "1              MAR - 0.01 - 6   \n",
       "9               MAR - 0.1 - 6   \n",
       "10              MAR - 0.3 - 6   \n",
       "18              MAR - 0.5 - 6   \n",
       "21            MCAR - 0.01 - 6   \n",
       "...                       ...   \n",
       "1157       MCAR - 0.5 - 41671   \n",
       "1161      MNAR - 0.01 - 41671   \n",
       "1167       MNAR - 0.1 - 41671   \n",
       "1172       MNAR - 0.3 - 41671   \n",
       "1177       MNAR - 0.5 - 41671   \n",
       "\n",
       "      Performance Difference to Best to Average in absolute  \n",
       "1                                              0.000191      \n",
       "9                                              0.000000      \n",
       "10                                             0.000882      \n",
       "18                                             0.003476      \n",
       "21                                             0.000071      \n",
       "...                                                 ...      \n",
       "1157                                           0.000000      \n",
       "1161                                          -0.020704      \n",
       "1167                                           0.000000      \n",
       "1172                                           0.000000      \n",
       "1177                                           0.000000      \n",
       "\n",
       "[203 rows x 24 columns]"
      ]
     },
     "execution_count": 160,
     "metadata": {},
     "output_type": "execute_result"
    }
   ],
   "source": [
    "# Relative Difference in absolute values (F1 Score) -> Best Method to Average Best Method\n",
    "\n",
    "AVERAGE_BEST_IMPUTATION_METHOD = \"Discriminative DL\"\n",
    "\n",
    "data = downstream_results_rank\n",
    "data['Task'] = data['Task'].astype(str)\n",
    "data['Data_Constellation_full'] = data['Data_Constellation'] + ' - ' + data['Task']\n",
    "\n",
    "# TODO: drop unnecessary columns here\n",
    "dc_unique = data.Data_Constellation_full.unique()\n",
    "#print(dc_unique)\n",
    "\n",
    "#data_constellations = ['MAR - 0.01', 'MAR - 0.1', 'MAR - 0.3', 'MCAR - 0.5', 'MCAR - 0.01', 'MCAR - 0.1', 'MCAR - 0.3', 'MCAR - 0.5', 'MNAR - 0.01', 'MNAR - 0.1', 'MNAR - 0.3', 'MNAR - 0.5']\n",
    "data_constellations = dc_unique.tolist()\n",
    "methods = ['Random Forest', 'KNN', 'Mean/Mode', 'VAE', 'GAIN', 'Discriminative DL']\n",
    "#print(data_constellations)\n",
    "#print(type(methods))\n",
    "average_best_total = pd.DataFrame()\n",
    "\n",
    "\n",
    "for i in data_constellations:\n",
    "    data_constel = data.loc[data['Data_Constellation_full'] == i]\n",
    "    best_score = data_constel.loc[data_constel['Downstream Performance Rank'] == 1.0]\n",
    "    average_best = data_constel.loc[data_constel['Imputation_Method'] == AVERAGE_BEST_IMPUTATION_METHOD]\n",
    "    if(average_best.empty == True):\n",
    "        print('empty')\n",
    "    else:\n",
    "        best_score_int = best_score.iloc[0]['Imputed']\n",
    "    #print(best_score_int)\n",
    "        average_best_int = average_best.iloc[0]['Imputed']\n",
    "    #print(average_best_int)\n",
    "        calc_result = (best_score_int - average_best_int)\n",
    "#    print(calc_result)\n",
    "#    print(i)\n",
    "        average_best['Performance Difference to Best to Average in absolute'] = calc_result\n",
    "        average_best_total = average_best_total.append(average_best)\n",
    " \n",
    "average_best_total\n"
   ]
  },
  {
   "cell_type": "code",
   "execution_count": 161,
   "id": "1d960678",
   "metadata": {},
   "outputs": [
    {
     "name": "stdout",
     "output_type": "stream",
     "text": [
      "0.0024169639950043483 average difference in absolut\n"
     ]
    }
   ],
   "source": [
    "average_difference = average_best_total['Performance Difference to Best to Average in absolute'].mean()\n",
    "print(average_difference, \"average difference in absolut\")"
   ]
  },
  {
   "cell_type": "code",
   "execution_count": null,
   "id": "65bfeb94",
   "metadata": {},
   "outputs": [],
   "source": []
  },
  {
   "cell_type": "code",
   "execution_count": null,
   "id": "56bae600",
   "metadata": {},
   "outputs": [],
   "source": []
  },
  {
   "cell_type": "code",
   "execution_count": null,
   "id": "205fdf8f",
   "metadata": {},
   "outputs": [],
   "source": []
  },
  {
   "cell_type": "markdown",
   "id": "6902ac71",
   "metadata": {},
   "source": [
    "## Heatmap (needs to be adjusted)"
   ]
  },
  {
   "cell_type": "code",
   "execution_count": 162,
   "id": "04fdcfab",
   "metadata": {},
   "outputs": [
    {
     "data": {
      "text/html": [
       "<div>\n",
       "<style scoped>\n",
       "    .dataframe tbody tr th:only-of-type {\n",
       "        vertical-align: middle;\n",
       "    }\n",
       "\n",
       "    .dataframe tbody tr th {\n",
       "        vertical-align: top;\n",
       "    }\n",
       "\n",
       "    .dataframe thead th {\n",
       "        text-align: right;\n",
       "    }\n",
       "</style>\n",
       "<table border=\"1\" class=\"dataframe\">\n",
       "  <thead>\n",
       "    <tr style=\"text-align: right;\">\n",
       "      <th></th>\n",
       "      <th>Unnamed: 0.1</th>\n",
       "      <th>Imputation_Method</th>\n",
       "      <th>Task</th>\n",
       "      <th>Improvement</th>\n",
       "      <th>NumberOfFeatures</th>\n",
       "      <th>NumberOfInstances</th>\n",
       "      <th>NumberOfNumericFeatures</th>\n",
       "      <th>NumberOfCategoricalFeatures</th>\n",
       "      <th>Downstream Performance Rank</th>\n",
       "      <th>Data_Constellation</th>\n",
       "    </tr>\n",
       "  </thead>\n",
       "  <tbody>\n",
       "    <tr>\n",
       "      <th>0</th>\n",
       "      <td>0</td>\n",
       "      <td>VAE</td>\n",
       "      <td>6</td>\n",
       "      <td>-0.000192</td>\n",
       "      <td>17.0</td>\n",
       "      <td>20000.0</td>\n",
       "      <td>16.0</td>\n",
       "      <td>1.0</td>\n",
       "      <td>5.0</td>\n",
       "      <td>MAR - 0.01</td>\n",
       "    </tr>\n",
       "    <tr>\n",
       "      <th>1</th>\n",
       "      <td>1</td>\n",
       "      <td>Discriminative DL</td>\n",
       "      <td>6</td>\n",
       "      <td>0.000588</td>\n",
       "      <td>17.0</td>\n",
       "      <td>20000.0</td>\n",
       "      <td>16.0</td>\n",
       "      <td>1.0</td>\n",
       "      <td>4.0</td>\n",
       "      <td>MAR - 0.01</td>\n",
       "    </tr>\n",
       "    <tr>\n",
       "      <th>2</th>\n",
       "      <td>2</td>\n",
       "      <td>Random Forest</td>\n",
       "      <td>6</td>\n",
       "      <td>0.000884</td>\n",
       "      <td>17.0</td>\n",
       "      <td>20000.0</td>\n",
       "      <td>16.0</td>\n",
       "      <td>1.0</td>\n",
       "      <td>3.0</td>\n",
       "      <td>MAR - 0.01</td>\n",
       "    </tr>\n",
       "    <tr>\n",
       "      <th>3</th>\n",
       "      <td>3</td>\n",
       "      <td>Mean/Mode</td>\n",
       "      <td>6</td>\n",
       "      <td>0.001471</td>\n",
       "      <td>17.0</td>\n",
       "      <td>20000.0</td>\n",
       "      <td>16.0</td>\n",
       "      <td>1.0</td>\n",
       "      <td>2.0</td>\n",
       "      <td>MAR - 0.01</td>\n",
       "    </tr>\n",
       "    <tr>\n",
       "      <th>4</th>\n",
       "      <td>4</td>\n",
       "      <td>KNN</td>\n",
       "      <td>6</td>\n",
       "      <td>0.002704</td>\n",
       "      <td>17.0</td>\n",
       "      <td>20000.0</td>\n",
       "      <td>16.0</td>\n",
       "      <td>1.0</td>\n",
       "      <td>1.0</td>\n",
       "      <td>MAR - 0.01</td>\n",
       "    </tr>\n",
       "    <tr>\n",
       "      <th>...</th>\n",
       "      <td>...</td>\n",
       "      <td>...</td>\n",
       "      <td>...</td>\n",
       "      <td>...</td>\n",
       "      <td>...</td>\n",
       "      <td>...</td>\n",
       "      <td>...</td>\n",
       "      <td>...</td>\n",
       "      <td>...</td>\n",
       "      <td>...</td>\n",
       "    </tr>\n",
       "    <tr>\n",
       "      <th>1173</th>\n",
       "      <td>1173</td>\n",
       "      <td>KNN</td>\n",
       "      <td>41671</td>\n",
       "      <td>-0.094887</td>\n",
       "      <td>21.0</td>\n",
       "      <td>20000.0</td>\n",
       "      <td>20.0</td>\n",
       "      <td>1.0</td>\n",
       "      <td>5.0</td>\n",
       "      <td>MNAR - 0.5</td>\n",
       "    </tr>\n",
       "    <tr>\n",
       "      <th>1174</th>\n",
       "      <td>1174</td>\n",
       "      <td>Random Forest</td>\n",
       "      <td>41671</td>\n",
       "      <td>-0.093526</td>\n",
       "      <td>21.0</td>\n",
       "      <td>20000.0</td>\n",
       "      <td>20.0</td>\n",
       "      <td>1.0</td>\n",
       "      <td>4.0</td>\n",
       "      <td>MNAR - 0.5</td>\n",
       "    </tr>\n",
       "    <tr>\n",
       "      <th>1175</th>\n",
       "      <td>1175</td>\n",
       "      <td>VAE</td>\n",
       "      <td>41671</td>\n",
       "      <td>-0.091875</td>\n",
       "      <td>21.0</td>\n",
       "      <td>20000.0</td>\n",
       "      <td>20.0</td>\n",
       "      <td>1.0</td>\n",
       "      <td>3.0</td>\n",
       "      <td>MNAR - 0.5</td>\n",
       "    </tr>\n",
       "    <tr>\n",
       "      <th>1176</th>\n",
       "      <td>1176</td>\n",
       "      <td>Mean/Mode</td>\n",
       "      <td>41671</td>\n",
       "      <td>-0.088478</td>\n",
       "      <td>21.0</td>\n",
       "      <td>20000.0</td>\n",
       "      <td>20.0</td>\n",
       "      <td>1.0</td>\n",
       "      <td>2.0</td>\n",
       "      <td>MNAR - 0.5</td>\n",
       "    </tr>\n",
       "    <tr>\n",
       "      <th>1177</th>\n",
       "      <td>1177</td>\n",
       "      <td>Discriminative DL</td>\n",
       "      <td>41671</td>\n",
       "      <td>-0.060338</td>\n",
       "      <td>21.0</td>\n",
       "      <td>20000.0</td>\n",
       "      <td>20.0</td>\n",
       "      <td>1.0</td>\n",
       "      <td>1.0</td>\n",
       "      <td>MNAR - 0.5</td>\n",
       "    </tr>\n",
       "  </tbody>\n",
       "</table>\n",
       "<p>1178 rows × 10 columns</p>\n",
       "</div>"
      ],
      "text/plain": [
       "      Unnamed: 0.1  Imputation_Method   Task  Improvement  NumberOfFeatures  \\\n",
       "0                0                VAE      6    -0.000192              17.0   \n",
       "1                1  Discriminative DL      6     0.000588              17.0   \n",
       "2                2      Random Forest      6     0.000884              17.0   \n",
       "3                3          Mean/Mode      6     0.001471              17.0   \n",
       "4                4                KNN      6     0.002704              17.0   \n",
       "...            ...                ...    ...          ...               ...   \n",
       "1173          1173                KNN  41671    -0.094887              21.0   \n",
       "1174          1174      Random Forest  41671    -0.093526              21.0   \n",
       "1175          1175                VAE  41671    -0.091875              21.0   \n",
       "1176          1176          Mean/Mode  41671    -0.088478              21.0   \n",
       "1177          1177  Discriminative DL  41671    -0.060338              21.0   \n",
       "\n",
       "      NumberOfInstances  NumberOfNumericFeatures  NumberOfCategoricalFeatures  \\\n",
       "0               20000.0                     16.0                          1.0   \n",
       "1               20000.0                     16.0                          1.0   \n",
       "2               20000.0                     16.0                          1.0   \n",
       "3               20000.0                     16.0                          1.0   \n",
       "4               20000.0                     16.0                          1.0   \n",
       "...                 ...                      ...                          ...   \n",
       "1173            20000.0                     20.0                          1.0   \n",
       "1174            20000.0                     20.0                          1.0   \n",
       "1175            20000.0                     20.0                          1.0   \n",
       "1176            20000.0                     20.0                          1.0   \n",
       "1177            20000.0                     20.0                          1.0   \n",
       "\n",
       "      Downstream Performance Rank Data_Constellation  \n",
       "0                             5.0         MAR - 0.01  \n",
       "1                             4.0         MAR - 0.01  \n",
       "2                             3.0         MAR - 0.01  \n",
       "3                             2.0         MAR - 0.01  \n",
       "4                             1.0         MAR - 0.01  \n",
       "...                           ...                ...  \n",
       "1173                          5.0         MNAR - 0.5  \n",
       "1174                          4.0         MNAR - 0.5  \n",
       "1175                          3.0         MNAR - 0.5  \n",
       "1176                          2.0         MNAR - 0.5  \n",
       "1177                          1.0         MNAR - 0.5  \n",
       "\n",
       "[1178 rows x 10 columns]"
      ]
     },
     "execution_count": 162,
     "metadata": {},
     "output_type": "execute_result"
    }
   ],
   "source": [
    "df_heat = pd.read_csv('downstream_results_rank_temp.csv')\n",
    "#df_heat = downstream_results_rank\n",
    "df_heat.drop([\"Missing Type\", \"Missing Fraction\", \"Column\", \"result_type\", \"metric\", \"Baseline\", \"Imputed\", \"Corrupted\", \"Unnamed: 0\", \"Unnamed: 0\", \"name\", \"NumberOfClasses\", \"MajorityClassSize\", \"MinorityClassSize\"], axis=1, inplace=True)\n",
    "#df_heat['Improvement'] = df_heat['Improvement'] -1\n",
    "df_heat"
   ]
  },
  {
   "cell_type": "code",
   "execution_count": 163,
   "id": "2f5d3f97",
   "metadata": {
    "scrolled": true
   },
   "outputs": [
    {
     "data": {
      "application/vnd.plotly.v1+json": {
       "config": {
        "plotlyServerURL": "https://plot.ly"
       },
       "data": [
        {
         "autocolorscale": false,
         "colorscale": [
          [
           0,
           "rgb(5,48,97)"
          ],
          [
           0.1,
           "rgb(33,102,172)"
          ],
          [
           0.2,
           "rgb(67,147,195)"
          ],
          [
           0.3,
           "rgb(146,197,222)"
          ],
          [
           0.4,
           "rgb(209,229,240)"
          ],
          [
           0.5,
           "rgb(247,247,247)"
          ],
          [
           0.6,
           "rgb(253,219,199)"
          ],
          [
           0.7,
           "rgb(244,165,130)"
          ],
          [
           0.8,
           "rgb(214,96,77)"
          ],
          [
           0.9,
           "rgb(178,24,43)"
          ],
          [
           1,
           "rgb(103,0,31)"
          ]
         ],
         "type": "heatmap",
         "x": [
          "40677",
          "40677",
          "40677",
          "40677",
          "40677",
          "40677",
          "40497",
          "40497",
          "40497",
          "40497",
          "40497",
          "40497",
          "183",
          "183",
          "183",
          "183",
          "183",
          "183",
          "40498",
          "40498",
          "40498",
          "40498",
          "40498",
          "40498",
          "1526",
          "1526",
          "1526",
          "1526",
          "1526",
          "1526",
          "30",
          "30",
          "30",
          "30",
          "30",
          "30",
          "4552",
          "4552",
          "4552",
          "4552",
          "4552",
          "4552",
          "375",
          "375",
          "375",
          "375",
          "375",
          "375",
          "1459",
          "1459",
          "1459",
          "1459",
          "1459",
          "1459",
          "32",
          "32",
          "32",
          "32",
          "32",
          "32",
          "26",
          "26",
          "26",
          "26",
          "26",
          "26",
          "41671",
          "41671",
          "41671",
          "6",
          "41671",
          "6",
          "6",
          "41671",
          "6",
          "6",
          "1481",
          "1481",
          "184",
          "184",
          "1481",
          "184",
          "184",
          "1481",
          "184",
          "1481",
          "1481",
          "184",
          "41027",
          "41027",
          "41027",
          "41027",
          "41027",
          "40685",
          "40685",
          "40685",
          "40685",
          "40685"
         ],
         "y": [
          "Discriminative DL",
          "KNN",
          "VAE",
          "Mean/Mode",
          "GAIN",
          "Random Forest",
          "Mean/Mode",
          "KNN",
          "VAE",
          "Discriminative DL",
          "Random Forest",
          "GAIN",
          "Mean/Mode",
          "GAIN",
          "Discriminative DL",
          "KNN",
          "VAE",
          "Random Forest",
          "GAIN",
          "Random Forest",
          "Mean/Mode",
          "VAE",
          "Discriminative DL",
          "KNN",
          "KNN",
          "Mean/Mode",
          "Random Forest",
          "Discriminative DL",
          "GAIN",
          "VAE",
          "GAIN",
          "Discriminative DL",
          "Random Forest",
          "KNN",
          "VAE",
          "Mean/Mode",
          "GAIN",
          "VAE",
          "KNN",
          "Mean/Mode",
          "Discriminative DL",
          "Random Forest",
          "VAE",
          "Discriminative DL",
          "Mean/Mode",
          "KNN",
          "Random Forest",
          "GAIN",
          "Discriminative DL",
          "VAE",
          "Mean/Mode",
          "GAIN",
          "Random Forest",
          "KNN",
          "Random Forest",
          "VAE",
          "GAIN",
          "Discriminative DL",
          "KNN",
          "Mean/Mode",
          "Discriminative DL",
          "Random Forest",
          "Mean/Mode",
          "KNN",
          "VAE",
          "GAIN",
          "Random Forest",
          "KNN",
          "VAE",
          "VAE",
          "Mean/Mode",
          "Discriminative DL",
          "Random Forest",
          "Discriminative DL",
          "Mean/Mode",
          "KNN",
          "VAE",
          "Mean/Mode",
          "GAIN",
          "VAE",
          "Discriminative DL",
          "Discriminative DL",
          "Random Forest",
          "KNN",
          "Mean/Mode",
          "GAIN",
          "Random Forest",
          "KNN",
          "Random Forest",
          "Mean/Mode",
          "VAE",
          "Discriminative DL",
          "KNN",
          "VAE",
          "Mean/Mode",
          "Random Forest",
          "KNN",
          "Discriminative DL"
         ],
         "z": [
          0.0014254649387185,
          0.0007895637893207,
          9.06926312214959e-06,
          0.0021862452717387,
          -0.0007113048826151,
          -0.00111426180566,
          0,
          0,
          0,
          0,
          0,
          0,
          -0.0113382585888675,
          0.0185956383559616,
          0.0034969376635633,
          0.0010684900836534,
          -0.0053484349545678,
          -0.0116465930898014,
          0.0052879233796441,
          0.0079824216334295,
          0.0121208307429341,
          0.0021945343928622,
          0.002695335670192,
          0.0132004729730886,
          -5.4403600070978896e-05,
          0.007933617193938,
          0,
          0.0039166103827017,
          0.0016769646608895,
          0.0004572429111074,
          -0.0062563748803741,
          0,
          0,
          0,
          0,
          0.0009533334237293,
          0,
          0.0007700607214778,
          0.0023311484073707,
          0.0024710203255513,
          -0.0002574217959788,
          0,
          0.0006091694735003,
          0.0014566806255488,
          0.0009973259772336,
          0.0005920738872761,
          0.0004439344940252,
          -0.0009586141620486,
          0.0073525517026963,
          0.0084420180952225,
          0.0084810114406646,
          0.0050300407318378,
          0.0065211720867089,
          0.0100889459017572,
          0.0041894771089262,
          0.0045036156067291,
          0.0016116917167697,
          0.0019521098442405,
          0.0023128562575135,
          0.0028464512112042,
          -0.0009373207622442,
          -0.0008105242904605,
          -0.0006802643987517,
          -0.0005351797414204,
          -7.785457382210838e-07,
          -0.001073511150997,
          -0.0032734433455356,
          -0.002129312541551,
          -0.0021267350311745,
          -0.0001921396442263,
          0.0006383510627211,
          0.0005876881117782,
          0.0008840494939796,
          -0.0018698705522168,
          0.0014710339114351,
          0.0027043229796116,
          0.0026532161951162,
          0.0029836421301428,
          -0.0021869107672827,
          -0.0018396809817772,
          0.0009505741466641,
          7.947399143786859e-05,
          0.0002239605661802,
          0.0012760468768872,
          0.0006271280072586,
          0.0011178601674251,
          -0.0004861109913402,
          -0.0007751116093531,
          0.0006738325849649,
          0.0003539516540883,
          0.0001763108938206,
          0.000170336167889,
          0.0002830294796413,
          0,
          0,
          0,
          -2.3804659030866728e-05,
          0
         ],
         "zmid": 0
        }
       ],
       "layout": {
        "template": {
         "data": {
          "bar": [
           {
            "error_x": {
             "color": "#2a3f5f"
            },
            "error_y": {
             "color": "#2a3f5f"
            },
            "marker": {
             "line": {
              "color": "#E5ECF6",
              "width": 0.5
             },
             "pattern": {
              "fillmode": "overlay",
              "size": 10,
              "solidity": 0.2
             }
            },
            "type": "bar"
           }
          ],
          "barpolar": [
           {
            "marker": {
             "line": {
              "color": "#E5ECF6",
              "width": 0.5
             },
             "pattern": {
              "fillmode": "overlay",
              "size": 10,
              "solidity": 0.2
             }
            },
            "type": "barpolar"
           }
          ],
          "carpet": [
           {
            "aaxis": {
             "endlinecolor": "#2a3f5f",
             "gridcolor": "white",
             "linecolor": "white",
             "minorgridcolor": "white",
             "startlinecolor": "#2a3f5f"
            },
            "baxis": {
             "endlinecolor": "#2a3f5f",
             "gridcolor": "white",
             "linecolor": "white",
             "minorgridcolor": "white",
             "startlinecolor": "#2a3f5f"
            },
            "type": "carpet"
           }
          ],
          "choropleth": [
           {
            "colorbar": {
             "outlinewidth": 0,
             "ticks": ""
            },
            "type": "choropleth"
           }
          ],
          "contour": [
           {
            "colorbar": {
             "outlinewidth": 0,
             "ticks": ""
            },
            "colorscale": [
             [
              0,
              "#0d0887"
             ],
             [
              0.1111111111111111,
              "#46039f"
             ],
             [
              0.2222222222222222,
              "#7201a8"
             ],
             [
              0.3333333333333333,
              "#9c179e"
             ],
             [
              0.4444444444444444,
              "#bd3786"
             ],
             [
              0.5555555555555556,
              "#d8576b"
             ],
             [
              0.6666666666666666,
              "#ed7953"
             ],
             [
              0.7777777777777778,
              "#fb9f3a"
             ],
             [
              0.8888888888888888,
              "#fdca26"
             ],
             [
              1,
              "#f0f921"
             ]
            ],
            "type": "contour"
           }
          ],
          "contourcarpet": [
           {
            "colorbar": {
             "outlinewidth": 0,
             "ticks": ""
            },
            "type": "contourcarpet"
           }
          ],
          "heatmap": [
           {
            "colorbar": {
             "outlinewidth": 0,
             "ticks": ""
            },
            "colorscale": [
             [
              0,
              "#0d0887"
             ],
             [
              0.1111111111111111,
              "#46039f"
             ],
             [
              0.2222222222222222,
              "#7201a8"
             ],
             [
              0.3333333333333333,
              "#9c179e"
             ],
             [
              0.4444444444444444,
              "#bd3786"
             ],
             [
              0.5555555555555556,
              "#d8576b"
             ],
             [
              0.6666666666666666,
              "#ed7953"
             ],
             [
              0.7777777777777778,
              "#fb9f3a"
             ],
             [
              0.8888888888888888,
              "#fdca26"
             ],
             [
              1,
              "#f0f921"
             ]
            ],
            "type": "heatmap"
           }
          ],
          "heatmapgl": [
           {
            "colorbar": {
             "outlinewidth": 0,
             "ticks": ""
            },
            "colorscale": [
             [
              0,
              "#0d0887"
             ],
             [
              0.1111111111111111,
              "#46039f"
             ],
             [
              0.2222222222222222,
              "#7201a8"
             ],
             [
              0.3333333333333333,
              "#9c179e"
             ],
             [
              0.4444444444444444,
              "#bd3786"
             ],
             [
              0.5555555555555556,
              "#d8576b"
             ],
             [
              0.6666666666666666,
              "#ed7953"
             ],
             [
              0.7777777777777778,
              "#fb9f3a"
             ],
             [
              0.8888888888888888,
              "#fdca26"
             ],
             [
              1,
              "#f0f921"
             ]
            ],
            "type": "heatmapgl"
           }
          ],
          "histogram": [
           {
            "marker": {
             "pattern": {
              "fillmode": "overlay",
              "size": 10,
              "solidity": 0.2
             }
            },
            "type": "histogram"
           }
          ],
          "histogram2d": [
           {
            "colorbar": {
             "outlinewidth": 0,
             "ticks": ""
            },
            "colorscale": [
             [
              0,
              "#0d0887"
             ],
             [
              0.1111111111111111,
              "#46039f"
             ],
             [
              0.2222222222222222,
              "#7201a8"
             ],
             [
              0.3333333333333333,
              "#9c179e"
             ],
             [
              0.4444444444444444,
              "#bd3786"
             ],
             [
              0.5555555555555556,
              "#d8576b"
             ],
             [
              0.6666666666666666,
              "#ed7953"
             ],
             [
              0.7777777777777778,
              "#fb9f3a"
             ],
             [
              0.8888888888888888,
              "#fdca26"
             ],
             [
              1,
              "#f0f921"
             ]
            ],
            "type": "histogram2d"
           }
          ],
          "histogram2dcontour": [
           {
            "colorbar": {
             "outlinewidth": 0,
             "ticks": ""
            },
            "colorscale": [
             [
              0,
              "#0d0887"
             ],
             [
              0.1111111111111111,
              "#46039f"
             ],
             [
              0.2222222222222222,
              "#7201a8"
             ],
             [
              0.3333333333333333,
              "#9c179e"
             ],
             [
              0.4444444444444444,
              "#bd3786"
             ],
             [
              0.5555555555555556,
              "#d8576b"
             ],
             [
              0.6666666666666666,
              "#ed7953"
             ],
             [
              0.7777777777777778,
              "#fb9f3a"
             ],
             [
              0.8888888888888888,
              "#fdca26"
             ],
             [
              1,
              "#f0f921"
             ]
            ],
            "type": "histogram2dcontour"
           }
          ],
          "mesh3d": [
           {
            "colorbar": {
             "outlinewidth": 0,
             "ticks": ""
            },
            "type": "mesh3d"
           }
          ],
          "parcoords": [
           {
            "line": {
             "colorbar": {
              "outlinewidth": 0,
              "ticks": ""
             }
            },
            "type": "parcoords"
           }
          ],
          "pie": [
           {
            "automargin": true,
            "type": "pie"
           }
          ],
          "scatter": [
           {
            "fillpattern": {
             "fillmode": "overlay",
             "size": 10,
             "solidity": 0.2
            },
            "type": "scatter"
           }
          ],
          "scatter3d": [
           {
            "line": {
             "colorbar": {
              "outlinewidth": 0,
              "ticks": ""
             }
            },
            "marker": {
             "colorbar": {
              "outlinewidth": 0,
              "ticks": ""
             }
            },
            "type": "scatter3d"
           }
          ],
          "scattercarpet": [
           {
            "marker": {
             "colorbar": {
              "outlinewidth": 0,
              "ticks": ""
             }
            },
            "type": "scattercarpet"
           }
          ],
          "scattergeo": [
           {
            "marker": {
             "colorbar": {
              "outlinewidth": 0,
              "ticks": ""
             }
            },
            "type": "scattergeo"
           }
          ],
          "scattergl": [
           {
            "marker": {
             "colorbar": {
              "outlinewidth": 0,
              "ticks": ""
             }
            },
            "type": "scattergl"
           }
          ],
          "scattermapbox": [
           {
            "marker": {
             "colorbar": {
              "outlinewidth": 0,
              "ticks": ""
             }
            },
            "type": "scattermapbox"
           }
          ],
          "scatterpolar": [
           {
            "marker": {
             "colorbar": {
              "outlinewidth": 0,
              "ticks": ""
             }
            },
            "type": "scatterpolar"
           }
          ],
          "scatterpolargl": [
           {
            "marker": {
             "colorbar": {
              "outlinewidth": 0,
              "ticks": ""
             }
            },
            "type": "scatterpolargl"
           }
          ],
          "scatterternary": [
           {
            "marker": {
             "colorbar": {
              "outlinewidth": 0,
              "ticks": ""
             }
            },
            "type": "scatterternary"
           }
          ],
          "surface": [
           {
            "colorbar": {
             "outlinewidth": 0,
             "ticks": ""
            },
            "colorscale": [
             [
              0,
              "#0d0887"
             ],
             [
              0.1111111111111111,
              "#46039f"
             ],
             [
              0.2222222222222222,
              "#7201a8"
             ],
             [
              0.3333333333333333,
              "#9c179e"
             ],
             [
              0.4444444444444444,
              "#bd3786"
             ],
             [
              0.5555555555555556,
              "#d8576b"
             ],
             [
              0.6666666666666666,
              "#ed7953"
             ],
             [
              0.7777777777777778,
              "#fb9f3a"
             ],
             [
              0.8888888888888888,
              "#fdca26"
             ],
             [
              1,
              "#f0f921"
             ]
            ],
            "type": "surface"
           }
          ],
          "table": [
           {
            "cells": {
             "fill": {
              "color": "#EBF0F8"
             },
             "line": {
              "color": "white"
             }
            },
            "header": {
             "fill": {
              "color": "#C8D4E3"
             },
             "line": {
              "color": "white"
             }
            },
            "type": "table"
           }
          ]
         },
         "layout": {
          "annotationdefaults": {
           "arrowcolor": "#2a3f5f",
           "arrowhead": 0,
           "arrowwidth": 1
          },
          "autotypenumbers": "strict",
          "coloraxis": {
           "colorbar": {
            "outlinewidth": 0,
            "ticks": ""
           }
          },
          "colorscale": {
           "diverging": [
            [
             0,
             "#8e0152"
            ],
            [
             0.1,
             "#c51b7d"
            ],
            [
             0.2,
             "#de77ae"
            ],
            [
             0.3,
             "#f1b6da"
            ],
            [
             0.4,
             "#fde0ef"
            ],
            [
             0.5,
             "#f7f7f7"
            ],
            [
             0.6,
             "#e6f5d0"
            ],
            [
             0.7,
             "#b8e186"
            ],
            [
             0.8,
             "#7fbc41"
            ],
            [
             0.9,
             "#4d9221"
            ],
            [
             1,
             "#276419"
            ]
           ],
           "sequential": [
            [
             0,
             "#0d0887"
            ],
            [
             0.1111111111111111,
             "#46039f"
            ],
            [
             0.2222222222222222,
             "#7201a8"
            ],
            [
             0.3333333333333333,
             "#9c179e"
            ],
            [
             0.4444444444444444,
             "#bd3786"
            ],
            [
             0.5555555555555556,
             "#d8576b"
            ],
            [
             0.6666666666666666,
             "#ed7953"
            ],
            [
             0.7777777777777778,
             "#fb9f3a"
            ],
            [
             0.8888888888888888,
             "#fdca26"
            ],
            [
             1,
             "#f0f921"
            ]
           ],
           "sequentialminus": [
            [
             0,
             "#0d0887"
            ],
            [
             0.1111111111111111,
             "#46039f"
            ],
            [
             0.2222222222222222,
             "#7201a8"
            ],
            [
             0.3333333333333333,
             "#9c179e"
            ],
            [
             0.4444444444444444,
             "#bd3786"
            ],
            [
             0.5555555555555556,
             "#d8576b"
            ],
            [
             0.6666666666666666,
             "#ed7953"
            ],
            [
             0.7777777777777778,
             "#fb9f3a"
            ],
            [
             0.8888888888888888,
             "#fdca26"
            ],
            [
             1,
             "#f0f921"
            ]
           ]
          },
          "colorway": [
           "#636efa",
           "#EF553B",
           "#00cc96",
           "#ab63fa",
           "#FFA15A",
           "#19d3f3",
           "#FF6692",
           "#B6E880",
           "#FF97FF",
           "#FECB52"
          ],
          "font": {
           "color": "#2a3f5f"
          },
          "geo": {
           "bgcolor": "white",
           "lakecolor": "white",
           "landcolor": "#E5ECF6",
           "showlakes": true,
           "showland": true,
           "subunitcolor": "white"
          },
          "hoverlabel": {
           "align": "left"
          },
          "hovermode": "closest",
          "mapbox": {
           "style": "light"
          },
          "paper_bgcolor": "white",
          "plot_bgcolor": "#E5ECF6",
          "polar": {
           "angularaxis": {
            "gridcolor": "white",
            "linecolor": "white",
            "ticks": ""
           },
           "bgcolor": "#E5ECF6",
           "radialaxis": {
            "gridcolor": "white",
            "linecolor": "white",
            "ticks": ""
           }
          },
          "scene": {
           "xaxis": {
            "backgroundcolor": "#E5ECF6",
            "gridcolor": "white",
            "gridwidth": 2,
            "linecolor": "white",
            "showbackground": true,
            "ticks": "",
            "zerolinecolor": "white"
           },
           "yaxis": {
            "backgroundcolor": "#E5ECF6",
            "gridcolor": "white",
            "gridwidth": 2,
            "linecolor": "white",
            "showbackground": true,
            "ticks": "",
            "zerolinecolor": "white"
           },
           "zaxis": {
            "backgroundcolor": "#E5ECF6",
            "gridcolor": "white",
            "gridwidth": 2,
            "linecolor": "white",
            "showbackground": true,
            "ticks": "",
            "zerolinecolor": "white"
           }
          },
          "shapedefaults": {
           "line": {
            "color": "#2a3f5f"
           }
          },
          "ternary": {
           "aaxis": {
            "gridcolor": "white",
            "linecolor": "white",
            "ticks": ""
           },
           "baxis": {
            "gridcolor": "white",
            "linecolor": "white",
            "ticks": ""
           },
           "bgcolor": "#E5ECF6",
           "caxis": {
            "gridcolor": "white",
            "linecolor": "white",
            "ticks": ""
           }
          },
          "title": {
           "x": 0.05
          },
          "xaxis": {
           "automargin": true,
           "gridcolor": "white",
           "linecolor": "white",
           "ticks": "",
           "title": {
            "standoff": 15
           },
           "zerolinecolor": "white",
           "zerolinewidth": 2
          },
          "yaxis": {
           "automargin": true,
           "gridcolor": "white",
           "linecolor": "white",
           "ticks": "",
           "title": {
            "standoff": 15
           },
           "zerolinecolor": "white",
           "zerolinewidth": 2
          }
         }
        },
        "title": {
         "text": "MAR - 0.01"
        },
        "xaxis": {
         "nticks": 36
        }
       }
      },
      "text/html": [
       "<div>                            <div id=\"b0417659-5227-426a-b4bd-320648226637\" class=\"plotly-graph-div\" style=\"height:525px; width:100%;\"></div>            <script type=\"text/javascript\">                require([\"plotly\"], function(Plotly) {                    window.PLOTLYENV=window.PLOTLYENV || {};                                    if (document.getElementById(\"b0417659-5227-426a-b4bd-320648226637\")) {                    Plotly.newPlot(                        \"b0417659-5227-426a-b4bd-320648226637\",                        [{\"autocolorscale\":false,\"colorscale\":[[0.0,\"rgb(5,48,97)\"],[0.1,\"rgb(33,102,172)\"],[0.2,\"rgb(67,147,195)\"],[0.3,\"rgb(146,197,222)\"],[0.4,\"rgb(209,229,240)\"],[0.5,\"rgb(247,247,247)\"],[0.6,\"rgb(253,219,199)\"],[0.7,\"rgb(244,165,130)\"],[0.8,\"rgb(214,96,77)\"],[0.9,\"rgb(178,24,43)\"],[1.0,\"rgb(103,0,31)\"]],\"x\":[\"40677\",\"40677\",\"40677\",\"40677\",\"40677\",\"40677\",\"40497\",\"40497\",\"40497\",\"40497\",\"40497\",\"40497\",\"183\",\"183\",\"183\",\"183\",\"183\",\"183\",\"40498\",\"40498\",\"40498\",\"40498\",\"40498\",\"40498\",\"1526\",\"1526\",\"1526\",\"1526\",\"1526\",\"1526\",\"30\",\"30\",\"30\",\"30\",\"30\",\"30\",\"4552\",\"4552\",\"4552\",\"4552\",\"4552\",\"4552\",\"375\",\"375\",\"375\",\"375\",\"375\",\"375\",\"1459\",\"1459\",\"1459\",\"1459\",\"1459\",\"1459\",\"32\",\"32\",\"32\",\"32\",\"32\",\"32\",\"26\",\"26\",\"26\",\"26\",\"26\",\"26\",\"41671\",\"41671\",\"41671\",\"6\",\"41671\",\"6\",\"6\",\"41671\",\"6\",\"6\",\"1481\",\"1481\",\"184\",\"184\",\"1481\",\"184\",\"184\",\"1481\",\"184\",\"1481\",\"1481\",\"184\",\"41027\",\"41027\",\"41027\",\"41027\",\"41027\",\"40685\",\"40685\",\"40685\",\"40685\",\"40685\"],\"y\":[\"Discriminative DL\",\"KNN\",\"VAE\",\"Mean/Mode\",\"GAIN\",\"Random Forest\",\"Mean/Mode\",\"KNN\",\"VAE\",\"Discriminative DL\",\"Random Forest\",\"GAIN\",\"Mean/Mode\",\"GAIN\",\"Discriminative DL\",\"KNN\",\"VAE\",\"Random Forest\",\"GAIN\",\"Random Forest\",\"Mean/Mode\",\"VAE\",\"Discriminative DL\",\"KNN\",\"KNN\",\"Mean/Mode\",\"Random Forest\",\"Discriminative DL\",\"GAIN\",\"VAE\",\"GAIN\",\"Discriminative DL\",\"Random Forest\",\"KNN\",\"VAE\",\"Mean/Mode\",\"GAIN\",\"VAE\",\"KNN\",\"Mean/Mode\",\"Discriminative DL\",\"Random Forest\",\"VAE\",\"Discriminative DL\",\"Mean/Mode\",\"KNN\",\"Random Forest\",\"GAIN\",\"Discriminative DL\",\"VAE\",\"Mean/Mode\",\"GAIN\",\"Random Forest\",\"KNN\",\"Random Forest\",\"VAE\",\"GAIN\",\"Discriminative DL\",\"KNN\",\"Mean/Mode\",\"Discriminative DL\",\"Random Forest\",\"Mean/Mode\",\"KNN\",\"VAE\",\"GAIN\",\"Random Forest\",\"KNN\",\"VAE\",\"VAE\",\"Mean/Mode\",\"Discriminative DL\",\"Random Forest\",\"Discriminative DL\",\"Mean/Mode\",\"KNN\",\"VAE\",\"Mean/Mode\",\"GAIN\",\"VAE\",\"Discriminative DL\",\"Discriminative DL\",\"Random Forest\",\"KNN\",\"Mean/Mode\",\"GAIN\",\"Random Forest\",\"KNN\",\"Random Forest\",\"Mean/Mode\",\"VAE\",\"Discriminative DL\",\"KNN\",\"VAE\",\"Mean/Mode\",\"Random Forest\",\"KNN\",\"Discriminative DL\"],\"z\":[0.0014254649387185,0.0007895637893207,9.06926312214959e-06,0.0021862452717387,-0.0007113048826151,-0.00111426180566,0.0,0.0,0.0,0.0,0.0,0.0,-0.0113382585888675,0.0185956383559616,0.0034969376635633,0.0010684900836534,-0.0053484349545678,-0.0116465930898014,0.0052879233796441,0.0079824216334295,0.0121208307429341,0.0021945343928622,0.002695335670192,0.0132004729730886,-5.4403600070978896e-05,0.007933617193938,0.0,0.0039166103827017,0.0016769646608895,0.0004572429111074,-0.0062563748803741,0.0,0.0,0.0,0.0,0.0009533334237293,0.0,0.0007700607214778,0.0023311484073707,0.0024710203255513,-0.0002574217959788,0.0,0.0006091694735003,0.0014566806255488,0.0009973259772336,0.0005920738872761,0.0004439344940252,-0.0009586141620486,0.0073525517026963,0.0084420180952225,0.0084810114406646,0.0050300407318378,0.0065211720867089,0.0100889459017572,0.0041894771089262,0.0045036156067291,0.0016116917167697,0.0019521098442405,0.0023128562575135,0.0028464512112042,-0.0009373207622442,-0.0008105242904605,-0.0006802643987517,-0.0005351797414204,-7.785457382210838e-07,-0.001073511150997,-0.0032734433455356,-0.002129312541551,-0.0021267350311745,-0.0001921396442263,0.0006383510627211,0.0005876881117782,0.0008840494939796,-0.0018698705522168,0.0014710339114351,0.0027043229796116,0.0026532161951162,0.0029836421301428,-0.0021869107672827,-0.0018396809817772,0.0009505741466641,7.947399143786859e-05,0.0002239605661802,0.0012760468768872,0.0006271280072586,0.0011178601674251,-0.0004861109913402,-0.0007751116093531,0.0006738325849649,0.0003539516540883,0.0001763108938206,0.000170336167889,0.0002830294796413,0.0,0.0,0.0,-2.3804659030866728e-05,0.0],\"zmid\":0,\"type\":\"heatmap\"}],                        {\"template\":{\"data\":{\"histogram2dcontour\":[{\"type\":\"histogram2dcontour\",\"colorbar\":{\"outlinewidth\":0,\"ticks\":\"\"},\"colorscale\":[[0.0,\"#0d0887\"],[0.1111111111111111,\"#46039f\"],[0.2222222222222222,\"#7201a8\"],[0.3333333333333333,\"#9c179e\"],[0.4444444444444444,\"#bd3786\"],[0.5555555555555556,\"#d8576b\"],[0.6666666666666666,\"#ed7953\"],[0.7777777777777778,\"#fb9f3a\"],[0.8888888888888888,\"#fdca26\"],[1.0,\"#f0f921\"]]}],\"choropleth\":[{\"type\":\"choropleth\",\"colorbar\":{\"outlinewidth\":0,\"ticks\":\"\"}}],\"histogram2d\":[{\"type\":\"histogram2d\",\"colorbar\":{\"outlinewidth\":0,\"ticks\":\"\"},\"colorscale\":[[0.0,\"#0d0887\"],[0.1111111111111111,\"#46039f\"],[0.2222222222222222,\"#7201a8\"],[0.3333333333333333,\"#9c179e\"],[0.4444444444444444,\"#bd3786\"],[0.5555555555555556,\"#d8576b\"],[0.6666666666666666,\"#ed7953\"],[0.7777777777777778,\"#fb9f3a\"],[0.8888888888888888,\"#fdca26\"],[1.0,\"#f0f921\"]]}],\"heatmap\":[{\"type\":\"heatmap\",\"colorbar\":{\"outlinewidth\":0,\"ticks\":\"\"},\"colorscale\":[[0.0,\"#0d0887\"],[0.1111111111111111,\"#46039f\"],[0.2222222222222222,\"#7201a8\"],[0.3333333333333333,\"#9c179e\"],[0.4444444444444444,\"#bd3786\"],[0.5555555555555556,\"#d8576b\"],[0.6666666666666666,\"#ed7953\"],[0.7777777777777778,\"#fb9f3a\"],[0.8888888888888888,\"#fdca26\"],[1.0,\"#f0f921\"]]}],\"heatmapgl\":[{\"type\":\"heatmapgl\",\"colorbar\":{\"outlinewidth\":0,\"ticks\":\"\"},\"colorscale\":[[0.0,\"#0d0887\"],[0.1111111111111111,\"#46039f\"],[0.2222222222222222,\"#7201a8\"],[0.3333333333333333,\"#9c179e\"],[0.4444444444444444,\"#bd3786\"],[0.5555555555555556,\"#d8576b\"],[0.6666666666666666,\"#ed7953\"],[0.7777777777777778,\"#fb9f3a\"],[0.8888888888888888,\"#fdca26\"],[1.0,\"#f0f921\"]]}],\"contourcarpet\":[{\"type\":\"contourcarpet\",\"colorbar\":{\"outlinewidth\":0,\"ticks\":\"\"}}],\"contour\":[{\"type\":\"contour\",\"colorbar\":{\"outlinewidth\":0,\"ticks\":\"\"},\"colorscale\":[[0.0,\"#0d0887\"],[0.1111111111111111,\"#46039f\"],[0.2222222222222222,\"#7201a8\"],[0.3333333333333333,\"#9c179e\"],[0.4444444444444444,\"#bd3786\"],[0.5555555555555556,\"#d8576b\"],[0.6666666666666666,\"#ed7953\"],[0.7777777777777778,\"#fb9f3a\"],[0.8888888888888888,\"#fdca26\"],[1.0,\"#f0f921\"]]}],\"surface\":[{\"type\":\"surface\",\"colorbar\":{\"outlinewidth\":0,\"ticks\":\"\"},\"colorscale\":[[0.0,\"#0d0887\"],[0.1111111111111111,\"#46039f\"],[0.2222222222222222,\"#7201a8\"],[0.3333333333333333,\"#9c179e\"],[0.4444444444444444,\"#bd3786\"],[0.5555555555555556,\"#d8576b\"],[0.6666666666666666,\"#ed7953\"],[0.7777777777777778,\"#fb9f3a\"],[0.8888888888888888,\"#fdca26\"],[1.0,\"#f0f921\"]]}],\"mesh3d\":[{\"type\":\"mesh3d\",\"colorbar\":{\"outlinewidth\":0,\"ticks\":\"\"}}],\"scatter\":[{\"fillpattern\":{\"fillmode\":\"overlay\",\"size\":10,\"solidity\":0.2},\"type\":\"scatter\"}],\"parcoords\":[{\"type\":\"parcoords\",\"line\":{\"colorbar\":{\"outlinewidth\":0,\"ticks\":\"\"}}}],\"scatterpolargl\":[{\"type\":\"scatterpolargl\",\"marker\":{\"colorbar\":{\"outlinewidth\":0,\"ticks\":\"\"}}}],\"bar\":[{\"error_x\":{\"color\":\"#2a3f5f\"},\"error_y\":{\"color\":\"#2a3f5f\"},\"marker\":{\"line\":{\"color\":\"#E5ECF6\",\"width\":0.5},\"pattern\":{\"fillmode\":\"overlay\",\"size\":10,\"solidity\":0.2}},\"type\":\"bar\"}],\"scattergeo\":[{\"type\":\"scattergeo\",\"marker\":{\"colorbar\":{\"outlinewidth\":0,\"ticks\":\"\"}}}],\"scatterpolar\":[{\"type\":\"scatterpolar\",\"marker\":{\"colorbar\":{\"outlinewidth\":0,\"ticks\":\"\"}}}],\"histogram\":[{\"marker\":{\"pattern\":{\"fillmode\":\"overlay\",\"size\":10,\"solidity\":0.2}},\"type\":\"histogram\"}],\"scattergl\":[{\"type\":\"scattergl\",\"marker\":{\"colorbar\":{\"outlinewidth\":0,\"ticks\":\"\"}}}],\"scatter3d\":[{\"type\":\"scatter3d\",\"line\":{\"colorbar\":{\"outlinewidth\":0,\"ticks\":\"\"}},\"marker\":{\"colorbar\":{\"outlinewidth\":0,\"ticks\":\"\"}}}],\"scattermapbox\":[{\"type\":\"scattermapbox\",\"marker\":{\"colorbar\":{\"outlinewidth\":0,\"ticks\":\"\"}}}],\"scatterternary\":[{\"type\":\"scatterternary\",\"marker\":{\"colorbar\":{\"outlinewidth\":0,\"ticks\":\"\"}}}],\"scattercarpet\":[{\"type\":\"scattercarpet\",\"marker\":{\"colorbar\":{\"outlinewidth\":0,\"ticks\":\"\"}}}],\"carpet\":[{\"aaxis\":{\"endlinecolor\":\"#2a3f5f\",\"gridcolor\":\"white\",\"linecolor\":\"white\",\"minorgridcolor\":\"white\",\"startlinecolor\":\"#2a3f5f\"},\"baxis\":{\"endlinecolor\":\"#2a3f5f\",\"gridcolor\":\"white\",\"linecolor\":\"white\",\"minorgridcolor\":\"white\",\"startlinecolor\":\"#2a3f5f\"},\"type\":\"carpet\"}],\"table\":[{\"cells\":{\"fill\":{\"color\":\"#EBF0F8\"},\"line\":{\"color\":\"white\"}},\"header\":{\"fill\":{\"color\":\"#C8D4E3\"},\"line\":{\"color\":\"white\"}},\"type\":\"table\"}],\"barpolar\":[{\"marker\":{\"line\":{\"color\":\"#E5ECF6\",\"width\":0.5},\"pattern\":{\"fillmode\":\"overlay\",\"size\":10,\"solidity\":0.2}},\"type\":\"barpolar\"}],\"pie\":[{\"automargin\":true,\"type\":\"pie\"}]},\"layout\":{\"autotypenumbers\":\"strict\",\"colorway\":[\"#636efa\",\"#EF553B\",\"#00cc96\",\"#ab63fa\",\"#FFA15A\",\"#19d3f3\",\"#FF6692\",\"#B6E880\",\"#FF97FF\",\"#FECB52\"],\"font\":{\"color\":\"#2a3f5f\"},\"hovermode\":\"closest\",\"hoverlabel\":{\"align\":\"left\"},\"paper_bgcolor\":\"white\",\"plot_bgcolor\":\"#E5ECF6\",\"polar\":{\"bgcolor\":\"#E5ECF6\",\"angularaxis\":{\"gridcolor\":\"white\",\"linecolor\":\"white\",\"ticks\":\"\"},\"radialaxis\":{\"gridcolor\":\"white\",\"linecolor\":\"white\",\"ticks\":\"\"}},\"ternary\":{\"bgcolor\":\"#E5ECF6\",\"aaxis\":{\"gridcolor\":\"white\",\"linecolor\":\"white\",\"ticks\":\"\"},\"baxis\":{\"gridcolor\":\"white\",\"linecolor\":\"white\",\"ticks\":\"\"},\"caxis\":{\"gridcolor\":\"white\",\"linecolor\":\"white\",\"ticks\":\"\"}},\"coloraxis\":{\"colorbar\":{\"outlinewidth\":0,\"ticks\":\"\"}},\"colorscale\":{\"sequential\":[[0.0,\"#0d0887\"],[0.1111111111111111,\"#46039f\"],[0.2222222222222222,\"#7201a8\"],[0.3333333333333333,\"#9c179e\"],[0.4444444444444444,\"#bd3786\"],[0.5555555555555556,\"#d8576b\"],[0.6666666666666666,\"#ed7953\"],[0.7777777777777778,\"#fb9f3a\"],[0.8888888888888888,\"#fdca26\"],[1.0,\"#f0f921\"]],\"sequentialminus\":[[0.0,\"#0d0887\"],[0.1111111111111111,\"#46039f\"],[0.2222222222222222,\"#7201a8\"],[0.3333333333333333,\"#9c179e\"],[0.4444444444444444,\"#bd3786\"],[0.5555555555555556,\"#d8576b\"],[0.6666666666666666,\"#ed7953\"],[0.7777777777777778,\"#fb9f3a\"],[0.8888888888888888,\"#fdca26\"],[1.0,\"#f0f921\"]],\"diverging\":[[0,\"#8e0152\"],[0.1,\"#c51b7d\"],[0.2,\"#de77ae\"],[0.3,\"#f1b6da\"],[0.4,\"#fde0ef\"],[0.5,\"#f7f7f7\"],[0.6,\"#e6f5d0\"],[0.7,\"#b8e186\"],[0.8,\"#7fbc41\"],[0.9,\"#4d9221\"],[1,\"#276419\"]]},\"xaxis\":{\"gridcolor\":\"white\",\"linecolor\":\"white\",\"ticks\":\"\",\"title\":{\"standoff\":15},\"zerolinecolor\":\"white\",\"automargin\":true,\"zerolinewidth\":2},\"yaxis\":{\"gridcolor\":\"white\",\"linecolor\":\"white\",\"ticks\":\"\",\"title\":{\"standoff\":15},\"zerolinecolor\":\"white\",\"automargin\":true,\"zerolinewidth\":2},\"scene\":{\"xaxis\":{\"backgroundcolor\":\"#E5ECF6\",\"gridcolor\":\"white\",\"linecolor\":\"white\",\"showbackground\":true,\"ticks\":\"\",\"zerolinecolor\":\"white\",\"gridwidth\":2},\"yaxis\":{\"backgroundcolor\":\"#E5ECF6\",\"gridcolor\":\"white\",\"linecolor\":\"white\",\"showbackground\":true,\"ticks\":\"\",\"zerolinecolor\":\"white\",\"gridwidth\":2},\"zaxis\":{\"backgroundcolor\":\"#E5ECF6\",\"gridcolor\":\"white\",\"linecolor\":\"white\",\"showbackground\":true,\"ticks\":\"\",\"zerolinecolor\":\"white\",\"gridwidth\":2}},\"shapedefaults\":{\"line\":{\"color\":\"#2a3f5f\"}},\"annotationdefaults\":{\"arrowcolor\":\"#2a3f5f\",\"arrowhead\":0,\"arrowwidth\":1},\"geo\":{\"bgcolor\":\"white\",\"landcolor\":\"#E5ECF6\",\"subunitcolor\":\"white\",\"showland\":true,\"showlakes\":true,\"lakecolor\":\"white\"},\"title\":{\"x\":0.05},\"mapbox\":{\"style\":\"light\"}}},\"xaxis\":{\"nticks\":36},\"title\":{\"text\":\"MAR - 0.01\"}},                        {\"responsive\": true}                    ).then(function(){\n",
       "                            \n",
       "var gd = document.getElementById('b0417659-5227-426a-b4bd-320648226637');\n",
       "var x = new MutationObserver(function (mutations, observer) {{\n",
       "        var display = window.getComputedStyle(gd).display;\n",
       "        if (!display || display === 'none') {{\n",
       "            console.log([gd, 'removed!']);\n",
       "            Plotly.purge(gd);\n",
       "            observer.disconnect();\n",
       "        }}\n",
       "}});\n",
       "\n",
       "// Listen for the removal of the full notebook cells\n",
       "var notebookContainer = gd.closest('#notebook-container');\n",
       "if (notebookContainer) {{\n",
       "    x.observe(notebookContainer, {childList: true});\n",
       "}}\n",
       "\n",
       "// Listen for the clearing of the current output cell\n",
       "var outputEl = gd.closest('.output');\n",
       "if (outputEl) {{\n",
       "    x.observe(outputEl, {childList: true});\n",
       "}}\n",
       "\n",
       "                        })                };                });            </script>        </div>"
      ]
     },
     "metadata": {},
     "output_type": "display_data"
    },
    {
     "data": {
      "application/vnd.plotly.v1+json": {
       "config": {
        "plotlyServerURL": "https://plot.ly"
       },
       "data": [
        {
         "autocolorscale": false,
         "colorscale": [
          [
           0,
           "rgb(5,48,97)"
          ],
          [
           0.1,
           "rgb(33,102,172)"
          ],
          [
           0.2,
           "rgb(67,147,195)"
          ],
          [
           0.3,
           "rgb(146,197,222)"
          ],
          [
           0.4,
           "rgb(209,229,240)"
          ],
          [
           0.5,
           "rgb(247,247,247)"
          ],
          [
           0.6,
           "rgb(253,219,199)"
          ],
          [
           0.7,
           "rgb(244,165,130)"
          ],
          [
           0.8,
           "rgb(214,96,77)"
          ],
          [
           0.9,
           "rgb(178,24,43)"
          ],
          [
           1,
           "rgb(103,0,31)"
          ]
         ],
         "type": "heatmap",
         "x": [
          "40677",
          "40677",
          "40677",
          "40677",
          "40677",
          "40677",
          "40497",
          "40497",
          "40497",
          "40497",
          "40497",
          "40497",
          "183",
          "183",
          "183",
          "183",
          "183",
          "183",
          "40498",
          "40498",
          "40498",
          "40498",
          "40498",
          "40498",
          "1526",
          "1526",
          "1526",
          "1526",
          "1526",
          "1526",
          "30",
          "30",
          "30",
          "30",
          "30",
          "30",
          "4552",
          "4552",
          "4552",
          "4552",
          "4552",
          "4552",
          "375",
          "375",
          "375",
          "375",
          "375",
          "375",
          "1459",
          "1459",
          "1459",
          "1459",
          "1459",
          "1459",
          "32",
          "32",
          "32",
          "32",
          "32",
          "32",
          "26",
          "26",
          "26",
          "26",
          "26",
          "26",
          "41671",
          "41671",
          "41671",
          "6",
          "41671",
          "6",
          "6",
          "41671",
          "6",
          "6",
          "1481",
          "1481",
          "184",
          "184",
          "1481",
          "184",
          "184",
          "1481",
          "184",
          "1481",
          "1481",
          "184",
          "41027",
          "41027",
          "41027",
          "41027",
          "41027",
          "40685",
          "40685",
          "40685",
          "40685",
          "40685"
         ],
         "y": [
          "Mean/Mode",
          "KNN",
          "Random Forest",
          "VAE",
          "Discriminative DL",
          "GAIN",
          "KNN",
          "GAIN",
          "Random Forest",
          "Mean/Mode",
          "VAE",
          "Discriminative DL",
          "Mean/Mode",
          "Discriminative DL",
          "KNN",
          "GAIN",
          "VAE",
          "Random Forest",
          "VAE",
          "Random Forest",
          "Mean/Mode",
          "GAIN",
          "Discriminative DL",
          "KNN",
          "KNN",
          "VAE",
          "Random Forest",
          "GAIN",
          "Discriminative DL",
          "Mean/Mode",
          "GAIN",
          "Mean/Mode",
          "VAE",
          "Random Forest",
          "Discriminative DL",
          "KNN",
          "VAE",
          "KNN",
          "Mean/Mode",
          "Discriminative DL",
          "Random Forest",
          "GAIN",
          "Discriminative DL",
          "Random Forest",
          "KNN",
          "VAE",
          "Mean/Mode",
          "GAIN",
          "Mean/Mode",
          "Random Forest",
          "KNN",
          "GAIN",
          "VAE",
          "Discriminative DL",
          "KNN",
          "Mean/Mode",
          "GAIN",
          "Random Forest",
          "VAE",
          "Discriminative DL",
          "Random Forest",
          "Discriminative DL",
          "KNN",
          "GAIN",
          "VAE",
          "Mean/Mode",
          "KNN",
          "Mean/Mode",
          "Random Forest",
          "Mean/Mode",
          "VAE",
          "Random Forest",
          "KNN",
          "Discriminative DL",
          "VAE",
          "Discriminative DL",
          "Mean/Mode",
          "Random Forest",
          "Random Forest",
          "Discriminative DL",
          "VAE",
          "GAIN",
          "Mean/Mode",
          "KNN",
          "VAE",
          "Discriminative DL",
          "GAIN",
          "KNN",
          "Discriminative DL",
          "Random Forest",
          "KNN",
          "VAE",
          "Mean/Mode",
          "VAE",
          "Mean/Mode",
          "Discriminative DL",
          "KNN",
          "Random Forest"
         ],
         "z": [
          0.0028961567674834,
          0.0003062195582741,
          -0.0004411548660111,
          0.0079779847408513,
          -0.0013153624367231,
          -0.0066242286678867,
          0,
          0,
          0.0037898748251578,
          -0.0110597016575388,
          -0.0036490775823643,
          0,
          0.0009190043558645,
          0.0515610308819184,
          0.0442741536631029,
          0.0317297707244809,
          0.0173177281488072,
          -0.0054631113725091,
          0.0447752428945751,
          0.0497438208844172,
          0.0538781296304236,
          0.0027671980968805,
          0.0274675411942813,
          0.0689507925621031,
          -0.0016129515268576,
          0.0717169607827492,
          0.0011103337725482,
          0.0485268759944023,
          0.0458420624549779,
          0.0058364191414934,
          0,
          0.0010794033499731,
          0.0011526071907881,
          0.0038136734855153,
          0.0038422277633243,
          0.0136030540854101,
          0.0042819676792008,
          0.0065426161788432,
          0.011286110616991,
          0.0120609919949609,
          0.002514035977174,
          0.0033203507676071,
          0.015331698374355,
          0.019122722171102,
          0.0185134709264185,
          0.0116939022665325,
          0.0061118662255728,
          -0.0193566740348031,
          0.0601364594719371,
          0.08048745992369,
          0.0849519624522619,
          0.0590270915739406,
          0.0592473171525844,
          0.0929028066887989,
          0.048969158499465,
          0.0619425858107194,
          0.0061387588264914,
          0.038516897037501,
          0.0442506031390544,
          0.0473006579267026,
          -0.0165717600822757,
          -0.0133886157560059,
          -0.0126100174494415,
          -0.0098777068253253,
          0.000532016257029,
          -0.0230678917215015,
          -0.0221090594344464,
          -0.021415552927899,
          -0.0188403095623255,
          0.0104548683681577,
          -0.0106468212465019,
          0.0107584954830832,
          0.0145833525322569,
          -0.0180107755734749,
          0.0149710542374402,
          0.0175657960536433,
          0.0321503826069784,
          0.0404949745487686,
          -0.016158245730132,
          -0.0108650532326452,
          0.0236814552155726,
          -0.0094234225092121,
          -0.0040357597064827,
          0.0244772189419699,
          -0.0007087043576765,
          0.0238890478763143,
          0.0154339070297536,
          -0.0096101426314026,
          0.0050385248035284,
          0.0047872851326344,
          0.0010978762407661,
          0.0010937722360881,
          0.0012681340793182,
          0,
          0,
          0,
          -0.0001119732728369,
          -5.754259016850262e-05
         ],
         "zmid": 0
        }
       ],
       "layout": {
        "template": {
         "data": {
          "bar": [
           {
            "error_x": {
             "color": "#2a3f5f"
            },
            "error_y": {
             "color": "#2a3f5f"
            },
            "marker": {
             "line": {
              "color": "#E5ECF6",
              "width": 0.5
             },
             "pattern": {
              "fillmode": "overlay",
              "size": 10,
              "solidity": 0.2
             }
            },
            "type": "bar"
           }
          ],
          "barpolar": [
           {
            "marker": {
             "line": {
              "color": "#E5ECF6",
              "width": 0.5
             },
             "pattern": {
              "fillmode": "overlay",
              "size": 10,
              "solidity": 0.2
             }
            },
            "type": "barpolar"
           }
          ],
          "carpet": [
           {
            "aaxis": {
             "endlinecolor": "#2a3f5f",
             "gridcolor": "white",
             "linecolor": "white",
             "minorgridcolor": "white",
             "startlinecolor": "#2a3f5f"
            },
            "baxis": {
             "endlinecolor": "#2a3f5f",
             "gridcolor": "white",
             "linecolor": "white",
             "minorgridcolor": "white",
             "startlinecolor": "#2a3f5f"
            },
            "type": "carpet"
           }
          ],
          "choropleth": [
           {
            "colorbar": {
             "outlinewidth": 0,
             "ticks": ""
            },
            "type": "choropleth"
           }
          ],
          "contour": [
           {
            "colorbar": {
             "outlinewidth": 0,
             "ticks": ""
            },
            "colorscale": [
             [
              0,
              "#0d0887"
             ],
             [
              0.1111111111111111,
              "#46039f"
             ],
             [
              0.2222222222222222,
              "#7201a8"
             ],
             [
              0.3333333333333333,
              "#9c179e"
             ],
             [
              0.4444444444444444,
              "#bd3786"
             ],
             [
              0.5555555555555556,
              "#d8576b"
             ],
             [
              0.6666666666666666,
              "#ed7953"
             ],
             [
              0.7777777777777778,
              "#fb9f3a"
             ],
             [
              0.8888888888888888,
              "#fdca26"
             ],
             [
              1,
              "#f0f921"
             ]
            ],
            "type": "contour"
           }
          ],
          "contourcarpet": [
           {
            "colorbar": {
             "outlinewidth": 0,
             "ticks": ""
            },
            "type": "contourcarpet"
           }
          ],
          "heatmap": [
           {
            "colorbar": {
             "outlinewidth": 0,
             "ticks": ""
            },
            "colorscale": [
             [
              0,
              "#0d0887"
             ],
             [
              0.1111111111111111,
              "#46039f"
             ],
             [
              0.2222222222222222,
              "#7201a8"
             ],
             [
              0.3333333333333333,
              "#9c179e"
             ],
             [
              0.4444444444444444,
              "#bd3786"
             ],
             [
              0.5555555555555556,
              "#d8576b"
             ],
             [
              0.6666666666666666,
              "#ed7953"
             ],
             [
              0.7777777777777778,
              "#fb9f3a"
             ],
             [
              0.8888888888888888,
              "#fdca26"
             ],
             [
              1,
              "#f0f921"
             ]
            ],
            "type": "heatmap"
           }
          ],
          "heatmapgl": [
           {
            "colorbar": {
             "outlinewidth": 0,
             "ticks": ""
            },
            "colorscale": [
             [
              0,
              "#0d0887"
             ],
             [
              0.1111111111111111,
              "#46039f"
             ],
             [
              0.2222222222222222,
              "#7201a8"
             ],
             [
              0.3333333333333333,
              "#9c179e"
             ],
             [
              0.4444444444444444,
              "#bd3786"
             ],
             [
              0.5555555555555556,
              "#d8576b"
             ],
             [
              0.6666666666666666,
              "#ed7953"
             ],
             [
              0.7777777777777778,
              "#fb9f3a"
             ],
             [
              0.8888888888888888,
              "#fdca26"
             ],
             [
              1,
              "#f0f921"
             ]
            ],
            "type": "heatmapgl"
           }
          ],
          "histogram": [
           {
            "marker": {
             "pattern": {
              "fillmode": "overlay",
              "size": 10,
              "solidity": 0.2
             }
            },
            "type": "histogram"
           }
          ],
          "histogram2d": [
           {
            "colorbar": {
             "outlinewidth": 0,
             "ticks": ""
            },
            "colorscale": [
             [
              0,
              "#0d0887"
             ],
             [
              0.1111111111111111,
              "#46039f"
             ],
             [
              0.2222222222222222,
              "#7201a8"
             ],
             [
              0.3333333333333333,
              "#9c179e"
             ],
             [
              0.4444444444444444,
              "#bd3786"
             ],
             [
              0.5555555555555556,
              "#d8576b"
             ],
             [
              0.6666666666666666,
              "#ed7953"
             ],
             [
              0.7777777777777778,
              "#fb9f3a"
             ],
             [
              0.8888888888888888,
              "#fdca26"
             ],
             [
              1,
              "#f0f921"
             ]
            ],
            "type": "histogram2d"
           }
          ],
          "histogram2dcontour": [
           {
            "colorbar": {
             "outlinewidth": 0,
             "ticks": ""
            },
            "colorscale": [
             [
              0,
              "#0d0887"
             ],
             [
              0.1111111111111111,
              "#46039f"
             ],
             [
              0.2222222222222222,
              "#7201a8"
             ],
             [
              0.3333333333333333,
              "#9c179e"
             ],
             [
              0.4444444444444444,
              "#bd3786"
             ],
             [
              0.5555555555555556,
              "#d8576b"
             ],
             [
              0.6666666666666666,
              "#ed7953"
             ],
             [
              0.7777777777777778,
              "#fb9f3a"
             ],
             [
              0.8888888888888888,
              "#fdca26"
             ],
             [
              1,
              "#f0f921"
             ]
            ],
            "type": "histogram2dcontour"
           }
          ],
          "mesh3d": [
           {
            "colorbar": {
             "outlinewidth": 0,
             "ticks": ""
            },
            "type": "mesh3d"
           }
          ],
          "parcoords": [
           {
            "line": {
             "colorbar": {
              "outlinewidth": 0,
              "ticks": ""
             }
            },
            "type": "parcoords"
           }
          ],
          "pie": [
           {
            "automargin": true,
            "type": "pie"
           }
          ],
          "scatter": [
           {
            "fillpattern": {
             "fillmode": "overlay",
             "size": 10,
             "solidity": 0.2
            },
            "type": "scatter"
           }
          ],
          "scatter3d": [
           {
            "line": {
             "colorbar": {
              "outlinewidth": 0,
              "ticks": ""
             }
            },
            "marker": {
             "colorbar": {
              "outlinewidth": 0,
              "ticks": ""
             }
            },
            "type": "scatter3d"
           }
          ],
          "scattercarpet": [
           {
            "marker": {
             "colorbar": {
              "outlinewidth": 0,
              "ticks": ""
             }
            },
            "type": "scattercarpet"
           }
          ],
          "scattergeo": [
           {
            "marker": {
             "colorbar": {
              "outlinewidth": 0,
              "ticks": ""
             }
            },
            "type": "scattergeo"
           }
          ],
          "scattergl": [
           {
            "marker": {
             "colorbar": {
              "outlinewidth": 0,
              "ticks": ""
             }
            },
            "type": "scattergl"
           }
          ],
          "scattermapbox": [
           {
            "marker": {
             "colorbar": {
              "outlinewidth": 0,
              "ticks": ""
             }
            },
            "type": "scattermapbox"
           }
          ],
          "scatterpolar": [
           {
            "marker": {
             "colorbar": {
              "outlinewidth": 0,
              "ticks": ""
             }
            },
            "type": "scatterpolar"
           }
          ],
          "scatterpolargl": [
           {
            "marker": {
             "colorbar": {
              "outlinewidth": 0,
              "ticks": ""
             }
            },
            "type": "scatterpolargl"
           }
          ],
          "scatterternary": [
           {
            "marker": {
             "colorbar": {
              "outlinewidth": 0,
              "ticks": ""
             }
            },
            "type": "scatterternary"
           }
          ],
          "surface": [
           {
            "colorbar": {
             "outlinewidth": 0,
             "ticks": ""
            },
            "colorscale": [
             [
              0,
              "#0d0887"
             ],
             [
              0.1111111111111111,
              "#46039f"
             ],
             [
              0.2222222222222222,
              "#7201a8"
             ],
             [
              0.3333333333333333,
              "#9c179e"
             ],
             [
              0.4444444444444444,
              "#bd3786"
             ],
             [
              0.5555555555555556,
              "#d8576b"
             ],
             [
              0.6666666666666666,
              "#ed7953"
             ],
             [
              0.7777777777777778,
              "#fb9f3a"
             ],
             [
              0.8888888888888888,
              "#fdca26"
             ],
             [
              1,
              "#f0f921"
             ]
            ],
            "type": "surface"
           }
          ],
          "table": [
           {
            "cells": {
             "fill": {
              "color": "#EBF0F8"
             },
             "line": {
              "color": "white"
             }
            },
            "header": {
             "fill": {
              "color": "#C8D4E3"
             },
             "line": {
              "color": "white"
             }
            },
            "type": "table"
           }
          ]
         },
         "layout": {
          "annotationdefaults": {
           "arrowcolor": "#2a3f5f",
           "arrowhead": 0,
           "arrowwidth": 1
          },
          "autotypenumbers": "strict",
          "coloraxis": {
           "colorbar": {
            "outlinewidth": 0,
            "ticks": ""
           }
          },
          "colorscale": {
           "diverging": [
            [
             0,
             "#8e0152"
            ],
            [
             0.1,
             "#c51b7d"
            ],
            [
             0.2,
             "#de77ae"
            ],
            [
             0.3,
             "#f1b6da"
            ],
            [
             0.4,
             "#fde0ef"
            ],
            [
             0.5,
             "#f7f7f7"
            ],
            [
             0.6,
             "#e6f5d0"
            ],
            [
             0.7,
             "#b8e186"
            ],
            [
             0.8,
             "#7fbc41"
            ],
            [
             0.9,
             "#4d9221"
            ],
            [
             1,
             "#276419"
            ]
           ],
           "sequential": [
            [
             0,
             "#0d0887"
            ],
            [
             0.1111111111111111,
             "#46039f"
            ],
            [
             0.2222222222222222,
             "#7201a8"
            ],
            [
             0.3333333333333333,
             "#9c179e"
            ],
            [
             0.4444444444444444,
             "#bd3786"
            ],
            [
             0.5555555555555556,
             "#d8576b"
            ],
            [
             0.6666666666666666,
             "#ed7953"
            ],
            [
             0.7777777777777778,
             "#fb9f3a"
            ],
            [
             0.8888888888888888,
             "#fdca26"
            ],
            [
             1,
             "#f0f921"
            ]
           ],
           "sequentialminus": [
            [
             0,
             "#0d0887"
            ],
            [
             0.1111111111111111,
             "#46039f"
            ],
            [
             0.2222222222222222,
             "#7201a8"
            ],
            [
             0.3333333333333333,
             "#9c179e"
            ],
            [
             0.4444444444444444,
             "#bd3786"
            ],
            [
             0.5555555555555556,
             "#d8576b"
            ],
            [
             0.6666666666666666,
             "#ed7953"
            ],
            [
             0.7777777777777778,
             "#fb9f3a"
            ],
            [
             0.8888888888888888,
             "#fdca26"
            ],
            [
             1,
             "#f0f921"
            ]
           ]
          },
          "colorway": [
           "#636efa",
           "#EF553B",
           "#00cc96",
           "#ab63fa",
           "#FFA15A",
           "#19d3f3",
           "#FF6692",
           "#B6E880",
           "#FF97FF",
           "#FECB52"
          ],
          "font": {
           "color": "#2a3f5f"
          },
          "geo": {
           "bgcolor": "white",
           "lakecolor": "white",
           "landcolor": "#E5ECF6",
           "showlakes": true,
           "showland": true,
           "subunitcolor": "white"
          },
          "hoverlabel": {
           "align": "left"
          },
          "hovermode": "closest",
          "mapbox": {
           "style": "light"
          },
          "paper_bgcolor": "white",
          "plot_bgcolor": "#E5ECF6",
          "polar": {
           "angularaxis": {
            "gridcolor": "white",
            "linecolor": "white",
            "ticks": ""
           },
           "bgcolor": "#E5ECF6",
           "radialaxis": {
            "gridcolor": "white",
            "linecolor": "white",
            "ticks": ""
           }
          },
          "scene": {
           "xaxis": {
            "backgroundcolor": "#E5ECF6",
            "gridcolor": "white",
            "gridwidth": 2,
            "linecolor": "white",
            "showbackground": true,
            "ticks": "",
            "zerolinecolor": "white"
           },
           "yaxis": {
            "backgroundcolor": "#E5ECF6",
            "gridcolor": "white",
            "gridwidth": 2,
            "linecolor": "white",
            "showbackground": true,
            "ticks": "",
            "zerolinecolor": "white"
           },
           "zaxis": {
            "backgroundcolor": "#E5ECF6",
            "gridcolor": "white",
            "gridwidth": 2,
            "linecolor": "white",
            "showbackground": true,
            "ticks": "",
            "zerolinecolor": "white"
           }
          },
          "shapedefaults": {
           "line": {
            "color": "#2a3f5f"
           }
          },
          "ternary": {
           "aaxis": {
            "gridcolor": "white",
            "linecolor": "white",
            "ticks": ""
           },
           "baxis": {
            "gridcolor": "white",
            "linecolor": "white",
            "ticks": ""
           },
           "bgcolor": "#E5ECF6",
           "caxis": {
            "gridcolor": "white",
            "linecolor": "white",
            "ticks": ""
           }
          },
          "title": {
           "x": 0.05
          },
          "xaxis": {
           "automargin": true,
           "gridcolor": "white",
           "linecolor": "white",
           "ticks": "",
           "title": {
            "standoff": 15
           },
           "zerolinecolor": "white",
           "zerolinewidth": 2
          },
          "yaxis": {
           "automargin": true,
           "gridcolor": "white",
           "linecolor": "white",
           "ticks": "",
           "title": {
            "standoff": 15
           },
           "zerolinecolor": "white",
           "zerolinewidth": 2
          }
         }
        },
        "title": {
         "text": "MAR - 0.1"
        },
        "xaxis": {
         "nticks": 36
        }
       }
      },
      "text/html": [
       "<div>                            <div id=\"9eb6e130-8f69-4171-a0b7-7fa39f28c165\" class=\"plotly-graph-div\" style=\"height:525px; width:100%;\"></div>            <script type=\"text/javascript\">                require([\"plotly\"], function(Plotly) {                    window.PLOTLYENV=window.PLOTLYENV || {};                                    if (document.getElementById(\"9eb6e130-8f69-4171-a0b7-7fa39f28c165\")) {                    Plotly.newPlot(                        \"9eb6e130-8f69-4171-a0b7-7fa39f28c165\",                        [{\"autocolorscale\":false,\"colorscale\":[[0.0,\"rgb(5,48,97)\"],[0.1,\"rgb(33,102,172)\"],[0.2,\"rgb(67,147,195)\"],[0.3,\"rgb(146,197,222)\"],[0.4,\"rgb(209,229,240)\"],[0.5,\"rgb(247,247,247)\"],[0.6,\"rgb(253,219,199)\"],[0.7,\"rgb(244,165,130)\"],[0.8,\"rgb(214,96,77)\"],[0.9,\"rgb(178,24,43)\"],[1.0,\"rgb(103,0,31)\"]],\"x\":[\"40677\",\"40677\",\"40677\",\"40677\",\"40677\",\"40677\",\"40497\",\"40497\",\"40497\",\"40497\",\"40497\",\"40497\",\"183\",\"183\",\"183\",\"183\",\"183\",\"183\",\"40498\",\"40498\",\"40498\",\"40498\",\"40498\",\"40498\",\"1526\",\"1526\",\"1526\",\"1526\",\"1526\",\"1526\",\"30\",\"30\",\"30\",\"30\",\"30\",\"30\",\"4552\",\"4552\",\"4552\",\"4552\",\"4552\",\"4552\",\"375\",\"375\",\"375\",\"375\",\"375\",\"375\",\"1459\",\"1459\",\"1459\",\"1459\",\"1459\",\"1459\",\"32\",\"32\",\"32\",\"32\",\"32\",\"32\",\"26\",\"26\",\"26\",\"26\",\"26\",\"26\",\"41671\",\"41671\",\"41671\",\"6\",\"41671\",\"6\",\"6\",\"41671\",\"6\",\"6\",\"1481\",\"1481\",\"184\",\"184\",\"1481\",\"184\",\"184\",\"1481\",\"184\",\"1481\",\"1481\",\"184\",\"41027\",\"41027\",\"41027\",\"41027\",\"41027\",\"40685\",\"40685\",\"40685\",\"40685\",\"40685\"],\"y\":[\"Mean/Mode\",\"KNN\",\"Random Forest\",\"VAE\",\"Discriminative DL\",\"GAIN\",\"KNN\",\"GAIN\",\"Random Forest\",\"Mean/Mode\",\"VAE\",\"Discriminative DL\",\"Mean/Mode\",\"Discriminative DL\",\"KNN\",\"GAIN\",\"VAE\",\"Random Forest\",\"VAE\",\"Random Forest\",\"Mean/Mode\",\"GAIN\",\"Discriminative DL\",\"KNN\",\"KNN\",\"VAE\",\"Random Forest\",\"GAIN\",\"Discriminative DL\",\"Mean/Mode\",\"GAIN\",\"Mean/Mode\",\"VAE\",\"Random Forest\",\"Discriminative DL\",\"KNN\",\"VAE\",\"KNN\",\"Mean/Mode\",\"Discriminative DL\",\"Random Forest\",\"GAIN\",\"Discriminative DL\",\"Random Forest\",\"KNN\",\"VAE\",\"Mean/Mode\",\"GAIN\",\"Mean/Mode\",\"Random Forest\",\"KNN\",\"GAIN\",\"VAE\",\"Discriminative DL\",\"KNN\",\"Mean/Mode\",\"GAIN\",\"Random Forest\",\"VAE\",\"Discriminative DL\",\"Random Forest\",\"Discriminative DL\",\"KNN\",\"GAIN\",\"VAE\",\"Mean/Mode\",\"KNN\",\"Mean/Mode\",\"Random Forest\",\"Mean/Mode\",\"VAE\",\"Random Forest\",\"KNN\",\"Discriminative DL\",\"VAE\",\"Discriminative DL\",\"Mean/Mode\",\"Random Forest\",\"Random Forest\",\"Discriminative DL\",\"VAE\",\"GAIN\",\"Mean/Mode\",\"KNN\",\"VAE\",\"Discriminative DL\",\"GAIN\",\"KNN\",\"Discriminative DL\",\"Random Forest\",\"KNN\",\"VAE\",\"Mean/Mode\",\"VAE\",\"Mean/Mode\",\"Discriminative DL\",\"KNN\",\"Random Forest\"],\"z\":[0.0028961567674834,0.0003062195582741,-0.0004411548660111,0.0079779847408513,-0.0013153624367231,-0.0066242286678867,0.0,0.0,0.0037898748251578,-0.0110597016575388,-0.0036490775823643,0.0,0.0009190043558645,0.0515610308819184,0.0442741536631029,0.0317297707244809,0.0173177281488072,-0.0054631113725091,0.0447752428945751,0.0497438208844172,0.0538781296304236,0.0027671980968805,0.0274675411942813,0.0689507925621031,-0.0016129515268576,0.0717169607827492,0.0011103337725482,0.0485268759944023,0.0458420624549779,0.0058364191414934,0.0,0.0010794033499731,0.0011526071907881,0.0038136734855153,0.0038422277633243,0.0136030540854101,0.0042819676792008,0.0065426161788432,0.011286110616991,0.0120609919949609,0.002514035977174,0.0033203507676071,0.015331698374355,0.019122722171102,0.0185134709264185,0.0116939022665325,0.0061118662255728,-0.0193566740348031,0.0601364594719371,0.08048745992369,0.0849519624522619,0.0590270915739406,0.0592473171525844,0.0929028066887989,0.048969158499465,0.0619425858107194,0.0061387588264914,0.038516897037501,0.0442506031390544,0.0473006579267026,-0.0165717600822757,-0.0133886157560059,-0.0126100174494415,-0.0098777068253253,0.000532016257029,-0.0230678917215015,-0.0221090594344464,-0.021415552927899,-0.0188403095623255,0.0104548683681577,-0.0106468212465019,0.0107584954830832,0.0145833525322569,-0.0180107755734749,0.0149710542374402,0.0175657960536433,0.0321503826069784,0.0404949745487686,-0.016158245730132,-0.0108650532326452,0.0236814552155726,-0.0094234225092121,-0.0040357597064827,0.0244772189419699,-0.0007087043576765,0.0238890478763143,0.0154339070297536,-0.0096101426314026,0.0050385248035284,0.0047872851326344,0.0010978762407661,0.0010937722360881,0.0012681340793182,0.0,0.0,0.0,-0.0001119732728369,-5.754259016850262e-05],\"zmid\":0,\"type\":\"heatmap\"}],                        {\"template\":{\"data\":{\"histogram2dcontour\":[{\"type\":\"histogram2dcontour\",\"colorbar\":{\"outlinewidth\":0,\"ticks\":\"\"},\"colorscale\":[[0.0,\"#0d0887\"],[0.1111111111111111,\"#46039f\"],[0.2222222222222222,\"#7201a8\"],[0.3333333333333333,\"#9c179e\"],[0.4444444444444444,\"#bd3786\"],[0.5555555555555556,\"#d8576b\"],[0.6666666666666666,\"#ed7953\"],[0.7777777777777778,\"#fb9f3a\"],[0.8888888888888888,\"#fdca26\"],[1.0,\"#f0f921\"]]}],\"choropleth\":[{\"type\":\"choropleth\",\"colorbar\":{\"outlinewidth\":0,\"ticks\":\"\"}}],\"histogram2d\":[{\"type\":\"histogram2d\",\"colorbar\":{\"outlinewidth\":0,\"ticks\":\"\"},\"colorscale\":[[0.0,\"#0d0887\"],[0.1111111111111111,\"#46039f\"],[0.2222222222222222,\"#7201a8\"],[0.3333333333333333,\"#9c179e\"],[0.4444444444444444,\"#bd3786\"],[0.5555555555555556,\"#d8576b\"],[0.6666666666666666,\"#ed7953\"],[0.7777777777777778,\"#fb9f3a\"],[0.8888888888888888,\"#fdca26\"],[1.0,\"#f0f921\"]]}],\"heatmap\":[{\"type\":\"heatmap\",\"colorbar\":{\"outlinewidth\":0,\"ticks\":\"\"},\"colorscale\":[[0.0,\"#0d0887\"],[0.1111111111111111,\"#46039f\"],[0.2222222222222222,\"#7201a8\"],[0.3333333333333333,\"#9c179e\"],[0.4444444444444444,\"#bd3786\"],[0.5555555555555556,\"#d8576b\"],[0.6666666666666666,\"#ed7953\"],[0.7777777777777778,\"#fb9f3a\"],[0.8888888888888888,\"#fdca26\"],[1.0,\"#f0f921\"]]}],\"heatmapgl\":[{\"type\":\"heatmapgl\",\"colorbar\":{\"outlinewidth\":0,\"ticks\":\"\"},\"colorscale\":[[0.0,\"#0d0887\"],[0.1111111111111111,\"#46039f\"],[0.2222222222222222,\"#7201a8\"],[0.3333333333333333,\"#9c179e\"],[0.4444444444444444,\"#bd3786\"],[0.5555555555555556,\"#d8576b\"],[0.6666666666666666,\"#ed7953\"],[0.7777777777777778,\"#fb9f3a\"],[0.8888888888888888,\"#fdca26\"],[1.0,\"#f0f921\"]]}],\"contourcarpet\":[{\"type\":\"contourcarpet\",\"colorbar\":{\"outlinewidth\":0,\"ticks\":\"\"}}],\"contour\":[{\"type\":\"contour\",\"colorbar\":{\"outlinewidth\":0,\"ticks\":\"\"},\"colorscale\":[[0.0,\"#0d0887\"],[0.1111111111111111,\"#46039f\"],[0.2222222222222222,\"#7201a8\"],[0.3333333333333333,\"#9c179e\"],[0.4444444444444444,\"#bd3786\"],[0.5555555555555556,\"#d8576b\"],[0.6666666666666666,\"#ed7953\"],[0.7777777777777778,\"#fb9f3a\"],[0.8888888888888888,\"#fdca26\"],[1.0,\"#f0f921\"]]}],\"surface\":[{\"type\":\"surface\",\"colorbar\":{\"outlinewidth\":0,\"ticks\":\"\"},\"colorscale\":[[0.0,\"#0d0887\"],[0.1111111111111111,\"#46039f\"],[0.2222222222222222,\"#7201a8\"],[0.3333333333333333,\"#9c179e\"],[0.4444444444444444,\"#bd3786\"],[0.5555555555555556,\"#d8576b\"],[0.6666666666666666,\"#ed7953\"],[0.7777777777777778,\"#fb9f3a\"],[0.8888888888888888,\"#fdca26\"],[1.0,\"#f0f921\"]]}],\"mesh3d\":[{\"type\":\"mesh3d\",\"colorbar\":{\"outlinewidth\":0,\"ticks\":\"\"}}],\"scatter\":[{\"fillpattern\":{\"fillmode\":\"overlay\",\"size\":10,\"solidity\":0.2},\"type\":\"scatter\"}],\"parcoords\":[{\"type\":\"parcoords\",\"line\":{\"colorbar\":{\"outlinewidth\":0,\"ticks\":\"\"}}}],\"scatterpolargl\":[{\"type\":\"scatterpolargl\",\"marker\":{\"colorbar\":{\"outlinewidth\":0,\"ticks\":\"\"}}}],\"bar\":[{\"error_x\":{\"color\":\"#2a3f5f\"},\"error_y\":{\"color\":\"#2a3f5f\"},\"marker\":{\"line\":{\"color\":\"#E5ECF6\",\"width\":0.5},\"pattern\":{\"fillmode\":\"overlay\",\"size\":10,\"solidity\":0.2}},\"type\":\"bar\"}],\"scattergeo\":[{\"type\":\"scattergeo\",\"marker\":{\"colorbar\":{\"outlinewidth\":0,\"ticks\":\"\"}}}],\"scatterpolar\":[{\"type\":\"scatterpolar\",\"marker\":{\"colorbar\":{\"outlinewidth\":0,\"ticks\":\"\"}}}],\"histogram\":[{\"marker\":{\"pattern\":{\"fillmode\":\"overlay\",\"size\":10,\"solidity\":0.2}},\"type\":\"histogram\"}],\"scattergl\":[{\"type\":\"scattergl\",\"marker\":{\"colorbar\":{\"outlinewidth\":0,\"ticks\":\"\"}}}],\"scatter3d\":[{\"type\":\"scatter3d\",\"line\":{\"colorbar\":{\"outlinewidth\":0,\"ticks\":\"\"}},\"marker\":{\"colorbar\":{\"outlinewidth\":0,\"ticks\":\"\"}}}],\"scattermapbox\":[{\"type\":\"scattermapbox\",\"marker\":{\"colorbar\":{\"outlinewidth\":0,\"ticks\":\"\"}}}],\"scatterternary\":[{\"type\":\"scatterternary\",\"marker\":{\"colorbar\":{\"outlinewidth\":0,\"ticks\":\"\"}}}],\"scattercarpet\":[{\"type\":\"scattercarpet\",\"marker\":{\"colorbar\":{\"outlinewidth\":0,\"ticks\":\"\"}}}],\"carpet\":[{\"aaxis\":{\"endlinecolor\":\"#2a3f5f\",\"gridcolor\":\"white\",\"linecolor\":\"white\",\"minorgridcolor\":\"white\",\"startlinecolor\":\"#2a3f5f\"},\"baxis\":{\"endlinecolor\":\"#2a3f5f\",\"gridcolor\":\"white\",\"linecolor\":\"white\",\"minorgridcolor\":\"white\",\"startlinecolor\":\"#2a3f5f\"},\"type\":\"carpet\"}],\"table\":[{\"cells\":{\"fill\":{\"color\":\"#EBF0F8\"},\"line\":{\"color\":\"white\"}},\"header\":{\"fill\":{\"color\":\"#C8D4E3\"},\"line\":{\"color\":\"white\"}},\"type\":\"table\"}],\"barpolar\":[{\"marker\":{\"line\":{\"color\":\"#E5ECF6\",\"width\":0.5},\"pattern\":{\"fillmode\":\"overlay\",\"size\":10,\"solidity\":0.2}},\"type\":\"barpolar\"}],\"pie\":[{\"automargin\":true,\"type\":\"pie\"}]},\"layout\":{\"autotypenumbers\":\"strict\",\"colorway\":[\"#636efa\",\"#EF553B\",\"#00cc96\",\"#ab63fa\",\"#FFA15A\",\"#19d3f3\",\"#FF6692\",\"#B6E880\",\"#FF97FF\",\"#FECB52\"],\"font\":{\"color\":\"#2a3f5f\"},\"hovermode\":\"closest\",\"hoverlabel\":{\"align\":\"left\"},\"paper_bgcolor\":\"white\",\"plot_bgcolor\":\"#E5ECF6\",\"polar\":{\"bgcolor\":\"#E5ECF6\",\"angularaxis\":{\"gridcolor\":\"white\",\"linecolor\":\"white\",\"ticks\":\"\"},\"radialaxis\":{\"gridcolor\":\"white\",\"linecolor\":\"white\",\"ticks\":\"\"}},\"ternary\":{\"bgcolor\":\"#E5ECF6\",\"aaxis\":{\"gridcolor\":\"white\",\"linecolor\":\"white\",\"ticks\":\"\"},\"baxis\":{\"gridcolor\":\"white\",\"linecolor\":\"white\",\"ticks\":\"\"},\"caxis\":{\"gridcolor\":\"white\",\"linecolor\":\"white\",\"ticks\":\"\"}},\"coloraxis\":{\"colorbar\":{\"outlinewidth\":0,\"ticks\":\"\"}},\"colorscale\":{\"sequential\":[[0.0,\"#0d0887\"],[0.1111111111111111,\"#46039f\"],[0.2222222222222222,\"#7201a8\"],[0.3333333333333333,\"#9c179e\"],[0.4444444444444444,\"#bd3786\"],[0.5555555555555556,\"#d8576b\"],[0.6666666666666666,\"#ed7953\"],[0.7777777777777778,\"#fb9f3a\"],[0.8888888888888888,\"#fdca26\"],[1.0,\"#f0f921\"]],\"sequentialminus\":[[0.0,\"#0d0887\"],[0.1111111111111111,\"#46039f\"],[0.2222222222222222,\"#7201a8\"],[0.3333333333333333,\"#9c179e\"],[0.4444444444444444,\"#bd3786\"],[0.5555555555555556,\"#d8576b\"],[0.6666666666666666,\"#ed7953\"],[0.7777777777777778,\"#fb9f3a\"],[0.8888888888888888,\"#fdca26\"],[1.0,\"#f0f921\"]],\"diverging\":[[0,\"#8e0152\"],[0.1,\"#c51b7d\"],[0.2,\"#de77ae\"],[0.3,\"#f1b6da\"],[0.4,\"#fde0ef\"],[0.5,\"#f7f7f7\"],[0.6,\"#e6f5d0\"],[0.7,\"#b8e186\"],[0.8,\"#7fbc41\"],[0.9,\"#4d9221\"],[1,\"#276419\"]]},\"xaxis\":{\"gridcolor\":\"white\",\"linecolor\":\"white\",\"ticks\":\"\",\"title\":{\"standoff\":15},\"zerolinecolor\":\"white\",\"automargin\":true,\"zerolinewidth\":2},\"yaxis\":{\"gridcolor\":\"white\",\"linecolor\":\"white\",\"ticks\":\"\",\"title\":{\"standoff\":15},\"zerolinecolor\":\"white\",\"automargin\":true,\"zerolinewidth\":2},\"scene\":{\"xaxis\":{\"backgroundcolor\":\"#E5ECF6\",\"gridcolor\":\"white\",\"linecolor\":\"white\",\"showbackground\":true,\"ticks\":\"\",\"zerolinecolor\":\"white\",\"gridwidth\":2},\"yaxis\":{\"backgroundcolor\":\"#E5ECF6\",\"gridcolor\":\"white\",\"linecolor\":\"white\",\"showbackground\":true,\"ticks\":\"\",\"zerolinecolor\":\"white\",\"gridwidth\":2},\"zaxis\":{\"backgroundcolor\":\"#E5ECF6\",\"gridcolor\":\"white\",\"linecolor\":\"white\",\"showbackground\":true,\"ticks\":\"\",\"zerolinecolor\":\"white\",\"gridwidth\":2}},\"shapedefaults\":{\"line\":{\"color\":\"#2a3f5f\"}},\"annotationdefaults\":{\"arrowcolor\":\"#2a3f5f\",\"arrowhead\":0,\"arrowwidth\":1},\"geo\":{\"bgcolor\":\"white\",\"landcolor\":\"#E5ECF6\",\"subunitcolor\":\"white\",\"showland\":true,\"showlakes\":true,\"lakecolor\":\"white\"},\"title\":{\"x\":0.05},\"mapbox\":{\"style\":\"light\"}}},\"xaxis\":{\"nticks\":36},\"title\":{\"text\":\"MAR - 0.1\"}},                        {\"responsive\": true}                    ).then(function(){\n",
       "                            \n",
       "var gd = document.getElementById('9eb6e130-8f69-4171-a0b7-7fa39f28c165');\n",
       "var x = new MutationObserver(function (mutations, observer) {{\n",
       "        var display = window.getComputedStyle(gd).display;\n",
       "        if (!display || display === 'none') {{\n",
       "            console.log([gd, 'removed!']);\n",
       "            Plotly.purge(gd);\n",
       "            observer.disconnect();\n",
       "        }}\n",
       "}});\n",
       "\n",
       "// Listen for the removal of the full notebook cells\n",
       "var notebookContainer = gd.closest('#notebook-container');\n",
       "if (notebookContainer) {{\n",
       "    x.observe(notebookContainer, {childList: true});\n",
       "}}\n",
       "\n",
       "// Listen for the clearing of the current output cell\n",
       "var outputEl = gd.closest('.output');\n",
       "if (outputEl) {{\n",
       "    x.observe(outputEl, {childList: true});\n",
       "}}\n",
       "\n",
       "                        })                };                });            </script>        </div>"
      ]
     },
     "metadata": {},
     "output_type": "display_data"
    },
    {
     "data": {
      "application/vnd.plotly.v1+json": {
       "config": {
        "plotlyServerURL": "https://plot.ly"
       },
       "data": [
        {
         "autocolorscale": false,
         "colorscale": [
          [
           0,
           "rgb(5,48,97)"
          ],
          [
           0.1,
           "rgb(33,102,172)"
          ],
          [
           0.2,
           "rgb(67,147,195)"
          ],
          [
           0.3,
           "rgb(146,197,222)"
          ],
          [
           0.4,
           "rgb(209,229,240)"
          ],
          [
           0.5,
           "rgb(247,247,247)"
          ],
          [
           0.6,
           "rgb(253,219,199)"
          ],
          [
           0.7,
           "rgb(244,165,130)"
          ],
          [
           0.8,
           "rgb(214,96,77)"
          ],
          [
           0.9,
           "rgb(178,24,43)"
          ],
          [
           1,
           "rgb(103,0,31)"
          ]
         ],
         "type": "heatmap",
         "x": [
          "40677",
          "40677",
          "40677",
          "40677",
          "40677",
          "40677",
          "40497",
          "40497",
          "40497",
          "40497",
          "40497",
          "40497",
          "183",
          "183",
          "183",
          "183",
          "183",
          "183",
          "40498",
          "40498",
          "40498",
          "40498",
          "40498",
          "40498",
          "1526",
          "1526",
          "1526",
          "1526",
          "1526",
          "1526",
          "30",
          "30",
          "30",
          "30",
          "30",
          "30",
          "4552",
          "4552",
          "4552",
          "4552",
          "4552",
          "4552",
          "375",
          "375",
          "375",
          "375",
          "375",
          "375",
          "1459",
          "1459",
          "1459",
          "1459",
          "1459",
          "1459",
          "32",
          "32",
          "32",
          "32",
          "32",
          "32",
          "26",
          "26",
          "26",
          "26",
          "26",
          "26",
          "41671",
          "41671",
          "41671",
          "6",
          "41671",
          "6",
          "6",
          "41671",
          "6",
          "6",
          "1481",
          "1481",
          "184",
          "184",
          "1481",
          "184",
          "184",
          "1481",
          "184",
          "1481",
          "1481",
          "184",
          "41027",
          "41027",
          "41027",
          "41027",
          "41027",
          "40685",
          "40685",
          "40685",
          "40685",
          "40685"
         ],
         "y": [
          "Discriminative DL",
          "KNN",
          "VAE",
          "Mean/Mode",
          "GAIN",
          "Random Forest",
          "GAIN",
          "Random Forest",
          "KNN",
          "Mean/Mode",
          "VAE",
          "Discriminative DL",
          "Random Forest",
          "KNN",
          "Mean/Mode",
          "GAIN",
          "VAE",
          "Discriminative DL",
          "Random Forest",
          "KNN",
          "VAE",
          "Mean/Mode",
          "GAIN",
          "Discriminative DL",
          "Random Forest",
          "Discriminative DL",
          "KNN",
          "VAE",
          "GAIN",
          "Mean/Mode",
          "Mean/Mode",
          "KNN",
          "Random Forest",
          "GAIN",
          "VAE",
          "Discriminative DL",
          "Mean/Mode",
          "VAE",
          "Random Forest",
          "Discriminative DL",
          "KNN",
          "GAIN",
          "Random Forest",
          "KNN",
          "Discriminative DL",
          "VAE",
          "Mean/Mode",
          "GAIN",
          "VAE",
          "Discriminative DL",
          "Random Forest",
          "GAIN",
          "Mean/Mode",
          "KNN",
          "VAE",
          "KNN",
          "GAIN",
          "Random Forest",
          "Mean/Mode",
          "Discriminative DL",
          "KNN",
          "GAIN",
          "Mean/Mode",
          "Discriminative DL",
          "VAE",
          "Random Forest",
          "Mean/Mode",
          "VAE",
          "Random Forest",
          "Discriminative DL",
          "KNN",
          "VAE",
          "Random Forest",
          "Discriminative DL",
          "Mean/Mode",
          "KNN",
          "VAE",
          "Mean/Mode",
          "Mean/Mode",
          "KNN",
          "Random Forest",
          "Random Forest",
          "VAE",
          "Discriminative DL",
          "Discriminative DL",
          "GAIN",
          "KNN",
          "GAIN",
          "Mean/Mode",
          "Random Forest",
          "Discriminative DL",
          "KNN",
          "VAE",
          "KNN",
          "Random Forest",
          "VAE",
          "Discriminative DL",
          "Mean/Mode"
         ],
         "z": [
          0.0001385731029605,
          -0.0016831789319372,
          -0.0076575537798648,
          0.0020710787641801,
          -0.0112365615891272,
          -0.0135698619007048,
          0,
          0,
          0,
          -0.022580177596262,
          -0.022580177596262,
          0,
          0.0218294753522625,
          0.1442326061836063,
          0.0703582158482366,
          0.0326434145283273,
          0.0276349639968109,
          -0.0173336817858014,
          0.0901368604040324,
          0.1237586174433078,
          0.1274328210808837,
          -0.0059823428324505,
          0.0159948475349824,
          0.1422697819291389,
          -0.0091902392150119,
          0.1298432773381326,
          0.0050164508259994,
          0.1194795142875854,
          0.1114596222876618,
          0.0925608571726805,
          0,
          0.006227362638619,
          0.0066888113306264,
          0.0093347971023669,
          0.0117460308019802,
          0.0272038898093788,
          0.0147381475419589,
          0.0173028865918155,
          0.020208292373221,
          0.0432592267858202,
          -0.0003010243630909,
          0.0110795553396708,
          0.0443513607242277,
          0.0739950858761733,
          0.0469254818657107,
          0.0295804335723937,
          0.0293510041832272,
          -0.0399929410545682,
          0.2188574154373193,
          0.2264868560252695,
          0.2360844623044073,
          0.0839112216292328,
          0.1955811086312286,
          0.2564742673366533,
          0.1351444784011,
          0.1597712029136445,
          0.0285853908718796,
          0.1043119498912804,
          0.1258430796142514,
          0.1295847137997647,
          -0.0347476226476926,
          -0.0341928879668012,
          -0.0304659693062157,
          -0.0145138884190258,
          -0.0028148212899571,
          -0.04906438031485,
          -0.0519077781082115,
          -0.0473684623472565,
          -0.0356803562097352,
          0.0376954816435041,
          -0.0143192187451347,
          0.0390168639844976,
          0.0396703624340245,
          -0.0272532489070061,
          0.0402013154352911,
          0.0495470210936188,
          0.0895490846254784,
          0.1245029518844388,
          -0.0434417278952027,
          -0.0427437130439805,
          0.0668316281391728,
          -0.020359054569533,
          -0.0160977046576987,
          0.0866217984285591,
          -0.0132240193609213,
          0.0715782350053162,
          0.0636492747841716,
          -0.0357875996816563,
          0.0161791308354945,
          0.0146065946929442,
          0.00825897134313,
          -0.0033329925622472,
          0.0111325678525931,
          0.0064884950108656,
          0.0062753886373465,
          0,
          0,
          0
         ],
         "zmid": 0
        }
       ],
       "layout": {
        "template": {
         "data": {
          "bar": [
           {
            "error_x": {
             "color": "#2a3f5f"
            },
            "error_y": {
             "color": "#2a3f5f"
            },
            "marker": {
             "line": {
              "color": "#E5ECF6",
              "width": 0.5
             },
             "pattern": {
              "fillmode": "overlay",
              "size": 10,
              "solidity": 0.2
             }
            },
            "type": "bar"
           }
          ],
          "barpolar": [
           {
            "marker": {
             "line": {
              "color": "#E5ECF6",
              "width": 0.5
             },
             "pattern": {
              "fillmode": "overlay",
              "size": 10,
              "solidity": 0.2
             }
            },
            "type": "barpolar"
           }
          ],
          "carpet": [
           {
            "aaxis": {
             "endlinecolor": "#2a3f5f",
             "gridcolor": "white",
             "linecolor": "white",
             "minorgridcolor": "white",
             "startlinecolor": "#2a3f5f"
            },
            "baxis": {
             "endlinecolor": "#2a3f5f",
             "gridcolor": "white",
             "linecolor": "white",
             "minorgridcolor": "white",
             "startlinecolor": "#2a3f5f"
            },
            "type": "carpet"
           }
          ],
          "choropleth": [
           {
            "colorbar": {
             "outlinewidth": 0,
             "ticks": ""
            },
            "type": "choropleth"
           }
          ],
          "contour": [
           {
            "colorbar": {
             "outlinewidth": 0,
             "ticks": ""
            },
            "colorscale": [
             [
              0,
              "#0d0887"
             ],
             [
              0.1111111111111111,
              "#46039f"
             ],
             [
              0.2222222222222222,
              "#7201a8"
             ],
             [
              0.3333333333333333,
              "#9c179e"
             ],
             [
              0.4444444444444444,
              "#bd3786"
             ],
             [
              0.5555555555555556,
              "#d8576b"
             ],
             [
              0.6666666666666666,
              "#ed7953"
             ],
             [
              0.7777777777777778,
              "#fb9f3a"
             ],
             [
              0.8888888888888888,
              "#fdca26"
             ],
             [
              1,
              "#f0f921"
             ]
            ],
            "type": "contour"
           }
          ],
          "contourcarpet": [
           {
            "colorbar": {
             "outlinewidth": 0,
             "ticks": ""
            },
            "type": "contourcarpet"
           }
          ],
          "heatmap": [
           {
            "colorbar": {
             "outlinewidth": 0,
             "ticks": ""
            },
            "colorscale": [
             [
              0,
              "#0d0887"
             ],
             [
              0.1111111111111111,
              "#46039f"
             ],
             [
              0.2222222222222222,
              "#7201a8"
             ],
             [
              0.3333333333333333,
              "#9c179e"
             ],
             [
              0.4444444444444444,
              "#bd3786"
             ],
             [
              0.5555555555555556,
              "#d8576b"
             ],
             [
              0.6666666666666666,
              "#ed7953"
             ],
             [
              0.7777777777777778,
              "#fb9f3a"
             ],
             [
              0.8888888888888888,
              "#fdca26"
             ],
             [
              1,
              "#f0f921"
             ]
            ],
            "type": "heatmap"
           }
          ],
          "heatmapgl": [
           {
            "colorbar": {
             "outlinewidth": 0,
             "ticks": ""
            },
            "colorscale": [
             [
              0,
              "#0d0887"
             ],
             [
              0.1111111111111111,
              "#46039f"
             ],
             [
              0.2222222222222222,
              "#7201a8"
             ],
             [
              0.3333333333333333,
              "#9c179e"
             ],
             [
              0.4444444444444444,
              "#bd3786"
             ],
             [
              0.5555555555555556,
              "#d8576b"
             ],
             [
              0.6666666666666666,
              "#ed7953"
             ],
             [
              0.7777777777777778,
              "#fb9f3a"
             ],
             [
              0.8888888888888888,
              "#fdca26"
             ],
             [
              1,
              "#f0f921"
             ]
            ],
            "type": "heatmapgl"
           }
          ],
          "histogram": [
           {
            "marker": {
             "pattern": {
              "fillmode": "overlay",
              "size": 10,
              "solidity": 0.2
             }
            },
            "type": "histogram"
           }
          ],
          "histogram2d": [
           {
            "colorbar": {
             "outlinewidth": 0,
             "ticks": ""
            },
            "colorscale": [
             [
              0,
              "#0d0887"
             ],
             [
              0.1111111111111111,
              "#46039f"
             ],
             [
              0.2222222222222222,
              "#7201a8"
             ],
             [
              0.3333333333333333,
              "#9c179e"
             ],
             [
              0.4444444444444444,
              "#bd3786"
             ],
             [
              0.5555555555555556,
              "#d8576b"
             ],
             [
              0.6666666666666666,
              "#ed7953"
             ],
             [
              0.7777777777777778,
              "#fb9f3a"
             ],
             [
              0.8888888888888888,
              "#fdca26"
             ],
             [
              1,
              "#f0f921"
             ]
            ],
            "type": "histogram2d"
           }
          ],
          "histogram2dcontour": [
           {
            "colorbar": {
             "outlinewidth": 0,
             "ticks": ""
            },
            "colorscale": [
             [
              0,
              "#0d0887"
             ],
             [
              0.1111111111111111,
              "#46039f"
             ],
             [
              0.2222222222222222,
              "#7201a8"
             ],
             [
              0.3333333333333333,
              "#9c179e"
             ],
             [
              0.4444444444444444,
              "#bd3786"
             ],
             [
              0.5555555555555556,
              "#d8576b"
             ],
             [
              0.6666666666666666,
              "#ed7953"
             ],
             [
              0.7777777777777778,
              "#fb9f3a"
             ],
             [
              0.8888888888888888,
              "#fdca26"
             ],
             [
              1,
              "#f0f921"
             ]
            ],
            "type": "histogram2dcontour"
           }
          ],
          "mesh3d": [
           {
            "colorbar": {
             "outlinewidth": 0,
             "ticks": ""
            },
            "type": "mesh3d"
           }
          ],
          "parcoords": [
           {
            "line": {
             "colorbar": {
              "outlinewidth": 0,
              "ticks": ""
             }
            },
            "type": "parcoords"
           }
          ],
          "pie": [
           {
            "automargin": true,
            "type": "pie"
           }
          ],
          "scatter": [
           {
            "fillpattern": {
             "fillmode": "overlay",
             "size": 10,
             "solidity": 0.2
            },
            "type": "scatter"
           }
          ],
          "scatter3d": [
           {
            "line": {
             "colorbar": {
              "outlinewidth": 0,
              "ticks": ""
             }
            },
            "marker": {
             "colorbar": {
              "outlinewidth": 0,
              "ticks": ""
             }
            },
            "type": "scatter3d"
           }
          ],
          "scattercarpet": [
           {
            "marker": {
             "colorbar": {
              "outlinewidth": 0,
              "ticks": ""
             }
            },
            "type": "scattercarpet"
           }
          ],
          "scattergeo": [
           {
            "marker": {
             "colorbar": {
              "outlinewidth": 0,
              "ticks": ""
             }
            },
            "type": "scattergeo"
           }
          ],
          "scattergl": [
           {
            "marker": {
             "colorbar": {
              "outlinewidth": 0,
              "ticks": ""
             }
            },
            "type": "scattergl"
           }
          ],
          "scattermapbox": [
           {
            "marker": {
             "colorbar": {
              "outlinewidth": 0,
              "ticks": ""
             }
            },
            "type": "scattermapbox"
           }
          ],
          "scatterpolar": [
           {
            "marker": {
             "colorbar": {
              "outlinewidth": 0,
              "ticks": ""
             }
            },
            "type": "scatterpolar"
           }
          ],
          "scatterpolargl": [
           {
            "marker": {
             "colorbar": {
              "outlinewidth": 0,
              "ticks": ""
             }
            },
            "type": "scatterpolargl"
           }
          ],
          "scatterternary": [
           {
            "marker": {
             "colorbar": {
              "outlinewidth": 0,
              "ticks": ""
             }
            },
            "type": "scatterternary"
           }
          ],
          "surface": [
           {
            "colorbar": {
             "outlinewidth": 0,
             "ticks": ""
            },
            "colorscale": [
             [
              0,
              "#0d0887"
             ],
             [
              0.1111111111111111,
              "#46039f"
             ],
             [
              0.2222222222222222,
              "#7201a8"
             ],
             [
              0.3333333333333333,
              "#9c179e"
             ],
             [
              0.4444444444444444,
              "#bd3786"
             ],
             [
              0.5555555555555556,
              "#d8576b"
             ],
             [
              0.6666666666666666,
              "#ed7953"
             ],
             [
              0.7777777777777778,
              "#fb9f3a"
             ],
             [
              0.8888888888888888,
              "#fdca26"
             ],
             [
              1,
              "#f0f921"
             ]
            ],
            "type": "surface"
           }
          ],
          "table": [
           {
            "cells": {
             "fill": {
              "color": "#EBF0F8"
             },
             "line": {
              "color": "white"
             }
            },
            "header": {
             "fill": {
              "color": "#C8D4E3"
             },
             "line": {
              "color": "white"
             }
            },
            "type": "table"
           }
          ]
         },
         "layout": {
          "annotationdefaults": {
           "arrowcolor": "#2a3f5f",
           "arrowhead": 0,
           "arrowwidth": 1
          },
          "autotypenumbers": "strict",
          "coloraxis": {
           "colorbar": {
            "outlinewidth": 0,
            "ticks": ""
           }
          },
          "colorscale": {
           "diverging": [
            [
             0,
             "#8e0152"
            ],
            [
             0.1,
             "#c51b7d"
            ],
            [
             0.2,
             "#de77ae"
            ],
            [
             0.3,
             "#f1b6da"
            ],
            [
             0.4,
             "#fde0ef"
            ],
            [
             0.5,
             "#f7f7f7"
            ],
            [
             0.6,
             "#e6f5d0"
            ],
            [
             0.7,
             "#b8e186"
            ],
            [
             0.8,
             "#7fbc41"
            ],
            [
             0.9,
             "#4d9221"
            ],
            [
             1,
             "#276419"
            ]
           ],
           "sequential": [
            [
             0,
             "#0d0887"
            ],
            [
             0.1111111111111111,
             "#46039f"
            ],
            [
             0.2222222222222222,
             "#7201a8"
            ],
            [
             0.3333333333333333,
             "#9c179e"
            ],
            [
             0.4444444444444444,
             "#bd3786"
            ],
            [
             0.5555555555555556,
             "#d8576b"
            ],
            [
             0.6666666666666666,
             "#ed7953"
            ],
            [
             0.7777777777777778,
             "#fb9f3a"
            ],
            [
             0.8888888888888888,
             "#fdca26"
            ],
            [
             1,
             "#f0f921"
            ]
           ],
           "sequentialminus": [
            [
             0,
             "#0d0887"
            ],
            [
             0.1111111111111111,
             "#46039f"
            ],
            [
             0.2222222222222222,
             "#7201a8"
            ],
            [
             0.3333333333333333,
             "#9c179e"
            ],
            [
             0.4444444444444444,
             "#bd3786"
            ],
            [
             0.5555555555555556,
             "#d8576b"
            ],
            [
             0.6666666666666666,
             "#ed7953"
            ],
            [
             0.7777777777777778,
             "#fb9f3a"
            ],
            [
             0.8888888888888888,
             "#fdca26"
            ],
            [
             1,
             "#f0f921"
            ]
           ]
          },
          "colorway": [
           "#636efa",
           "#EF553B",
           "#00cc96",
           "#ab63fa",
           "#FFA15A",
           "#19d3f3",
           "#FF6692",
           "#B6E880",
           "#FF97FF",
           "#FECB52"
          ],
          "font": {
           "color": "#2a3f5f"
          },
          "geo": {
           "bgcolor": "white",
           "lakecolor": "white",
           "landcolor": "#E5ECF6",
           "showlakes": true,
           "showland": true,
           "subunitcolor": "white"
          },
          "hoverlabel": {
           "align": "left"
          },
          "hovermode": "closest",
          "mapbox": {
           "style": "light"
          },
          "paper_bgcolor": "white",
          "plot_bgcolor": "#E5ECF6",
          "polar": {
           "angularaxis": {
            "gridcolor": "white",
            "linecolor": "white",
            "ticks": ""
           },
           "bgcolor": "#E5ECF6",
           "radialaxis": {
            "gridcolor": "white",
            "linecolor": "white",
            "ticks": ""
           }
          },
          "scene": {
           "xaxis": {
            "backgroundcolor": "#E5ECF6",
            "gridcolor": "white",
            "gridwidth": 2,
            "linecolor": "white",
            "showbackground": true,
            "ticks": "",
            "zerolinecolor": "white"
           },
           "yaxis": {
            "backgroundcolor": "#E5ECF6",
            "gridcolor": "white",
            "gridwidth": 2,
            "linecolor": "white",
            "showbackground": true,
            "ticks": "",
            "zerolinecolor": "white"
           },
           "zaxis": {
            "backgroundcolor": "#E5ECF6",
            "gridcolor": "white",
            "gridwidth": 2,
            "linecolor": "white",
            "showbackground": true,
            "ticks": "",
            "zerolinecolor": "white"
           }
          },
          "shapedefaults": {
           "line": {
            "color": "#2a3f5f"
           }
          },
          "ternary": {
           "aaxis": {
            "gridcolor": "white",
            "linecolor": "white",
            "ticks": ""
           },
           "baxis": {
            "gridcolor": "white",
            "linecolor": "white",
            "ticks": ""
           },
           "bgcolor": "#E5ECF6",
           "caxis": {
            "gridcolor": "white",
            "linecolor": "white",
            "ticks": ""
           }
          },
          "title": {
           "x": 0.05
          },
          "xaxis": {
           "automargin": true,
           "gridcolor": "white",
           "linecolor": "white",
           "ticks": "",
           "title": {
            "standoff": 15
           },
           "zerolinecolor": "white",
           "zerolinewidth": 2
          },
          "yaxis": {
           "automargin": true,
           "gridcolor": "white",
           "linecolor": "white",
           "ticks": "",
           "title": {
            "standoff": 15
           },
           "zerolinecolor": "white",
           "zerolinewidth": 2
          }
         }
        },
        "title": {
         "text": "MAR - 0.3"
        },
        "xaxis": {
         "nticks": 36
        }
       }
      },
      "text/html": [
       "<div>                            <div id=\"9c907899-0a1e-4e8b-8d05-ad18de0e3161\" class=\"plotly-graph-div\" style=\"height:525px; width:100%;\"></div>            <script type=\"text/javascript\">                require([\"plotly\"], function(Plotly) {                    window.PLOTLYENV=window.PLOTLYENV || {};                                    if (document.getElementById(\"9c907899-0a1e-4e8b-8d05-ad18de0e3161\")) {                    Plotly.newPlot(                        \"9c907899-0a1e-4e8b-8d05-ad18de0e3161\",                        [{\"autocolorscale\":false,\"colorscale\":[[0.0,\"rgb(5,48,97)\"],[0.1,\"rgb(33,102,172)\"],[0.2,\"rgb(67,147,195)\"],[0.3,\"rgb(146,197,222)\"],[0.4,\"rgb(209,229,240)\"],[0.5,\"rgb(247,247,247)\"],[0.6,\"rgb(253,219,199)\"],[0.7,\"rgb(244,165,130)\"],[0.8,\"rgb(214,96,77)\"],[0.9,\"rgb(178,24,43)\"],[1.0,\"rgb(103,0,31)\"]],\"x\":[\"40677\",\"40677\",\"40677\",\"40677\",\"40677\",\"40677\",\"40497\",\"40497\",\"40497\",\"40497\",\"40497\",\"40497\",\"183\",\"183\",\"183\",\"183\",\"183\",\"183\",\"40498\",\"40498\",\"40498\",\"40498\",\"40498\",\"40498\",\"1526\",\"1526\",\"1526\",\"1526\",\"1526\",\"1526\",\"30\",\"30\",\"30\",\"30\",\"30\",\"30\",\"4552\",\"4552\",\"4552\",\"4552\",\"4552\",\"4552\",\"375\",\"375\",\"375\",\"375\",\"375\",\"375\",\"1459\",\"1459\",\"1459\",\"1459\",\"1459\",\"1459\",\"32\",\"32\",\"32\",\"32\",\"32\",\"32\",\"26\",\"26\",\"26\",\"26\",\"26\",\"26\",\"41671\",\"41671\",\"41671\",\"6\",\"41671\",\"6\",\"6\",\"41671\",\"6\",\"6\",\"1481\",\"1481\",\"184\",\"184\",\"1481\",\"184\",\"184\",\"1481\",\"184\",\"1481\",\"1481\",\"184\",\"41027\",\"41027\",\"41027\",\"41027\",\"41027\",\"40685\",\"40685\",\"40685\",\"40685\",\"40685\"],\"y\":[\"Discriminative DL\",\"KNN\",\"VAE\",\"Mean/Mode\",\"GAIN\",\"Random Forest\",\"GAIN\",\"Random Forest\",\"KNN\",\"Mean/Mode\",\"VAE\",\"Discriminative DL\",\"Random Forest\",\"KNN\",\"Mean/Mode\",\"GAIN\",\"VAE\",\"Discriminative DL\",\"Random Forest\",\"KNN\",\"VAE\",\"Mean/Mode\",\"GAIN\",\"Discriminative DL\",\"Random Forest\",\"Discriminative DL\",\"KNN\",\"VAE\",\"GAIN\",\"Mean/Mode\",\"Mean/Mode\",\"KNN\",\"Random Forest\",\"GAIN\",\"VAE\",\"Discriminative DL\",\"Mean/Mode\",\"VAE\",\"Random Forest\",\"Discriminative DL\",\"KNN\",\"GAIN\",\"Random Forest\",\"KNN\",\"Discriminative DL\",\"VAE\",\"Mean/Mode\",\"GAIN\",\"VAE\",\"Discriminative DL\",\"Random Forest\",\"GAIN\",\"Mean/Mode\",\"KNN\",\"VAE\",\"KNN\",\"GAIN\",\"Random Forest\",\"Mean/Mode\",\"Discriminative DL\",\"KNN\",\"GAIN\",\"Mean/Mode\",\"Discriminative DL\",\"VAE\",\"Random Forest\",\"Mean/Mode\",\"VAE\",\"Random Forest\",\"Discriminative DL\",\"KNN\",\"VAE\",\"Random Forest\",\"Discriminative DL\",\"Mean/Mode\",\"KNN\",\"VAE\",\"Mean/Mode\",\"Mean/Mode\",\"KNN\",\"Random Forest\",\"Random Forest\",\"VAE\",\"Discriminative DL\",\"Discriminative DL\",\"GAIN\",\"KNN\",\"GAIN\",\"Mean/Mode\",\"Random Forest\",\"Discriminative DL\",\"KNN\",\"VAE\",\"KNN\",\"Random Forest\",\"VAE\",\"Discriminative DL\",\"Mean/Mode\"],\"z\":[0.0001385731029605,-0.0016831789319372,-0.0076575537798648,0.0020710787641801,-0.0112365615891272,-0.0135698619007048,0.0,0.0,0.0,-0.022580177596262,-0.022580177596262,0.0,0.0218294753522625,0.1442326061836063,0.0703582158482366,0.0326434145283273,0.0276349639968109,-0.0173336817858014,0.0901368604040324,0.1237586174433078,0.1274328210808837,-0.0059823428324505,0.0159948475349824,0.1422697819291389,-0.0091902392150119,0.1298432773381326,0.0050164508259994,0.1194795142875854,0.1114596222876618,0.0925608571726805,0.0,0.006227362638619,0.0066888113306264,0.0093347971023669,0.0117460308019802,0.0272038898093788,0.0147381475419589,0.0173028865918155,0.020208292373221,0.0432592267858202,-0.0003010243630909,0.0110795553396708,0.0443513607242277,0.0739950858761733,0.0469254818657107,0.0295804335723937,0.0293510041832272,-0.0399929410545682,0.2188574154373193,0.2264868560252695,0.2360844623044073,0.0839112216292328,0.1955811086312286,0.2564742673366533,0.1351444784011,0.1597712029136445,0.0285853908718796,0.1043119498912804,0.1258430796142514,0.1295847137997647,-0.0347476226476926,-0.0341928879668012,-0.0304659693062157,-0.0145138884190258,-0.0028148212899571,-0.04906438031485,-0.0519077781082115,-0.0473684623472565,-0.0356803562097352,0.0376954816435041,-0.0143192187451347,0.0390168639844976,0.0396703624340245,-0.0272532489070061,0.0402013154352911,0.0495470210936188,0.0895490846254784,0.1245029518844388,-0.0434417278952027,-0.0427437130439805,0.0668316281391728,-0.020359054569533,-0.0160977046576987,0.0866217984285591,-0.0132240193609213,0.0715782350053162,0.0636492747841716,-0.0357875996816563,0.0161791308354945,0.0146065946929442,0.00825897134313,-0.0033329925622472,0.0111325678525931,0.0064884950108656,0.0062753886373465,0.0,0.0,0.0],\"zmid\":0,\"type\":\"heatmap\"}],                        {\"template\":{\"data\":{\"histogram2dcontour\":[{\"type\":\"histogram2dcontour\",\"colorbar\":{\"outlinewidth\":0,\"ticks\":\"\"},\"colorscale\":[[0.0,\"#0d0887\"],[0.1111111111111111,\"#46039f\"],[0.2222222222222222,\"#7201a8\"],[0.3333333333333333,\"#9c179e\"],[0.4444444444444444,\"#bd3786\"],[0.5555555555555556,\"#d8576b\"],[0.6666666666666666,\"#ed7953\"],[0.7777777777777778,\"#fb9f3a\"],[0.8888888888888888,\"#fdca26\"],[1.0,\"#f0f921\"]]}],\"choropleth\":[{\"type\":\"choropleth\",\"colorbar\":{\"outlinewidth\":0,\"ticks\":\"\"}}],\"histogram2d\":[{\"type\":\"histogram2d\",\"colorbar\":{\"outlinewidth\":0,\"ticks\":\"\"},\"colorscale\":[[0.0,\"#0d0887\"],[0.1111111111111111,\"#46039f\"],[0.2222222222222222,\"#7201a8\"],[0.3333333333333333,\"#9c179e\"],[0.4444444444444444,\"#bd3786\"],[0.5555555555555556,\"#d8576b\"],[0.6666666666666666,\"#ed7953\"],[0.7777777777777778,\"#fb9f3a\"],[0.8888888888888888,\"#fdca26\"],[1.0,\"#f0f921\"]]}],\"heatmap\":[{\"type\":\"heatmap\",\"colorbar\":{\"outlinewidth\":0,\"ticks\":\"\"},\"colorscale\":[[0.0,\"#0d0887\"],[0.1111111111111111,\"#46039f\"],[0.2222222222222222,\"#7201a8\"],[0.3333333333333333,\"#9c179e\"],[0.4444444444444444,\"#bd3786\"],[0.5555555555555556,\"#d8576b\"],[0.6666666666666666,\"#ed7953\"],[0.7777777777777778,\"#fb9f3a\"],[0.8888888888888888,\"#fdca26\"],[1.0,\"#f0f921\"]]}],\"heatmapgl\":[{\"type\":\"heatmapgl\",\"colorbar\":{\"outlinewidth\":0,\"ticks\":\"\"},\"colorscale\":[[0.0,\"#0d0887\"],[0.1111111111111111,\"#46039f\"],[0.2222222222222222,\"#7201a8\"],[0.3333333333333333,\"#9c179e\"],[0.4444444444444444,\"#bd3786\"],[0.5555555555555556,\"#d8576b\"],[0.6666666666666666,\"#ed7953\"],[0.7777777777777778,\"#fb9f3a\"],[0.8888888888888888,\"#fdca26\"],[1.0,\"#f0f921\"]]}],\"contourcarpet\":[{\"type\":\"contourcarpet\",\"colorbar\":{\"outlinewidth\":0,\"ticks\":\"\"}}],\"contour\":[{\"type\":\"contour\",\"colorbar\":{\"outlinewidth\":0,\"ticks\":\"\"},\"colorscale\":[[0.0,\"#0d0887\"],[0.1111111111111111,\"#46039f\"],[0.2222222222222222,\"#7201a8\"],[0.3333333333333333,\"#9c179e\"],[0.4444444444444444,\"#bd3786\"],[0.5555555555555556,\"#d8576b\"],[0.6666666666666666,\"#ed7953\"],[0.7777777777777778,\"#fb9f3a\"],[0.8888888888888888,\"#fdca26\"],[1.0,\"#f0f921\"]]}],\"surface\":[{\"type\":\"surface\",\"colorbar\":{\"outlinewidth\":0,\"ticks\":\"\"},\"colorscale\":[[0.0,\"#0d0887\"],[0.1111111111111111,\"#46039f\"],[0.2222222222222222,\"#7201a8\"],[0.3333333333333333,\"#9c179e\"],[0.4444444444444444,\"#bd3786\"],[0.5555555555555556,\"#d8576b\"],[0.6666666666666666,\"#ed7953\"],[0.7777777777777778,\"#fb9f3a\"],[0.8888888888888888,\"#fdca26\"],[1.0,\"#f0f921\"]]}],\"mesh3d\":[{\"type\":\"mesh3d\",\"colorbar\":{\"outlinewidth\":0,\"ticks\":\"\"}}],\"scatter\":[{\"fillpattern\":{\"fillmode\":\"overlay\",\"size\":10,\"solidity\":0.2},\"type\":\"scatter\"}],\"parcoords\":[{\"type\":\"parcoords\",\"line\":{\"colorbar\":{\"outlinewidth\":0,\"ticks\":\"\"}}}],\"scatterpolargl\":[{\"type\":\"scatterpolargl\",\"marker\":{\"colorbar\":{\"outlinewidth\":0,\"ticks\":\"\"}}}],\"bar\":[{\"error_x\":{\"color\":\"#2a3f5f\"},\"error_y\":{\"color\":\"#2a3f5f\"},\"marker\":{\"line\":{\"color\":\"#E5ECF6\",\"width\":0.5},\"pattern\":{\"fillmode\":\"overlay\",\"size\":10,\"solidity\":0.2}},\"type\":\"bar\"}],\"scattergeo\":[{\"type\":\"scattergeo\",\"marker\":{\"colorbar\":{\"outlinewidth\":0,\"ticks\":\"\"}}}],\"scatterpolar\":[{\"type\":\"scatterpolar\",\"marker\":{\"colorbar\":{\"outlinewidth\":0,\"ticks\":\"\"}}}],\"histogram\":[{\"marker\":{\"pattern\":{\"fillmode\":\"overlay\",\"size\":10,\"solidity\":0.2}},\"type\":\"histogram\"}],\"scattergl\":[{\"type\":\"scattergl\",\"marker\":{\"colorbar\":{\"outlinewidth\":0,\"ticks\":\"\"}}}],\"scatter3d\":[{\"type\":\"scatter3d\",\"line\":{\"colorbar\":{\"outlinewidth\":0,\"ticks\":\"\"}},\"marker\":{\"colorbar\":{\"outlinewidth\":0,\"ticks\":\"\"}}}],\"scattermapbox\":[{\"type\":\"scattermapbox\",\"marker\":{\"colorbar\":{\"outlinewidth\":0,\"ticks\":\"\"}}}],\"scatterternary\":[{\"type\":\"scatterternary\",\"marker\":{\"colorbar\":{\"outlinewidth\":0,\"ticks\":\"\"}}}],\"scattercarpet\":[{\"type\":\"scattercarpet\",\"marker\":{\"colorbar\":{\"outlinewidth\":0,\"ticks\":\"\"}}}],\"carpet\":[{\"aaxis\":{\"endlinecolor\":\"#2a3f5f\",\"gridcolor\":\"white\",\"linecolor\":\"white\",\"minorgridcolor\":\"white\",\"startlinecolor\":\"#2a3f5f\"},\"baxis\":{\"endlinecolor\":\"#2a3f5f\",\"gridcolor\":\"white\",\"linecolor\":\"white\",\"minorgridcolor\":\"white\",\"startlinecolor\":\"#2a3f5f\"},\"type\":\"carpet\"}],\"table\":[{\"cells\":{\"fill\":{\"color\":\"#EBF0F8\"},\"line\":{\"color\":\"white\"}},\"header\":{\"fill\":{\"color\":\"#C8D4E3\"},\"line\":{\"color\":\"white\"}},\"type\":\"table\"}],\"barpolar\":[{\"marker\":{\"line\":{\"color\":\"#E5ECF6\",\"width\":0.5},\"pattern\":{\"fillmode\":\"overlay\",\"size\":10,\"solidity\":0.2}},\"type\":\"barpolar\"}],\"pie\":[{\"automargin\":true,\"type\":\"pie\"}]},\"layout\":{\"autotypenumbers\":\"strict\",\"colorway\":[\"#636efa\",\"#EF553B\",\"#00cc96\",\"#ab63fa\",\"#FFA15A\",\"#19d3f3\",\"#FF6692\",\"#B6E880\",\"#FF97FF\",\"#FECB52\"],\"font\":{\"color\":\"#2a3f5f\"},\"hovermode\":\"closest\",\"hoverlabel\":{\"align\":\"left\"},\"paper_bgcolor\":\"white\",\"plot_bgcolor\":\"#E5ECF6\",\"polar\":{\"bgcolor\":\"#E5ECF6\",\"angularaxis\":{\"gridcolor\":\"white\",\"linecolor\":\"white\",\"ticks\":\"\"},\"radialaxis\":{\"gridcolor\":\"white\",\"linecolor\":\"white\",\"ticks\":\"\"}},\"ternary\":{\"bgcolor\":\"#E5ECF6\",\"aaxis\":{\"gridcolor\":\"white\",\"linecolor\":\"white\",\"ticks\":\"\"},\"baxis\":{\"gridcolor\":\"white\",\"linecolor\":\"white\",\"ticks\":\"\"},\"caxis\":{\"gridcolor\":\"white\",\"linecolor\":\"white\",\"ticks\":\"\"}},\"coloraxis\":{\"colorbar\":{\"outlinewidth\":0,\"ticks\":\"\"}},\"colorscale\":{\"sequential\":[[0.0,\"#0d0887\"],[0.1111111111111111,\"#46039f\"],[0.2222222222222222,\"#7201a8\"],[0.3333333333333333,\"#9c179e\"],[0.4444444444444444,\"#bd3786\"],[0.5555555555555556,\"#d8576b\"],[0.6666666666666666,\"#ed7953\"],[0.7777777777777778,\"#fb9f3a\"],[0.8888888888888888,\"#fdca26\"],[1.0,\"#f0f921\"]],\"sequentialminus\":[[0.0,\"#0d0887\"],[0.1111111111111111,\"#46039f\"],[0.2222222222222222,\"#7201a8\"],[0.3333333333333333,\"#9c179e\"],[0.4444444444444444,\"#bd3786\"],[0.5555555555555556,\"#d8576b\"],[0.6666666666666666,\"#ed7953\"],[0.7777777777777778,\"#fb9f3a\"],[0.8888888888888888,\"#fdca26\"],[1.0,\"#f0f921\"]],\"diverging\":[[0,\"#8e0152\"],[0.1,\"#c51b7d\"],[0.2,\"#de77ae\"],[0.3,\"#f1b6da\"],[0.4,\"#fde0ef\"],[0.5,\"#f7f7f7\"],[0.6,\"#e6f5d0\"],[0.7,\"#b8e186\"],[0.8,\"#7fbc41\"],[0.9,\"#4d9221\"],[1,\"#276419\"]]},\"xaxis\":{\"gridcolor\":\"white\",\"linecolor\":\"white\",\"ticks\":\"\",\"title\":{\"standoff\":15},\"zerolinecolor\":\"white\",\"automargin\":true,\"zerolinewidth\":2},\"yaxis\":{\"gridcolor\":\"white\",\"linecolor\":\"white\",\"ticks\":\"\",\"title\":{\"standoff\":15},\"zerolinecolor\":\"white\",\"automargin\":true,\"zerolinewidth\":2},\"scene\":{\"xaxis\":{\"backgroundcolor\":\"#E5ECF6\",\"gridcolor\":\"white\",\"linecolor\":\"white\",\"showbackground\":true,\"ticks\":\"\",\"zerolinecolor\":\"white\",\"gridwidth\":2},\"yaxis\":{\"backgroundcolor\":\"#E5ECF6\",\"gridcolor\":\"white\",\"linecolor\":\"white\",\"showbackground\":true,\"ticks\":\"\",\"zerolinecolor\":\"white\",\"gridwidth\":2},\"zaxis\":{\"backgroundcolor\":\"#E5ECF6\",\"gridcolor\":\"white\",\"linecolor\":\"white\",\"showbackground\":true,\"ticks\":\"\",\"zerolinecolor\":\"white\",\"gridwidth\":2}},\"shapedefaults\":{\"line\":{\"color\":\"#2a3f5f\"}},\"annotationdefaults\":{\"arrowcolor\":\"#2a3f5f\",\"arrowhead\":0,\"arrowwidth\":1},\"geo\":{\"bgcolor\":\"white\",\"landcolor\":\"#E5ECF6\",\"subunitcolor\":\"white\",\"showland\":true,\"showlakes\":true,\"lakecolor\":\"white\"},\"title\":{\"x\":0.05},\"mapbox\":{\"style\":\"light\"}}},\"xaxis\":{\"nticks\":36},\"title\":{\"text\":\"MAR - 0.3\"}},                        {\"responsive\": true}                    ).then(function(){\n",
       "                            \n",
       "var gd = document.getElementById('9c907899-0a1e-4e8b-8d05-ad18de0e3161');\n",
       "var x = new MutationObserver(function (mutations, observer) {{\n",
       "        var display = window.getComputedStyle(gd).display;\n",
       "        if (!display || display === 'none') {{\n",
       "            console.log([gd, 'removed!']);\n",
       "            Plotly.purge(gd);\n",
       "            observer.disconnect();\n",
       "        }}\n",
       "}});\n",
       "\n",
       "// Listen for the removal of the full notebook cells\n",
       "var notebookContainer = gd.closest('#notebook-container');\n",
       "if (notebookContainer) {{\n",
       "    x.observe(notebookContainer, {childList: true});\n",
       "}}\n",
       "\n",
       "// Listen for the clearing of the current output cell\n",
       "var outputEl = gd.closest('.output');\n",
       "if (outputEl) {{\n",
       "    x.observe(outputEl, {childList: true});\n",
       "}}\n",
       "\n",
       "                        })                };                });            </script>        </div>"
      ]
     },
     "metadata": {},
     "output_type": "display_data"
    },
    {
     "data": {
      "application/vnd.plotly.v1+json": {
       "config": {
        "plotlyServerURL": "https://plot.ly"
       },
       "data": [
        {
         "autocolorscale": false,
         "colorscale": [
          [
           0,
           "rgb(5,48,97)"
          ],
          [
           0.1,
           "rgb(33,102,172)"
          ],
          [
           0.2,
           "rgb(67,147,195)"
          ],
          [
           0.3,
           "rgb(146,197,222)"
          ],
          [
           0.4,
           "rgb(209,229,240)"
          ],
          [
           0.5,
           "rgb(247,247,247)"
          ],
          [
           0.6,
           "rgb(253,219,199)"
          ],
          [
           0.7,
           "rgb(244,165,130)"
          ],
          [
           0.8,
           "rgb(214,96,77)"
          ],
          [
           0.9,
           "rgb(178,24,43)"
          ],
          [
           1,
           "rgb(103,0,31)"
          ]
         ],
         "type": "heatmap",
         "x": [
          "40677",
          "40677",
          "40677",
          "40677",
          "40677",
          "40677",
          "40497",
          "40497",
          "40497",
          "40497",
          "40497",
          "40497",
          "183",
          "183",
          "183",
          "183",
          "183",
          "183",
          "40498",
          "40498",
          "40498",
          "40498",
          "40498",
          "40498",
          "1526",
          "1526",
          "1526",
          "1526",
          "1526",
          "1526",
          "30",
          "30",
          "30",
          "30",
          "30",
          "30",
          "4552",
          "4552",
          "4552",
          "4552",
          "4552",
          "4552",
          "375",
          "375",
          "375",
          "375",
          "375",
          "375",
          "1459",
          "1459",
          "1459",
          "1459",
          "1459",
          "1459",
          "32",
          "32",
          "32",
          "32",
          "32",
          "32",
          "26",
          "26",
          "26",
          "26",
          "26",
          "26",
          "41671",
          "41671",
          "41671",
          "6",
          "41671",
          "6",
          "41671",
          "6",
          "6",
          "6",
          "1481",
          "1481",
          "184",
          "184",
          "1481",
          "184",
          "184",
          "1481",
          "184",
          "1481",
          "1481",
          "184",
          "41027",
          "41027",
          "41027",
          "41027",
          "41027",
          "41027",
          "40685",
          "40685",
          "40685",
          "40685",
          "40685"
         ],
         "y": [
          "Random Forest",
          "KNN",
          "VAE",
          "Discriminative DL",
          "Mean/Mode",
          "GAIN",
          "KNN",
          "GAIN",
          "Random Forest",
          "VAE",
          "Discriminative DL",
          "Mean/Mode",
          "VAE",
          "Discriminative DL",
          "GAIN",
          "KNN",
          "Random Forest",
          "Mean/Mode",
          "Discriminative DL",
          "Random Forest",
          "VAE",
          "GAIN",
          "Mean/Mode",
          "KNN",
          "KNN",
          "Discriminative DL",
          "Random Forest",
          "VAE",
          "Mean/Mode",
          "GAIN",
          "GAIN",
          "VAE",
          "Mean/Mode",
          "KNN",
          "Random Forest",
          "Discriminative DL",
          "GAIN",
          "Discriminative DL",
          "Mean/Mode",
          "VAE",
          "Random Forest",
          "KNN",
          "Random Forest",
          "KNN",
          "Discriminative DL",
          "Mean/Mode",
          "VAE",
          "GAIN",
          "VAE",
          "Random Forest",
          "Discriminative DL",
          "GAIN",
          "Mean/Mode",
          "KNN",
          "Random Forest",
          "KNN",
          "GAIN",
          "Mean/Mode",
          "VAE",
          "Discriminative DL",
          "Random Forest",
          "Mean/Mode",
          "GAIN",
          "Discriminative DL",
          "VAE",
          "KNN",
          "KNN",
          "VAE",
          "Random Forest",
          "VAE",
          "Discriminative DL",
          "Mean/Mode",
          "Mean/Mode",
          "Random Forest",
          "Discriminative DL",
          "KNN",
          "Discriminative DL",
          "Mean/Mode",
          "Mean/Mode",
          "Random Forest",
          "KNN",
          "KNN",
          "VAE",
          "Random Forest",
          "GAIN",
          "VAE",
          "GAIN",
          "Discriminative DL",
          "Discriminative DL",
          "Mean/Mode",
          "VAE",
          "GAIN",
          "Random Forest",
          "KNN",
          "Random Forest",
          "KNN",
          "VAE",
          "Discriminative DL",
          "Mean/Mode"
         ],
         "z": [
          -0.0060999967414831,
          -0.0095742519362045,
          -0.0104013231167782,
          0.0153684103426247,
          -0.0105576802767253,
          -0.042861082515193,
          0,
          -0.0072981551647286,
          0.0075797496503159,
          -0.0223497904556699,
          -0.0147087792399033,
          -0.0147087792399033,
          0.1581645109950339,
          0.2745679893875971,
          0.2570074820903054,
          0.2518555469094616,
          0.2505699039776576,
          0.1119428956888718,
          0.1924387560807012,
          0.2611912441896852,
          0.2745026198842428,
          0.0036706967231313,
          0.1251476249133896,
          0.2875583934462623,
          -0.0070549248427381,
          0.1602734335489347,
          -0.0068461936018973,
          0.1575520772974581,
          0.1565675259196036,
          0.1439823379956991,
          -0.0190220521429792,
          -0.009734937375269,
          0.0128199344340744,
          0.0327803588950172,
          0.042298387850972,
          0.0511576867085677,
          0.0172481489407671,
          0.0360466724830546,
          0.0518629765342014,
          0.0546258787911839,
          -0.0111678707621469,
          -0.0099363557783484,
          0.0716198551599515,
          0.0910281670704805,
          0.0871228644042493,
          0.0449161728016479,
          0.0424188646648899,
          -0.0143306675662558,
          0.3211582150466861,
          0.3515135921031281,
          0.3628623693004532,
          0.2541517903988547,
          0.2893773611293512,
          0.36488690824146,
          0.1999741388931812,
          0.2011385725357208,
          0.0447426559014651,
          0.1712851301635895,
          0.1737396177390257,
          0.198649908172239,
          -0.0619786248600092,
          -0.0597114984815579,
          -0.0558234884711687,
          -0.0142774106293317,
          -0.000520610958811,
          -0.0694780710538633,
          -0.0666366310821156,
          -0.0660335234434739,
          -0.0650684448138544,
          0.058415118865748,
          -0.0437903217887831,
          0.0623384211495907,
          -0.0603021909344021,
          0.0702260909220355,
          0.0732909329048143,
          0.0743638418028606,
          0.1282494809006915,
          0.1385133238727107,
          -0.077651132067835,
          -0.0637685253957422,
          0.1197555534583038,
          -0.0479268322221033,
          -0.0152528835580191,
          0.1274055654183889,
          -0.0135998009509097,
          0.1138448927584445,
          0.1091415699291564,
          -0.0550284761611637,
          0.0181272046786645,
          0.0136114772378767,
          0.0108645786616957,
          0.006129995996004,
          0.0019350633740401,
          0.0079451576905537,
          0.0120395502921625,
          0.005443208363568,
          0,
          -0.0001321460454085,
          0
         ],
         "zmid": 0
        }
       ],
       "layout": {
        "template": {
         "data": {
          "bar": [
           {
            "error_x": {
             "color": "#2a3f5f"
            },
            "error_y": {
             "color": "#2a3f5f"
            },
            "marker": {
             "line": {
              "color": "#E5ECF6",
              "width": 0.5
             },
             "pattern": {
              "fillmode": "overlay",
              "size": 10,
              "solidity": 0.2
             }
            },
            "type": "bar"
           }
          ],
          "barpolar": [
           {
            "marker": {
             "line": {
              "color": "#E5ECF6",
              "width": 0.5
             },
             "pattern": {
              "fillmode": "overlay",
              "size": 10,
              "solidity": 0.2
             }
            },
            "type": "barpolar"
           }
          ],
          "carpet": [
           {
            "aaxis": {
             "endlinecolor": "#2a3f5f",
             "gridcolor": "white",
             "linecolor": "white",
             "minorgridcolor": "white",
             "startlinecolor": "#2a3f5f"
            },
            "baxis": {
             "endlinecolor": "#2a3f5f",
             "gridcolor": "white",
             "linecolor": "white",
             "minorgridcolor": "white",
             "startlinecolor": "#2a3f5f"
            },
            "type": "carpet"
           }
          ],
          "choropleth": [
           {
            "colorbar": {
             "outlinewidth": 0,
             "ticks": ""
            },
            "type": "choropleth"
           }
          ],
          "contour": [
           {
            "colorbar": {
             "outlinewidth": 0,
             "ticks": ""
            },
            "colorscale": [
             [
              0,
              "#0d0887"
             ],
             [
              0.1111111111111111,
              "#46039f"
             ],
             [
              0.2222222222222222,
              "#7201a8"
             ],
             [
              0.3333333333333333,
              "#9c179e"
             ],
             [
              0.4444444444444444,
              "#bd3786"
             ],
             [
              0.5555555555555556,
              "#d8576b"
             ],
             [
              0.6666666666666666,
              "#ed7953"
             ],
             [
              0.7777777777777778,
              "#fb9f3a"
             ],
             [
              0.8888888888888888,
              "#fdca26"
             ],
             [
              1,
              "#f0f921"
             ]
            ],
            "type": "contour"
           }
          ],
          "contourcarpet": [
           {
            "colorbar": {
             "outlinewidth": 0,
             "ticks": ""
            },
            "type": "contourcarpet"
           }
          ],
          "heatmap": [
           {
            "colorbar": {
             "outlinewidth": 0,
             "ticks": ""
            },
            "colorscale": [
             [
              0,
              "#0d0887"
             ],
             [
              0.1111111111111111,
              "#46039f"
             ],
             [
              0.2222222222222222,
              "#7201a8"
             ],
             [
              0.3333333333333333,
              "#9c179e"
             ],
             [
              0.4444444444444444,
              "#bd3786"
             ],
             [
              0.5555555555555556,
              "#d8576b"
             ],
             [
              0.6666666666666666,
              "#ed7953"
             ],
             [
              0.7777777777777778,
              "#fb9f3a"
             ],
             [
              0.8888888888888888,
              "#fdca26"
             ],
             [
              1,
              "#f0f921"
             ]
            ],
            "type": "heatmap"
           }
          ],
          "heatmapgl": [
           {
            "colorbar": {
             "outlinewidth": 0,
             "ticks": ""
            },
            "colorscale": [
             [
              0,
              "#0d0887"
             ],
             [
              0.1111111111111111,
              "#46039f"
             ],
             [
              0.2222222222222222,
              "#7201a8"
             ],
             [
              0.3333333333333333,
              "#9c179e"
             ],
             [
              0.4444444444444444,
              "#bd3786"
             ],
             [
              0.5555555555555556,
              "#d8576b"
             ],
             [
              0.6666666666666666,
              "#ed7953"
             ],
             [
              0.7777777777777778,
              "#fb9f3a"
             ],
             [
              0.8888888888888888,
              "#fdca26"
             ],
             [
              1,
              "#f0f921"
             ]
            ],
            "type": "heatmapgl"
           }
          ],
          "histogram": [
           {
            "marker": {
             "pattern": {
              "fillmode": "overlay",
              "size": 10,
              "solidity": 0.2
             }
            },
            "type": "histogram"
           }
          ],
          "histogram2d": [
           {
            "colorbar": {
             "outlinewidth": 0,
             "ticks": ""
            },
            "colorscale": [
             [
              0,
              "#0d0887"
             ],
             [
              0.1111111111111111,
              "#46039f"
             ],
             [
              0.2222222222222222,
              "#7201a8"
             ],
             [
              0.3333333333333333,
              "#9c179e"
             ],
             [
              0.4444444444444444,
              "#bd3786"
             ],
             [
              0.5555555555555556,
              "#d8576b"
             ],
             [
              0.6666666666666666,
              "#ed7953"
             ],
             [
              0.7777777777777778,
              "#fb9f3a"
             ],
             [
              0.8888888888888888,
              "#fdca26"
             ],
             [
              1,
              "#f0f921"
             ]
            ],
            "type": "histogram2d"
           }
          ],
          "histogram2dcontour": [
           {
            "colorbar": {
             "outlinewidth": 0,
             "ticks": ""
            },
            "colorscale": [
             [
              0,
              "#0d0887"
             ],
             [
              0.1111111111111111,
              "#46039f"
             ],
             [
              0.2222222222222222,
              "#7201a8"
             ],
             [
              0.3333333333333333,
              "#9c179e"
             ],
             [
              0.4444444444444444,
              "#bd3786"
             ],
             [
              0.5555555555555556,
              "#d8576b"
             ],
             [
              0.6666666666666666,
              "#ed7953"
             ],
             [
              0.7777777777777778,
              "#fb9f3a"
             ],
             [
              0.8888888888888888,
              "#fdca26"
             ],
             [
              1,
              "#f0f921"
             ]
            ],
            "type": "histogram2dcontour"
           }
          ],
          "mesh3d": [
           {
            "colorbar": {
             "outlinewidth": 0,
             "ticks": ""
            },
            "type": "mesh3d"
           }
          ],
          "parcoords": [
           {
            "line": {
             "colorbar": {
              "outlinewidth": 0,
              "ticks": ""
             }
            },
            "type": "parcoords"
           }
          ],
          "pie": [
           {
            "automargin": true,
            "type": "pie"
           }
          ],
          "scatter": [
           {
            "fillpattern": {
             "fillmode": "overlay",
             "size": 10,
             "solidity": 0.2
            },
            "type": "scatter"
           }
          ],
          "scatter3d": [
           {
            "line": {
             "colorbar": {
              "outlinewidth": 0,
              "ticks": ""
             }
            },
            "marker": {
             "colorbar": {
              "outlinewidth": 0,
              "ticks": ""
             }
            },
            "type": "scatter3d"
           }
          ],
          "scattercarpet": [
           {
            "marker": {
             "colorbar": {
              "outlinewidth": 0,
              "ticks": ""
             }
            },
            "type": "scattercarpet"
           }
          ],
          "scattergeo": [
           {
            "marker": {
             "colorbar": {
              "outlinewidth": 0,
              "ticks": ""
             }
            },
            "type": "scattergeo"
           }
          ],
          "scattergl": [
           {
            "marker": {
             "colorbar": {
              "outlinewidth": 0,
              "ticks": ""
             }
            },
            "type": "scattergl"
           }
          ],
          "scattermapbox": [
           {
            "marker": {
             "colorbar": {
              "outlinewidth": 0,
              "ticks": ""
             }
            },
            "type": "scattermapbox"
           }
          ],
          "scatterpolar": [
           {
            "marker": {
             "colorbar": {
              "outlinewidth": 0,
              "ticks": ""
             }
            },
            "type": "scatterpolar"
           }
          ],
          "scatterpolargl": [
           {
            "marker": {
             "colorbar": {
              "outlinewidth": 0,
              "ticks": ""
             }
            },
            "type": "scatterpolargl"
           }
          ],
          "scatterternary": [
           {
            "marker": {
             "colorbar": {
              "outlinewidth": 0,
              "ticks": ""
             }
            },
            "type": "scatterternary"
           }
          ],
          "surface": [
           {
            "colorbar": {
             "outlinewidth": 0,
             "ticks": ""
            },
            "colorscale": [
             [
              0,
              "#0d0887"
             ],
             [
              0.1111111111111111,
              "#46039f"
             ],
             [
              0.2222222222222222,
              "#7201a8"
             ],
             [
              0.3333333333333333,
              "#9c179e"
             ],
             [
              0.4444444444444444,
              "#bd3786"
             ],
             [
              0.5555555555555556,
              "#d8576b"
             ],
             [
              0.6666666666666666,
              "#ed7953"
             ],
             [
              0.7777777777777778,
              "#fb9f3a"
             ],
             [
              0.8888888888888888,
              "#fdca26"
             ],
             [
              1,
              "#f0f921"
             ]
            ],
            "type": "surface"
           }
          ],
          "table": [
           {
            "cells": {
             "fill": {
              "color": "#EBF0F8"
             },
             "line": {
              "color": "white"
             }
            },
            "header": {
             "fill": {
              "color": "#C8D4E3"
             },
             "line": {
              "color": "white"
             }
            },
            "type": "table"
           }
          ]
         },
         "layout": {
          "annotationdefaults": {
           "arrowcolor": "#2a3f5f",
           "arrowhead": 0,
           "arrowwidth": 1
          },
          "autotypenumbers": "strict",
          "coloraxis": {
           "colorbar": {
            "outlinewidth": 0,
            "ticks": ""
           }
          },
          "colorscale": {
           "diverging": [
            [
             0,
             "#8e0152"
            ],
            [
             0.1,
             "#c51b7d"
            ],
            [
             0.2,
             "#de77ae"
            ],
            [
             0.3,
             "#f1b6da"
            ],
            [
             0.4,
             "#fde0ef"
            ],
            [
             0.5,
             "#f7f7f7"
            ],
            [
             0.6,
             "#e6f5d0"
            ],
            [
             0.7,
             "#b8e186"
            ],
            [
             0.8,
             "#7fbc41"
            ],
            [
             0.9,
             "#4d9221"
            ],
            [
             1,
             "#276419"
            ]
           ],
           "sequential": [
            [
             0,
             "#0d0887"
            ],
            [
             0.1111111111111111,
             "#46039f"
            ],
            [
             0.2222222222222222,
             "#7201a8"
            ],
            [
             0.3333333333333333,
             "#9c179e"
            ],
            [
             0.4444444444444444,
             "#bd3786"
            ],
            [
             0.5555555555555556,
             "#d8576b"
            ],
            [
             0.6666666666666666,
             "#ed7953"
            ],
            [
             0.7777777777777778,
             "#fb9f3a"
            ],
            [
             0.8888888888888888,
             "#fdca26"
            ],
            [
             1,
             "#f0f921"
            ]
           ],
           "sequentialminus": [
            [
             0,
             "#0d0887"
            ],
            [
             0.1111111111111111,
             "#46039f"
            ],
            [
             0.2222222222222222,
             "#7201a8"
            ],
            [
             0.3333333333333333,
             "#9c179e"
            ],
            [
             0.4444444444444444,
             "#bd3786"
            ],
            [
             0.5555555555555556,
             "#d8576b"
            ],
            [
             0.6666666666666666,
             "#ed7953"
            ],
            [
             0.7777777777777778,
             "#fb9f3a"
            ],
            [
             0.8888888888888888,
             "#fdca26"
            ],
            [
             1,
             "#f0f921"
            ]
           ]
          },
          "colorway": [
           "#636efa",
           "#EF553B",
           "#00cc96",
           "#ab63fa",
           "#FFA15A",
           "#19d3f3",
           "#FF6692",
           "#B6E880",
           "#FF97FF",
           "#FECB52"
          ],
          "font": {
           "color": "#2a3f5f"
          },
          "geo": {
           "bgcolor": "white",
           "lakecolor": "white",
           "landcolor": "#E5ECF6",
           "showlakes": true,
           "showland": true,
           "subunitcolor": "white"
          },
          "hoverlabel": {
           "align": "left"
          },
          "hovermode": "closest",
          "mapbox": {
           "style": "light"
          },
          "paper_bgcolor": "white",
          "plot_bgcolor": "#E5ECF6",
          "polar": {
           "angularaxis": {
            "gridcolor": "white",
            "linecolor": "white",
            "ticks": ""
           },
           "bgcolor": "#E5ECF6",
           "radialaxis": {
            "gridcolor": "white",
            "linecolor": "white",
            "ticks": ""
           }
          },
          "scene": {
           "xaxis": {
            "backgroundcolor": "#E5ECF6",
            "gridcolor": "white",
            "gridwidth": 2,
            "linecolor": "white",
            "showbackground": true,
            "ticks": "",
            "zerolinecolor": "white"
           },
           "yaxis": {
            "backgroundcolor": "#E5ECF6",
            "gridcolor": "white",
            "gridwidth": 2,
            "linecolor": "white",
            "showbackground": true,
            "ticks": "",
            "zerolinecolor": "white"
           },
           "zaxis": {
            "backgroundcolor": "#E5ECF6",
            "gridcolor": "white",
            "gridwidth": 2,
            "linecolor": "white",
            "showbackground": true,
            "ticks": "",
            "zerolinecolor": "white"
           }
          },
          "shapedefaults": {
           "line": {
            "color": "#2a3f5f"
           }
          },
          "ternary": {
           "aaxis": {
            "gridcolor": "white",
            "linecolor": "white",
            "ticks": ""
           },
           "baxis": {
            "gridcolor": "white",
            "linecolor": "white",
            "ticks": ""
           },
           "bgcolor": "#E5ECF6",
           "caxis": {
            "gridcolor": "white",
            "linecolor": "white",
            "ticks": ""
           }
          },
          "title": {
           "x": 0.05
          },
          "xaxis": {
           "automargin": true,
           "gridcolor": "white",
           "linecolor": "white",
           "ticks": "",
           "title": {
            "standoff": 15
           },
           "zerolinecolor": "white",
           "zerolinewidth": 2
          },
          "yaxis": {
           "automargin": true,
           "gridcolor": "white",
           "linecolor": "white",
           "ticks": "",
           "title": {
            "standoff": 15
           },
           "zerolinecolor": "white",
           "zerolinewidth": 2
          }
         }
        },
        "title": {
         "text": "MCAR - 0.5"
        },
        "xaxis": {
         "nticks": 36
        }
       }
      },
      "text/html": [
       "<div>                            <div id=\"ea83d9c3-d29f-4180-92c8-e93a135ea9b3\" class=\"plotly-graph-div\" style=\"height:525px; width:100%;\"></div>            <script type=\"text/javascript\">                require([\"plotly\"], function(Plotly) {                    window.PLOTLYENV=window.PLOTLYENV || {};                                    if (document.getElementById(\"ea83d9c3-d29f-4180-92c8-e93a135ea9b3\")) {                    Plotly.newPlot(                        \"ea83d9c3-d29f-4180-92c8-e93a135ea9b3\",                        [{\"autocolorscale\":false,\"colorscale\":[[0.0,\"rgb(5,48,97)\"],[0.1,\"rgb(33,102,172)\"],[0.2,\"rgb(67,147,195)\"],[0.3,\"rgb(146,197,222)\"],[0.4,\"rgb(209,229,240)\"],[0.5,\"rgb(247,247,247)\"],[0.6,\"rgb(253,219,199)\"],[0.7,\"rgb(244,165,130)\"],[0.8,\"rgb(214,96,77)\"],[0.9,\"rgb(178,24,43)\"],[1.0,\"rgb(103,0,31)\"]],\"x\":[\"40677\",\"40677\",\"40677\",\"40677\",\"40677\",\"40677\",\"40497\",\"40497\",\"40497\",\"40497\",\"40497\",\"40497\",\"183\",\"183\",\"183\",\"183\",\"183\",\"183\",\"40498\",\"40498\",\"40498\",\"40498\",\"40498\",\"40498\",\"1526\",\"1526\",\"1526\",\"1526\",\"1526\",\"1526\",\"30\",\"30\",\"30\",\"30\",\"30\",\"30\",\"4552\",\"4552\",\"4552\",\"4552\",\"4552\",\"4552\",\"375\",\"375\",\"375\",\"375\",\"375\",\"375\",\"1459\",\"1459\",\"1459\",\"1459\",\"1459\",\"1459\",\"32\",\"32\",\"32\",\"32\",\"32\",\"32\",\"26\",\"26\",\"26\",\"26\",\"26\",\"26\",\"41671\",\"41671\",\"41671\",\"6\",\"41671\",\"6\",\"41671\",\"6\",\"6\",\"6\",\"1481\",\"1481\",\"184\",\"184\",\"1481\",\"184\",\"184\",\"1481\",\"184\",\"1481\",\"1481\",\"184\",\"41027\",\"41027\",\"41027\",\"41027\",\"41027\",\"41027\",\"40685\",\"40685\",\"40685\",\"40685\",\"40685\"],\"y\":[\"Random Forest\",\"KNN\",\"VAE\",\"Discriminative DL\",\"Mean/Mode\",\"GAIN\",\"KNN\",\"GAIN\",\"Random Forest\",\"VAE\",\"Discriminative DL\",\"Mean/Mode\",\"VAE\",\"Discriminative DL\",\"GAIN\",\"KNN\",\"Random Forest\",\"Mean/Mode\",\"Discriminative DL\",\"Random Forest\",\"VAE\",\"GAIN\",\"Mean/Mode\",\"KNN\",\"KNN\",\"Discriminative DL\",\"Random Forest\",\"VAE\",\"Mean/Mode\",\"GAIN\",\"GAIN\",\"VAE\",\"Mean/Mode\",\"KNN\",\"Random Forest\",\"Discriminative DL\",\"GAIN\",\"Discriminative DL\",\"Mean/Mode\",\"VAE\",\"Random Forest\",\"KNN\",\"Random Forest\",\"KNN\",\"Discriminative DL\",\"Mean/Mode\",\"VAE\",\"GAIN\",\"VAE\",\"Random Forest\",\"Discriminative DL\",\"GAIN\",\"Mean/Mode\",\"KNN\",\"Random Forest\",\"KNN\",\"GAIN\",\"Mean/Mode\",\"VAE\",\"Discriminative DL\",\"Random Forest\",\"Mean/Mode\",\"GAIN\",\"Discriminative DL\",\"VAE\",\"KNN\",\"KNN\",\"VAE\",\"Random Forest\",\"VAE\",\"Discriminative DL\",\"Mean/Mode\",\"Mean/Mode\",\"Random Forest\",\"Discriminative DL\",\"KNN\",\"Discriminative DL\",\"Mean/Mode\",\"Mean/Mode\",\"Random Forest\",\"KNN\",\"KNN\",\"VAE\",\"Random Forest\",\"GAIN\",\"VAE\",\"GAIN\",\"Discriminative DL\",\"Discriminative DL\",\"Mean/Mode\",\"VAE\",\"GAIN\",\"Random Forest\",\"KNN\",\"Random Forest\",\"KNN\",\"VAE\",\"Discriminative DL\",\"Mean/Mode\"],\"z\":[-0.0060999967414831,-0.0095742519362045,-0.0104013231167782,0.0153684103426247,-0.0105576802767253,-0.042861082515193,0.0,-0.0072981551647286,0.0075797496503159,-0.0223497904556699,-0.0147087792399033,-0.0147087792399033,0.1581645109950339,0.2745679893875971,0.2570074820903054,0.2518555469094616,0.2505699039776576,0.1119428956888718,0.1924387560807012,0.2611912441896852,0.2745026198842428,0.0036706967231313,0.1251476249133896,0.2875583934462623,-0.0070549248427381,0.1602734335489347,-0.0068461936018973,0.1575520772974581,0.1565675259196036,0.1439823379956991,-0.0190220521429792,-0.009734937375269,0.0128199344340744,0.0327803588950172,0.042298387850972,0.0511576867085677,0.0172481489407671,0.0360466724830546,0.0518629765342014,0.0546258787911839,-0.0111678707621469,-0.0099363557783484,0.0716198551599515,0.0910281670704805,0.0871228644042493,0.0449161728016479,0.0424188646648899,-0.0143306675662558,0.3211582150466861,0.3515135921031281,0.3628623693004532,0.2541517903988547,0.2893773611293512,0.36488690824146,0.1999741388931812,0.2011385725357208,0.0447426559014651,0.1712851301635895,0.1737396177390257,0.198649908172239,-0.0619786248600092,-0.0597114984815579,-0.0558234884711687,-0.0142774106293317,-0.000520610958811,-0.0694780710538633,-0.0666366310821156,-0.0660335234434739,-0.0650684448138544,0.058415118865748,-0.0437903217887831,0.0623384211495907,-0.0603021909344021,0.0702260909220355,0.0732909329048143,0.0743638418028606,0.1282494809006915,0.1385133238727107,-0.077651132067835,-0.0637685253957422,0.1197555534583038,-0.0479268322221033,-0.0152528835580191,0.1274055654183889,-0.0135998009509097,0.1138448927584445,0.1091415699291564,-0.0550284761611637,0.0181272046786645,0.0136114772378767,0.0108645786616957,0.006129995996004,0.0019350633740401,0.0079451576905537,0.0120395502921625,0.005443208363568,0.0,-0.0001321460454085,0.0],\"zmid\":0,\"type\":\"heatmap\"}],                        {\"template\":{\"data\":{\"histogram2dcontour\":[{\"type\":\"histogram2dcontour\",\"colorbar\":{\"outlinewidth\":0,\"ticks\":\"\"},\"colorscale\":[[0.0,\"#0d0887\"],[0.1111111111111111,\"#46039f\"],[0.2222222222222222,\"#7201a8\"],[0.3333333333333333,\"#9c179e\"],[0.4444444444444444,\"#bd3786\"],[0.5555555555555556,\"#d8576b\"],[0.6666666666666666,\"#ed7953\"],[0.7777777777777778,\"#fb9f3a\"],[0.8888888888888888,\"#fdca26\"],[1.0,\"#f0f921\"]]}],\"choropleth\":[{\"type\":\"choropleth\",\"colorbar\":{\"outlinewidth\":0,\"ticks\":\"\"}}],\"histogram2d\":[{\"type\":\"histogram2d\",\"colorbar\":{\"outlinewidth\":0,\"ticks\":\"\"},\"colorscale\":[[0.0,\"#0d0887\"],[0.1111111111111111,\"#46039f\"],[0.2222222222222222,\"#7201a8\"],[0.3333333333333333,\"#9c179e\"],[0.4444444444444444,\"#bd3786\"],[0.5555555555555556,\"#d8576b\"],[0.6666666666666666,\"#ed7953\"],[0.7777777777777778,\"#fb9f3a\"],[0.8888888888888888,\"#fdca26\"],[1.0,\"#f0f921\"]]}],\"heatmap\":[{\"type\":\"heatmap\",\"colorbar\":{\"outlinewidth\":0,\"ticks\":\"\"},\"colorscale\":[[0.0,\"#0d0887\"],[0.1111111111111111,\"#46039f\"],[0.2222222222222222,\"#7201a8\"],[0.3333333333333333,\"#9c179e\"],[0.4444444444444444,\"#bd3786\"],[0.5555555555555556,\"#d8576b\"],[0.6666666666666666,\"#ed7953\"],[0.7777777777777778,\"#fb9f3a\"],[0.8888888888888888,\"#fdca26\"],[1.0,\"#f0f921\"]]}],\"heatmapgl\":[{\"type\":\"heatmapgl\",\"colorbar\":{\"outlinewidth\":0,\"ticks\":\"\"},\"colorscale\":[[0.0,\"#0d0887\"],[0.1111111111111111,\"#46039f\"],[0.2222222222222222,\"#7201a8\"],[0.3333333333333333,\"#9c179e\"],[0.4444444444444444,\"#bd3786\"],[0.5555555555555556,\"#d8576b\"],[0.6666666666666666,\"#ed7953\"],[0.7777777777777778,\"#fb9f3a\"],[0.8888888888888888,\"#fdca26\"],[1.0,\"#f0f921\"]]}],\"contourcarpet\":[{\"type\":\"contourcarpet\",\"colorbar\":{\"outlinewidth\":0,\"ticks\":\"\"}}],\"contour\":[{\"type\":\"contour\",\"colorbar\":{\"outlinewidth\":0,\"ticks\":\"\"},\"colorscale\":[[0.0,\"#0d0887\"],[0.1111111111111111,\"#46039f\"],[0.2222222222222222,\"#7201a8\"],[0.3333333333333333,\"#9c179e\"],[0.4444444444444444,\"#bd3786\"],[0.5555555555555556,\"#d8576b\"],[0.6666666666666666,\"#ed7953\"],[0.7777777777777778,\"#fb9f3a\"],[0.8888888888888888,\"#fdca26\"],[1.0,\"#f0f921\"]]}],\"surface\":[{\"type\":\"surface\",\"colorbar\":{\"outlinewidth\":0,\"ticks\":\"\"},\"colorscale\":[[0.0,\"#0d0887\"],[0.1111111111111111,\"#46039f\"],[0.2222222222222222,\"#7201a8\"],[0.3333333333333333,\"#9c179e\"],[0.4444444444444444,\"#bd3786\"],[0.5555555555555556,\"#d8576b\"],[0.6666666666666666,\"#ed7953\"],[0.7777777777777778,\"#fb9f3a\"],[0.8888888888888888,\"#fdca26\"],[1.0,\"#f0f921\"]]}],\"mesh3d\":[{\"type\":\"mesh3d\",\"colorbar\":{\"outlinewidth\":0,\"ticks\":\"\"}}],\"scatter\":[{\"fillpattern\":{\"fillmode\":\"overlay\",\"size\":10,\"solidity\":0.2},\"type\":\"scatter\"}],\"parcoords\":[{\"type\":\"parcoords\",\"line\":{\"colorbar\":{\"outlinewidth\":0,\"ticks\":\"\"}}}],\"scatterpolargl\":[{\"type\":\"scatterpolargl\",\"marker\":{\"colorbar\":{\"outlinewidth\":0,\"ticks\":\"\"}}}],\"bar\":[{\"error_x\":{\"color\":\"#2a3f5f\"},\"error_y\":{\"color\":\"#2a3f5f\"},\"marker\":{\"line\":{\"color\":\"#E5ECF6\",\"width\":0.5},\"pattern\":{\"fillmode\":\"overlay\",\"size\":10,\"solidity\":0.2}},\"type\":\"bar\"}],\"scattergeo\":[{\"type\":\"scattergeo\",\"marker\":{\"colorbar\":{\"outlinewidth\":0,\"ticks\":\"\"}}}],\"scatterpolar\":[{\"type\":\"scatterpolar\",\"marker\":{\"colorbar\":{\"outlinewidth\":0,\"ticks\":\"\"}}}],\"histogram\":[{\"marker\":{\"pattern\":{\"fillmode\":\"overlay\",\"size\":10,\"solidity\":0.2}},\"type\":\"histogram\"}],\"scattergl\":[{\"type\":\"scattergl\",\"marker\":{\"colorbar\":{\"outlinewidth\":0,\"ticks\":\"\"}}}],\"scatter3d\":[{\"type\":\"scatter3d\",\"line\":{\"colorbar\":{\"outlinewidth\":0,\"ticks\":\"\"}},\"marker\":{\"colorbar\":{\"outlinewidth\":0,\"ticks\":\"\"}}}],\"scattermapbox\":[{\"type\":\"scattermapbox\",\"marker\":{\"colorbar\":{\"outlinewidth\":0,\"ticks\":\"\"}}}],\"scatterternary\":[{\"type\":\"scatterternary\",\"marker\":{\"colorbar\":{\"outlinewidth\":0,\"ticks\":\"\"}}}],\"scattercarpet\":[{\"type\":\"scattercarpet\",\"marker\":{\"colorbar\":{\"outlinewidth\":0,\"ticks\":\"\"}}}],\"carpet\":[{\"aaxis\":{\"endlinecolor\":\"#2a3f5f\",\"gridcolor\":\"white\",\"linecolor\":\"white\",\"minorgridcolor\":\"white\",\"startlinecolor\":\"#2a3f5f\"},\"baxis\":{\"endlinecolor\":\"#2a3f5f\",\"gridcolor\":\"white\",\"linecolor\":\"white\",\"minorgridcolor\":\"white\",\"startlinecolor\":\"#2a3f5f\"},\"type\":\"carpet\"}],\"table\":[{\"cells\":{\"fill\":{\"color\":\"#EBF0F8\"},\"line\":{\"color\":\"white\"}},\"header\":{\"fill\":{\"color\":\"#C8D4E3\"},\"line\":{\"color\":\"white\"}},\"type\":\"table\"}],\"barpolar\":[{\"marker\":{\"line\":{\"color\":\"#E5ECF6\",\"width\":0.5},\"pattern\":{\"fillmode\":\"overlay\",\"size\":10,\"solidity\":0.2}},\"type\":\"barpolar\"}],\"pie\":[{\"automargin\":true,\"type\":\"pie\"}]},\"layout\":{\"autotypenumbers\":\"strict\",\"colorway\":[\"#636efa\",\"#EF553B\",\"#00cc96\",\"#ab63fa\",\"#FFA15A\",\"#19d3f3\",\"#FF6692\",\"#B6E880\",\"#FF97FF\",\"#FECB52\"],\"font\":{\"color\":\"#2a3f5f\"},\"hovermode\":\"closest\",\"hoverlabel\":{\"align\":\"left\"},\"paper_bgcolor\":\"white\",\"plot_bgcolor\":\"#E5ECF6\",\"polar\":{\"bgcolor\":\"#E5ECF6\",\"angularaxis\":{\"gridcolor\":\"white\",\"linecolor\":\"white\",\"ticks\":\"\"},\"radialaxis\":{\"gridcolor\":\"white\",\"linecolor\":\"white\",\"ticks\":\"\"}},\"ternary\":{\"bgcolor\":\"#E5ECF6\",\"aaxis\":{\"gridcolor\":\"white\",\"linecolor\":\"white\",\"ticks\":\"\"},\"baxis\":{\"gridcolor\":\"white\",\"linecolor\":\"white\",\"ticks\":\"\"},\"caxis\":{\"gridcolor\":\"white\",\"linecolor\":\"white\",\"ticks\":\"\"}},\"coloraxis\":{\"colorbar\":{\"outlinewidth\":0,\"ticks\":\"\"}},\"colorscale\":{\"sequential\":[[0.0,\"#0d0887\"],[0.1111111111111111,\"#46039f\"],[0.2222222222222222,\"#7201a8\"],[0.3333333333333333,\"#9c179e\"],[0.4444444444444444,\"#bd3786\"],[0.5555555555555556,\"#d8576b\"],[0.6666666666666666,\"#ed7953\"],[0.7777777777777778,\"#fb9f3a\"],[0.8888888888888888,\"#fdca26\"],[1.0,\"#f0f921\"]],\"sequentialminus\":[[0.0,\"#0d0887\"],[0.1111111111111111,\"#46039f\"],[0.2222222222222222,\"#7201a8\"],[0.3333333333333333,\"#9c179e\"],[0.4444444444444444,\"#bd3786\"],[0.5555555555555556,\"#d8576b\"],[0.6666666666666666,\"#ed7953\"],[0.7777777777777778,\"#fb9f3a\"],[0.8888888888888888,\"#fdca26\"],[1.0,\"#f0f921\"]],\"diverging\":[[0,\"#8e0152\"],[0.1,\"#c51b7d\"],[0.2,\"#de77ae\"],[0.3,\"#f1b6da\"],[0.4,\"#fde0ef\"],[0.5,\"#f7f7f7\"],[0.6,\"#e6f5d0\"],[0.7,\"#b8e186\"],[0.8,\"#7fbc41\"],[0.9,\"#4d9221\"],[1,\"#276419\"]]},\"xaxis\":{\"gridcolor\":\"white\",\"linecolor\":\"white\",\"ticks\":\"\",\"title\":{\"standoff\":15},\"zerolinecolor\":\"white\",\"automargin\":true,\"zerolinewidth\":2},\"yaxis\":{\"gridcolor\":\"white\",\"linecolor\":\"white\",\"ticks\":\"\",\"title\":{\"standoff\":15},\"zerolinecolor\":\"white\",\"automargin\":true,\"zerolinewidth\":2},\"scene\":{\"xaxis\":{\"backgroundcolor\":\"#E5ECF6\",\"gridcolor\":\"white\",\"linecolor\":\"white\",\"showbackground\":true,\"ticks\":\"\",\"zerolinecolor\":\"white\",\"gridwidth\":2},\"yaxis\":{\"backgroundcolor\":\"#E5ECF6\",\"gridcolor\":\"white\",\"linecolor\":\"white\",\"showbackground\":true,\"ticks\":\"\",\"zerolinecolor\":\"white\",\"gridwidth\":2},\"zaxis\":{\"backgroundcolor\":\"#E5ECF6\",\"gridcolor\":\"white\",\"linecolor\":\"white\",\"showbackground\":true,\"ticks\":\"\",\"zerolinecolor\":\"white\",\"gridwidth\":2}},\"shapedefaults\":{\"line\":{\"color\":\"#2a3f5f\"}},\"annotationdefaults\":{\"arrowcolor\":\"#2a3f5f\",\"arrowhead\":0,\"arrowwidth\":1},\"geo\":{\"bgcolor\":\"white\",\"landcolor\":\"#E5ECF6\",\"subunitcolor\":\"white\",\"showland\":true,\"showlakes\":true,\"lakecolor\":\"white\"},\"title\":{\"x\":0.05},\"mapbox\":{\"style\":\"light\"}}},\"xaxis\":{\"nticks\":36},\"title\":{\"text\":\"MCAR - 0.5\"}},                        {\"responsive\": true}                    ).then(function(){\n",
       "                            \n",
       "var gd = document.getElementById('ea83d9c3-d29f-4180-92c8-e93a135ea9b3');\n",
       "var x = new MutationObserver(function (mutations, observer) {{\n",
       "        var display = window.getComputedStyle(gd).display;\n",
       "        if (!display || display === 'none') {{\n",
       "            console.log([gd, 'removed!']);\n",
       "            Plotly.purge(gd);\n",
       "            observer.disconnect();\n",
       "        }}\n",
       "}});\n",
       "\n",
       "// Listen for the removal of the full notebook cells\n",
       "var notebookContainer = gd.closest('#notebook-container');\n",
       "if (notebookContainer) {{\n",
       "    x.observe(notebookContainer, {childList: true});\n",
       "}}\n",
       "\n",
       "// Listen for the clearing of the current output cell\n",
       "var outputEl = gd.closest('.output');\n",
       "if (outputEl) {{\n",
       "    x.observe(outputEl, {childList: true});\n",
       "}}\n",
       "\n",
       "                        })                };                });            </script>        </div>"
      ]
     },
     "metadata": {},
     "output_type": "display_data"
    },
    {
     "data": {
      "application/vnd.plotly.v1+json": {
       "config": {
        "plotlyServerURL": "https://plot.ly"
       },
       "data": [
        {
         "autocolorscale": false,
         "colorscale": [
          [
           0,
           "rgb(5,48,97)"
          ],
          [
           0.1,
           "rgb(33,102,172)"
          ],
          [
           0.2,
           "rgb(67,147,195)"
          ],
          [
           0.3,
           "rgb(146,197,222)"
          ],
          [
           0.4,
           "rgb(209,229,240)"
          ],
          [
           0.5,
           "rgb(247,247,247)"
          ],
          [
           0.6,
           "rgb(253,219,199)"
          ],
          [
           0.7,
           "rgb(244,165,130)"
          ],
          [
           0.8,
           "rgb(214,96,77)"
          ],
          [
           0.9,
           "rgb(178,24,43)"
          ],
          [
           1,
           "rgb(103,0,31)"
          ]
         ],
         "type": "heatmap",
         "x": [
          "40677",
          "40677",
          "40677",
          "40677",
          "40677",
          "40677",
          "40497",
          "40497",
          "40497",
          "40497",
          "40497",
          "40497",
          "183",
          "183",
          "183",
          "183",
          "183",
          "183",
          "40498",
          "40498",
          "40498",
          "40498",
          "40498",
          "40498",
          "1526",
          "1526",
          "1526",
          "1526",
          "1526",
          "1526",
          "30",
          "30",
          "30",
          "30",
          "30",
          "30",
          "4552",
          "4552",
          "4552",
          "4552",
          "4552",
          "4552",
          "375",
          "375",
          "375",
          "375",
          "375",
          "375",
          "1459",
          "1459",
          "1459",
          "1459",
          "1459",
          "1459",
          "32",
          "32",
          "32",
          "32",
          "32",
          "32",
          "26",
          "26",
          "26",
          "26",
          "26",
          "26",
          "41671",
          "41671",
          "41671",
          "6",
          "41671",
          "6",
          "41671",
          "6",
          "6",
          "6",
          "1481",
          "1481",
          "184",
          "184",
          "1481",
          "184",
          "184",
          "1481",
          "184",
          "1481",
          "1481",
          "184",
          "41027",
          "41027",
          "41027",
          "41027",
          "41027",
          "41027",
          "40685",
          "40685",
          "40685",
          "40685",
          "40685"
         ],
         "y": [
          "Mean/Mode",
          "Discriminative DL",
          "KNN",
          "VAE",
          "GAIN",
          "Random Forest",
          "KNN",
          "GAIN",
          "Mean/Mode",
          "Discriminative DL",
          "VAE",
          "Random Forest",
          "VAE",
          "GAIN",
          "KNN",
          "Random Forest",
          "Mean/Mode",
          "Discriminative DL",
          "GAIN",
          "Random Forest",
          "VAE",
          "Mean/Mode",
          "Discriminative DL",
          "KNN",
          "KNN",
          "GAIN",
          "Random Forest",
          "Mean/Mode",
          "VAE",
          "Discriminative DL",
          "Discriminative DL",
          "Random Forest",
          "KNN",
          "Mean/Mode",
          "VAE",
          "GAIN",
          "KNN",
          "Discriminative DL",
          "Mean/Mode",
          "VAE",
          "GAIN",
          "Random Forest",
          "Discriminative DL",
          "KNN",
          "Random Forest",
          "Mean/Mode",
          "VAE",
          "GAIN",
          "Mean/Mode",
          "Random Forest",
          "KNN",
          "GAIN",
          "VAE",
          "Discriminative DL",
          "Discriminative DL",
          "Random Forest",
          "GAIN",
          "Mean/Mode",
          "KNN",
          "VAE",
          "KNN",
          "GAIN",
          "Mean/Mode",
          "VAE",
          "Discriminative DL",
          "Random Forest",
          "VAE",
          "Random Forest",
          "KNN",
          "VAE",
          "Mean/Mode",
          "Discriminative DL",
          "Discriminative DL",
          "KNN",
          "Mean/Mode",
          "Random Forest",
          "Random Forest",
          "Discriminative DL",
          "GAIN",
          "Discriminative DL",
          "Mean/Mode",
          "KNN",
          "Random Forest",
          "VAE",
          "Mean/Mode",
          "KNN",
          "GAIN",
          "VAE",
          "Discriminative DL",
          "KNN",
          "Mean/Mode",
          "GAIN",
          "VAE",
          "Random Forest",
          "VAE",
          "Mean/Mode",
          "Discriminative DL",
          "Random Forest",
          "KNN"
         ],
         "z": [
          0.0014352172122048,
          5.454943683527155e-06,
          -0.0014167414933541,
          0.0014687416600254,
          -0.001620244477803,
          -0.0020103216714241,
          0,
          0,
          0,
          -0.0036490775823643,
          -0.0036490775823643,
          0,
          -0.0153375800910286,
          0.0050881197087435,
          -0.0020284902053845,
          -0.0024527682651233,
          -0.0053733891394458,
          -0.0204915069970981,
          0.0014367767142978,
          0.001591799574798,
          0.003318494269222,
          0.0002938992222751,
          0.0006832931853917,
          0.0039935545233208,
          -0.0005758174511712,
          0.0046569215810105,
          -0.0004833189312018,
          0.0044440910093539,
          0.0040842018421744,
          0.0034576713845063,
          0,
          0,
          0,
          0,
          0,
          0.0002852833533653,
          0.0002026408512942,
          0.0014552892903247,
          0.0020649471136498,
          0.0023149559616725,
          0,
          0.0001957032595784,
          0.001088764152991,
          0.0018878623043301,
          0.0011118000375122,
          0.0009582515210094,
          0.0005589139402786,
          -0.0012722101197638,
          0.0085602878547683,
          0.0108037347745704,
          0.0110532976736653,
          0.0021052228105421,
          0.0054344378633368,
          0.0127857430788889,
          0.0040544199314788,
          0.0042199442503287,
          0.0009320531004488,
          0.0029365238194849,
          0.0034099661007975,
          0.0037745034548049,
          -0.0012055957666074,
          -0.0010727175854411,
          -0.0009409870537406,
          -0.000938713563552,
          -0.0003993103484131,
          -0.0014684020339539,
          -0.0042400246657022,
          -0.0008250145679702,
          -0.0001168469064988,
          0.0010721696225917,
          3.200081720717583e-05,
          0.0013257605221969,
          -1.890561021603409e-05,
          0.0013678083489536,
          0.0017221834123679,
          0.0019710291241786,
          0.0016905144003676,
          0.0033631435463032,
          -0.0034422303646898,
          -0.0028219361098223,
          0.0013655235072347,
          -0.0004987731426914,
          0.0007856765933493,
          0.0015907405445911,
          0.0008568383987698,
          0.0012974904800289,
          0.001086706182009,
          -0.0005001626318893,
          0.0006207935350284,
          0.0004872635595878,
          0.0004699790351719,
          6.186551111797446e-05,
          -5.7138596162665e-05,
          0.0004083126370312,
          0,
          0,
          0,
          -4.783076391674688e-05,
          -2.3804659030866728e-05
         ],
         "zmid": 0
        }
       ],
       "layout": {
        "template": {
         "data": {
          "bar": [
           {
            "error_x": {
             "color": "#2a3f5f"
            },
            "error_y": {
             "color": "#2a3f5f"
            },
            "marker": {
             "line": {
              "color": "#E5ECF6",
              "width": 0.5
             },
             "pattern": {
              "fillmode": "overlay",
              "size": 10,
              "solidity": 0.2
             }
            },
            "type": "bar"
           }
          ],
          "barpolar": [
           {
            "marker": {
             "line": {
              "color": "#E5ECF6",
              "width": 0.5
             },
             "pattern": {
              "fillmode": "overlay",
              "size": 10,
              "solidity": 0.2
             }
            },
            "type": "barpolar"
           }
          ],
          "carpet": [
           {
            "aaxis": {
             "endlinecolor": "#2a3f5f",
             "gridcolor": "white",
             "linecolor": "white",
             "minorgridcolor": "white",
             "startlinecolor": "#2a3f5f"
            },
            "baxis": {
             "endlinecolor": "#2a3f5f",
             "gridcolor": "white",
             "linecolor": "white",
             "minorgridcolor": "white",
             "startlinecolor": "#2a3f5f"
            },
            "type": "carpet"
           }
          ],
          "choropleth": [
           {
            "colorbar": {
             "outlinewidth": 0,
             "ticks": ""
            },
            "type": "choropleth"
           }
          ],
          "contour": [
           {
            "colorbar": {
             "outlinewidth": 0,
             "ticks": ""
            },
            "colorscale": [
             [
              0,
              "#0d0887"
             ],
             [
              0.1111111111111111,
              "#46039f"
             ],
             [
              0.2222222222222222,
              "#7201a8"
             ],
             [
              0.3333333333333333,
              "#9c179e"
             ],
             [
              0.4444444444444444,
              "#bd3786"
             ],
             [
              0.5555555555555556,
              "#d8576b"
             ],
             [
              0.6666666666666666,
              "#ed7953"
             ],
             [
              0.7777777777777778,
              "#fb9f3a"
             ],
             [
              0.8888888888888888,
              "#fdca26"
             ],
             [
              1,
              "#f0f921"
             ]
            ],
            "type": "contour"
           }
          ],
          "contourcarpet": [
           {
            "colorbar": {
             "outlinewidth": 0,
             "ticks": ""
            },
            "type": "contourcarpet"
           }
          ],
          "heatmap": [
           {
            "colorbar": {
             "outlinewidth": 0,
             "ticks": ""
            },
            "colorscale": [
             [
              0,
              "#0d0887"
             ],
             [
              0.1111111111111111,
              "#46039f"
             ],
             [
              0.2222222222222222,
              "#7201a8"
             ],
             [
              0.3333333333333333,
              "#9c179e"
             ],
             [
              0.4444444444444444,
              "#bd3786"
             ],
             [
              0.5555555555555556,
              "#d8576b"
             ],
             [
              0.6666666666666666,
              "#ed7953"
             ],
             [
              0.7777777777777778,
              "#fb9f3a"
             ],
             [
              0.8888888888888888,
              "#fdca26"
             ],
             [
              1,
              "#f0f921"
             ]
            ],
            "type": "heatmap"
           }
          ],
          "heatmapgl": [
           {
            "colorbar": {
             "outlinewidth": 0,
             "ticks": ""
            },
            "colorscale": [
             [
              0,
              "#0d0887"
             ],
             [
              0.1111111111111111,
              "#46039f"
             ],
             [
              0.2222222222222222,
              "#7201a8"
             ],
             [
              0.3333333333333333,
              "#9c179e"
             ],
             [
              0.4444444444444444,
              "#bd3786"
             ],
             [
              0.5555555555555556,
              "#d8576b"
             ],
             [
              0.6666666666666666,
              "#ed7953"
             ],
             [
              0.7777777777777778,
              "#fb9f3a"
             ],
             [
              0.8888888888888888,
              "#fdca26"
             ],
             [
              1,
              "#f0f921"
             ]
            ],
            "type": "heatmapgl"
           }
          ],
          "histogram": [
           {
            "marker": {
             "pattern": {
              "fillmode": "overlay",
              "size": 10,
              "solidity": 0.2
             }
            },
            "type": "histogram"
           }
          ],
          "histogram2d": [
           {
            "colorbar": {
             "outlinewidth": 0,
             "ticks": ""
            },
            "colorscale": [
             [
              0,
              "#0d0887"
             ],
             [
              0.1111111111111111,
              "#46039f"
             ],
             [
              0.2222222222222222,
              "#7201a8"
             ],
             [
              0.3333333333333333,
              "#9c179e"
             ],
             [
              0.4444444444444444,
              "#bd3786"
             ],
             [
              0.5555555555555556,
              "#d8576b"
             ],
             [
              0.6666666666666666,
              "#ed7953"
             ],
             [
              0.7777777777777778,
              "#fb9f3a"
             ],
             [
              0.8888888888888888,
              "#fdca26"
             ],
             [
              1,
              "#f0f921"
             ]
            ],
            "type": "histogram2d"
           }
          ],
          "histogram2dcontour": [
           {
            "colorbar": {
             "outlinewidth": 0,
             "ticks": ""
            },
            "colorscale": [
             [
              0,
              "#0d0887"
             ],
             [
              0.1111111111111111,
              "#46039f"
             ],
             [
              0.2222222222222222,
              "#7201a8"
             ],
             [
              0.3333333333333333,
              "#9c179e"
             ],
             [
              0.4444444444444444,
              "#bd3786"
             ],
             [
              0.5555555555555556,
              "#d8576b"
             ],
             [
              0.6666666666666666,
              "#ed7953"
             ],
             [
              0.7777777777777778,
              "#fb9f3a"
             ],
             [
              0.8888888888888888,
              "#fdca26"
             ],
             [
              1,
              "#f0f921"
             ]
            ],
            "type": "histogram2dcontour"
           }
          ],
          "mesh3d": [
           {
            "colorbar": {
             "outlinewidth": 0,
             "ticks": ""
            },
            "type": "mesh3d"
           }
          ],
          "parcoords": [
           {
            "line": {
             "colorbar": {
              "outlinewidth": 0,
              "ticks": ""
             }
            },
            "type": "parcoords"
           }
          ],
          "pie": [
           {
            "automargin": true,
            "type": "pie"
           }
          ],
          "scatter": [
           {
            "fillpattern": {
             "fillmode": "overlay",
             "size": 10,
             "solidity": 0.2
            },
            "type": "scatter"
           }
          ],
          "scatter3d": [
           {
            "line": {
             "colorbar": {
              "outlinewidth": 0,
              "ticks": ""
             }
            },
            "marker": {
             "colorbar": {
              "outlinewidth": 0,
              "ticks": ""
             }
            },
            "type": "scatter3d"
           }
          ],
          "scattercarpet": [
           {
            "marker": {
             "colorbar": {
              "outlinewidth": 0,
              "ticks": ""
             }
            },
            "type": "scattercarpet"
           }
          ],
          "scattergeo": [
           {
            "marker": {
             "colorbar": {
              "outlinewidth": 0,
              "ticks": ""
             }
            },
            "type": "scattergeo"
           }
          ],
          "scattergl": [
           {
            "marker": {
             "colorbar": {
              "outlinewidth": 0,
              "ticks": ""
             }
            },
            "type": "scattergl"
           }
          ],
          "scattermapbox": [
           {
            "marker": {
             "colorbar": {
              "outlinewidth": 0,
              "ticks": ""
             }
            },
            "type": "scattermapbox"
           }
          ],
          "scatterpolar": [
           {
            "marker": {
             "colorbar": {
              "outlinewidth": 0,
              "ticks": ""
             }
            },
            "type": "scatterpolar"
           }
          ],
          "scatterpolargl": [
           {
            "marker": {
             "colorbar": {
              "outlinewidth": 0,
              "ticks": ""
             }
            },
            "type": "scatterpolargl"
           }
          ],
          "scatterternary": [
           {
            "marker": {
             "colorbar": {
              "outlinewidth": 0,
              "ticks": ""
             }
            },
            "type": "scatterternary"
           }
          ],
          "surface": [
           {
            "colorbar": {
             "outlinewidth": 0,
             "ticks": ""
            },
            "colorscale": [
             [
              0,
              "#0d0887"
             ],
             [
              0.1111111111111111,
              "#46039f"
             ],
             [
              0.2222222222222222,
              "#7201a8"
             ],
             [
              0.3333333333333333,
              "#9c179e"
             ],
             [
              0.4444444444444444,
              "#bd3786"
             ],
             [
              0.5555555555555556,
              "#d8576b"
             ],
             [
              0.6666666666666666,
              "#ed7953"
             ],
             [
              0.7777777777777778,
              "#fb9f3a"
             ],
             [
              0.8888888888888888,
              "#fdca26"
             ],
             [
              1,
              "#f0f921"
             ]
            ],
            "type": "surface"
           }
          ],
          "table": [
           {
            "cells": {
             "fill": {
              "color": "#EBF0F8"
             },
             "line": {
              "color": "white"
             }
            },
            "header": {
             "fill": {
              "color": "#C8D4E3"
             },
             "line": {
              "color": "white"
             }
            },
            "type": "table"
           }
          ]
         },
         "layout": {
          "annotationdefaults": {
           "arrowcolor": "#2a3f5f",
           "arrowhead": 0,
           "arrowwidth": 1
          },
          "autotypenumbers": "strict",
          "coloraxis": {
           "colorbar": {
            "outlinewidth": 0,
            "ticks": ""
           }
          },
          "colorscale": {
           "diverging": [
            [
             0,
             "#8e0152"
            ],
            [
             0.1,
             "#c51b7d"
            ],
            [
             0.2,
             "#de77ae"
            ],
            [
             0.3,
             "#f1b6da"
            ],
            [
             0.4,
             "#fde0ef"
            ],
            [
             0.5,
             "#f7f7f7"
            ],
            [
             0.6,
             "#e6f5d0"
            ],
            [
             0.7,
             "#b8e186"
            ],
            [
             0.8,
             "#7fbc41"
            ],
            [
             0.9,
             "#4d9221"
            ],
            [
             1,
             "#276419"
            ]
           ],
           "sequential": [
            [
             0,
             "#0d0887"
            ],
            [
             0.1111111111111111,
             "#46039f"
            ],
            [
             0.2222222222222222,
             "#7201a8"
            ],
            [
             0.3333333333333333,
             "#9c179e"
            ],
            [
             0.4444444444444444,
             "#bd3786"
            ],
            [
             0.5555555555555556,
             "#d8576b"
            ],
            [
             0.6666666666666666,
             "#ed7953"
            ],
            [
             0.7777777777777778,
             "#fb9f3a"
            ],
            [
             0.8888888888888888,
             "#fdca26"
            ],
            [
             1,
             "#f0f921"
            ]
           ],
           "sequentialminus": [
            [
             0,
             "#0d0887"
            ],
            [
             0.1111111111111111,
             "#46039f"
            ],
            [
             0.2222222222222222,
             "#7201a8"
            ],
            [
             0.3333333333333333,
             "#9c179e"
            ],
            [
             0.4444444444444444,
             "#bd3786"
            ],
            [
             0.5555555555555556,
             "#d8576b"
            ],
            [
             0.6666666666666666,
             "#ed7953"
            ],
            [
             0.7777777777777778,
             "#fb9f3a"
            ],
            [
             0.8888888888888888,
             "#fdca26"
            ],
            [
             1,
             "#f0f921"
            ]
           ]
          },
          "colorway": [
           "#636efa",
           "#EF553B",
           "#00cc96",
           "#ab63fa",
           "#FFA15A",
           "#19d3f3",
           "#FF6692",
           "#B6E880",
           "#FF97FF",
           "#FECB52"
          ],
          "font": {
           "color": "#2a3f5f"
          },
          "geo": {
           "bgcolor": "white",
           "lakecolor": "white",
           "landcolor": "#E5ECF6",
           "showlakes": true,
           "showland": true,
           "subunitcolor": "white"
          },
          "hoverlabel": {
           "align": "left"
          },
          "hovermode": "closest",
          "mapbox": {
           "style": "light"
          },
          "paper_bgcolor": "white",
          "plot_bgcolor": "#E5ECF6",
          "polar": {
           "angularaxis": {
            "gridcolor": "white",
            "linecolor": "white",
            "ticks": ""
           },
           "bgcolor": "#E5ECF6",
           "radialaxis": {
            "gridcolor": "white",
            "linecolor": "white",
            "ticks": ""
           }
          },
          "scene": {
           "xaxis": {
            "backgroundcolor": "#E5ECF6",
            "gridcolor": "white",
            "gridwidth": 2,
            "linecolor": "white",
            "showbackground": true,
            "ticks": "",
            "zerolinecolor": "white"
           },
           "yaxis": {
            "backgroundcolor": "#E5ECF6",
            "gridcolor": "white",
            "gridwidth": 2,
            "linecolor": "white",
            "showbackground": true,
            "ticks": "",
            "zerolinecolor": "white"
           },
           "zaxis": {
            "backgroundcolor": "#E5ECF6",
            "gridcolor": "white",
            "gridwidth": 2,
            "linecolor": "white",
            "showbackground": true,
            "ticks": "",
            "zerolinecolor": "white"
           }
          },
          "shapedefaults": {
           "line": {
            "color": "#2a3f5f"
           }
          },
          "ternary": {
           "aaxis": {
            "gridcolor": "white",
            "linecolor": "white",
            "ticks": ""
           },
           "baxis": {
            "gridcolor": "white",
            "linecolor": "white",
            "ticks": ""
           },
           "bgcolor": "#E5ECF6",
           "caxis": {
            "gridcolor": "white",
            "linecolor": "white",
            "ticks": ""
           }
          },
          "title": {
           "x": 0.05
          },
          "xaxis": {
           "automargin": true,
           "gridcolor": "white",
           "linecolor": "white",
           "ticks": "",
           "title": {
            "standoff": 15
           },
           "zerolinecolor": "white",
           "zerolinewidth": 2
          },
          "yaxis": {
           "automargin": true,
           "gridcolor": "white",
           "linecolor": "white",
           "ticks": "",
           "title": {
            "standoff": 15
           },
           "zerolinecolor": "white",
           "zerolinewidth": 2
          }
         }
        },
        "title": {
         "text": "MCAR - 0.01"
        },
        "xaxis": {
         "nticks": 36
        }
       }
      },
      "text/html": [
       "<div>                            <div id=\"ca02f905-38d9-4d0b-b05a-4ce63f0142a7\" class=\"plotly-graph-div\" style=\"height:525px; width:100%;\"></div>            <script type=\"text/javascript\">                require([\"plotly\"], function(Plotly) {                    window.PLOTLYENV=window.PLOTLYENV || {};                                    if (document.getElementById(\"ca02f905-38d9-4d0b-b05a-4ce63f0142a7\")) {                    Plotly.newPlot(                        \"ca02f905-38d9-4d0b-b05a-4ce63f0142a7\",                        [{\"autocolorscale\":false,\"colorscale\":[[0.0,\"rgb(5,48,97)\"],[0.1,\"rgb(33,102,172)\"],[0.2,\"rgb(67,147,195)\"],[0.3,\"rgb(146,197,222)\"],[0.4,\"rgb(209,229,240)\"],[0.5,\"rgb(247,247,247)\"],[0.6,\"rgb(253,219,199)\"],[0.7,\"rgb(244,165,130)\"],[0.8,\"rgb(214,96,77)\"],[0.9,\"rgb(178,24,43)\"],[1.0,\"rgb(103,0,31)\"]],\"x\":[\"40677\",\"40677\",\"40677\",\"40677\",\"40677\",\"40677\",\"40497\",\"40497\",\"40497\",\"40497\",\"40497\",\"40497\",\"183\",\"183\",\"183\",\"183\",\"183\",\"183\",\"40498\",\"40498\",\"40498\",\"40498\",\"40498\",\"40498\",\"1526\",\"1526\",\"1526\",\"1526\",\"1526\",\"1526\",\"30\",\"30\",\"30\",\"30\",\"30\",\"30\",\"4552\",\"4552\",\"4552\",\"4552\",\"4552\",\"4552\",\"375\",\"375\",\"375\",\"375\",\"375\",\"375\",\"1459\",\"1459\",\"1459\",\"1459\",\"1459\",\"1459\",\"32\",\"32\",\"32\",\"32\",\"32\",\"32\",\"26\",\"26\",\"26\",\"26\",\"26\",\"26\",\"41671\",\"41671\",\"41671\",\"6\",\"41671\",\"6\",\"41671\",\"6\",\"6\",\"6\",\"1481\",\"1481\",\"184\",\"184\",\"1481\",\"184\",\"184\",\"1481\",\"184\",\"1481\",\"1481\",\"184\",\"41027\",\"41027\",\"41027\",\"41027\",\"41027\",\"41027\",\"40685\",\"40685\",\"40685\",\"40685\",\"40685\"],\"y\":[\"Mean/Mode\",\"Discriminative DL\",\"KNN\",\"VAE\",\"GAIN\",\"Random Forest\",\"KNN\",\"GAIN\",\"Mean/Mode\",\"Discriminative DL\",\"VAE\",\"Random Forest\",\"VAE\",\"GAIN\",\"KNN\",\"Random Forest\",\"Mean/Mode\",\"Discriminative DL\",\"GAIN\",\"Random Forest\",\"VAE\",\"Mean/Mode\",\"Discriminative DL\",\"KNN\",\"KNN\",\"GAIN\",\"Random Forest\",\"Mean/Mode\",\"VAE\",\"Discriminative DL\",\"Discriminative DL\",\"Random Forest\",\"KNN\",\"Mean/Mode\",\"VAE\",\"GAIN\",\"KNN\",\"Discriminative DL\",\"Mean/Mode\",\"VAE\",\"GAIN\",\"Random Forest\",\"Discriminative DL\",\"KNN\",\"Random Forest\",\"Mean/Mode\",\"VAE\",\"GAIN\",\"Mean/Mode\",\"Random Forest\",\"KNN\",\"GAIN\",\"VAE\",\"Discriminative DL\",\"Discriminative DL\",\"Random Forest\",\"GAIN\",\"Mean/Mode\",\"KNN\",\"VAE\",\"KNN\",\"GAIN\",\"Mean/Mode\",\"VAE\",\"Discriminative DL\",\"Random Forest\",\"VAE\",\"Random Forest\",\"KNN\",\"VAE\",\"Mean/Mode\",\"Discriminative DL\",\"Discriminative DL\",\"KNN\",\"Mean/Mode\",\"Random Forest\",\"Random Forest\",\"Discriminative DL\",\"GAIN\",\"Discriminative DL\",\"Mean/Mode\",\"KNN\",\"Random Forest\",\"VAE\",\"Mean/Mode\",\"KNN\",\"GAIN\",\"VAE\",\"Discriminative DL\",\"KNN\",\"Mean/Mode\",\"GAIN\",\"VAE\",\"Random Forest\",\"VAE\",\"Mean/Mode\",\"Discriminative DL\",\"Random Forest\",\"KNN\"],\"z\":[0.0014352172122048,5.454943683527155e-06,-0.0014167414933541,0.0014687416600254,-0.001620244477803,-0.0020103216714241,0.0,0.0,0.0,-0.0036490775823643,-0.0036490775823643,0.0,-0.0153375800910286,0.0050881197087435,-0.0020284902053845,-0.0024527682651233,-0.0053733891394458,-0.0204915069970981,0.0014367767142978,0.001591799574798,0.003318494269222,0.0002938992222751,0.0006832931853917,0.0039935545233208,-0.0005758174511712,0.0046569215810105,-0.0004833189312018,0.0044440910093539,0.0040842018421744,0.0034576713845063,0.0,0.0,0.0,0.0,0.0,0.0002852833533653,0.0002026408512942,0.0014552892903247,0.0020649471136498,0.0023149559616725,0.0,0.0001957032595784,0.001088764152991,0.0018878623043301,0.0011118000375122,0.0009582515210094,0.0005589139402786,-0.0012722101197638,0.0085602878547683,0.0108037347745704,0.0110532976736653,0.0021052228105421,0.0054344378633368,0.0127857430788889,0.0040544199314788,0.0042199442503287,0.0009320531004488,0.0029365238194849,0.0034099661007975,0.0037745034548049,-0.0012055957666074,-0.0010727175854411,-0.0009409870537406,-0.000938713563552,-0.0003993103484131,-0.0014684020339539,-0.0042400246657022,-0.0008250145679702,-0.0001168469064988,0.0010721696225917,3.200081720717583e-05,0.0013257605221969,-1.890561021603409e-05,0.0013678083489536,0.0017221834123679,0.0019710291241786,0.0016905144003676,0.0033631435463032,-0.0034422303646898,-0.0028219361098223,0.0013655235072347,-0.0004987731426914,0.0007856765933493,0.0015907405445911,0.0008568383987698,0.0012974904800289,0.001086706182009,-0.0005001626318893,0.0006207935350284,0.0004872635595878,0.0004699790351719,6.186551111797446e-05,-5.7138596162665e-05,0.0004083126370312,0.0,0.0,0.0,-4.783076391674688e-05,-2.3804659030866728e-05],\"zmid\":0,\"type\":\"heatmap\"}],                        {\"template\":{\"data\":{\"histogram2dcontour\":[{\"type\":\"histogram2dcontour\",\"colorbar\":{\"outlinewidth\":0,\"ticks\":\"\"},\"colorscale\":[[0.0,\"#0d0887\"],[0.1111111111111111,\"#46039f\"],[0.2222222222222222,\"#7201a8\"],[0.3333333333333333,\"#9c179e\"],[0.4444444444444444,\"#bd3786\"],[0.5555555555555556,\"#d8576b\"],[0.6666666666666666,\"#ed7953\"],[0.7777777777777778,\"#fb9f3a\"],[0.8888888888888888,\"#fdca26\"],[1.0,\"#f0f921\"]]}],\"choropleth\":[{\"type\":\"choropleth\",\"colorbar\":{\"outlinewidth\":0,\"ticks\":\"\"}}],\"histogram2d\":[{\"type\":\"histogram2d\",\"colorbar\":{\"outlinewidth\":0,\"ticks\":\"\"},\"colorscale\":[[0.0,\"#0d0887\"],[0.1111111111111111,\"#46039f\"],[0.2222222222222222,\"#7201a8\"],[0.3333333333333333,\"#9c179e\"],[0.4444444444444444,\"#bd3786\"],[0.5555555555555556,\"#d8576b\"],[0.6666666666666666,\"#ed7953\"],[0.7777777777777778,\"#fb9f3a\"],[0.8888888888888888,\"#fdca26\"],[1.0,\"#f0f921\"]]}],\"heatmap\":[{\"type\":\"heatmap\",\"colorbar\":{\"outlinewidth\":0,\"ticks\":\"\"},\"colorscale\":[[0.0,\"#0d0887\"],[0.1111111111111111,\"#46039f\"],[0.2222222222222222,\"#7201a8\"],[0.3333333333333333,\"#9c179e\"],[0.4444444444444444,\"#bd3786\"],[0.5555555555555556,\"#d8576b\"],[0.6666666666666666,\"#ed7953\"],[0.7777777777777778,\"#fb9f3a\"],[0.8888888888888888,\"#fdca26\"],[1.0,\"#f0f921\"]]}],\"heatmapgl\":[{\"type\":\"heatmapgl\",\"colorbar\":{\"outlinewidth\":0,\"ticks\":\"\"},\"colorscale\":[[0.0,\"#0d0887\"],[0.1111111111111111,\"#46039f\"],[0.2222222222222222,\"#7201a8\"],[0.3333333333333333,\"#9c179e\"],[0.4444444444444444,\"#bd3786\"],[0.5555555555555556,\"#d8576b\"],[0.6666666666666666,\"#ed7953\"],[0.7777777777777778,\"#fb9f3a\"],[0.8888888888888888,\"#fdca26\"],[1.0,\"#f0f921\"]]}],\"contourcarpet\":[{\"type\":\"contourcarpet\",\"colorbar\":{\"outlinewidth\":0,\"ticks\":\"\"}}],\"contour\":[{\"type\":\"contour\",\"colorbar\":{\"outlinewidth\":0,\"ticks\":\"\"},\"colorscale\":[[0.0,\"#0d0887\"],[0.1111111111111111,\"#46039f\"],[0.2222222222222222,\"#7201a8\"],[0.3333333333333333,\"#9c179e\"],[0.4444444444444444,\"#bd3786\"],[0.5555555555555556,\"#d8576b\"],[0.6666666666666666,\"#ed7953\"],[0.7777777777777778,\"#fb9f3a\"],[0.8888888888888888,\"#fdca26\"],[1.0,\"#f0f921\"]]}],\"surface\":[{\"type\":\"surface\",\"colorbar\":{\"outlinewidth\":0,\"ticks\":\"\"},\"colorscale\":[[0.0,\"#0d0887\"],[0.1111111111111111,\"#46039f\"],[0.2222222222222222,\"#7201a8\"],[0.3333333333333333,\"#9c179e\"],[0.4444444444444444,\"#bd3786\"],[0.5555555555555556,\"#d8576b\"],[0.6666666666666666,\"#ed7953\"],[0.7777777777777778,\"#fb9f3a\"],[0.8888888888888888,\"#fdca26\"],[1.0,\"#f0f921\"]]}],\"mesh3d\":[{\"type\":\"mesh3d\",\"colorbar\":{\"outlinewidth\":0,\"ticks\":\"\"}}],\"scatter\":[{\"fillpattern\":{\"fillmode\":\"overlay\",\"size\":10,\"solidity\":0.2},\"type\":\"scatter\"}],\"parcoords\":[{\"type\":\"parcoords\",\"line\":{\"colorbar\":{\"outlinewidth\":0,\"ticks\":\"\"}}}],\"scatterpolargl\":[{\"type\":\"scatterpolargl\",\"marker\":{\"colorbar\":{\"outlinewidth\":0,\"ticks\":\"\"}}}],\"bar\":[{\"error_x\":{\"color\":\"#2a3f5f\"},\"error_y\":{\"color\":\"#2a3f5f\"},\"marker\":{\"line\":{\"color\":\"#E5ECF6\",\"width\":0.5},\"pattern\":{\"fillmode\":\"overlay\",\"size\":10,\"solidity\":0.2}},\"type\":\"bar\"}],\"scattergeo\":[{\"type\":\"scattergeo\",\"marker\":{\"colorbar\":{\"outlinewidth\":0,\"ticks\":\"\"}}}],\"scatterpolar\":[{\"type\":\"scatterpolar\",\"marker\":{\"colorbar\":{\"outlinewidth\":0,\"ticks\":\"\"}}}],\"histogram\":[{\"marker\":{\"pattern\":{\"fillmode\":\"overlay\",\"size\":10,\"solidity\":0.2}},\"type\":\"histogram\"}],\"scattergl\":[{\"type\":\"scattergl\",\"marker\":{\"colorbar\":{\"outlinewidth\":0,\"ticks\":\"\"}}}],\"scatter3d\":[{\"type\":\"scatter3d\",\"line\":{\"colorbar\":{\"outlinewidth\":0,\"ticks\":\"\"}},\"marker\":{\"colorbar\":{\"outlinewidth\":0,\"ticks\":\"\"}}}],\"scattermapbox\":[{\"type\":\"scattermapbox\",\"marker\":{\"colorbar\":{\"outlinewidth\":0,\"ticks\":\"\"}}}],\"scatterternary\":[{\"type\":\"scatterternary\",\"marker\":{\"colorbar\":{\"outlinewidth\":0,\"ticks\":\"\"}}}],\"scattercarpet\":[{\"type\":\"scattercarpet\",\"marker\":{\"colorbar\":{\"outlinewidth\":0,\"ticks\":\"\"}}}],\"carpet\":[{\"aaxis\":{\"endlinecolor\":\"#2a3f5f\",\"gridcolor\":\"white\",\"linecolor\":\"white\",\"minorgridcolor\":\"white\",\"startlinecolor\":\"#2a3f5f\"},\"baxis\":{\"endlinecolor\":\"#2a3f5f\",\"gridcolor\":\"white\",\"linecolor\":\"white\",\"minorgridcolor\":\"white\",\"startlinecolor\":\"#2a3f5f\"},\"type\":\"carpet\"}],\"table\":[{\"cells\":{\"fill\":{\"color\":\"#EBF0F8\"},\"line\":{\"color\":\"white\"}},\"header\":{\"fill\":{\"color\":\"#C8D4E3\"},\"line\":{\"color\":\"white\"}},\"type\":\"table\"}],\"barpolar\":[{\"marker\":{\"line\":{\"color\":\"#E5ECF6\",\"width\":0.5},\"pattern\":{\"fillmode\":\"overlay\",\"size\":10,\"solidity\":0.2}},\"type\":\"barpolar\"}],\"pie\":[{\"automargin\":true,\"type\":\"pie\"}]},\"layout\":{\"autotypenumbers\":\"strict\",\"colorway\":[\"#636efa\",\"#EF553B\",\"#00cc96\",\"#ab63fa\",\"#FFA15A\",\"#19d3f3\",\"#FF6692\",\"#B6E880\",\"#FF97FF\",\"#FECB52\"],\"font\":{\"color\":\"#2a3f5f\"},\"hovermode\":\"closest\",\"hoverlabel\":{\"align\":\"left\"},\"paper_bgcolor\":\"white\",\"plot_bgcolor\":\"#E5ECF6\",\"polar\":{\"bgcolor\":\"#E5ECF6\",\"angularaxis\":{\"gridcolor\":\"white\",\"linecolor\":\"white\",\"ticks\":\"\"},\"radialaxis\":{\"gridcolor\":\"white\",\"linecolor\":\"white\",\"ticks\":\"\"}},\"ternary\":{\"bgcolor\":\"#E5ECF6\",\"aaxis\":{\"gridcolor\":\"white\",\"linecolor\":\"white\",\"ticks\":\"\"},\"baxis\":{\"gridcolor\":\"white\",\"linecolor\":\"white\",\"ticks\":\"\"},\"caxis\":{\"gridcolor\":\"white\",\"linecolor\":\"white\",\"ticks\":\"\"}},\"coloraxis\":{\"colorbar\":{\"outlinewidth\":0,\"ticks\":\"\"}},\"colorscale\":{\"sequential\":[[0.0,\"#0d0887\"],[0.1111111111111111,\"#46039f\"],[0.2222222222222222,\"#7201a8\"],[0.3333333333333333,\"#9c179e\"],[0.4444444444444444,\"#bd3786\"],[0.5555555555555556,\"#d8576b\"],[0.6666666666666666,\"#ed7953\"],[0.7777777777777778,\"#fb9f3a\"],[0.8888888888888888,\"#fdca26\"],[1.0,\"#f0f921\"]],\"sequentialminus\":[[0.0,\"#0d0887\"],[0.1111111111111111,\"#46039f\"],[0.2222222222222222,\"#7201a8\"],[0.3333333333333333,\"#9c179e\"],[0.4444444444444444,\"#bd3786\"],[0.5555555555555556,\"#d8576b\"],[0.6666666666666666,\"#ed7953\"],[0.7777777777777778,\"#fb9f3a\"],[0.8888888888888888,\"#fdca26\"],[1.0,\"#f0f921\"]],\"diverging\":[[0,\"#8e0152\"],[0.1,\"#c51b7d\"],[0.2,\"#de77ae\"],[0.3,\"#f1b6da\"],[0.4,\"#fde0ef\"],[0.5,\"#f7f7f7\"],[0.6,\"#e6f5d0\"],[0.7,\"#b8e186\"],[0.8,\"#7fbc41\"],[0.9,\"#4d9221\"],[1,\"#276419\"]]},\"xaxis\":{\"gridcolor\":\"white\",\"linecolor\":\"white\",\"ticks\":\"\",\"title\":{\"standoff\":15},\"zerolinecolor\":\"white\",\"automargin\":true,\"zerolinewidth\":2},\"yaxis\":{\"gridcolor\":\"white\",\"linecolor\":\"white\",\"ticks\":\"\",\"title\":{\"standoff\":15},\"zerolinecolor\":\"white\",\"automargin\":true,\"zerolinewidth\":2},\"scene\":{\"xaxis\":{\"backgroundcolor\":\"#E5ECF6\",\"gridcolor\":\"white\",\"linecolor\":\"white\",\"showbackground\":true,\"ticks\":\"\",\"zerolinecolor\":\"white\",\"gridwidth\":2},\"yaxis\":{\"backgroundcolor\":\"#E5ECF6\",\"gridcolor\":\"white\",\"linecolor\":\"white\",\"showbackground\":true,\"ticks\":\"\",\"zerolinecolor\":\"white\",\"gridwidth\":2},\"zaxis\":{\"backgroundcolor\":\"#E5ECF6\",\"gridcolor\":\"white\",\"linecolor\":\"white\",\"showbackground\":true,\"ticks\":\"\",\"zerolinecolor\":\"white\",\"gridwidth\":2}},\"shapedefaults\":{\"line\":{\"color\":\"#2a3f5f\"}},\"annotationdefaults\":{\"arrowcolor\":\"#2a3f5f\",\"arrowhead\":0,\"arrowwidth\":1},\"geo\":{\"bgcolor\":\"white\",\"landcolor\":\"#E5ECF6\",\"subunitcolor\":\"white\",\"showland\":true,\"showlakes\":true,\"lakecolor\":\"white\"},\"title\":{\"x\":0.05},\"mapbox\":{\"style\":\"light\"}}},\"xaxis\":{\"nticks\":36},\"title\":{\"text\":\"MCAR - 0.01\"}},                        {\"responsive\": true}                    ).then(function(){\n",
       "                            \n",
       "var gd = document.getElementById('ca02f905-38d9-4d0b-b05a-4ce63f0142a7');\n",
       "var x = new MutationObserver(function (mutations, observer) {{\n",
       "        var display = window.getComputedStyle(gd).display;\n",
       "        if (!display || display === 'none') {{\n",
       "            console.log([gd, 'removed!']);\n",
       "            Plotly.purge(gd);\n",
       "            observer.disconnect();\n",
       "        }}\n",
       "}});\n",
       "\n",
       "// Listen for the removal of the full notebook cells\n",
       "var notebookContainer = gd.closest('#notebook-container');\n",
       "if (notebookContainer) {{\n",
       "    x.observe(notebookContainer, {childList: true});\n",
       "}}\n",
       "\n",
       "// Listen for the clearing of the current output cell\n",
       "var outputEl = gd.closest('.output');\n",
       "if (outputEl) {{\n",
       "    x.observe(outputEl, {childList: true});\n",
       "}}\n",
       "\n",
       "                        })                };                });            </script>        </div>"
      ]
     },
     "metadata": {},
     "output_type": "display_data"
    },
    {
     "data": {
      "application/vnd.plotly.v1+json": {
       "config": {
        "plotlyServerURL": "https://plot.ly"
       },
       "data": [
        {
         "autocolorscale": false,
         "colorscale": [
          [
           0,
           "rgb(5,48,97)"
          ],
          [
           0.1,
           "rgb(33,102,172)"
          ],
          [
           0.2,
           "rgb(67,147,195)"
          ],
          [
           0.3,
           "rgb(146,197,222)"
          ],
          [
           0.4,
           "rgb(209,229,240)"
          ],
          [
           0.5,
           "rgb(247,247,247)"
          ],
          [
           0.6,
           "rgb(253,219,199)"
          ],
          [
           0.7,
           "rgb(244,165,130)"
          ],
          [
           0.8,
           "rgb(214,96,77)"
          ],
          [
           0.9,
           "rgb(178,24,43)"
          ],
          [
           1,
           "rgb(103,0,31)"
          ]
         ],
         "type": "heatmap",
         "x": [
          "40677",
          "40677",
          "40677",
          "40677",
          "40677",
          "40677",
          "40497",
          "40497",
          "40497",
          "40497",
          "40497",
          "40497",
          "183",
          "183",
          "183",
          "183",
          "183",
          "183",
          "40498",
          "40498",
          "40498",
          "40498",
          "40498",
          "40498",
          "1526",
          "1526",
          "1526",
          "1526",
          "1526",
          "1526",
          "30",
          "30",
          "30",
          "30",
          "30",
          "30",
          "4552",
          "4552",
          "4552",
          "4552",
          "4552",
          "4552",
          "375",
          "375",
          "375",
          "375",
          "375",
          "375",
          "1459",
          "1459",
          "1459",
          "1459",
          "1459",
          "1459",
          "32",
          "32",
          "32",
          "32",
          "32",
          "32",
          "26",
          "26",
          "26",
          "26",
          "26",
          "26",
          "41671",
          "41671",
          "41671",
          "6",
          "41671",
          "6",
          "6",
          "41671",
          "6",
          "6",
          "1481",
          "1481",
          "184",
          "184",
          "1481",
          "184",
          "184",
          "1481",
          "184",
          "1481",
          "1481",
          "184",
          "41027",
          "41027",
          "41027",
          "41027",
          "41027",
          "40685",
          "40685",
          "40685",
          "40685",
          "40685"
         ],
         "y": [
          "Random Forest",
          "Discriminative DL",
          "KNN",
          "Mean/Mode",
          "GAIN",
          "VAE",
          "Mean/Mode",
          "KNN",
          "Random Forest",
          "Discriminative DL",
          "GAIN",
          "VAE",
          "VAE",
          "Discriminative DL",
          "GAIN",
          "KNN",
          "Mean/Mode",
          "Random Forest",
          "Mean/Mode",
          "Random Forest",
          "KNN",
          "GAIN",
          "VAE",
          "Discriminative DL",
          "KNN",
          "GAIN",
          "Random Forest",
          "Discriminative DL",
          "Mean/Mode",
          "VAE",
          "GAIN",
          "VAE",
          "Mean/Mode",
          "KNN",
          "Random Forest",
          "Discriminative DL",
          "GAIN",
          "Discriminative DL",
          "Mean/Mode",
          "VAE",
          "KNN",
          "Random Forest",
          "Random Forest",
          "KNN",
          "Discriminative DL",
          "VAE",
          "Mean/Mode",
          "GAIN",
          "Mean/Mode",
          "Random Forest",
          "Discriminative DL",
          "GAIN",
          "VAE",
          "KNN",
          "Discriminative DL",
          "KNN",
          "GAIN",
          "Mean/Mode",
          "Random Forest",
          "VAE",
          "KNN",
          "Random Forest",
          "Mean/Mode",
          "Discriminative DL",
          "VAE",
          "GAIN",
          "VAE",
          "Discriminative DL",
          "Random Forest",
          "VAE",
          "Mean/Mode",
          "Mean/Mode",
          "Discriminative DL",
          "KNN",
          "KNN",
          "Random Forest",
          "Random Forest",
          "GAIN",
          "VAE",
          "KNN",
          "KNN",
          "Random Forest",
          "Discriminative DL",
          "Discriminative DL",
          "Mean/Mode",
          "VAE",
          "Mean/Mode",
          "GAIN",
          "Random Forest",
          "Discriminative DL",
          "Mean/Mode",
          "VAE",
          "KNN",
          "KNN",
          "VAE",
          "Mean/Mode",
          "Random Forest",
          "Discriminative DL"
         ],
         "z": [
          -0.0026808259617668,
          -0.0036653157136673,
          -0.0045401003576283,
          -0.0018121750271021,
          -0.0048924571168947,
          -0.0051546637515488,
          0,
          0,
          0.0037898748251578,
          -0.0036490775823643,
          -0.0036490775823643,
          -0.0036490775823643,
          0.0273643766972052,
          0.2558689794255824,
          0.0449712225297051,
          0.0361262068705234,
          0.0317350811648656,
          0.0143880880933345,
          0.0324764447579438,
          0.0493481860674931,
          0.0538652253520089,
          0.0025463393476128,
          0.0229667235369711,
          0.05868082056321,
          -0.0018275408185096,
          0.0454358581636714,
          0.0003571284938163,
          0.0449938922805553,
          0.042115833798806,
          0.0338935950683864,
          -0.0087744808287086,
          -0.002670667799977,
          0.0009825782412581,
          0.0048540508221105,
          0.0076999438496932,
          0.0080582600108377,
          0.0060153081060892,
          0.0098932323224328,
          0.0174989899655324,
          0.0224135360405881,
          -0.0081314604381748,
          0.0044894343874066,
          0.0157066423076484,
          0.016838256776527,
          0.016830419715689,
          0.0082931236609432,
          0.0073386812307594,
          -0.0167983610761407,
          0.0771049396482467,
          0.0798967903594474,
          0.0805744804370833,
          0.0555617013139913,
          0.0598736940596796,
          0.0889219609132728,
          0.0381485362330463,
          0.0387387815750521,
          0.0055760410309323,
          0.0316002627958712,
          0.0367055571866193,
          0.0373320764929,
          -0.0114082728247938,
          -0.0113720424909072,
          -0.0096520245090749,
          -0.0034731559321103,
          0.0001316126770445,
          -0.0118458159621323,
          -0.018488399415591,
          -0.0180807318817671,
          -0.0153468528352729,
          0.0121609537054342,
          -0.0073661758025235,
          0.012332499839232,
          0.0143439195839652,
          -0.0093146726235941,
          0.015177157046,
          0.0159818817453514,
          0.0262158252755506,
          0.0271101710835014,
          -0.0185171482045084,
          -0.0088384188177014,
          0.0122283513096789,
          -0.004720453599793,
          -0.0024471055210122,
          0.0223135070314578,
          -0.0020384032693537,
          0.0210773323120944,
          0.0076885910989515,
          -0.0087822303806364,
          0.0061925037463373,
          0.0056916275998645,
          0.0052541167376191,
          0.0018356895257171,
          0.0053337505743608,
          0.0135098196892304,
          0,
          0,
          -0.0002103590801668,
          0
         ],
         "zmid": 0
        }
       ],
       "layout": {
        "template": {
         "data": {
          "bar": [
           {
            "error_x": {
             "color": "#2a3f5f"
            },
            "error_y": {
             "color": "#2a3f5f"
            },
            "marker": {
             "line": {
              "color": "#E5ECF6",
              "width": 0.5
             },
             "pattern": {
              "fillmode": "overlay",
              "size": 10,
              "solidity": 0.2
             }
            },
            "type": "bar"
           }
          ],
          "barpolar": [
           {
            "marker": {
             "line": {
              "color": "#E5ECF6",
              "width": 0.5
             },
             "pattern": {
              "fillmode": "overlay",
              "size": 10,
              "solidity": 0.2
             }
            },
            "type": "barpolar"
           }
          ],
          "carpet": [
           {
            "aaxis": {
             "endlinecolor": "#2a3f5f",
             "gridcolor": "white",
             "linecolor": "white",
             "minorgridcolor": "white",
             "startlinecolor": "#2a3f5f"
            },
            "baxis": {
             "endlinecolor": "#2a3f5f",
             "gridcolor": "white",
             "linecolor": "white",
             "minorgridcolor": "white",
             "startlinecolor": "#2a3f5f"
            },
            "type": "carpet"
           }
          ],
          "choropleth": [
           {
            "colorbar": {
             "outlinewidth": 0,
             "ticks": ""
            },
            "type": "choropleth"
           }
          ],
          "contour": [
           {
            "colorbar": {
             "outlinewidth": 0,
             "ticks": ""
            },
            "colorscale": [
             [
              0,
              "#0d0887"
             ],
             [
              0.1111111111111111,
              "#46039f"
             ],
             [
              0.2222222222222222,
              "#7201a8"
             ],
             [
              0.3333333333333333,
              "#9c179e"
             ],
             [
              0.4444444444444444,
              "#bd3786"
             ],
             [
              0.5555555555555556,
              "#d8576b"
             ],
             [
              0.6666666666666666,
              "#ed7953"
             ],
             [
              0.7777777777777778,
              "#fb9f3a"
             ],
             [
              0.8888888888888888,
              "#fdca26"
             ],
             [
              1,
              "#f0f921"
             ]
            ],
            "type": "contour"
           }
          ],
          "contourcarpet": [
           {
            "colorbar": {
             "outlinewidth": 0,
             "ticks": ""
            },
            "type": "contourcarpet"
           }
          ],
          "heatmap": [
           {
            "colorbar": {
             "outlinewidth": 0,
             "ticks": ""
            },
            "colorscale": [
             [
              0,
              "#0d0887"
             ],
             [
              0.1111111111111111,
              "#46039f"
             ],
             [
              0.2222222222222222,
              "#7201a8"
             ],
             [
              0.3333333333333333,
              "#9c179e"
             ],
             [
              0.4444444444444444,
              "#bd3786"
             ],
             [
              0.5555555555555556,
              "#d8576b"
             ],
             [
              0.6666666666666666,
              "#ed7953"
             ],
             [
              0.7777777777777778,
              "#fb9f3a"
             ],
             [
              0.8888888888888888,
              "#fdca26"
             ],
             [
              1,
              "#f0f921"
             ]
            ],
            "type": "heatmap"
           }
          ],
          "heatmapgl": [
           {
            "colorbar": {
             "outlinewidth": 0,
             "ticks": ""
            },
            "colorscale": [
             [
              0,
              "#0d0887"
             ],
             [
              0.1111111111111111,
              "#46039f"
             ],
             [
              0.2222222222222222,
              "#7201a8"
             ],
             [
              0.3333333333333333,
              "#9c179e"
             ],
             [
              0.4444444444444444,
              "#bd3786"
             ],
             [
              0.5555555555555556,
              "#d8576b"
             ],
             [
              0.6666666666666666,
              "#ed7953"
             ],
             [
              0.7777777777777778,
              "#fb9f3a"
             ],
             [
              0.8888888888888888,
              "#fdca26"
             ],
             [
              1,
              "#f0f921"
             ]
            ],
            "type": "heatmapgl"
           }
          ],
          "histogram": [
           {
            "marker": {
             "pattern": {
              "fillmode": "overlay",
              "size": 10,
              "solidity": 0.2
             }
            },
            "type": "histogram"
           }
          ],
          "histogram2d": [
           {
            "colorbar": {
             "outlinewidth": 0,
             "ticks": ""
            },
            "colorscale": [
             [
              0,
              "#0d0887"
             ],
             [
              0.1111111111111111,
              "#46039f"
             ],
             [
              0.2222222222222222,
              "#7201a8"
             ],
             [
              0.3333333333333333,
              "#9c179e"
             ],
             [
              0.4444444444444444,
              "#bd3786"
             ],
             [
              0.5555555555555556,
              "#d8576b"
             ],
             [
              0.6666666666666666,
              "#ed7953"
             ],
             [
              0.7777777777777778,
              "#fb9f3a"
             ],
             [
              0.8888888888888888,
              "#fdca26"
             ],
             [
              1,
              "#f0f921"
             ]
            ],
            "type": "histogram2d"
           }
          ],
          "histogram2dcontour": [
           {
            "colorbar": {
             "outlinewidth": 0,
             "ticks": ""
            },
            "colorscale": [
             [
              0,
              "#0d0887"
             ],
             [
              0.1111111111111111,
              "#46039f"
             ],
             [
              0.2222222222222222,
              "#7201a8"
             ],
             [
              0.3333333333333333,
              "#9c179e"
             ],
             [
              0.4444444444444444,
              "#bd3786"
             ],
             [
              0.5555555555555556,
              "#d8576b"
             ],
             [
              0.6666666666666666,
              "#ed7953"
             ],
             [
              0.7777777777777778,
              "#fb9f3a"
             ],
             [
              0.8888888888888888,
              "#fdca26"
             ],
             [
              1,
              "#f0f921"
             ]
            ],
            "type": "histogram2dcontour"
           }
          ],
          "mesh3d": [
           {
            "colorbar": {
             "outlinewidth": 0,
             "ticks": ""
            },
            "type": "mesh3d"
           }
          ],
          "parcoords": [
           {
            "line": {
             "colorbar": {
              "outlinewidth": 0,
              "ticks": ""
             }
            },
            "type": "parcoords"
           }
          ],
          "pie": [
           {
            "automargin": true,
            "type": "pie"
           }
          ],
          "scatter": [
           {
            "fillpattern": {
             "fillmode": "overlay",
             "size": 10,
             "solidity": 0.2
            },
            "type": "scatter"
           }
          ],
          "scatter3d": [
           {
            "line": {
             "colorbar": {
              "outlinewidth": 0,
              "ticks": ""
             }
            },
            "marker": {
             "colorbar": {
              "outlinewidth": 0,
              "ticks": ""
             }
            },
            "type": "scatter3d"
           }
          ],
          "scattercarpet": [
           {
            "marker": {
             "colorbar": {
              "outlinewidth": 0,
              "ticks": ""
             }
            },
            "type": "scattercarpet"
           }
          ],
          "scattergeo": [
           {
            "marker": {
             "colorbar": {
              "outlinewidth": 0,
              "ticks": ""
             }
            },
            "type": "scattergeo"
           }
          ],
          "scattergl": [
           {
            "marker": {
             "colorbar": {
              "outlinewidth": 0,
              "ticks": ""
             }
            },
            "type": "scattergl"
           }
          ],
          "scattermapbox": [
           {
            "marker": {
             "colorbar": {
              "outlinewidth": 0,
              "ticks": ""
             }
            },
            "type": "scattermapbox"
           }
          ],
          "scatterpolar": [
           {
            "marker": {
             "colorbar": {
              "outlinewidth": 0,
              "ticks": ""
             }
            },
            "type": "scatterpolar"
           }
          ],
          "scatterpolargl": [
           {
            "marker": {
             "colorbar": {
              "outlinewidth": 0,
              "ticks": ""
             }
            },
            "type": "scatterpolargl"
           }
          ],
          "scatterternary": [
           {
            "marker": {
             "colorbar": {
              "outlinewidth": 0,
              "ticks": ""
             }
            },
            "type": "scatterternary"
           }
          ],
          "surface": [
           {
            "colorbar": {
             "outlinewidth": 0,
             "ticks": ""
            },
            "colorscale": [
             [
              0,
              "#0d0887"
             ],
             [
              0.1111111111111111,
              "#46039f"
             ],
             [
              0.2222222222222222,
              "#7201a8"
             ],
             [
              0.3333333333333333,
              "#9c179e"
             ],
             [
              0.4444444444444444,
              "#bd3786"
             ],
             [
              0.5555555555555556,
              "#d8576b"
             ],
             [
              0.6666666666666666,
              "#ed7953"
             ],
             [
              0.7777777777777778,
              "#fb9f3a"
             ],
             [
              0.8888888888888888,
              "#fdca26"
             ],
             [
              1,
              "#f0f921"
             ]
            ],
            "type": "surface"
           }
          ],
          "table": [
           {
            "cells": {
             "fill": {
              "color": "#EBF0F8"
             },
             "line": {
              "color": "white"
             }
            },
            "header": {
             "fill": {
              "color": "#C8D4E3"
             },
             "line": {
              "color": "white"
             }
            },
            "type": "table"
           }
          ]
         },
         "layout": {
          "annotationdefaults": {
           "arrowcolor": "#2a3f5f",
           "arrowhead": 0,
           "arrowwidth": 1
          },
          "autotypenumbers": "strict",
          "coloraxis": {
           "colorbar": {
            "outlinewidth": 0,
            "ticks": ""
           }
          },
          "colorscale": {
           "diverging": [
            [
             0,
             "#8e0152"
            ],
            [
             0.1,
             "#c51b7d"
            ],
            [
             0.2,
             "#de77ae"
            ],
            [
             0.3,
             "#f1b6da"
            ],
            [
             0.4,
             "#fde0ef"
            ],
            [
             0.5,
             "#f7f7f7"
            ],
            [
             0.6,
             "#e6f5d0"
            ],
            [
             0.7,
             "#b8e186"
            ],
            [
             0.8,
             "#7fbc41"
            ],
            [
             0.9,
             "#4d9221"
            ],
            [
             1,
             "#276419"
            ]
           ],
           "sequential": [
            [
             0,
             "#0d0887"
            ],
            [
             0.1111111111111111,
             "#46039f"
            ],
            [
             0.2222222222222222,
             "#7201a8"
            ],
            [
             0.3333333333333333,
             "#9c179e"
            ],
            [
             0.4444444444444444,
             "#bd3786"
            ],
            [
             0.5555555555555556,
             "#d8576b"
            ],
            [
             0.6666666666666666,
             "#ed7953"
            ],
            [
             0.7777777777777778,
             "#fb9f3a"
            ],
            [
             0.8888888888888888,
             "#fdca26"
            ],
            [
             1,
             "#f0f921"
            ]
           ],
           "sequentialminus": [
            [
             0,
             "#0d0887"
            ],
            [
             0.1111111111111111,
             "#46039f"
            ],
            [
             0.2222222222222222,
             "#7201a8"
            ],
            [
             0.3333333333333333,
             "#9c179e"
            ],
            [
             0.4444444444444444,
             "#bd3786"
            ],
            [
             0.5555555555555556,
             "#d8576b"
            ],
            [
             0.6666666666666666,
             "#ed7953"
            ],
            [
             0.7777777777777778,
             "#fb9f3a"
            ],
            [
             0.8888888888888888,
             "#fdca26"
            ],
            [
             1,
             "#f0f921"
            ]
           ]
          },
          "colorway": [
           "#636efa",
           "#EF553B",
           "#00cc96",
           "#ab63fa",
           "#FFA15A",
           "#19d3f3",
           "#FF6692",
           "#B6E880",
           "#FF97FF",
           "#FECB52"
          ],
          "font": {
           "color": "#2a3f5f"
          },
          "geo": {
           "bgcolor": "white",
           "lakecolor": "white",
           "landcolor": "#E5ECF6",
           "showlakes": true,
           "showland": true,
           "subunitcolor": "white"
          },
          "hoverlabel": {
           "align": "left"
          },
          "hovermode": "closest",
          "mapbox": {
           "style": "light"
          },
          "paper_bgcolor": "white",
          "plot_bgcolor": "#E5ECF6",
          "polar": {
           "angularaxis": {
            "gridcolor": "white",
            "linecolor": "white",
            "ticks": ""
           },
           "bgcolor": "#E5ECF6",
           "radialaxis": {
            "gridcolor": "white",
            "linecolor": "white",
            "ticks": ""
           }
          },
          "scene": {
           "xaxis": {
            "backgroundcolor": "#E5ECF6",
            "gridcolor": "white",
            "gridwidth": 2,
            "linecolor": "white",
            "showbackground": true,
            "ticks": "",
            "zerolinecolor": "white"
           },
           "yaxis": {
            "backgroundcolor": "#E5ECF6",
            "gridcolor": "white",
            "gridwidth": 2,
            "linecolor": "white",
            "showbackground": true,
            "ticks": "",
            "zerolinecolor": "white"
           },
           "zaxis": {
            "backgroundcolor": "#E5ECF6",
            "gridcolor": "white",
            "gridwidth": 2,
            "linecolor": "white",
            "showbackground": true,
            "ticks": "",
            "zerolinecolor": "white"
           }
          },
          "shapedefaults": {
           "line": {
            "color": "#2a3f5f"
           }
          },
          "ternary": {
           "aaxis": {
            "gridcolor": "white",
            "linecolor": "white",
            "ticks": ""
           },
           "baxis": {
            "gridcolor": "white",
            "linecolor": "white",
            "ticks": ""
           },
           "bgcolor": "#E5ECF6",
           "caxis": {
            "gridcolor": "white",
            "linecolor": "white",
            "ticks": ""
           }
          },
          "title": {
           "x": 0.05
          },
          "xaxis": {
           "automargin": true,
           "gridcolor": "white",
           "linecolor": "white",
           "ticks": "",
           "title": {
            "standoff": 15
           },
           "zerolinecolor": "white",
           "zerolinewidth": 2
          },
          "yaxis": {
           "automargin": true,
           "gridcolor": "white",
           "linecolor": "white",
           "ticks": "",
           "title": {
            "standoff": 15
           },
           "zerolinecolor": "white",
           "zerolinewidth": 2
          }
         }
        },
        "title": {
         "text": "MCAR - 0.1"
        },
        "xaxis": {
         "nticks": 36
        }
       }
      },
      "text/html": [
       "<div>                            <div id=\"3a7062b8-bbfc-4c65-827a-f576cf25fedd\" class=\"plotly-graph-div\" style=\"height:525px; width:100%;\"></div>            <script type=\"text/javascript\">                require([\"plotly\"], function(Plotly) {                    window.PLOTLYENV=window.PLOTLYENV || {};                                    if (document.getElementById(\"3a7062b8-bbfc-4c65-827a-f576cf25fedd\")) {                    Plotly.newPlot(                        \"3a7062b8-bbfc-4c65-827a-f576cf25fedd\",                        [{\"autocolorscale\":false,\"colorscale\":[[0.0,\"rgb(5,48,97)\"],[0.1,\"rgb(33,102,172)\"],[0.2,\"rgb(67,147,195)\"],[0.3,\"rgb(146,197,222)\"],[0.4,\"rgb(209,229,240)\"],[0.5,\"rgb(247,247,247)\"],[0.6,\"rgb(253,219,199)\"],[0.7,\"rgb(244,165,130)\"],[0.8,\"rgb(214,96,77)\"],[0.9,\"rgb(178,24,43)\"],[1.0,\"rgb(103,0,31)\"]],\"x\":[\"40677\",\"40677\",\"40677\",\"40677\",\"40677\",\"40677\",\"40497\",\"40497\",\"40497\",\"40497\",\"40497\",\"40497\",\"183\",\"183\",\"183\",\"183\",\"183\",\"183\",\"40498\",\"40498\",\"40498\",\"40498\",\"40498\",\"40498\",\"1526\",\"1526\",\"1526\",\"1526\",\"1526\",\"1526\",\"30\",\"30\",\"30\",\"30\",\"30\",\"30\",\"4552\",\"4552\",\"4552\",\"4552\",\"4552\",\"4552\",\"375\",\"375\",\"375\",\"375\",\"375\",\"375\",\"1459\",\"1459\",\"1459\",\"1459\",\"1459\",\"1459\",\"32\",\"32\",\"32\",\"32\",\"32\",\"32\",\"26\",\"26\",\"26\",\"26\",\"26\",\"26\",\"41671\",\"41671\",\"41671\",\"6\",\"41671\",\"6\",\"6\",\"41671\",\"6\",\"6\",\"1481\",\"1481\",\"184\",\"184\",\"1481\",\"184\",\"184\",\"1481\",\"184\",\"1481\",\"1481\",\"184\",\"41027\",\"41027\",\"41027\",\"41027\",\"41027\",\"40685\",\"40685\",\"40685\",\"40685\",\"40685\"],\"y\":[\"Random Forest\",\"Discriminative DL\",\"KNN\",\"Mean/Mode\",\"GAIN\",\"VAE\",\"Mean/Mode\",\"KNN\",\"Random Forest\",\"Discriminative DL\",\"GAIN\",\"VAE\",\"VAE\",\"Discriminative DL\",\"GAIN\",\"KNN\",\"Mean/Mode\",\"Random Forest\",\"Mean/Mode\",\"Random Forest\",\"KNN\",\"GAIN\",\"VAE\",\"Discriminative DL\",\"KNN\",\"GAIN\",\"Random Forest\",\"Discriminative DL\",\"Mean/Mode\",\"VAE\",\"GAIN\",\"VAE\",\"Mean/Mode\",\"KNN\",\"Random Forest\",\"Discriminative DL\",\"GAIN\",\"Discriminative DL\",\"Mean/Mode\",\"VAE\",\"KNN\",\"Random Forest\",\"Random Forest\",\"KNN\",\"Discriminative DL\",\"VAE\",\"Mean/Mode\",\"GAIN\",\"Mean/Mode\",\"Random Forest\",\"Discriminative DL\",\"GAIN\",\"VAE\",\"KNN\",\"Discriminative DL\",\"KNN\",\"GAIN\",\"Mean/Mode\",\"Random Forest\",\"VAE\",\"KNN\",\"Random Forest\",\"Mean/Mode\",\"Discriminative DL\",\"VAE\",\"GAIN\",\"VAE\",\"Discriminative DL\",\"Random Forest\",\"VAE\",\"Mean/Mode\",\"Mean/Mode\",\"Discriminative DL\",\"KNN\",\"KNN\",\"Random Forest\",\"Random Forest\",\"GAIN\",\"VAE\",\"KNN\",\"KNN\",\"Random Forest\",\"Discriminative DL\",\"Discriminative DL\",\"Mean/Mode\",\"VAE\",\"Mean/Mode\",\"GAIN\",\"Random Forest\",\"Discriminative DL\",\"Mean/Mode\",\"VAE\",\"KNN\",\"KNN\",\"VAE\",\"Mean/Mode\",\"Random Forest\",\"Discriminative DL\"],\"z\":[-0.0026808259617668,-0.0036653157136673,-0.0045401003576283,-0.0018121750271021,-0.0048924571168947,-0.0051546637515488,0.0,0.0,0.0037898748251578,-0.0036490775823643,-0.0036490775823643,-0.0036490775823643,0.0273643766972052,0.2558689794255824,0.0449712225297051,0.0361262068705234,0.0317350811648656,0.0143880880933345,0.0324764447579438,0.0493481860674931,0.0538652253520089,0.0025463393476128,0.0229667235369711,0.05868082056321,-0.0018275408185096,0.0454358581636714,0.0003571284938163,0.0449938922805553,0.042115833798806,0.0338935950683864,-0.0087744808287086,-0.002670667799977,0.0009825782412581,0.0048540508221105,0.0076999438496932,0.0080582600108377,0.0060153081060892,0.0098932323224328,0.0174989899655324,0.0224135360405881,-0.0081314604381748,0.0044894343874066,0.0157066423076484,0.016838256776527,0.016830419715689,0.0082931236609432,0.0073386812307594,-0.0167983610761407,0.0771049396482467,0.0798967903594474,0.0805744804370833,0.0555617013139913,0.0598736940596796,0.0889219609132728,0.0381485362330463,0.0387387815750521,0.0055760410309323,0.0316002627958712,0.0367055571866193,0.0373320764929,-0.0114082728247938,-0.0113720424909072,-0.0096520245090749,-0.0034731559321103,0.0001316126770445,-0.0118458159621323,-0.018488399415591,-0.0180807318817671,-0.0153468528352729,0.0121609537054342,-0.0073661758025235,0.012332499839232,0.0143439195839652,-0.0093146726235941,0.015177157046,0.0159818817453514,0.0262158252755506,0.0271101710835014,-0.0185171482045084,-0.0088384188177014,0.0122283513096789,-0.004720453599793,-0.0024471055210122,0.0223135070314578,-0.0020384032693537,0.0210773323120944,0.0076885910989515,-0.0087822303806364,0.0061925037463373,0.0056916275998645,0.0052541167376191,0.0018356895257171,0.0053337505743608,0.0135098196892304,0.0,0.0,-0.0002103590801668,0.0],\"zmid\":0,\"type\":\"heatmap\"}],                        {\"template\":{\"data\":{\"histogram2dcontour\":[{\"type\":\"histogram2dcontour\",\"colorbar\":{\"outlinewidth\":0,\"ticks\":\"\"},\"colorscale\":[[0.0,\"#0d0887\"],[0.1111111111111111,\"#46039f\"],[0.2222222222222222,\"#7201a8\"],[0.3333333333333333,\"#9c179e\"],[0.4444444444444444,\"#bd3786\"],[0.5555555555555556,\"#d8576b\"],[0.6666666666666666,\"#ed7953\"],[0.7777777777777778,\"#fb9f3a\"],[0.8888888888888888,\"#fdca26\"],[1.0,\"#f0f921\"]]}],\"choropleth\":[{\"type\":\"choropleth\",\"colorbar\":{\"outlinewidth\":0,\"ticks\":\"\"}}],\"histogram2d\":[{\"type\":\"histogram2d\",\"colorbar\":{\"outlinewidth\":0,\"ticks\":\"\"},\"colorscale\":[[0.0,\"#0d0887\"],[0.1111111111111111,\"#46039f\"],[0.2222222222222222,\"#7201a8\"],[0.3333333333333333,\"#9c179e\"],[0.4444444444444444,\"#bd3786\"],[0.5555555555555556,\"#d8576b\"],[0.6666666666666666,\"#ed7953\"],[0.7777777777777778,\"#fb9f3a\"],[0.8888888888888888,\"#fdca26\"],[1.0,\"#f0f921\"]]}],\"heatmap\":[{\"type\":\"heatmap\",\"colorbar\":{\"outlinewidth\":0,\"ticks\":\"\"},\"colorscale\":[[0.0,\"#0d0887\"],[0.1111111111111111,\"#46039f\"],[0.2222222222222222,\"#7201a8\"],[0.3333333333333333,\"#9c179e\"],[0.4444444444444444,\"#bd3786\"],[0.5555555555555556,\"#d8576b\"],[0.6666666666666666,\"#ed7953\"],[0.7777777777777778,\"#fb9f3a\"],[0.8888888888888888,\"#fdca26\"],[1.0,\"#f0f921\"]]}],\"heatmapgl\":[{\"type\":\"heatmapgl\",\"colorbar\":{\"outlinewidth\":0,\"ticks\":\"\"},\"colorscale\":[[0.0,\"#0d0887\"],[0.1111111111111111,\"#46039f\"],[0.2222222222222222,\"#7201a8\"],[0.3333333333333333,\"#9c179e\"],[0.4444444444444444,\"#bd3786\"],[0.5555555555555556,\"#d8576b\"],[0.6666666666666666,\"#ed7953\"],[0.7777777777777778,\"#fb9f3a\"],[0.8888888888888888,\"#fdca26\"],[1.0,\"#f0f921\"]]}],\"contourcarpet\":[{\"type\":\"contourcarpet\",\"colorbar\":{\"outlinewidth\":0,\"ticks\":\"\"}}],\"contour\":[{\"type\":\"contour\",\"colorbar\":{\"outlinewidth\":0,\"ticks\":\"\"},\"colorscale\":[[0.0,\"#0d0887\"],[0.1111111111111111,\"#46039f\"],[0.2222222222222222,\"#7201a8\"],[0.3333333333333333,\"#9c179e\"],[0.4444444444444444,\"#bd3786\"],[0.5555555555555556,\"#d8576b\"],[0.6666666666666666,\"#ed7953\"],[0.7777777777777778,\"#fb9f3a\"],[0.8888888888888888,\"#fdca26\"],[1.0,\"#f0f921\"]]}],\"surface\":[{\"type\":\"surface\",\"colorbar\":{\"outlinewidth\":0,\"ticks\":\"\"},\"colorscale\":[[0.0,\"#0d0887\"],[0.1111111111111111,\"#46039f\"],[0.2222222222222222,\"#7201a8\"],[0.3333333333333333,\"#9c179e\"],[0.4444444444444444,\"#bd3786\"],[0.5555555555555556,\"#d8576b\"],[0.6666666666666666,\"#ed7953\"],[0.7777777777777778,\"#fb9f3a\"],[0.8888888888888888,\"#fdca26\"],[1.0,\"#f0f921\"]]}],\"mesh3d\":[{\"type\":\"mesh3d\",\"colorbar\":{\"outlinewidth\":0,\"ticks\":\"\"}}],\"scatter\":[{\"fillpattern\":{\"fillmode\":\"overlay\",\"size\":10,\"solidity\":0.2},\"type\":\"scatter\"}],\"parcoords\":[{\"type\":\"parcoords\",\"line\":{\"colorbar\":{\"outlinewidth\":0,\"ticks\":\"\"}}}],\"scatterpolargl\":[{\"type\":\"scatterpolargl\",\"marker\":{\"colorbar\":{\"outlinewidth\":0,\"ticks\":\"\"}}}],\"bar\":[{\"error_x\":{\"color\":\"#2a3f5f\"},\"error_y\":{\"color\":\"#2a3f5f\"},\"marker\":{\"line\":{\"color\":\"#E5ECF6\",\"width\":0.5},\"pattern\":{\"fillmode\":\"overlay\",\"size\":10,\"solidity\":0.2}},\"type\":\"bar\"}],\"scattergeo\":[{\"type\":\"scattergeo\",\"marker\":{\"colorbar\":{\"outlinewidth\":0,\"ticks\":\"\"}}}],\"scatterpolar\":[{\"type\":\"scatterpolar\",\"marker\":{\"colorbar\":{\"outlinewidth\":0,\"ticks\":\"\"}}}],\"histogram\":[{\"marker\":{\"pattern\":{\"fillmode\":\"overlay\",\"size\":10,\"solidity\":0.2}},\"type\":\"histogram\"}],\"scattergl\":[{\"type\":\"scattergl\",\"marker\":{\"colorbar\":{\"outlinewidth\":0,\"ticks\":\"\"}}}],\"scatter3d\":[{\"type\":\"scatter3d\",\"line\":{\"colorbar\":{\"outlinewidth\":0,\"ticks\":\"\"}},\"marker\":{\"colorbar\":{\"outlinewidth\":0,\"ticks\":\"\"}}}],\"scattermapbox\":[{\"type\":\"scattermapbox\",\"marker\":{\"colorbar\":{\"outlinewidth\":0,\"ticks\":\"\"}}}],\"scatterternary\":[{\"type\":\"scatterternary\",\"marker\":{\"colorbar\":{\"outlinewidth\":0,\"ticks\":\"\"}}}],\"scattercarpet\":[{\"type\":\"scattercarpet\",\"marker\":{\"colorbar\":{\"outlinewidth\":0,\"ticks\":\"\"}}}],\"carpet\":[{\"aaxis\":{\"endlinecolor\":\"#2a3f5f\",\"gridcolor\":\"white\",\"linecolor\":\"white\",\"minorgridcolor\":\"white\",\"startlinecolor\":\"#2a3f5f\"},\"baxis\":{\"endlinecolor\":\"#2a3f5f\",\"gridcolor\":\"white\",\"linecolor\":\"white\",\"minorgridcolor\":\"white\",\"startlinecolor\":\"#2a3f5f\"},\"type\":\"carpet\"}],\"table\":[{\"cells\":{\"fill\":{\"color\":\"#EBF0F8\"},\"line\":{\"color\":\"white\"}},\"header\":{\"fill\":{\"color\":\"#C8D4E3\"},\"line\":{\"color\":\"white\"}},\"type\":\"table\"}],\"barpolar\":[{\"marker\":{\"line\":{\"color\":\"#E5ECF6\",\"width\":0.5},\"pattern\":{\"fillmode\":\"overlay\",\"size\":10,\"solidity\":0.2}},\"type\":\"barpolar\"}],\"pie\":[{\"automargin\":true,\"type\":\"pie\"}]},\"layout\":{\"autotypenumbers\":\"strict\",\"colorway\":[\"#636efa\",\"#EF553B\",\"#00cc96\",\"#ab63fa\",\"#FFA15A\",\"#19d3f3\",\"#FF6692\",\"#B6E880\",\"#FF97FF\",\"#FECB52\"],\"font\":{\"color\":\"#2a3f5f\"},\"hovermode\":\"closest\",\"hoverlabel\":{\"align\":\"left\"},\"paper_bgcolor\":\"white\",\"plot_bgcolor\":\"#E5ECF6\",\"polar\":{\"bgcolor\":\"#E5ECF6\",\"angularaxis\":{\"gridcolor\":\"white\",\"linecolor\":\"white\",\"ticks\":\"\"},\"radialaxis\":{\"gridcolor\":\"white\",\"linecolor\":\"white\",\"ticks\":\"\"}},\"ternary\":{\"bgcolor\":\"#E5ECF6\",\"aaxis\":{\"gridcolor\":\"white\",\"linecolor\":\"white\",\"ticks\":\"\"},\"baxis\":{\"gridcolor\":\"white\",\"linecolor\":\"white\",\"ticks\":\"\"},\"caxis\":{\"gridcolor\":\"white\",\"linecolor\":\"white\",\"ticks\":\"\"}},\"coloraxis\":{\"colorbar\":{\"outlinewidth\":0,\"ticks\":\"\"}},\"colorscale\":{\"sequential\":[[0.0,\"#0d0887\"],[0.1111111111111111,\"#46039f\"],[0.2222222222222222,\"#7201a8\"],[0.3333333333333333,\"#9c179e\"],[0.4444444444444444,\"#bd3786\"],[0.5555555555555556,\"#d8576b\"],[0.6666666666666666,\"#ed7953\"],[0.7777777777777778,\"#fb9f3a\"],[0.8888888888888888,\"#fdca26\"],[1.0,\"#f0f921\"]],\"sequentialminus\":[[0.0,\"#0d0887\"],[0.1111111111111111,\"#46039f\"],[0.2222222222222222,\"#7201a8\"],[0.3333333333333333,\"#9c179e\"],[0.4444444444444444,\"#bd3786\"],[0.5555555555555556,\"#d8576b\"],[0.6666666666666666,\"#ed7953\"],[0.7777777777777778,\"#fb9f3a\"],[0.8888888888888888,\"#fdca26\"],[1.0,\"#f0f921\"]],\"diverging\":[[0,\"#8e0152\"],[0.1,\"#c51b7d\"],[0.2,\"#de77ae\"],[0.3,\"#f1b6da\"],[0.4,\"#fde0ef\"],[0.5,\"#f7f7f7\"],[0.6,\"#e6f5d0\"],[0.7,\"#b8e186\"],[0.8,\"#7fbc41\"],[0.9,\"#4d9221\"],[1,\"#276419\"]]},\"xaxis\":{\"gridcolor\":\"white\",\"linecolor\":\"white\",\"ticks\":\"\",\"title\":{\"standoff\":15},\"zerolinecolor\":\"white\",\"automargin\":true,\"zerolinewidth\":2},\"yaxis\":{\"gridcolor\":\"white\",\"linecolor\":\"white\",\"ticks\":\"\",\"title\":{\"standoff\":15},\"zerolinecolor\":\"white\",\"automargin\":true,\"zerolinewidth\":2},\"scene\":{\"xaxis\":{\"backgroundcolor\":\"#E5ECF6\",\"gridcolor\":\"white\",\"linecolor\":\"white\",\"showbackground\":true,\"ticks\":\"\",\"zerolinecolor\":\"white\",\"gridwidth\":2},\"yaxis\":{\"backgroundcolor\":\"#E5ECF6\",\"gridcolor\":\"white\",\"linecolor\":\"white\",\"showbackground\":true,\"ticks\":\"\",\"zerolinecolor\":\"white\",\"gridwidth\":2},\"zaxis\":{\"backgroundcolor\":\"#E5ECF6\",\"gridcolor\":\"white\",\"linecolor\":\"white\",\"showbackground\":true,\"ticks\":\"\",\"zerolinecolor\":\"white\",\"gridwidth\":2}},\"shapedefaults\":{\"line\":{\"color\":\"#2a3f5f\"}},\"annotationdefaults\":{\"arrowcolor\":\"#2a3f5f\",\"arrowhead\":0,\"arrowwidth\":1},\"geo\":{\"bgcolor\":\"white\",\"landcolor\":\"#E5ECF6\",\"subunitcolor\":\"white\",\"showland\":true,\"showlakes\":true,\"lakecolor\":\"white\"},\"title\":{\"x\":0.05},\"mapbox\":{\"style\":\"light\"}}},\"xaxis\":{\"nticks\":36},\"title\":{\"text\":\"MCAR - 0.1\"}},                        {\"responsive\": true}                    ).then(function(){\n",
       "                            \n",
       "var gd = document.getElementById('3a7062b8-bbfc-4c65-827a-f576cf25fedd');\n",
       "var x = new MutationObserver(function (mutations, observer) {{\n",
       "        var display = window.getComputedStyle(gd).display;\n",
       "        if (!display || display === 'none') {{\n",
       "            console.log([gd, 'removed!']);\n",
       "            Plotly.purge(gd);\n",
       "            observer.disconnect();\n",
       "        }}\n",
       "}});\n",
       "\n",
       "// Listen for the removal of the full notebook cells\n",
       "var notebookContainer = gd.closest('#notebook-container');\n",
       "if (notebookContainer) {{\n",
       "    x.observe(notebookContainer, {childList: true});\n",
       "}}\n",
       "\n",
       "// Listen for the clearing of the current output cell\n",
       "var outputEl = gd.closest('.output');\n",
       "if (outputEl) {{\n",
       "    x.observe(outputEl, {childList: true});\n",
       "}}\n",
       "\n",
       "                        })                };                });            </script>        </div>"
      ]
     },
     "metadata": {},
     "output_type": "display_data"
    },
    {
     "data": {
      "application/vnd.plotly.v1+json": {
       "config": {
        "plotlyServerURL": "https://plot.ly"
       },
       "data": [
        {
         "autocolorscale": false,
         "colorscale": [
          [
           0,
           "rgb(5,48,97)"
          ],
          [
           0.1,
           "rgb(33,102,172)"
          ],
          [
           0.2,
           "rgb(67,147,195)"
          ],
          [
           0.3,
           "rgb(146,197,222)"
          ],
          [
           0.4,
           "rgb(209,229,240)"
          ],
          [
           0.5,
           "rgb(247,247,247)"
          ],
          [
           0.6,
           "rgb(253,219,199)"
          ],
          [
           0.7,
           "rgb(244,165,130)"
          ],
          [
           0.8,
           "rgb(214,96,77)"
          ],
          [
           0.9,
           "rgb(178,24,43)"
          ],
          [
           1,
           "rgb(103,0,31)"
          ]
         ],
         "type": "heatmap",
         "x": [
          "40677",
          "40677",
          "40677",
          "40677",
          "40677",
          "40677",
          "40497",
          "40497",
          "40497",
          "40497",
          "40497",
          "40497",
          "183",
          "183",
          "183",
          "183",
          "183",
          "183",
          "40498",
          "40498",
          "40498",
          "40498",
          "40498",
          "40498",
          "1526",
          "1526",
          "1526",
          "1526",
          "1526",
          "1526",
          "30",
          "30",
          "30",
          "30",
          "30",
          "30",
          "4552",
          "4552",
          "4552",
          "4552",
          "4552",
          "4552",
          "375",
          "375",
          "375",
          "375",
          "375",
          "375",
          "1459",
          "1459",
          "1459",
          "1459",
          "1459",
          "1459",
          "32",
          "32",
          "32",
          "32",
          "32",
          "32",
          "26",
          "26",
          "26",
          "26",
          "26",
          "26",
          "41671",
          "41671",
          "41671",
          "6",
          "41671",
          "6",
          "6",
          "41671",
          "6",
          "6",
          "1481",
          "1481",
          "184",
          "184",
          "1481",
          "184",
          "184",
          "1481",
          "184",
          "1481",
          "1481",
          "184",
          "41027",
          "41027",
          "41027",
          "41027",
          "41027",
          "40685",
          "40685",
          "40685",
          "40685",
          "40685"
         ],
         "y": [
          "Mean/Mode",
          "KNN",
          "Random Forest",
          "VAE",
          "Discriminative DL",
          "GAIN",
          "GAIN",
          "Random Forest",
          "KNN",
          "Discriminative DL",
          "VAE",
          "Mean/Mode",
          "VAE",
          "Discriminative DL",
          "KNN",
          "Random Forest",
          "Mean/Mode",
          "GAIN",
          "Mean/Mode",
          "Discriminative DL",
          "KNN",
          "GAIN",
          "VAE",
          "Random Forest",
          "Random Forest",
          "Discriminative DL",
          "KNN",
          "GAIN",
          "VAE",
          "Mean/Mode",
          "GAIN",
          "VAE",
          "Mean/Mode",
          "KNN",
          "Discriminative DL",
          "Random Forest",
          "Discriminative DL",
          "GAIN",
          "VAE",
          "Mean/Mode",
          "KNN",
          "Random Forest",
          "Random Forest",
          "Discriminative DL",
          "KNN",
          "VAE",
          "Mean/Mode",
          "GAIN",
          "VAE",
          "Random Forest",
          "KNN",
          "GAIN",
          "Mean/Mode",
          "Discriminative DL",
          "Random Forest",
          "KNN",
          "GAIN",
          "Mean/Mode",
          "VAE",
          "Discriminative DL",
          "Mean/Mode",
          "GAIN",
          "Random Forest",
          "Discriminative DL",
          "VAE",
          "KNN",
          "VAE",
          "Mean/Mode",
          "Random Forest",
          "VAE",
          "Discriminative DL",
          "Mean/Mode",
          "Random Forest",
          "KNN",
          "Discriminative DL",
          "KNN",
          "Mean/Mode",
          "Discriminative DL",
          "GAIN",
          "Discriminative DL",
          "GAIN",
          "Random Forest",
          "VAE",
          "KNN",
          "KNN",
          "Random Forest",
          "VAE",
          "Mean/Mode",
          "Discriminative DL",
          "Mean/Mode",
          "VAE",
          "Random Forest",
          "KNN",
          "KNN",
          "Random Forest",
          "VAE",
          "Discriminative DL",
          "Mean/Mode"
         ],
         "z": [
          0.0024501643001433,
          -0.0027801134395271,
          -0.005464104114186,
          0.0061361585320118,
          -0.0067812378923327,
          -0.0100508175414165,
          0,
          0,
          0,
          -0.0185882439628597,
          -0.0149391663804954,
          -0.0072981551647286,
          0.0695697934538202,
          0.3336751578677047,
          0.1630694112202215,
          0.1476359992951149,
          0.0886579828351577,
          0.0404437463884891,
          0.1375869729905155,
          0.1464655650644085,
          0.1735609304407001,
          0.0231555763291142,
          0.0815459487774996,
          0.180169980912369,
          -0.006855988773895,
          0.1076995791037306,
          0.0016759519092707,
          0.107340111268599,
          0.1071783232144977,
          0.103823057713883,
          -0.0022735473902606,
          0.0063876709858751,
          0.0089615486681686,
          0.0198877471210669,
          0.0242981831215807,
          0.0279896640106417,
          0.008848358155707,
          0.0120130032551048,
          0.0303741890527117,
          0.0334422364302615,
          -2.72790696136664e-05,
          0.00790035666286,
          0.0455125824534907,
          0.0526387542456665,
          0.047399548971984,
          0.0235085215887079,
          0.021544024446918,
          -0.0383448289836135,
          0.192914027035691,
          0.2192547542574151,
          0.222932647465122,
          0.1608951884191511,
          0.1764790562998802,
          0.2278480553135178,
          0.1174314064858899,
          0.1201906173513604,
          0.025427406807444,
          0.1007087664910244,
          0.1050620613248156,
          0.1172848425927872,
          -0.0464922053819008,
          -0.044506900924007,
          -0.0410539320262958,
          -0.0144281167431474,
          -0.0101330653158629,
          -0.0481226972987792,
          -0.0467620774788005,
          -0.0462983287364999,
          -0.0434924164723965,
          0.0352332428857517,
          -0.0226571026978844,
          0.0360062847692896,
          0.0396645216411556,
          -0.0434399239849532,
          0.0400516383290705,
          0.0432752811001404,
          0.0886511365037536,
          0.0891609850355941,
          -0.0660744697539815,
          -0.0533555206219266,
          0.0598026555786986,
          -0.0364088124475185,
          -0.0260671072320237,
          0.0742422829042629,
          -0.0172443710457876,
          0.0680455798304543,
          0.0540062815423246,
          -0.0419370876688693,
          0.0112271155945296,
          0.0101434207863784,
          0.0021533162780153,
          0.0010393868946041,
          0.0072067469477774,
          0.0068251631648989,
          0.0066755241125224,
          0,
          -9.607140520332102e-05,
          0
         ],
         "zmid": 0
        }
       ],
       "layout": {
        "template": {
         "data": {
          "bar": [
           {
            "error_x": {
             "color": "#2a3f5f"
            },
            "error_y": {
             "color": "#2a3f5f"
            },
            "marker": {
             "line": {
              "color": "#E5ECF6",
              "width": 0.5
             },
             "pattern": {
              "fillmode": "overlay",
              "size": 10,
              "solidity": 0.2
             }
            },
            "type": "bar"
           }
          ],
          "barpolar": [
           {
            "marker": {
             "line": {
              "color": "#E5ECF6",
              "width": 0.5
             },
             "pattern": {
              "fillmode": "overlay",
              "size": 10,
              "solidity": 0.2
             }
            },
            "type": "barpolar"
           }
          ],
          "carpet": [
           {
            "aaxis": {
             "endlinecolor": "#2a3f5f",
             "gridcolor": "white",
             "linecolor": "white",
             "minorgridcolor": "white",
             "startlinecolor": "#2a3f5f"
            },
            "baxis": {
             "endlinecolor": "#2a3f5f",
             "gridcolor": "white",
             "linecolor": "white",
             "minorgridcolor": "white",
             "startlinecolor": "#2a3f5f"
            },
            "type": "carpet"
           }
          ],
          "choropleth": [
           {
            "colorbar": {
             "outlinewidth": 0,
             "ticks": ""
            },
            "type": "choropleth"
           }
          ],
          "contour": [
           {
            "colorbar": {
             "outlinewidth": 0,
             "ticks": ""
            },
            "colorscale": [
             [
              0,
              "#0d0887"
             ],
             [
              0.1111111111111111,
              "#46039f"
             ],
             [
              0.2222222222222222,
              "#7201a8"
             ],
             [
              0.3333333333333333,
              "#9c179e"
             ],
             [
              0.4444444444444444,
              "#bd3786"
             ],
             [
              0.5555555555555556,
              "#d8576b"
             ],
             [
              0.6666666666666666,
              "#ed7953"
             ],
             [
              0.7777777777777778,
              "#fb9f3a"
             ],
             [
              0.8888888888888888,
              "#fdca26"
             ],
             [
              1,
              "#f0f921"
             ]
            ],
            "type": "contour"
           }
          ],
          "contourcarpet": [
           {
            "colorbar": {
             "outlinewidth": 0,
             "ticks": ""
            },
            "type": "contourcarpet"
           }
          ],
          "heatmap": [
           {
            "colorbar": {
             "outlinewidth": 0,
             "ticks": ""
            },
            "colorscale": [
             [
              0,
              "#0d0887"
             ],
             [
              0.1111111111111111,
              "#46039f"
             ],
             [
              0.2222222222222222,
              "#7201a8"
             ],
             [
              0.3333333333333333,
              "#9c179e"
             ],
             [
              0.4444444444444444,
              "#bd3786"
             ],
             [
              0.5555555555555556,
              "#d8576b"
             ],
             [
              0.6666666666666666,
              "#ed7953"
             ],
             [
              0.7777777777777778,
              "#fb9f3a"
             ],
             [
              0.8888888888888888,
              "#fdca26"
             ],
             [
              1,
              "#f0f921"
             ]
            ],
            "type": "heatmap"
           }
          ],
          "heatmapgl": [
           {
            "colorbar": {
             "outlinewidth": 0,
             "ticks": ""
            },
            "colorscale": [
             [
              0,
              "#0d0887"
             ],
             [
              0.1111111111111111,
              "#46039f"
             ],
             [
              0.2222222222222222,
              "#7201a8"
             ],
             [
              0.3333333333333333,
              "#9c179e"
             ],
             [
              0.4444444444444444,
              "#bd3786"
             ],
             [
              0.5555555555555556,
              "#d8576b"
             ],
             [
              0.6666666666666666,
              "#ed7953"
             ],
             [
              0.7777777777777778,
              "#fb9f3a"
             ],
             [
              0.8888888888888888,
              "#fdca26"
             ],
             [
              1,
              "#f0f921"
             ]
            ],
            "type": "heatmapgl"
           }
          ],
          "histogram": [
           {
            "marker": {
             "pattern": {
              "fillmode": "overlay",
              "size": 10,
              "solidity": 0.2
             }
            },
            "type": "histogram"
           }
          ],
          "histogram2d": [
           {
            "colorbar": {
             "outlinewidth": 0,
             "ticks": ""
            },
            "colorscale": [
             [
              0,
              "#0d0887"
             ],
             [
              0.1111111111111111,
              "#46039f"
             ],
             [
              0.2222222222222222,
              "#7201a8"
             ],
             [
              0.3333333333333333,
              "#9c179e"
             ],
             [
              0.4444444444444444,
              "#bd3786"
             ],
             [
              0.5555555555555556,
              "#d8576b"
             ],
             [
              0.6666666666666666,
              "#ed7953"
             ],
             [
              0.7777777777777778,
              "#fb9f3a"
             ],
             [
              0.8888888888888888,
              "#fdca26"
             ],
             [
              1,
              "#f0f921"
             ]
            ],
            "type": "histogram2d"
           }
          ],
          "histogram2dcontour": [
           {
            "colorbar": {
             "outlinewidth": 0,
             "ticks": ""
            },
            "colorscale": [
             [
              0,
              "#0d0887"
             ],
             [
              0.1111111111111111,
              "#46039f"
             ],
             [
              0.2222222222222222,
              "#7201a8"
             ],
             [
              0.3333333333333333,
              "#9c179e"
             ],
             [
              0.4444444444444444,
              "#bd3786"
             ],
             [
              0.5555555555555556,
              "#d8576b"
             ],
             [
              0.6666666666666666,
              "#ed7953"
             ],
             [
              0.7777777777777778,
              "#fb9f3a"
             ],
             [
              0.8888888888888888,
              "#fdca26"
             ],
             [
              1,
              "#f0f921"
             ]
            ],
            "type": "histogram2dcontour"
           }
          ],
          "mesh3d": [
           {
            "colorbar": {
             "outlinewidth": 0,
             "ticks": ""
            },
            "type": "mesh3d"
           }
          ],
          "parcoords": [
           {
            "line": {
             "colorbar": {
              "outlinewidth": 0,
              "ticks": ""
             }
            },
            "type": "parcoords"
           }
          ],
          "pie": [
           {
            "automargin": true,
            "type": "pie"
           }
          ],
          "scatter": [
           {
            "fillpattern": {
             "fillmode": "overlay",
             "size": 10,
             "solidity": 0.2
            },
            "type": "scatter"
           }
          ],
          "scatter3d": [
           {
            "line": {
             "colorbar": {
              "outlinewidth": 0,
              "ticks": ""
             }
            },
            "marker": {
             "colorbar": {
              "outlinewidth": 0,
              "ticks": ""
             }
            },
            "type": "scatter3d"
           }
          ],
          "scattercarpet": [
           {
            "marker": {
             "colorbar": {
              "outlinewidth": 0,
              "ticks": ""
             }
            },
            "type": "scattercarpet"
           }
          ],
          "scattergeo": [
           {
            "marker": {
             "colorbar": {
              "outlinewidth": 0,
              "ticks": ""
             }
            },
            "type": "scattergeo"
           }
          ],
          "scattergl": [
           {
            "marker": {
             "colorbar": {
              "outlinewidth": 0,
              "ticks": ""
             }
            },
            "type": "scattergl"
           }
          ],
          "scattermapbox": [
           {
            "marker": {
             "colorbar": {
              "outlinewidth": 0,
              "ticks": ""
             }
            },
            "type": "scattermapbox"
           }
          ],
          "scatterpolar": [
           {
            "marker": {
             "colorbar": {
              "outlinewidth": 0,
              "ticks": ""
             }
            },
            "type": "scatterpolar"
           }
          ],
          "scatterpolargl": [
           {
            "marker": {
             "colorbar": {
              "outlinewidth": 0,
              "ticks": ""
             }
            },
            "type": "scatterpolargl"
           }
          ],
          "scatterternary": [
           {
            "marker": {
             "colorbar": {
              "outlinewidth": 0,
              "ticks": ""
             }
            },
            "type": "scatterternary"
           }
          ],
          "surface": [
           {
            "colorbar": {
             "outlinewidth": 0,
             "ticks": ""
            },
            "colorscale": [
             [
              0,
              "#0d0887"
             ],
             [
              0.1111111111111111,
              "#46039f"
             ],
             [
              0.2222222222222222,
              "#7201a8"
             ],
             [
              0.3333333333333333,
              "#9c179e"
             ],
             [
              0.4444444444444444,
              "#bd3786"
             ],
             [
              0.5555555555555556,
              "#d8576b"
             ],
             [
              0.6666666666666666,
              "#ed7953"
             ],
             [
              0.7777777777777778,
              "#fb9f3a"
             ],
             [
              0.8888888888888888,
              "#fdca26"
             ],
             [
              1,
              "#f0f921"
             ]
            ],
            "type": "surface"
           }
          ],
          "table": [
           {
            "cells": {
             "fill": {
              "color": "#EBF0F8"
             },
             "line": {
              "color": "white"
             }
            },
            "header": {
             "fill": {
              "color": "#C8D4E3"
             },
             "line": {
              "color": "white"
             }
            },
            "type": "table"
           }
          ]
         },
         "layout": {
          "annotationdefaults": {
           "arrowcolor": "#2a3f5f",
           "arrowhead": 0,
           "arrowwidth": 1
          },
          "autotypenumbers": "strict",
          "coloraxis": {
           "colorbar": {
            "outlinewidth": 0,
            "ticks": ""
           }
          },
          "colorscale": {
           "diverging": [
            [
             0,
             "#8e0152"
            ],
            [
             0.1,
             "#c51b7d"
            ],
            [
             0.2,
             "#de77ae"
            ],
            [
             0.3,
             "#f1b6da"
            ],
            [
             0.4,
             "#fde0ef"
            ],
            [
             0.5,
             "#f7f7f7"
            ],
            [
             0.6,
             "#e6f5d0"
            ],
            [
             0.7,
             "#b8e186"
            ],
            [
             0.8,
             "#7fbc41"
            ],
            [
             0.9,
             "#4d9221"
            ],
            [
             1,
             "#276419"
            ]
           ],
           "sequential": [
            [
             0,
             "#0d0887"
            ],
            [
             0.1111111111111111,
             "#46039f"
            ],
            [
             0.2222222222222222,
             "#7201a8"
            ],
            [
             0.3333333333333333,
             "#9c179e"
            ],
            [
             0.4444444444444444,
             "#bd3786"
            ],
            [
             0.5555555555555556,
             "#d8576b"
            ],
            [
             0.6666666666666666,
             "#ed7953"
            ],
            [
             0.7777777777777778,
             "#fb9f3a"
            ],
            [
             0.8888888888888888,
             "#fdca26"
            ],
            [
             1,
             "#f0f921"
            ]
           ],
           "sequentialminus": [
            [
             0,
             "#0d0887"
            ],
            [
             0.1111111111111111,
             "#46039f"
            ],
            [
             0.2222222222222222,
             "#7201a8"
            ],
            [
             0.3333333333333333,
             "#9c179e"
            ],
            [
             0.4444444444444444,
             "#bd3786"
            ],
            [
             0.5555555555555556,
             "#d8576b"
            ],
            [
             0.6666666666666666,
             "#ed7953"
            ],
            [
             0.7777777777777778,
             "#fb9f3a"
            ],
            [
             0.8888888888888888,
             "#fdca26"
            ],
            [
             1,
             "#f0f921"
            ]
           ]
          },
          "colorway": [
           "#636efa",
           "#EF553B",
           "#00cc96",
           "#ab63fa",
           "#FFA15A",
           "#19d3f3",
           "#FF6692",
           "#B6E880",
           "#FF97FF",
           "#FECB52"
          ],
          "font": {
           "color": "#2a3f5f"
          },
          "geo": {
           "bgcolor": "white",
           "lakecolor": "white",
           "landcolor": "#E5ECF6",
           "showlakes": true,
           "showland": true,
           "subunitcolor": "white"
          },
          "hoverlabel": {
           "align": "left"
          },
          "hovermode": "closest",
          "mapbox": {
           "style": "light"
          },
          "paper_bgcolor": "white",
          "plot_bgcolor": "#E5ECF6",
          "polar": {
           "angularaxis": {
            "gridcolor": "white",
            "linecolor": "white",
            "ticks": ""
           },
           "bgcolor": "#E5ECF6",
           "radialaxis": {
            "gridcolor": "white",
            "linecolor": "white",
            "ticks": ""
           }
          },
          "scene": {
           "xaxis": {
            "backgroundcolor": "#E5ECF6",
            "gridcolor": "white",
            "gridwidth": 2,
            "linecolor": "white",
            "showbackground": true,
            "ticks": "",
            "zerolinecolor": "white"
           },
           "yaxis": {
            "backgroundcolor": "#E5ECF6",
            "gridcolor": "white",
            "gridwidth": 2,
            "linecolor": "white",
            "showbackground": true,
            "ticks": "",
            "zerolinecolor": "white"
           },
           "zaxis": {
            "backgroundcolor": "#E5ECF6",
            "gridcolor": "white",
            "gridwidth": 2,
            "linecolor": "white",
            "showbackground": true,
            "ticks": "",
            "zerolinecolor": "white"
           }
          },
          "shapedefaults": {
           "line": {
            "color": "#2a3f5f"
           }
          },
          "ternary": {
           "aaxis": {
            "gridcolor": "white",
            "linecolor": "white",
            "ticks": ""
           },
           "baxis": {
            "gridcolor": "white",
            "linecolor": "white",
            "ticks": ""
           },
           "bgcolor": "#E5ECF6",
           "caxis": {
            "gridcolor": "white",
            "linecolor": "white",
            "ticks": ""
           }
          },
          "title": {
           "x": 0.05
          },
          "xaxis": {
           "automargin": true,
           "gridcolor": "white",
           "linecolor": "white",
           "ticks": "",
           "title": {
            "standoff": 15
           },
           "zerolinecolor": "white",
           "zerolinewidth": 2
          },
          "yaxis": {
           "automargin": true,
           "gridcolor": "white",
           "linecolor": "white",
           "ticks": "",
           "title": {
            "standoff": 15
           },
           "zerolinecolor": "white",
           "zerolinewidth": 2
          }
         }
        },
        "title": {
         "text": "MCAR - 0.3"
        },
        "xaxis": {
         "nticks": 36
        }
       }
      },
      "text/html": [
       "<div>                            <div id=\"ca0e99dc-cb9d-4b7a-8a59-95a18c8e6d79\" class=\"plotly-graph-div\" style=\"height:525px; width:100%;\"></div>            <script type=\"text/javascript\">                require([\"plotly\"], function(Plotly) {                    window.PLOTLYENV=window.PLOTLYENV || {};                                    if (document.getElementById(\"ca0e99dc-cb9d-4b7a-8a59-95a18c8e6d79\")) {                    Plotly.newPlot(                        \"ca0e99dc-cb9d-4b7a-8a59-95a18c8e6d79\",                        [{\"autocolorscale\":false,\"colorscale\":[[0.0,\"rgb(5,48,97)\"],[0.1,\"rgb(33,102,172)\"],[0.2,\"rgb(67,147,195)\"],[0.3,\"rgb(146,197,222)\"],[0.4,\"rgb(209,229,240)\"],[0.5,\"rgb(247,247,247)\"],[0.6,\"rgb(253,219,199)\"],[0.7,\"rgb(244,165,130)\"],[0.8,\"rgb(214,96,77)\"],[0.9,\"rgb(178,24,43)\"],[1.0,\"rgb(103,0,31)\"]],\"x\":[\"40677\",\"40677\",\"40677\",\"40677\",\"40677\",\"40677\",\"40497\",\"40497\",\"40497\",\"40497\",\"40497\",\"40497\",\"183\",\"183\",\"183\",\"183\",\"183\",\"183\",\"40498\",\"40498\",\"40498\",\"40498\",\"40498\",\"40498\",\"1526\",\"1526\",\"1526\",\"1526\",\"1526\",\"1526\",\"30\",\"30\",\"30\",\"30\",\"30\",\"30\",\"4552\",\"4552\",\"4552\",\"4552\",\"4552\",\"4552\",\"375\",\"375\",\"375\",\"375\",\"375\",\"375\",\"1459\",\"1459\",\"1459\",\"1459\",\"1459\",\"1459\",\"32\",\"32\",\"32\",\"32\",\"32\",\"32\",\"26\",\"26\",\"26\",\"26\",\"26\",\"26\",\"41671\",\"41671\",\"41671\",\"6\",\"41671\",\"6\",\"6\",\"41671\",\"6\",\"6\",\"1481\",\"1481\",\"184\",\"184\",\"1481\",\"184\",\"184\",\"1481\",\"184\",\"1481\",\"1481\",\"184\",\"41027\",\"41027\",\"41027\",\"41027\",\"41027\",\"40685\",\"40685\",\"40685\",\"40685\",\"40685\"],\"y\":[\"Mean/Mode\",\"KNN\",\"Random Forest\",\"VAE\",\"Discriminative DL\",\"GAIN\",\"GAIN\",\"Random Forest\",\"KNN\",\"Discriminative DL\",\"VAE\",\"Mean/Mode\",\"VAE\",\"Discriminative DL\",\"KNN\",\"Random Forest\",\"Mean/Mode\",\"GAIN\",\"Mean/Mode\",\"Discriminative DL\",\"KNN\",\"GAIN\",\"VAE\",\"Random Forest\",\"Random Forest\",\"Discriminative DL\",\"KNN\",\"GAIN\",\"VAE\",\"Mean/Mode\",\"GAIN\",\"VAE\",\"Mean/Mode\",\"KNN\",\"Discriminative DL\",\"Random Forest\",\"Discriminative DL\",\"GAIN\",\"VAE\",\"Mean/Mode\",\"KNN\",\"Random Forest\",\"Random Forest\",\"Discriminative DL\",\"KNN\",\"VAE\",\"Mean/Mode\",\"GAIN\",\"VAE\",\"Random Forest\",\"KNN\",\"GAIN\",\"Mean/Mode\",\"Discriminative DL\",\"Random Forest\",\"KNN\",\"GAIN\",\"Mean/Mode\",\"VAE\",\"Discriminative DL\",\"Mean/Mode\",\"GAIN\",\"Random Forest\",\"Discriminative DL\",\"VAE\",\"KNN\",\"VAE\",\"Mean/Mode\",\"Random Forest\",\"VAE\",\"Discriminative DL\",\"Mean/Mode\",\"Random Forest\",\"KNN\",\"Discriminative DL\",\"KNN\",\"Mean/Mode\",\"Discriminative DL\",\"GAIN\",\"Discriminative DL\",\"GAIN\",\"Random Forest\",\"VAE\",\"KNN\",\"KNN\",\"Random Forest\",\"VAE\",\"Mean/Mode\",\"Discriminative DL\",\"Mean/Mode\",\"VAE\",\"Random Forest\",\"KNN\",\"KNN\",\"Random Forest\",\"VAE\",\"Discriminative DL\",\"Mean/Mode\"],\"z\":[0.0024501643001433,-0.0027801134395271,-0.005464104114186,0.0061361585320118,-0.0067812378923327,-0.0100508175414165,0.0,0.0,0.0,-0.0185882439628597,-0.0149391663804954,-0.0072981551647286,0.0695697934538202,0.3336751578677047,0.1630694112202215,0.1476359992951149,0.0886579828351577,0.0404437463884891,0.1375869729905155,0.1464655650644085,0.1735609304407001,0.0231555763291142,0.0815459487774996,0.180169980912369,-0.006855988773895,0.1076995791037306,0.0016759519092707,0.107340111268599,0.1071783232144977,0.103823057713883,-0.0022735473902606,0.0063876709858751,0.0089615486681686,0.0198877471210669,0.0242981831215807,0.0279896640106417,0.008848358155707,0.0120130032551048,0.0303741890527117,0.0334422364302615,-2.72790696136664e-05,0.00790035666286,0.0455125824534907,0.0526387542456665,0.047399548971984,0.0235085215887079,0.021544024446918,-0.0383448289836135,0.192914027035691,0.2192547542574151,0.222932647465122,0.1608951884191511,0.1764790562998802,0.2278480553135178,0.1174314064858899,0.1201906173513604,0.025427406807444,0.1007087664910244,0.1050620613248156,0.1172848425927872,-0.0464922053819008,-0.044506900924007,-0.0410539320262958,-0.0144281167431474,-0.0101330653158629,-0.0481226972987792,-0.0467620774788005,-0.0462983287364999,-0.0434924164723965,0.0352332428857517,-0.0226571026978844,0.0360062847692896,0.0396645216411556,-0.0434399239849532,0.0400516383290705,0.0432752811001404,0.0886511365037536,0.0891609850355941,-0.0660744697539815,-0.0533555206219266,0.0598026555786986,-0.0364088124475185,-0.0260671072320237,0.0742422829042629,-0.0172443710457876,0.0680455798304543,0.0540062815423246,-0.0419370876688693,0.0112271155945296,0.0101434207863784,0.0021533162780153,0.0010393868946041,0.0072067469477774,0.0068251631648989,0.0066755241125224,0.0,-9.607140520332102e-05,0.0],\"zmid\":0,\"type\":\"heatmap\"}],                        {\"template\":{\"data\":{\"histogram2dcontour\":[{\"type\":\"histogram2dcontour\",\"colorbar\":{\"outlinewidth\":0,\"ticks\":\"\"},\"colorscale\":[[0.0,\"#0d0887\"],[0.1111111111111111,\"#46039f\"],[0.2222222222222222,\"#7201a8\"],[0.3333333333333333,\"#9c179e\"],[0.4444444444444444,\"#bd3786\"],[0.5555555555555556,\"#d8576b\"],[0.6666666666666666,\"#ed7953\"],[0.7777777777777778,\"#fb9f3a\"],[0.8888888888888888,\"#fdca26\"],[1.0,\"#f0f921\"]]}],\"choropleth\":[{\"type\":\"choropleth\",\"colorbar\":{\"outlinewidth\":0,\"ticks\":\"\"}}],\"histogram2d\":[{\"type\":\"histogram2d\",\"colorbar\":{\"outlinewidth\":0,\"ticks\":\"\"},\"colorscale\":[[0.0,\"#0d0887\"],[0.1111111111111111,\"#46039f\"],[0.2222222222222222,\"#7201a8\"],[0.3333333333333333,\"#9c179e\"],[0.4444444444444444,\"#bd3786\"],[0.5555555555555556,\"#d8576b\"],[0.6666666666666666,\"#ed7953\"],[0.7777777777777778,\"#fb9f3a\"],[0.8888888888888888,\"#fdca26\"],[1.0,\"#f0f921\"]]}],\"heatmap\":[{\"type\":\"heatmap\",\"colorbar\":{\"outlinewidth\":0,\"ticks\":\"\"},\"colorscale\":[[0.0,\"#0d0887\"],[0.1111111111111111,\"#46039f\"],[0.2222222222222222,\"#7201a8\"],[0.3333333333333333,\"#9c179e\"],[0.4444444444444444,\"#bd3786\"],[0.5555555555555556,\"#d8576b\"],[0.6666666666666666,\"#ed7953\"],[0.7777777777777778,\"#fb9f3a\"],[0.8888888888888888,\"#fdca26\"],[1.0,\"#f0f921\"]]}],\"heatmapgl\":[{\"type\":\"heatmapgl\",\"colorbar\":{\"outlinewidth\":0,\"ticks\":\"\"},\"colorscale\":[[0.0,\"#0d0887\"],[0.1111111111111111,\"#46039f\"],[0.2222222222222222,\"#7201a8\"],[0.3333333333333333,\"#9c179e\"],[0.4444444444444444,\"#bd3786\"],[0.5555555555555556,\"#d8576b\"],[0.6666666666666666,\"#ed7953\"],[0.7777777777777778,\"#fb9f3a\"],[0.8888888888888888,\"#fdca26\"],[1.0,\"#f0f921\"]]}],\"contourcarpet\":[{\"type\":\"contourcarpet\",\"colorbar\":{\"outlinewidth\":0,\"ticks\":\"\"}}],\"contour\":[{\"type\":\"contour\",\"colorbar\":{\"outlinewidth\":0,\"ticks\":\"\"},\"colorscale\":[[0.0,\"#0d0887\"],[0.1111111111111111,\"#46039f\"],[0.2222222222222222,\"#7201a8\"],[0.3333333333333333,\"#9c179e\"],[0.4444444444444444,\"#bd3786\"],[0.5555555555555556,\"#d8576b\"],[0.6666666666666666,\"#ed7953\"],[0.7777777777777778,\"#fb9f3a\"],[0.8888888888888888,\"#fdca26\"],[1.0,\"#f0f921\"]]}],\"surface\":[{\"type\":\"surface\",\"colorbar\":{\"outlinewidth\":0,\"ticks\":\"\"},\"colorscale\":[[0.0,\"#0d0887\"],[0.1111111111111111,\"#46039f\"],[0.2222222222222222,\"#7201a8\"],[0.3333333333333333,\"#9c179e\"],[0.4444444444444444,\"#bd3786\"],[0.5555555555555556,\"#d8576b\"],[0.6666666666666666,\"#ed7953\"],[0.7777777777777778,\"#fb9f3a\"],[0.8888888888888888,\"#fdca26\"],[1.0,\"#f0f921\"]]}],\"mesh3d\":[{\"type\":\"mesh3d\",\"colorbar\":{\"outlinewidth\":0,\"ticks\":\"\"}}],\"scatter\":[{\"fillpattern\":{\"fillmode\":\"overlay\",\"size\":10,\"solidity\":0.2},\"type\":\"scatter\"}],\"parcoords\":[{\"type\":\"parcoords\",\"line\":{\"colorbar\":{\"outlinewidth\":0,\"ticks\":\"\"}}}],\"scatterpolargl\":[{\"type\":\"scatterpolargl\",\"marker\":{\"colorbar\":{\"outlinewidth\":0,\"ticks\":\"\"}}}],\"bar\":[{\"error_x\":{\"color\":\"#2a3f5f\"},\"error_y\":{\"color\":\"#2a3f5f\"},\"marker\":{\"line\":{\"color\":\"#E5ECF6\",\"width\":0.5},\"pattern\":{\"fillmode\":\"overlay\",\"size\":10,\"solidity\":0.2}},\"type\":\"bar\"}],\"scattergeo\":[{\"type\":\"scattergeo\",\"marker\":{\"colorbar\":{\"outlinewidth\":0,\"ticks\":\"\"}}}],\"scatterpolar\":[{\"type\":\"scatterpolar\",\"marker\":{\"colorbar\":{\"outlinewidth\":0,\"ticks\":\"\"}}}],\"histogram\":[{\"marker\":{\"pattern\":{\"fillmode\":\"overlay\",\"size\":10,\"solidity\":0.2}},\"type\":\"histogram\"}],\"scattergl\":[{\"type\":\"scattergl\",\"marker\":{\"colorbar\":{\"outlinewidth\":0,\"ticks\":\"\"}}}],\"scatter3d\":[{\"type\":\"scatter3d\",\"line\":{\"colorbar\":{\"outlinewidth\":0,\"ticks\":\"\"}},\"marker\":{\"colorbar\":{\"outlinewidth\":0,\"ticks\":\"\"}}}],\"scattermapbox\":[{\"type\":\"scattermapbox\",\"marker\":{\"colorbar\":{\"outlinewidth\":0,\"ticks\":\"\"}}}],\"scatterternary\":[{\"type\":\"scatterternary\",\"marker\":{\"colorbar\":{\"outlinewidth\":0,\"ticks\":\"\"}}}],\"scattercarpet\":[{\"type\":\"scattercarpet\",\"marker\":{\"colorbar\":{\"outlinewidth\":0,\"ticks\":\"\"}}}],\"carpet\":[{\"aaxis\":{\"endlinecolor\":\"#2a3f5f\",\"gridcolor\":\"white\",\"linecolor\":\"white\",\"minorgridcolor\":\"white\",\"startlinecolor\":\"#2a3f5f\"},\"baxis\":{\"endlinecolor\":\"#2a3f5f\",\"gridcolor\":\"white\",\"linecolor\":\"white\",\"minorgridcolor\":\"white\",\"startlinecolor\":\"#2a3f5f\"},\"type\":\"carpet\"}],\"table\":[{\"cells\":{\"fill\":{\"color\":\"#EBF0F8\"},\"line\":{\"color\":\"white\"}},\"header\":{\"fill\":{\"color\":\"#C8D4E3\"},\"line\":{\"color\":\"white\"}},\"type\":\"table\"}],\"barpolar\":[{\"marker\":{\"line\":{\"color\":\"#E5ECF6\",\"width\":0.5},\"pattern\":{\"fillmode\":\"overlay\",\"size\":10,\"solidity\":0.2}},\"type\":\"barpolar\"}],\"pie\":[{\"automargin\":true,\"type\":\"pie\"}]},\"layout\":{\"autotypenumbers\":\"strict\",\"colorway\":[\"#636efa\",\"#EF553B\",\"#00cc96\",\"#ab63fa\",\"#FFA15A\",\"#19d3f3\",\"#FF6692\",\"#B6E880\",\"#FF97FF\",\"#FECB52\"],\"font\":{\"color\":\"#2a3f5f\"},\"hovermode\":\"closest\",\"hoverlabel\":{\"align\":\"left\"},\"paper_bgcolor\":\"white\",\"plot_bgcolor\":\"#E5ECF6\",\"polar\":{\"bgcolor\":\"#E5ECF6\",\"angularaxis\":{\"gridcolor\":\"white\",\"linecolor\":\"white\",\"ticks\":\"\"},\"radialaxis\":{\"gridcolor\":\"white\",\"linecolor\":\"white\",\"ticks\":\"\"}},\"ternary\":{\"bgcolor\":\"#E5ECF6\",\"aaxis\":{\"gridcolor\":\"white\",\"linecolor\":\"white\",\"ticks\":\"\"},\"baxis\":{\"gridcolor\":\"white\",\"linecolor\":\"white\",\"ticks\":\"\"},\"caxis\":{\"gridcolor\":\"white\",\"linecolor\":\"white\",\"ticks\":\"\"}},\"coloraxis\":{\"colorbar\":{\"outlinewidth\":0,\"ticks\":\"\"}},\"colorscale\":{\"sequential\":[[0.0,\"#0d0887\"],[0.1111111111111111,\"#46039f\"],[0.2222222222222222,\"#7201a8\"],[0.3333333333333333,\"#9c179e\"],[0.4444444444444444,\"#bd3786\"],[0.5555555555555556,\"#d8576b\"],[0.6666666666666666,\"#ed7953\"],[0.7777777777777778,\"#fb9f3a\"],[0.8888888888888888,\"#fdca26\"],[1.0,\"#f0f921\"]],\"sequentialminus\":[[0.0,\"#0d0887\"],[0.1111111111111111,\"#46039f\"],[0.2222222222222222,\"#7201a8\"],[0.3333333333333333,\"#9c179e\"],[0.4444444444444444,\"#bd3786\"],[0.5555555555555556,\"#d8576b\"],[0.6666666666666666,\"#ed7953\"],[0.7777777777777778,\"#fb9f3a\"],[0.8888888888888888,\"#fdca26\"],[1.0,\"#f0f921\"]],\"diverging\":[[0,\"#8e0152\"],[0.1,\"#c51b7d\"],[0.2,\"#de77ae\"],[0.3,\"#f1b6da\"],[0.4,\"#fde0ef\"],[0.5,\"#f7f7f7\"],[0.6,\"#e6f5d0\"],[0.7,\"#b8e186\"],[0.8,\"#7fbc41\"],[0.9,\"#4d9221\"],[1,\"#276419\"]]},\"xaxis\":{\"gridcolor\":\"white\",\"linecolor\":\"white\",\"ticks\":\"\",\"title\":{\"standoff\":15},\"zerolinecolor\":\"white\",\"automargin\":true,\"zerolinewidth\":2},\"yaxis\":{\"gridcolor\":\"white\",\"linecolor\":\"white\",\"ticks\":\"\",\"title\":{\"standoff\":15},\"zerolinecolor\":\"white\",\"automargin\":true,\"zerolinewidth\":2},\"scene\":{\"xaxis\":{\"backgroundcolor\":\"#E5ECF6\",\"gridcolor\":\"white\",\"linecolor\":\"white\",\"showbackground\":true,\"ticks\":\"\",\"zerolinecolor\":\"white\",\"gridwidth\":2},\"yaxis\":{\"backgroundcolor\":\"#E5ECF6\",\"gridcolor\":\"white\",\"linecolor\":\"white\",\"showbackground\":true,\"ticks\":\"\",\"zerolinecolor\":\"white\",\"gridwidth\":2},\"zaxis\":{\"backgroundcolor\":\"#E5ECF6\",\"gridcolor\":\"white\",\"linecolor\":\"white\",\"showbackground\":true,\"ticks\":\"\",\"zerolinecolor\":\"white\",\"gridwidth\":2}},\"shapedefaults\":{\"line\":{\"color\":\"#2a3f5f\"}},\"annotationdefaults\":{\"arrowcolor\":\"#2a3f5f\",\"arrowhead\":0,\"arrowwidth\":1},\"geo\":{\"bgcolor\":\"white\",\"landcolor\":\"#E5ECF6\",\"subunitcolor\":\"white\",\"showland\":true,\"showlakes\":true,\"lakecolor\":\"white\"},\"title\":{\"x\":0.05},\"mapbox\":{\"style\":\"light\"}}},\"xaxis\":{\"nticks\":36},\"title\":{\"text\":\"MCAR - 0.3\"}},                        {\"responsive\": true}                    ).then(function(){\n",
       "                            \n",
       "var gd = document.getElementById('ca0e99dc-cb9d-4b7a-8a59-95a18c8e6d79');\n",
       "var x = new MutationObserver(function (mutations, observer) {{\n",
       "        var display = window.getComputedStyle(gd).display;\n",
       "        if (!display || display === 'none') {{\n",
       "            console.log([gd, 'removed!']);\n",
       "            Plotly.purge(gd);\n",
       "            observer.disconnect();\n",
       "        }}\n",
       "}});\n",
       "\n",
       "// Listen for the removal of the full notebook cells\n",
       "var notebookContainer = gd.closest('#notebook-container');\n",
       "if (notebookContainer) {{\n",
       "    x.observe(notebookContainer, {childList: true});\n",
       "}}\n",
       "\n",
       "// Listen for the clearing of the current output cell\n",
       "var outputEl = gd.closest('.output');\n",
       "if (outputEl) {{\n",
       "    x.observe(outputEl, {childList: true});\n",
       "}}\n",
       "\n",
       "                        })                };                });            </script>        </div>"
      ]
     },
     "metadata": {},
     "output_type": "display_data"
    },
    {
     "data": {
      "application/vnd.plotly.v1+json": {
       "config": {
        "plotlyServerURL": "https://plot.ly"
       },
       "data": [
        {
         "autocolorscale": false,
         "colorscale": [
          [
           0,
           "rgb(5,48,97)"
          ],
          [
           0.1,
           "rgb(33,102,172)"
          ],
          [
           0.2,
           "rgb(67,147,195)"
          ],
          [
           0.3,
           "rgb(146,197,222)"
          ],
          [
           0.4,
           "rgb(209,229,240)"
          ],
          [
           0.5,
           "rgb(247,247,247)"
          ],
          [
           0.6,
           "rgb(253,219,199)"
          ],
          [
           0.7,
           "rgb(244,165,130)"
          ],
          [
           0.8,
           "rgb(214,96,77)"
          ],
          [
           0.9,
           "rgb(178,24,43)"
          ],
          [
           1,
           "rgb(103,0,31)"
          ]
         ],
         "type": "heatmap",
         "x": [
          "40677",
          "40677",
          "40677",
          "40677",
          "40677",
          "40677",
          "40497",
          "40497",
          "40497",
          "40497",
          "40497",
          "40497",
          "183",
          "183",
          "183",
          "183",
          "183",
          "183",
          "40498",
          "40498",
          "40498",
          "40498",
          "40498",
          "40498",
          "1526",
          "1526",
          "1526",
          "1526",
          "1526",
          "1526",
          "30",
          "30",
          "30",
          "30",
          "30",
          "30",
          "4552",
          "4552",
          "4552",
          "4552",
          "4552",
          "4552",
          "375",
          "375",
          "375",
          "375",
          "375",
          "375",
          "1459",
          "1459",
          "1459",
          "1459",
          "1459",
          "1459",
          "32",
          "32",
          "32",
          "32",
          "32",
          "32",
          "26",
          "26",
          "26",
          "26",
          "26",
          "26",
          "41671",
          "41671",
          "41671",
          "6",
          "41671",
          "6",
          "41671",
          "6",
          "6",
          "6",
          "1481",
          "1481",
          "184",
          "184",
          "1481",
          "184",
          "184",
          "1481",
          "184",
          "1481",
          "1481",
          "184",
          "41027",
          "41027",
          "41027",
          "41027",
          "41027",
          "41027",
          "40685",
          "40685",
          "40685",
          "40685",
          "40685"
         ],
         "y": [
          "Random Forest",
          "KNN",
          "VAE",
          "Discriminative DL",
          "Mean/Mode",
          "GAIN",
          "KNN",
          "GAIN",
          "Random Forest",
          "VAE",
          "Discriminative DL",
          "Mean/Mode",
          "VAE",
          "Discriminative DL",
          "GAIN",
          "KNN",
          "Random Forest",
          "Mean/Mode",
          "Discriminative DL",
          "Random Forest",
          "VAE",
          "GAIN",
          "Mean/Mode",
          "KNN",
          "KNN",
          "Discriminative DL",
          "Random Forest",
          "VAE",
          "Mean/Mode",
          "GAIN",
          "GAIN",
          "VAE",
          "Mean/Mode",
          "KNN",
          "Random Forest",
          "Discriminative DL",
          "GAIN",
          "Discriminative DL",
          "Mean/Mode",
          "VAE",
          "Random Forest",
          "KNN",
          "Random Forest",
          "KNN",
          "Discriminative DL",
          "Mean/Mode",
          "VAE",
          "GAIN",
          "VAE",
          "Random Forest",
          "Discriminative DL",
          "GAIN",
          "Mean/Mode",
          "KNN",
          "Random Forest",
          "KNN",
          "GAIN",
          "Mean/Mode",
          "VAE",
          "Discriminative DL",
          "Random Forest",
          "Mean/Mode",
          "GAIN",
          "Discriminative DL",
          "VAE",
          "KNN",
          "KNN",
          "VAE",
          "Random Forest",
          "VAE",
          "Discriminative DL",
          "Mean/Mode",
          "Mean/Mode",
          "Random Forest",
          "Discriminative DL",
          "KNN",
          "Discriminative DL",
          "Mean/Mode",
          "Mean/Mode",
          "Random Forest",
          "KNN",
          "KNN",
          "VAE",
          "Random Forest",
          "GAIN",
          "VAE",
          "GAIN",
          "Discriminative DL",
          "Discriminative DL",
          "Mean/Mode",
          "VAE",
          "GAIN",
          "Random Forest",
          "KNN",
          "Random Forest",
          "KNN",
          "VAE",
          "Discriminative DL",
          "Mean/Mode"
         ],
         "z": [
          -0.0060999967414831,
          -0.0095742519362045,
          -0.0104013231167782,
          0.0153684103426247,
          -0.0105576802767253,
          -0.042861082515193,
          0,
          -0.0072981551647286,
          0.0075797496503159,
          -0.0223497904556699,
          -0.0147087792399033,
          -0.0147087792399033,
          0.1581645109950339,
          0.2745679893875971,
          0.2570074820903054,
          0.2518555469094616,
          0.2505699039776576,
          0.1119428956888718,
          0.1924387560807012,
          0.2611912441896852,
          0.2745026198842428,
          0.0036706967231313,
          0.1251476249133896,
          0.2875583934462623,
          -0.0070549248427381,
          0.1602734335489347,
          -0.0068461936018973,
          0.1575520772974581,
          0.1565675259196036,
          0.1439823379956991,
          -0.0190220521429792,
          -0.009734937375269,
          0.0128199344340744,
          0.0327803588950172,
          0.042298387850972,
          0.0511576867085677,
          0.0172481489407671,
          0.0360466724830546,
          0.0518629765342014,
          0.0546258787911839,
          -0.0111678707621469,
          -0.0099363557783484,
          0.0716198551599515,
          0.0910281670704805,
          0.0871228644042493,
          0.0449161728016479,
          0.0424188646648899,
          -0.0143306675662558,
          0.3211582150466861,
          0.3515135921031281,
          0.3628623693004532,
          0.2541517903988547,
          0.2893773611293512,
          0.36488690824146,
          0.1999741388931812,
          0.2011385725357208,
          0.0447426559014651,
          0.1712851301635895,
          0.1737396177390257,
          0.198649908172239,
          -0.0619786248600092,
          -0.0597114984815579,
          -0.0558234884711687,
          -0.0142774106293317,
          -0.000520610958811,
          -0.0694780710538633,
          -0.0666366310821156,
          -0.0660335234434739,
          -0.0650684448138544,
          0.058415118865748,
          -0.0437903217887831,
          0.0623384211495907,
          -0.0603021909344021,
          0.0702260909220355,
          0.0732909329048143,
          0.0743638418028606,
          0.1282494809006915,
          0.1385133238727107,
          -0.077651132067835,
          -0.0637685253957422,
          0.1197555534583038,
          -0.0479268322221033,
          -0.0152528835580191,
          0.1274055654183889,
          -0.0135998009509097,
          0.1138448927584445,
          0.1091415699291564,
          -0.0550284761611637,
          0.0181272046786645,
          0.0136114772378767,
          0.0108645786616957,
          0.006129995996004,
          0.0019350633740401,
          0.0079451576905537,
          0.0120395502921625,
          0.005443208363568,
          0,
          -0.0001321460454085,
          0
         ],
         "zmid": 0
        }
       ],
       "layout": {
        "template": {
         "data": {
          "bar": [
           {
            "error_x": {
             "color": "#2a3f5f"
            },
            "error_y": {
             "color": "#2a3f5f"
            },
            "marker": {
             "line": {
              "color": "#E5ECF6",
              "width": 0.5
             },
             "pattern": {
              "fillmode": "overlay",
              "size": 10,
              "solidity": 0.2
             }
            },
            "type": "bar"
           }
          ],
          "barpolar": [
           {
            "marker": {
             "line": {
              "color": "#E5ECF6",
              "width": 0.5
             },
             "pattern": {
              "fillmode": "overlay",
              "size": 10,
              "solidity": 0.2
             }
            },
            "type": "barpolar"
           }
          ],
          "carpet": [
           {
            "aaxis": {
             "endlinecolor": "#2a3f5f",
             "gridcolor": "white",
             "linecolor": "white",
             "minorgridcolor": "white",
             "startlinecolor": "#2a3f5f"
            },
            "baxis": {
             "endlinecolor": "#2a3f5f",
             "gridcolor": "white",
             "linecolor": "white",
             "minorgridcolor": "white",
             "startlinecolor": "#2a3f5f"
            },
            "type": "carpet"
           }
          ],
          "choropleth": [
           {
            "colorbar": {
             "outlinewidth": 0,
             "ticks": ""
            },
            "type": "choropleth"
           }
          ],
          "contour": [
           {
            "colorbar": {
             "outlinewidth": 0,
             "ticks": ""
            },
            "colorscale": [
             [
              0,
              "#0d0887"
             ],
             [
              0.1111111111111111,
              "#46039f"
             ],
             [
              0.2222222222222222,
              "#7201a8"
             ],
             [
              0.3333333333333333,
              "#9c179e"
             ],
             [
              0.4444444444444444,
              "#bd3786"
             ],
             [
              0.5555555555555556,
              "#d8576b"
             ],
             [
              0.6666666666666666,
              "#ed7953"
             ],
             [
              0.7777777777777778,
              "#fb9f3a"
             ],
             [
              0.8888888888888888,
              "#fdca26"
             ],
             [
              1,
              "#f0f921"
             ]
            ],
            "type": "contour"
           }
          ],
          "contourcarpet": [
           {
            "colorbar": {
             "outlinewidth": 0,
             "ticks": ""
            },
            "type": "contourcarpet"
           }
          ],
          "heatmap": [
           {
            "colorbar": {
             "outlinewidth": 0,
             "ticks": ""
            },
            "colorscale": [
             [
              0,
              "#0d0887"
             ],
             [
              0.1111111111111111,
              "#46039f"
             ],
             [
              0.2222222222222222,
              "#7201a8"
             ],
             [
              0.3333333333333333,
              "#9c179e"
             ],
             [
              0.4444444444444444,
              "#bd3786"
             ],
             [
              0.5555555555555556,
              "#d8576b"
             ],
             [
              0.6666666666666666,
              "#ed7953"
             ],
             [
              0.7777777777777778,
              "#fb9f3a"
             ],
             [
              0.8888888888888888,
              "#fdca26"
             ],
             [
              1,
              "#f0f921"
             ]
            ],
            "type": "heatmap"
           }
          ],
          "heatmapgl": [
           {
            "colorbar": {
             "outlinewidth": 0,
             "ticks": ""
            },
            "colorscale": [
             [
              0,
              "#0d0887"
             ],
             [
              0.1111111111111111,
              "#46039f"
             ],
             [
              0.2222222222222222,
              "#7201a8"
             ],
             [
              0.3333333333333333,
              "#9c179e"
             ],
             [
              0.4444444444444444,
              "#bd3786"
             ],
             [
              0.5555555555555556,
              "#d8576b"
             ],
             [
              0.6666666666666666,
              "#ed7953"
             ],
             [
              0.7777777777777778,
              "#fb9f3a"
             ],
             [
              0.8888888888888888,
              "#fdca26"
             ],
             [
              1,
              "#f0f921"
             ]
            ],
            "type": "heatmapgl"
           }
          ],
          "histogram": [
           {
            "marker": {
             "pattern": {
              "fillmode": "overlay",
              "size": 10,
              "solidity": 0.2
             }
            },
            "type": "histogram"
           }
          ],
          "histogram2d": [
           {
            "colorbar": {
             "outlinewidth": 0,
             "ticks": ""
            },
            "colorscale": [
             [
              0,
              "#0d0887"
             ],
             [
              0.1111111111111111,
              "#46039f"
             ],
             [
              0.2222222222222222,
              "#7201a8"
             ],
             [
              0.3333333333333333,
              "#9c179e"
             ],
             [
              0.4444444444444444,
              "#bd3786"
             ],
             [
              0.5555555555555556,
              "#d8576b"
             ],
             [
              0.6666666666666666,
              "#ed7953"
             ],
             [
              0.7777777777777778,
              "#fb9f3a"
             ],
             [
              0.8888888888888888,
              "#fdca26"
             ],
             [
              1,
              "#f0f921"
             ]
            ],
            "type": "histogram2d"
           }
          ],
          "histogram2dcontour": [
           {
            "colorbar": {
             "outlinewidth": 0,
             "ticks": ""
            },
            "colorscale": [
             [
              0,
              "#0d0887"
             ],
             [
              0.1111111111111111,
              "#46039f"
             ],
             [
              0.2222222222222222,
              "#7201a8"
             ],
             [
              0.3333333333333333,
              "#9c179e"
             ],
             [
              0.4444444444444444,
              "#bd3786"
             ],
             [
              0.5555555555555556,
              "#d8576b"
             ],
             [
              0.6666666666666666,
              "#ed7953"
             ],
             [
              0.7777777777777778,
              "#fb9f3a"
             ],
             [
              0.8888888888888888,
              "#fdca26"
             ],
             [
              1,
              "#f0f921"
             ]
            ],
            "type": "histogram2dcontour"
           }
          ],
          "mesh3d": [
           {
            "colorbar": {
             "outlinewidth": 0,
             "ticks": ""
            },
            "type": "mesh3d"
           }
          ],
          "parcoords": [
           {
            "line": {
             "colorbar": {
              "outlinewidth": 0,
              "ticks": ""
             }
            },
            "type": "parcoords"
           }
          ],
          "pie": [
           {
            "automargin": true,
            "type": "pie"
           }
          ],
          "scatter": [
           {
            "fillpattern": {
             "fillmode": "overlay",
             "size": 10,
             "solidity": 0.2
            },
            "type": "scatter"
           }
          ],
          "scatter3d": [
           {
            "line": {
             "colorbar": {
              "outlinewidth": 0,
              "ticks": ""
             }
            },
            "marker": {
             "colorbar": {
              "outlinewidth": 0,
              "ticks": ""
             }
            },
            "type": "scatter3d"
           }
          ],
          "scattercarpet": [
           {
            "marker": {
             "colorbar": {
              "outlinewidth": 0,
              "ticks": ""
             }
            },
            "type": "scattercarpet"
           }
          ],
          "scattergeo": [
           {
            "marker": {
             "colorbar": {
              "outlinewidth": 0,
              "ticks": ""
             }
            },
            "type": "scattergeo"
           }
          ],
          "scattergl": [
           {
            "marker": {
             "colorbar": {
              "outlinewidth": 0,
              "ticks": ""
             }
            },
            "type": "scattergl"
           }
          ],
          "scattermapbox": [
           {
            "marker": {
             "colorbar": {
              "outlinewidth": 0,
              "ticks": ""
             }
            },
            "type": "scattermapbox"
           }
          ],
          "scatterpolar": [
           {
            "marker": {
             "colorbar": {
              "outlinewidth": 0,
              "ticks": ""
             }
            },
            "type": "scatterpolar"
           }
          ],
          "scatterpolargl": [
           {
            "marker": {
             "colorbar": {
              "outlinewidth": 0,
              "ticks": ""
             }
            },
            "type": "scatterpolargl"
           }
          ],
          "scatterternary": [
           {
            "marker": {
             "colorbar": {
              "outlinewidth": 0,
              "ticks": ""
             }
            },
            "type": "scatterternary"
           }
          ],
          "surface": [
           {
            "colorbar": {
             "outlinewidth": 0,
             "ticks": ""
            },
            "colorscale": [
             [
              0,
              "#0d0887"
             ],
             [
              0.1111111111111111,
              "#46039f"
             ],
             [
              0.2222222222222222,
              "#7201a8"
             ],
             [
              0.3333333333333333,
              "#9c179e"
             ],
             [
              0.4444444444444444,
              "#bd3786"
             ],
             [
              0.5555555555555556,
              "#d8576b"
             ],
             [
              0.6666666666666666,
              "#ed7953"
             ],
             [
              0.7777777777777778,
              "#fb9f3a"
             ],
             [
              0.8888888888888888,
              "#fdca26"
             ],
             [
              1,
              "#f0f921"
             ]
            ],
            "type": "surface"
           }
          ],
          "table": [
           {
            "cells": {
             "fill": {
              "color": "#EBF0F8"
             },
             "line": {
              "color": "white"
             }
            },
            "header": {
             "fill": {
              "color": "#C8D4E3"
             },
             "line": {
              "color": "white"
             }
            },
            "type": "table"
           }
          ]
         },
         "layout": {
          "annotationdefaults": {
           "arrowcolor": "#2a3f5f",
           "arrowhead": 0,
           "arrowwidth": 1
          },
          "autotypenumbers": "strict",
          "coloraxis": {
           "colorbar": {
            "outlinewidth": 0,
            "ticks": ""
           }
          },
          "colorscale": {
           "diverging": [
            [
             0,
             "#8e0152"
            ],
            [
             0.1,
             "#c51b7d"
            ],
            [
             0.2,
             "#de77ae"
            ],
            [
             0.3,
             "#f1b6da"
            ],
            [
             0.4,
             "#fde0ef"
            ],
            [
             0.5,
             "#f7f7f7"
            ],
            [
             0.6,
             "#e6f5d0"
            ],
            [
             0.7,
             "#b8e186"
            ],
            [
             0.8,
             "#7fbc41"
            ],
            [
             0.9,
             "#4d9221"
            ],
            [
             1,
             "#276419"
            ]
           ],
           "sequential": [
            [
             0,
             "#0d0887"
            ],
            [
             0.1111111111111111,
             "#46039f"
            ],
            [
             0.2222222222222222,
             "#7201a8"
            ],
            [
             0.3333333333333333,
             "#9c179e"
            ],
            [
             0.4444444444444444,
             "#bd3786"
            ],
            [
             0.5555555555555556,
             "#d8576b"
            ],
            [
             0.6666666666666666,
             "#ed7953"
            ],
            [
             0.7777777777777778,
             "#fb9f3a"
            ],
            [
             0.8888888888888888,
             "#fdca26"
            ],
            [
             1,
             "#f0f921"
            ]
           ],
           "sequentialminus": [
            [
             0,
             "#0d0887"
            ],
            [
             0.1111111111111111,
             "#46039f"
            ],
            [
             0.2222222222222222,
             "#7201a8"
            ],
            [
             0.3333333333333333,
             "#9c179e"
            ],
            [
             0.4444444444444444,
             "#bd3786"
            ],
            [
             0.5555555555555556,
             "#d8576b"
            ],
            [
             0.6666666666666666,
             "#ed7953"
            ],
            [
             0.7777777777777778,
             "#fb9f3a"
            ],
            [
             0.8888888888888888,
             "#fdca26"
            ],
            [
             1,
             "#f0f921"
            ]
           ]
          },
          "colorway": [
           "#636efa",
           "#EF553B",
           "#00cc96",
           "#ab63fa",
           "#FFA15A",
           "#19d3f3",
           "#FF6692",
           "#B6E880",
           "#FF97FF",
           "#FECB52"
          ],
          "font": {
           "color": "#2a3f5f"
          },
          "geo": {
           "bgcolor": "white",
           "lakecolor": "white",
           "landcolor": "#E5ECF6",
           "showlakes": true,
           "showland": true,
           "subunitcolor": "white"
          },
          "hoverlabel": {
           "align": "left"
          },
          "hovermode": "closest",
          "mapbox": {
           "style": "light"
          },
          "paper_bgcolor": "white",
          "plot_bgcolor": "#E5ECF6",
          "polar": {
           "angularaxis": {
            "gridcolor": "white",
            "linecolor": "white",
            "ticks": ""
           },
           "bgcolor": "#E5ECF6",
           "radialaxis": {
            "gridcolor": "white",
            "linecolor": "white",
            "ticks": ""
           }
          },
          "scene": {
           "xaxis": {
            "backgroundcolor": "#E5ECF6",
            "gridcolor": "white",
            "gridwidth": 2,
            "linecolor": "white",
            "showbackground": true,
            "ticks": "",
            "zerolinecolor": "white"
           },
           "yaxis": {
            "backgroundcolor": "#E5ECF6",
            "gridcolor": "white",
            "gridwidth": 2,
            "linecolor": "white",
            "showbackground": true,
            "ticks": "",
            "zerolinecolor": "white"
           },
           "zaxis": {
            "backgroundcolor": "#E5ECF6",
            "gridcolor": "white",
            "gridwidth": 2,
            "linecolor": "white",
            "showbackground": true,
            "ticks": "",
            "zerolinecolor": "white"
           }
          },
          "shapedefaults": {
           "line": {
            "color": "#2a3f5f"
           }
          },
          "ternary": {
           "aaxis": {
            "gridcolor": "white",
            "linecolor": "white",
            "ticks": ""
           },
           "baxis": {
            "gridcolor": "white",
            "linecolor": "white",
            "ticks": ""
           },
           "bgcolor": "#E5ECF6",
           "caxis": {
            "gridcolor": "white",
            "linecolor": "white",
            "ticks": ""
           }
          },
          "title": {
           "x": 0.05
          },
          "xaxis": {
           "automargin": true,
           "gridcolor": "white",
           "linecolor": "white",
           "ticks": "",
           "title": {
            "standoff": 15
           },
           "zerolinecolor": "white",
           "zerolinewidth": 2
          },
          "yaxis": {
           "automargin": true,
           "gridcolor": "white",
           "linecolor": "white",
           "ticks": "",
           "title": {
            "standoff": 15
           },
           "zerolinecolor": "white",
           "zerolinewidth": 2
          }
         }
        },
        "title": {
         "text": "MCAR - 0.5"
        },
        "xaxis": {
         "nticks": 36
        }
       }
      },
      "text/html": [
       "<div>                            <div id=\"eee39efe-2922-41f1-9494-33e6c5c0e6aa\" class=\"plotly-graph-div\" style=\"height:525px; width:100%;\"></div>            <script type=\"text/javascript\">                require([\"plotly\"], function(Plotly) {                    window.PLOTLYENV=window.PLOTLYENV || {};                                    if (document.getElementById(\"eee39efe-2922-41f1-9494-33e6c5c0e6aa\")) {                    Plotly.newPlot(                        \"eee39efe-2922-41f1-9494-33e6c5c0e6aa\",                        [{\"autocolorscale\":false,\"colorscale\":[[0.0,\"rgb(5,48,97)\"],[0.1,\"rgb(33,102,172)\"],[0.2,\"rgb(67,147,195)\"],[0.3,\"rgb(146,197,222)\"],[0.4,\"rgb(209,229,240)\"],[0.5,\"rgb(247,247,247)\"],[0.6,\"rgb(253,219,199)\"],[0.7,\"rgb(244,165,130)\"],[0.8,\"rgb(214,96,77)\"],[0.9,\"rgb(178,24,43)\"],[1.0,\"rgb(103,0,31)\"]],\"x\":[\"40677\",\"40677\",\"40677\",\"40677\",\"40677\",\"40677\",\"40497\",\"40497\",\"40497\",\"40497\",\"40497\",\"40497\",\"183\",\"183\",\"183\",\"183\",\"183\",\"183\",\"40498\",\"40498\",\"40498\",\"40498\",\"40498\",\"40498\",\"1526\",\"1526\",\"1526\",\"1526\",\"1526\",\"1526\",\"30\",\"30\",\"30\",\"30\",\"30\",\"30\",\"4552\",\"4552\",\"4552\",\"4552\",\"4552\",\"4552\",\"375\",\"375\",\"375\",\"375\",\"375\",\"375\",\"1459\",\"1459\",\"1459\",\"1459\",\"1459\",\"1459\",\"32\",\"32\",\"32\",\"32\",\"32\",\"32\",\"26\",\"26\",\"26\",\"26\",\"26\",\"26\",\"41671\",\"41671\",\"41671\",\"6\",\"41671\",\"6\",\"41671\",\"6\",\"6\",\"6\",\"1481\",\"1481\",\"184\",\"184\",\"1481\",\"184\",\"184\",\"1481\",\"184\",\"1481\",\"1481\",\"184\",\"41027\",\"41027\",\"41027\",\"41027\",\"41027\",\"41027\",\"40685\",\"40685\",\"40685\",\"40685\",\"40685\"],\"y\":[\"Random Forest\",\"KNN\",\"VAE\",\"Discriminative DL\",\"Mean/Mode\",\"GAIN\",\"KNN\",\"GAIN\",\"Random Forest\",\"VAE\",\"Discriminative DL\",\"Mean/Mode\",\"VAE\",\"Discriminative DL\",\"GAIN\",\"KNN\",\"Random Forest\",\"Mean/Mode\",\"Discriminative DL\",\"Random Forest\",\"VAE\",\"GAIN\",\"Mean/Mode\",\"KNN\",\"KNN\",\"Discriminative DL\",\"Random Forest\",\"VAE\",\"Mean/Mode\",\"GAIN\",\"GAIN\",\"VAE\",\"Mean/Mode\",\"KNN\",\"Random Forest\",\"Discriminative DL\",\"GAIN\",\"Discriminative DL\",\"Mean/Mode\",\"VAE\",\"Random Forest\",\"KNN\",\"Random Forest\",\"KNN\",\"Discriminative DL\",\"Mean/Mode\",\"VAE\",\"GAIN\",\"VAE\",\"Random Forest\",\"Discriminative DL\",\"GAIN\",\"Mean/Mode\",\"KNN\",\"Random Forest\",\"KNN\",\"GAIN\",\"Mean/Mode\",\"VAE\",\"Discriminative DL\",\"Random Forest\",\"Mean/Mode\",\"GAIN\",\"Discriminative DL\",\"VAE\",\"KNN\",\"KNN\",\"VAE\",\"Random Forest\",\"VAE\",\"Discriminative DL\",\"Mean/Mode\",\"Mean/Mode\",\"Random Forest\",\"Discriminative DL\",\"KNN\",\"Discriminative DL\",\"Mean/Mode\",\"Mean/Mode\",\"Random Forest\",\"KNN\",\"KNN\",\"VAE\",\"Random Forest\",\"GAIN\",\"VAE\",\"GAIN\",\"Discriminative DL\",\"Discriminative DL\",\"Mean/Mode\",\"VAE\",\"GAIN\",\"Random Forest\",\"KNN\",\"Random Forest\",\"KNN\",\"VAE\",\"Discriminative DL\",\"Mean/Mode\"],\"z\":[-0.0060999967414831,-0.0095742519362045,-0.0104013231167782,0.0153684103426247,-0.0105576802767253,-0.042861082515193,0.0,-0.0072981551647286,0.0075797496503159,-0.0223497904556699,-0.0147087792399033,-0.0147087792399033,0.1581645109950339,0.2745679893875971,0.2570074820903054,0.2518555469094616,0.2505699039776576,0.1119428956888718,0.1924387560807012,0.2611912441896852,0.2745026198842428,0.0036706967231313,0.1251476249133896,0.2875583934462623,-0.0070549248427381,0.1602734335489347,-0.0068461936018973,0.1575520772974581,0.1565675259196036,0.1439823379956991,-0.0190220521429792,-0.009734937375269,0.0128199344340744,0.0327803588950172,0.042298387850972,0.0511576867085677,0.0172481489407671,0.0360466724830546,0.0518629765342014,0.0546258787911839,-0.0111678707621469,-0.0099363557783484,0.0716198551599515,0.0910281670704805,0.0871228644042493,0.0449161728016479,0.0424188646648899,-0.0143306675662558,0.3211582150466861,0.3515135921031281,0.3628623693004532,0.2541517903988547,0.2893773611293512,0.36488690824146,0.1999741388931812,0.2011385725357208,0.0447426559014651,0.1712851301635895,0.1737396177390257,0.198649908172239,-0.0619786248600092,-0.0597114984815579,-0.0558234884711687,-0.0142774106293317,-0.000520610958811,-0.0694780710538633,-0.0666366310821156,-0.0660335234434739,-0.0650684448138544,0.058415118865748,-0.0437903217887831,0.0623384211495907,-0.0603021909344021,0.0702260909220355,0.0732909329048143,0.0743638418028606,0.1282494809006915,0.1385133238727107,-0.077651132067835,-0.0637685253957422,0.1197555534583038,-0.0479268322221033,-0.0152528835580191,0.1274055654183889,-0.0135998009509097,0.1138448927584445,0.1091415699291564,-0.0550284761611637,0.0181272046786645,0.0136114772378767,0.0108645786616957,0.006129995996004,0.0019350633740401,0.0079451576905537,0.0120395502921625,0.005443208363568,0.0,-0.0001321460454085,0.0],\"zmid\":0,\"type\":\"heatmap\"}],                        {\"template\":{\"data\":{\"histogram2dcontour\":[{\"type\":\"histogram2dcontour\",\"colorbar\":{\"outlinewidth\":0,\"ticks\":\"\"},\"colorscale\":[[0.0,\"#0d0887\"],[0.1111111111111111,\"#46039f\"],[0.2222222222222222,\"#7201a8\"],[0.3333333333333333,\"#9c179e\"],[0.4444444444444444,\"#bd3786\"],[0.5555555555555556,\"#d8576b\"],[0.6666666666666666,\"#ed7953\"],[0.7777777777777778,\"#fb9f3a\"],[0.8888888888888888,\"#fdca26\"],[1.0,\"#f0f921\"]]}],\"choropleth\":[{\"type\":\"choropleth\",\"colorbar\":{\"outlinewidth\":0,\"ticks\":\"\"}}],\"histogram2d\":[{\"type\":\"histogram2d\",\"colorbar\":{\"outlinewidth\":0,\"ticks\":\"\"},\"colorscale\":[[0.0,\"#0d0887\"],[0.1111111111111111,\"#46039f\"],[0.2222222222222222,\"#7201a8\"],[0.3333333333333333,\"#9c179e\"],[0.4444444444444444,\"#bd3786\"],[0.5555555555555556,\"#d8576b\"],[0.6666666666666666,\"#ed7953\"],[0.7777777777777778,\"#fb9f3a\"],[0.8888888888888888,\"#fdca26\"],[1.0,\"#f0f921\"]]}],\"heatmap\":[{\"type\":\"heatmap\",\"colorbar\":{\"outlinewidth\":0,\"ticks\":\"\"},\"colorscale\":[[0.0,\"#0d0887\"],[0.1111111111111111,\"#46039f\"],[0.2222222222222222,\"#7201a8\"],[0.3333333333333333,\"#9c179e\"],[0.4444444444444444,\"#bd3786\"],[0.5555555555555556,\"#d8576b\"],[0.6666666666666666,\"#ed7953\"],[0.7777777777777778,\"#fb9f3a\"],[0.8888888888888888,\"#fdca26\"],[1.0,\"#f0f921\"]]}],\"heatmapgl\":[{\"type\":\"heatmapgl\",\"colorbar\":{\"outlinewidth\":0,\"ticks\":\"\"},\"colorscale\":[[0.0,\"#0d0887\"],[0.1111111111111111,\"#46039f\"],[0.2222222222222222,\"#7201a8\"],[0.3333333333333333,\"#9c179e\"],[0.4444444444444444,\"#bd3786\"],[0.5555555555555556,\"#d8576b\"],[0.6666666666666666,\"#ed7953\"],[0.7777777777777778,\"#fb9f3a\"],[0.8888888888888888,\"#fdca26\"],[1.0,\"#f0f921\"]]}],\"contourcarpet\":[{\"type\":\"contourcarpet\",\"colorbar\":{\"outlinewidth\":0,\"ticks\":\"\"}}],\"contour\":[{\"type\":\"contour\",\"colorbar\":{\"outlinewidth\":0,\"ticks\":\"\"},\"colorscale\":[[0.0,\"#0d0887\"],[0.1111111111111111,\"#46039f\"],[0.2222222222222222,\"#7201a8\"],[0.3333333333333333,\"#9c179e\"],[0.4444444444444444,\"#bd3786\"],[0.5555555555555556,\"#d8576b\"],[0.6666666666666666,\"#ed7953\"],[0.7777777777777778,\"#fb9f3a\"],[0.8888888888888888,\"#fdca26\"],[1.0,\"#f0f921\"]]}],\"surface\":[{\"type\":\"surface\",\"colorbar\":{\"outlinewidth\":0,\"ticks\":\"\"},\"colorscale\":[[0.0,\"#0d0887\"],[0.1111111111111111,\"#46039f\"],[0.2222222222222222,\"#7201a8\"],[0.3333333333333333,\"#9c179e\"],[0.4444444444444444,\"#bd3786\"],[0.5555555555555556,\"#d8576b\"],[0.6666666666666666,\"#ed7953\"],[0.7777777777777778,\"#fb9f3a\"],[0.8888888888888888,\"#fdca26\"],[1.0,\"#f0f921\"]]}],\"mesh3d\":[{\"type\":\"mesh3d\",\"colorbar\":{\"outlinewidth\":0,\"ticks\":\"\"}}],\"scatter\":[{\"fillpattern\":{\"fillmode\":\"overlay\",\"size\":10,\"solidity\":0.2},\"type\":\"scatter\"}],\"parcoords\":[{\"type\":\"parcoords\",\"line\":{\"colorbar\":{\"outlinewidth\":0,\"ticks\":\"\"}}}],\"scatterpolargl\":[{\"type\":\"scatterpolargl\",\"marker\":{\"colorbar\":{\"outlinewidth\":0,\"ticks\":\"\"}}}],\"bar\":[{\"error_x\":{\"color\":\"#2a3f5f\"},\"error_y\":{\"color\":\"#2a3f5f\"},\"marker\":{\"line\":{\"color\":\"#E5ECF6\",\"width\":0.5},\"pattern\":{\"fillmode\":\"overlay\",\"size\":10,\"solidity\":0.2}},\"type\":\"bar\"}],\"scattergeo\":[{\"type\":\"scattergeo\",\"marker\":{\"colorbar\":{\"outlinewidth\":0,\"ticks\":\"\"}}}],\"scatterpolar\":[{\"type\":\"scatterpolar\",\"marker\":{\"colorbar\":{\"outlinewidth\":0,\"ticks\":\"\"}}}],\"histogram\":[{\"marker\":{\"pattern\":{\"fillmode\":\"overlay\",\"size\":10,\"solidity\":0.2}},\"type\":\"histogram\"}],\"scattergl\":[{\"type\":\"scattergl\",\"marker\":{\"colorbar\":{\"outlinewidth\":0,\"ticks\":\"\"}}}],\"scatter3d\":[{\"type\":\"scatter3d\",\"line\":{\"colorbar\":{\"outlinewidth\":0,\"ticks\":\"\"}},\"marker\":{\"colorbar\":{\"outlinewidth\":0,\"ticks\":\"\"}}}],\"scattermapbox\":[{\"type\":\"scattermapbox\",\"marker\":{\"colorbar\":{\"outlinewidth\":0,\"ticks\":\"\"}}}],\"scatterternary\":[{\"type\":\"scatterternary\",\"marker\":{\"colorbar\":{\"outlinewidth\":0,\"ticks\":\"\"}}}],\"scattercarpet\":[{\"type\":\"scattercarpet\",\"marker\":{\"colorbar\":{\"outlinewidth\":0,\"ticks\":\"\"}}}],\"carpet\":[{\"aaxis\":{\"endlinecolor\":\"#2a3f5f\",\"gridcolor\":\"white\",\"linecolor\":\"white\",\"minorgridcolor\":\"white\",\"startlinecolor\":\"#2a3f5f\"},\"baxis\":{\"endlinecolor\":\"#2a3f5f\",\"gridcolor\":\"white\",\"linecolor\":\"white\",\"minorgridcolor\":\"white\",\"startlinecolor\":\"#2a3f5f\"},\"type\":\"carpet\"}],\"table\":[{\"cells\":{\"fill\":{\"color\":\"#EBF0F8\"},\"line\":{\"color\":\"white\"}},\"header\":{\"fill\":{\"color\":\"#C8D4E3\"},\"line\":{\"color\":\"white\"}},\"type\":\"table\"}],\"barpolar\":[{\"marker\":{\"line\":{\"color\":\"#E5ECF6\",\"width\":0.5},\"pattern\":{\"fillmode\":\"overlay\",\"size\":10,\"solidity\":0.2}},\"type\":\"barpolar\"}],\"pie\":[{\"automargin\":true,\"type\":\"pie\"}]},\"layout\":{\"autotypenumbers\":\"strict\",\"colorway\":[\"#636efa\",\"#EF553B\",\"#00cc96\",\"#ab63fa\",\"#FFA15A\",\"#19d3f3\",\"#FF6692\",\"#B6E880\",\"#FF97FF\",\"#FECB52\"],\"font\":{\"color\":\"#2a3f5f\"},\"hovermode\":\"closest\",\"hoverlabel\":{\"align\":\"left\"},\"paper_bgcolor\":\"white\",\"plot_bgcolor\":\"#E5ECF6\",\"polar\":{\"bgcolor\":\"#E5ECF6\",\"angularaxis\":{\"gridcolor\":\"white\",\"linecolor\":\"white\",\"ticks\":\"\"},\"radialaxis\":{\"gridcolor\":\"white\",\"linecolor\":\"white\",\"ticks\":\"\"}},\"ternary\":{\"bgcolor\":\"#E5ECF6\",\"aaxis\":{\"gridcolor\":\"white\",\"linecolor\":\"white\",\"ticks\":\"\"},\"baxis\":{\"gridcolor\":\"white\",\"linecolor\":\"white\",\"ticks\":\"\"},\"caxis\":{\"gridcolor\":\"white\",\"linecolor\":\"white\",\"ticks\":\"\"}},\"coloraxis\":{\"colorbar\":{\"outlinewidth\":0,\"ticks\":\"\"}},\"colorscale\":{\"sequential\":[[0.0,\"#0d0887\"],[0.1111111111111111,\"#46039f\"],[0.2222222222222222,\"#7201a8\"],[0.3333333333333333,\"#9c179e\"],[0.4444444444444444,\"#bd3786\"],[0.5555555555555556,\"#d8576b\"],[0.6666666666666666,\"#ed7953\"],[0.7777777777777778,\"#fb9f3a\"],[0.8888888888888888,\"#fdca26\"],[1.0,\"#f0f921\"]],\"sequentialminus\":[[0.0,\"#0d0887\"],[0.1111111111111111,\"#46039f\"],[0.2222222222222222,\"#7201a8\"],[0.3333333333333333,\"#9c179e\"],[0.4444444444444444,\"#bd3786\"],[0.5555555555555556,\"#d8576b\"],[0.6666666666666666,\"#ed7953\"],[0.7777777777777778,\"#fb9f3a\"],[0.8888888888888888,\"#fdca26\"],[1.0,\"#f0f921\"]],\"diverging\":[[0,\"#8e0152\"],[0.1,\"#c51b7d\"],[0.2,\"#de77ae\"],[0.3,\"#f1b6da\"],[0.4,\"#fde0ef\"],[0.5,\"#f7f7f7\"],[0.6,\"#e6f5d0\"],[0.7,\"#b8e186\"],[0.8,\"#7fbc41\"],[0.9,\"#4d9221\"],[1,\"#276419\"]]},\"xaxis\":{\"gridcolor\":\"white\",\"linecolor\":\"white\",\"ticks\":\"\",\"title\":{\"standoff\":15},\"zerolinecolor\":\"white\",\"automargin\":true,\"zerolinewidth\":2},\"yaxis\":{\"gridcolor\":\"white\",\"linecolor\":\"white\",\"ticks\":\"\",\"title\":{\"standoff\":15},\"zerolinecolor\":\"white\",\"automargin\":true,\"zerolinewidth\":2},\"scene\":{\"xaxis\":{\"backgroundcolor\":\"#E5ECF6\",\"gridcolor\":\"white\",\"linecolor\":\"white\",\"showbackground\":true,\"ticks\":\"\",\"zerolinecolor\":\"white\",\"gridwidth\":2},\"yaxis\":{\"backgroundcolor\":\"#E5ECF6\",\"gridcolor\":\"white\",\"linecolor\":\"white\",\"showbackground\":true,\"ticks\":\"\",\"zerolinecolor\":\"white\",\"gridwidth\":2},\"zaxis\":{\"backgroundcolor\":\"#E5ECF6\",\"gridcolor\":\"white\",\"linecolor\":\"white\",\"showbackground\":true,\"ticks\":\"\",\"zerolinecolor\":\"white\",\"gridwidth\":2}},\"shapedefaults\":{\"line\":{\"color\":\"#2a3f5f\"}},\"annotationdefaults\":{\"arrowcolor\":\"#2a3f5f\",\"arrowhead\":0,\"arrowwidth\":1},\"geo\":{\"bgcolor\":\"white\",\"landcolor\":\"#E5ECF6\",\"subunitcolor\":\"white\",\"showland\":true,\"showlakes\":true,\"lakecolor\":\"white\"},\"title\":{\"x\":0.05},\"mapbox\":{\"style\":\"light\"}}},\"xaxis\":{\"nticks\":36},\"title\":{\"text\":\"MCAR - 0.5\"}},                        {\"responsive\": true}                    ).then(function(){\n",
       "                            \n",
       "var gd = document.getElementById('eee39efe-2922-41f1-9494-33e6c5c0e6aa');\n",
       "var x = new MutationObserver(function (mutations, observer) {{\n",
       "        var display = window.getComputedStyle(gd).display;\n",
       "        if (!display || display === 'none') {{\n",
       "            console.log([gd, 'removed!']);\n",
       "            Plotly.purge(gd);\n",
       "            observer.disconnect();\n",
       "        }}\n",
       "}});\n",
       "\n",
       "// Listen for the removal of the full notebook cells\n",
       "var notebookContainer = gd.closest('#notebook-container');\n",
       "if (notebookContainer) {{\n",
       "    x.observe(notebookContainer, {childList: true});\n",
       "}}\n",
       "\n",
       "// Listen for the clearing of the current output cell\n",
       "var outputEl = gd.closest('.output');\n",
       "if (outputEl) {{\n",
       "    x.observe(outputEl, {childList: true});\n",
       "}}\n",
       "\n",
       "                        })                };                });            </script>        </div>"
      ]
     },
     "metadata": {},
     "output_type": "display_data"
    },
    {
     "data": {
      "application/vnd.plotly.v1+json": {
       "config": {
        "plotlyServerURL": "https://plot.ly"
       },
       "data": [
        {
         "autocolorscale": false,
         "colorscale": [
          [
           0,
           "rgb(5,48,97)"
          ],
          [
           0.1,
           "rgb(33,102,172)"
          ],
          [
           0.2,
           "rgb(67,147,195)"
          ],
          [
           0.3,
           "rgb(146,197,222)"
          ],
          [
           0.4,
           "rgb(209,229,240)"
          ],
          [
           0.5,
           "rgb(247,247,247)"
          ],
          [
           0.6,
           "rgb(253,219,199)"
          ],
          [
           0.7,
           "rgb(244,165,130)"
          ],
          [
           0.8,
           "rgb(214,96,77)"
          ],
          [
           0.9,
           "rgb(178,24,43)"
          ],
          [
           1,
           "rgb(103,0,31)"
          ]
         ],
         "type": "heatmap",
         "x": [
          "40677",
          "40677",
          "40677",
          "40677",
          "40677",
          "40677",
          "40497",
          "40497",
          "40497",
          "40497",
          "40497",
          "40497",
          "183",
          "183",
          "183",
          "183",
          "183",
          "183",
          "40498",
          "40498",
          "40498",
          "40498",
          "40498",
          "40498",
          "1526",
          "1526",
          "1526",
          "1526",
          "1526",
          "1526",
          "30",
          "30",
          "30",
          "30",
          "30",
          "30",
          "4552",
          "4552",
          "4552",
          "4552",
          "4552",
          "4552",
          "375",
          "375",
          "375",
          "375",
          "375",
          "375",
          "1459",
          "1459",
          "1459",
          "1459",
          "1459",
          "1459",
          "32",
          "32",
          "32",
          "32",
          "32",
          "32",
          "26",
          "26",
          "26",
          "26",
          "26",
          "26",
          "41671",
          "41671",
          "41671",
          "6",
          "41671",
          "6",
          "6",
          "41671",
          "6",
          "6",
          "1481",
          "1481",
          "184",
          "184",
          "1481",
          "184",
          "184",
          "1481",
          "184",
          "1481",
          "1481",
          "184",
          "41027",
          "41027",
          "41027",
          "41027",
          "41027",
          "40685",
          "40685",
          "40685",
          "40685",
          "40685"
         ],
         "y": [
          "VAE",
          "KNN",
          "Discriminative DL",
          "GAIN",
          "Random Forest",
          "Mean/Mode",
          "Mean/Mode",
          "KNN",
          "VAE",
          "Discriminative DL",
          "Random Forest",
          "GAIN",
          "VAE",
          "GAIN",
          "Random Forest",
          "KNN",
          "Mean/Mode",
          "Discriminative DL",
          "GAIN",
          "Mean/Mode",
          "KNN",
          "Random Forest",
          "Discriminative DL",
          "VAE",
          "Random Forest",
          "VAE",
          "KNN",
          "Mean/Mode",
          "Discriminative DL",
          "GAIN",
          "Mean/Mode",
          "Discriminative DL",
          "Random Forest",
          "GAIN",
          "KNN",
          "VAE",
          "Discriminative DL",
          "VAE",
          "GAIN",
          "Mean/Mode",
          "Random Forest",
          "KNN",
          "GAIN",
          "KNN",
          "Mean/Mode",
          "Random Forest",
          "VAE",
          "Discriminative DL",
          "Mean/Mode",
          "KNN",
          "Discriminative DL",
          "GAIN",
          "Random Forest",
          "VAE",
          "KNN",
          "Discriminative DL",
          "GAIN",
          "Random Forest",
          "VAE",
          "Mean/Mode",
          "Mean/Mode",
          "KNN",
          "Random Forest",
          "VAE",
          "GAIN",
          "Discriminative DL",
          "Random Forest",
          "VAE",
          "Mean/Mode",
          "KNN",
          "KNN",
          "Mean/Mode",
          "VAE",
          "Discriminative DL",
          "Discriminative DL",
          "Random Forest",
          "KNN",
          "Mean/Mode",
          "GAIN",
          "Mean/Mode",
          "GAIN",
          "Discriminative DL",
          "Random Forest",
          "Random Forest",
          "VAE",
          "VAE",
          "Discriminative DL",
          "KNN",
          "VAE",
          "Mean/Mode",
          "Discriminative DL",
          "Random Forest",
          "KNN",
          "VAE",
          "Mean/Mode",
          "KNN",
          "Discriminative DL",
          "Random Forest"
         ],
         "z": [
          0.0019468148800783,
          0.0019090548323963,
          0.0001627078523799,
          0.0020199313404122,
          0.0001426576290891,
          -0.0012775122183143,
          0,
          0,
          0,
          0,
          0,
          0,
          -0.0105617508483034,
          0.0179091075182407,
          -0.0030332534205248,
          -0.0038023215565268,
          -0.0054504239174545,
          -0.0141013654638219,
          0.0011667929712948,
          0.0025805109188115,
          0.0027551011735011,
          -0.0025440892016748,
          -0.0014920045579281,
          0.0105448371449623,
          0,
          0.0060452376181312,
          0.000779067128542,
          0.0050744997335602,
          0.0046226681337734,
          0.0046043244887888,
          -0.0006680500703642,
          0,
          0,
          0,
          0,
          0.0009533334237293,
          0.0023087700237099,
          0.0034854764071592,
          0.0054782723685012,
          0.0068477797099133,
          -0.0002275508405104,
          0.000526568371014,
          0.0012757574013604,
          0.0025594077924103,
          0.0016932854668172,
          0.0002875486833061,
          0.0001539585374468,
          5.718318630540953e-05,
          0.0090162723821333,
          0.0091823708506941,
          0.0097816801703645,
          0.006203205501248,
          0.0068533389126117,
          0.0130680834505631,
          0.0037355817725253,
          0.0050715403458221,
          0.0003177281473737,
          0.0023936608107824,
          0.0031259428876341,
          0.003599151567888,
          -0.0021579668135761,
          -0.0016143911955278,
          -0.0008015919905544,
          -0.0002667766819238,
          0.0006666406239603,
          -0.0044764995524426,
          -0.002452492513912,
          -0.0006399341796957,
          0.000795590367901,
          0.0007252521471096,
          0.0011794080166219,
          0.0010476300840757,
          0.0012575065794116,
          0.0009116268687757,
          0.0020663511765091,
          0.0025400485870461,
          0.0038047954486202,
          0.004789600483231,
          -0.0058793260196964,
          -0.0021472246750655,
          0.0010337685506012,
          -0.0007859809391156,
          -0.0007053593817772,
          0.002805018415097,
          0.0017168515941807,
          0.0010937328140969,
          0.0007432126195967,
          -0.001810033457187,
          0.000709553190488,
          -2.836590133432832e-05,
          -0.0003390910069373,
          -0.0006507846100637,
          -0.0002836612951182,
          0,
          0,
          0,
          0,
          0
         ],
         "zmid": 0
        }
       ],
       "layout": {
        "template": {
         "data": {
          "bar": [
           {
            "error_x": {
             "color": "#2a3f5f"
            },
            "error_y": {
             "color": "#2a3f5f"
            },
            "marker": {
             "line": {
              "color": "#E5ECF6",
              "width": 0.5
             },
             "pattern": {
              "fillmode": "overlay",
              "size": 10,
              "solidity": 0.2
             }
            },
            "type": "bar"
           }
          ],
          "barpolar": [
           {
            "marker": {
             "line": {
              "color": "#E5ECF6",
              "width": 0.5
             },
             "pattern": {
              "fillmode": "overlay",
              "size": 10,
              "solidity": 0.2
             }
            },
            "type": "barpolar"
           }
          ],
          "carpet": [
           {
            "aaxis": {
             "endlinecolor": "#2a3f5f",
             "gridcolor": "white",
             "linecolor": "white",
             "minorgridcolor": "white",
             "startlinecolor": "#2a3f5f"
            },
            "baxis": {
             "endlinecolor": "#2a3f5f",
             "gridcolor": "white",
             "linecolor": "white",
             "minorgridcolor": "white",
             "startlinecolor": "#2a3f5f"
            },
            "type": "carpet"
           }
          ],
          "choropleth": [
           {
            "colorbar": {
             "outlinewidth": 0,
             "ticks": ""
            },
            "type": "choropleth"
           }
          ],
          "contour": [
           {
            "colorbar": {
             "outlinewidth": 0,
             "ticks": ""
            },
            "colorscale": [
             [
              0,
              "#0d0887"
             ],
             [
              0.1111111111111111,
              "#46039f"
             ],
             [
              0.2222222222222222,
              "#7201a8"
             ],
             [
              0.3333333333333333,
              "#9c179e"
             ],
             [
              0.4444444444444444,
              "#bd3786"
             ],
             [
              0.5555555555555556,
              "#d8576b"
             ],
             [
              0.6666666666666666,
              "#ed7953"
             ],
             [
              0.7777777777777778,
              "#fb9f3a"
             ],
             [
              0.8888888888888888,
              "#fdca26"
             ],
             [
              1,
              "#f0f921"
             ]
            ],
            "type": "contour"
           }
          ],
          "contourcarpet": [
           {
            "colorbar": {
             "outlinewidth": 0,
             "ticks": ""
            },
            "type": "contourcarpet"
           }
          ],
          "heatmap": [
           {
            "colorbar": {
             "outlinewidth": 0,
             "ticks": ""
            },
            "colorscale": [
             [
              0,
              "#0d0887"
             ],
             [
              0.1111111111111111,
              "#46039f"
             ],
             [
              0.2222222222222222,
              "#7201a8"
             ],
             [
              0.3333333333333333,
              "#9c179e"
             ],
             [
              0.4444444444444444,
              "#bd3786"
             ],
             [
              0.5555555555555556,
              "#d8576b"
             ],
             [
              0.6666666666666666,
              "#ed7953"
             ],
             [
              0.7777777777777778,
              "#fb9f3a"
             ],
             [
              0.8888888888888888,
              "#fdca26"
             ],
             [
              1,
              "#f0f921"
             ]
            ],
            "type": "heatmap"
           }
          ],
          "heatmapgl": [
           {
            "colorbar": {
             "outlinewidth": 0,
             "ticks": ""
            },
            "colorscale": [
             [
              0,
              "#0d0887"
             ],
             [
              0.1111111111111111,
              "#46039f"
             ],
             [
              0.2222222222222222,
              "#7201a8"
             ],
             [
              0.3333333333333333,
              "#9c179e"
             ],
             [
              0.4444444444444444,
              "#bd3786"
             ],
             [
              0.5555555555555556,
              "#d8576b"
             ],
             [
              0.6666666666666666,
              "#ed7953"
             ],
             [
              0.7777777777777778,
              "#fb9f3a"
             ],
             [
              0.8888888888888888,
              "#fdca26"
             ],
             [
              1,
              "#f0f921"
             ]
            ],
            "type": "heatmapgl"
           }
          ],
          "histogram": [
           {
            "marker": {
             "pattern": {
              "fillmode": "overlay",
              "size": 10,
              "solidity": 0.2
             }
            },
            "type": "histogram"
           }
          ],
          "histogram2d": [
           {
            "colorbar": {
             "outlinewidth": 0,
             "ticks": ""
            },
            "colorscale": [
             [
              0,
              "#0d0887"
             ],
             [
              0.1111111111111111,
              "#46039f"
             ],
             [
              0.2222222222222222,
              "#7201a8"
             ],
             [
              0.3333333333333333,
              "#9c179e"
             ],
             [
              0.4444444444444444,
              "#bd3786"
             ],
             [
              0.5555555555555556,
              "#d8576b"
             ],
             [
              0.6666666666666666,
              "#ed7953"
             ],
             [
              0.7777777777777778,
              "#fb9f3a"
             ],
             [
              0.8888888888888888,
              "#fdca26"
             ],
             [
              1,
              "#f0f921"
             ]
            ],
            "type": "histogram2d"
           }
          ],
          "histogram2dcontour": [
           {
            "colorbar": {
             "outlinewidth": 0,
             "ticks": ""
            },
            "colorscale": [
             [
              0,
              "#0d0887"
             ],
             [
              0.1111111111111111,
              "#46039f"
             ],
             [
              0.2222222222222222,
              "#7201a8"
             ],
             [
              0.3333333333333333,
              "#9c179e"
             ],
             [
              0.4444444444444444,
              "#bd3786"
             ],
             [
              0.5555555555555556,
              "#d8576b"
             ],
             [
              0.6666666666666666,
              "#ed7953"
             ],
             [
              0.7777777777777778,
              "#fb9f3a"
             ],
             [
              0.8888888888888888,
              "#fdca26"
             ],
             [
              1,
              "#f0f921"
             ]
            ],
            "type": "histogram2dcontour"
           }
          ],
          "mesh3d": [
           {
            "colorbar": {
             "outlinewidth": 0,
             "ticks": ""
            },
            "type": "mesh3d"
           }
          ],
          "parcoords": [
           {
            "line": {
             "colorbar": {
              "outlinewidth": 0,
              "ticks": ""
             }
            },
            "type": "parcoords"
           }
          ],
          "pie": [
           {
            "automargin": true,
            "type": "pie"
           }
          ],
          "scatter": [
           {
            "fillpattern": {
             "fillmode": "overlay",
             "size": 10,
             "solidity": 0.2
            },
            "type": "scatter"
           }
          ],
          "scatter3d": [
           {
            "line": {
             "colorbar": {
              "outlinewidth": 0,
              "ticks": ""
             }
            },
            "marker": {
             "colorbar": {
              "outlinewidth": 0,
              "ticks": ""
             }
            },
            "type": "scatter3d"
           }
          ],
          "scattercarpet": [
           {
            "marker": {
             "colorbar": {
              "outlinewidth": 0,
              "ticks": ""
             }
            },
            "type": "scattercarpet"
           }
          ],
          "scattergeo": [
           {
            "marker": {
             "colorbar": {
              "outlinewidth": 0,
              "ticks": ""
             }
            },
            "type": "scattergeo"
           }
          ],
          "scattergl": [
           {
            "marker": {
             "colorbar": {
              "outlinewidth": 0,
              "ticks": ""
             }
            },
            "type": "scattergl"
           }
          ],
          "scattermapbox": [
           {
            "marker": {
             "colorbar": {
              "outlinewidth": 0,
              "ticks": ""
             }
            },
            "type": "scattermapbox"
           }
          ],
          "scatterpolar": [
           {
            "marker": {
             "colorbar": {
              "outlinewidth": 0,
              "ticks": ""
             }
            },
            "type": "scatterpolar"
           }
          ],
          "scatterpolargl": [
           {
            "marker": {
             "colorbar": {
              "outlinewidth": 0,
              "ticks": ""
             }
            },
            "type": "scatterpolargl"
           }
          ],
          "scatterternary": [
           {
            "marker": {
             "colorbar": {
              "outlinewidth": 0,
              "ticks": ""
             }
            },
            "type": "scatterternary"
           }
          ],
          "surface": [
           {
            "colorbar": {
             "outlinewidth": 0,
             "ticks": ""
            },
            "colorscale": [
             [
              0,
              "#0d0887"
             ],
             [
              0.1111111111111111,
              "#46039f"
             ],
             [
              0.2222222222222222,
              "#7201a8"
             ],
             [
              0.3333333333333333,
              "#9c179e"
             ],
             [
              0.4444444444444444,
              "#bd3786"
             ],
             [
              0.5555555555555556,
              "#d8576b"
             ],
             [
              0.6666666666666666,
              "#ed7953"
             ],
             [
              0.7777777777777778,
              "#fb9f3a"
             ],
             [
              0.8888888888888888,
              "#fdca26"
             ],
             [
              1,
              "#f0f921"
             ]
            ],
            "type": "surface"
           }
          ],
          "table": [
           {
            "cells": {
             "fill": {
              "color": "#EBF0F8"
             },
             "line": {
              "color": "white"
             }
            },
            "header": {
             "fill": {
              "color": "#C8D4E3"
             },
             "line": {
              "color": "white"
             }
            },
            "type": "table"
           }
          ]
         },
         "layout": {
          "annotationdefaults": {
           "arrowcolor": "#2a3f5f",
           "arrowhead": 0,
           "arrowwidth": 1
          },
          "autotypenumbers": "strict",
          "coloraxis": {
           "colorbar": {
            "outlinewidth": 0,
            "ticks": ""
           }
          },
          "colorscale": {
           "diverging": [
            [
             0,
             "#8e0152"
            ],
            [
             0.1,
             "#c51b7d"
            ],
            [
             0.2,
             "#de77ae"
            ],
            [
             0.3,
             "#f1b6da"
            ],
            [
             0.4,
             "#fde0ef"
            ],
            [
             0.5,
             "#f7f7f7"
            ],
            [
             0.6,
             "#e6f5d0"
            ],
            [
             0.7,
             "#b8e186"
            ],
            [
             0.8,
             "#7fbc41"
            ],
            [
             0.9,
             "#4d9221"
            ],
            [
             1,
             "#276419"
            ]
           ],
           "sequential": [
            [
             0,
             "#0d0887"
            ],
            [
             0.1111111111111111,
             "#46039f"
            ],
            [
             0.2222222222222222,
             "#7201a8"
            ],
            [
             0.3333333333333333,
             "#9c179e"
            ],
            [
             0.4444444444444444,
             "#bd3786"
            ],
            [
             0.5555555555555556,
             "#d8576b"
            ],
            [
             0.6666666666666666,
             "#ed7953"
            ],
            [
             0.7777777777777778,
             "#fb9f3a"
            ],
            [
             0.8888888888888888,
             "#fdca26"
            ],
            [
             1,
             "#f0f921"
            ]
           ],
           "sequentialminus": [
            [
             0,
             "#0d0887"
            ],
            [
             0.1111111111111111,
             "#46039f"
            ],
            [
             0.2222222222222222,
             "#7201a8"
            ],
            [
             0.3333333333333333,
             "#9c179e"
            ],
            [
             0.4444444444444444,
             "#bd3786"
            ],
            [
             0.5555555555555556,
             "#d8576b"
            ],
            [
             0.6666666666666666,
             "#ed7953"
            ],
            [
             0.7777777777777778,
             "#fb9f3a"
            ],
            [
             0.8888888888888888,
             "#fdca26"
            ],
            [
             1,
             "#f0f921"
            ]
           ]
          },
          "colorway": [
           "#636efa",
           "#EF553B",
           "#00cc96",
           "#ab63fa",
           "#FFA15A",
           "#19d3f3",
           "#FF6692",
           "#B6E880",
           "#FF97FF",
           "#FECB52"
          ],
          "font": {
           "color": "#2a3f5f"
          },
          "geo": {
           "bgcolor": "white",
           "lakecolor": "white",
           "landcolor": "#E5ECF6",
           "showlakes": true,
           "showland": true,
           "subunitcolor": "white"
          },
          "hoverlabel": {
           "align": "left"
          },
          "hovermode": "closest",
          "mapbox": {
           "style": "light"
          },
          "paper_bgcolor": "white",
          "plot_bgcolor": "#E5ECF6",
          "polar": {
           "angularaxis": {
            "gridcolor": "white",
            "linecolor": "white",
            "ticks": ""
           },
           "bgcolor": "#E5ECF6",
           "radialaxis": {
            "gridcolor": "white",
            "linecolor": "white",
            "ticks": ""
           }
          },
          "scene": {
           "xaxis": {
            "backgroundcolor": "#E5ECF6",
            "gridcolor": "white",
            "gridwidth": 2,
            "linecolor": "white",
            "showbackground": true,
            "ticks": "",
            "zerolinecolor": "white"
           },
           "yaxis": {
            "backgroundcolor": "#E5ECF6",
            "gridcolor": "white",
            "gridwidth": 2,
            "linecolor": "white",
            "showbackground": true,
            "ticks": "",
            "zerolinecolor": "white"
           },
           "zaxis": {
            "backgroundcolor": "#E5ECF6",
            "gridcolor": "white",
            "gridwidth": 2,
            "linecolor": "white",
            "showbackground": true,
            "ticks": "",
            "zerolinecolor": "white"
           }
          },
          "shapedefaults": {
           "line": {
            "color": "#2a3f5f"
           }
          },
          "ternary": {
           "aaxis": {
            "gridcolor": "white",
            "linecolor": "white",
            "ticks": ""
           },
           "baxis": {
            "gridcolor": "white",
            "linecolor": "white",
            "ticks": ""
           },
           "bgcolor": "#E5ECF6",
           "caxis": {
            "gridcolor": "white",
            "linecolor": "white",
            "ticks": ""
           }
          },
          "title": {
           "x": 0.05
          },
          "xaxis": {
           "automargin": true,
           "gridcolor": "white",
           "linecolor": "white",
           "ticks": "",
           "title": {
            "standoff": 15
           },
           "zerolinecolor": "white",
           "zerolinewidth": 2
          },
          "yaxis": {
           "automargin": true,
           "gridcolor": "white",
           "linecolor": "white",
           "ticks": "",
           "title": {
            "standoff": 15
           },
           "zerolinecolor": "white",
           "zerolinewidth": 2
          }
         }
        },
        "title": {
         "text": "MNAR - 0.01"
        },
        "xaxis": {
         "nticks": 36
        }
       }
      },
      "text/html": [
       "<div>                            <div id=\"8a04bebd-b8a5-4736-b79f-d6ab81cb5c90\" class=\"plotly-graph-div\" style=\"height:525px; width:100%;\"></div>            <script type=\"text/javascript\">                require([\"plotly\"], function(Plotly) {                    window.PLOTLYENV=window.PLOTLYENV || {};                                    if (document.getElementById(\"8a04bebd-b8a5-4736-b79f-d6ab81cb5c90\")) {                    Plotly.newPlot(                        \"8a04bebd-b8a5-4736-b79f-d6ab81cb5c90\",                        [{\"autocolorscale\":false,\"colorscale\":[[0.0,\"rgb(5,48,97)\"],[0.1,\"rgb(33,102,172)\"],[0.2,\"rgb(67,147,195)\"],[0.3,\"rgb(146,197,222)\"],[0.4,\"rgb(209,229,240)\"],[0.5,\"rgb(247,247,247)\"],[0.6,\"rgb(253,219,199)\"],[0.7,\"rgb(244,165,130)\"],[0.8,\"rgb(214,96,77)\"],[0.9,\"rgb(178,24,43)\"],[1.0,\"rgb(103,0,31)\"]],\"x\":[\"40677\",\"40677\",\"40677\",\"40677\",\"40677\",\"40677\",\"40497\",\"40497\",\"40497\",\"40497\",\"40497\",\"40497\",\"183\",\"183\",\"183\",\"183\",\"183\",\"183\",\"40498\",\"40498\",\"40498\",\"40498\",\"40498\",\"40498\",\"1526\",\"1526\",\"1526\",\"1526\",\"1526\",\"1526\",\"30\",\"30\",\"30\",\"30\",\"30\",\"30\",\"4552\",\"4552\",\"4552\",\"4552\",\"4552\",\"4552\",\"375\",\"375\",\"375\",\"375\",\"375\",\"375\",\"1459\",\"1459\",\"1459\",\"1459\",\"1459\",\"1459\",\"32\",\"32\",\"32\",\"32\",\"32\",\"32\",\"26\",\"26\",\"26\",\"26\",\"26\",\"26\",\"41671\",\"41671\",\"41671\",\"6\",\"41671\",\"6\",\"6\",\"41671\",\"6\",\"6\",\"1481\",\"1481\",\"184\",\"184\",\"1481\",\"184\",\"184\",\"1481\",\"184\",\"1481\",\"1481\",\"184\",\"41027\",\"41027\",\"41027\",\"41027\",\"41027\",\"40685\",\"40685\",\"40685\",\"40685\",\"40685\"],\"y\":[\"VAE\",\"KNN\",\"Discriminative DL\",\"GAIN\",\"Random Forest\",\"Mean/Mode\",\"Mean/Mode\",\"KNN\",\"VAE\",\"Discriminative DL\",\"Random Forest\",\"GAIN\",\"VAE\",\"GAIN\",\"Random Forest\",\"KNN\",\"Mean/Mode\",\"Discriminative DL\",\"GAIN\",\"Mean/Mode\",\"KNN\",\"Random Forest\",\"Discriminative DL\",\"VAE\",\"Random Forest\",\"VAE\",\"KNN\",\"Mean/Mode\",\"Discriminative DL\",\"GAIN\",\"Mean/Mode\",\"Discriminative DL\",\"Random Forest\",\"GAIN\",\"KNN\",\"VAE\",\"Discriminative DL\",\"VAE\",\"GAIN\",\"Mean/Mode\",\"Random Forest\",\"KNN\",\"GAIN\",\"KNN\",\"Mean/Mode\",\"Random Forest\",\"VAE\",\"Discriminative DL\",\"Mean/Mode\",\"KNN\",\"Discriminative DL\",\"GAIN\",\"Random Forest\",\"VAE\",\"KNN\",\"Discriminative DL\",\"GAIN\",\"Random Forest\",\"VAE\",\"Mean/Mode\",\"Mean/Mode\",\"KNN\",\"Random Forest\",\"VAE\",\"GAIN\",\"Discriminative DL\",\"Random Forest\",\"VAE\",\"Mean/Mode\",\"KNN\",\"KNN\",\"Mean/Mode\",\"VAE\",\"Discriminative DL\",\"Discriminative DL\",\"Random Forest\",\"KNN\",\"Mean/Mode\",\"GAIN\",\"Mean/Mode\",\"GAIN\",\"Discriminative DL\",\"Random Forest\",\"Random Forest\",\"VAE\",\"VAE\",\"Discriminative DL\",\"KNN\",\"VAE\",\"Mean/Mode\",\"Discriminative DL\",\"Random Forest\",\"KNN\",\"VAE\",\"Mean/Mode\",\"KNN\",\"Discriminative DL\",\"Random Forest\"],\"z\":[0.0019468148800783,0.0019090548323963,0.0001627078523799,0.0020199313404122,0.0001426576290891,-0.0012775122183143,0.0,0.0,0.0,0.0,0.0,0.0,-0.0105617508483034,0.0179091075182407,-0.0030332534205248,-0.0038023215565268,-0.0054504239174545,-0.0141013654638219,0.0011667929712948,0.0025805109188115,0.0027551011735011,-0.0025440892016748,-0.0014920045579281,0.0105448371449623,0.0,0.0060452376181312,0.000779067128542,0.0050744997335602,0.0046226681337734,0.0046043244887888,-0.0006680500703642,0.0,0.0,0.0,0.0,0.0009533334237293,0.0023087700237099,0.0034854764071592,0.0054782723685012,0.0068477797099133,-0.0002275508405104,0.000526568371014,0.0012757574013604,0.0025594077924103,0.0016932854668172,0.0002875486833061,0.0001539585374468,5.718318630540953e-05,0.0090162723821333,0.0091823708506941,0.0097816801703645,0.006203205501248,0.0068533389126117,0.0130680834505631,0.0037355817725253,0.0050715403458221,0.0003177281473737,0.0023936608107824,0.0031259428876341,0.003599151567888,-0.0021579668135761,-0.0016143911955278,-0.0008015919905544,-0.0002667766819238,0.0006666406239603,-0.0044764995524426,-0.002452492513912,-0.0006399341796957,0.000795590367901,0.0007252521471096,0.0011794080166219,0.0010476300840757,0.0012575065794116,0.0009116268687757,0.0020663511765091,0.0025400485870461,0.0038047954486202,0.004789600483231,-0.0058793260196964,-0.0021472246750655,0.0010337685506012,-0.0007859809391156,-0.0007053593817772,0.002805018415097,0.0017168515941807,0.0010937328140969,0.0007432126195967,-0.001810033457187,0.000709553190488,-2.836590133432832e-05,-0.0003390910069373,-0.0006507846100637,-0.0002836612951182,0.0,0.0,0.0,0.0,0.0],\"zmid\":0,\"type\":\"heatmap\"}],                        {\"template\":{\"data\":{\"histogram2dcontour\":[{\"type\":\"histogram2dcontour\",\"colorbar\":{\"outlinewidth\":0,\"ticks\":\"\"},\"colorscale\":[[0.0,\"#0d0887\"],[0.1111111111111111,\"#46039f\"],[0.2222222222222222,\"#7201a8\"],[0.3333333333333333,\"#9c179e\"],[0.4444444444444444,\"#bd3786\"],[0.5555555555555556,\"#d8576b\"],[0.6666666666666666,\"#ed7953\"],[0.7777777777777778,\"#fb9f3a\"],[0.8888888888888888,\"#fdca26\"],[1.0,\"#f0f921\"]]}],\"choropleth\":[{\"type\":\"choropleth\",\"colorbar\":{\"outlinewidth\":0,\"ticks\":\"\"}}],\"histogram2d\":[{\"type\":\"histogram2d\",\"colorbar\":{\"outlinewidth\":0,\"ticks\":\"\"},\"colorscale\":[[0.0,\"#0d0887\"],[0.1111111111111111,\"#46039f\"],[0.2222222222222222,\"#7201a8\"],[0.3333333333333333,\"#9c179e\"],[0.4444444444444444,\"#bd3786\"],[0.5555555555555556,\"#d8576b\"],[0.6666666666666666,\"#ed7953\"],[0.7777777777777778,\"#fb9f3a\"],[0.8888888888888888,\"#fdca26\"],[1.0,\"#f0f921\"]]}],\"heatmap\":[{\"type\":\"heatmap\",\"colorbar\":{\"outlinewidth\":0,\"ticks\":\"\"},\"colorscale\":[[0.0,\"#0d0887\"],[0.1111111111111111,\"#46039f\"],[0.2222222222222222,\"#7201a8\"],[0.3333333333333333,\"#9c179e\"],[0.4444444444444444,\"#bd3786\"],[0.5555555555555556,\"#d8576b\"],[0.6666666666666666,\"#ed7953\"],[0.7777777777777778,\"#fb9f3a\"],[0.8888888888888888,\"#fdca26\"],[1.0,\"#f0f921\"]]}],\"heatmapgl\":[{\"type\":\"heatmapgl\",\"colorbar\":{\"outlinewidth\":0,\"ticks\":\"\"},\"colorscale\":[[0.0,\"#0d0887\"],[0.1111111111111111,\"#46039f\"],[0.2222222222222222,\"#7201a8\"],[0.3333333333333333,\"#9c179e\"],[0.4444444444444444,\"#bd3786\"],[0.5555555555555556,\"#d8576b\"],[0.6666666666666666,\"#ed7953\"],[0.7777777777777778,\"#fb9f3a\"],[0.8888888888888888,\"#fdca26\"],[1.0,\"#f0f921\"]]}],\"contourcarpet\":[{\"type\":\"contourcarpet\",\"colorbar\":{\"outlinewidth\":0,\"ticks\":\"\"}}],\"contour\":[{\"type\":\"contour\",\"colorbar\":{\"outlinewidth\":0,\"ticks\":\"\"},\"colorscale\":[[0.0,\"#0d0887\"],[0.1111111111111111,\"#46039f\"],[0.2222222222222222,\"#7201a8\"],[0.3333333333333333,\"#9c179e\"],[0.4444444444444444,\"#bd3786\"],[0.5555555555555556,\"#d8576b\"],[0.6666666666666666,\"#ed7953\"],[0.7777777777777778,\"#fb9f3a\"],[0.8888888888888888,\"#fdca26\"],[1.0,\"#f0f921\"]]}],\"surface\":[{\"type\":\"surface\",\"colorbar\":{\"outlinewidth\":0,\"ticks\":\"\"},\"colorscale\":[[0.0,\"#0d0887\"],[0.1111111111111111,\"#46039f\"],[0.2222222222222222,\"#7201a8\"],[0.3333333333333333,\"#9c179e\"],[0.4444444444444444,\"#bd3786\"],[0.5555555555555556,\"#d8576b\"],[0.6666666666666666,\"#ed7953\"],[0.7777777777777778,\"#fb9f3a\"],[0.8888888888888888,\"#fdca26\"],[1.0,\"#f0f921\"]]}],\"mesh3d\":[{\"type\":\"mesh3d\",\"colorbar\":{\"outlinewidth\":0,\"ticks\":\"\"}}],\"scatter\":[{\"fillpattern\":{\"fillmode\":\"overlay\",\"size\":10,\"solidity\":0.2},\"type\":\"scatter\"}],\"parcoords\":[{\"type\":\"parcoords\",\"line\":{\"colorbar\":{\"outlinewidth\":0,\"ticks\":\"\"}}}],\"scatterpolargl\":[{\"type\":\"scatterpolargl\",\"marker\":{\"colorbar\":{\"outlinewidth\":0,\"ticks\":\"\"}}}],\"bar\":[{\"error_x\":{\"color\":\"#2a3f5f\"},\"error_y\":{\"color\":\"#2a3f5f\"},\"marker\":{\"line\":{\"color\":\"#E5ECF6\",\"width\":0.5},\"pattern\":{\"fillmode\":\"overlay\",\"size\":10,\"solidity\":0.2}},\"type\":\"bar\"}],\"scattergeo\":[{\"type\":\"scattergeo\",\"marker\":{\"colorbar\":{\"outlinewidth\":0,\"ticks\":\"\"}}}],\"scatterpolar\":[{\"type\":\"scatterpolar\",\"marker\":{\"colorbar\":{\"outlinewidth\":0,\"ticks\":\"\"}}}],\"histogram\":[{\"marker\":{\"pattern\":{\"fillmode\":\"overlay\",\"size\":10,\"solidity\":0.2}},\"type\":\"histogram\"}],\"scattergl\":[{\"type\":\"scattergl\",\"marker\":{\"colorbar\":{\"outlinewidth\":0,\"ticks\":\"\"}}}],\"scatter3d\":[{\"type\":\"scatter3d\",\"line\":{\"colorbar\":{\"outlinewidth\":0,\"ticks\":\"\"}},\"marker\":{\"colorbar\":{\"outlinewidth\":0,\"ticks\":\"\"}}}],\"scattermapbox\":[{\"type\":\"scattermapbox\",\"marker\":{\"colorbar\":{\"outlinewidth\":0,\"ticks\":\"\"}}}],\"scatterternary\":[{\"type\":\"scatterternary\",\"marker\":{\"colorbar\":{\"outlinewidth\":0,\"ticks\":\"\"}}}],\"scattercarpet\":[{\"type\":\"scattercarpet\",\"marker\":{\"colorbar\":{\"outlinewidth\":0,\"ticks\":\"\"}}}],\"carpet\":[{\"aaxis\":{\"endlinecolor\":\"#2a3f5f\",\"gridcolor\":\"white\",\"linecolor\":\"white\",\"minorgridcolor\":\"white\",\"startlinecolor\":\"#2a3f5f\"},\"baxis\":{\"endlinecolor\":\"#2a3f5f\",\"gridcolor\":\"white\",\"linecolor\":\"white\",\"minorgridcolor\":\"white\",\"startlinecolor\":\"#2a3f5f\"},\"type\":\"carpet\"}],\"table\":[{\"cells\":{\"fill\":{\"color\":\"#EBF0F8\"},\"line\":{\"color\":\"white\"}},\"header\":{\"fill\":{\"color\":\"#C8D4E3\"},\"line\":{\"color\":\"white\"}},\"type\":\"table\"}],\"barpolar\":[{\"marker\":{\"line\":{\"color\":\"#E5ECF6\",\"width\":0.5},\"pattern\":{\"fillmode\":\"overlay\",\"size\":10,\"solidity\":0.2}},\"type\":\"barpolar\"}],\"pie\":[{\"automargin\":true,\"type\":\"pie\"}]},\"layout\":{\"autotypenumbers\":\"strict\",\"colorway\":[\"#636efa\",\"#EF553B\",\"#00cc96\",\"#ab63fa\",\"#FFA15A\",\"#19d3f3\",\"#FF6692\",\"#B6E880\",\"#FF97FF\",\"#FECB52\"],\"font\":{\"color\":\"#2a3f5f\"},\"hovermode\":\"closest\",\"hoverlabel\":{\"align\":\"left\"},\"paper_bgcolor\":\"white\",\"plot_bgcolor\":\"#E5ECF6\",\"polar\":{\"bgcolor\":\"#E5ECF6\",\"angularaxis\":{\"gridcolor\":\"white\",\"linecolor\":\"white\",\"ticks\":\"\"},\"radialaxis\":{\"gridcolor\":\"white\",\"linecolor\":\"white\",\"ticks\":\"\"}},\"ternary\":{\"bgcolor\":\"#E5ECF6\",\"aaxis\":{\"gridcolor\":\"white\",\"linecolor\":\"white\",\"ticks\":\"\"},\"baxis\":{\"gridcolor\":\"white\",\"linecolor\":\"white\",\"ticks\":\"\"},\"caxis\":{\"gridcolor\":\"white\",\"linecolor\":\"white\",\"ticks\":\"\"}},\"coloraxis\":{\"colorbar\":{\"outlinewidth\":0,\"ticks\":\"\"}},\"colorscale\":{\"sequential\":[[0.0,\"#0d0887\"],[0.1111111111111111,\"#46039f\"],[0.2222222222222222,\"#7201a8\"],[0.3333333333333333,\"#9c179e\"],[0.4444444444444444,\"#bd3786\"],[0.5555555555555556,\"#d8576b\"],[0.6666666666666666,\"#ed7953\"],[0.7777777777777778,\"#fb9f3a\"],[0.8888888888888888,\"#fdca26\"],[1.0,\"#f0f921\"]],\"sequentialminus\":[[0.0,\"#0d0887\"],[0.1111111111111111,\"#46039f\"],[0.2222222222222222,\"#7201a8\"],[0.3333333333333333,\"#9c179e\"],[0.4444444444444444,\"#bd3786\"],[0.5555555555555556,\"#d8576b\"],[0.6666666666666666,\"#ed7953\"],[0.7777777777777778,\"#fb9f3a\"],[0.8888888888888888,\"#fdca26\"],[1.0,\"#f0f921\"]],\"diverging\":[[0,\"#8e0152\"],[0.1,\"#c51b7d\"],[0.2,\"#de77ae\"],[0.3,\"#f1b6da\"],[0.4,\"#fde0ef\"],[0.5,\"#f7f7f7\"],[0.6,\"#e6f5d0\"],[0.7,\"#b8e186\"],[0.8,\"#7fbc41\"],[0.9,\"#4d9221\"],[1,\"#276419\"]]},\"xaxis\":{\"gridcolor\":\"white\",\"linecolor\":\"white\",\"ticks\":\"\",\"title\":{\"standoff\":15},\"zerolinecolor\":\"white\",\"automargin\":true,\"zerolinewidth\":2},\"yaxis\":{\"gridcolor\":\"white\",\"linecolor\":\"white\",\"ticks\":\"\",\"title\":{\"standoff\":15},\"zerolinecolor\":\"white\",\"automargin\":true,\"zerolinewidth\":2},\"scene\":{\"xaxis\":{\"backgroundcolor\":\"#E5ECF6\",\"gridcolor\":\"white\",\"linecolor\":\"white\",\"showbackground\":true,\"ticks\":\"\",\"zerolinecolor\":\"white\",\"gridwidth\":2},\"yaxis\":{\"backgroundcolor\":\"#E5ECF6\",\"gridcolor\":\"white\",\"linecolor\":\"white\",\"showbackground\":true,\"ticks\":\"\",\"zerolinecolor\":\"white\",\"gridwidth\":2},\"zaxis\":{\"backgroundcolor\":\"#E5ECF6\",\"gridcolor\":\"white\",\"linecolor\":\"white\",\"showbackground\":true,\"ticks\":\"\",\"zerolinecolor\":\"white\",\"gridwidth\":2}},\"shapedefaults\":{\"line\":{\"color\":\"#2a3f5f\"}},\"annotationdefaults\":{\"arrowcolor\":\"#2a3f5f\",\"arrowhead\":0,\"arrowwidth\":1},\"geo\":{\"bgcolor\":\"white\",\"landcolor\":\"#E5ECF6\",\"subunitcolor\":\"white\",\"showland\":true,\"showlakes\":true,\"lakecolor\":\"white\"},\"title\":{\"x\":0.05},\"mapbox\":{\"style\":\"light\"}}},\"xaxis\":{\"nticks\":36},\"title\":{\"text\":\"MNAR - 0.01\"}},                        {\"responsive\": true}                    ).then(function(){\n",
       "                            \n",
       "var gd = document.getElementById('8a04bebd-b8a5-4736-b79f-d6ab81cb5c90');\n",
       "var x = new MutationObserver(function (mutations, observer) {{\n",
       "        var display = window.getComputedStyle(gd).display;\n",
       "        if (!display || display === 'none') {{\n",
       "            console.log([gd, 'removed!']);\n",
       "            Plotly.purge(gd);\n",
       "            observer.disconnect();\n",
       "        }}\n",
       "}});\n",
       "\n",
       "// Listen for the removal of the full notebook cells\n",
       "var notebookContainer = gd.closest('#notebook-container');\n",
       "if (notebookContainer) {{\n",
       "    x.observe(notebookContainer, {childList: true});\n",
       "}}\n",
       "\n",
       "// Listen for the clearing of the current output cell\n",
       "var outputEl = gd.closest('.output');\n",
       "if (outputEl) {{\n",
       "    x.observe(outputEl, {childList: true});\n",
       "}}\n",
       "\n",
       "                        })                };                });            </script>        </div>"
      ]
     },
     "metadata": {},
     "output_type": "display_data"
    },
    {
     "data": {
      "application/vnd.plotly.v1+json": {
       "config": {
        "plotlyServerURL": "https://plot.ly"
       },
       "data": [
        {
         "autocolorscale": false,
         "colorscale": [
          [
           0,
           "rgb(5,48,97)"
          ],
          [
           0.1,
           "rgb(33,102,172)"
          ],
          [
           0.2,
           "rgb(67,147,195)"
          ],
          [
           0.3,
           "rgb(146,197,222)"
          ],
          [
           0.4,
           "rgb(209,229,240)"
          ],
          [
           0.5,
           "rgb(247,247,247)"
          ],
          [
           0.6,
           "rgb(253,219,199)"
          ],
          [
           0.7,
           "rgb(244,165,130)"
          ],
          [
           0.8,
           "rgb(214,96,77)"
          ],
          [
           0.9,
           "rgb(178,24,43)"
          ],
          [
           1,
           "rgb(103,0,31)"
          ]
         ],
         "type": "heatmap",
         "x": [
          "40677",
          "40677",
          "40677",
          "40677",
          "40677",
          "40677",
          "40497",
          "40497",
          "40497",
          "40497",
          "40497",
          "40497",
          "183",
          "183",
          "183",
          "183",
          "183",
          "183",
          "40498",
          "40498",
          "40498",
          "40498",
          "40498",
          "40498",
          "1526",
          "1526",
          "1526",
          "1526",
          "1526",
          "1526",
          "30",
          "30",
          "30",
          "30",
          "30",
          "30",
          "4552",
          "4552",
          "4552",
          "4552",
          "4552",
          "4552",
          "375",
          "375",
          "375",
          "375",
          "375",
          "375",
          "1459",
          "1459",
          "1459",
          "1459",
          "1459",
          "1459",
          "32",
          "32",
          "32",
          "32",
          "32",
          "32",
          "26",
          "26",
          "26",
          "26",
          "26",
          "26",
          "41671",
          "41671",
          "41671",
          "6",
          "41671",
          "6",
          "41671",
          "6",
          "6",
          "6",
          "1481",
          "1481",
          "184",
          "184",
          "1481",
          "184",
          "184",
          "1481",
          "184",
          "1481",
          "1481",
          "184",
          "41027",
          "41027",
          "41027",
          "41027",
          "41027",
          "41027",
          "40685",
          "40685",
          "40685",
          "40685",
          "40685"
         ],
         "y": [
          "Discriminative DL",
          "Random Forest",
          "KNN",
          "Mean/Mode",
          "VAE",
          "GAIN",
          "Mean/Mode",
          "KNN",
          "VAE",
          "Discriminative DL",
          "Random Forest",
          "GAIN",
          "Mean/Mode",
          "VAE",
          "Random Forest",
          "GAIN",
          "KNN",
          "Discriminative DL",
          "Discriminative DL",
          "KNN",
          "Random Forest",
          "GAIN",
          "Mean/Mode",
          "VAE",
          "KNN",
          "Mean/Mode",
          "Random Forest",
          "VAE",
          "GAIN",
          "Discriminative DL",
          "GAIN",
          "Discriminative DL",
          "Random Forest",
          "VAE",
          "Mean/Mode",
          "KNN",
          "Mean/Mode",
          "Random Forest",
          "KNN",
          "Discriminative DL",
          "GAIN",
          "VAE",
          "Random Forest",
          "Discriminative DL",
          "VAE",
          "KNN",
          "Mean/Mode",
          "GAIN",
          "Mean/Mode",
          "KNN",
          "Random Forest",
          "GAIN",
          "VAE",
          "Discriminative DL",
          "Random Forest",
          "VAE",
          "GAIN",
          "Mean/Mode",
          "KNN",
          "Discriminative DL",
          "KNN",
          "Random Forest",
          "GAIN",
          "Discriminative DL",
          "VAE",
          "Mean/Mode",
          "VAE",
          "Mean/Mode",
          "Random Forest",
          "Random Forest",
          "Discriminative DL",
          "Discriminative DL",
          "KNN",
          "Mean/Mode",
          "KNN",
          "VAE",
          "Random Forest",
          "VAE",
          "Discriminative DL",
          "Random Forest",
          "Mean/Mode",
          "VAE",
          "GAIN",
          "KNN",
          "Mean/Mode",
          "Discriminative DL",
          "GAIN",
          "KNN",
          "Discriminative DL",
          "GAIN",
          "VAE",
          "KNN",
          "Random Forest",
          "Mean/Mode",
          "VAE",
          "Mean/Mode",
          "Discriminative DL",
          "Random Forest",
          "KNN"
         ],
         "z": [
          0.0008625675717506,
          0.0007792637121699,
          -0.0061687842476355,
          0.0125844673074999,
          -0.0154050916800602,
          -0.0200125743897392,
          0,
          0,
          0,
          -0.0036490775823643,
          0,
          0,
          -0.0159954564757779,
          0.0227132803573815,
          0.009399845708087,
          0.0042066481357364,
          -0.0116439977231196,
          -0.0212494477325122,
          0.0362534993382648,
          0.0430006197425857,
          0.0693195976799776,
          6.973120143814189e-06,
          0.0026098621808243,
          0.1028814341055846,
          -0.0013669940980043,
          0.0608650713229013,
          0.0044538575210625,
          0.0482144934011764,
          0.04607095378483,
          0.0390413288004563,
          -0.0020043785213997,
          0,
          0,
          0,
          0.0013307954502755,
          0.0040857148993119,
          0.0059497896322045,
          0.0093574309808207,
          0.0108953778745224,
          0.0114587309830859,
          0.001446068257026,
          0.0015129767712055,
          0.0093198452388265,
          0.0406884389776186,
          0.0168134047790173,
          0.0078810237737055,
          0.0056148139099467,
          -0.0276187746537872,
          0.0522515739591411,
          0.0717041269159158,
          0.0739802651365616,
          0.0412305932205251,
          0.0466292195455195,
          0.0877771741209693,
          0.0459898971504992,
          0.0657580588243084,
          0.0050974618345847,
          0.0241433617607374,
          0.0300362136338461,
          0.0364709907218336,
          -0.0169172472154693,
          -0.0145729501525828,
          -0.010525386819654,
          -0.0049026798084014,
          0.000941612067872,
          -0.0218973023125684,
          -0.0291414381373058,
          -0.0206939153774652,
          -0.0191498378004576,
          0.0092906909742107,
          -0.0164332949532051,
          0.0109283022270554,
          -0.0176461592363022,
          0.0134995401168143,
          0.0152038153550479,
          0.01857584705158,
          0.0391221911812549,
          0.0506132235022403,
          -0.0207990949048942,
          -0.0130003334912829,
          0.0363814438028633,
          -0.0057561867187727,
          0.0105248192542928,
          0.0367158377673657,
          0.0118798436781399,
          0.0089548082986721,
          0.0089220966608055,
          -0.0111785775241944,
          0.0062638407446829,
          0.0051755328121529,
          0.0014174758054562,
          -0.0015304840545204,
          -0.0030768750108616,
          0.0012353052033371,
          0,
          0,
          0,
          -8.816772616079721e-05,
          -7.455882183671899e-05
         ],
         "zmid": 0
        }
       ],
       "layout": {
        "template": {
         "data": {
          "bar": [
           {
            "error_x": {
             "color": "#2a3f5f"
            },
            "error_y": {
             "color": "#2a3f5f"
            },
            "marker": {
             "line": {
              "color": "#E5ECF6",
              "width": 0.5
             },
             "pattern": {
              "fillmode": "overlay",
              "size": 10,
              "solidity": 0.2
             }
            },
            "type": "bar"
           }
          ],
          "barpolar": [
           {
            "marker": {
             "line": {
              "color": "#E5ECF6",
              "width": 0.5
             },
             "pattern": {
              "fillmode": "overlay",
              "size": 10,
              "solidity": 0.2
             }
            },
            "type": "barpolar"
           }
          ],
          "carpet": [
           {
            "aaxis": {
             "endlinecolor": "#2a3f5f",
             "gridcolor": "white",
             "linecolor": "white",
             "minorgridcolor": "white",
             "startlinecolor": "#2a3f5f"
            },
            "baxis": {
             "endlinecolor": "#2a3f5f",
             "gridcolor": "white",
             "linecolor": "white",
             "minorgridcolor": "white",
             "startlinecolor": "#2a3f5f"
            },
            "type": "carpet"
           }
          ],
          "choropleth": [
           {
            "colorbar": {
             "outlinewidth": 0,
             "ticks": ""
            },
            "type": "choropleth"
           }
          ],
          "contour": [
           {
            "colorbar": {
             "outlinewidth": 0,
             "ticks": ""
            },
            "colorscale": [
             [
              0,
              "#0d0887"
             ],
             [
              0.1111111111111111,
              "#46039f"
             ],
             [
              0.2222222222222222,
              "#7201a8"
             ],
             [
              0.3333333333333333,
              "#9c179e"
             ],
             [
              0.4444444444444444,
              "#bd3786"
             ],
             [
              0.5555555555555556,
              "#d8576b"
             ],
             [
              0.6666666666666666,
              "#ed7953"
             ],
             [
              0.7777777777777778,
              "#fb9f3a"
             ],
             [
              0.8888888888888888,
              "#fdca26"
             ],
             [
              1,
              "#f0f921"
             ]
            ],
            "type": "contour"
           }
          ],
          "contourcarpet": [
           {
            "colorbar": {
             "outlinewidth": 0,
             "ticks": ""
            },
            "type": "contourcarpet"
           }
          ],
          "heatmap": [
           {
            "colorbar": {
             "outlinewidth": 0,
             "ticks": ""
            },
            "colorscale": [
             [
              0,
              "#0d0887"
             ],
             [
              0.1111111111111111,
              "#46039f"
             ],
             [
              0.2222222222222222,
              "#7201a8"
             ],
             [
              0.3333333333333333,
              "#9c179e"
             ],
             [
              0.4444444444444444,
              "#bd3786"
             ],
             [
              0.5555555555555556,
              "#d8576b"
             ],
             [
              0.6666666666666666,
              "#ed7953"
             ],
             [
              0.7777777777777778,
              "#fb9f3a"
             ],
             [
              0.8888888888888888,
              "#fdca26"
             ],
             [
              1,
              "#f0f921"
             ]
            ],
            "type": "heatmap"
           }
          ],
          "heatmapgl": [
           {
            "colorbar": {
             "outlinewidth": 0,
             "ticks": ""
            },
            "colorscale": [
             [
              0,
              "#0d0887"
             ],
             [
              0.1111111111111111,
              "#46039f"
             ],
             [
              0.2222222222222222,
              "#7201a8"
             ],
             [
              0.3333333333333333,
              "#9c179e"
             ],
             [
              0.4444444444444444,
              "#bd3786"
             ],
             [
              0.5555555555555556,
              "#d8576b"
             ],
             [
              0.6666666666666666,
              "#ed7953"
             ],
             [
              0.7777777777777778,
              "#fb9f3a"
             ],
             [
              0.8888888888888888,
              "#fdca26"
             ],
             [
              1,
              "#f0f921"
             ]
            ],
            "type": "heatmapgl"
           }
          ],
          "histogram": [
           {
            "marker": {
             "pattern": {
              "fillmode": "overlay",
              "size": 10,
              "solidity": 0.2
             }
            },
            "type": "histogram"
           }
          ],
          "histogram2d": [
           {
            "colorbar": {
             "outlinewidth": 0,
             "ticks": ""
            },
            "colorscale": [
             [
              0,
              "#0d0887"
             ],
             [
              0.1111111111111111,
              "#46039f"
             ],
             [
              0.2222222222222222,
              "#7201a8"
             ],
             [
              0.3333333333333333,
              "#9c179e"
             ],
             [
              0.4444444444444444,
              "#bd3786"
             ],
             [
              0.5555555555555556,
              "#d8576b"
             ],
             [
              0.6666666666666666,
              "#ed7953"
             ],
             [
              0.7777777777777778,
              "#fb9f3a"
             ],
             [
              0.8888888888888888,
              "#fdca26"
             ],
             [
              1,
              "#f0f921"
             ]
            ],
            "type": "histogram2d"
           }
          ],
          "histogram2dcontour": [
           {
            "colorbar": {
             "outlinewidth": 0,
             "ticks": ""
            },
            "colorscale": [
             [
              0,
              "#0d0887"
             ],
             [
              0.1111111111111111,
              "#46039f"
             ],
             [
              0.2222222222222222,
              "#7201a8"
             ],
             [
              0.3333333333333333,
              "#9c179e"
             ],
             [
              0.4444444444444444,
              "#bd3786"
             ],
             [
              0.5555555555555556,
              "#d8576b"
             ],
             [
              0.6666666666666666,
              "#ed7953"
             ],
             [
              0.7777777777777778,
              "#fb9f3a"
             ],
             [
              0.8888888888888888,
              "#fdca26"
             ],
             [
              1,
              "#f0f921"
             ]
            ],
            "type": "histogram2dcontour"
           }
          ],
          "mesh3d": [
           {
            "colorbar": {
             "outlinewidth": 0,
             "ticks": ""
            },
            "type": "mesh3d"
           }
          ],
          "parcoords": [
           {
            "line": {
             "colorbar": {
              "outlinewidth": 0,
              "ticks": ""
             }
            },
            "type": "parcoords"
           }
          ],
          "pie": [
           {
            "automargin": true,
            "type": "pie"
           }
          ],
          "scatter": [
           {
            "fillpattern": {
             "fillmode": "overlay",
             "size": 10,
             "solidity": 0.2
            },
            "type": "scatter"
           }
          ],
          "scatter3d": [
           {
            "line": {
             "colorbar": {
              "outlinewidth": 0,
              "ticks": ""
             }
            },
            "marker": {
             "colorbar": {
              "outlinewidth": 0,
              "ticks": ""
             }
            },
            "type": "scatter3d"
           }
          ],
          "scattercarpet": [
           {
            "marker": {
             "colorbar": {
              "outlinewidth": 0,
              "ticks": ""
             }
            },
            "type": "scattercarpet"
           }
          ],
          "scattergeo": [
           {
            "marker": {
             "colorbar": {
              "outlinewidth": 0,
              "ticks": ""
             }
            },
            "type": "scattergeo"
           }
          ],
          "scattergl": [
           {
            "marker": {
             "colorbar": {
              "outlinewidth": 0,
              "ticks": ""
             }
            },
            "type": "scattergl"
           }
          ],
          "scattermapbox": [
           {
            "marker": {
             "colorbar": {
              "outlinewidth": 0,
              "ticks": ""
             }
            },
            "type": "scattermapbox"
           }
          ],
          "scatterpolar": [
           {
            "marker": {
             "colorbar": {
              "outlinewidth": 0,
              "ticks": ""
             }
            },
            "type": "scatterpolar"
           }
          ],
          "scatterpolargl": [
           {
            "marker": {
             "colorbar": {
              "outlinewidth": 0,
              "ticks": ""
             }
            },
            "type": "scatterpolargl"
           }
          ],
          "scatterternary": [
           {
            "marker": {
             "colorbar": {
              "outlinewidth": 0,
              "ticks": ""
             }
            },
            "type": "scatterternary"
           }
          ],
          "surface": [
           {
            "colorbar": {
             "outlinewidth": 0,
             "ticks": ""
            },
            "colorscale": [
             [
              0,
              "#0d0887"
             ],
             [
              0.1111111111111111,
              "#46039f"
             ],
             [
              0.2222222222222222,
              "#7201a8"
             ],
             [
              0.3333333333333333,
              "#9c179e"
             ],
             [
              0.4444444444444444,
              "#bd3786"
             ],
             [
              0.5555555555555556,
              "#d8576b"
             ],
             [
              0.6666666666666666,
              "#ed7953"
             ],
             [
              0.7777777777777778,
              "#fb9f3a"
             ],
             [
              0.8888888888888888,
              "#fdca26"
             ],
             [
              1,
              "#f0f921"
             ]
            ],
            "type": "surface"
           }
          ],
          "table": [
           {
            "cells": {
             "fill": {
              "color": "#EBF0F8"
             },
             "line": {
              "color": "white"
             }
            },
            "header": {
             "fill": {
              "color": "#C8D4E3"
             },
             "line": {
              "color": "white"
             }
            },
            "type": "table"
           }
          ]
         },
         "layout": {
          "annotationdefaults": {
           "arrowcolor": "#2a3f5f",
           "arrowhead": 0,
           "arrowwidth": 1
          },
          "autotypenumbers": "strict",
          "coloraxis": {
           "colorbar": {
            "outlinewidth": 0,
            "ticks": ""
           }
          },
          "colorscale": {
           "diverging": [
            [
             0,
             "#8e0152"
            ],
            [
             0.1,
             "#c51b7d"
            ],
            [
             0.2,
             "#de77ae"
            ],
            [
             0.3,
             "#f1b6da"
            ],
            [
             0.4,
             "#fde0ef"
            ],
            [
             0.5,
             "#f7f7f7"
            ],
            [
             0.6,
             "#e6f5d0"
            ],
            [
             0.7,
             "#b8e186"
            ],
            [
             0.8,
             "#7fbc41"
            ],
            [
             0.9,
             "#4d9221"
            ],
            [
             1,
             "#276419"
            ]
           ],
           "sequential": [
            [
             0,
             "#0d0887"
            ],
            [
             0.1111111111111111,
             "#46039f"
            ],
            [
             0.2222222222222222,
             "#7201a8"
            ],
            [
             0.3333333333333333,
             "#9c179e"
            ],
            [
             0.4444444444444444,
             "#bd3786"
            ],
            [
             0.5555555555555556,
             "#d8576b"
            ],
            [
             0.6666666666666666,
             "#ed7953"
            ],
            [
             0.7777777777777778,
             "#fb9f3a"
            ],
            [
             0.8888888888888888,
             "#fdca26"
            ],
            [
             1,
             "#f0f921"
            ]
           ],
           "sequentialminus": [
            [
             0,
             "#0d0887"
            ],
            [
             0.1111111111111111,
             "#46039f"
            ],
            [
             0.2222222222222222,
             "#7201a8"
            ],
            [
             0.3333333333333333,
             "#9c179e"
            ],
            [
             0.4444444444444444,
             "#bd3786"
            ],
            [
             0.5555555555555556,
             "#d8576b"
            ],
            [
             0.6666666666666666,
             "#ed7953"
            ],
            [
             0.7777777777777778,
             "#fb9f3a"
            ],
            [
             0.8888888888888888,
             "#fdca26"
            ],
            [
             1,
             "#f0f921"
            ]
           ]
          },
          "colorway": [
           "#636efa",
           "#EF553B",
           "#00cc96",
           "#ab63fa",
           "#FFA15A",
           "#19d3f3",
           "#FF6692",
           "#B6E880",
           "#FF97FF",
           "#FECB52"
          ],
          "font": {
           "color": "#2a3f5f"
          },
          "geo": {
           "bgcolor": "white",
           "lakecolor": "white",
           "landcolor": "#E5ECF6",
           "showlakes": true,
           "showland": true,
           "subunitcolor": "white"
          },
          "hoverlabel": {
           "align": "left"
          },
          "hovermode": "closest",
          "mapbox": {
           "style": "light"
          },
          "paper_bgcolor": "white",
          "plot_bgcolor": "#E5ECF6",
          "polar": {
           "angularaxis": {
            "gridcolor": "white",
            "linecolor": "white",
            "ticks": ""
           },
           "bgcolor": "#E5ECF6",
           "radialaxis": {
            "gridcolor": "white",
            "linecolor": "white",
            "ticks": ""
           }
          },
          "scene": {
           "xaxis": {
            "backgroundcolor": "#E5ECF6",
            "gridcolor": "white",
            "gridwidth": 2,
            "linecolor": "white",
            "showbackground": true,
            "ticks": "",
            "zerolinecolor": "white"
           },
           "yaxis": {
            "backgroundcolor": "#E5ECF6",
            "gridcolor": "white",
            "gridwidth": 2,
            "linecolor": "white",
            "showbackground": true,
            "ticks": "",
            "zerolinecolor": "white"
           },
           "zaxis": {
            "backgroundcolor": "#E5ECF6",
            "gridcolor": "white",
            "gridwidth": 2,
            "linecolor": "white",
            "showbackground": true,
            "ticks": "",
            "zerolinecolor": "white"
           }
          },
          "shapedefaults": {
           "line": {
            "color": "#2a3f5f"
           }
          },
          "ternary": {
           "aaxis": {
            "gridcolor": "white",
            "linecolor": "white",
            "ticks": ""
           },
           "baxis": {
            "gridcolor": "white",
            "linecolor": "white",
            "ticks": ""
           },
           "bgcolor": "#E5ECF6",
           "caxis": {
            "gridcolor": "white",
            "linecolor": "white",
            "ticks": ""
           }
          },
          "title": {
           "x": 0.05
          },
          "xaxis": {
           "automargin": true,
           "gridcolor": "white",
           "linecolor": "white",
           "ticks": "",
           "title": {
            "standoff": 15
           },
           "zerolinecolor": "white",
           "zerolinewidth": 2
          },
          "yaxis": {
           "automargin": true,
           "gridcolor": "white",
           "linecolor": "white",
           "ticks": "",
           "title": {
            "standoff": 15
           },
           "zerolinecolor": "white",
           "zerolinewidth": 2
          }
         }
        },
        "title": {
         "text": "MNAR - 0.1"
        },
        "xaxis": {
         "nticks": 36
        }
       }
      },
      "text/html": [
       "<div>                            <div id=\"572eb4fa-be8a-473a-8644-05b304a48dd5\" class=\"plotly-graph-div\" style=\"height:525px; width:100%;\"></div>            <script type=\"text/javascript\">                require([\"plotly\"], function(Plotly) {                    window.PLOTLYENV=window.PLOTLYENV || {};                                    if (document.getElementById(\"572eb4fa-be8a-473a-8644-05b304a48dd5\")) {                    Plotly.newPlot(                        \"572eb4fa-be8a-473a-8644-05b304a48dd5\",                        [{\"autocolorscale\":false,\"colorscale\":[[0.0,\"rgb(5,48,97)\"],[0.1,\"rgb(33,102,172)\"],[0.2,\"rgb(67,147,195)\"],[0.3,\"rgb(146,197,222)\"],[0.4,\"rgb(209,229,240)\"],[0.5,\"rgb(247,247,247)\"],[0.6,\"rgb(253,219,199)\"],[0.7,\"rgb(244,165,130)\"],[0.8,\"rgb(214,96,77)\"],[0.9,\"rgb(178,24,43)\"],[1.0,\"rgb(103,0,31)\"]],\"x\":[\"40677\",\"40677\",\"40677\",\"40677\",\"40677\",\"40677\",\"40497\",\"40497\",\"40497\",\"40497\",\"40497\",\"40497\",\"183\",\"183\",\"183\",\"183\",\"183\",\"183\",\"40498\",\"40498\",\"40498\",\"40498\",\"40498\",\"40498\",\"1526\",\"1526\",\"1526\",\"1526\",\"1526\",\"1526\",\"30\",\"30\",\"30\",\"30\",\"30\",\"30\",\"4552\",\"4552\",\"4552\",\"4552\",\"4552\",\"4552\",\"375\",\"375\",\"375\",\"375\",\"375\",\"375\",\"1459\",\"1459\",\"1459\",\"1459\",\"1459\",\"1459\",\"32\",\"32\",\"32\",\"32\",\"32\",\"32\",\"26\",\"26\",\"26\",\"26\",\"26\",\"26\",\"41671\",\"41671\",\"41671\",\"6\",\"41671\",\"6\",\"41671\",\"6\",\"6\",\"6\",\"1481\",\"1481\",\"184\",\"184\",\"1481\",\"184\",\"184\",\"1481\",\"184\",\"1481\",\"1481\",\"184\",\"41027\",\"41027\",\"41027\",\"41027\",\"41027\",\"41027\",\"40685\",\"40685\",\"40685\",\"40685\",\"40685\"],\"y\":[\"Discriminative DL\",\"Random Forest\",\"KNN\",\"Mean/Mode\",\"VAE\",\"GAIN\",\"Mean/Mode\",\"KNN\",\"VAE\",\"Discriminative DL\",\"Random Forest\",\"GAIN\",\"Mean/Mode\",\"VAE\",\"Random Forest\",\"GAIN\",\"KNN\",\"Discriminative DL\",\"Discriminative DL\",\"KNN\",\"Random Forest\",\"GAIN\",\"Mean/Mode\",\"VAE\",\"KNN\",\"Mean/Mode\",\"Random Forest\",\"VAE\",\"GAIN\",\"Discriminative DL\",\"GAIN\",\"Discriminative DL\",\"Random Forest\",\"VAE\",\"Mean/Mode\",\"KNN\",\"Mean/Mode\",\"Random Forest\",\"KNN\",\"Discriminative DL\",\"GAIN\",\"VAE\",\"Random Forest\",\"Discriminative DL\",\"VAE\",\"KNN\",\"Mean/Mode\",\"GAIN\",\"Mean/Mode\",\"KNN\",\"Random Forest\",\"GAIN\",\"VAE\",\"Discriminative DL\",\"Random Forest\",\"VAE\",\"GAIN\",\"Mean/Mode\",\"KNN\",\"Discriminative DL\",\"KNN\",\"Random Forest\",\"GAIN\",\"Discriminative DL\",\"VAE\",\"Mean/Mode\",\"VAE\",\"Mean/Mode\",\"Random Forest\",\"Random Forest\",\"Discriminative DL\",\"Discriminative DL\",\"KNN\",\"Mean/Mode\",\"KNN\",\"VAE\",\"Random Forest\",\"VAE\",\"Discriminative DL\",\"Random Forest\",\"Mean/Mode\",\"VAE\",\"GAIN\",\"KNN\",\"Mean/Mode\",\"Discriminative DL\",\"GAIN\",\"KNN\",\"Discriminative DL\",\"GAIN\",\"VAE\",\"KNN\",\"Random Forest\",\"Mean/Mode\",\"VAE\",\"Mean/Mode\",\"Discriminative DL\",\"Random Forest\",\"KNN\"],\"z\":[0.0008625675717506,0.0007792637121699,-0.0061687842476355,0.0125844673074999,-0.0154050916800602,-0.0200125743897392,0.0,0.0,0.0,-0.0036490775823643,0.0,0.0,-0.0159954564757779,0.0227132803573815,0.009399845708087,0.0042066481357364,-0.0116439977231196,-0.0212494477325122,0.0362534993382648,0.0430006197425857,0.0693195976799776,6.973120143814189e-06,0.0026098621808243,0.1028814341055846,-0.0013669940980043,0.0608650713229013,0.0044538575210625,0.0482144934011764,0.04607095378483,0.0390413288004563,-0.0020043785213997,0.0,0.0,0.0,0.0013307954502755,0.0040857148993119,0.0059497896322045,0.0093574309808207,0.0108953778745224,0.0114587309830859,0.001446068257026,0.0015129767712055,0.0093198452388265,0.0406884389776186,0.0168134047790173,0.0078810237737055,0.0056148139099467,-0.0276187746537872,0.0522515739591411,0.0717041269159158,0.0739802651365616,0.0412305932205251,0.0466292195455195,0.0877771741209693,0.0459898971504992,0.0657580588243084,0.0050974618345847,0.0241433617607374,0.0300362136338461,0.0364709907218336,-0.0169172472154693,-0.0145729501525828,-0.010525386819654,-0.0049026798084014,0.000941612067872,-0.0218973023125684,-0.0291414381373058,-0.0206939153774652,-0.0191498378004576,0.0092906909742107,-0.0164332949532051,0.0109283022270554,-0.0176461592363022,0.0134995401168143,0.0152038153550479,0.01857584705158,0.0391221911812549,0.0506132235022403,-0.0207990949048942,-0.0130003334912829,0.0363814438028633,-0.0057561867187727,0.0105248192542928,0.0367158377673657,0.0118798436781399,0.0089548082986721,0.0089220966608055,-0.0111785775241944,0.0062638407446829,0.0051755328121529,0.0014174758054562,-0.0015304840545204,-0.0030768750108616,0.0012353052033371,0.0,0.0,0.0,-8.816772616079721e-05,-7.455882183671899e-05],\"zmid\":0,\"type\":\"heatmap\"}],                        {\"template\":{\"data\":{\"histogram2dcontour\":[{\"type\":\"histogram2dcontour\",\"colorbar\":{\"outlinewidth\":0,\"ticks\":\"\"},\"colorscale\":[[0.0,\"#0d0887\"],[0.1111111111111111,\"#46039f\"],[0.2222222222222222,\"#7201a8\"],[0.3333333333333333,\"#9c179e\"],[0.4444444444444444,\"#bd3786\"],[0.5555555555555556,\"#d8576b\"],[0.6666666666666666,\"#ed7953\"],[0.7777777777777778,\"#fb9f3a\"],[0.8888888888888888,\"#fdca26\"],[1.0,\"#f0f921\"]]}],\"choropleth\":[{\"type\":\"choropleth\",\"colorbar\":{\"outlinewidth\":0,\"ticks\":\"\"}}],\"histogram2d\":[{\"type\":\"histogram2d\",\"colorbar\":{\"outlinewidth\":0,\"ticks\":\"\"},\"colorscale\":[[0.0,\"#0d0887\"],[0.1111111111111111,\"#46039f\"],[0.2222222222222222,\"#7201a8\"],[0.3333333333333333,\"#9c179e\"],[0.4444444444444444,\"#bd3786\"],[0.5555555555555556,\"#d8576b\"],[0.6666666666666666,\"#ed7953\"],[0.7777777777777778,\"#fb9f3a\"],[0.8888888888888888,\"#fdca26\"],[1.0,\"#f0f921\"]]}],\"heatmap\":[{\"type\":\"heatmap\",\"colorbar\":{\"outlinewidth\":0,\"ticks\":\"\"},\"colorscale\":[[0.0,\"#0d0887\"],[0.1111111111111111,\"#46039f\"],[0.2222222222222222,\"#7201a8\"],[0.3333333333333333,\"#9c179e\"],[0.4444444444444444,\"#bd3786\"],[0.5555555555555556,\"#d8576b\"],[0.6666666666666666,\"#ed7953\"],[0.7777777777777778,\"#fb9f3a\"],[0.8888888888888888,\"#fdca26\"],[1.0,\"#f0f921\"]]}],\"heatmapgl\":[{\"type\":\"heatmapgl\",\"colorbar\":{\"outlinewidth\":0,\"ticks\":\"\"},\"colorscale\":[[0.0,\"#0d0887\"],[0.1111111111111111,\"#46039f\"],[0.2222222222222222,\"#7201a8\"],[0.3333333333333333,\"#9c179e\"],[0.4444444444444444,\"#bd3786\"],[0.5555555555555556,\"#d8576b\"],[0.6666666666666666,\"#ed7953\"],[0.7777777777777778,\"#fb9f3a\"],[0.8888888888888888,\"#fdca26\"],[1.0,\"#f0f921\"]]}],\"contourcarpet\":[{\"type\":\"contourcarpet\",\"colorbar\":{\"outlinewidth\":0,\"ticks\":\"\"}}],\"contour\":[{\"type\":\"contour\",\"colorbar\":{\"outlinewidth\":0,\"ticks\":\"\"},\"colorscale\":[[0.0,\"#0d0887\"],[0.1111111111111111,\"#46039f\"],[0.2222222222222222,\"#7201a8\"],[0.3333333333333333,\"#9c179e\"],[0.4444444444444444,\"#bd3786\"],[0.5555555555555556,\"#d8576b\"],[0.6666666666666666,\"#ed7953\"],[0.7777777777777778,\"#fb9f3a\"],[0.8888888888888888,\"#fdca26\"],[1.0,\"#f0f921\"]]}],\"surface\":[{\"type\":\"surface\",\"colorbar\":{\"outlinewidth\":0,\"ticks\":\"\"},\"colorscale\":[[0.0,\"#0d0887\"],[0.1111111111111111,\"#46039f\"],[0.2222222222222222,\"#7201a8\"],[0.3333333333333333,\"#9c179e\"],[0.4444444444444444,\"#bd3786\"],[0.5555555555555556,\"#d8576b\"],[0.6666666666666666,\"#ed7953\"],[0.7777777777777778,\"#fb9f3a\"],[0.8888888888888888,\"#fdca26\"],[1.0,\"#f0f921\"]]}],\"mesh3d\":[{\"type\":\"mesh3d\",\"colorbar\":{\"outlinewidth\":0,\"ticks\":\"\"}}],\"scatter\":[{\"fillpattern\":{\"fillmode\":\"overlay\",\"size\":10,\"solidity\":0.2},\"type\":\"scatter\"}],\"parcoords\":[{\"type\":\"parcoords\",\"line\":{\"colorbar\":{\"outlinewidth\":0,\"ticks\":\"\"}}}],\"scatterpolargl\":[{\"type\":\"scatterpolargl\",\"marker\":{\"colorbar\":{\"outlinewidth\":0,\"ticks\":\"\"}}}],\"bar\":[{\"error_x\":{\"color\":\"#2a3f5f\"},\"error_y\":{\"color\":\"#2a3f5f\"},\"marker\":{\"line\":{\"color\":\"#E5ECF6\",\"width\":0.5},\"pattern\":{\"fillmode\":\"overlay\",\"size\":10,\"solidity\":0.2}},\"type\":\"bar\"}],\"scattergeo\":[{\"type\":\"scattergeo\",\"marker\":{\"colorbar\":{\"outlinewidth\":0,\"ticks\":\"\"}}}],\"scatterpolar\":[{\"type\":\"scatterpolar\",\"marker\":{\"colorbar\":{\"outlinewidth\":0,\"ticks\":\"\"}}}],\"histogram\":[{\"marker\":{\"pattern\":{\"fillmode\":\"overlay\",\"size\":10,\"solidity\":0.2}},\"type\":\"histogram\"}],\"scattergl\":[{\"type\":\"scattergl\",\"marker\":{\"colorbar\":{\"outlinewidth\":0,\"ticks\":\"\"}}}],\"scatter3d\":[{\"type\":\"scatter3d\",\"line\":{\"colorbar\":{\"outlinewidth\":0,\"ticks\":\"\"}},\"marker\":{\"colorbar\":{\"outlinewidth\":0,\"ticks\":\"\"}}}],\"scattermapbox\":[{\"type\":\"scattermapbox\",\"marker\":{\"colorbar\":{\"outlinewidth\":0,\"ticks\":\"\"}}}],\"scatterternary\":[{\"type\":\"scatterternary\",\"marker\":{\"colorbar\":{\"outlinewidth\":0,\"ticks\":\"\"}}}],\"scattercarpet\":[{\"type\":\"scattercarpet\",\"marker\":{\"colorbar\":{\"outlinewidth\":0,\"ticks\":\"\"}}}],\"carpet\":[{\"aaxis\":{\"endlinecolor\":\"#2a3f5f\",\"gridcolor\":\"white\",\"linecolor\":\"white\",\"minorgridcolor\":\"white\",\"startlinecolor\":\"#2a3f5f\"},\"baxis\":{\"endlinecolor\":\"#2a3f5f\",\"gridcolor\":\"white\",\"linecolor\":\"white\",\"minorgridcolor\":\"white\",\"startlinecolor\":\"#2a3f5f\"},\"type\":\"carpet\"}],\"table\":[{\"cells\":{\"fill\":{\"color\":\"#EBF0F8\"},\"line\":{\"color\":\"white\"}},\"header\":{\"fill\":{\"color\":\"#C8D4E3\"},\"line\":{\"color\":\"white\"}},\"type\":\"table\"}],\"barpolar\":[{\"marker\":{\"line\":{\"color\":\"#E5ECF6\",\"width\":0.5},\"pattern\":{\"fillmode\":\"overlay\",\"size\":10,\"solidity\":0.2}},\"type\":\"barpolar\"}],\"pie\":[{\"automargin\":true,\"type\":\"pie\"}]},\"layout\":{\"autotypenumbers\":\"strict\",\"colorway\":[\"#636efa\",\"#EF553B\",\"#00cc96\",\"#ab63fa\",\"#FFA15A\",\"#19d3f3\",\"#FF6692\",\"#B6E880\",\"#FF97FF\",\"#FECB52\"],\"font\":{\"color\":\"#2a3f5f\"},\"hovermode\":\"closest\",\"hoverlabel\":{\"align\":\"left\"},\"paper_bgcolor\":\"white\",\"plot_bgcolor\":\"#E5ECF6\",\"polar\":{\"bgcolor\":\"#E5ECF6\",\"angularaxis\":{\"gridcolor\":\"white\",\"linecolor\":\"white\",\"ticks\":\"\"},\"radialaxis\":{\"gridcolor\":\"white\",\"linecolor\":\"white\",\"ticks\":\"\"}},\"ternary\":{\"bgcolor\":\"#E5ECF6\",\"aaxis\":{\"gridcolor\":\"white\",\"linecolor\":\"white\",\"ticks\":\"\"},\"baxis\":{\"gridcolor\":\"white\",\"linecolor\":\"white\",\"ticks\":\"\"},\"caxis\":{\"gridcolor\":\"white\",\"linecolor\":\"white\",\"ticks\":\"\"}},\"coloraxis\":{\"colorbar\":{\"outlinewidth\":0,\"ticks\":\"\"}},\"colorscale\":{\"sequential\":[[0.0,\"#0d0887\"],[0.1111111111111111,\"#46039f\"],[0.2222222222222222,\"#7201a8\"],[0.3333333333333333,\"#9c179e\"],[0.4444444444444444,\"#bd3786\"],[0.5555555555555556,\"#d8576b\"],[0.6666666666666666,\"#ed7953\"],[0.7777777777777778,\"#fb9f3a\"],[0.8888888888888888,\"#fdca26\"],[1.0,\"#f0f921\"]],\"sequentialminus\":[[0.0,\"#0d0887\"],[0.1111111111111111,\"#46039f\"],[0.2222222222222222,\"#7201a8\"],[0.3333333333333333,\"#9c179e\"],[0.4444444444444444,\"#bd3786\"],[0.5555555555555556,\"#d8576b\"],[0.6666666666666666,\"#ed7953\"],[0.7777777777777778,\"#fb9f3a\"],[0.8888888888888888,\"#fdca26\"],[1.0,\"#f0f921\"]],\"diverging\":[[0,\"#8e0152\"],[0.1,\"#c51b7d\"],[0.2,\"#de77ae\"],[0.3,\"#f1b6da\"],[0.4,\"#fde0ef\"],[0.5,\"#f7f7f7\"],[0.6,\"#e6f5d0\"],[0.7,\"#b8e186\"],[0.8,\"#7fbc41\"],[0.9,\"#4d9221\"],[1,\"#276419\"]]},\"xaxis\":{\"gridcolor\":\"white\",\"linecolor\":\"white\",\"ticks\":\"\",\"title\":{\"standoff\":15},\"zerolinecolor\":\"white\",\"automargin\":true,\"zerolinewidth\":2},\"yaxis\":{\"gridcolor\":\"white\",\"linecolor\":\"white\",\"ticks\":\"\",\"title\":{\"standoff\":15},\"zerolinecolor\":\"white\",\"automargin\":true,\"zerolinewidth\":2},\"scene\":{\"xaxis\":{\"backgroundcolor\":\"#E5ECF6\",\"gridcolor\":\"white\",\"linecolor\":\"white\",\"showbackground\":true,\"ticks\":\"\",\"zerolinecolor\":\"white\",\"gridwidth\":2},\"yaxis\":{\"backgroundcolor\":\"#E5ECF6\",\"gridcolor\":\"white\",\"linecolor\":\"white\",\"showbackground\":true,\"ticks\":\"\",\"zerolinecolor\":\"white\",\"gridwidth\":2},\"zaxis\":{\"backgroundcolor\":\"#E5ECF6\",\"gridcolor\":\"white\",\"linecolor\":\"white\",\"showbackground\":true,\"ticks\":\"\",\"zerolinecolor\":\"white\",\"gridwidth\":2}},\"shapedefaults\":{\"line\":{\"color\":\"#2a3f5f\"}},\"annotationdefaults\":{\"arrowcolor\":\"#2a3f5f\",\"arrowhead\":0,\"arrowwidth\":1},\"geo\":{\"bgcolor\":\"white\",\"landcolor\":\"#E5ECF6\",\"subunitcolor\":\"white\",\"showland\":true,\"showlakes\":true,\"lakecolor\":\"white\"},\"title\":{\"x\":0.05},\"mapbox\":{\"style\":\"light\"}}},\"xaxis\":{\"nticks\":36},\"title\":{\"text\":\"MNAR - 0.1\"}},                        {\"responsive\": true}                    ).then(function(){\n",
       "                            \n",
       "var gd = document.getElementById('572eb4fa-be8a-473a-8644-05b304a48dd5');\n",
       "var x = new MutationObserver(function (mutations, observer) {{\n",
       "        var display = window.getComputedStyle(gd).display;\n",
       "        if (!display || display === 'none') {{\n",
       "            console.log([gd, 'removed!']);\n",
       "            Plotly.purge(gd);\n",
       "            observer.disconnect();\n",
       "        }}\n",
       "}});\n",
       "\n",
       "// Listen for the removal of the full notebook cells\n",
       "var notebookContainer = gd.closest('#notebook-container');\n",
       "if (notebookContainer) {{\n",
       "    x.observe(notebookContainer, {childList: true});\n",
       "}}\n",
       "\n",
       "// Listen for the clearing of the current output cell\n",
       "var outputEl = gd.closest('.output');\n",
       "if (outputEl) {{\n",
       "    x.observe(outputEl, {childList: true});\n",
       "}}\n",
       "\n",
       "                        })                };                });            </script>        </div>"
      ]
     },
     "metadata": {},
     "output_type": "display_data"
    },
    {
     "data": {
      "application/vnd.plotly.v1+json": {
       "config": {
        "plotlyServerURL": "https://plot.ly"
       },
       "data": [
        {
         "autocolorscale": false,
         "colorscale": [
          [
           0,
           "rgb(5,48,97)"
          ],
          [
           0.1,
           "rgb(33,102,172)"
          ],
          [
           0.2,
           "rgb(67,147,195)"
          ],
          [
           0.3,
           "rgb(146,197,222)"
          ],
          [
           0.4,
           "rgb(209,229,240)"
          ],
          [
           0.5,
           "rgb(247,247,247)"
          ],
          [
           0.6,
           "rgb(253,219,199)"
          ],
          [
           0.7,
           "rgb(244,165,130)"
          ],
          [
           0.8,
           "rgb(214,96,77)"
          ],
          [
           0.9,
           "rgb(178,24,43)"
          ],
          [
           1,
           "rgb(103,0,31)"
          ]
         ],
         "type": "heatmap",
         "x": [
          "40677",
          "40677",
          "40677",
          "40677",
          "40677",
          "40677",
          "40497",
          "40497",
          "40497",
          "40497",
          "40497",
          "40497",
          "183",
          "183",
          "183",
          "183",
          "183",
          "183",
          "40498",
          "40498",
          "40498",
          "40498",
          "40498",
          "40498",
          "1526",
          "1526",
          "1526",
          "1526",
          "1526",
          "1526",
          "30",
          "30",
          "30",
          "30",
          "30",
          "30",
          "4552",
          "4552",
          "4552",
          "4552",
          "4552",
          "4552",
          "375",
          "375",
          "375",
          "375",
          "375",
          "375",
          "1459",
          "1459",
          "1459",
          "1459",
          "1459",
          "1459",
          "32",
          "32",
          "32",
          "32",
          "32",
          "32",
          "26",
          "26",
          "26",
          "26",
          "26",
          "26",
          "41671",
          "41671",
          "41671",
          "6",
          "41671",
          "6",
          "6",
          "41671",
          "6",
          "6",
          "1481",
          "1481",
          "184",
          "184",
          "1481",
          "184",
          "184",
          "1481",
          "184",
          "1481",
          "1481",
          "184",
          "41027",
          "41027",
          "41027",
          "41027",
          "41027",
          "40685",
          "40685",
          "40685",
          "40685",
          "40685"
         ],
         "y": [
          "Random Forest",
          "Discriminative DL",
          "KNN",
          "Mean/Mode",
          "GAIN",
          "VAE",
          "KNN",
          "VAE",
          "Random Forest",
          "Discriminative DL",
          "GAIN",
          "Mean/Mode",
          "GAIN",
          "KNN",
          "Mean/Mode",
          "Random Forest",
          "VAE",
          "Discriminative DL",
          "VAE",
          "KNN",
          "Random Forest",
          "Mean/Mode",
          "GAIN",
          "Discriminative DL",
          "Random Forest",
          "Discriminative DL",
          "KNN",
          "Mean/Mode",
          "VAE",
          "GAIN",
          "GAIN",
          "Discriminative DL",
          "KNN",
          "VAE",
          "Mean/Mode",
          "Random Forest",
          "GAIN",
          "Discriminative DL",
          "Mean/Mode",
          "VAE",
          "Random Forest",
          "KNN",
          "KNN",
          "Random Forest",
          "Discriminative DL",
          "VAE",
          "Mean/Mode",
          "GAIN",
          "Random Forest",
          "GAIN",
          "VAE",
          "Mean/Mode",
          "KNN",
          "Discriminative DL",
          "KNN",
          "Discriminative DL",
          "GAIN",
          "Random Forest",
          "VAE",
          "Mean/Mode",
          "KNN",
          "Random Forest",
          "Discriminative DL",
          "GAIN",
          "VAE",
          "Mean/Mode",
          "Random Forest",
          "VAE",
          "KNN",
          "Random Forest",
          "Discriminative DL",
          "VAE",
          "Discriminative DL",
          "Mean/Mode",
          "Mean/Mode",
          "KNN",
          "Discriminative DL",
          "Mean/Mode",
          "Discriminative DL",
          "Mean/Mode",
          "Random Forest",
          "KNN",
          "Random Forest",
          "GAIN",
          "VAE",
          "KNN",
          "VAE",
          "GAIN",
          "VAE",
          "Random Forest",
          "Mean/Mode",
          "KNN",
          "Discriminative DL",
          "VAE",
          "Mean/Mode",
          "Discriminative DL",
          "Random Forest",
          "KNN"
         ],
         "z": [
          0.0125387410945961,
          0.0048344505528701,
          0.0018462303423701,
          0.0247526763180306,
          -0.0128892425527261,
          -0.0356181484153012,
          0,
          -0.0110597016575388,
          0.0037898748251578,
          -0.0222318722255231,
          -0.0148212481503488,
          -0.0147087792399033,
          0.0638060369822598,
          0.1762273689250156,
          0.0811141044502505,
          0.0791704905942806,
          0.0640571073646225,
          -0.0352015563717998,
          0.0833466628558909,
          0.105453674879683,
          0.1136189627465355,
          -0.0087164148955404,
          0.0136615534126058,
          0.1513444569003914,
          -0.0123682836199463,
          0.116867205659222,
          0.0005290314790285,
          0.0966114758448733,
          0.0965548803677159,
          0.0896496582427872,
          -0.0385427374260923,
          0,
          0,
          0.0009555570918505,
          0.0017537576352304,
          0.0120003738844877,
          0.017142973083554,
          0.0216633409588116,
          0.0266778642093861,
          0.0330270410674434,
          -0.0047833029761495,
          0.0158450794278104,
          0.0268879286513887,
          0.0416647656476407,
          0.040074226233687,
          0.0257684431775434,
          0.0209625589817215,
          -0.0784466506173818,
          0.187155855801552,
          0.1931013876014308,
          0.2161694001139013,
          0.168842311692135,
          0.1832564415114738,
          0.217501327165561,
          0.1632537461757757,
          0.1637709780027663,
          0.0310355559119921,
          0.1096329848812748,
          0.11185114507397,
          0.1476743735777689,
          -0.0517597291799801,
          -0.0359511246709087,
          -0.0349089703460975,
          -0.0280220803905172,
          -0.012330901140153,
          -0.0524581008459719,
          -0.0641099702512563,
          -0.0591367820149771,
          -0.0561091191098469,
          0.0264170912163904,
          -0.0413978828059385,
          0.0353088688825299,
          0.0372581419507625,
          -0.0536745785608283,
          0.0410240127968452,
          0.0450004755696325,
          0.0869103872804157,
          0.0934797927967796,
          -0.0850601085544378,
          -0.0607112154595065,
          0.0798968882371038,
          -0.0525558844869445,
          -0.0305027881321807,
          0.0851719041030595,
          0.0235161410540788,
          0.0829073429399902,
          0.0307444445266711,
          -0.05790259735806,
          0.0205283020618311,
          0.008884382026599,
          0.0007201759339387,
          -0.0021635873152513,
          0.0013445366571169,
          0,
          0,
          0,
          -0.000142314273456,
          -3.402269159679808e-05
         ],
         "zmid": 0
        }
       ],
       "layout": {
        "template": {
         "data": {
          "bar": [
           {
            "error_x": {
             "color": "#2a3f5f"
            },
            "error_y": {
             "color": "#2a3f5f"
            },
            "marker": {
             "line": {
              "color": "#E5ECF6",
              "width": 0.5
             },
             "pattern": {
              "fillmode": "overlay",
              "size": 10,
              "solidity": 0.2
             }
            },
            "type": "bar"
           }
          ],
          "barpolar": [
           {
            "marker": {
             "line": {
              "color": "#E5ECF6",
              "width": 0.5
             },
             "pattern": {
              "fillmode": "overlay",
              "size": 10,
              "solidity": 0.2
             }
            },
            "type": "barpolar"
           }
          ],
          "carpet": [
           {
            "aaxis": {
             "endlinecolor": "#2a3f5f",
             "gridcolor": "white",
             "linecolor": "white",
             "minorgridcolor": "white",
             "startlinecolor": "#2a3f5f"
            },
            "baxis": {
             "endlinecolor": "#2a3f5f",
             "gridcolor": "white",
             "linecolor": "white",
             "minorgridcolor": "white",
             "startlinecolor": "#2a3f5f"
            },
            "type": "carpet"
           }
          ],
          "choropleth": [
           {
            "colorbar": {
             "outlinewidth": 0,
             "ticks": ""
            },
            "type": "choropleth"
           }
          ],
          "contour": [
           {
            "colorbar": {
             "outlinewidth": 0,
             "ticks": ""
            },
            "colorscale": [
             [
              0,
              "#0d0887"
             ],
             [
              0.1111111111111111,
              "#46039f"
             ],
             [
              0.2222222222222222,
              "#7201a8"
             ],
             [
              0.3333333333333333,
              "#9c179e"
             ],
             [
              0.4444444444444444,
              "#bd3786"
             ],
             [
              0.5555555555555556,
              "#d8576b"
             ],
             [
              0.6666666666666666,
              "#ed7953"
             ],
             [
              0.7777777777777778,
              "#fb9f3a"
             ],
             [
              0.8888888888888888,
              "#fdca26"
             ],
             [
              1,
              "#f0f921"
             ]
            ],
            "type": "contour"
           }
          ],
          "contourcarpet": [
           {
            "colorbar": {
             "outlinewidth": 0,
             "ticks": ""
            },
            "type": "contourcarpet"
           }
          ],
          "heatmap": [
           {
            "colorbar": {
             "outlinewidth": 0,
             "ticks": ""
            },
            "colorscale": [
             [
              0,
              "#0d0887"
             ],
             [
              0.1111111111111111,
              "#46039f"
             ],
             [
              0.2222222222222222,
              "#7201a8"
             ],
             [
              0.3333333333333333,
              "#9c179e"
             ],
             [
              0.4444444444444444,
              "#bd3786"
             ],
             [
              0.5555555555555556,
              "#d8576b"
             ],
             [
              0.6666666666666666,
              "#ed7953"
             ],
             [
              0.7777777777777778,
              "#fb9f3a"
             ],
             [
              0.8888888888888888,
              "#fdca26"
             ],
             [
              1,
              "#f0f921"
             ]
            ],
            "type": "heatmap"
           }
          ],
          "heatmapgl": [
           {
            "colorbar": {
             "outlinewidth": 0,
             "ticks": ""
            },
            "colorscale": [
             [
              0,
              "#0d0887"
             ],
             [
              0.1111111111111111,
              "#46039f"
             ],
             [
              0.2222222222222222,
              "#7201a8"
             ],
             [
              0.3333333333333333,
              "#9c179e"
             ],
             [
              0.4444444444444444,
              "#bd3786"
             ],
             [
              0.5555555555555556,
              "#d8576b"
             ],
             [
              0.6666666666666666,
              "#ed7953"
             ],
             [
              0.7777777777777778,
              "#fb9f3a"
             ],
             [
              0.8888888888888888,
              "#fdca26"
             ],
             [
              1,
              "#f0f921"
             ]
            ],
            "type": "heatmapgl"
           }
          ],
          "histogram": [
           {
            "marker": {
             "pattern": {
              "fillmode": "overlay",
              "size": 10,
              "solidity": 0.2
             }
            },
            "type": "histogram"
           }
          ],
          "histogram2d": [
           {
            "colorbar": {
             "outlinewidth": 0,
             "ticks": ""
            },
            "colorscale": [
             [
              0,
              "#0d0887"
             ],
             [
              0.1111111111111111,
              "#46039f"
             ],
             [
              0.2222222222222222,
              "#7201a8"
             ],
             [
              0.3333333333333333,
              "#9c179e"
             ],
             [
              0.4444444444444444,
              "#bd3786"
             ],
             [
              0.5555555555555556,
              "#d8576b"
             ],
             [
              0.6666666666666666,
              "#ed7953"
             ],
             [
              0.7777777777777778,
              "#fb9f3a"
             ],
             [
              0.8888888888888888,
              "#fdca26"
             ],
             [
              1,
              "#f0f921"
             ]
            ],
            "type": "histogram2d"
           }
          ],
          "histogram2dcontour": [
           {
            "colorbar": {
             "outlinewidth": 0,
             "ticks": ""
            },
            "colorscale": [
             [
              0,
              "#0d0887"
             ],
             [
              0.1111111111111111,
              "#46039f"
             ],
             [
              0.2222222222222222,
              "#7201a8"
             ],
             [
              0.3333333333333333,
              "#9c179e"
             ],
             [
              0.4444444444444444,
              "#bd3786"
             ],
             [
              0.5555555555555556,
              "#d8576b"
             ],
             [
              0.6666666666666666,
              "#ed7953"
             ],
             [
              0.7777777777777778,
              "#fb9f3a"
             ],
             [
              0.8888888888888888,
              "#fdca26"
             ],
             [
              1,
              "#f0f921"
             ]
            ],
            "type": "histogram2dcontour"
           }
          ],
          "mesh3d": [
           {
            "colorbar": {
             "outlinewidth": 0,
             "ticks": ""
            },
            "type": "mesh3d"
           }
          ],
          "parcoords": [
           {
            "line": {
             "colorbar": {
              "outlinewidth": 0,
              "ticks": ""
             }
            },
            "type": "parcoords"
           }
          ],
          "pie": [
           {
            "automargin": true,
            "type": "pie"
           }
          ],
          "scatter": [
           {
            "fillpattern": {
             "fillmode": "overlay",
             "size": 10,
             "solidity": 0.2
            },
            "type": "scatter"
           }
          ],
          "scatter3d": [
           {
            "line": {
             "colorbar": {
              "outlinewidth": 0,
              "ticks": ""
             }
            },
            "marker": {
             "colorbar": {
              "outlinewidth": 0,
              "ticks": ""
             }
            },
            "type": "scatter3d"
           }
          ],
          "scattercarpet": [
           {
            "marker": {
             "colorbar": {
              "outlinewidth": 0,
              "ticks": ""
             }
            },
            "type": "scattercarpet"
           }
          ],
          "scattergeo": [
           {
            "marker": {
             "colorbar": {
              "outlinewidth": 0,
              "ticks": ""
             }
            },
            "type": "scattergeo"
           }
          ],
          "scattergl": [
           {
            "marker": {
             "colorbar": {
              "outlinewidth": 0,
              "ticks": ""
             }
            },
            "type": "scattergl"
           }
          ],
          "scattermapbox": [
           {
            "marker": {
             "colorbar": {
              "outlinewidth": 0,
              "ticks": ""
             }
            },
            "type": "scattermapbox"
           }
          ],
          "scatterpolar": [
           {
            "marker": {
             "colorbar": {
              "outlinewidth": 0,
              "ticks": ""
             }
            },
            "type": "scatterpolar"
           }
          ],
          "scatterpolargl": [
           {
            "marker": {
             "colorbar": {
              "outlinewidth": 0,
              "ticks": ""
             }
            },
            "type": "scatterpolargl"
           }
          ],
          "scatterternary": [
           {
            "marker": {
             "colorbar": {
              "outlinewidth": 0,
              "ticks": ""
             }
            },
            "type": "scatterternary"
           }
          ],
          "surface": [
           {
            "colorbar": {
             "outlinewidth": 0,
             "ticks": ""
            },
            "colorscale": [
             [
              0,
              "#0d0887"
             ],
             [
              0.1111111111111111,
              "#46039f"
             ],
             [
              0.2222222222222222,
              "#7201a8"
             ],
             [
              0.3333333333333333,
              "#9c179e"
             ],
             [
              0.4444444444444444,
              "#bd3786"
             ],
             [
              0.5555555555555556,
              "#d8576b"
             ],
             [
              0.6666666666666666,
              "#ed7953"
             ],
             [
              0.7777777777777778,
              "#fb9f3a"
             ],
             [
              0.8888888888888888,
              "#fdca26"
             ],
             [
              1,
              "#f0f921"
             ]
            ],
            "type": "surface"
           }
          ],
          "table": [
           {
            "cells": {
             "fill": {
              "color": "#EBF0F8"
             },
             "line": {
              "color": "white"
             }
            },
            "header": {
             "fill": {
              "color": "#C8D4E3"
             },
             "line": {
              "color": "white"
             }
            },
            "type": "table"
           }
          ]
         },
         "layout": {
          "annotationdefaults": {
           "arrowcolor": "#2a3f5f",
           "arrowhead": 0,
           "arrowwidth": 1
          },
          "autotypenumbers": "strict",
          "coloraxis": {
           "colorbar": {
            "outlinewidth": 0,
            "ticks": ""
           }
          },
          "colorscale": {
           "diverging": [
            [
             0,
             "#8e0152"
            ],
            [
             0.1,
             "#c51b7d"
            ],
            [
             0.2,
             "#de77ae"
            ],
            [
             0.3,
             "#f1b6da"
            ],
            [
             0.4,
             "#fde0ef"
            ],
            [
             0.5,
             "#f7f7f7"
            ],
            [
             0.6,
             "#e6f5d0"
            ],
            [
             0.7,
             "#b8e186"
            ],
            [
             0.8,
             "#7fbc41"
            ],
            [
             0.9,
             "#4d9221"
            ],
            [
             1,
             "#276419"
            ]
           ],
           "sequential": [
            [
             0,
             "#0d0887"
            ],
            [
             0.1111111111111111,
             "#46039f"
            ],
            [
             0.2222222222222222,
             "#7201a8"
            ],
            [
             0.3333333333333333,
             "#9c179e"
            ],
            [
             0.4444444444444444,
             "#bd3786"
            ],
            [
             0.5555555555555556,
             "#d8576b"
            ],
            [
             0.6666666666666666,
             "#ed7953"
            ],
            [
             0.7777777777777778,
             "#fb9f3a"
            ],
            [
             0.8888888888888888,
             "#fdca26"
            ],
            [
             1,
             "#f0f921"
            ]
           ],
           "sequentialminus": [
            [
             0,
             "#0d0887"
            ],
            [
             0.1111111111111111,
             "#46039f"
            ],
            [
             0.2222222222222222,
             "#7201a8"
            ],
            [
             0.3333333333333333,
             "#9c179e"
            ],
            [
             0.4444444444444444,
             "#bd3786"
            ],
            [
             0.5555555555555556,
             "#d8576b"
            ],
            [
             0.6666666666666666,
             "#ed7953"
            ],
            [
             0.7777777777777778,
             "#fb9f3a"
            ],
            [
             0.8888888888888888,
             "#fdca26"
            ],
            [
             1,
             "#f0f921"
            ]
           ]
          },
          "colorway": [
           "#636efa",
           "#EF553B",
           "#00cc96",
           "#ab63fa",
           "#FFA15A",
           "#19d3f3",
           "#FF6692",
           "#B6E880",
           "#FF97FF",
           "#FECB52"
          ],
          "font": {
           "color": "#2a3f5f"
          },
          "geo": {
           "bgcolor": "white",
           "lakecolor": "white",
           "landcolor": "#E5ECF6",
           "showlakes": true,
           "showland": true,
           "subunitcolor": "white"
          },
          "hoverlabel": {
           "align": "left"
          },
          "hovermode": "closest",
          "mapbox": {
           "style": "light"
          },
          "paper_bgcolor": "white",
          "plot_bgcolor": "#E5ECF6",
          "polar": {
           "angularaxis": {
            "gridcolor": "white",
            "linecolor": "white",
            "ticks": ""
           },
           "bgcolor": "#E5ECF6",
           "radialaxis": {
            "gridcolor": "white",
            "linecolor": "white",
            "ticks": ""
           }
          },
          "scene": {
           "xaxis": {
            "backgroundcolor": "#E5ECF6",
            "gridcolor": "white",
            "gridwidth": 2,
            "linecolor": "white",
            "showbackground": true,
            "ticks": "",
            "zerolinecolor": "white"
           },
           "yaxis": {
            "backgroundcolor": "#E5ECF6",
            "gridcolor": "white",
            "gridwidth": 2,
            "linecolor": "white",
            "showbackground": true,
            "ticks": "",
            "zerolinecolor": "white"
           },
           "zaxis": {
            "backgroundcolor": "#E5ECF6",
            "gridcolor": "white",
            "gridwidth": 2,
            "linecolor": "white",
            "showbackground": true,
            "ticks": "",
            "zerolinecolor": "white"
           }
          },
          "shapedefaults": {
           "line": {
            "color": "#2a3f5f"
           }
          },
          "ternary": {
           "aaxis": {
            "gridcolor": "white",
            "linecolor": "white",
            "ticks": ""
           },
           "baxis": {
            "gridcolor": "white",
            "linecolor": "white",
            "ticks": ""
           },
           "bgcolor": "#E5ECF6",
           "caxis": {
            "gridcolor": "white",
            "linecolor": "white",
            "ticks": ""
           }
          },
          "title": {
           "x": 0.05
          },
          "xaxis": {
           "automargin": true,
           "gridcolor": "white",
           "linecolor": "white",
           "ticks": "",
           "title": {
            "standoff": 15
           },
           "zerolinecolor": "white",
           "zerolinewidth": 2
          },
          "yaxis": {
           "automargin": true,
           "gridcolor": "white",
           "linecolor": "white",
           "ticks": "",
           "title": {
            "standoff": 15
           },
           "zerolinecolor": "white",
           "zerolinewidth": 2
          }
         }
        },
        "title": {
         "text": "MNAR - 0.3"
        },
        "xaxis": {
         "nticks": 36
        }
       }
      },
      "text/html": [
       "<div>                            <div id=\"0602374f-b93e-42f4-82a9-56c41427661b\" class=\"plotly-graph-div\" style=\"height:525px; width:100%;\"></div>            <script type=\"text/javascript\">                require([\"plotly\"], function(Plotly) {                    window.PLOTLYENV=window.PLOTLYENV || {};                                    if (document.getElementById(\"0602374f-b93e-42f4-82a9-56c41427661b\")) {                    Plotly.newPlot(                        \"0602374f-b93e-42f4-82a9-56c41427661b\",                        [{\"autocolorscale\":false,\"colorscale\":[[0.0,\"rgb(5,48,97)\"],[0.1,\"rgb(33,102,172)\"],[0.2,\"rgb(67,147,195)\"],[0.3,\"rgb(146,197,222)\"],[0.4,\"rgb(209,229,240)\"],[0.5,\"rgb(247,247,247)\"],[0.6,\"rgb(253,219,199)\"],[0.7,\"rgb(244,165,130)\"],[0.8,\"rgb(214,96,77)\"],[0.9,\"rgb(178,24,43)\"],[1.0,\"rgb(103,0,31)\"]],\"x\":[\"40677\",\"40677\",\"40677\",\"40677\",\"40677\",\"40677\",\"40497\",\"40497\",\"40497\",\"40497\",\"40497\",\"40497\",\"183\",\"183\",\"183\",\"183\",\"183\",\"183\",\"40498\",\"40498\",\"40498\",\"40498\",\"40498\",\"40498\",\"1526\",\"1526\",\"1526\",\"1526\",\"1526\",\"1526\",\"30\",\"30\",\"30\",\"30\",\"30\",\"30\",\"4552\",\"4552\",\"4552\",\"4552\",\"4552\",\"4552\",\"375\",\"375\",\"375\",\"375\",\"375\",\"375\",\"1459\",\"1459\",\"1459\",\"1459\",\"1459\",\"1459\",\"32\",\"32\",\"32\",\"32\",\"32\",\"32\",\"26\",\"26\",\"26\",\"26\",\"26\",\"26\",\"41671\",\"41671\",\"41671\",\"6\",\"41671\",\"6\",\"6\",\"41671\",\"6\",\"6\",\"1481\",\"1481\",\"184\",\"184\",\"1481\",\"184\",\"184\",\"1481\",\"184\",\"1481\",\"1481\",\"184\",\"41027\",\"41027\",\"41027\",\"41027\",\"41027\",\"40685\",\"40685\",\"40685\",\"40685\",\"40685\"],\"y\":[\"Random Forest\",\"Discriminative DL\",\"KNN\",\"Mean/Mode\",\"GAIN\",\"VAE\",\"KNN\",\"VAE\",\"Random Forest\",\"Discriminative DL\",\"GAIN\",\"Mean/Mode\",\"GAIN\",\"KNN\",\"Mean/Mode\",\"Random Forest\",\"VAE\",\"Discriminative DL\",\"VAE\",\"KNN\",\"Random Forest\",\"Mean/Mode\",\"GAIN\",\"Discriminative DL\",\"Random Forest\",\"Discriminative DL\",\"KNN\",\"Mean/Mode\",\"VAE\",\"GAIN\",\"GAIN\",\"Discriminative DL\",\"KNN\",\"VAE\",\"Mean/Mode\",\"Random Forest\",\"GAIN\",\"Discriminative DL\",\"Mean/Mode\",\"VAE\",\"Random Forest\",\"KNN\",\"KNN\",\"Random Forest\",\"Discriminative DL\",\"VAE\",\"Mean/Mode\",\"GAIN\",\"Random Forest\",\"GAIN\",\"VAE\",\"Mean/Mode\",\"KNN\",\"Discriminative DL\",\"KNN\",\"Discriminative DL\",\"GAIN\",\"Random Forest\",\"VAE\",\"Mean/Mode\",\"KNN\",\"Random Forest\",\"Discriminative DL\",\"GAIN\",\"VAE\",\"Mean/Mode\",\"Random Forest\",\"VAE\",\"KNN\",\"Random Forest\",\"Discriminative DL\",\"VAE\",\"Discriminative DL\",\"Mean/Mode\",\"Mean/Mode\",\"KNN\",\"Discriminative DL\",\"Mean/Mode\",\"Discriminative DL\",\"Mean/Mode\",\"Random Forest\",\"KNN\",\"Random Forest\",\"GAIN\",\"VAE\",\"KNN\",\"VAE\",\"GAIN\",\"VAE\",\"Random Forest\",\"Mean/Mode\",\"KNN\",\"Discriminative DL\",\"VAE\",\"Mean/Mode\",\"Discriminative DL\",\"Random Forest\",\"KNN\"],\"z\":[0.0125387410945961,0.0048344505528701,0.0018462303423701,0.0247526763180306,-0.0128892425527261,-0.0356181484153012,0.0,-0.0110597016575388,0.0037898748251578,-0.0222318722255231,-0.0148212481503488,-0.0147087792399033,0.0638060369822598,0.1762273689250156,0.0811141044502505,0.0791704905942806,0.0640571073646225,-0.0352015563717998,0.0833466628558909,0.105453674879683,0.1136189627465355,-0.0087164148955404,0.0136615534126058,0.1513444569003914,-0.0123682836199463,0.116867205659222,0.0005290314790285,0.0966114758448733,0.0965548803677159,0.0896496582427872,-0.0385427374260923,0.0,0.0,0.0009555570918505,0.0017537576352304,0.0120003738844877,0.017142973083554,0.0216633409588116,0.0266778642093861,0.0330270410674434,-0.0047833029761495,0.0158450794278104,0.0268879286513887,0.0416647656476407,0.040074226233687,0.0257684431775434,0.0209625589817215,-0.0784466506173818,0.187155855801552,0.1931013876014308,0.2161694001139013,0.168842311692135,0.1832564415114738,0.217501327165561,0.1632537461757757,0.1637709780027663,0.0310355559119921,0.1096329848812748,0.11185114507397,0.1476743735777689,-0.0517597291799801,-0.0359511246709087,-0.0349089703460975,-0.0280220803905172,-0.012330901140153,-0.0524581008459719,-0.0641099702512563,-0.0591367820149771,-0.0561091191098469,0.0264170912163904,-0.0413978828059385,0.0353088688825299,0.0372581419507625,-0.0536745785608283,0.0410240127968452,0.0450004755696325,0.0869103872804157,0.0934797927967796,-0.0850601085544378,-0.0607112154595065,0.0798968882371038,-0.0525558844869445,-0.0305027881321807,0.0851719041030595,0.0235161410540788,0.0829073429399902,0.0307444445266711,-0.05790259735806,0.0205283020618311,0.008884382026599,0.0007201759339387,-0.0021635873152513,0.0013445366571169,0.0,0.0,0.0,-0.000142314273456,-3.402269159679808e-05],\"zmid\":0,\"type\":\"heatmap\"}],                        {\"template\":{\"data\":{\"histogram2dcontour\":[{\"type\":\"histogram2dcontour\",\"colorbar\":{\"outlinewidth\":0,\"ticks\":\"\"},\"colorscale\":[[0.0,\"#0d0887\"],[0.1111111111111111,\"#46039f\"],[0.2222222222222222,\"#7201a8\"],[0.3333333333333333,\"#9c179e\"],[0.4444444444444444,\"#bd3786\"],[0.5555555555555556,\"#d8576b\"],[0.6666666666666666,\"#ed7953\"],[0.7777777777777778,\"#fb9f3a\"],[0.8888888888888888,\"#fdca26\"],[1.0,\"#f0f921\"]]}],\"choropleth\":[{\"type\":\"choropleth\",\"colorbar\":{\"outlinewidth\":0,\"ticks\":\"\"}}],\"histogram2d\":[{\"type\":\"histogram2d\",\"colorbar\":{\"outlinewidth\":0,\"ticks\":\"\"},\"colorscale\":[[0.0,\"#0d0887\"],[0.1111111111111111,\"#46039f\"],[0.2222222222222222,\"#7201a8\"],[0.3333333333333333,\"#9c179e\"],[0.4444444444444444,\"#bd3786\"],[0.5555555555555556,\"#d8576b\"],[0.6666666666666666,\"#ed7953\"],[0.7777777777777778,\"#fb9f3a\"],[0.8888888888888888,\"#fdca26\"],[1.0,\"#f0f921\"]]}],\"heatmap\":[{\"type\":\"heatmap\",\"colorbar\":{\"outlinewidth\":0,\"ticks\":\"\"},\"colorscale\":[[0.0,\"#0d0887\"],[0.1111111111111111,\"#46039f\"],[0.2222222222222222,\"#7201a8\"],[0.3333333333333333,\"#9c179e\"],[0.4444444444444444,\"#bd3786\"],[0.5555555555555556,\"#d8576b\"],[0.6666666666666666,\"#ed7953\"],[0.7777777777777778,\"#fb9f3a\"],[0.8888888888888888,\"#fdca26\"],[1.0,\"#f0f921\"]]}],\"heatmapgl\":[{\"type\":\"heatmapgl\",\"colorbar\":{\"outlinewidth\":0,\"ticks\":\"\"},\"colorscale\":[[0.0,\"#0d0887\"],[0.1111111111111111,\"#46039f\"],[0.2222222222222222,\"#7201a8\"],[0.3333333333333333,\"#9c179e\"],[0.4444444444444444,\"#bd3786\"],[0.5555555555555556,\"#d8576b\"],[0.6666666666666666,\"#ed7953\"],[0.7777777777777778,\"#fb9f3a\"],[0.8888888888888888,\"#fdca26\"],[1.0,\"#f0f921\"]]}],\"contourcarpet\":[{\"type\":\"contourcarpet\",\"colorbar\":{\"outlinewidth\":0,\"ticks\":\"\"}}],\"contour\":[{\"type\":\"contour\",\"colorbar\":{\"outlinewidth\":0,\"ticks\":\"\"},\"colorscale\":[[0.0,\"#0d0887\"],[0.1111111111111111,\"#46039f\"],[0.2222222222222222,\"#7201a8\"],[0.3333333333333333,\"#9c179e\"],[0.4444444444444444,\"#bd3786\"],[0.5555555555555556,\"#d8576b\"],[0.6666666666666666,\"#ed7953\"],[0.7777777777777778,\"#fb9f3a\"],[0.8888888888888888,\"#fdca26\"],[1.0,\"#f0f921\"]]}],\"surface\":[{\"type\":\"surface\",\"colorbar\":{\"outlinewidth\":0,\"ticks\":\"\"},\"colorscale\":[[0.0,\"#0d0887\"],[0.1111111111111111,\"#46039f\"],[0.2222222222222222,\"#7201a8\"],[0.3333333333333333,\"#9c179e\"],[0.4444444444444444,\"#bd3786\"],[0.5555555555555556,\"#d8576b\"],[0.6666666666666666,\"#ed7953\"],[0.7777777777777778,\"#fb9f3a\"],[0.8888888888888888,\"#fdca26\"],[1.0,\"#f0f921\"]]}],\"mesh3d\":[{\"type\":\"mesh3d\",\"colorbar\":{\"outlinewidth\":0,\"ticks\":\"\"}}],\"scatter\":[{\"fillpattern\":{\"fillmode\":\"overlay\",\"size\":10,\"solidity\":0.2},\"type\":\"scatter\"}],\"parcoords\":[{\"type\":\"parcoords\",\"line\":{\"colorbar\":{\"outlinewidth\":0,\"ticks\":\"\"}}}],\"scatterpolargl\":[{\"type\":\"scatterpolargl\",\"marker\":{\"colorbar\":{\"outlinewidth\":0,\"ticks\":\"\"}}}],\"bar\":[{\"error_x\":{\"color\":\"#2a3f5f\"},\"error_y\":{\"color\":\"#2a3f5f\"},\"marker\":{\"line\":{\"color\":\"#E5ECF6\",\"width\":0.5},\"pattern\":{\"fillmode\":\"overlay\",\"size\":10,\"solidity\":0.2}},\"type\":\"bar\"}],\"scattergeo\":[{\"type\":\"scattergeo\",\"marker\":{\"colorbar\":{\"outlinewidth\":0,\"ticks\":\"\"}}}],\"scatterpolar\":[{\"type\":\"scatterpolar\",\"marker\":{\"colorbar\":{\"outlinewidth\":0,\"ticks\":\"\"}}}],\"histogram\":[{\"marker\":{\"pattern\":{\"fillmode\":\"overlay\",\"size\":10,\"solidity\":0.2}},\"type\":\"histogram\"}],\"scattergl\":[{\"type\":\"scattergl\",\"marker\":{\"colorbar\":{\"outlinewidth\":0,\"ticks\":\"\"}}}],\"scatter3d\":[{\"type\":\"scatter3d\",\"line\":{\"colorbar\":{\"outlinewidth\":0,\"ticks\":\"\"}},\"marker\":{\"colorbar\":{\"outlinewidth\":0,\"ticks\":\"\"}}}],\"scattermapbox\":[{\"type\":\"scattermapbox\",\"marker\":{\"colorbar\":{\"outlinewidth\":0,\"ticks\":\"\"}}}],\"scatterternary\":[{\"type\":\"scatterternary\",\"marker\":{\"colorbar\":{\"outlinewidth\":0,\"ticks\":\"\"}}}],\"scattercarpet\":[{\"type\":\"scattercarpet\",\"marker\":{\"colorbar\":{\"outlinewidth\":0,\"ticks\":\"\"}}}],\"carpet\":[{\"aaxis\":{\"endlinecolor\":\"#2a3f5f\",\"gridcolor\":\"white\",\"linecolor\":\"white\",\"minorgridcolor\":\"white\",\"startlinecolor\":\"#2a3f5f\"},\"baxis\":{\"endlinecolor\":\"#2a3f5f\",\"gridcolor\":\"white\",\"linecolor\":\"white\",\"minorgridcolor\":\"white\",\"startlinecolor\":\"#2a3f5f\"},\"type\":\"carpet\"}],\"table\":[{\"cells\":{\"fill\":{\"color\":\"#EBF0F8\"},\"line\":{\"color\":\"white\"}},\"header\":{\"fill\":{\"color\":\"#C8D4E3\"},\"line\":{\"color\":\"white\"}},\"type\":\"table\"}],\"barpolar\":[{\"marker\":{\"line\":{\"color\":\"#E5ECF6\",\"width\":0.5},\"pattern\":{\"fillmode\":\"overlay\",\"size\":10,\"solidity\":0.2}},\"type\":\"barpolar\"}],\"pie\":[{\"automargin\":true,\"type\":\"pie\"}]},\"layout\":{\"autotypenumbers\":\"strict\",\"colorway\":[\"#636efa\",\"#EF553B\",\"#00cc96\",\"#ab63fa\",\"#FFA15A\",\"#19d3f3\",\"#FF6692\",\"#B6E880\",\"#FF97FF\",\"#FECB52\"],\"font\":{\"color\":\"#2a3f5f\"},\"hovermode\":\"closest\",\"hoverlabel\":{\"align\":\"left\"},\"paper_bgcolor\":\"white\",\"plot_bgcolor\":\"#E5ECF6\",\"polar\":{\"bgcolor\":\"#E5ECF6\",\"angularaxis\":{\"gridcolor\":\"white\",\"linecolor\":\"white\",\"ticks\":\"\"},\"radialaxis\":{\"gridcolor\":\"white\",\"linecolor\":\"white\",\"ticks\":\"\"}},\"ternary\":{\"bgcolor\":\"#E5ECF6\",\"aaxis\":{\"gridcolor\":\"white\",\"linecolor\":\"white\",\"ticks\":\"\"},\"baxis\":{\"gridcolor\":\"white\",\"linecolor\":\"white\",\"ticks\":\"\"},\"caxis\":{\"gridcolor\":\"white\",\"linecolor\":\"white\",\"ticks\":\"\"}},\"coloraxis\":{\"colorbar\":{\"outlinewidth\":0,\"ticks\":\"\"}},\"colorscale\":{\"sequential\":[[0.0,\"#0d0887\"],[0.1111111111111111,\"#46039f\"],[0.2222222222222222,\"#7201a8\"],[0.3333333333333333,\"#9c179e\"],[0.4444444444444444,\"#bd3786\"],[0.5555555555555556,\"#d8576b\"],[0.6666666666666666,\"#ed7953\"],[0.7777777777777778,\"#fb9f3a\"],[0.8888888888888888,\"#fdca26\"],[1.0,\"#f0f921\"]],\"sequentialminus\":[[0.0,\"#0d0887\"],[0.1111111111111111,\"#46039f\"],[0.2222222222222222,\"#7201a8\"],[0.3333333333333333,\"#9c179e\"],[0.4444444444444444,\"#bd3786\"],[0.5555555555555556,\"#d8576b\"],[0.6666666666666666,\"#ed7953\"],[0.7777777777777778,\"#fb9f3a\"],[0.8888888888888888,\"#fdca26\"],[1.0,\"#f0f921\"]],\"diverging\":[[0,\"#8e0152\"],[0.1,\"#c51b7d\"],[0.2,\"#de77ae\"],[0.3,\"#f1b6da\"],[0.4,\"#fde0ef\"],[0.5,\"#f7f7f7\"],[0.6,\"#e6f5d0\"],[0.7,\"#b8e186\"],[0.8,\"#7fbc41\"],[0.9,\"#4d9221\"],[1,\"#276419\"]]},\"xaxis\":{\"gridcolor\":\"white\",\"linecolor\":\"white\",\"ticks\":\"\",\"title\":{\"standoff\":15},\"zerolinecolor\":\"white\",\"automargin\":true,\"zerolinewidth\":2},\"yaxis\":{\"gridcolor\":\"white\",\"linecolor\":\"white\",\"ticks\":\"\",\"title\":{\"standoff\":15},\"zerolinecolor\":\"white\",\"automargin\":true,\"zerolinewidth\":2},\"scene\":{\"xaxis\":{\"backgroundcolor\":\"#E5ECF6\",\"gridcolor\":\"white\",\"linecolor\":\"white\",\"showbackground\":true,\"ticks\":\"\",\"zerolinecolor\":\"white\",\"gridwidth\":2},\"yaxis\":{\"backgroundcolor\":\"#E5ECF6\",\"gridcolor\":\"white\",\"linecolor\":\"white\",\"showbackground\":true,\"ticks\":\"\",\"zerolinecolor\":\"white\",\"gridwidth\":2},\"zaxis\":{\"backgroundcolor\":\"#E5ECF6\",\"gridcolor\":\"white\",\"linecolor\":\"white\",\"showbackground\":true,\"ticks\":\"\",\"zerolinecolor\":\"white\",\"gridwidth\":2}},\"shapedefaults\":{\"line\":{\"color\":\"#2a3f5f\"}},\"annotationdefaults\":{\"arrowcolor\":\"#2a3f5f\",\"arrowhead\":0,\"arrowwidth\":1},\"geo\":{\"bgcolor\":\"white\",\"landcolor\":\"#E5ECF6\",\"subunitcolor\":\"white\",\"showland\":true,\"showlakes\":true,\"lakecolor\":\"white\"},\"title\":{\"x\":0.05},\"mapbox\":{\"style\":\"light\"}}},\"xaxis\":{\"nticks\":36},\"title\":{\"text\":\"MNAR - 0.3\"}},                        {\"responsive\": true}                    ).then(function(){\n",
       "                            \n",
       "var gd = document.getElementById('0602374f-b93e-42f4-82a9-56c41427661b');\n",
       "var x = new MutationObserver(function (mutations, observer) {{\n",
       "        var display = window.getComputedStyle(gd).display;\n",
       "        if (!display || display === 'none') {{\n",
       "            console.log([gd, 'removed!']);\n",
       "            Plotly.purge(gd);\n",
       "            observer.disconnect();\n",
       "        }}\n",
       "}});\n",
       "\n",
       "// Listen for the removal of the full notebook cells\n",
       "var notebookContainer = gd.closest('#notebook-container');\n",
       "if (notebookContainer) {{\n",
       "    x.observe(notebookContainer, {childList: true});\n",
       "}}\n",
       "\n",
       "// Listen for the clearing of the current output cell\n",
       "var outputEl = gd.closest('.output');\n",
       "if (outputEl) {{\n",
       "    x.observe(outputEl, {childList: true});\n",
       "}}\n",
       "\n",
       "                        })                };                });            </script>        </div>"
      ]
     },
     "metadata": {},
     "output_type": "display_data"
    },
    {
     "data": {
      "application/vnd.plotly.v1+json": {
       "config": {
        "plotlyServerURL": "https://plot.ly"
       },
       "data": [
        {
         "autocolorscale": false,
         "colorscale": [
          [
           0,
           "rgb(5,48,97)"
          ],
          [
           0.1,
           "rgb(33,102,172)"
          ],
          [
           0.2,
           "rgb(67,147,195)"
          ],
          [
           0.3,
           "rgb(146,197,222)"
          ],
          [
           0.4,
           "rgb(209,229,240)"
          ],
          [
           0.5,
           "rgb(247,247,247)"
          ],
          [
           0.6,
           "rgb(253,219,199)"
          ],
          [
           0.7,
           "rgb(244,165,130)"
          ],
          [
           0.8,
           "rgb(214,96,77)"
          ],
          [
           0.9,
           "rgb(178,24,43)"
          ],
          [
           1,
           "rgb(103,0,31)"
          ]
         ],
         "type": "heatmap",
         "x": [
          "40677",
          "40677",
          "40677",
          "40677",
          "40677",
          "40677",
          "40497",
          "40497",
          "40497",
          "40497",
          "40497",
          "40497",
          "183",
          "183",
          "183",
          "183",
          "183",
          "183",
          "40498",
          "40498",
          "40498",
          "40498",
          "40498",
          "40498",
          "1526",
          "1526",
          "1526",
          "1526",
          "1526",
          "1526",
          "30",
          "30",
          "30",
          "30",
          "30",
          "30",
          "4552",
          "4552",
          "4552",
          "4552",
          "4552",
          "4552",
          "375",
          "375",
          "375",
          "375",
          "375",
          "375",
          "1459",
          "1459",
          "1459",
          "1459",
          "1459",
          "1459",
          "32",
          "32",
          "32",
          "32",
          "32",
          "26",
          "26",
          "26",
          "26",
          "26",
          "26",
          "41671",
          "41671",
          "41671",
          "6",
          "41671",
          "6",
          "41671",
          "6",
          "6",
          "6",
          "1481",
          "1481",
          "184",
          "184",
          "1481",
          "184",
          "184",
          "1481",
          "184",
          "1481",
          "1481",
          "184",
          "41027",
          "41027",
          "41027",
          "41027",
          "41027",
          "40685",
          "40685",
          "40685",
          "40685",
          "40685"
         ],
         "y": [
          "Mean/Mode",
          "GAIN",
          "Random Forest",
          "Discriminative DL",
          "KNN",
          "VAE",
          "KNN",
          "Discriminative DL",
          "Mean/Mode",
          "VAE",
          "Random Forest",
          "GAIN",
          "KNN",
          "GAIN",
          "Random Forest",
          "Discriminative DL",
          "Mean/Mode",
          "VAE",
          "GAIN",
          "Mean/Mode",
          "Random Forest",
          "Discriminative DL",
          "VAE",
          "KNN",
          "Random Forest",
          "KNN",
          "Discriminative DL",
          "GAIN",
          "VAE",
          "Mean/Mode",
          "Random Forest",
          "Mean/Mode",
          "KNN",
          "GAIN",
          "VAE",
          "Discriminative DL",
          "KNN",
          "Random Forest",
          "GAIN",
          "Discriminative DL",
          "VAE",
          "Mean/Mode",
          "GAIN",
          "Discriminative DL",
          "VAE",
          "Random Forest",
          "KNN",
          "Mean/Mode",
          "KNN",
          "Random Forest",
          "VAE",
          "Discriminative DL",
          "GAIN",
          "Mean/Mode",
          "GAIN",
          "Mean/Mode",
          "KNN",
          "Random Forest",
          "VAE",
          "VAE",
          "Discriminative DL",
          "Mean/Mode",
          "KNN",
          "Random Forest",
          "GAIN",
          "KNN",
          "Random Forest",
          "VAE",
          "Random Forest",
          "Discriminative DL",
          "Mean/Mode",
          "Mean/Mode",
          "Discriminative DL",
          "VAE",
          "KNN",
          "Discriminative DL",
          "Mean/Mode",
          "Discriminative DL",
          "Random Forest",
          "Random Forest",
          "KNN",
          "Mean/Mode",
          "KNN",
          "VAE",
          "GAIN",
          "VAE",
          "GAIN",
          "VAE",
          "Discriminative DL",
          "Mean/Mode",
          "KNN",
          "Random Forest",
          "VAE",
          "Mean/Mode",
          "Discriminative DL",
          "Random Forest",
          "KNN"
         ],
         "z": [
          0.0204087944326209,
          -0.0506571211781943,
          -0.0171632991511639,
          -0.0127240737178367,
          -0.0052481859961738,
          0.0163391334041559,
          0,
          -0.0036490775823643,
          -0.022580177596262,
          -0.0378734559787318,
          0.0037898748251578,
          0,
          0.1436764449568032,
          0.2013568325371905,
          0.218313009319453,
          0.3032081824765095,
          0.1289363710881005,
          0.1304298539100976,
          0.1296385838093404,
          0.141513361207748,
          0.1927485853648463,
          0.3068323895078186,
          0.2922209642953114,
          0.2486370321911069,
          -0.0061362789621264,
          0.0013773349645146,
          0.1373329014739517,
          0.1470881161276114,
          0.1458104833193654,
          0.1604606764351043,
          0.0105194398167497,
          0.0038922210282265,
          0.0013123401245937,
          0.0011960120377571,
          0.0009533334237293,
          0,
          -0.0111326425281766,
          0.0061553650917674,
          0.0162315078407682,
          0.0419805904040561,
          0.0579186072898762,
          0.0632728521122936,
          -0.1294567842016509,
          0.070106598465631,
          0.0498511847819616,
          0.0325375692863524,
          0.0287643052305559,
          0.0172212819915554,
          0.329533400506751,
          0.330853393331063,
          0.3596988147736617,
          0.310368181536833,
          0.160782232190994,
          0.3157594482576852,
          0.0116702331510796,
          0.0982060218498672,
          0.117703817412625,
          0.2476360027400024,
          0.1787287004656373,
          0.0016034077422944,
          -0.0216403289520501,
          -0.0777968458505884,
          -0.0789498970703915,
          -0.0913296272313872,
          -0.1342379960709097,
          -0.0948869717318015,
          -0.093526281736492,
          -0.0918751968209688,
          0.0593118138481358,
          -0.0603376478111224,
          0.0674385643080751,
          -0.0884778065877967,
          0.0706771590056457,
          0.0721406072424435,
          0.0733695342554085,
          0.2308654238709655,
          0.2579800802257476,
          -0.1727663348071554,
          -0.0839213193002115,
          0.1363192721164337,
          -0.0770164034505304,
          -0.031600481489664,
          0.2271017804053826,
          -0.0016889167813151,
          0.1355689673438772,
          0.1033622657089551,
          -0.078125650563574,
          0.0244782208147796,
          0.0223260013848226,
          0.0115406089793659,
          0.0100658665006064,
          0.0175777601974662,
          0,
          0,
          0,
          -0.000611344427998,
          -0.0004066260970565
         ],
         "zmid": 0
        }
       ],
       "layout": {
        "template": {
         "data": {
          "bar": [
           {
            "error_x": {
             "color": "#2a3f5f"
            },
            "error_y": {
             "color": "#2a3f5f"
            },
            "marker": {
             "line": {
              "color": "#E5ECF6",
              "width": 0.5
             },
             "pattern": {
              "fillmode": "overlay",
              "size": 10,
              "solidity": 0.2
             }
            },
            "type": "bar"
           }
          ],
          "barpolar": [
           {
            "marker": {
             "line": {
              "color": "#E5ECF6",
              "width": 0.5
             },
             "pattern": {
              "fillmode": "overlay",
              "size": 10,
              "solidity": 0.2
             }
            },
            "type": "barpolar"
           }
          ],
          "carpet": [
           {
            "aaxis": {
             "endlinecolor": "#2a3f5f",
             "gridcolor": "white",
             "linecolor": "white",
             "minorgridcolor": "white",
             "startlinecolor": "#2a3f5f"
            },
            "baxis": {
             "endlinecolor": "#2a3f5f",
             "gridcolor": "white",
             "linecolor": "white",
             "minorgridcolor": "white",
             "startlinecolor": "#2a3f5f"
            },
            "type": "carpet"
           }
          ],
          "choropleth": [
           {
            "colorbar": {
             "outlinewidth": 0,
             "ticks": ""
            },
            "type": "choropleth"
           }
          ],
          "contour": [
           {
            "colorbar": {
             "outlinewidth": 0,
             "ticks": ""
            },
            "colorscale": [
             [
              0,
              "#0d0887"
             ],
             [
              0.1111111111111111,
              "#46039f"
             ],
             [
              0.2222222222222222,
              "#7201a8"
             ],
             [
              0.3333333333333333,
              "#9c179e"
             ],
             [
              0.4444444444444444,
              "#bd3786"
             ],
             [
              0.5555555555555556,
              "#d8576b"
             ],
             [
              0.6666666666666666,
              "#ed7953"
             ],
             [
              0.7777777777777778,
              "#fb9f3a"
             ],
             [
              0.8888888888888888,
              "#fdca26"
             ],
             [
              1,
              "#f0f921"
             ]
            ],
            "type": "contour"
           }
          ],
          "contourcarpet": [
           {
            "colorbar": {
             "outlinewidth": 0,
             "ticks": ""
            },
            "type": "contourcarpet"
           }
          ],
          "heatmap": [
           {
            "colorbar": {
             "outlinewidth": 0,
             "ticks": ""
            },
            "colorscale": [
             [
              0,
              "#0d0887"
             ],
             [
              0.1111111111111111,
              "#46039f"
             ],
             [
              0.2222222222222222,
              "#7201a8"
             ],
             [
              0.3333333333333333,
              "#9c179e"
             ],
             [
              0.4444444444444444,
              "#bd3786"
             ],
             [
              0.5555555555555556,
              "#d8576b"
             ],
             [
              0.6666666666666666,
              "#ed7953"
             ],
             [
              0.7777777777777778,
              "#fb9f3a"
             ],
             [
              0.8888888888888888,
              "#fdca26"
             ],
             [
              1,
              "#f0f921"
             ]
            ],
            "type": "heatmap"
           }
          ],
          "heatmapgl": [
           {
            "colorbar": {
             "outlinewidth": 0,
             "ticks": ""
            },
            "colorscale": [
             [
              0,
              "#0d0887"
             ],
             [
              0.1111111111111111,
              "#46039f"
             ],
             [
              0.2222222222222222,
              "#7201a8"
             ],
             [
              0.3333333333333333,
              "#9c179e"
             ],
             [
              0.4444444444444444,
              "#bd3786"
             ],
             [
              0.5555555555555556,
              "#d8576b"
             ],
             [
              0.6666666666666666,
              "#ed7953"
             ],
             [
              0.7777777777777778,
              "#fb9f3a"
             ],
             [
              0.8888888888888888,
              "#fdca26"
             ],
             [
              1,
              "#f0f921"
             ]
            ],
            "type": "heatmapgl"
           }
          ],
          "histogram": [
           {
            "marker": {
             "pattern": {
              "fillmode": "overlay",
              "size": 10,
              "solidity": 0.2
             }
            },
            "type": "histogram"
           }
          ],
          "histogram2d": [
           {
            "colorbar": {
             "outlinewidth": 0,
             "ticks": ""
            },
            "colorscale": [
             [
              0,
              "#0d0887"
             ],
             [
              0.1111111111111111,
              "#46039f"
             ],
             [
              0.2222222222222222,
              "#7201a8"
             ],
             [
              0.3333333333333333,
              "#9c179e"
             ],
             [
              0.4444444444444444,
              "#bd3786"
             ],
             [
              0.5555555555555556,
              "#d8576b"
             ],
             [
              0.6666666666666666,
              "#ed7953"
             ],
             [
              0.7777777777777778,
              "#fb9f3a"
             ],
             [
              0.8888888888888888,
              "#fdca26"
             ],
             [
              1,
              "#f0f921"
             ]
            ],
            "type": "histogram2d"
           }
          ],
          "histogram2dcontour": [
           {
            "colorbar": {
             "outlinewidth": 0,
             "ticks": ""
            },
            "colorscale": [
             [
              0,
              "#0d0887"
             ],
             [
              0.1111111111111111,
              "#46039f"
             ],
             [
              0.2222222222222222,
              "#7201a8"
             ],
             [
              0.3333333333333333,
              "#9c179e"
             ],
             [
              0.4444444444444444,
              "#bd3786"
             ],
             [
              0.5555555555555556,
              "#d8576b"
             ],
             [
              0.6666666666666666,
              "#ed7953"
             ],
             [
              0.7777777777777778,
              "#fb9f3a"
             ],
             [
              0.8888888888888888,
              "#fdca26"
             ],
             [
              1,
              "#f0f921"
             ]
            ],
            "type": "histogram2dcontour"
           }
          ],
          "mesh3d": [
           {
            "colorbar": {
             "outlinewidth": 0,
             "ticks": ""
            },
            "type": "mesh3d"
           }
          ],
          "parcoords": [
           {
            "line": {
             "colorbar": {
              "outlinewidth": 0,
              "ticks": ""
             }
            },
            "type": "parcoords"
           }
          ],
          "pie": [
           {
            "automargin": true,
            "type": "pie"
           }
          ],
          "scatter": [
           {
            "fillpattern": {
             "fillmode": "overlay",
             "size": 10,
             "solidity": 0.2
            },
            "type": "scatter"
           }
          ],
          "scatter3d": [
           {
            "line": {
             "colorbar": {
              "outlinewidth": 0,
              "ticks": ""
             }
            },
            "marker": {
             "colorbar": {
              "outlinewidth": 0,
              "ticks": ""
             }
            },
            "type": "scatter3d"
           }
          ],
          "scattercarpet": [
           {
            "marker": {
             "colorbar": {
              "outlinewidth": 0,
              "ticks": ""
             }
            },
            "type": "scattercarpet"
           }
          ],
          "scattergeo": [
           {
            "marker": {
             "colorbar": {
              "outlinewidth": 0,
              "ticks": ""
             }
            },
            "type": "scattergeo"
           }
          ],
          "scattergl": [
           {
            "marker": {
             "colorbar": {
              "outlinewidth": 0,
              "ticks": ""
             }
            },
            "type": "scattergl"
           }
          ],
          "scattermapbox": [
           {
            "marker": {
             "colorbar": {
              "outlinewidth": 0,
              "ticks": ""
             }
            },
            "type": "scattermapbox"
           }
          ],
          "scatterpolar": [
           {
            "marker": {
             "colorbar": {
              "outlinewidth": 0,
              "ticks": ""
             }
            },
            "type": "scatterpolar"
           }
          ],
          "scatterpolargl": [
           {
            "marker": {
             "colorbar": {
              "outlinewidth": 0,
              "ticks": ""
             }
            },
            "type": "scatterpolargl"
           }
          ],
          "scatterternary": [
           {
            "marker": {
             "colorbar": {
              "outlinewidth": 0,
              "ticks": ""
             }
            },
            "type": "scatterternary"
           }
          ],
          "surface": [
           {
            "colorbar": {
             "outlinewidth": 0,
             "ticks": ""
            },
            "colorscale": [
             [
              0,
              "#0d0887"
             ],
             [
              0.1111111111111111,
              "#46039f"
             ],
             [
              0.2222222222222222,
              "#7201a8"
             ],
             [
              0.3333333333333333,
              "#9c179e"
             ],
             [
              0.4444444444444444,
              "#bd3786"
             ],
             [
              0.5555555555555556,
              "#d8576b"
             ],
             [
              0.6666666666666666,
              "#ed7953"
             ],
             [
              0.7777777777777778,
              "#fb9f3a"
             ],
             [
              0.8888888888888888,
              "#fdca26"
             ],
             [
              1,
              "#f0f921"
             ]
            ],
            "type": "surface"
           }
          ],
          "table": [
           {
            "cells": {
             "fill": {
              "color": "#EBF0F8"
             },
             "line": {
              "color": "white"
             }
            },
            "header": {
             "fill": {
              "color": "#C8D4E3"
             },
             "line": {
              "color": "white"
             }
            },
            "type": "table"
           }
          ]
         },
         "layout": {
          "annotationdefaults": {
           "arrowcolor": "#2a3f5f",
           "arrowhead": 0,
           "arrowwidth": 1
          },
          "autotypenumbers": "strict",
          "coloraxis": {
           "colorbar": {
            "outlinewidth": 0,
            "ticks": ""
           }
          },
          "colorscale": {
           "diverging": [
            [
             0,
             "#8e0152"
            ],
            [
             0.1,
             "#c51b7d"
            ],
            [
             0.2,
             "#de77ae"
            ],
            [
             0.3,
             "#f1b6da"
            ],
            [
             0.4,
             "#fde0ef"
            ],
            [
             0.5,
             "#f7f7f7"
            ],
            [
             0.6,
             "#e6f5d0"
            ],
            [
             0.7,
             "#b8e186"
            ],
            [
             0.8,
             "#7fbc41"
            ],
            [
             0.9,
             "#4d9221"
            ],
            [
             1,
             "#276419"
            ]
           ],
           "sequential": [
            [
             0,
             "#0d0887"
            ],
            [
             0.1111111111111111,
             "#46039f"
            ],
            [
             0.2222222222222222,
             "#7201a8"
            ],
            [
             0.3333333333333333,
             "#9c179e"
            ],
            [
             0.4444444444444444,
             "#bd3786"
            ],
            [
             0.5555555555555556,
             "#d8576b"
            ],
            [
             0.6666666666666666,
             "#ed7953"
            ],
            [
             0.7777777777777778,
             "#fb9f3a"
            ],
            [
             0.8888888888888888,
             "#fdca26"
            ],
            [
             1,
             "#f0f921"
            ]
           ],
           "sequentialminus": [
            [
             0,
             "#0d0887"
            ],
            [
             0.1111111111111111,
             "#46039f"
            ],
            [
             0.2222222222222222,
             "#7201a8"
            ],
            [
             0.3333333333333333,
             "#9c179e"
            ],
            [
             0.4444444444444444,
             "#bd3786"
            ],
            [
             0.5555555555555556,
             "#d8576b"
            ],
            [
             0.6666666666666666,
             "#ed7953"
            ],
            [
             0.7777777777777778,
             "#fb9f3a"
            ],
            [
             0.8888888888888888,
             "#fdca26"
            ],
            [
             1,
             "#f0f921"
            ]
           ]
          },
          "colorway": [
           "#636efa",
           "#EF553B",
           "#00cc96",
           "#ab63fa",
           "#FFA15A",
           "#19d3f3",
           "#FF6692",
           "#B6E880",
           "#FF97FF",
           "#FECB52"
          ],
          "font": {
           "color": "#2a3f5f"
          },
          "geo": {
           "bgcolor": "white",
           "lakecolor": "white",
           "landcolor": "#E5ECF6",
           "showlakes": true,
           "showland": true,
           "subunitcolor": "white"
          },
          "hoverlabel": {
           "align": "left"
          },
          "hovermode": "closest",
          "mapbox": {
           "style": "light"
          },
          "paper_bgcolor": "white",
          "plot_bgcolor": "#E5ECF6",
          "polar": {
           "angularaxis": {
            "gridcolor": "white",
            "linecolor": "white",
            "ticks": ""
           },
           "bgcolor": "#E5ECF6",
           "radialaxis": {
            "gridcolor": "white",
            "linecolor": "white",
            "ticks": ""
           }
          },
          "scene": {
           "xaxis": {
            "backgroundcolor": "#E5ECF6",
            "gridcolor": "white",
            "gridwidth": 2,
            "linecolor": "white",
            "showbackground": true,
            "ticks": "",
            "zerolinecolor": "white"
           },
           "yaxis": {
            "backgroundcolor": "#E5ECF6",
            "gridcolor": "white",
            "gridwidth": 2,
            "linecolor": "white",
            "showbackground": true,
            "ticks": "",
            "zerolinecolor": "white"
           },
           "zaxis": {
            "backgroundcolor": "#E5ECF6",
            "gridcolor": "white",
            "gridwidth": 2,
            "linecolor": "white",
            "showbackground": true,
            "ticks": "",
            "zerolinecolor": "white"
           }
          },
          "shapedefaults": {
           "line": {
            "color": "#2a3f5f"
           }
          },
          "ternary": {
           "aaxis": {
            "gridcolor": "white",
            "linecolor": "white",
            "ticks": ""
           },
           "baxis": {
            "gridcolor": "white",
            "linecolor": "white",
            "ticks": ""
           },
           "bgcolor": "#E5ECF6",
           "caxis": {
            "gridcolor": "white",
            "linecolor": "white",
            "ticks": ""
           }
          },
          "title": {
           "x": 0.05
          },
          "xaxis": {
           "automargin": true,
           "gridcolor": "white",
           "linecolor": "white",
           "ticks": "",
           "title": {
            "standoff": 15
           },
           "zerolinecolor": "white",
           "zerolinewidth": 2
          },
          "yaxis": {
           "automargin": true,
           "gridcolor": "white",
           "linecolor": "white",
           "ticks": "",
           "title": {
            "standoff": 15
           },
           "zerolinecolor": "white",
           "zerolinewidth": 2
          }
         }
        },
        "title": {
         "text": "MNAR - 0.5"
        },
        "xaxis": {
         "nticks": 36
        }
       }
      },
      "text/html": [
       "<div>                            <div id=\"ffe1598f-7b05-4b04-a2ff-49febace2293\" class=\"plotly-graph-div\" style=\"height:525px; width:100%;\"></div>            <script type=\"text/javascript\">                require([\"plotly\"], function(Plotly) {                    window.PLOTLYENV=window.PLOTLYENV || {};                                    if (document.getElementById(\"ffe1598f-7b05-4b04-a2ff-49febace2293\")) {                    Plotly.newPlot(                        \"ffe1598f-7b05-4b04-a2ff-49febace2293\",                        [{\"autocolorscale\":false,\"colorscale\":[[0.0,\"rgb(5,48,97)\"],[0.1,\"rgb(33,102,172)\"],[0.2,\"rgb(67,147,195)\"],[0.3,\"rgb(146,197,222)\"],[0.4,\"rgb(209,229,240)\"],[0.5,\"rgb(247,247,247)\"],[0.6,\"rgb(253,219,199)\"],[0.7,\"rgb(244,165,130)\"],[0.8,\"rgb(214,96,77)\"],[0.9,\"rgb(178,24,43)\"],[1.0,\"rgb(103,0,31)\"]],\"x\":[\"40677\",\"40677\",\"40677\",\"40677\",\"40677\",\"40677\",\"40497\",\"40497\",\"40497\",\"40497\",\"40497\",\"40497\",\"183\",\"183\",\"183\",\"183\",\"183\",\"183\",\"40498\",\"40498\",\"40498\",\"40498\",\"40498\",\"40498\",\"1526\",\"1526\",\"1526\",\"1526\",\"1526\",\"1526\",\"30\",\"30\",\"30\",\"30\",\"30\",\"30\",\"4552\",\"4552\",\"4552\",\"4552\",\"4552\",\"4552\",\"375\",\"375\",\"375\",\"375\",\"375\",\"375\",\"1459\",\"1459\",\"1459\",\"1459\",\"1459\",\"1459\",\"32\",\"32\",\"32\",\"32\",\"32\",\"26\",\"26\",\"26\",\"26\",\"26\",\"26\",\"41671\",\"41671\",\"41671\",\"6\",\"41671\",\"6\",\"41671\",\"6\",\"6\",\"6\",\"1481\",\"1481\",\"184\",\"184\",\"1481\",\"184\",\"184\",\"1481\",\"184\",\"1481\",\"1481\",\"184\",\"41027\",\"41027\",\"41027\",\"41027\",\"41027\",\"40685\",\"40685\",\"40685\",\"40685\",\"40685\"],\"y\":[\"Mean/Mode\",\"GAIN\",\"Random Forest\",\"Discriminative DL\",\"KNN\",\"VAE\",\"KNN\",\"Discriminative DL\",\"Mean/Mode\",\"VAE\",\"Random Forest\",\"GAIN\",\"KNN\",\"GAIN\",\"Random Forest\",\"Discriminative DL\",\"Mean/Mode\",\"VAE\",\"GAIN\",\"Mean/Mode\",\"Random Forest\",\"Discriminative DL\",\"VAE\",\"KNN\",\"Random Forest\",\"KNN\",\"Discriminative DL\",\"GAIN\",\"VAE\",\"Mean/Mode\",\"Random Forest\",\"Mean/Mode\",\"KNN\",\"GAIN\",\"VAE\",\"Discriminative DL\",\"KNN\",\"Random Forest\",\"GAIN\",\"Discriminative DL\",\"VAE\",\"Mean/Mode\",\"GAIN\",\"Discriminative DL\",\"VAE\",\"Random Forest\",\"KNN\",\"Mean/Mode\",\"KNN\",\"Random Forest\",\"VAE\",\"Discriminative DL\",\"GAIN\",\"Mean/Mode\",\"GAIN\",\"Mean/Mode\",\"KNN\",\"Random Forest\",\"VAE\",\"VAE\",\"Discriminative DL\",\"Mean/Mode\",\"KNN\",\"Random Forest\",\"GAIN\",\"KNN\",\"Random Forest\",\"VAE\",\"Random Forest\",\"Discriminative DL\",\"Mean/Mode\",\"Mean/Mode\",\"Discriminative DL\",\"VAE\",\"KNN\",\"Discriminative DL\",\"Mean/Mode\",\"Discriminative DL\",\"Random Forest\",\"Random Forest\",\"KNN\",\"Mean/Mode\",\"KNN\",\"VAE\",\"GAIN\",\"VAE\",\"GAIN\",\"VAE\",\"Discriminative DL\",\"Mean/Mode\",\"KNN\",\"Random Forest\",\"VAE\",\"Mean/Mode\",\"Discriminative DL\",\"Random Forest\",\"KNN\"],\"z\":[0.0204087944326209,-0.0506571211781943,-0.0171632991511639,-0.0127240737178367,-0.0052481859961738,0.0163391334041559,0.0,-0.0036490775823643,-0.022580177596262,-0.0378734559787318,0.0037898748251578,0.0,0.1436764449568032,0.2013568325371905,0.218313009319453,0.3032081824765095,0.1289363710881005,0.1304298539100976,0.1296385838093404,0.141513361207748,0.1927485853648463,0.3068323895078186,0.2922209642953114,0.2486370321911069,-0.0061362789621264,0.0013773349645146,0.1373329014739517,0.1470881161276114,0.1458104833193654,0.1604606764351043,0.0105194398167497,0.0038922210282265,0.0013123401245937,0.0011960120377571,0.0009533334237293,0.0,-0.0111326425281766,0.0061553650917674,0.0162315078407682,0.0419805904040561,0.0579186072898762,0.0632728521122936,-0.1294567842016509,0.070106598465631,0.0498511847819616,0.0325375692863524,0.0287643052305559,0.0172212819915554,0.329533400506751,0.330853393331063,0.3596988147736617,0.310368181536833,0.160782232190994,0.3157594482576852,0.0116702331510796,0.0982060218498672,0.117703817412625,0.2476360027400024,0.1787287004656373,0.0016034077422944,-0.0216403289520501,-0.0777968458505884,-0.0789498970703915,-0.0913296272313872,-0.1342379960709097,-0.0948869717318015,-0.093526281736492,-0.0918751968209688,0.0593118138481358,-0.0603376478111224,0.0674385643080751,-0.0884778065877967,0.0706771590056457,0.0721406072424435,0.0733695342554085,0.2308654238709655,0.2579800802257476,-0.1727663348071554,-0.0839213193002115,0.1363192721164337,-0.0770164034505304,-0.031600481489664,0.2271017804053826,-0.0016889167813151,0.1355689673438772,0.1033622657089551,-0.078125650563574,0.0244782208147796,0.0223260013848226,0.0115406089793659,0.0100658665006064,0.0175777601974662,0.0,0.0,0.0,-0.000611344427998,-0.0004066260970565],\"zmid\":0,\"type\":\"heatmap\"}],                        {\"template\":{\"data\":{\"histogram2dcontour\":[{\"type\":\"histogram2dcontour\",\"colorbar\":{\"outlinewidth\":0,\"ticks\":\"\"},\"colorscale\":[[0.0,\"#0d0887\"],[0.1111111111111111,\"#46039f\"],[0.2222222222222222,\"#7201a8\"],[0.3333333333333333,\"#9c179e\"],[0.4444444444444444,\"#bd3786\"],[0.5555555555555556,\"#d8576b\"],[0.6666666666666666,\"#ed7953\"],[0.7777777777777778,\"#fb9f3a\"],[0.8888888888888888,\"#fdca26\"],[1.0,\"#f0f921\"]]}],\"choropleth\":[{\"type\":\"choropleth\",\"colorbar\":{\"outlinewidth\":0,\"ticks\":\"\"}}],\"histogram2d\":[{\"type\":\"histogram2d\",\"colorbar\":{\"outlinewidth\":0,\"ticks\":\"\"},\"colorscale\":[[0.0,\"#0d0887\"],[0.1111111111111111,\"#46039f\"],[0.2222222222222222,\"#7201a8\"],[0.3333333333333333,\"#9c179e\"],[0.4444444444444444,\"#bd3786\"],[0.5555555555555556,\"#d8576b\"],[0.6666666666666666,\"#ed7953\"],[0.7777777777777778,\"#fb9f3a\"],[0.8888888888888888,\"#fdca26\"],[1.0,\"#f0f921\"]]}],\"heatmap\":[{\"type\":\"heatmap\",\"colorbar\":{\"outlinewidth\":0,\"ticks\":\"\"},\"colorscale\":[[0.0,\"#0d0887\"],[0.1111111111111111,\"#46039f\"],[0.2222222222222222,\"#7201a8\"],[0.3333333333333333,\"#9c179e\"],[0.4444444444444444,\"#bd3786\"],[0.5555555555555556,\"#d8576b\"],[0.6666666666666666,\"#ed7953\"],[0.7777777777777778,\"#fb9f3a\"],[0.8888888888888888,\"#fdca26\"],[1.0,\"#f0f921\"]]}],\"heatmapgl\":[{\"type\":\"heatmapgl\",\"colorbar\":{\"outlinewidth\":0,\"ticks\":\"\"},\"colorscale\":[[0.0,\"#0d0887\"],[0.1111111111111111,\"#46039f\"],[0.2222222222222222,\"#7201a8\"],[0.3333333333333333,\"#9c179e\"],[0.4444444444444444,\"#bd3786\"],[0.5555555555555556,\"#d8576b\"],[0.6666666666666666,\"#ed7953\"],[0.7777777777777778,\"#fb9f3a\"],[0.8888888888888888,\"#fdca26\"],[1.0,\"#f0f921\"]]}],\"contourcarpet\":[{\"type\":\"contourcarpet\",\"colorbar\":{\"outlinewidth\":0,\"ticks\":\"\"}}],\"contour\":[{\"type\":\"contour\",\"colorbar\":{\"outlinewidth\":0,\"ticks\":\"\"},\"colorscale\":[[0.0,\"#0d0887\"],[0.1111111111111111,\"#46039f\"],[0.2222222222222222,\"#7201a8\"],[0.3333333333333333,\"#9c179e\"],[0.4444444444444444,\"#bd3786\"],[0.5555555555555556,\"#d8576b\"],[0.6666666666666666,\"#ed7953\"],[0.7777777777777778,\"#fb9f3a\"],[0.8888888888888888,\"#fdca26\"],[1.0,\"#f0f921\"]]}],\"surface\":[{\"type\":\"surface\",\"colorbar\":{\"outlinewidth\":0,\"ticks\":\"\"},\"colorscale\":[[0.0,\"#0d0887\"],[0.1111111111111111,\"#46039f\"],[0.2222222222222222,\"#7201a8\"],[0.3333333333333333,\"#9c179e\"],[0.4444444444444444,\"#bd3786\"],[0.5555555555555556,\"#d8576b\"],[0.6666666666666666,\"#ed7953\"],[0.7777777777777778,\"#fb9f3a\"],[0.8888888888888888,\"#fdca26\"],[1.0,\"#f0f921\"]]}],\"mesh3d\":[{\"type\":\"mesh3d\",\"colorbar\":{\"outlinewidth\":0,\"ticks\":\"\"}}],\"scatter\":[{\"fillpattern\":{\"fillmode\":\"overlay\",\"size\":10,\"solidity\":0.2},\"type\":\"scatter\"}],\"parcoords\":[{\"type\":\"parcoords\",\"line\":{\"colorbar\":{\"outlinewidth\":0,\"ticks\":\"\"}}}],\"scatterpolargl\":[{\"type\":\"scatterpolargl\",\"marker\":{\"colorbar\":{\"outlinewidth\":0,\"ticks\":\"\"}}}],\"bar\":[{\"error_x\":{\"color\":\"#2a3f5f\"},\"error_y\":{\"color\":\"#2a3f5f\"},\"marker\":{\"line\":{\"color\":\"#E5ECF6\",\"width\":0.5},\"pattern\":{\"fillmode\":\"overlay\",\"size\":10,\"solidity\":0.2}},\"type\":\"bar\"}],\"scattergeo\":[{\"type\":\"scattergeo\",\"marker\":{\"colorbar\":{\"outlinewidth\":0,\"ticks\":\"\"}}}],\"scatterpolar\":[{\"type\":\"scatterpolar\",\"marker\":{\"colorbar\":{\"outlinewidth\":0,\"ticks\":\"\"}}}],\"histogram\":[{\"marker\":{\"pattern\":{\"fillmode\":\"overlay\",\"size\":10,\"solidity\":0.2}},\"type\":\"histogram\"}],\"scattergl\":[{\"type\":\"scattergl\",\"marker\":{\"colorbar\":{\"outlinewidth\":0,\"ticks\":\"\"}}}],\"scatter3d\":[{\"type\":\"scatter3d\",\"line\":{\"colorbar\":{\"outlinewidth\":0,\"ticks\":\"\"}},\"marker\":{\"colorbar\":{\"outlinewidth\":0,\"ticks\":\"\"}}}],\"scattermapbox\":[{\"type\":\"scattermapbox\",\"marker\":{\"colorbar\":{\"outlinewidth\":0,\"ticks\":\"\"}}}],\"scatterternary\":[{\"type\":\"scatterternary\",\"marker\":{\"colorbar\":{\"outlinewidth\":0,\"ticks\":\"\"}}}],\"scattercarpet\":[{\"type\":\"scattercarpet\",\"marker\":{\"colorbar\":{\"outlinewidth\":0,\"ticks\":\"\"}}}],\"carpet\":[{\"aaxis\":{\"endlinecolor\":\"#2a3f5f\",\"gridcolor\":\"white\",\"linecolor\":\"white\",\"minorgridcolor\":\"white\",\"startlinecolor\":\"#2a3f5f\"},\"baxis\":{\"endlinecolor\":\"#2a3f5f\",\"gridcolor\":\"white\",\"linecolor\":\"white\",\"minorgridcolor\":\"white\",\"startlinecolor\":\"#2a3f5f\"},\"type\":\"carpet\"}],\"table\":[{\"cells\":{\"fill\":{\"color\":\"#EBF0F8\"},\"line\":{\"color\":\"white\"}},\"header\":{\"fill\":{\"color\":\"#C8D4E3\"},\"line\":{\"color\":\"white\"}},\"type\":\"table\"}],\"barpolar\":[{\"marker\":{\"line\":{\"color\":\"#E5ECF6\",\"width\":0.5},\"pattern\":{\"fillmode\":\"overlay\",\"size\":10,\"solidity\":0.2}},\"type\":\"barpolar\"}],\"pie\":[{\"automargin\":true,\"type\":\"pie\"}]},\"layout\":{\"autotypenumbers\":\"strict\",\"colorway\":[\"#636efa\",\"#EF553B\",\"#00cc96\",\"#ab63fa\",\"#FFA15A\",\"#19d3f3\",\"#FF6692\",\"#B6E880\",\"#FF97FF\",\"#FECB52\"],\"font\":{\"color\":\"#2a3f5f\"},\"hovermode\":\"closest\",\"hoverlabel\":{\"align\":\"left\"},\"paper_bgcolor\":\"white\",\"plot_bgcolor\":\"#E5ECF6\",\"polar\":{\"bgcolor\":\"#E5ECF6\",\"angularaxis\":{\"gridcolor\":\"white\",\"linecolor\":\"white\",\"ticks\":\"\"},\"radialaxis\":{\"gridcolor\":\"white\",\"linecolor\":\"white\",\"ticks\":\"\"}},\"ternary\":{\"bgcolor\":\"#E5ECF6\",\"aaxis\":{\"gridcolor\":\"white\",\"linecolor\":\"white\",\"ticks\":\"\"},\"baxis\":{\"gridcolor\":\"white\",\"linecolor\":\"white\",\"ticks\":\"\"},\"caxis\":{\"gridcolor\":\"white\",\"linecolor\":\"white\",\"ticks\":\"\"}},\"coloraxis\":{\"colorbar\":{\"outlinewidth\":0,\"ticks\":\"\"}},\"colorscale\":{\"sequential\":[[0.0,\"#0d0887\"],[0.1111111111111111,\"#46039f\"],[0.2222222222222222,\"#7201a8\"],[0.3333333333333333,\"#9c179e\"],[0.4444444444444444,\"#bd3786\"],[0.5555555555555556,\"#d8576b\"],[0.6666666666666666,\"#ed7953\"],[0.7777777777777778,\"#fb9f3a\"],[0.8888888888888888,\"#fdca26\"],[1.0,\"#f0f921\"]],\"sequentialminus\":[[0.0,\"#0d0887\"],[0.1111111111111111,\"#46039f\"],[0.2222222222222222,\"#7201a8\"],[0.3333333333333333,\"#9c179e\"],[0.4444444444444444,\"#bd3786\"],[0.5555555555555556,\"#d8576b\"],[0.6666666666666666,\"#ed7953\"],[0.7777777777777778,\"#fb9f3a\"],[0.8888888888888888,\"#fdca26\"],[1.0,\"#f0f921\"]],\"diverging\":[[0,\"#8e0152\"],[0.1,\"#c51b7d\"],[0.2,\"#de77ae\"],[0.3,\"#f1b6da\"],[0.4,\"#fde0ef\"],[0.5,\"#f7f7f7\"],[0.6,\"#e6f5d0\"],[0.7,\"#b8e186\"],[0.8,\"#7fbc41\"],[0.9,\"#4d9221\"],[1,\"#276419\"]]},\"xaxis\":{\"gridcolor\":\"white\",\"linecolor\":\"white\",\"ticks\":\"\",\"title\":{\"standoff\":15},\"zerolinecolor\":\"white\",\"automargin\":true,\"zerolinewidth\":2},\"yaxis\":{\"gridcolor\":\"white\",\"linecolor\":\"white\",\"ticks\":\"\",\"title\":{\"standoff\":15},\"zerolinecolor\":\"white\",\"automargin\":true,\"zerolinewidth\":2},\"scene\":{\"xaxis\":{\"backgroundcolor\":\"#E5ECF6\",\"gridcolor\":\"white\",\"linecolor\":\"white\",\"showbackground\":true,\"ticks\":\"\",\"zerolinecolor\":\"white\",\"gridwidth\":2},\"yaxis\":{\"backgroundcolor\":\"#E5ECF6\",\"gridcolor\":\"white\",\"linecolor\":\"white\",\"showbackground\":true,\"ticks\":\"\",\"zerolinecolor\":\"white\",\"gridwidth\":2},\"zaxis\":{\"backgroundcolor\":\"#E5ECF6\",\"gridcolor\":\"white\",\"linecolor\":\"white\",\"showbackground\":true,\"ticks\":\"\",\"zerolinecolor\":\"white\",\"gridwidth\":2}},\"shapedefaults\":{\"line\":{\"color\":\"#2a3f5f\"}},\"annotationdefaults\":{\"arrowcolor\":\"#2a3f5f\",\"arrowhead\":0,\"arrowwidth\":1},\"geo\":{\"bgcolor\":\"white\",\"landcolor\":\"#E5ECF6\",\"subunitcolor\":\"white\",\"showland\":true,\"showlakes\":true,\"lakecolor\":\"white\"},\"title\":{\"x\":0.05},\"mapbox\":{\"style\":\"light\"}}},\"xaxis\":{\"nticks\":36},\"title\":{\"text\":\"MNAR - 0.5\"}},                        {\"responsive\": true}                    ).then(function(){\n",
       "                            \n",
       "var gd = document.getElementById('ffe1598f-7b05-4b04-a2ff-49febace2293');\n",
       "var x = new MutationObserver(function (mutations, observer) {{\n",
       "        var display = window.getComputedStyle(gd).display;\n",
       "        if (!display || display === 'none') {{\n",
       "            console.log([gd, 'removed!']);\n",
       "            Plotly.purge(gd);\n",
       "            observer.disconnect();\n",
       "        }}\n",
       "}});\n",
       "\n",
       "// Listen for the removal of the full notebook cells\n",
       "var notebookContainer = gd.closest('#notebook-container');\n",
       "if (notebookContainer) {{\n",
       "    x.observe(notebookContainer, {childList: true});\n",
       "}}\n",
       "\n",
       "// Listen for the clearing of the current output cell\n",
       "var outputEl = gd.closest('.output');\n",
       "if (outputEl) {{\n",
       "    x.observe(outputEl, {childList: true});\n",
       "}}\n",
       "\n",
       "                        })                };                });            </script>        </div>"
      ]
     },
     "metadata": {},
     "output_type": "display_data"
    }
   ],
   "source": [
    "# Get a dataframe for each \"Data_Constellation\"\n",
    "# Hier mit Variablen arbeiten -> Liste mit Konstellationen\n",
    "\n",
    "# Hier eventuell for schleife, etc\n",
    "\n",
    "\n",
    "# drop unneccessary columns\n",
    "\n",
    "#df_heat = downstream_results_rank\n",
    "#df_heat.drop([\"Missing Type\", \"Missing Fraction\", \"Column\", \"result_type\", \"metric\", \"Baseline\", \"Imputed\", \"Corrupted\", \"Unnamed: 0\", \"Unnamed: 0\", \"name\", \"NumberOfClasses\", \"MajorityClassSize\", \"MinorityClassSize\"], axis=1, inplace=True)\n",
    "\n",
    "#df_heat['Improvement'] = df_heat['Improvement']\n",
    "df_heat = df_heat.astype({\"Task\":\"string\"})\n",
    "\n",
    "#mar001.drop([\"Missing Type\", \"Missing Fraction\", \"Column\", \"result_type\", \"metric\", \"Baseline\", \"Imputed\", \"Corrupted\", \"Unnamed: 0\"], axis=1, inplace=True)\n",
    "\n",
    "data_constellations = ['MAR - 0.01', 'MAR - 0.1', 'MAR - 0.3', 'MCAR - 0.5', 'MCAR - 0.01', 'MCAR - 0.1', 'MCAR - 0.3', 'MCAR - 0.5', 'MNAR - 0.01', 'MNAR - 0.1', 'MNAR - 0.3', 'MNAR - 0.5']\n",
    "\n",
    "\n",
    "for i in data_constellations:\n",
    "    data_constel = df_heat.loc[df_heat['Data_Constellation'] == i]\n",
    "\n",
    "    ### uncomment whatever you want to investigate\n",
    "\n",
    "    ## sort by amount datapoints (ascending)\n",
    "    data_constel = data_constel.sort_values(by=['NumberOfInstances'])\n",
    "\n",
    "    ## sort by amount of features (ascending)\n",
    "    #data_constel = data_constel.sort_values(by=['NumberOfFeatures'])\n",
    "\n",
    "    ## sort by amount of datapoints and features (ascending)\n",
    "    #data_constel = data_constel.sort_values(by=['NumberOfInstances', 'NumberOfFeatures'])\n",
    "\n",
    "    ## sort by amount of categorical features and datapoints (ascending)\n",
    "    #data_constel = data_constel.sort_values(by=['NumberOfCategoricalFeatures', 'NumberOfInstances'])\n",
    "\n",
    "    ## sort by amount of numerical features and datapoints (ascending)\n",
    "    #data_constel = data_constel.sort_values(by=['NumberOfNumericFeatures', 'NumberOfInstances'])\n",
    "    \n",
    "    Dataset_number = data_constel[\"Task\"]\n",
    "    Imputation_Method = data_constel[\"Imputation_Method\"]\n",
    "    Improvement = data_constel[\"Improvement\"]\n",
    "    \n",
    "\n",
    "    trace = go.Heatmap(\n",
    "                   z=Improvement,\n",
    "                   x=Dataset_number,\n",
    "                   y=Imputation_Method,\n",
    "                   type = 'heatmap',\n",
    "                    autocolorscale= False,\n",
    "                    colorscale = 'RdBu_r',\n",
    "                    zmid=0,\n",
    "                    #hoverinfo='text',\n",
    "                    #text=hovertext\n",
    "                    )\n",
    "    data = [trace]\n",
    "    fig = go.Figure(data=data)\n",
    "    fig.update_layout(\n",
    "        title=i,\n",
    "        xaxis_nticks=36)\n",
    "    fig.show()\n",
    "\n"
   ]
  },
  {
   "cell_type": "code",
   "execution_count": 164,
   "id": "8b28f780",
   "metadata": {
    "scrolled": false
   },
   "outputs": [
    {
     "data": {
      "text/plain": [
       "'\\nplt.subplots(figsize=(50,10))\\nsns.set()\\n\\nheatmap_mar001 = mar001.pivot(\"Imputation_Method\", \"Task\", \"Improvement\")\\nax = sns.heatmap(heatmap_mar001, annot=True, vmin=-0.1, vmax=0.2)\\n#ax = sns.heatmap(mar001, annot=True, vmin=-0.3, vmax=0.3)\\n#plt.subplots(figsize=(50,50))\\ntitle = mar001.iloc[2][\\'Data_Constellation\\']\\nprint(title)\\nplt.title(title)\\nplt.show()\\n'"
      ]
     },
     "execution_count": 164,
     "metadata": {},
     "output_type": "execute_result"
    }
   ],
   "source": [
    "# Seaborn heatmap\n",
    "'''\n",
    "plt.subplots(figsize=(50,10))\n",
    "sns.set()\n",
    "\n",
    "heatmap_mar001 = mar001.pivot(\"Imputation_Method\", \"Task\", \"Improvement\")\n",
    "ax = sns.heatmap(heatmap_mar001, annot=True, vmin=-0.1, vmax=0.2)\n",
    "#ax = sns.heatmap(mar001, annot=True, vmin=-0.3, vmax=0.3)\n",
    "#plt.subplots(figsize=(50,50))\n",
    "title = mar001.iloc[2]['Data_Constellation']\n",
    "print(title)\n",
    "plt.title(title)\n",
    "plt.show()\n",
    "'''"
   ]
  },
  {
   "cell_type": "markdown",
   "id": "6d3bc6d9",
   "metadata": {},
   "source": [
    "## Plotly Heatmaps Tests"
   ]
  },
  {
   "cell_type": "code",
   "execution_count": 165,
   "id": "ab868033",
   "metadata": {
    "scrolled": true
   },
   "outputs": [],
   "source": [
    "#heatmap_mar001.head()\n"
   ]
  },
  {
   "cell_type": "code",
   "execution_count": null,
   "id": "c445ab1c",
   "metadata": {},
   "outputs": [],
   "source": [
    "\n",
    "\n"
   ]
  },
  {
   "cell_type": "code",
   "execution_count": 166,
   "id": "09e2324a",
   "metadata": {},
   "outputs": [
    {
     "data": {
      "text/plain": [
       "'\\n#plotly express test\\n\\nfig = px.imshow(heatmap_mar001, text_auto = True, \\n                labels=dict(x=\"Task\", y=\"Imputation_Method\", color=\"Improvement\"),\\n                color_continuous_scale=\\'RdBu_r\\', color_continuous_midpoint=0)\\n'"
      ]
     },
     "execution_count": 166,
     "metadata": {},
     "output_type": "execute_result"
    }
   ],
   "source": [
    "#testmar001 = xr.tutorial.open_dataset('air_temperature').air.sel(lon=250.0)\n",
    "\n",
    "'''\n",
    "#plotly express test\n",
    "\n",
    "fig = px.imshow(heatmap_mar001, text_auto = True, \n",
    "                labels=dict(x=\"Task\", y=\"Imputation_Method\", color=\"Improvement\"),\n",
    "                color_continuous_scale='RdBu_r', color_continuous_midpoint=0)\n",
    "'''"
   ]
  },
  {
   "cell_type": "code",
   "execution_count": 167,
   "id": "da97dd25",
   "metadata": {},
   "outputs": [
    {
     "ename": "NameError",
     "evalue": "name 'mar001' is not defined",
     "output_type": "error",
     "traceback": [
      "\u001b[1;31m---------------------------------------------------------------------------\u001b[0m",
      "\u001b[1;31mNameError\u001b[0m                                 Traceback (most recent call last)",
      "Cell \u001b[1;32mIn[167], line 20\u001b[0m\n\u001b[0;32m      1\u001b[0m \u001b[38;5;66;03m### uncomment whatever you want to investigate\u001b[39;00m\n\u001b[0;32m      2\u001b[0m \n\u001b[0;32m      3\u001b[0m \u001b[38;5;66;03m## sort by amount datapoints (ascending)\u001b[39;00m\n\u001b[1;32m   (...)\u001b[0m\n\u001b[0;32m     15\u001b[0m \u001b[38;5;66;03m## sort by amount of numerical features and datapoints (ascending)\u001b[39;00m\n\u001b[0;32m     16\u001b[0m \u001b[38;5;66;03m#mar001 = mar001.sort_values(by=['NumberOfNumericFeatures', 'NumberOfInstances'])\u001b[39;00m\n\u001b[1;32m---> 20\u001b[0m mar001 \u001b[38;5;241m=\u001b[39m \u001b[43mmar001\u001b[49m\u001b[38;5;241m.\u001b[39mastype({\u001b[38;5;124m\"\u001b[39m\u001b[38;5;124mTask\u001b[39m\u001b[38;5;124m\"\u001b[39m:\u001b[38;5;124m\"\u001b[39m\u001b[38;5;124mstring\u001b[39m\u001b[38;5;124m\"\u001b[39m})\n\u001b[0;32m     22\u001b[0m Dataset_number \u001b[38;5;241m=\u001b[39m mar001[\u001b[38;5;124m\"\u001b[39m\u001b[38;5;124mTask\u001b[39m\u001b[38;5;124m\"\u001b[39m]\n\u001b[0;32m     23\u001b[0m Imputation_Method \u001b[38;5;241m=\u001b[39m mar001[\u001b[38;5;124m\"\u001b[39m\u001b[38;5;124mImputation_Method\u001b[39m\u001b[38;5;124m\"\u001b[39m]\n",
      "\u001b[1;31mNameError\u001b[0m: name 'mar001' is not defined"
     ]
    }
   ],
   "source": [
    "### uncomment whatever you want to investigate\n",
    "\n",
    "## sort by amount datapoints (ascending)\n",
    "#mar001 = mar001.sort_values(by=['NumberOfInstances'])\n",
    "\n",
    "## sort by amount of features (ascending)\n",
    "#mar001 = mar001.sort_values(by=['NumberOfFeatures'])\n",
    "\n",
    "## sort by amount of datapoints and features (ascending)\n",
    "#mar001 = mar001.sort_values(by=['NumberOfInstances', 'NumberOfFeatures'])\n",
    "\n",
    "## sort by amount of categorical features and datapoints (ascending)\n",
    "#mar001 = mar001.sort_values(by=['NumberOfCategoricalFeatures', 'NumberOfInstances'])\n",
    "\n",
    "## sort by amount of numerical features and datapoints (ascending)\n",
    "#mar001 = mar001.sort_values(by=['NumberOfNumericFeatures', 'NumberOfInstances'])\n",
    "\n",
    "\n",
    "\n",
    "mar001 = mar001.astype({\"Task\":\"string\"})\n",
    "\n",
    "Dataset_number = mar001[\"Task\"]\n",
    "Imputation_Method = mar001[\"Imputation_Method\"]\n",
    "Improvement = mar001[\"Improvement\"]\n",
    "\n",
    "\n"
   ]
  },
  {
   "cell_type": "code",
   "execution_count": null,
   "id": "5b8d5768",
   "metadata": {},
   "outputs": [],
   "source": [
    "trace = go.Heatmap(\n",
    "                   z=Improvement,\n",
    "                   x=Dataset_number,\n",
    "                   y=Imputation_Method,\n",
    "                   type = 'heatmap',\n",
    "                    autocolorscale= False,\n",
    "                    colorscale = 'RdBu_r',\n",
    "                    zmid=0,\n",
    "                    hoverinfo='text',\n",
    "                    text=hovertext\n",
    "                    )\n",
    "\n",
    "\n",
    "\n",
    "\n",
    "data = [trace]\n",
    "fig = go.Figure(data=data)\n",
    "#iplot(fig)\n",
    "\n",
    "\n",
    "fig.show()"
   ]
  },
  {
   "cell_type": "markdown",
   "id": "6f414685",
   "metadata": {},
   "source": [
    "ToDo´s für Darstellung:\n",
    "- Optionen für einfache Anpassung bei der Sortierung/Darstellung:\n",
    "    - Anzahl Datenpunkte\n",
    "    - Anzahl Features\n",
    "    - Anzahl numerische Features\n",
    "    - Anzahl kategorische Features\n",
    "- Schleife aufsetzen für alle Datenkonstellationen (nicht hart kodieren)\n",
    "- Jeweils beste Imputationsmethode je Datensatz nochmals separat in Heatmap\n",
    "\n",
    "\n",
    "\n",
    "ToDo´s für restliche Auswertung (Mathematische Part)\n",
    "- Beste Imp-Methode je Datensatz ermitteln (-> via Ranking am besten, je Konstellation (Bsp. MAR 0.01)\n",
    "- durchschnittliche Platzierung jeder Imp-Methode ermitteln (Ranking -> dann je Konstellation (Bsp. MAR 0.01)\n",
    "- Beste Imp je Datensatz mit durchschnittlich bester Imp vergleichen (Liste mit beste Imp & Liste mit Durchschn. Imp -> VGL)\n",
    "(jede Konstellation genau einmal in jeder Liste)\n",
    "\n",
    "\n",
    "\n",
    "Sonstiges (keine Prio)\n",
    "- Optionen für Filterung (bei Beadrf umsetzen -> vorerst keine Priorität!)\n",
    "    - Numerisches Feature wurde imputiert\n",
    "    - Kategorisches Feature wurde imputiert"
   ]
  },
  {
   "cell_type": "code",
   "execution_count": null,
   "id": "2511f0b0",
   "metadata": {},
   "outputs": [],
   "source": []
  },
  {
   "cell_type": "code",
   "execution_count": null,
   "id": "e6f3ba91",
   "metadata": {},
   "outputs": [],
   "source": []
  },
  {
   "cell_type": "markdown",
   "id": "artistic-gnome",
   "metadata": {},
   "source": [
    "## Application Scenario 2 - Downstream Performance"
   ]
  },
  {
   "cell_type": "markdown",
   "id": "trained-bloom",
   "metadata": {},
   "source": [
    "### Categorical  Columns (Classification)"
   ]
  },
  {
   "cell_type": "code",
   "execution_count": null,
   "id": "split-chinese",
   "metadata": {},
   "outputs": [],
   "source": [
    "'''\n",
    "draw_cat_box_plot(\n",
    "    downstream_results,\n",
    "    \"Improvement\",\n",
    "    (-0.15, 0.3),\n",
    "    FIGURES_PATH,\n",
    "    \"fully_observed_downstream_boxplot.eps\",\n",
    "    hue_order=list(rename_imputer_dict.values()),\n",
    "    row_order=list(rename_metric_dict.values())\n",
    ")\n",
    "'''\n",
    "# Not used at the moment -> function from other file required, check first field"
   ]
  },
  {
   "cell_type": "code",
   "execution_count": null,
   "id": "uniform-baptist",
   "metadata": {},
   "outputs": [],
   "source": []
  },
  {
   "cell_type": "code",
   "execution_count": null,
   "id": "standing-recycling",
   "metadata": {},
   "outputs": [],
   "source": []
  }
 ],
 "metadata": {
  "kernelspec": {
   "display_name": "Python 3 (ipykernel)",
   "language": "python",
   "name": "python3"
  },
  "language_info": {
   "codemirror_mode": {
    "name": "ipython",
    "version": 3
   },
   "file_extension": ".py",
   "mimetype": "text/x-python",
   "name": "python",
   "nbconvert_exporter": "python",
   "pygments_lexer": "ipython3",
   "version": "3.10.9"
  }
 },
 "nbformat": 4,
 "nbformat_minor": 5
}
